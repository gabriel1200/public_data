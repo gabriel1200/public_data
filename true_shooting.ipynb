{
 "cells": [
  {
   "cell_type": "code",
   "execution_count": 1,
   "id": "e8644fd5-5465-4b04-b43c-ae5a3fcc4771",
   "metadata": {},
   "outputs": [
    {
     "data": {
      "text/html": [
       "        <script type=\"text/javascript\">\n",
       "        window.PlotlyConfig = {MathJaxConfig: 'local'};\n",
       "        if (window.MathJax && window.MathJax.Hub && window.MathJax.Hub.Config) {window.MathJax.Hub.Config({SVG: {font: \"STIX-Web\"}});}\n",
       "        if (typeof require !== 'undefined') {\n",
       "        require.undef(\"plotly\");\n",
       "        requirejs.config({\n",
       "            paths: {\n",
       "                'plotly': ['https://cdn.plot.ly/plotly-2.14.0.min']\n",
       "            }\n",
       "        });\n",
       "        require(['plotly'], function(Plotly) {\n",
       "            window._Plotly = Plotly;\n",
       "        });\n",
       "        }\n",
       "        </script>\n",
       "        "
      ]
     },
     "metadata": {},
     "output_type": "display_data"
    }
   ],
   "source": [
    "import pandas as pd\n",
    "\n",
    "import plotly.express as px\n",
    "import plotly\n",
    "plotly.offline.init_notebook_mode(connected=True)\n",
    "import plotly.graph_objects as go"
   ]
  },
  {
   "cell_type": "code",
   "execution_count": 2,
   "id": "8da5d690-149a-49dd-9666-f98f560a2c8f",
   "metadata": {},
   "outputs": [],
   "source": [
    "import chart_studio.plotly as py\n",
    "import chart_studio.tools as tls\n",
    "from ipywidgets import interactive, HBox, VBox\n",
    "\n"
   ]
  },
  {
   "cell_type": "code",
   "execution_count": 3,
   "id": "aec5ea31-93e7-4ec0-9484-7228526bb788",
   "metadata": {},
   "outputs": [],
   "source": [
    "import sys\n",
    "import pandas as pd\n",
    "\n",
    "    \n",
    "def get_table():\n",
    "    link_1 ='https://raw.github.ibm.com/Gabriel-Guzman/public_data/main/data.csv?token=AAB7454K3FG3ASXBNVYMF5DC7ZZ7U'\n",
    "    link_2 = 'https://raw.github.ibm.com/Gabriel-Guzman/public_data/main/advanced.csv?token=AAB7455ZWGH4T2FEVZW3ZSDC7ZZYW'\n",
    "    df = pd.read_csv(link_1)\n",
    "    df_2 = pd.read_csv(link_2)\n",
    "    final_df = df.merge(df_2)\n",
    "    final_df = final_df[final_df['MP'] >700]\n",
    "    print(final_df['TS%'].min())\n",
    "    print(final_df['TS%'].max())    \n",
    "    final_df = final_df.drop(columns = ['Unnamed: 24','Unnamed: 29','Unnamed: 19'])\n",
    "    final_df = final_df.drop_duplicates(subset = ['Player'])\n",
    "    send_df = final_df[['Player','TS%','PTS','MP','Tm']]\n",
    "    return send_df\n",
    "    \n",
    "def main(my_dict):\n",
    "    team = my_dict['team']\n",
    "    df = get_table()\n",
    "    return df.to_dict()\n"
   ]
  },
  {
   "cell_type": "code",
   "execution_count": 4,
   "id": "269e571d-cec6-431a-b865-8752fc4b57bc",
   "metadata": {},
   "outputs": [],
   "source": [
    "my_dict = {\"__ow_headers\":{\"accept\":\"application/json\",\"accept-encoding\":\"gzip, deflate\",\"content-type\":\"application/json\",\"cookie\":\"dtCookie=v_4_srv_1_sn_9F28C6E505BB8BBFF658B23EF28F0194_perc_100000_ol_0_mul_1_app-3Aea7c4b59f27d43eb_1_rcs-3Acss_0\",\"host\":\"us-south.functions.appdomain.cloud\",\"user-agent\":\"Watson Assistant Service\",\"x-forwarded-for\":\"172.69.70.135\",\"x-forwarded-host\":\"us-south.functions.appdomain.cloud\",\"x-forwarded-port\":\"443\",\"x-forwarded-proto\":\"https\",\"x-forwarded-scheme\":\"https\",\"x-global-transaction-id\":\"43795378-c04a-451d-9b8b-f467983d966f\",\"x-real-ip\":\"172.69.70.135\",\"x-request-id\":\"aea2bba860e6b6a170b222b7dc91be49\",\"x-scheme\":\"https\",\"x-watson-conversation-id\":\"ef93964e-67d3-4ba4-a026-aeef2495b580\",\"x-watson-origin\":\"Watson Assistant Service\",\"x-watson-session-id\":\"ef93964e-67d3-4ba4-a026-aeef2495b580\",\"x-watson-skill-id\":\"cf9780c5-7ab6-47a0-af37-9770f16022c8\",\"x-watson-userinfo\":\"watson_service=Watson Assistant Service; workspace_id=cf9780c5-7ab6-47a0-af37-9770f16022c8; transaction_id=43795378-c04a-451d-9b8b-f467983d966f\",\"x-watson-webhook-source-workspace\":\"cf9780c5-7ab6-47a0-af37-9770f16022c8\"},\"__ow_method\":\"post\",\"__ow_path\":\"\",\"team\":\"GSW\"}"
   ]
  },
  {
   "cell_type": "code",
   "execution_count": 5,
   "id": "bfc4c0d4-3610-4f4a-b168-f075e306353e",
   "metadata": {},
   "outputs": [
    {
     "name": "stdout",
     "output_type": "stream",
     "text": [
      "0.455\n",
      "0.745\n"
     ]
    }
   ],
   "source": [
    "df = get_table()\n",
    "teams = list(df['Tm'].unique())"
   ]
  },
  {
   "cell_type": "code",
   "execution_count": 6,
   "id": "b78e38be-e8ac-4cc3-bb8f-ae2b0f9517d9",
   "metadata": {},
   "outputs": [
    {
     "data": {
      "text/plain": [
       "['TOR',\n",
       " 'MEM',\n",
       " 'MIA',\n",
       " 'BRK',\n",
       " 'TOT',\n",
       " 'MIL',\n",
       " 'CLE',\n",
       " 'NOP',\n",
       " 'LAL',\n",
       " 'ORL',\n",
       " 'WAS',\n",
       " 'PHO',\n",
       " 'CHO',\n",
       " 'CHI',\n",
       " 'SAC',\n",
       " 'NYK',\n",
       " 'DEN',\n",
       " 'SAS',\n",
       " 'LAC',\n",
       " 'OKC',\n",
       " 'MIN',\n",
       " 'DET',\n",
       " 'IND',\n",
       " 'GSW',\n",
       " 'ATL',\n",
       " 'UTA',\n",
       " 'BOS',\n",
       " 'DAL',\n",
       " 'HOU',\n",
       " 'POR',\n",
       " 'PHI']"
      ]
     },
     "execution_count": 6,
     "metadata": {},
     "output_type": "execute_result"
    }
   ],
   "source": [
    "teams"
   ]
  },
  {
   "cell_type": "code",
   "execution_count": 7,
   "id": "ac3aff96-edb4-4490-9a5e-a4cdbacdf5ad",
   "metadata": {},
   "outputs": [],
   "source": [
    "my_list = []\n",
    "i = 0\n",
    "length = len(teams)\n",
    "seen = [False for i in range(length+ 1) ]\n",
    "\n",
    "seen[i] = True\n",
    "my_list.append(dict(label = 'all_teams',\n",
    "\n",
    "                  args = [{'visible':[i for i in seen]},\n",
    "                          {'title': 'all_teams',\n",
    "                           'showlegend':False}]))\n",
    "seen[i] = False\n",
    "i +=1\n",
    "for team in teams:\n",
    "    #print(i)\n",
    "    df_team = df[df['Tm'] == team]\n",
    "    seen[i] = True\n",
    "    \n",
    "    my_list.append(dict(label = team,\n",
    "                  method = 'update',\n",
    "\n",
    "                  args = [{'visible':[i for i in seen]},\n",
    "                          {'title': team,\n",
    "                           'showlegend':False}]))\n",
    "    seen[i] = False\n",
    "    i+=1\n"
   ]
  },
  {
   "cell_type": "code",
   "execution_count": 8,
   "id": "dd94bdae-f8ec-4f43-8c9f-75b00856c498",
   "metadata": {
    "tags": []
   },
   "outputs": [],
   "source": [
    "df['PTS'].max()\n",
    "\n",
    "df['TS%'] *= 100"
   ]
  },
  {
   "cell_type": "code",
   "execution_count": 13,
   "id": "f9638bef-86ef-45b8-98fe-8dadcce7837f",
   "metadata": {
    "tags": []
   },
   "outputs": [
    {
     "data": {
      "application/vnd.plotly.v1+json": {
       "config": {
        "plotlyServerURL": "https://plot.ly"
       },
       "data": [
        {
         "hovertemplate": "<b>%{text}</b><br><i>Points per 75</i>: %{x:.2f}<br>True Shooting: %{y}",
         "marker": {
          "autocolorscale": true,
          "cmax": 74.5,
          "cmin": 45.5,
          "color": [
           50.3,
           56.00000000000001,
           60.8,
           60.4,
           47.5,
           60.9,
           69.8,
           52,
           50.6,
           63.3,
           57.9,
           51.9,
           54.900000000000006,
           61,
           53.6,
           65.60000000000001,
           55.1,
           55.400000000000006,
           57.49999999999999,
           58.199999999999996,
           59.199999999999996,
           62.3,
           55.2,
           51.1,
           54.800000000000004,
           57.8,
           60.8,
           51.5,
           53.900000000000006,
           54.400000000000006,
           60.099999999999994,
           53.1,
           53.900000000000006,
           52.900000000000006,
           53.400000000000006,
           59.5,
           57.3,
           51.4,
           56.2,
           59.9,
           57.599999999999994,
           48.1,
           56.99999999999999,
           55.00000000000001,
           62.7,
           59.3,
           53,
           55.7,
           48.3,
           51.5,
           57.49999999999999,
           57.4,
           52.5,
           58.3,
           55.800000000000004,
           55.900000000000006,
           59.199999999999996,
           56.8,
           50.3,
           60.4,
           53.1,
           60.099999999999994,
           52.800000000000004,
           53.400000000000006,
           66,
           53.2,
           67.2,
           59.8,
           61,
           57.199999999999996,
           62,
           56.699999999999996,
           57.199999999999996,
           55.60000000000001,
           54.1,
           50.4,
           61.5,
           60.099999999999994,
           57.8,
           63.2,
           59,
           54.1,
           54.300000000000004,
           51,
           57.099999999999994,
           54.1,
           59.599999999999994,
           57.4,
           53.7,
           63.4,
           56.00000000000001,
           51.6,
           49.1,
           59.3,
           61.6,
           63.800000000000004,
           60.4,
           57.4,
           55.400000000000006,
           55.400000000000006,
           54.900000000000006,
           70.8,
           57.9,
           57.599999999999994,
           53.900000000000006,
           53.800000000000004,
           60.6,
           47.8,
           55.7,
           73.2,
           60.199999999999996,
           61.4,
           51.4,
           55.60000000000001,
           56.10000000000001,
           58.199999999999996,
           54.7,
           58.699999999999996,
           63.7,
           62.7,
           57.8,
           51.800000000000004,
           56.49999999999999,
           57.9,
           59.5,
           48.1,
           52,
           58.3,
           56.10000000000001,
           68,
           57.099999999999994,
           56.599999999999994,
           61,
           66.4,
           68,
           46.1,
           56.99999999999999,
           58.199999999999996,
           56.10000000000001,
           54.800000000000004,
           55.2,
           54.400000000000006,
           59.3,
           54.300000000000004,
           68.89999999999999,
           49.3,
           57.4,
           50.3,
           55.50000000000001,
           65.7,
           56.99999999999999,
           54.7,
           55.800000000000004,
           57.9,
           55.1,
           55.400000000000006,
           59.199999999999996,
           53,
           53.5,
           49.1,
           48.8,
           61.9,
           48.8,
           62.5,
           51.300000000000004,
           57.4,
           56.39999999999999,
           66.10000000000001,
           70.1,
           63.3,
           57.3,
           54.50000000000001,
           54.400000000000006,
           57.9,
           61.9,
           58.599999999999994,
           53.7,
           61.5,
           50.2,
           60,
           54.7,
           52.1,
           52,
           60.5,
           56.10000000000001,
           52.5,
           55.00000000000001,
           57.49999999999999,
           58.599999999999994,
           59.4,
           60,
           58.8,
           50,
           57.199999999999996,
           50.1,
           58.199999999999996,
           50.5,
           61.1,
           57.9,
           60.3,
           60.199999999999996,
           53.6,
           59.4,
           55.300000000000004,
           55.300000000000004,
           59.5,
           59.3,
           65.10000000000001,
           57.699999999999996,
           53.5,
           56.699999999999996,
           52.900000000000006,
           54.6,
           57.699999999999996,
           56.3,
           51.7,
           48.9,
           57.199999999999996,
           54.900000000000006,
           59.699999999999996,
           57.49999999999999,
           54.900000000000006,
           58.3,
           55.800000000000004,
           53.300000000000004,
           50.9,
           59,
           53.800000000000004,
           59.4,
           58.099999999999994,
           58.599999999999994,
           50.6,
           60.8,
           50.1,
           71.39999999999999,
           58.9,
           56.10000000000001,
           56.3,
           56.00000000000001,
           61.199999999999996,
           58.099999999999994,
           50,
           67.9,
           60.3,
           61.3,
           48.5,
           59.8,
           53.1,
           58.099999999999994,
           57.099999999999994,
           57.699999999999996,
           72.5,
           60.3,
           48.699999999999996,
           58.9,
           57.8,
           54.300000000000004,
           50.9,
           60,
           54.300000000000004,
           58.8,
           57.3,
           54.6,
           57.3,
           72.2,
           52.6,
           60.699999999999996,
           51.5,
           56.599999999999994,
           48.8,
           54.400000000000006,
           63.7,
           46.1,
           53.900000000000006,
           55.2,
           55.00000000000001,
           56.49999999999999,
           58.3,
           54,
           46.5,
           59.5,
           54.1,
           53.6,
           54.400000000000006,
           55.00000000000001,
           61.4,
           45.5,
           56.699999999999996,
           57.8,
           65.60000000000001,
           49.4,
           59.5,
           51.9,
           54.7,
           54.1,
           59.4,
           51,
           61.4,
           56.10000000000001,
           64,
           54.6,
           59.3,
           61.5,
           61.7,
           61.199999999999996,
           55.2,
           54,
           55.1,
           53.300000000000004,
           58.4,
           55.900000000000006,
           62.3,
           53.7,
           51.2,
           52.1,
           58.8,
           59,
           51.2,
           56.39999999999999,
           54.900000000000006,
           66.2,
           55.60000000000001,
           56.00000000000001,
           63.5,
           53.2,
           50,
           74.5,
           55.900000000000006,
           47.9,
           59.5,
           57.599999999999994,
           54.800000000000004,
           60.3,
           54.6,
           66
          ],
          "colorbar": {
           "tickformatstops": [
            {
             "dtickrange": [
              40,
              80
             ]
            }
           ],
           "title": {
            "text": "Scoring Efficiency"
           }
          },
          "size": [
           21.5625,
           24.9875,
           22.8125,
           13.125,
           18.325,
           22.5625,
           22.6125,
           10.425,
           18.55,
           27.55,
           22.4125,
           25.7375,
           21.6,
           11.0375,
           24.8,
           21.4125,
           14.325,
           30.275,
           15.15,
           22.8,
           28.325,
           32.3375,
           32.7125,
           30.2125,
           28.4625,
           11.95,
           18.275,
           24.05,
           17.9875,
           24.7,
           12.825,
           10.0875,
           18.45,
           33.8,
           12.3875,
           9.1125,
           14.275,
           17.0125,
           23.1,
           26.6375,
           29.3125,
           9.5,
           21.125,
           17.575,
           35.675,
           35.4625,
           19.55,
           15.075,
           10.55,
           11.0625,
           22.175,
           27.75,
           13.1875,
           31.55,
           23.775,
           28.975,
           24.1375,
           29.1125,
           14.8,
           25.525,
           11.3125,
           23.15,
           14.3375,
           16.675,
           15.575,
           26.7625,
           12.175,
           19.5875,
           20.7875,
           25.725,
           21.1375,
           8.975,
           24.25,
           19.95,
           23.575,
           26.1,
           26.6875,
           27.6375,
           17.55,
           13.3125,
           34.2875,
           15.8625,
           24.75,
           12.575,
           28.7625,
           20.8125,
           26.375,
           17.9625,
           19.2625,
           25.5875,
           30.825,
           12.3375,
           14.675,
           10.125,
           28.7125,
           15.5625,
           33.05,
           16.075,
           9.5625,
           29.475,
           26.0375,
           18.05,
           20.9,
           30.375,
           12.975,
           13.4625,
           11.825,
           21.25,
           24.275,
           26.5,
           29.7,
           20.8625,
           27.025,
           18.75,
           16.9125,
           16.6125,
           26.725,
           13.5625,
           18.9875,
           23.1125,
           12.9875,
           11.975,
           9.825,
           11.7875,
           33.6875,
           17.525,
           15.5625,
           30.2375,
           10.7875,
           20.5125,
           21.625,
           31.7875,
           22.3875,
           15.2,
           17.475,
           20.5875,
           19.55,
           10.4875,
           26.8875,
           31.2375,
           15.6625,
           12.7625,
           27.5875,
           25.7125,
           13.425,
           8.8625,
           25.0625,
           18.8875,
           9.0875,
           12.1375,
           27.35,
           19.7125,
           16.375,
           10.9625,
           14.025,
           23.3625,
           13.6375,
           14.55,
           26.575,
           10.375,
           29.2125,
           26.05,
           10.0125,
           21.625,
           14.8875,
           29.9,
           13.675,
           30.95,
           12.7125,
           11.2375,
           29.1875,
           14.35,
           19.3625,
           20,
           23.9875,
           22.5125,
           18.125,
           16.15,
           17.675,
           14.8125,
           27.55,
           11.6875,
           9.6375,
           29.1,
           15.7,
           22.2625,
           13.2,
           13.6,
           21.65,
           20.8125,
           26.6625,
           19.2125,
           11.35,
           28.9625,
           17.0875,
           23.475,
           9.1875,
           17.15,
           23.325,
           20.7,
           21.4,
           12.525,
           33.125,
           26.8125,
           22.5375,
           11.1875,
           15.2875,
           14.65,
           9.425,
           11.275,
           16.0625,
           20.7125,
           15.9875,
           26.7625,
           29.325,
           14.7375,
           25.95,
           28.325,
           29.1375,
           26.7375,
           23.6125,
           19.55,
           27.9875,
           10.8,
           29.575,
           8.95,
           13,
           17.15,
           21.7,
           12.1875,
           19.7375,
           14.8125,
           30.075,
           21.8625,
           12.4,
           24.7625,
           9.55,
           18.275,
           24.9875,
           9.2,
           26.7375,
           15.975,
           15.5875,
           22.4125,
           24.625,
           15.4125,
           28.5375,
           23.8375,
           17.45,
           25.35,
           18.5125,
           22.475,
           18.225,
           12.0625,
           14.7125,
           12.5125,
           22.525,
           31.8,
           17.725,
           12.65,
           15.1875,
           20,
           18.5,
           25.5375,
           23.1,
           13.5875,
           11.85,
           18.1,
           30.725,
           12.125,
           25.9625,
           26.7,
           11.325,
           22.9625,
           18.6125,
           17.9625,
           32.225,
           21.0125,
           28.7,
           14.075,
           11.5625,
           10.2875,
           10.175,
           12.6875,
           22.7,
           19.8375,
           16.3375,
           25.7,
           34.1375,
           8.925,
           13.725,
           12.2125,
           14.7,
           11.7625,
           11.2125,
           21.0625,
           8.7625,
           15.375,
           12.425,
           30.95,
           30.6,
           24.7625,
           15.4375,
           28,
           23.5,
           30.775,
           24.2125,
           19.8625,
           30.225,
           12.25,
           30.3625,
           12,
           11.85,
           20.15,
           12.1,
           22.1,
           10.8625,
           33.475,
           20.9375,
           27.4875,
           14.525,
           15.1125,
           29.1125,
           23.4375,
           13.4,
           9.9875,
           22.55,
           16.825,
           9.675,
           26.175,
           18.15,
           10.5625,
           33.15,
           8.825,
           23.15
          ]
         },
         "mode": "markers",
         "name": "all_teams",
         "text": [
          "Precious Achiuwa",
          "Steven Adams",
          "Bam Adebayo",
          "LaMarcus Aldridge",
          "Nickeil Alexander-Walker",
          "Grayson Allen",
          "Jarrett Allen",
          "Jose Alvarado",
          "Kyle Anderson",
          "Giannis Antetokounmpo",
          "Carmelo Anthony",
          "Cole Anthony",
          "OG Anunoby",
          "D.J. Augustin",
          "Deni Avdija",
          "Deandre Ayton",
          "Marvin Bagley III",
          "LaMelo Ball",
          "Lonzo Ball",
          "Mo Bamba",
          "Desmond Bane",
          "Harrison Barnes",
          "Scottie Barnes",
          "RJ Barrett",
          "Will Barton",
          "Keita Bates-Diop",
          "Nicolas Batum",
          "Darius Bazley",
          "Bradley Beal",
          "Malik Beasley",
          "DeAndre' Bembry",
          "Dāvis Bertāns",
          "Patrick Beverley",
          "Saddiq Bey",
          "Khem Birch",
          "Goga Bitadze",
          "Nemanja Bjelica",
          "Eric Bledsoe",
          "Bogdan Bogdanović",
          "Bojan Bogdanović",
          "Devin Booker",
          "Brandon Boston Jr.",
          "Chris Boucher",
          "Avery Bradley",
          "Mikal Bridges",
          "Miles Bridges",
          "Oshae Brissett",
          "Malcolm Brogdon",
          "Armoni Brooks",
          "Dillon Brooks",
          "Bruce Brown",
          "Jaylen Brown",
          "Troy Brown Jr.",
          "Jalen Brunson",
          "Reggie Bullock",
          "Alec Burks",
          "Jimmy Butler",
          "Kentavious Caldwell-Pope",
          "Facundo Campazzo",
          "Clint Capela",
          "Jevon Carter",
          "Wendell Carter Jr.",
          "Alex Caruso",
          "Josh Christopher",
          "Brandon Clarke",
          "Jordan Clarkson",
          "Nic Claxton",
          "Amir Coffey",
          "John Collins",
          "Mike Conley",
          "Pat Connaughton",
          "DeMarcus Cousins",
          "Robert Covington",
          "Torrey Craig",
          "Jae Crowder",
          "Cade Cunningham",
          "Seth Curry",
          "Stephen Curry",
          "Anthony Davis",
          "Dewayne Dedmon",
          "DeMar DeRozan",
          "Hamidou Diallo",
          "Spencer Dinwiddie",
          "Donte DiVincenzo",
          "Luka Dončić",
          "Luguentz Dort",
          "Ayo Dosunmu",
          "Andre Drummond",
          "Chris Duarte",
          "Kevin Durant",
          "Anthony Edwards",
          "Kessler Edwards",
          "CJ Elleby",
          "Wayne Ellington",
          "Joel Embiid",
          "Drew Eubanks",
          "Dorian Finney-Smith",
          "Bryn Forbes",
          "Trent Forrest",
          "Evan Fournier",
          "De'Aaron Fox",
          "Daniel Gafford",
          "Danilo Gallinari",
          "Darius Garland",
          "Rudy Gay",
          "Paul George",
          "Taj Gibson",
          "Josh Giddey",
          "Shai Gilgeous-Alexander",
          "Rudy Gobert",
          "Aaron Gordon",
          "Eric Gordon",
          "Devonte' Graham",
          "Jerami Grant",
          "Danny Green",
          "Draymond Green",
          "Jalen Green",
          "JaMychal Green",
          "Javonte Green",
          "Jeff Green",
          "Josh Green",
          "Blake Griffin",
          "Quentin Grimes",
          "Rui Hachimura",
          "Tyrese Haliburton",
          "R.J. Hampton",
          "Tim Hardaway Jr.",
          "James Harden",
          "Maurice Harkless",
          "Montrezl Harrell",
          "Gary Harris",
          "Tobias Harris",
          "Josh Hart",
          "Isaiah Hartenstein",
          "Jaxson Hayes",
          "Killian Hayes",
          "Gordon Hayward",
          "Willy Hernangómez",
          "Tyler Herro",
          "Buddy Hield",
          "George Hill",
          "Aaron Holiday",
          "Jrue Holiday",
          "Justin Holiday",
          "Richaun Holmes",
          "Rodney Hood",
          "Al Horford",
          "Talen Horton-Tucker",
          "Danuel House Jr.",
          "Dwight Howard",
          "Kevin Huerter",
          "De'Andre Hunter",
          "Bones Hyland",
          "Serge Ibaka",
          "Joe Ingles",
          "Brandon Ingram",
          "Kyrie Irving",
          "Frank Jackson",
          "Jaren Jackson Jr.",
          "Josh Jackson",
          "Reggie Jackson",
          "LeBron James",
          "Ty Jerome",
          "Cameron Johnson",
          "James Johnson",
          "Keldon Johnson",
          "Stanley Johnson",
          "Nikola Jokić",
          "Damian Jones",
          "Derrick Jones Jr.",
          "Herbert Jones",
          "Tre Jones",
          "Tyus Jones",
          "Cory Joseph",
          "Luke Kennard",
          "Corey Kispert",
          "Maxi Kleber",
          "John Konchar",
          "Furkan Korkmaz",
          "Jonathan Kuminga",
          "Kyle Kuzma",
          "Jeremy Lamb",
          "Romeo Langford",
          "Zach LaVine",
          "Damion Lee",
          "Caris LeVert",
          "Damian Lillard",
          "Nassir Little",
          "Kevon Looney",
          "Kevin Love",
          "Kyle Lowry",
          "Trey Lyles",
          "Théo Maledon",
          "Terance Mann",
          "Tre Mann",
          "Lauri Markkanen",
          "Naji Marshall",
          "Caleb Martin",
          "Cody Martin",
          "Kenyon Martin Jr.",
          "Garrison Mathews",
          "Wesley Matthews",
          "Tyrese Maxey",
          "CJ McCollum",
          "Jaden McDaniels",
          "Jalen McDaniels",
          "Doug McDermott",
          "JaVale McGee",
          "Rodney McGruder",
          "Jordan McLaughlin",
          "Ben McLemore",
          "De'Anthony Melton",
          "Chimezie Metu",
          "Khris Middleton",
          "Patty Mills",
          "Shake Milton",
          "Davion Mitchell",
          "Donovan Mitchell",
          "Evan Mobley",
          "Malik Monk",
          "Ja Morant",
          "Marcus Morris",
          "Monte Morris",
          "Trey Murphy III",
          "Dejounte Murray",
          "Svi Mykhailiuk",
          "Larry Nance Jr.",
          "Raul Neto",
          "Georges Niang",
          "Jaylen Nowell",
          "Jusuf Nurkić",
          "Jordan Nwora",
          "Royce O'Neale",
          "Chuma Okeke",
          "Onyeka Okongwu",
          "Isaac Okoro",
          "Kelly Olynyk",
          "Cedi Osman",
          "Kelly Oubre Jr.",
          "Eric Paschall",
          "Chris Paul",
          "Cameron Payne",
          "Gary Payton II",
          "Mason Plumlee",
          "Jakob Poeltl",
          "Aleksej Pokusevski",
          "Jordan Poole",
          "Kevin Porter Jr.",
          "Otto Porter Jr.",
          "Bobby Portis",
          "Kristaps Porziņģis",
          "Dwight Powell",
          "Norman Powell",
          "Joshua Primo",
          "Taurean Prince",
          "Payton Pritchard",
          "Immanuel Quickley",
          "Julius Randle",
          "Austin Reaves",
          "Cam Reddish",
          "Naz Reid",
          "Josh Richardson",
          "Austin Rivers",
          "Duncan Robinson",
          "Mitchell Robinson",
          "Jeremiah Robinson-Earl",
          "Isaiah Roby",
          "Terrence Ross",
          "Terry Rozier",
          "Ricky Rubio",
          "D'Angelo Russell",
          "Domantas Sabonis",
          "Tomáš Satoranský",
          "Dennis Schröder",
          "Alperen Şengün",
          "Landry Shamet",
          "Pascal Siakam",
          "Anfernee Simons",
          "Marcus Smart",
          "Ish Smith",
          "Jalen Smith",
          "Tony Snell",
          "Lance Stephenson",
          "Lamar Stevens",
          "Isaiah Stewart",
          "Max Strus",
          "Jalen Suggs",
          "Jae'Sean Tate",
          "Jayson Tatum",
          "Terry Taylor",
          "Garrett Temple",
          "Daniel Theis",
          "Cam Thomas",
          "Klay Thompson",
          "Tristan Thompson",
          "Matisse Thybulle",
          "Xavier Tillman Sr.",
          "Obi Toppin",
          "Juan Toscano-Anderson",
          "Karl-Anthony Towns",
          "Gary Trent Jr.",
          "P.J. Tucker",
          "Myles Turner",
          "Jonas Valančiūnas",
          "Jarred Vanderbilt",
          "Fred VanVleet",
          "Devin Vassell",
          "Gabe Vincent",
          "Nikola Vučević",
          "Dean Wade",
          "Franz Wagner",
          "Moritz Wagner",
          "Kemba Walker",
          "Lonnie Walker IV",
          "Duane Washington Jr.",
          "P.J. Washington",
          "Trendon Watford",
          "Russell Westbrook",
          "Coby White",
          "Derrick White",
          "Hassan Whiteside",
          "Aaron Wiggins",
          "Andrew Wiggins",
          "Grant Williams",
          "Kenrich Williams",
          "Lou Williams",
          "Robert Williams",
          "Ziaire Williams",
          "Justise Winslow",
          "Christian Wood",
          "Delon Wright",
          "Thaddeus Young",
          "Trae Young",
          "Omer Yurtseven",
          "Ivica Zubac"
         ],
         "type": "scatter",
         "visible": true,
         "x": [
          19.2,
          12.6,
          29.3,
          28,
          23.3,
          19.5,
          25,
          19.5,
          16.8,
          43.6,
          24.6,
          24.9,
          23.8,
          15.9,
          17.1,
          28,
          22.8,
          29.9,
          18.3,
          20,
          29.2,
          23.5,
          21.7,
          29,
          22.5,
          16.8,
          16.5,
          18.9,
          31.9,
          22.9,
          13.4,
          19.2,
          17.2,
          23.8,
          12.5,
          23.4,
          18.5,
          19.2,
          25.3,
          28.9,
          37.4,
          22.1,
          22.3,
          13.4,
          19.6,
          27.3,
          19.2,
          27.9,
          16.4,
          31.9,
          17.7,
          34.9,
          13.1,
          25.6,
          15.4,
          20.4,
          31.6,
          21.6,
          13.8,
          19.7,
          14.8,
          24.3,
          12.9,
          20.9,
          25.6,
          29.2,
          20.4,
          19.4,
          25.9,
          23.7,
          18.3,
          29.1,
          15.2,
          15.7,
          16.1,
          26,
          22.3,
          35.9,
          31.6,
          19.8,
          37.7,
          24.5,
          23.1,
          18.2,
          40.4,
          25.7,
          15.7,
          19.9,
          22.9,
          38.9,
          29.6,
          13.9,
          14.1,
          17,
          45.1,
          21.2,
          16.8,
          25,
          12.6,
          23.9,
          31.6,
          23.2,
          22.7,
          30.3,
          21.2,
          34.3,
          12.1,
          19.3,
          34.4,
          23.9,
          23.2,
          21.8,
          20.6,
          29.4,
          13.5,
          12.7,
          25.8,
          19.5,
          15,
          20.5,
          15.5,
          18.2,
          17.5,
          24.9,
          21.2,
          16.9,
          24.2,
          29,
          12.1,
          27.8,
          19,
          24.7,
          22.2,
          22.7,
          23.1,
          13.4,
          23.9,
          26.7,
          31.8,
          24.5,
          12.8,
          19.2,
          26.7,
          17.7,
          21,
          11.1,
          17.4,
          18.9,
          16.7,
          18.4,
          20,
          22.1,
          26.1,
          20.2,
          14.3,
          32.9,
          35.4,
          23.5,
          28.6,
          19.2,
          26.5,
          39,
          20.7,
          22.9,
          13.8,
          25.6,
          14,
          39.7,
          21.5,
          15.5,
          15.7,
          17.3,
          19.5,
          15.9,
          21.3,
          17.4,
          14.3,
          12.9,
          18,
          26.8,
          25.4,
          21.3,
          14,
          34.3,
          18.1,
          27.3,
          32.2,
          18.4,
          13.8,
          30.2,
          19.8,
          24.8,
          19.4,
          18.4,
          22.3,
          23.9,
          21,
          20.1,
          14,
          20,
          18.1,
          11.9,
          24.7,
          31.3,
          17.1,
          18.2,
          22.7,
          27.9,
          17.7,
          12.3,
          24.9,
          22.8,
          20.1,
          29.7,
          19.1,
          19,
          20,
          37.8,
          22.2,
          23.5,
          39.6,
          26,
          20.7,
          19.1,
          29.2,
          17.8,
          15.1,
          19,
          20.1,
          25.7,
          26.1,
          19.7,
          11.7,
          16.7,
          19.4,
          14.8,
          23.3,
          24.2,
          27.3,
          22.4,
          21.6,
          23.6,
          19.6,
          12.8,
          22.3,
          18.3,
          30,
          23.7,
          18,
          24.9,
          34.8,
          20.1,
          28.6,
          14.3,
          20.3,
          21.9,
          24.5,
          28.5,
          15,
          24.2,
          24.9,
          20.4,
          13.4,
          21.1,
          16.5,
          16.4,
          23.3,
          21,
          27.5,
          22.9,
          26.9,
          26.7,
          10.8,
          23.2,
          22.1,
          19.2,
          30.1,
          28.7,
          18.6,
          17.8,
          24.7,
          11.1,
          23.1,
          18.8,
          15.8,
          22.7,
          20.9,
          21.3,
          37.2,
          21.8,
          13.9,
          19,
          23.5,
          33.8,
          18.6,
          11.2,
          17.2,
          26.4,
          14.6,
          34.9,
          26.2,
          13.6,
          21.4,
          29,
          13,
          26.8,
          21.6,
          18.6,
          26,
          13.7,
          23.8,
          28.4,
          22.7,
          25.3,
          23.9,
          18.1,
          20.5,
          25.8,
          22.5,
          21.9,
          22.7,
          16.8,
          26.3,
          16,
          16.5,
          21.8,
          16.7,
          17.8,
          17.3,
          27.7,
          11.6,
          18.7,
          39.9,
          21.2,
          20.8
         ],
         "y": [
          50.3,
          56.00000000000001,
          60.8,
          60.4,
          47.5,
          60.9,
          69.8,
          52,
          50.6,
          63.3,
          57.9,
          51.9,
          54.900000000000006,
          61,
          53.6,
          65.60000000000001,
          55.1,
          55.400000000000006,
          57.49999999999999,
          58.199999999999996,
          59.199999999999996,
          62.3,
          55.2,
          51.1,
          54.800000000000004,
          57.8,
          60.8,
          51.5,
          53.900000000000006,
          54.400000000000006,
          60.099999999999994,
          53.1,
          53.900000000000006,
          52.900000000000006,
          53.400000000000006,
          59.5,
          57.3,
          51.4,
          56.2,
          59.9,
          57.599999999999994,
          48.1,
          56.99999999999999,
          55.00000000000001,
          62.7,
          59.3,
          53,
          55.7,
          48.3,
          51.5,
          57.49999999999999,
          57.4,
          52.5,
          58.3,
          55.800000000000004,
          55.900000000000006,
          59.199999999999996,
          56.8,
          50.3,
          60.4,
          53.1,
          60.099999999999994,
          52.800000000000004,
          53.400000000000006,
          66,
          53.2,
          67.2,
          59.8,
          61,
          57.199999999999996,
          62,
          56.699999999999996,
          57.199999999999996,
          55.60000000000001,
          54.1,
          50.4,
          61.5,
          60.099999999999994,
          57.8,
          63.2,
          59,
          54.1,
          54.300000000000004,
          51,
          57.099999999999994,
          54.1,
          59.599999999999994,
          57.4,
          53.7,
          63.4,
          56.00000000000001,
          51.6,
          49.1,
          59.3,
          61.6,
          63.800000000000004,
          60.4,
          57.4,
          55.400000000000006,
          55.400000000000006,
          54.900000000000006,
          70.8,
          57.9,
          57.599999999999994,
          53.900000000000006,
          53.800000000000004,
          60.6,
          47.8,
          55.7,
          73.2,
          60.199999999999996,
          61.4,
          51.4,
          55.60000000000001,
          56.10000000000001,
          58.199999999999996,
          54.7,
          58.699999999999996,
          63.7,
          62.7,
          57.8,
          51.800000000000004,
          56.49999999999999,
          57.9,
          59.5,
          48.1,
          52,
          58.3,
          56.10000000000001,
          68,
          57.099999999999994,
          56.599999999999994,
          61,
          66.4,
          68,
          46.1,
          56.99999999999999,
          58.199999999999996,
          56.10000000000001,
          54.800000000000004,
          55.2,
          54.400000000000006,
          59.3,
          54.300000000000004,
          68.89999999999999,
          49.3,
          57.4,
          50.3,
          55.50000000000001,
          65.7,
          56.99999999999999,
          54.7,
          55.800000000000004,
          57.9,
          55.1,
          55.400000000000006,
          59.199999999999996,
          53,
          53.5,
          49.1,
          48.8,
          61.9,
          48.8,
          62.5,
          51.300000000000004,
          57.4,
          56.39999999999999,
          66.10000000000001,
          70.1,
          63.3,
          57.3,
          54.50000000000001,
          54.400000000000006,
          57.9,
          61.9,
          58.599999999999994,
          53.7,
          61.5,
          50.2,
          60,
          54.7,
          52.1,
          52,
          60.5,
          56.10000000000001,
          52.5,
          55.00000000000001,
          57.49999999999999,
          58.599999999999994,
          59.4,
          60,
          58.8,
          50,
          57.199999999999996,
          50.1,
          58.199999999999996,
          50.5,
          61.1,
          57.9,
          60.3,
          60.199999999999996,
          53.6,
          59.4,
          55.300000000000004,
          55.300000000000004,
          59.5,
          59.3,
          65.10000000000001,
          57.699999999999996,
          53.5,
          56.699999999999996,
          52.900000000000006,
          54.6,
          57.699999999999996,
          56.3,
          51.7,
          48.9,
          57.199999999999996,
          54.900000000000006,
          59.699999999999996,
          57.49999999999999,
          54.900000000000006,
          58.3,
          55.800000000000004,
          53.300000000000004,
          50.9,
          59,
          53.800000000000004,
          59.4,
          58.099999999999994,
          58.599999999999994,
          50.6,
          60.8,
          50.1,
          71.39999999999999,
          58.9,
          56.10000000000001,
          56.3,
          56.00000000000001,
          61.199999999999996,
          58.099999999999994,
          50,
          67.9,
          60.3,
          61.3,
          48.5,
          59.8,
          53.1,
          58.099999999999994,
          57.099999999999994,
          57.699999999999996,
          72.5,
          60.3,
          48.699999999999996,
          58.9,
          57.8,
          54.300000000000004,
          50.9,
          60,
          54.300000000000004,
          58.8,
          57.3,
          54.6,
          57.3,
          72.2,
          52.6,
          60.699999999999996,
          51.5,
          56.599999999999994,
          48.8,
          54.400000000000006,
          63.7,
          46.1,
          53.900000000000006,
          55.2,
          55.00000000000001,
          56.49999999999999,
          58.3,
          54,
          46.5,
          59.5,
          54.1,
          53.6,
          54.400000000000006,
          55.00000000000001,
          61.4,
          45.5,
          56.699999999999996,
          57.8,
          65.60000000000001,
          49.4,
          59.5,
          51.9,
          54.7,
          54.1,
          59.4,
          51,
          61.4,
          56.10000000000001,
          64,
          54.6,
          59.3,
          61.5,
          61.7,
          61.199999999999996,
          55.2,
          54,
          55.1,
          53.300000000000004,
          58.4,
          55.900000000000006,
          62.3,
          53.7,
          51.2,
          52.1,
          58.8,
          59,
          51.2,
          56.39999999999999,
          54.900000000000006,
          66.2,
          55.60000000000001,
          56.00000000000001,
          63.5,
          53.2,
          50,
          74.5,
          55.900000000000006,
          47.9,
          59.5,
          57.599999999999994,
          54.800000000000004,
          60.3,
          54.6,
          66
         ]
        },
        {
         "hovertemplate": "<b>%{text}</b><br><i>Points per 75</i>: %{x:.2f}<br>True Shooting: %{y}",
         "marker": {
          "autocolorscale": true,
          "cmax": 74.5,
          "cmin": 45.5,
          "color": [
           50.3,
           54.900000000000006,
           55.2,
           53.400000000000006,
           56.99999999999999,
           50.9,
           56.49999999999999,
           54.6,
           55.2
          ],
          "colorbar": {
           "tickformatstops": [
            {
             "dtickrange": [
              40,
              80
             ]
            }
           ],
           "title": {
            "text": "Scoring Efficiency"
           }
          },
          "size": [
           21.5625,
           21.6,
           32.7125,
           12.3875,
           21.125,
           8.95,
           32.225,
           30.6,
           30.775
          ]
         },
         "mode": "markers",
         "name": "TOR",
         "text": [
          "Precious Achiuwa",
          "OG Anunoby",
          "Scottie Barnes",
          "Khem Birch",
          "Chris Boucher",
          "Svi Mykhailiuk",
          "Pascal Siakam",
          "Gary Trent Jr.",
          "Fred VanVleet"
         ],
         "type": "scatter",
         "visible": false,
         "x": [
          19.2,
          23.8,
          21.7,
          12.5,
          22.3,
          17.8,
          30.1,
          26.2,
          26.8
         ],
         "y": [
          50.3,
          54.900000000000006,
          55.2,
          53.400000000000006,
          56.99999999999999,
          50.9,
          56.49999999999999,
          54.6,
          55.2
         ]
        },
        {
         "hovertemplate": "<b>%{text}</b><br><i>Points per 75</i>: %{x:.2f}<br>True Shooting: %{y}",
         "marker": {
          "autocolorscale": true,
          "cmax": 74.5,
          "cmin": 45.5,
          "color": [
           56.00000000000001,
           50.6,
           59.199999999999996,
           51.5,
           66,
           53.5,
           54.400000000000006,
           61.5,
           52.900000000000006,
           57.49999999999999,
           51,
           55.900000000000006
          ],
          "colorbar": {
           "tickformatstops": [
            {
             "dtickrange": [
              40,
              80
             ]
            }
           ],
           "title": {
            "text": "Scoring Efficiency"
           }
          },
          "size": [
           24.9875,
           18.55,
           28.325,
           11.0625,
           15.575,
           26.575,
           19.3625,
           16.15,
           20.7125,
           23.6125,
           8.7625,
           16.825
          ]
         },
         "mode": "markers",
         "name": "MEM",
         "text": [
          "Steven Adams",
          "Kyle Anderson",
          "Desmond Bane",
          "Dillon Brooks",
          "Brandon Clarke",
          "Jaren Jackson Jr.",
          "Tyus Jones",
          "John Konchar",
          "De'Anthony Melton",
          "Ja Morant",
          "Xavier Tillman Sr.",
          "Ziaire Williams"
         ],
         "type": "scatter",
         "visible": false,
         "x": [
          12.6,
          16.8,
          29.2,
          31.9,
          25.6,
          28.6,
          19.5,
          12.9,
          22.8,
          39.6,
          17.2,
          17.8
         ],
         "y": [
          56.00000000000001,
          50.6,
          59.199999999999996,
          51.5,
          66,
          53.5,
          54.400000000000006,
          61.5,
          52.900000000000006,
          57.49999999999999,
          51,
          55.900000000000006
         ]
        },
        {
         "hovertemplate": "<b>%{text}</b><br><i>Points per 75</i>: %{x:.2f}<br>True Shooting: %{y}",
         "marker": {
          "autocolorscale": true,
          "cmax": 74.5,
          "cmin": 45.5,
          "color": [
           60.8,
           59.199999999999996,
           63.2,
           56.10000000000001,
           60,
           61.1,
           57.3,
           61.4,
           59.3,
           55.1,
           54.6
          ],
          "colorbar": {
           "tickformatstops": [
            {
             "dtickrange": [
              40,
              80
             ]
            }
           ],
           "title": {
            "text": "Scoring Efficiency"
           }
          },
          "size": [
           22.8125,
           24.1375,
           13.3125,
           26.8875,
           26.6625,
           17.15,
           25.5375,
           19.8375,
           24.7625,
           19.8625,
           8.825
          ]
         },
         "mode": "markers",
         "name": "MIA",
         "text": [
          "Bam Adebayo",
          "Jimmy Butler",
          "Dewayne Dedmon",
          "Tyler Herro",
          "Kyle Lowry",
          "Caleb Martin",
          "Duncan Robinson",
          "Max Strus",
          "P.J. Tucker",
          "Gabe Vincent",
          "Omer Yurtseven"
         ],
         "type": "scatter",
         "visible": false,
         "x": [
          29.3,
          31.6,
          19.8,
          31.8,
          19.8,
          20.1,
          21.1,
          22.7,
          13.6,
          18.6,
          21.2
         ],
         "y": [
          60.8,
          59.199999999999996,
          63.2,
          56.10000000000001,
          60,
          61.1,
          57.3,
          61.4,
          59.3,
          55.1,
          54.6
         ]
        },
        {
         "hovertemplate": "<b>%{text}</b><br><i>Points per 75</i>: %{x:.2f}<br>True Shooting: %{y}",
         "marker": {
          "autocolorscale": true,
          "cmax": 74.5,
          "cmin": 45.5,
          "color": [
           60.4,
           57.49999999999999,
           67.2,
           63.4,
           51.6,
           51.800000000000004,
           59.199999999999996,
           51.300000000000004,
           56.3,
           51.9
          ],
          "colorbar": {
           "tickformatstops": [
            {
             "dtickrange": [
              40,
              80
             ]
            }
           ],
           "title": {
            "text": "Scoring Efficiency"
           }
          },
          "size": [
           13.125,
           22.175,
           12.175,
           25.5875,
           12.3375,
           11.975,
           13.6375,
           14.8875,
           29.325,
           14.7
          ]
         },
         "mode": "markers",
         "name": "BRK",
         "text": [
          "LaMarcus Aldridge",
          "Bruce Brown",
          "Nic Claxton",
          "Kevin Durant",
          "Kessler Edwards",
          "Blake Griffin",
          "Kyrie Irving",
          "James Johnson",
          "Patty Mills",
          "Cam Thomas"
         ],
         "type": "scatter",
         "visible": false,
         "x": [
          28,
          17.7,
          20.4,
          38.9,
          13.9,
          18.2,
          35.4,
          13.8,
          19.1,
          23.5
         ],
         "y": [
          60.4,
          57.49999999999999,
          67.2,
          63.4,
          51.6,
          51.800000000000004,
          59.199999999999996,
          51.300000000000004,
          56.3,
          51.9
         ]
        },
        {
         "hovertemplate": "<b>%{text}</b><br><i>Points per 75</i>: %{x:.2f}<br>True Shooting: %{y}",
         "marker": {
          "autocolorscale": true,
          "cmax": 74.5,
          "cmin": 45.5,
          "color": [
           47.5,
           61,
           55.1,
           60.099999999999994,
           53.1,
           48.3,
           53.1,
           56.699999999999996,
           57.199999999999996,
           55.60000000000001,
           61.5,
           54.300000000000004,
           51,
           57.4,
           63.800000000000004,
           57.4,
           59.5,
           58.3,
           68,
           61,
           54.800000000000004,
           54.400000000000006,
           54.300000000000004,
           49.3,
           55.50000000000001,
           57.9,
           49.1,
           52.1,
           52,
           52.5,
           58.8,
           55.300000000000004,
           59,
           57.699999999999996,
           60.3,
           54.300000000000004,
           57.3,
           63.7,
           46.1,
           53.900000000000006,
           46.5,
           59.5,
           54.1,
           53.6,
           59.5,
           54.1,
           54.900000000000006,
           47.9,
           54.800000000000004
          ],
          "colorbar": {
           "tickformatstops": [
            {
             "dtickrange": [
              40,
              80
             ]
            }
           ],
           "title": {
            "text": "Scoring Efficiency"
           }
          },
          "size": [
           18.325,
           11.0375,
           14.325,
           12.825,
           10.0875,
           10.55,
           11.3125,
           8.975,
           24.25,
           19.95,
           26.6875,
           24.75,
           12.575,
           17.9625,
           15.5625,
           16.075,
           33.6875,
           30.2375,
           20.5125,
           22.3875,
           31.2375,
           12.7625,
           25.7125,
           8.8625,
           9.0875,
           10.9625,
           10.375,
           11.6875,
           9.6375,
           22.2625,
           19.2125,
           26.8125,
           13,
           18.5125,
           18.225,
           12.65,
           20,
           26.7,
           11.325,
           22.9625,
           14.075,
           11.5625,
           10.2875,
           10.175,
           12.2125,
           11.2125,
           27.4875,
           9.675,
           10.5625
          ]
         },
         "mode": "markers",
         "name": "TOT",
         "text": [
          "Nickeil Alexander-Walker",
          "D.J. Augustin",
          "Marvin Bagley III",
          "DeAndre' Bembry",
          "Dāvis Bertāns",
          "Armoni Brooks",
          "Jevon Carter",
          "DeMarcus Cousins",
          "Robert Covington",
          "Torrey Craig",
          "Seth Curry",
          "Spencer Dinwiddie",
          "Donte DiVincenzo",
          "Andre Drummond",
          "Drew Eubanks",
          "Bryn Forbes",
          "Tyrese Haliburton",
          "James Harden",
          "Montrezl Harrell",
          "Josh Hart",
          "Buddy Hield",
          "Aaron Holiday",
          "Justin Holiday",
          "Rodney Hood",
          "Danuel House Jr.",
          "Serge Ibaka",
          "Josh Jackson",
          "Jeremy Lamb",
          "Romeo Langford",
          "Caris LeVert",
          "Trey Lyles",
          "CJ McCollum",
          "Larry Nance Jr.",
          "Kristaps Porziņģis",
          "Norman Powell",
          "Cam Reddish",
          "Josh Richardson",
          "Domantas Sabonis",
          "Tomáš Satoranský",
          "Dennis Schröder",
          "Ish Smith",
          "Jalen Smith",
          "Tony Snell",
          "Lance Stephenson",
          "Daniel Theis",
          "Tristan Thompson",
          "Derrick White",
          "Justise Winslow",
          "Thaddeus Young"
         ],
         "type": "scatter",
         "visible": false,
         "x": [
          23.3,
          15.9,
          22.8,
          13.4,
          19.2,
          16.4,
          14.8,
          29.1,
          15.2,
          15.7,
          22.3,
          23.1,
          18.2,
          19.9,
          21.2,
          25,
          21.2,
          29,
          27.8,
          22.2,
          24.5,
          19.2,
          17.7,
          11.1,
          16.7,
          20.2,
          19.2,
          21.3,
          14,
          27.3,
          24.8,
          31.3,
          15.1,
          34.8,
          28.6,
          24.2,
          20.4,
          26.7,
          10.8,
          23.2,
          17.8,
          24.7,
          11.1,
          23.1,
          19,
          18.6,
          21.9,
          17.3,
          18.7
         ],
         "y": [
          47.5,
          61,
          55.1,
          60.099999999999994,
          53.1,
          48.3,
          53.1,
          56.699999999999996,
          57.199999999999996,
          55.60000000000001,
          61.5,
          54.300000000000004,
          51,
          57.4,
          63.800000000000004,
          57.4,
          59.5,
          58.3,
          68,
          61,
          54.800000000000004,
          54.400000000000006,
          54.300000000000004,
          49.3,
          55.50000000000001,
          57.9,
          49.1,
          52.1,
          52,
          52.5,
          58.8,
          55.300000000000004,
          59,
          57.699999999999996,
          60.3,
          54.300000000000004,
          57.3,
          63.7,
          46.1,
          53.900000000000006,
          46.5,
          59.5,
          54.1,
          53.6,
          59.5,
          54.1,
          54.900000000000006,
          47.9,
          54.800000000000004
         ]
        },
        {
         "hovertemplate": "<b>%{text}</b><br><i>Points per 75</i>: %{x:.2f}<br>True Shooting: %{y}",
         "marker": {
          "autocolorscale": true,
          "cmax": 74.5,
          "cmin": 45.5,
          "color": [
           60.9,
           63.3,
           62,
           55.2,
           59.3,
           53.6,
           57.699999999999996,
           50.6,
           57.099999999999994
          ],
          "colorbar": {
           "tickformatstops": [
            {
             "dtickrange": [
              40,
              80
             ]
            }
           ],
           "title": {
            "text": "Scoring Efficiency"
           }
          },
          "size": [
           22.5625,
           27.55,
           21.1375,
           15.6625,
           27.5875,
           12.525,
           26.7625,
           14.8125,
           25.35
          ]
         },
         "mode": "markers",
         "name": "MIL",
         "text": [
          "Grayson Allen",
          "Giannis Antetokounmpo",
          "Pat Connaughton",
          "George Hill",
          "Jrue Holiday",
          "Wesley Matthews",
          "Khris Middleton",
          "Jordan Nwora",
          "Bobby Portis"
         ],
         "type": "scatter",
         "visible": false,
         "x": [
          19.5,
          43.6,
          18.3,
          12.8,
          26.7,
          11.9,
          29.7,
          19.7,
          24.9
         ],
         "y": [
          60.9,
          63.3,
          62,
          55.2,
          59.3,
          53.6,
          57.699999999999996,
          50.6,
          57.099999999999994
         ]
        },
        {
         "hovertemplate": "<b>%{text}</b><br><i>Points per 75</i>: %{x:.2f}<br>True Shooting: %{y}",
         "marker": {
          "autocolorscale": true,
          "cmax": 74.5,
          "cmin": 45.5,
          "color": [
           69.8,
           57.599999999999994,
           59.4,
           58.199999999999996,
           54.900000000000006,
           58.9,
           56.3,
           48.8,
           54.400000000000006,
           58.4
          ],
          "colorbar": {
           "tickformatstops": [
            {
             "dtickrange": [
              40,
              80
             ]
            }
           ],
           "title": {
            "text": "Scoring Efficiency"
           }
          },
          "size": [
           22.6125,
           30.375,
           20.8125,
           23.475,
           29.1375,
           24.7625,
           18.275,
           12.125,
           12.6875,
           12.25
          ]
         },
         "mode": "markers",
         "name": "CLE",
         "text": [
          "Jarrett Allen",
          "Darius Garland",
          "Kevin Love",
          "Lauri Markkanen",
          "Evan Mobley",
          "Isaac Okoro",
          "Cedi Osman",
          "Ricky Rubio",
          "Lamar Stevens",
          "Dean Wade"
         ],
         "type": "scatter",
         "visible": false,
         "x": [
          25,
          30.3,
          30.2,
          23.9,
          22.2,
          14.8,
          24.2,
          22.9,
          18.8,
          13.7
         ],
         "y": [
          69.8,
          57.599999999999994,
          59.4,
          58.199999999999996,
          54.900000000000006,
          58.9,
          56.3,
          48.8,
          54.400000000000006,
          58.4
         ]
        },
        {
         "hovertemplate": "<b>%{text}</b><br><i>Points per 75</i>: %{x:.2f}<br>True Shooting: %{y}",
         "marker": {
          "autocolorscale": true,
          "cmax": 74.5,
          "cmin": 45.5,
          "color": [
           52,
           51.4,
           68,
           58.199999999999996,
           55.400000000000006,
           57.3,
           50.5,
           55.800000000000004,
           49.4,
           61.7
          ],
          "colorbar": {
           "tickformatstops": [
            {
             "dtickrange": [
              40,
              80
             ]
            }
           ],
           "title": {
            "text": "Scoring Efficiency"
           }
          },
          "size": [
           10.425,
           27.025,
           17.475,
           10.4875,
           23.3625,
           29.1875,
           9.1875,
           10.8,
           13.725,
           28
          ]
         },
         "mode": "markers",
         "name": "NOP",
         "text": [
          "Jose Alvarado",
          "Devonte' Graham",
          "Jaxson Hayes",
          "Willy Hernangómez",
          "Brandon Ingram",
          "Herbert Jones",
          "Naji Marshall",
          "Trey Murphy III",
          "Garrett Temple",
          "Jonas Valančiūnas"
         ],
         "type": "scatter",
         "visible": false,
         "x": [
          19.5,
          20.6,
          23.1,
          26.7,
          32.9,
          15.7,
          21,
          19.1,
          13.9,
          29
         ],
         "y": [
          52,
          51.4,
          68,
          58.199999999999996,
          55.400000000000006,
          57.3,
          50.5,
          55.800000000000004,
          49.4,
          61.7
         ]
        },
        {
         "hovertemplate": "<b>%{text}</b><br><i>Points per 75</i>: %{x:.2f}<br>True Shooting: %{y}",
         "marker": {
          "autocolorscale": true,
          "cmax": 74.5,
          "cmin": 45.5,
          "color": [
           57.9,
           55.00000000000001,
           57.8,
           59.3,
           50.3,
           65.7,
           61.9,
           56.39999999999999,
           59.699999999999996,
           60,
           51.2
          ],
          "colorbar": {
           "tickformatstops": [
            {
             "dtickrange": [
              40,
              80
             ]
            }
           ],
           "title": {
            "text": "Scoring Efficiency"
           }
          },
          "size": [
           22.4125,
           17.575,
           17.55,
           10.125,
           18.8875,
           12.1375,
           26.05,
           13.675,
           26.7375,
           17.725,
           33.475
          ]
         },
         "mode": "markers",
         "name": "LAL",
         "text": [
          "Carmelo Anthony",
          "Avery Bradley",
          "Anthony Davis",
          "Wayne Ellington",
          "Talen Horton-Tucker",
          "Dwight Howard",
          "LeBron James",
          "Stanley Johnson",
          "Malik Monk",
          "Austin Reaves",
          "Russell Westbrook"
         ],
         "type": "scatter",
         "visible": false,
         "x": [
          24.6,
          13.4,
          31.6,
          17,
          18.9,
          18.4,
          39,
          14,
          23.5,
          15,
          25.8
         ],
         "y": [
          57.9,
          55.00000000000001,
          57.8,
          59.3,
          50.3,
          65.7,
          61.9,
          56.39999999999999,
          59.699999999999996,
          60,
          51.2
         ]
        },
        {
         "hovertemplate": "<b>%{text}</b><br><i>Points per 75</i>: %{x:.2f}<br>True Shooting: %{y}",
         "marker": {
          "autocolorscale": true,
          "cmax": 74.5,
          "cmin": 45.5,
          "color": [
           51.9,
           58.199999999999996,
           60.099999999999994,
           48.1,
           57.099999999999994,
           50.1,
           51.5,
           45.5,
           55.900000000000006,
           62.3
          ],
          "colorbar": {
           "tickformatstops": [
            {
             "dtickrange": [
              40,
              80
             ]
            }
           ],
           "title": {
            "text": "Scoring Efficiency"
           }
          },
          "size": [
           25.7375,
           22.8,
           23.15,
           17.525,
           21.625,
           21.8625,
           18.1,
           16.3375,
           30.3625,
           12
          ]
         },
         "mode": "markers",
         "name": "ORL",
         "text": [
          "Cole Anthony",
          "Mo Bamba",
          "Wendell Carter Jr.",
          "R.J. Hampton",
          "Gary Harris",
          "Chuma Okeke",
          "Terrence Ross",
          "Jalen Suggs",
          "Franz Wagner",
          "Moritz Wagner"
         ],
         "type": "scatter",
         "visible": false,
         "x": [
          24.9,
          20,
          24.3,
          16.9,
          19,
          16.7,
          21,
          20.9,
          23.8,
          28.4
         ],
         "y": [
          51.9,
          58.199999999999996,
          60.099999999999994,
          48.1,
          57.099999999999994,
          50.1,
          51.5,
          45.5,
          55.900000000000006,
          62.3
         ]
        },
        {
         "hovertemplate": "<b>%{text}</b><br><i>Points per 75</i>: %{x:.2f}<br>True Shooting: %{y}",
         "marker": {
          "autocolorscale": true,
          "cmax": 74.5,
          "cmin": 45.5,
          "color": [
           53.6,
           53.900000000000006,
           56.8,
           70.8,
           57.9,
           58.599999999999994,
           54.7,
           53.800000000000004
          ],
          "colorbar": {
           "tickformatstops": [
            {
             "dtickrange": [
              40,
              80
             ]
            }
           ],
           "title": {
            "text": "Scoring Efficiency"
           }
          },
          "size": [
           24.8,
           17.9875,
           29.1125,
           18.05,
           11.7875,
           22.5125,
           27.55,
           17.15
          ]
         },
         "mode": "markers",
         "name": "WAS",
         "text": [
          "Deni Avdija",
          "Bradley Beal",
          "Kentavious Caldwell-Pope",
          "Daniel Gafford",
          "Rui Hachimura",
          "Corey Kispert",
          "Kyle Kuzma",
          "Raul Neto"
         ],
         "type": "scatter",
         "visible": false,
         "x": [
          17.1,
          31.9,
          21.6,
          23.2,
          24.9,
          17.4,
          25.4,
          19
         ],
         "y": [
          53.6,
          53.900000000000006,
          56.8,
          70.8,
          57.9,
          58.599999999999994,
          54.7,
          53.800000000000004
         ]
        },
        {
         "hovertemplate": "<b>%{text}</b><br><i>Points per 75</i>: %{x:.2f}<br>True Shooting: %{y}",
         "marker": {
          "autocolorscale": true,
          "cmax": 74.5,
          "cmin": 45.5,
          "color": [
           65.60000000000001,
           57.599999999999994,
           62.7,
           54.1,
           62.5,
           65.10000000000001,
           58.099999999999994,
           50,
           55.00000000000001
          ],
          "colorbar": {
           "tickformatstops": [
            {
             "dtickrange": [
              40,
              80
             ]
            }
           ],
           "title": {
            "text": "Scoring Efficiency"
           }
          },
          "size": [
           21.4125,
           29.3125,
           35.675,
           23.575,
           21.625,
           14.65,
           26.7375,
           15.975,
           17.9625
          ]
         },
         "mode": "markers",
         "name": "PHO",
         "text": [
          "Deandre Ayton",
          "Devin Booker",
          "Mikal Bridges",
          "Jae Crowder",
          "Cameron Johnson",
          "JaVale McGee",
          "Chris Paul",
          "Cameron Payne",
          "Landry Shamet"
         ],
         "type": "scatter",
         "visible": false,
         "x": [
          28,
          37.4,
          19.6,
          16.1,
          22.9,
          27.9,
          21.6,
          23.6,
          19.2
         ],
         "y": [
          65.60000000000001,
          57.599999999999994,
          62.7,
          54.1,
          62.5,
          65.10000000000001,
          58.099999999999994,
          50,
          55.00000000000001
         ]
        },
        {
         "hovertemplate": "<b>%{text}</b><br><i>Points per 75</i>: %{x:.2f}<br>True Shooting: %{y}",
         "marker": {
          "autocolorscale": true,
          "cmax": 74.5,
          "cmin": 45.5,
          "color": [
           55.400000000000006,
           59.3,
           56.99999999999999,
           57.9,
           59.5,
           56.00000000000001,
           60.3,
           56.599999999999994,
           58.8
          ],
          "colorbar": {
           "tickformatstops": [
            {
             "dtickrange": [
              40,
              80
             ]
            }
           ],
           "title": {
            "text": "Scoring Efficiency"
           }
          },
          "size": [
           30.275,
           35.4625,
           19.55,
           23.325,
           11.1875,
           24.9875,
           22.4125,
           30.725,
           22.1
          ]
         },
         "mode": "markers",
         "name": "CHO",
         "text": [
          "LaMelo Ball",
          "Miles Bridges",
          "Gordon Hayward",
          "Cody Martin",
          "Jalen McDaniels",
          "Kelly Oubre Jr.",
          "Mason Plumlee",
          "Terry Rozier",
          "P.J. Washington"
         ],
         "type": "scatter",
         "visible": false,
         "x": [
          29.9,
          27.3,
          23.9,
          14,
          18.2,
          27.3,
          12.8,
          27.5,
          18.1
         ],
         "y": [
          55.400000000000006,
          59.3,
          56.99999999999999,
          57.9,
          59.5,
          56.00000000000001,
          60.3,
          56.599999999999994,
          58.8
         ]
        },
        {
         "hovertemplate": "<b>%{text}</b><br><i>Points per 75</i>: %{x:.2f}<br>True Shooting: %{y}",
         "marker": {
          "autocolorscale": true,
          "cmax": 74.5,
          "cmin": 45.5,
          "color": [
           57.49999999999999,
           52.5,
           52.800000000000004,
           59,
           59.599999999999994,
           63.7,
           63.3,
           60.5,
           53.300000000000004,
           56.39999999999999
          ],
          "colorbar": {
           "tickformatstops": [
            {
             "dtickrange": [
              40,
              80
             ]
            }
           ],
           "title": {
            "text": "Scoring Efficiency"
           }
          },
          "size": [
           15.15,
           13.1875,
           14.3375,
           34.2875,
           26.375,
           18.9875,
           11.2375,
           29.1,
           30.225,
           20.9375
          ]
         },
         "mode": "markers",
         "name": "CHI",
         "text": [
          "Lonzo Ball",
          "Troy Brown Jr.",
          "Alex Caruso",
          "DeMar DeRozan",
          "Ayo Dosunmu",
          "Javonte Green",
          "Derrick Jones Jr.",
          "Zach LaVine",
          "Nikola Vučević",
          "Coby White"
         ],
         "type": "scatter",
         "visible": false,
         "x": [
          18.3,
          13.1,
          12.9,
          37.7,
          15.7,
          15,
          15.5,
          34.3,
          26,
          22.5
         ],
         "y": [
          57.49999999999999,
          52.5,
          52.800000000000004,
          59,
          59.599999999999994,
          63.7,
          63.3,
          60.5,
          53.300000000000004,
          56.39999999999999
         ]
        },
        {
         "hovertemplate": "<b>%{text}</b><br><i>Points per 75</i>: %{x:.2f}<br>True Shooting: %{y}",
         "marker": {
          "autocolorscale": true,
          "cmax": 74.5,
          "cmin": 45.5,
          "color": [
           62.3,
           54.900000000000006,
           56.10000000000001,
           68.89999999999999,
           70.1,
           54.6,
           48.9
          ],
          "colorbar": {
           "tickformatstops": [
            {
             "dtickrange": [
              40,
              80
             ]
            }
           ],
           "title": {
            "text": "Scoring Efficiency"
           }
          },
          "size": [
           32.3375,
           26.0375,
           10.7875,
           13.425,
           12.7125,
           15.9875,
           25.95
          ]
         },
         "mode": "markers",
         "name": "SAC",
         "text": [
          "Harrison Barnes",
          "De'Aaron Fox",
          "Maurice Harkless",
          "Richaun Holmes",
          "Damian Jones",
          "Chimezie Metu",
          "Davion Mitchell"
         ],
         "type": "scatter",
         "visible": false,
         "x": [
          23.5,
          31.6,
          12.1,
          21,
          21.5,
          20.1,
          20
         ],
         "y": [
          62.3,
          54.900000000000006,
          56.10000000000001,
          68.89999999999999,
          70.1,
          54.6,
          48.9
         ]
        },
        {
         "hovertemplate": "<b>%{text}</b><br><i>Points per 75</i>: %{x:.2f}<br>True Shooting: %{y}",
         "marker": {
          "autocolorscale": true,
          "cmax": 74.5,
          "cmin": 45.5,
          "color": [
           51.1,
           55.900000000000006,
           55.400000000000006,
           60.6,
           56.49999999999999,
           54.300000000000004,
           50.9,
           72.2,
           61.4,
           53.7
          ],
          "colorbar": {
           "tickformatstops": [
            {
             "dtickrange": [
              40,
              80
             ]
            }
           ],
           "title": {
            "text": "Scoring Efficiency"
           }
          },
          "size": [
           30.2125,
           28.975,
           29.475,
           11.825,
           9.825,
           22.525,
           31.8,
           23.1,
           15.375,
           11.85
          ]
         },
         "mode": "markers",
         "name": "NYK",
         "text": [
          "RJ Barrett",
          "Alec Burks",
          "Evan Fournier",
          "Taj Gibson",
          "Quentin Grimes",
          "Immanuel Quickley",
          "Julius Randle",
          "Mitchell Robinson",
          "Obi Toppin",
          "Kemba Walker"
         ],
         "type": "scatter",
         "visible": false,
         "x": [
          29,
          20.4,
          23.9,
          12.1,
          17.5,
          24.5,
          28.5,
          16.5,
          26.4,
          22.7
         ],
         "y": [
          51.1,
          55.900000000000006,
          55.400000000000006,
          60.6,
          56.49999999999999,
          54.300000000000004,
          50.9,
          72.2,
          61.4,
          53.7
         ]
        },
        {
         "hovertemplate": "<b>%{text}</b><br><i>Points per 75</i>: %{x:.2f}<br>True Shooting: %{y}",
         "marker": {
          "autocolorscale": true,
          "cmax": 74.5,
          "cmin": 45.5,
          "color": [
           54.800000000000004,
           50.3,
           60.199999999999996,
           58.699999999999996,
           62.7,
           55.800000000000004,
           66.10000000000001,
           58.3,
           54.6
          ],
          "colorbar": {
           "tickformatstops": [
            {
             "dtickrange": [
              40,
              80
             ]
            }
           ],
           "title": {
            "text": "Scoring Efficiency"
           }
          },
          "size": [
           28.4625,
           14.8,
           29.7,
           13.5625,
           23.1125,
           16.375,
           30.95,
           27.9875,
           18.5
          ]
         },
         "mode": "markers",
         "name": "DEN",
         "text": [
          "Will Barton",
          "Facundo Campazzo",
          "Aaron Gordon",
          "JaMychal Green",
          "Jeff Green",
          "Bones Hyland",
          "Nikola Jokić",
          "Monte Morris",
          "Austin Rivers"
         ],
         "type": "scatter",
         "visible": false,
         "x": [
          22.5,
          13.8,
          23.2,
          19.5,
          20.5,
          26.1,
          39.7,
          20.7,
          13.4
         ],
         "y": [
          54.800000000000004,
          50.3,
          60.199999999999996,
          58.699999999999996,
          62.7,
          55.800000000000004,
          66.10000000000001,
          58.3,
          54.6
         ]
        },
        {
         "hovertemplate": "<b>%{text}</b><br><i>Points per 75</i>: %{x:.2f}<br>True Shooting: %{y}",
         "marker": {
          "autocolorscale": true,
          "cmax": 74.5,
          "cmin": 45.5,
          "color": [
           57.8,
           57.4,
           54.50000000000001,
           59.3,
           53.300000000000004,
           61.3,
           48.699999999999996,
           54,
           51.2
          ],
          "colorbar": {
           "tickformatstops": [
            {
             "dtickrange": [
              40,
              80
             ]
            }
           ],
           "title": {
            "text": "Scoring Efficiency"
           }
          },
          "size": [
           11.95,
           29.9,
           14.35,
           15.2875,
           29.575,
           24.625,
           12.0625,
           24.2125,
           20.15
          ]
         },
         "mode": "markers",
         "name": "SAS",
         "text": [
          "Keita Bates-Diop",
          "Keldon Johnson",
          "Tre Jones",
          "Doug McDermott",
          "Dejounte Murray",
          "Jakob Poeltl",
          "Joshua Primo",
          "Devin Vassell",
          "Lonnie Walker IV"
         ],
         "type": "scatter",
         "visible": false,
         "x": [
          16.8,
          25.6,
          17.3,
          22.7,
          29.2,
          22.3,
          14.3,
          21.6,
          25.3
         ],
         "y": [
          57.8,
          57.4,
          54.50000000000001,
          59.3,
          53.300000000000004,
          61.3,
          48.699999999999996,
          54,
          51.2
         ]
        },
        {
         "hovertemplate": "<b>%{text}</b><br><i>Points per 75</i>: %{x:.2f}<br>True Shooting: %{y}",
         "marker": {
          "autocolorscale": true,
          "cmax": 74.5,
          "cmin": 45.5,
          "color": [
           60.8,
           51.4,
           48.1,
           59.8,
           53.800000000000004,
           66.4,
           48.8,
           61.9,
           57.199999999999996,
           54.900000000000006,
           66
          ],
          "colorbar": {
           "tickformatstops": [
            {
             "dtickrange": [
              40,
              80
             ]
            }
           ],
           "title": {
            "text": "Scoring Efficiency"
           }
          },
          "size": [
           18.275,
           17.0125,
           9.5,
           19.5875,
           13.4625,
           15.2,
           29.2125,
           23.9875,
           28.9625,
           19.55,
           23.15
          ]
         },
         "mode": "markers",
         "name": "LAC",
         "text": [
          "Nicolas Batum",
          "Eric Bledsoe",
          "Brandon Boston Jr.",
          "Amir Coffey",
          "Paul George",
          "Isaiah Hartenstein",
          "Reggie Jackson",
          "Luke Kennard",
          "Terance Mann",
          "Marcus Morris",
          "Ivica Zubac"
         ],
         "type": "scatter",
         "visible": false,
         "x": [
          16.5,
          19.2,
          22.1,
          19.4,
          34.3,
          22.7,
          26.5,
          21.3,
          18.4,
          26,
          20.8
         ],
         "y": [
          60.8,
          51.4,
          48.1,
          59.8,
          53.800000000000004,
          66.4,
          48.8,
          61.9,
          57.199999999999996,
          54.900000000000006,
          66
         ]
        },
        {
         "hovertemplate": "<b>%{text}</b><br><i>Points per 75</i>: %{x:.2f}<br>True Shooting: %{y}",
         "marker": {
          "autocolorscale": true,
          "cmax": 74.5,
          "cmin": 45.5,
          "color": [
           51.5,
           54.1,
           47.8,
           55.7,
           48.8,
           50,
           50.1,
           48.5,
           52.6,
           60.699999999999996,
           55.60000000000001,
           53.2
          ],
          "colorbar": {
           "tickformatstops": [
            {
             "dtickrange": [
              40,
              80
             ]
            }
           ],
           "title": {
            "text": "Scoring Efficiency"
           }
          },
          "size": [
           24.05,
           20.8125,
           21.25,
           24.275,
           10.0125,
           11.35,
           17.0875,
           15.4125,
           13.5875,
           11.85,
           15.1125,
           13.4
          ]
         },
         "mode": "markers",
         "name": "OKC",
         "text": [
          "Darius Bazley",
          "Luguentz Dort",
          "Josh Giddey",
          "Shai Gilgeous-Alexander",
          "Ty Jerome",
          "Théo Maledon",
          "Tre Mann",
          "Aleksej Pokusevski",
          "Jeremiah Robinson-Earl",
          "Isaiah Roby",
          "Aaron Wiggins",
          "Kenrich Williams"
         ],
         "type": "scatter",
         "visible": false,
         "x": [
          18.9,
          25.7,
          19.3,
          34.4,
          20.7,
          19.4,
          22.3,
          18.3,
          16.4,
          23.3,
          16.8,
          16.5
         ],
         "y": [
          51.5,
          54.1,
          47.8,
          55.7,
          48.8,
          50,
          50.1,
          48.5,
          52.6,
          60.699999999999996,
          55.60000000000001,
          53.2
         ]
        },
        {
         "hovertemplate": "<b>%{text}</b><br><i>Points per 75</i>: %{x:.2f}<br>True Shooting: %{y}",
         "marker": {
          "autocolorscale": true,
          "cmax": 74.5,
          "cmin": 45.5,
          "color": [
           54.400000000000006,
           53.900000000000006,
           56.00000000000001,
           55.300000000000004,
           53.5,
           58.099999999999994,
           58.9,
           58.8,
           54.400000000000006,
           64,
           61.199999999999996
          ],
          "colorbar": {
           "tickformatstops": [
            {
             "dtickrange": [
              40,
              80
             ]
            }
           ],
           "title": {
            "text": "Scoring Efficiency"
           }
          },
          "size": [
           24.7,
           18.45,
           30.825,
           22.5375,
           11.275,
           12.1875,
           14.7125,
           15.1875,
           25.9625,
           30.95,
           23.5
          ]
         },
         "mode": "markers",
         "name": "MIN",
         "text": [
          "Malik Beasley",
          "Patrick Beverley",
          "Anthony Edwards",
          "Jaden McDaniels",
          "Jordan McLaughlin",
          "Jaylen Nowell",
          "Taurean Prince",
          "Naz Reid",
          "D'Angelo Russell",
          "Karl-Anthony Towns",
          "Jarred Vanderbilt"
         ],
         "type": "scatter",
         "visible": false,
         "x": [
          22.9,
          17.2,
          29.6,
          17.1,
          12.3,
          25.7,
          20.3,
          24.9,
          26.9,
          34.9,
          13
         ],
         "y": [
          54.400000000000006,
          53.900000000000006,
          56.00000000000001,
          55.300000000000004,
          53.5,
          58.099999999999994,
          58.9,
          58.8,
          54.400000000000006,
          64,
          61.199999999999996
         ]
        },
        {
         "hovertemplate": "<b>%{text}</b><br><i>Points per 75</i>: %{x:.2f}<br>True Shooting: %{y}",
         "marker": {
          "autocolorscale": true,
          "cmax": 74.5,
          "cmin": 45.5,
          "color": [
           52.900000000000006,
           50.4,
           54.1,
           55.60000000000001,
           46.1,
           53,
           57.9,
           57.699999999999996,
           56.10000000000001,
           55.00000000000001
          ],
          "colorbar": {
           "tickformatstops": [
            {
             "dtickrange": [
              40,
              80
             ]
            }
           ],
           "title": {
            "text": "Scoring Efficiency"
           }
          },
          "size": [
           33.8,
           26.1,
           15.8625,
           18.75,
           20.5875,
           14.55,
           20,
           9.425,
           9.55,
           22.7
          ]
         },
         "mode": "markers",
         "name": "DET",
         "text": [
          "Saddiq Bey",
          "Cade Cunningham",
          "Hamidou Diallo",
          "Jerami Grant",
          "Killian Hayes",
          "Frank Jackson",
          "Cory Joseph",
          "Rodney McGruder",
          "Kelly Olynyk",
          "Isaiah Stewart"
         ],
         "type": "scatter",
         "visible": false,
         "x": [
          23.8,
          26,
          24.5,
          29.4,
          13.4,
          23.5,
          15.9,
          17.7,
          23.3,
          15.8
         ],
         "y": [
          52.900000000000006,
          50.4,
          54.1,
          55.60000000000001,
          46.1,
          53,
          57.9,
          57.699999999999996,
          56.10000000000001,
          55.00000000000001
         ]
        },
        {
         "hovertemplate": "<b>%{text}</b><br><i>Points per 75</i>: %{x:.2f}<br>True Shooting: %{y}",
         "marker": {
          "autocolorscale": true,
          "cmax": 74.5,
          "cmin": 45.5,
          "color": [
           59.5,
           53,
           55.7,
           53.7,
           65.60000000000001,
           61.5,
           52.1
          ],
          "colorbar": {
           "tickformatstops": [
            {
             "dtickrange": [
              40,
              80
             ]
            }
           ],
           "title": {
            "text": "Scoring Efficiency"
           }
          },
          "size": [
           9.1125,
           19.55,
           15.075,
           19.2625,
           8.925,
           15.4375,
           12.1
          ]
         },
         "mode": "markers",
         "name": "IND",
         "text": [
          "Goga Bitadze",
          "Oshae Brissett",
          "Malcolm Brogdon",
          "Chris Duarte",
          "Terry Taylor",
          "Myles Turner",
          "Duane Washington Jr."
         ],
         "type": "scatter",
         "visible": false,
         "x": [
          23.4,
          19.2,
          27.9,
          22.9,
          21.8,
          21.4,
          23.9
         ],
         "y": [
          59.5,
          53,
          55.7,
          53.7,
          65.60000000000001,
          61.5,
          52.1
         ]
        },
        {
         "hovertemplate": "<b>%{text}</b><br><i>Points per 75</i>: %{x:.2f}<br>True Shooting: %{y}",
         "marker": {
          "autocolorscale": true,
          "cmax": 74.5,
          "cmin": 45.5,
          "color": [
           57.3,
           60.099999999999994,
           58.199999999999996,
           60,
           56.10000000000001,
           58.599999999999994,
           67.9,
           59.8,
           58.099999999999994,
           54.7,
           56.10000000000001,
           56.00000000000001
          ],
          "colorbar": {
           "tickformatstops": [
            {
             "dtickrange": [
              40,
              80
             ]
            }
           ],
           "title": {
            "text": "Scoring Efficiency"
           }
          },
          "size": [
           14.275,
           27.6375,
           16.6125,
           14.8125,
           15.7,
           21.65,
           15.5875,
           28.5375,
           17.45,
           11.7625,
           12.425,
           29.1125
          ]
         },
         "mode": "markers",
         "name": "GSW",
         "text": [
          "Nemanja Bjelica",
          "Stephen Curry",
          "Draymond Green",
          "Jonathan Kuminga",
          "Damion Lee",
          "Kevon Looney",
          "Gary Payton II",
          "Jordan Poole",
          "Otto Porter Jr.",
          "Klay Thompson",
          "Juan Toscano-Anderson",
          "Andrew Wiggins"
         ],
         "type": "scatter",
         "visible": false,
         "x": [
          18.5,
          35.9,
          12.7,
          26.8,
          18.1,
          13.8,
          19.6,
          30,
          18,
          33.8,
          14.6,
          26.3
         ],
         "y": [
          57.3,
          60.099999999999994,
          58.199999999999996,
          60,
          56.10000000000001,
          58.599999999999994,
          67.9,
          59.8,
          58.099999999999994,
          54.7,
          56.10000000000001,
          56.00000000000001
         ]
        },
        {
         "hovertemplate": "<b>%{text}</b><br><i>Points per 75</i>: %{x:.2f}<br>True Shooting: %{y}",
         "marker": {
          "autocolorscale": true,
          "cmax": 74.5,
          "cmin": 45.5,
          "color": [
           56.2,
           60.4,
           61,
           57.9,
           56.99999999999999,
           54.7,
           71.39999999999999,
           50,
           57.599999999999994,
           60.3
          ],
          "colorbar": {
           "tickformatstops": [
            {
             "dtickrange": [
              40,
              80
             ]
            }
           ],
           "title": {
            "text": "Scoring Efficiency"
           }
          },
          "size": [
           23.1,
           25.525,
           20.7875,
           20.9,
           27.35,
           19.7125,
           12.4,
           9.9875,
           18.15,
           33.15
          ]
         },
         "mode": "markers",
         "name": "ATL",
         "text": [
          "Bogdan Bogdanović",
          "Clint Capela",
          "John Collins",
          "Danilo Gallinari",
          "Kevin Huerter",
          "De'Andre Hunter",
          "Onyeka Okongwu",
          "Lou Williams",
          "Delon Wright",
          "Trae Young"
         ],
         "type": "scatter",
         "visible": false,
         "x": [
          25.3,
          19.7,
          25.9,
          22.7,
          20,
          22.1,
          19.4,
          21.8,
          11.6,
          39.9
         ],
         "y": [
          56.2,
          60.4,
          61,
          57.9,
          56.99999999999999,
          54.7,
          71.39999999999999,
          50,
          57.599999999999994,
          60.3
         ]
        },
        {
         "hovertemplate": "<b>%{text}</b><br><i>Points per 75</i>: %{x:.2f}<br>True Shooting: %{y}",
         "marker": {
          "autocolorscale": true,
          "cmax": 74.5,
          "cmin": 45.5,
          "color": [
           59.9,
           53.2,
           57.199999999999996,
           55.400000000000006,
           53.900000000000006,
           73.2,
           55.1,
           57.199999999999996,
           60.8,
           61.199999999999996,
           66.2
          ],
          "colorbar": {
           "tickformatstops": [
            {
             "dtickrange": [
              40,
              80
             ]
            }
           ],
           "title": {
            "text": "Scoring Efficiency"
           }
          },
          "size": [
           26.6375,
           26.7625,
           25.725,
           9.5625,
           12.975,
           26.5,
           14.025,
           28.325,
           30.075,
           9.2,
           14.525
          ]
         },
         "mode": "markers",
         "name": "UTA",
         "text": [
          "Bojan Bogdanović",
          "Jordan Clarkson",
          "Mike Conley",
          "Trent Forrest",
          "Rudy Gay",
          "Rudy Gobert",
          "Joe Ingles",
          "Donovan Mitchell",
          "Royce O'Neale",
          "Eric Paschall",
          "Hassan Whiteside"
         ],
         "type": "scatter",
         "visible": false,
         "x": [
          28.9,
          29.2,
          23.7,
          12.6,
          21.2,
          23.9,
          14.3,
          37.8,
          11.7,
          22.4,
          22.7
         ],
         "y": [
          59.9,
          53.2,
          57.199999999999996,
          55.400000000000006,
          53.900000000000006,
          73.2,
          55.1,
          57.199999999999996,
          60.8,
          61.199999999999996,
          66.2
         ]
        },
        {
         "hovertemplate": "<b>%{text}</b><br><i>Points per 75</i>: %{x:.2f}<br>True Shooting: %{y}",
         "marker": {
          "autocolorscale": true,
          "cmax": 74.5,
          "cmin": 45.5,
          "color": [
           57.4,
           57.4,
           57.8,
           54,
           57.8,
           63.5,
           74.5
          ],
          "colorbar": {
           "tickformatstops": [
            {
             "dtickrange": [
              40,
              80
             ]
            }
           ],
           "title": {
            "text": "Scoring Efficiency"
           }
          },
          "size": [
           27.75,
           25.0625,
           12.5125,
           28.7,
           34.1375,
           23.4375,
           22.55
          ]
         },
         "mode": "markers",
         "name": "BOS",
         "text": [
          "Jaylen Brown",
          "Al Horford",
          "Payton Pritchard",
          "Marcus Smart",
          "Jayson Tatum",
          "Grant Williams",
          "Robert Williams"
         ],
         "type": "scatter",
         "visible": false,
         "x": [
          34.9,
          17.4,
          21.9,
          18.6,
          37.2,
          16,
          16.7
         ],
         "y": [
          57.4,
          57.4,
          57.8,
          54,
          57.8,
          63.5,
          74.5
         ]
        },
        {
         "hovertemplate": "<b>%{text}</b><br><i>Points per 75</i>: %{x:.2f}<br>True Shooting: %{y}",
         "marker": {
          "autocolorscale": true,
          "cmax": 74.5,
          "cmin": 45.5,
          "color": [
           58.3,
           55.800000000000004,
           57.099999999999994,
           60.4,
           57.8,
           52,
           53.7,
           72.5
          ],
          "colorbar": {
           "tickformatstops": [
            {
             "dtickrange": [
              40,
              80
             ]
            }
           ],
           "title": {
            "text": "Scoring Efficiency"
           }
          },
          "size": [
           31.55,
           23.775,
           28.7625,
           33.05,
           12.9875,
           15.5625,
           18.125,
           22.475
          ]
         },
         "mode": "markers",
         "name": "DAL",
         "text": [
          "Jalen Brunson",
          "Reggie Bullock",
          "Luka Dončić",
          "Dorian Finney-Smith",
          "Josh Green",
          "Tim Hardaway Jr.",
          "Maxi Kleber",
          "Dwight Powell"
         ],
         "type": "scatter",
         "visible": false,
         "x": [
          25.6,
          15.4,
          40.4,
          16.8,
          15.5,
          24.2,
          14.3,
          20.1
         ],
         "y": [
          58.3,
          55.800000000000004,
          57.099999999999994,
          60.4,
          57.8,
          52,
          53.7,
          72.5
         ]
        },
        {
         "hovertemplate": "<b>%{text}</b><br><i>Points per 75</i>: %{x:.2f}<br>True Shooting: %{y}",
         "marker": {
          "autocolorscale": true,
          "cmax": 74.5,
          "cmin": 45.5,
          "color": [
           53.400000000000006,
           61.4,
           54.7,
           60.3,
           60.199999999999996,
           53.1,
           55.2,
           56.699999999999996,
           59.5
          ],
          "colorbar": {
           "tickformatstops": [
            {
             "dtickrange": [
              40,
              80
             ]
            }
           ],
           "title": {
            "text": "Scoring Efficiency"
           }
          },
          "size": [
           16.675,
           20.8625,
           26.725,
           20.7,
           21.4,
           23.8375,
           18.6125,
           25.7,
           26.175
          ]
         },
         "mode": "markers",
         "name": "HOU",
         "text": [
          "Josh Christopher",
          "Eric Gordon",
          "Jalen Green",
          "Kenyon Martin Jr.",
          "Garrison Mathews",
          "Kevin Porter Jr.",
          "Alperen Şengün",
          "Jae'Sean Tate",
          "Christian Wood"
         ],
         "type": "scatter",
         "visible": false,
         "x": [
          20.9,
          21.8,
          25.8,
          20,
          18.1,
          23.7,
          22.1,
          21.3,
          27.7
         ],
         "y": [
          53.400000000000006,
          61.4,
          54.7,
          60.3,
          60.199999999999996,
          53.1,
          55.2,
          56.699999999999996,
          59.5
         ]
        },
        {
         "hovertemplate": "<b>%{text}</b><br><i>Points per 75</i>: %{x:.2f}<br>True Shooting: %{y}",
         "marker": {
          "autocolorscale": true,
          "cmax": 74.5,
          "cmin": 45.5,
          "color": [
           49.1,
           55.00000000000001,
           57.49999999999999,
           56.699999999999996,
           58.599999999999994,
           58.3,
           59
          ],
          "colorbar": {
           "tickformatstops": [
            {
             "dtickrange": [
              40,
              80
             ]
            }
           ],
           "title": {
            "text": "Scoring Efficiency"
           }
          },
          "size": [
           14.675,
           13.2,
           13.6,
           16.0625,
           19.7375,
           21.0125,
           10.8625
          ]
         },
         "mode": "markers",
         "name": "POR",
         "text": [
          "CJ Elleby",
          "Damian Lillard",
          "Nassir Little",
          "Ben McLemore",
          "Jusuf Nurkić",
          "Anfernee Simons",
          "Trendon Watford"
         ],
         "type": "scatter",
         "visible": false,
         "x": [
          14.1,
          32.2,
          18.4,
          24.9,
          26.1,
          28.7,
          20.5
         ],
         "y": [
          49.1,
          55.00000000000001,
          57.49999999999999,
          56.699999999999996,
          58.599999999999994,
          58.3,
          59
         ]
        },
        {
         "hovertemplate": "<b>%{text}</b><br><i>Points per 75</i>: %{x:.2f}<br>True Shooting: %{y}",
         "marker": {
          "autocolorscale": true,
          "cmax": 74.5,
          "cmin": 45.5,
          "color": [
           61.6,
           56.10000000000001,
           56.599999999999994,
           50.2,
           59.4,
           51.7,
           59.4,
           59.4
          ],
          "colorbar": {
           "tickformatstops": [
            {
             "dtickrange": [
              40,
              80
             ]
            }
           ],
           "title": {
            "text": "Scoring Efficiency"
           }
          },
          "size": [
           28.7125,
           16.9125,
           31.7875,
           17.675,
           33.125,
           14.7375,
           21.7,
           21.0625
          ]
         },
         "mode": "markers",
         "name": "PHI",
         "text": [
          "Joel Embiid",
          "Danny Green",
          "Tobias Harris",
          "Furkan Korkmaz",
          "Tyrese Maxey",
          "Shake Milton",
          "Georges Niang",
          "Matisse Thybulle"
         ],
         "type": "scatter",
         "visible": false,
         "x": [
          45.1,
          13.5,
          24.7,
          18,
          24.7,
          19,
          20.1,
          11.2
         ],
         "y": [
          61.6,
          56.10000000000001,
          56.599999999999994,
          50.2,
          59.4,
          51.7,
          59.4,
          59.4
         ]
        }
       ],
       "layout": {
        "autosize": false,
        "height": 800,
        "showlegend": false,
        "template": {
         "data": {
          "bar": [
           {
            "error_x": {
             "color": "#2a3f5f"
            },
            "error_y": {
             "color": "#2a3f5f"
            },
            "marker": {
             "line": {
              "color": "#E5ECF6",
              "width": 0.5
             },
             "pattern": {
              "fillmode": "overlay",
              "size": 10,
              "solidity": 0.2
             }
            },
            "type": "bar"
           }
          ],
          "barpolar": [
           {
            "marker": {
             "line": {
              "color": "#E5ECF6",
              "width": 0.5
             },
             "pattern": {
              "fillmode": "overlay",
              "size": 10,
              "solidity": 0.2
             }
            },
            "type": "barpolar"
           }
          ],
          "carpet": [
           {
            "aaxis": {
             "endlinecolor": "#2a3f5f",
             "gridcolor": "white",
             "linecolor": "white",
             "minorgridcolor": "white",
             "startlinecolor": "#2a3f5f"
            },
            "baxis": {
             "endlinecolor": "#2a3f5f",
             "gridcolor": "white",
             "linecolor": "white",
             "minorgridcolor": "white",
             "startlinecolor": "#2a3f5f"
            },
            "type": "carpet"
           }
          ],
          "choropleth": [
           {
            "colorbar": {
             "outlinewidth": 0,
             "ticks": ""
            },
            "type": "choropleth"
           }
          ],
          "contour": [
           {
            "colorbar": {
             "outlinewidth": 0,
             "ticks": ""
            },
            "colorscale": [
             [
              0,
              "#0d0887"
             ],
             [
              0.1111111111111111,
              "#46039f"
             ],
             [
              0.2222222222222222,
              "#7201a8"
             ],
             [
              0.3333333333333333,
              "#9c179e"
             ],
             [
              0.4444444444444444,
              "#bd3786"
             ],
             [
              0.5555555555555556,
              "#d8576b"
             ],
             [
              0.6666666666666666,
              "#ed7953"
             ],
             [
              0.7777777777777778,
              "#fb9f3a"
             ],
             [
              0.8888888888888888,
              "#fdca26"
             ],
             [
              1,
              "#f0f921"
             ]
            ],
            "type": "contour"
           }
          ],
          "contourcarpet": [
           {
            "colorbar": {
             "outlinewidth": 0,
             "ticks": ""
            },
            "type": "contourcarpet"
           }
          ],
          "heatmap": [
           {
            "colorbar": {
             "outlinewidth": 0,
             "ticks": ""
            },
            "colorscale": [
             [
              0,
              "#0d0887"
             ],
             [
              0.1111111111111111,
              "#46039f"
             ],
             [
              0.2222222222222222,
              "#7201a8"
             ],
             [
              0.3333333333333333,
              "#9c179e"
             ],
             [
              0.4444444444444444,
              "#bd3786"
             ],
             [
              0.5555555555555556,
              "#d8576b"
             ],
             [
              0.6666666666666666,
              "#ed7953"
             ],
             [
              0.7777777777777778,
              "#fb9f3a"
             ],
             [
              0.8888888888888888,
              "#fdca26"
             ],
             [
              1,
              "#f0f921"
             ]
            ],
            "type": "heatmap"
           }
          ],
          "heatmapgl": [
           {
            "colorbar": {
             "outlinewidth": 0,
             "ticks": ""
            },
            "colorscale": [
             [
              0,
              "#0d0887"
             ],
             [
              0.1111111111111111,
              "#46039f"
             ],
             [
              0.2222222222222222,
              "#7201a8"
             ],
             [
              0.3333333333333333,
              "#9c179e"
             ],
             [
              0.4444444444444444,
              "#bd3786"
             ],
             [
              0.5555555555555556,
              "#d8576b"
             ],
             [
              0.6666666666666666,
              "#ed7953"
             ],
             [
              0.7777777777777778,
              "#fb9f3a"
             ],
             [
              0.8888888888888888,
              "#fdca26"
             ],
             [
              1,
              "#f0f921"
             ]
            ],
            "type": "heatmapgl"
           }
          ],
          "histogram": [
           {
            "marker": {
             "pattern": {
              "fillmode": "overlay",
              "size": 10,
              "solidity": 0.2
             }
            },
            "type": "histogram"
           }
          ],
          "histogram2d": [
           {
            "colorbar": {
             "outlinewidth": 0,
             "ticks": ""
            },
            "colorscale": [
             [
              0,
              "#0d0887"
             ],
             [
              0.1111111111111111,
              "#46039f"
             ],
             [
              0.2222222222222222,
              "#7201a8"
             ],
             [
              0.3333333333333333,
              "#9c179e"
             ],
             [
              0.4444444444444444,
              "#bd3786"
             ],
             [
              0.5555555555555556,
              "#d8576b"
             ],
             [
              0.6666666666666666,
              "#ed7953"
             ],
             [
              0.7777777777777778,
              "#fb9f3a"
             ],
             [
              0.8888888888888888,
              "#fdca26"
             ],
             [
              1,
              "#f0f921"
             ]
            ],
            "type": "histogram2d"
           }
          ],
          "histogram2dcontour": [
           {
            "colorbar": {
             "outlinewidth": 0,
             "ticks": ""
            },
            "colorscale": [
             [
              0,
              "#0d0887"
             ],
             [
              0.1111111111111111,
              "#46039f"
             ],
             [
              0.2222222222222222,
              "#7201a8"
             ],
             [
              0.3333333333333333,
              "#9c179e"
             ],
             [
              0.4444444444444444,
              "#bd3786"
             ],
             [
              0.5555555555555556,
              "#d8576b"
             ],
             [
              0.6666666666666666,
              "#ed7953"
             ],
             [
              0.7777777777777778,
              "#fb9f3a"
             ],
             [
              0.8888888888888888,
              "#fdca26"
             ],
             [
              1,
              "#f0f921"
             ]
            ],
            "type": "histogram2dcontour"
           }
          ],
          "mesh3d": [
           {
            "colorbar": {
             "outlinewidth": 0,
             "ticks": ""
            },
            "type": "mesh3d"
           }
          ],
          "parcoords": [
           {
            "line": {
             "colorbar": {
              "outlinewidth": 0,
              "ticks": ""
             }
            },
            "type": "parcoords"
           }
          ],
          "pie": [
           {
            "automargin": true,
            "type": "pie"
           }
          ],
          "scatter": [
           {
            "fillpattern": {
             "fillmode": "overlay",
             "size": 10,
             "solidity": 0.2
            },
            "type": "scatter"
           }
          ],
          "scatter3d": [
           {
            "line": {
             "colorbar": {
              "outlinewidth": 0,
              "ticks": ""
             }
            },
            "marker": {
             "colorbar": {
              "outlinewidth": 0,
              "ticks": ""
             }
            },
            "type": "scatter3d"
           }
          ],
          "scattercarpet": [
           {
            "marker": {
             "colorbar": {
              "outlinewidth": 0,
              "ticks": ""
             }
            },
            "type": "scattercarpet"
           }
          ],
          "scattergeo": [
           {
            "marker": {
             "colorbar": {
              "outlinewidth": 0,
              "ticks": ""
             }
            },
            "type": "scattergeo"
           }
          ],
          "scattergl": [
           {
            "marker": {
             "colorbar": {
              "outlinewidth": 0,
              "ticks": ""
             }
            },
            "type": "scattergl"
           }
          ],
          "scattermapbox": [
           {
            "marker": {
             "colorbar": {
              "outlinewidth": 0,
              "ticks": ""
             }
            },
            "type": "scattermapbox"
           }
          ],
          "scatterpolar": [
           {
            "marker": {
             "colorbar": {
              "outlinewidth": 0,
              "ticks": ""
             }
            },
            "type": "scatterpolar"
           }
          ],
          "scatterpolargl": [
           {
            "marker": {
             "colorbar": {
              "outlinewidth": 0,
              "ticks": ""
             }
            },
            "type": "scatterpolargl"
           }
          ],
          "scatterternary": [
           {
            "marker": {
             "colorbar": {
              "outlinewidth": 0,
              "ticks": ""
             }
            },
            "type": "scatterternary"
           }
          ],
          "surface": [
           {
            "colorbar": {
             "outlinewidth": 0,
             "ticks": ""
            },
            "colorscale": [
             [
              0,
              "#0d0887"
             ],
             [
              0.1111111111111111,
              "#46039f"
             ],
             [
              0.2222222222222222,
              "#7201a8"
             ],
             [
              0.3333333333333333,
              "#9c179e"
             ],
             [
              0.4444444444444444,
              "#bd3786"
             ],
             [
              0.5555555555555556,
              "#d8576b"
             ],
             [
              0.6666666666666666,
              "#ed7953"
             ],
             [
              0.7777777777777778,
              "#fb9f3a"
             ],
             [
              0.8888888888888888,
              "#fdca26"
             ],
             [
              1,
              "#f0f921"
             ]
            ],
            "type": "surface"
           }
          ],
          "table": [
           {
            "cells": {
             "fill": {
              "color": "#EBF0F8"
             },
             "line": {
              "color": "white"
             }
            },
            "header": {
             "fill": {
              "color": "#C8D4E3"
             },
             "line": {
              "color": "white"
             }
            },
            "type": "table"
           }
          ]
         },
         "layout": {
          "annotationdefaults": {
           "arrowcolor": "#2a3f5f",
           "arrowhead": 0,
           "arrowwidth": 1
          },
          "autotypenumbers": "strict",
          "coloraxis": {
           "colorbar": {
            "outlinewidth": 0,
            "ticks": ""
           }
          },
          "colorscale": {
           "diverging": [
            [
             0,
             "#8e0152"
            ],
            [
             0.1,
             "#c51b7d"
            ],
            [
             0.2,
             "#de77ae"
            ],
            [
             0.3,
             "#f1b6da"
            ],
            [
             0.4,
             "#fde0ef"
            ],
            [
             0.5,
             "#f7f7f7"
            ],
            [
             0.6,
             "#e6f5d0"
            ],
            [
             0.7,
             "#b8e186"
            ],
            [
             0.8,
             "#7fbc41"
            ],
            [
             0.9,
             "#4d9221"
            ],
            [
             1,
             "#276419"
            ]
           ],
           "sequential": [
            [
             0,
             "#0d0887"
            ],
            [
             0.1111111111111111,
             "#46039f"
            ],
            [
             0.2222222222222222,
             "#7201a8"
            ],
            [
             0.3333333333333333,
             "#9c179e"
            ],
            [
             0.4444444444444444,
             "#bd3786"
            ],
            [
             0.5555555555555556,
             "#d8576b"
            ],
            [
             0.6666666666666666,
             "#ed7953"
            ],
            [
             0.7777777777777778,
             "#fb9f3a"
            ],
            [
             0.8888888888888888,
             "#fdca26"
            ],
            [
             1,
             "#f0f921"
            ]
           ],
           "sequentialminus": [
            [
             0,
             "#0d0887"
            ],
            [
             0.1111111111111111,
             "#46039f"
            ],
            [
             0.2222222222222222,
             "#7201a8"
            ],
            [
             0.3333333333333333,
             "#9c179e"
            ],
            [
             0.4444444444444444,
             "#bd3786"
            ],
            [
             0.5555555555555556,
             "#d8576b"
            ],
            [
             0.6666666666666666,
             "#ed7953"
            ],
            [
             0.7777777777777778,
             "#fb9f3a"
            ],
            [
             0.8888888888888888,
             "#fdca26"
            ],
            [
             1,
             "#f0f921"
            ]
           ]
          },
          "colorway": [
           "#636efa",
           "#EF553B",
           "#00cc96",
           "#ab63fa",
           "#FFA15A",
           "#19d3f3",
           "#FF6692",
           "#B6E880",
           "#FF97FF",
           "#FECB52"
          ],
          "font": {
           "color": "#2a3f5f"
          },
          "geo": {
           "bgcolor": "white",
           "lakecolor": "white",
           "landcolor": "#E5ECF6",
           "showlakes": true,
           "showland": true,
           "subunitcolor": "white"
          },
          "hoverlabel": {
           "align": "left"
          },
          "hovermode": "closest",
          "mapbox": {
           "style": "light"
          },
          "paper_bgcolor": "white",
          "plot_bgcolor": "#E5ECF6",
          "polar": {
           "angularaxis": {
            "gridcolor": "white",
            "linecolor": "white",
            "ticks": ""
           },
           "bgcolor": "#E5ECF6",
           "radialaxis": {
            "gridcolor": "white",
            "linecolor": "white",
            "ticks": ""
           }
          },
          "scene": {
           "xaxis": {
            "backgroundcolor": "#E5ECF6",
            "gridcolor": "white",
            "gridwidth": 2,
            "linecolor": "white",
            "showbackground": true,
            "ticks": "",
            "zerolinecolor": "white"
           },
           "yaxis": {
            "backgroundcolor": "#E5ECF6",
            "gridcolor": "white",
            "gridwidth": 2,
            "linecolor": "white",
            "showbackground": true,
            "ticks": "",
            "zerolinecolor": "white"
           },
           "zaxis": {
            "backgroundcolor": "#E5ECF6",
            "gridcolor": "white",
            "gridwidth": 2,
            "linecolor": "white",
            "showbackground": true,
            "ticks": "",
            "zerolinecolor": "white"
           }
          },
          "shapedefaults": {
           "line": {
            "color": "#2a3f5f"
           }
          },
          "ternary": {
           "aaxis": {
            "gridcolor": "white",
            "linecolor": "white",
            "ticks": ""
           },
           "baxis": {
            "gridcolor": "white",
            "linecolor": "white",
            "ticks": ""
           },
           "bgcolor": "#E5ECF6",
           "caxis": {
            "gridcolor": "white",
            "linecolor": "white",
            "ticks": ""
           }
          },
          "title": {
           "x": 0.05
          },
          "xaxis": {
           "automargin": true,
           "gridcolor": "white",
           "linecolor": "white",
           "ticks": "",
           "title": {
            "standoff": 15
           },
           "zerolinecolor": "white",
           "zerolinewidth": 2
          },
          "yaxis": {
           "automargin": true,
           "gridcolor": "white",
           "linecolor": "white",
           "ticks": "",
           "title": {
            "standoff": 15
           },
           "zerolinecolor": "white",
           "zerolinewidth": 2
          }
         }
        },
        "updatemenus": [
         {
          "active": 0,
          "buttons": [
           {
            "args": [
             {
              "visible": [
               true,
               false,
               false,
               false,
               false,
               false,
               false,
               false,
               false,
               false,
               false,
               false,
               false,
               false,
               false,
               false,
               false,
               false,
               false,
               false,
               false,
               false,
               false,
               false,
               false,
               false,
               false,
               false,
               false,
               false,
               false,
               false
              ]
             },
             {
              "showlegend": false,
              "title": "all_teams"
             }
            ],
            "label": "all_teams"
           },
           {
            "args": [
             {
              "visible": [
               false,
               true,
               false,
               false,
               false,
               false,
               false,
               false,
               false,
               false,
               false,
               false,
               false,
               false,
               false,
               false,
               false,
               false,
               false,
               false,
               false,
               false,
               false,
               false,
               false,
               false,
               false,
               false,
               false,
               false,
               false,
               false
              ]
             },
             {
              "showlegend": false,
              "title": "TOR"
             }
            ],
            "label": "TOR",
            "method": "update"
           },
           {
            "args": [
             {
              "visible": [
               false,
               false,
               true,
               false,
               false,
               false,
               false,
               false,
               false,
               false,
               false,
               false,
               false,
               false,
               false,
               false,
               false,
               false,
               false,
               false,
               false,
               false,
               false,
               false,
               false,
               false,
               false,
               false,
               false,
               false,
               false,
               false
              ]
             },
             {
              "showlegend": false,
              "title": "MEM"
             }
            ],
            "label": "MEM",
            "method": "update"
           },
           {
            "args": [
             {
              "visible": [
               false,
               false,
               false,
               true,
               false,
               false,
               false,
               false,
               false,
               false,
               false,
               false,
               false,
               false,
               false,
               false,
               false,
               false,
               false,
               false,
               false,
               false,
               false,
               false,
               false,
               false,
               false,
               false,
               false,
               false,
               false,
               false
              ]
             },
             {
              "showlegend": false,
              "title": "MIA"
             }
            ],
            "label": "MIA",
            "method": "update"
           },
           {
            "args": [
             {
              "visible": [
               false,
               false,
               false,
               false,
               true,
               false,
               false,
               false,
               false,
               false,
               false,
               false,
               false,
               false,
               false,
               false,
               false,
               false,
               false,
               false,
               false,
               false,
               false,
               false,
               false,
               false,
               false,
               false,
               false,
               false,
               false,
               false
              ]
             },
             {
              "showlegend": false,
              "title": "BRK"
             }
            ],
            "label": "BRK",
            "method": "update"
           },
           {
            "args": [
             {
              "visible": [
               false,
               false,
               false,
               false,
               false,
               true,
               false,
               false,
               false,
               false,
               false,
               false,
               false,
               false,
               false,
               false,
               false,
               false,
               false,
               false,
               false,
               false,
               false,
               false,
               false,
               false,
               false,
               false,
               false,
               false,
               false,
               false
              ]
             },
             {
              "showlegend": false,
              "title": "TOT"
             }
            ],
            "label": "TOT",
            "method": "update"
           },
           {
            "args": [
             {
              "visible": [
               false,
               false,
               false,
               false,
               false,
               false,
               true,
               false,
               false,
               false,
               false,
               false,
               false,
               false,
               false,
               false,
               false,
               false,
               false,
               false,
               false,
               false,
               false,
               false,
               false,
               false,
               false,
               false,
               false,
               false,
               false,
               false
              ]
             },
             {
              "showlegend": false,
              "title": "MIL"
             }
            ],
            "label": "MIL",
            "method": "update"
           },
           {
            "args": [
             {
              "visible": [
               false,
               false,
               false,
               false,
               false,
               false,
               false,
               true,
               false,
               false,
               false,
               false,
               false,
               false,
               false,
               false,
               false,
               false,
               false,
               false,
               false,
               false,
               false,
               false,
               false,
               false,
               false,
               false,
               false,
               false,
               false,
               false
              ]
             },
             {
              "showlegend": false,
              "title": "CLE"
             }
            ],
            "label": "CLE",
            "method": "update"
           },
           {
            "args": [
             {
              "visible": [
               false,
               false,
               false,
               false,
               false,
               false,
               false,
               false,
               true,
               false,
               false,
               false,
               false,
               false,
               false,
               false,
               false,
               false,
               false,
               false,
               false,
               false,
               false,
               false,
               false,
               false,
               false,
               false,
               false,
               false,
               false,
               false
              ]
             },
             {
              "showlegend": false,
              "title": "NOP"
             }
            ],
            "label": "NOP",
            "method": "update"
           },
           {
            "args": [
             {
              "visible": [
               false,
               false,
               false,
               false,
               false,
               false,
               false,
               false,
               false,
               true,
               false,
               false,
               false,
               false,
               false,
               false,
               false,
               false,
               false,
               false,
               false,
               false,
               false,
               false,
               false,
               false,
               false,
               false,
               false,
               false,
               false,
               false
              ]
             },
             {
              "showlegend": false,
              "title": "LAL"
             }
            ],
            "label": "LAL",
            "method": "update"
           },
           {
            "args": [
             {
              "visible": [
               false,
               false,
               false,
               false,
               false,
               false,
               false,
               false,
               false,
               false,
               true,
               false,
               false,
               false,
               false,
               false,
               false,
               false,
               false,
               false,
               false,
               false,
               false,
               false,
               false,
               false,
               false,
               false,
               false,
               false,
               false,
               false
              ]
             },
             {
              "showlegend": false,
              "title": "ORL"
             }
            ],
            "label": "ORL",
            "method": "update"
           },
           {
            "args": [
             {
              "visible": [
               false,
               false,
               false,
               false,
               false,
               false,
               false,
               false,
               false,
               false,
               false,
               true,
               false,
               false,
               false,
               false,
               false,
               false,
               false,
               false,
               false,
               false,
               false,
               false,
               false,
               false,
               false,
               false,
               false,
               false,
               false,
               false
              ]
             },
             {
              "showlegend": false,
              "title": "WAS"
             }
            ],
            "label": "WAS",
            "method": "update"
           },
           {
            "args": [
             {
              "visible": [
               false,
               false,
               false,
               false,
               false,
               false,
               false,
               false,
               false,
               false,
               false,
               false,
               true,
               false,
               false,
               false,
               false,
               false,
               false,
               false,
               false,
               false,
               false,
               false,
               false,
               false,
               false,
               false,
               false,
               false,
               false,
               false
              ]
             },
             {
              "showlegend": false,
              "title": "PHO"
             }
            ],
            "label": "PHO",
            "method": "update"
           },
           {
            "args": [
             {
              "visible": [
               false,
               false,
               false,
               false,
               false,
               false,
               false,
               false,
               false,
               false,
               false,
               false,
               false,
               true,
               false,
               false,
               false,
               false,
               false,
               false,
               false,
               false,
               false,
               false,
               false,
               false,
               false,
               false,
               false,
               false,
               false,
               false
              ]
             },
             {
              "showlegend": false,
              "title": "CHO"
             }
            ],
            "label": "CHO",
            "method": "update"
           },
           {
            "args": [
             {
              "visible": [
               false,
               false,
               false,
               false,
               false,
               false,
               false,
               false,
               false,
               false,
               false,
               false,
               false,
               false,
               true,
               false,
               false,
               false,
               false,
               false,
               false,
               false,
               false,
               false,
               false,
               false,
               false,
               false,
               false,
               false,
               false,
               false
              ]
             },
             {
              "showlegend": false,
              "title": "CHI"
             }
            ],
            "label": "CHI",
            "method": "update"
           },
           {
            "args": [
             {
              "visible": [
               false,
               false,
               false,
               false,
               false,
               false,
               false,
               false,
               false,
               false,
               false,
               false,
               false,
               false,
               false,
               true,
               false,
               false,
               false,
               false,
               false,
               false,
               false,
               false,
               false,
               false,
               false,
               false,
               false,
               false,
               false,
               false
              ]
             },
             {
              "showlegend": false,
              "title": "SAC"
             }
            ],
            "label": "SAC",
            "method": "update"
           },
           {
            "args": [
             {
              "visible": [
               false,
               false,
               false,
               false,
               false,
               false,
               false,
               false,
               false,
               false,
               false,
               false,
               false,
               false,
               false,
               false,
               true,
               false,
               false,
               false,
               false,
               false,
               false,
               false,
               false,
               false,
               false,
               false,
               false,
               false,
               false,
               false
              ]
             },
             {
              "showlegend": false,
              "title": "NYK"
             }
            ],
            "label": "NYK",
            "method": "update"
           },
           {
            "args": [
             {
              "visible": [
               false,
               false,
               false,
               false,
               false,
               false,
               false,
               false,
               false,
               false,
               false,
               false,
               false,
               false,
               false,
               false,
               false,
               true,
               false,
               false,
               false,
               false,
               false,
               false,
               false,
               false,
               false,
               false,
               false,
               false,
               false,
               false
              ]
             },
             {
              "showlegend": false,
              "title": "DEN"
             }
            ],
            "label": "DEN",
            "method": "update"
           },
           {
            "args": [
             {
              "visible": [
               false,
               false,
               false,
               false,
               false,
               false,
               false,
               false,
               false,
               false,
               false,
               false,
               false,
               false,
               false,
               false,
               false,
               false,
               true,
               false,
               false,
               false,
               false,
               false,
               false,
               false,
               false,
               false,
               false,
               false,
               false,
               false
              ]
             },
             {
              "showlegend": false,
              "title": "SAS"
             }
            ],
            "label": "SAS",
            "method": "update"
           },
           {
            "args": [
             {
              "visible": [
               false,
               false,
               false,
               false,
               false,
               false,
               false,
               false,
               false,
               false,
               false,
               false,
               false,
               false,
               false,
               false,
               false,
               false,
               false,
               true,
               false,
               false,
               false,
               false,
               false,
               false,
               false,
               false,
               false,
               false,
               false,
               false
              ]
             },
             {
              "showlegend": false,
              "title": "LAC"
             }
            ],
            "label": "LAC",
            "method": "update"
           },
           {
            "args": [
             {
              "visible": [
               false,
               false,
               false,
               false,
               false,
               false,
               false,
               false,
               false,
               false,
               false,
               false,
               false,
               false,
               false,
               false,
               false,
               false,
               false,
               false,
               true,
               false,
               false,
               false,
               false,
               false,
               false,
               false,
               false,
               false,
               false,
               false
              ]
             },
             {
              "showlegend": false,
              "title": "OKC"
             }
            ],
            "label": "OKC",
            "method": "update"
           },
           {
            "args": [
             {
              "visible": [
               false,
               false,
               false,
               false,
               false,
               false,
               false,
               false,
               false,
               false,
               false,
               false,
               false,
               false,
               false,
               false,
               false,
               false,
               false,
               false,
               false,
               true,
               false,
               false,
               false,
               false,
               false,
               false,
               false,
               false,
               false,
               false
              ]
             },
             {
              "showlegend": false,
              "title": "MIN"
             }
            ],
            "label": "MIN",
            "method": "update"
           },
           {
            "args": [
             {
              "visible": [
               false,
               false,
               false,
               false,
               false,
               false,
               false,
               false,
               false,
               false,
               false,
               false,
               false,
               false,
               false,
               false,
               false,
               false,
               false,
               false,
               false,
               false,
               true,
               false,
               false,
               false,
               false,
               false,
               false,
               false,
               false,
               false
              ]
             },
             {
              "showlegend": false,
              "title": "DET"
             }
            ],
            "label": "DET",
            "method": "update"
           },
           {
            "args": [
             {
              "visible": [
               false,
               false,
               false,
               false,
               false,
               false,
               false,
               false,
               false,
               false,
               false,
               false,
               false,
               false,
               false,
               false,
               false,
               false,
               false,
               false,
               false,
               false,
               false,
               true,
               false,
               false,
               false,
               false,
               false,
               false,
               false,
               false
              ]
             },
             {
              "showlegend": false,
              "title": "IND"
             }
            ],
            "label": "IND",
            "method": "update"
           },
           {
            "args": [
             {
              "visible": [
               false,
               false,
               false,
               false,
               false,
               false,
               false,
               false,
               false,
               false,
               false,
               false,
               false,
               false,
               false,
               false,
               false,
               false,
               false,
               false,
               false,
               false,
               false,
               false,
               true,
               false,
               false,
               false,
               false,
               false,
               false,
               false
              ]
             },
             {
              "showlegend": false,
              "title": "GSW"
             }
            ],
            "label": "GSW",
            "method": "update"
           },
           {
            "args": [
             {
              "visible": [
               false,
               false,
               false,
               false,
               false,
               false,
               false,
               false,
               false,
               false,
               false,
               false,
               false,
               false,
               false,
               false,
               false,
               false,
               false,
               false,
               false,
               false,
               false,
               false,
               false,
               true,
               false,
               false,
               false,
               false,
               false,
               false
              ]
             },
             {
              "showlegend": false,
              "title": "ATL"
             }
            ],
            "label": "ATL",
            "method": "update"
           },
           {
            "args": [
             {
              "visible": [
               false,
               false,
               false,
               false,
               false,
               false,
               false,
               false,
               false,
               false,
               false,
               false,
               false,
               false,
               false,
               false,
               false,
               false,
               false,
               false,
               false,
               false,
               false,
               false,
               false,
               false,
               true,
               false,
               false,
               false,
               false,
               false
              ]
             },
             {
              "showlegend": false,
              "title": "UTA"
             }
            ],
            "label": "UTA",
            "method": "update"
           },
           {
            "args": [
             {
              "visible": [
               false,
               false,
               false,
               false,
               false,
               false,
               false,
               false,
               false,
               false,
               false,
               false,
               false,
               false,
               false,
               false,
               false,
               false,
               false,
               false,
               false,
               false,
               false,
               false,
               false,
               false,
               false,
               true,
               false,
               false,
               false,
               false
              ]
             },
             {
              "showlegend": false,
              "title": "BOS"
             }
            ],
            "label": "BOS",
            "method": "update"
           },
           {
            "args": [
             {
              "visible": [
               false,
               false,
               false,
               false,
               false,
               false,
               false,
               false,
               false,
               false,
               false,
               false,
               false,
               false,
               false,
               false,
               false,
               false,
               false,
               false,
               false,
               false,
               false,
               false,
               false,
               false,
               false,
               false,
               true,
               false,
               false,
               false
              ]
             },
             {
              "showlegend": false,
              "title": "DAL"
             }
            ],
            "label": "DAL",
            "method": "update"
           },
           {
            "args": [
             {
              "visible": [
               false,
               false,
               false,
               false,
               false,
               false,
               false,
               false,
               false,
               false,
               false,
               false,
               false,
               false,
               false,
               false,
               false,
               false,
               false,
               false,
               false,
               false,
               false,
               false,
               false,
               false,
               false,
               false,
               false,
               true,
               false,
               false
              ]
             },
             {
              "showlegend": false,
              "title": "HOU"
             }
            ],
            "label": "HOU",
            "method": "update"
           },
           {
            "args": [
             {
              "visible": [
               false,
               false,
               false,
               false,
               false,
               false,
               false,
               false,
               false,
               false,
               false,
               false,
               false,
               false,
               false,
               false,
               false,
               false,
               false,
               false,
               false,
               false,
               false,
               false,
               false,
               false,
               false,
               false,
               false,
               false,
               true,
               false
              ]
             },
             {
              "showlegend": false,
              "title": "POR"
             }
            ],
            "label": "POR",
            "method": "update"
           },
           {
            "args": [
             {
              "visible": [
               false,
               false,
               false,
               false,
               false,
               false,
               false,
               false,
               false,
               false,
               false,
               false,
               false,
               false,
               false,
               false,
               false,
               false,
               false,
               false,
               false,
               false,
               false,
               false,
               false,
               false,
               false,
               false,
               false,
               false,
               false,
               true
              ]
             },
             {
              "showlegend": false,
              "title": "PHI"
             }
            ],
            "label": "PHI",
            "method": "update"
           }
          ],
          "direction": "down",
          "pad": {
           "r": 10,
           "t": 10
          },
          "showactive": true
         }
        ],
        "width": 1000,
        "xaxis": {
         "range": [
          0,
          50
         ],
         "tickvals": [
          5,
          10,
          15,
          20,
          25,
          30,
          35,
          40,
          45
         ],
         "title": {
          "text": "Points per 75 Possesions"
         },
         "type": "linear"
        },
        "yaxis": {
         "range": [
          44,
          76
         ],
         "tickvals": [
          45,
          50,
          55,
          60,
          65,
          70,
          75
         ],
         "title": {
          "text": "True Shooting"
         },
         "type": "linear"
        }
       }
      },
      "image/png": "[encoded data removed]",
      "text/html": [
       "<div>                            <div id=\"e12bec4f-df09-44ea-b9e7-2f3115a6c88a\" class=\"plotly-graph-div\" style=\"height:800px; width:1000px;\"></div>            <script type=\"text/javascript\">                require([\"plotly\"], function(Plotly) {                    window.PLOTLYENV=window.PLOTLYENV || {};                                    if (document.getElementById(\"e12bec4f-df09-44ea-b9e7-2f3115a6c88a\")) {                    Plotly.newPlot(                        \"e12bec4f-df09-44ea-b9e7-2f3115a6c88a\",                        [{\"hovertemplate\":\"<b>%{text}</b><br><i>Points per 75</i>: %{x:.2f}<br>True Shooting: %{y}\",\"marker\":{\"autocolorscale\":true,\"cmax\":74.5,\"cmin\":45.5,\"color\":[50.3,56.00000000000001,60.8,60.4,47.5,60.9,69.8,52.0,50.6,63.3,57.9,51.9,54.900000000000006,61.0,53.6,65.60000000000001,55.1,55.400000000000006,57.49999999999999,58.199999999999996,59.199999999999996,62.3,55.2,51.1,54.800000000000004,57.8,60.8,51.5,53.900000000000006,54.400000000000006,60.099999999999994,53.1,53.900000000000006,52.900000000000006,53.400000000000006,59.5,57.3,51.4,56.2,59.9,57.599999999999994,48.1,56.99999999999999,55.00000000000001,62.7,59.3,53.0,55.7,48.3,51.5,57.49999999999999,57.4,52.5,58.3,55.800000000000004,55.900000000000006,59.199999999999996,56.8,50.3,60.4,53.1,60.099999999999994,52.800000000000004,53.400000000000006,66.0,53.2,67.2,59.8,61.0,57.199999999999996,62.0,56.699999999999996,57.199999999999996,55.60000000000001,54.1,50.4,61.5,60.099999999999994,57.8,63.2,59.0,54.1,54.300000000000004,51.0,57.099999999999994,54.1,59.599999999999994,57.4,53.7,63.4,56.00000000000001,51.6,49.1,59.3,61.6,63.800000000000004,60.4,57.4,55.400000000000006,55.400000000000006,54.900000000000006,70.8,57.9,57.599999999999994,53.900000000000006,53.800000000000004,60.6,47.8,55.7,73.2,60.199999999999996,61.4,51.4,55.60000000000001,56.10000000000001,58.199999999999996,54.7,58.699999999999996,63.7,62.7,57.8,51.800000000000004,56.49999999999999,57.9,59.5,48.1,52.0,58.3,56.10000000000001,68.0,57.099999999999994,56.599999999999994,61.0,66.4,68.0,46.1,56.99999999999999,58.199999999999996,56.10000000000001,54.800000000000004,55.2,54.400000000000006,59.3,54.300000000000004,68.89999999999999,49.3,57.4,50.3,55.50000000000001,65.7,56.99999999999999,54.7,55.800000000000004,57.9,55.1,55.400000000000006,59.199999999999996,53.0,53.5,49.1,48.8,61.9,48.8,62.5,51.300000000000004,57.4,56.39999999999999,66.10000000000001,70.1,63.3,57.3,54.50000000000001,54.400000000000006,57.9,61.9,58.599999999999994,53.7,61.5,50.2,60.0,54.7,52.1,52.0,60.5,56.10000000000001,52.5,55.00000000000001,57.49999999999999,58.599999999999994,59.4,60.0,58.8,50.0,57.199999999999996,50.1,58.199999999999996,50.5,61.1,57.9,60.3,60.199999999999996,53.6,59.4,55.300000000000004,55.300000000000004,59.5,59.3,65.10000000000001,57.699999999999996,53.5,56.699999999999996,52.900000000000006,54.6,57.699999999999996,56.3,51.7,48.9,57.199999999999996,54.900000000000006,59.699999999999996,57.49999999999999,54.900000000000006,58.3,55.800000000000004,53.300000000000004,50.9,59.0,53.800000000000004,59.4,58.099999999999994,58.599999999999994,50.6,60.8,50.1,71.39999999999999,58.9,56.10000000000001,56.3,56.00000000000001,61.199999999999996,58.099999999999994,50.0,67.9,60.3,61.3,48.5,59.8,53.1,58.099999999999994,57.099999999999994,57.699999999999996,72.5,60.3,48.699999999999996,58.9,57.8,54.300000000000004,50.9,60.0,54.300000000000004,58.8,57.3,54.6,57.3,72.2,52.6,60.699999999999996,51.5,56.599999999999994,48.8,54.400000000000006,63.7,46.1,53.900000000000006,55.2,55.00000000000001,56.49999999999999,58.3,54.0,46.5,59.5,54.1,53.6,54.400000000000006,55.00000000000001,61.4,45.5,56.699999999999996,57.8,65.60000000000001,49.4,59.5,51.9,54.7,54.1,59.4,51.0,61.4,56.10000000000001,64.0,54.6,59.3,61.5,61.7,61.199999999999996,55.2,54.0,55.1,53.300000000000004,58.4,55.900000000000006,62.3,53.7,51.2,52.1,58.8,59.0,51.2,56.39999999999999,54.900000000000006,66.2,55.60000000000001,56.00000000000001,63.5,53.2,50.0,74.5,55.900000000000006,47.9,59.5,57.599999999999994,54.800000000000004,60.3,54.6,66.0],\"colorbar\":{\"tickformatstops\":[{\"dtickrange\":[40,80]}],\"title\":{\"text\":\"Scoring Efficiency\"}},\"size\":[21.5625,24.9875,22.8125,13.125,18.325,22.5625,22.6125,10.425,18.55,27.55,22.4125,25.7375,21.6,11.0375,24.8,21.4125,14.325,30.275,15.15,22.8,28.325,32.3375,32.7125,30.2125,28.4625,11.95,18.275,24.05,17.9875,24.7,12.825,10.0875,18.45,33.8,12.3875,9.1125,14.275,17.0125,23.1,26.6375,29.3125,9.5,21.125,17.575,35.675,35.4625,19.55,15.075,10.55,11.0625,22.175,27.75,13.1875,31.55,23.775,28.975,24.1375,29.1125,14.8,25.525,11.3125,23.15,14.3375,16.675,15.575,26.7625,12.175,19.5875,20.7875,25.725,21.1375,8.975,24.25,19.95,23.575,26.1,26.6875,27.6375,17.55,13.3125,34.2875,15.8625,24.75,12.575,28.7625,20.8125,26.375,17.9625,19.2625,25.5875,30.825,12.3375,14.675,10.125,28.7125,15.5625,33.05,16.075,9.5625,29.475,26.0375,18.05,20.9,30.375,12.975,13.4625,11.825,21.25,24.275,26.5,29.7,20.8625,27.025,18.75,16.9125,16.6125,26.725,13.5625,18.9875,23.1125,12.9875,11.975,9.825,11.7875,33.6875,17.525,15.5625,30.2375,10.7875,20.5125,21.625,31.7875,22.3875,15.2,17.475,20.5875,19.55,10.4875,26.8875,31.2375,15.6625,12.7625,27.5875,25.7125,13.425,8.8625,25.0625,18.8875,9.0875,12.1375,27.35,19.7125,16.375,10.9625,14.025,23.3625,13.6375,14.55,26.575,10.375,29.2125,26.05,10.0125,21.625,14.8875,29.9,13.675,30.95,12.7125,11.2375,29.1875,14.35,19.3625,20.0,23.9875,22.5125,18.125,16.15,17.675,14.8125,27.55,11.6875,9.6375,29.1,15.7,22.2625,13.2,13.6,21.65,20.8125,26.6625,19.2125,11.35,28.9625,17.0875,23.475,9.1875,17.15,23.325,20.7,21.4,12.525,33.125,26.8125,22.5375,11.1875,15.2875,14.65,9.425,11.275,16.0625,20.7125,15.9875,26.7625,29.325,14.7375,25.95,28.325,29.1375,26.7375,23.6125,19.55,27.9875,10.8,29.575,8.95,13.0,17.15,21.7,12.1875,19.7375,14.8125,30.075,21.8625,12.4,24.7625,9.55,18.275,24.9875,9.2,26.7375,15.975,15.5875,22.4125,24.625,15.4125,28.5375,23.8375,17.45,25.35,18.5125,22.475,18.225,12.0625,14.7125,12.5125,22.525,31.8,17.725,12.65,15.1875,20.0,18.5,25.5375,23.1,13.5875,11.85,18.1,30.725,12.125,25.9625,26.7,11.325,22.9625,18.6125,17.9625,32.225,21.0125,28.7,14.075,11.5625,10.2875,10.175,12.6875,22.7,19.8375,16.3375,25.7,34.1375,8.925,13.725,12.2125,14.7,11.7625,11.2125,21.0625,8.7625,15.375,12.425,30.95,30.6,24.7625,15.4375,28.0,23.5,30.775,24.2125,19.8625,30.225,12.25,30.3625,12.0,11.85,20.15,12.1,22.1,10.8625,33.475,20.9375,27.4875,14.525,15.1125,29.1125,23.4375,13.4,9.9875,22.55,16.825,9.675,26.175,18.15,10.5625,33.15,8.825,23.15]},\"mode\":\"markers\",\"name\":\"all_teams\",\"text\":[\"Precious Achiuwa\",\"Steven Adams\",\"Bam Adebayo\",\"LaMarcus Aldridge\",\"Nickeil Alexander-Walker\",\"Grayson Allen\",\"Jarrett Allen\",\"Jose Alvarado\",\"Kyle Anderson\",\"Giannis Antetokounmpo\",\"Carmelo Anthony\",\"Cole Anthony\",\"OG Anunoby\",\"D.J. Augustin\",\"Deni Avdija\",\"Deandre Ayton\",\"Marvin Bagley III\",\"LaMelo Ball\",\"Lonzo Ball\",\"Mo Bamba\",\"Desmond Bane\",\"Harrison Barnes\",\"Scottie Barnes\",\"RJ Barrett\",\"Will Barton\",\"Keita Bates-Diop\",\"Nicolas Batum\",\"Darius Bazley\",\"Bradley Beal\",\"Malik Beasley\",\"DeAndre' Bembry\",\"D\\u0101vis Bert\\u0101ns\",\"Patrick Beverley\",\"Saddiq Bey\",\"Khem Birch\",\"Goga Bitadze\",\"Nemanja Bjelica\",\"Eric Bledsoe\",\"Bogdan Bogdanovi\\u0107\",\"Bojan Bogdanovi\\u0107\",\"Devin Booker\",\"Brandon Boston Jr.\",\"Chris Boucher\",\"Avery Bradley\",\"Mikal Bridges\",\"Miles Bridges\",\"Oshae Brissett\",\"Malcolm Brogdon\",\"Armoni Brooks\",\"Dillon Brooks\",\"Bruce Brown\",\"Jaylen Brown\",\"Troy Brown Jr.\",\"Jalen Brunson\",\"Reggie Bullock\",\"Alec Burks\",\"Jimmy Butler\",\"Kentavious Caldwell-Pope\",\"Facundo Campazzo\",\"Clint Capela\",\"Jevon Carter\",\"Wendell Carter Jr.\",\"Alex Caruso\",\"Josh Christopher\",\"Brandon Clarke\",\"Jordan Clarkson\",\"Nic Claxton\",\"Amir Coffey\",\"John Collins\",\"Mike Conley\",\"Pat Connaughton\",\"DeMarcus Cousins\",\"Robert Covington\",\"Torrey Craig\",\"Jae Crowder\",\"Cade Cunningham\",\"Seth Curry\",\"Stephen Curry\",\"Anthony Davis\",\"Dewayne Dedmon\",\"DeMar DeRozan\",\"Hamidou Diallo\",\"Spencer Dinwiddie\",\"Donte DiVincenzo\",\"Luka Don\\u010di\\u0107\",\"Luguentz Dort\",\"Ayo Dosunmu\",\"Andre Drummond\",\"Chris Duarte\",\"Kevin Durant\",\"Anthony Edwards\",\"Kessler Edwards\",\"CJ Elleby\",\"Wayne Ellington\",\"Joel Embiid\",\"Drew Eubanks\",\"Dorian Finney-Smith\",\"Bryn Forbes\",\"Trent Forrest\",\"Evan Fournier\",\"De'Aaron Fox\",\"Daniel Gafford\",\"Danilo Gallinari\",\"Darius Garland\",\"Rudy Gay\",\"Paul George\",\"Taj Gibson\",\"Josh Giddey\",\"Shai Gilgeous-Alexander\",\"Rudy Gobert\",\"Aaron Gordon\",\"Eric Gordon\",\"Devonte' Graham\",\"Jerami Grant\",\"Danny Green\",\"Draymond Green\",\"Jalen Green\",\"JaMychal Green\",\"Javonte Green\",\"Jeff Green\",\"Josh Green\",\"Blake Griffin\",\"Quentin Grimes\",\"Rui Hachimura\",\"Tyrese Haliburton\",\"R.J. Hampton\",\"Tim Hardaway Jr.\",\"James Harden\",\"Maurice Harkless\",\"Montrezl Harrell\",\"Gary Harris\",\"Tobias Harris\",\"Josh Hart\",\"Isaiah Hartenstein\",\"Jaxson Hayes\",\"Killian Hayes\",\"Gordon Hayward\",\"Willy Hernang\\u00f3mez\",\"Tyler Herro\",\"Buddy Hield\",\"George Hill\",\"Aaron Holiday\",\"Jrue Holiday\",\"Justin Holiday\",\"Richaun Holmes\",\"Rodney Hood\",\"Al Horford\",\"Talen Horton-Tucker\",\"Danuel House Jr.\",\"Dwight Howard\",\"Kevin Huerter\",\"De'Andre Hunter\",\"Bones Hyland\",\"Serge Ibaka\",\"Joe Ingles\",\"Brandon Ingram\",\"Kyrie Irving\",\"Frank Jackson\",\"Jaren Jackson Jr.\",\"Josh Jackson\",\"Reggie Jackson\",\"LeBron James\",\"Ty Jerome\",\"Cameron Johnson\",\"James Johnson\",\"Keldon Johnson\",\"Stanley Johnson\",\"Nikola Joki\\u0107\",\"Damian Jones\",\"Derrick Jones Jr.\",\"Herbert Jones\",\"Tre Jones\",\"Tyus Jones\",\"Cory Joseph\",\"Luke Kennard\",\"Corey Kispert\",\"Maxi Kleber\",\"John Konchar\",\"Furkan Korkmaz\",\"Jonathan Kuminga\",\"Kyle Kuzma\",\"Jeremy Lamb\",\"Romeo Langford\",\"Zach LaVine\",\"Damion Lee\",\"Caris LeVert\",\"Damian Lillard\",\"Nassir Little\",\"Kevon Looney\",\"Kevin Love\",\"Kyle Lowry\",\"Trey Lyles\",\"Th\\u00e9o Maledon\",\"Terance Mann\",\"Tre Mann\",\"Lauri Markkanen\",\"Naji Marshall\",\"Caleb Martin\",\"Cody Martin\",\"Kenyon Martin Jr.\",\"Garrison Mathews\",\"Wesley Matthews\",\"Tyrese Maxey\",\"CJ McCollum\",\"Jaden McDaniels\",\"Jalen McDaniels\",\"Doug McDermott\",\"JaVale McGee\",\"Rodney McGruder\",\"Jordan McLaughlin\",\"Ben McLemore\",\"De'Anthony Melton\",\"Chimezie Metu\",\"Khris Middleton\",\"Patty Mills\",\"Shake Milton\",\"Davion Mitchell\",\"Donovan Mitchell\",\"Evan Mobley\",\"Malik Monk\",\"Ja Morant\",\"Marcus Morris\",\"Monte Morris\",\"Trey Murphy III\",\"Dejounte Murray\",\"Svi Mykhailiuk\",\"Larry Nance Jr.\",\"Raul Neto\",\"Georges Niang\",\"Jaylen Nowell\",\"Jusuf Nurki\\u0107\",\"Jordan Nwora\",\"Royce O'Neale\",\"Chuma Okeke\",\"Onyeka Okongwu\",\"Isaac Okoro\",\"Kelly Olynyk\",\"Cedi Osman\",\"Kelly Oubre Jr.\",\"Eric Paschall\",\"Chris Paul\",\"Cameron Payne\",\"Gary Payton II\",\"Mason Plumlee\",\"Jakob Poeltl\",\"Aleksej Pokusevski\",\"Jordan Poole\",\"Kevin Porter Jr.\",\"Otto Porter Jr.\",\"Bobby Portis\",\"Kristaps Porzi\\u0146\\u0123is\",\"Dwight Powell\",\"Norman Powell\",\"Joshua Primo\",\"Taurean Prince\",\"Payton Pritchard\",\"Immanuel Quickley\",\"Julius Randle\",\"Austin Reaves\",\"Cam Reddish\",\"Naz Reid\",\"Josh Richardson\",\"Austin Rivers\",\"Duncan Robinson\",\"Mitchell Robinson\",\"Jeremiah Robinson-Earl\",\"Isaiah Roby\",\"Terrence Ross\",\"Terry Rozier\",\"Ricky Rubio\",\"D'Angelo Russell\",\"Domantas Sabonis\",\"Tom\\u00e1\\u0161 Satoransk\\u00fd\",\"Dennis Schr\\u00f6der\",\"Alperen \\u015eeng\\u00fcn\",\"Landry Shamet\",\"Pascal Siakam\",\"Anfernee Simons\",\"Marcus Smart\",\"Ish Smith\",\"Jalen Smith\",\"Tony Snell\",\"Lance Stephenson\",\"Lamar Stevens\",\"Isaiah Stewart\",\"Max Strus\",\"Jalen Suggs\",\"Jae'Sean Tate\",\"Jayson Tatum\",\"Terry Taylor\",\"Garrett Temple\",\"Daniel Theis\",\"Cam Thomas\",\"Klay Thompson\",\"Tristan Thompson\",\"Matisse Thybulle\",\"Xavier Tillman Sr.\",\"Obi Toppin\",\"Juan Toscano-Anderson\",\"Karl-Anthony Towns\",\"Gary Trent Jr.\",\"P.J. Tucker\",\"Myles Turner\",\"Jonas Valan\\u010di\\u016bnas\",\"Jarred Vanderbilt\",\"Fred VanVleet\",\"Devin Vassell\",\"Gabe Vincent\",\"Nikola Vu\\u010devi\\u0107\",\"Dean Wade\",\"Franz Wagner\",\"Moritz Wagner\",\"Kemba Walker\",\"Lonnie Walker IV\",\"Duane Washington Jr.\",\"P.J. Washington\",\"Trendon Watford\",\"Russell Westbrook\",\"Coby White\",\"Derrick White\",\"Hassan Whiteside\",\"Aaron Wiggins\",\"Andrew Wiggins\",\"Grant Williams\",\"Kenrich Williams\",\"Lou Williams\",\"Robert Williams\",\"Ziaire Williams\",\"Justise Winslow\",\"Christian Wood\",\"Delon Wright\",\"Thaddeus Young\",\"Trae Young\",\"Omer Yurtseven\",\"Ivica Zubac\"],\"visible\":true,\"x\":[19.2,12.6,29.3,28.0,23.3,19.5,25.0,19.5,16.8,43.6,24.6,24.9,23.8,15.9,17.1,28.0,22.8,29.9,18.3,20.0,29.2,23.5,21.7,29.0,22.5,16.8,16.5,18.9,31.9,22.9,13.4,19.2,17.2,23.8,12.5,23.4,18.5,19.2,25.3,28.9,37.4,22.1,22.3,13.4,19.6,27.3,19.2,27.9,16.4,31.9,17.7,34.9,13.1,25.6,15.4,20.4,31.6,21.6,13.8,19.7,14.8,24.3,12.9,20.9,25.6,29.2,20.4,19.4,25.9,23.7,18.3,29.1,15.2,15.7,16.1,26.0,22.3,35.9,31.6,19.8,37.7,24.5,23.1,18.2,40.4,25.7,15.7,19.9,22.9,38.9,29.6,13.9,14.1,17.0,45.1,21.2,16.8,25.0,12.6,23.9,31.6,23.2,22.7,30.3,21.2,34.3,12.1,19.3,34.4,23.9,23.2,21.8,20.6,29.4,13.5,12.7,25.8,19.5,15.0,20.5,15.5,18.2,17.5,24.9,21.2,16.9,24.2,29.0,12.1,27.8,19.0,24.7,22.2,22.7,23.1,13.4,23.9,26.7,31.8,24.5,12.8,19.2,26.7,17.7,21.0,11.1,17.4,18.9,16.7,18.4,20.0,22.1,26.1,20.2,14.3,32.9,35.4,23.5,28.6,19.2,26.5,39.0,20.7,22.9,13.8,25.6,14.0,39.7,21.5,15.5,15.7,17.3,19.5,15.9,21.3,17.4,14.3,12.9,18.0,26.8,25.4,21.3,14.0,34.3,18.1,27.3,32.2,18.4,13.8,30.2,19.8,24.8,19.4,18.4,22.3,23.9,21.0,20.1,14.0,20.0,18.1,11.9,24.7,31.3,17.1,18.2,22.7,27.9,17.7,12.3,24.9,22.8,20.1,29.7,19.1,19.0,20.0,37.8,22.2,23.5,39.6,26.0,20.7,19.1,29.2,17.8,15.1,19.0,20.1,25.7,26.1,19.7,11.7,16.7,19.4,14.8,23.3,24.2,27.3,22.4,21.6,23.6,19.6,12.8,22.3,18.3,30.0,23.7,18.0,24.9,34.8,20.1,28.6,14.3,20.3,21.9,24.5,28.5,15.0,24.2,24.9,20.4,13.4,21.1,16.5,16.4,23.3,21.0,27.5,22.9,26.9,26.7,10.8,23.2,22.1,19.2,30.1,28.7,18.6,17.8,24.7,11.1,23.1,18.8,15.8,22.7,20.9,21.3,37.2,21.8,13.9,19.0,23.5,33.8,18.6,11.2,17.2,26.4,14.6,34.9,26.2,13.6,21.4,29.0,13.0,26.8,21.6,18.6,26.0,13.7,23.8,28.4,22.7,25.3,23.9,18.1,20.5,25.8,22.5,21.9,22.7,16.8,26.3,16.0,16.5,21.8,16.7,17.8,17.3,27.7,11.6,18.7,39.9,21.2,20.8],\"y\":[50.3,56.00000000000001,60.8,60.4,47.5,60.9,69.8,52.0,50.6,63.3,57.9,51.9,54.900000000000006,61.0,53.6,65.60000000000001,55.1,55.400000000000006,57.49999999999999,58.199999999999996,59.199999999999996,62.3,55.2,51.1,54.800000000000004,57.8,60.8,51.5,53.900000000000006,54.400000000000006,60.099999999999994,53.1,53.900000000000006,52.900000000000006,53.400000000000006,59.5,57.3,51.4,56.2,59.9,57.599999999999994,48.1,56.99999999999999,55.00000000000001,62.7,59.3,53.0,55.7,48.3,51.5,57.49999999999999,57.4,52.5,58.3,55.800000000000004,55.900000000000006,59.199999999999996,56.8,50.3,60.4,53.1,60.099999999999994,52.800000000000004,53.400000000000006,66.0,53.2,67.2,59.8,61.0,57.199999999999996,62.0,56.699999999999996,57.199999999999996,55.60000000000001,54.1,50.4,61.5,60.099999999999994,57.8,63.2,59.0,54.1,54.300000000000004,51.0,57.099999999999994,54.1,59.599999999999994,57.4,53.7,63.4,56.00000000000001,51.6,49.1,59.3,61.6,63.800000000000004,60.4,57.4,55.400000000000006,55.400000000000006,54.900000000000006,70.8,57.9,57.599999999999994,53.900000000000006,53.800000000000004,60.6,47.8,55.7,73.2,60.199999999999996,61.4,51.4,55.60000000000001,56.10000000000001,58.199999999999996,54.7,58.699999999999996,63.7,62.7,57.8,51.800000000000004,56.49999999999999,57.9,59.5,48.1,52.0,58.3,56.10000000000001,68.0,57.099999999999994,56.599999999999994,61.0,66.4,68.0,46.1,56.99999999999999,58.199999999999996,56.10000000000001,54.800000000000004,55.2,54.400000000000006,59.3,54.300000000000004,68.89999999999999,49.3,57.4,50.3,55.50000000000001,65.7,56.99999999999999,54.7,55.800000000000004,57.9,55.1,55.400000000000006,59.199999999999996,53.0,53.5,49.1,48.8,61.9,48.8,62.5,51.300000000000004,57.4,56.39999999999999,66.10000000000001,70.1,63.3,57.3,54.50000000000001,54.400000000000006,57.9,61.9,58.599999999999994,53.7,61.5,50.2,60.0,54.7,52.1,52.0,60.5,56.10000000000001,52.5,55.00000000000001,57.49999999999999,58.599999999999994,59.4,60.0,58.8,50.0,57.199999999999996,50.1,58.199999999999996,50.5,61.1,57.9,60.3,60.199999999999996,53.6,59.4,55.300000000000004,55.300000000000004,59.5,59.3,65.10000000000001,57.699999999999996,53.5,56.699999999999996,52.900000000000006,54.6,57.699999999999996,56.3,51.7,48.9,57.199999999999996,54.900000000000006,59.699999999999996,57.49999999999999,54.900000000000006,58.3,55.800000000000004,53.300000000000004,50.9,59.0,53.800000000000004,59.4,58.099999999999994,58.599999999999994,50.6,60.8,50.1,71.39999999999999,58.9,56.10000000000001,56.3,56.00000000000001,61.199999999999996,58.099999999999994,50.0,67.9,60.3,61.3,48.5,59.8,53.1,58.099999999999994,57.099999999999994,57.699999999999996,72.5,60.3,48.699999999999996,58.9,57.8,54.300000000000004,50.9,60.0,54.300000000000004,58.8,57.3,54.6,57.3,72.2,52.6,60.699999999999996,51.5,56.599999999999994,48.8,54.400000000000006,63.7,46.1,53.900000000000006,55.2,55.00000000000001,56.49999999999999,58.3,54.0,46.5,59.5,54.1,53.6,54.400000000000006,55.00000000000001,61.4,45.5,56.699999999999996,57.8,65.60000000000001,49.4,59.5,51.9,54.7,54.1,59.4,51.0,61.4,56.10000000000001,64.0,54.6,59.3,61.5,61.7,61.199999999999996,55.2,54.0,55.1,53.300000000000004,58.4,55.900000000000006,62.3,53.7,51.2,52.1,58.8,59.0,51.2,56.39999999999999,54.900000000000006,66.2,55.60000000000001,56.00000000000001,63.5,53.2,50.0,74.5,55.900000000000006,47.9,59.5,57.599999999999994,54.800000000000004,60.3,54.6,66.0],\"type\":\"scatter\"},{\"hovertemplate\":\"<b>%{text}</b><br><i>Points per 75</i>: %{x:.2f}<br>True Shooting: %{y}\",\"marker\":{\"autocolorscale\":true,\"cmax\":74.5,\"cmin\":45.5,\"color\":[50.3,54.900000000000006,55.2,53.400000000000006,56.99999999999999,50.9,56.49999999999999,54.6,55.2],\"colorbar\":{\"tickformatstops\":[{\"dtickrange\":[40,80]}],\"title\":{\"text\":\"Scoring Efficiency\"}},\"size\":[21.5625,21.6,32.7125,12.3875,21.125,8.95,32.225,30.6,30.775]},\"mode\":\"markers\",\"name\":\"TOR\",\"text\":[\"Precious Achiuwa\",\"OG Anunoby\",\"Scottie Barnes\",\"Khem Birch\",\"Chris Boucher\",\"Svi Mykhailiuk\",\"Pascal Siakam\",\"Gary Trent Jr.\",\"Fred VanVleet\"],\"visible\":false,\"x\":[19.2,23.8,21.7,12.5,22.3,17.8,30.1,26.2,26.8],\"y\":[50.3,54.900000000000006,55.2,53.400000000000006,56.99999999999999,50.9,56.49999999999999,54.6,55.2],\"type\":\"scatter\"},{\"hovertemplate\":\"<b>%{text}</b><br><i>Points per 75</i>: %{x:.2f}<br>True Shooting: %{y}\",\"marker\":{\"autocolorscale\":true,\"cmax\":74.5,\"cmin\":45.5,\"color\":[56.00000000000001,50.6,59.199999999999996,51.5,66.0,53.5,54.400000000000006,61.5,52.900000000000006,57.49999999999999,51.0,55.900000000000006],\"colorbar\":{\"tickformatstops\":[{\"dtickrange\":[40,80]}],\"title\":{\"text\":\"Scoring Efficiency\"}},\"size\":[24.9875,18.55,28.325,11.0625,15.575,26.575,19.3625,16.15,20.7125,23.6125,8.7625,16.825]},\"mode\":\"markers\",\"name\":\"MEM\",\"text\":[\"Steven Adams\",\"Kyle Anderson\",\"Desmond Bane\",\"Dillon Brooks\",\"Brandon Clarke\",\"Jaren Jackson Jr.\",\"Tyus Jones\",\"John Konchar\",\"De'Anthony Melton\",\"Ja Morant\",\"Xavier Tillman Sr.\",\"Ziaire Williams\"],\"visible\":false,\"x\":[12.6,16.8,29.2,31.9,25.6,28.6,19.5,12.9,22.8,39.6,17.2,17.8],\"y\":[56.00000000000001,50.6,59.199999999999996,51.5,66.0,53.5,54.400000000000006,61.5,52.900000000000006,57.49999999999999,51.0,55.900000000000006],\"type\":\"scatter\"},{\"hovertemplate\":\"<b>%{text}</b><br><i>Points per 75</i>: %{x:.2f}<br>True Shooting: %{y}\",\"marker\":{\"autocolorscale\":true,\"cmax\":74.5,\"cmin\":45.5,\"color\":[60.8,59.199999999999996,63.2,56.10000000000001,60.0,61.1,57.3,61.4,59.3,55.1,54.6],\"colorbar\":{\"tickformatstops\":[{\"dtickrange\":[40,80]}],\"title\":{\"text\":\"Scoring Efficiency\"}},\"size\":[22.8125,24.1375,13.3125,26.8875,26.6625,17.15,25.5375,19.8375,24.7625,19.8625,8.825]},\"mode\":\"markers\",\"name\":\"MIA\",\"text\":[\"Bam Adebayo\",\"Jimmy Butler\",\"Dewayne Dedmon\",\"Tyler Herro\",\"Kyle Lowry\",\"Caleb Martin\",\"Duncan Robinson\",\"Max Strus\",\"P.J. Tucker\",\"Gabe Vincent\",\"Omer Yurtseven\"],\"visible\":false,\"x\":[29.3,31.6,19.8,31.8,19.8,20.1,21.1,22.7,13.6,18.6,21.2],\"y\":[60.8,59.199999999999996,63.2,56.10000000000001,60.0,61.1,57.3,61.4,59.3,55.1,54.6],\"type\":\"scatter\"},{\"hovertemplate\":\"<b>%{text}</b><br><i>Points per 75</i>: %{x:.2f}<br>True Shooting: %{y}\",\"marker\":{\"autocolorscale\":true,\"cmax\":74.5,\"cmin\":45.5,\"color\":[60.4,57.49999999999999,67.2,63.4,51.6,51.800000000000004,59.199999999999996,51.300000000000004,56.3,51.9],\"colorbar\":{\"tickformatstops\":[{\"dtickrange\":[40,80]}],\"title\":{\"text\":\"Scoring Efficiency\"}},\"size\":[13.125,22.175,12.175,25.5875,12.3375,11.975,13.6375,14.8875,29.325,14.7]},\"mode\":\"markers\",\"name\":\"BRK\",\"text\":[\"LaMarcus Aldridge\",\"Bruce Brown\",\"Nic Claxton\",\"Kevin Durant\",\"Kessler Edwards\",\"Blake Griffin\",\"Kyrie Irving\",\"James Johnson\",\"Patty Mills\",\"Cam Thomas\"],\"visible\":false,\"x\":[28.0,17.7,20.4,38.9,13.9,18.2,35.4,13.8,19.1,23.5],\"y\":[60.4,57.49999999999999,67.2,63.4,51.6,51.800000000000004,59.199999999999996,51.300000000000004,56.3,51.9],\"type\":\"scatter\"},{\"hovertemplate\":\"<b>%{text}</b><br><i>Points per 75</i>: %{x:.2f}<br>True Shooting: %{y}\",\"marker\":{\"autocolorscale\":true,\"cmax\":74.5,\"cmin\":45.5,\"color\":[47.5,61.0,55.1,60.099999999999994,53.1,48.3,53.1,56.699999999999996,57.199999999999996,55.60000000000001,61.5,54.300000000000004,51.0,57.4,63.800000000000004,57.4,59.5,58.3,68.0,61.0,54.800000000000004,54.400000000000006,54.300000000000004,49.3,55.50000000000001,57.9,49.1,52.1,52.0,52.5,58.8,55.300000000000004,59.0,57.699999999999996,60.3,54.300000000000004,57.3,63.7,46.1,53.900000000000006,46.5,59.5,54.1,53.6,59.5,54.1,54.900000000000006,47.9,54.800000000000004],\"colorbar\":{\"tickformatstops\":[{\"dtickrange\":[40,80]}],\"title\":{\"text\":\"Scoring Efficiency\"}},\"size\":[18.325,11.0375,14.325,12.825,10.0875,10.55,11.3125,8.975,24.25,19.95,26.6875,24.75,12.575,17.9625,15.5625,16.075,33.6875,30.2375,20.5125,22.3875,31.2375,12.7625,25.7125,8.8625,9.0875,10.9625,10.375,11.6875,9.6375,22.2625,19.2125,26.8125,13.0,18.5125,18.225,12.65,20.0,26.7,11.325,22.9625,14.075,11.5625,10.2875,10.175,12.2125,11.2125,27.4875,9.675,10.5625]},\"mode\":\"markers\",\"name\":\"TOT\",\"text\":[\"Nickeil Alexander-Walker\",\"D.J. Augustin\",\"Marvin Bagley III\",\"DeAndre' Bembry\",\"D\\u0101vis Bert\\u0101ns\",\"Armoni Brooks\",\"Jevon Carter\",\"DeMarcus Cousins\",\"Robert Covington\",\"Torrey Craig\",\"Seth Curry\",\"Spencer Dinwiddie\",\"Donte DiVincenzo\",\"Andre Drummond\",\"Drew Eubanks\",\"Bryn Forbes\",\"Tyrese Haliburton\",\"James Harden\",\"Montrezl Harrell\",\"Josh Hart\",\"Buddy Hield\",\"Aaron Holiday\",\"Justin Holiday\",\"Rodney Hood\",\"Danuel House Jr.\",\"Serge Ibaka\",\"Josh Jackson\",\"Jeremy Lamb\",\"Romeo Langford\",\"Caris LeVert\",\"Trey Lyles\",\"CJ McCollum\",\"Larry Nance Jr.\",\"Kristaps Porzi\\u0146\\u0123is\",\"Norman Powell\",\"Cam Reddish\",\"Josh Richardson\",\"Domantas Sabonis\",\"Tom\\u00e1\\u0161 Satoransk\\u00fd\",\"Dennis Schr\\u00f6der\",\"Ish Smith\",\"Jalen Smith\",\"Tony Snell\",\"Lance Stephenson\",\"Daniel Theis\",\"Tristan Thompson\",\"Derrick White\",\"Justise Winslow\",\"Thaddeus Young\"],\"visible\":false,\"x\":[23.3,15.9,22.8,13.4,19.2,16.4,14.8,29.1,15.2,15.7,22.3,23.1,18.2,19.9,21.2,25.0,21.2,29.0,27.8,22.2,24.5,19.2,17.7,11.1,16.7,20.2,19.2,21.3,14.0,27.3,24.8,31.3,15.1,34.8,28.6,24.2,20.4,26.7,10.8,23.2,17.8,24.7,11.1,23.1,19.0,18.6,21.9,17.3,18.7],\"y\":[47.5,61.0,55.1,60.099999999999994,53.1,48.3,53.1,56.699999999999996,57.199999999999996,55.60000000000001,61.5,54.300000000000004,51.0,57.4,63.800000000000004,57.4,59.5,58.3,68.0,61.0,54.800000000000004,54.400000000000006,54.300000000000004,49.3,55.50000000000001,57.9,49.1,52.1,52.0,52.5,58.8,55.300000000000004,59.0,57.699999999999996,60.3,54.300000000000004,57.3,63.7,46.1,53.900000000000006,46.5,59.5,54.1,53.6,59.5,54.1,54.900000000000006,47.9,54.800000000000004],\"type\":\"scatter\"},{\"hovertemplate\":\"<b>%{text}</b><br><i>Points per 75</i>: %{x:.2f}<br>True Shooting: %{y}\",\"marker\":{\"autocolorscale\":true,\"cmax\":74.5,\"cmin\":45.5,\"color\":[60.9,63.3,62.0,55.2,59.3,53.6,57.699999999999996,50.6,57.099999999999994],\"colorbar\":{\"tickformatstops\":[{\"dtickrange\":[40,80]}],\"title\":{\"text\":\"Scoring Efficiency\"}},\"size\":[22.5625,27.55,21.1375,15.6625,27.5875,12.525,26.7625,14.8125,25.35]},\"mode\":\"markers\",\"name\":\"MIL\",\"text\":[\"Grayson Allen\",\"Giannis Antetokounmpo\",\"Pat Connaughton\",\"George Hill\",\"Jrue Holiday\",\"Wesley Matthews\",\"Khris Middleton\",\"Jordan Nwora\",\"Bobby Portis\"],\"visible\":false,\"x\":[19.5,43.6,18.3,12.8,26.7,11.9,29.7,19.7,24.9],\"y\":[60.9,63.3,62.0,55.2,59.3,53.6,57.699999999999996,50.6,57.099999999999994],\"type\":\"scatter\"},{\"hovertemplate\":\"<b>%{text}</b><br><i>Points per 75</i>: %{x:.2f}<br>True Shooting: %{y}\",\"marker\":{\"autocolorscale\":true,\"cmax\":74.5,\"cmin\":45.5,\"color\":[69.8,57.599999999999994,59.4,58.199999999999996,54.900000000000006,58.9,56.3,48.8,54.400000000000006,58.4],\"colorbar\":{\"tickformatstops\":[{\"dtickrange\":[40,80]}],\"title\":{\"text\":\"Scoring Efficiency\"}},\"size\":[22.6125,30.375,20.8125,23.475,29.1375,24.7625,18.275,12.125,12.6875,12.25]},\"mode\":\"markers\",\"name\":\"CLE\",\"text\":[\"Jarrett Allen\",\"Darius Garland\",\"Kevin Love\",\"Lauri Markkanen\",\"Evan Mobley\",\"Isaac Okoro\",\"Cedi Osman\",\"Ricky Rubio\",\"Lamar Stevens\",\"Dean Wade\"],\"visible\":false,\"x\":[25.0,30.3,30.2,23.9,22.2,14.8,24.2,22.9,18.8,13.7],\"y\":[69.8,57.599999999999994,59.4,58.199999999999996,54.900000000000006,58.9,56.3,48.8,54.400000000000006,58.4],\"type\":\"scatter\"},{\"hovertemplate\":\"<b>%{text}</b><br><i>Points per 75</i>: %{x:.2f}<br>True Shooting: %{y}\",\"marker\":{\"autocolorscale\":true,\"cmax\":74.5,\"cmin\":45.5,\"color\":[52.0,51.4,68.0,58.199999999999996,55.400000000000006,57.3,50.5,55.800000000000004,49.4,61.7],\"colorbar\":{\"tickformatstops\":[{\"dtickrange\":[40,80]}],\"title\":{\"text\":\"Scoring Efficiency\"}},\"size\":[10.425,27.025,17.475,10.4875,23.3625,29.1875,9.1875,10.8,13.725,28.0]},\"mode\":\"markers\",\"name\":\"NOP\",\"text\":[\"Jose Alvarado\",\"Devonte' Graham\",\"Jaxson Hayes\",\"Willy Hernang\\u00f3mez\",\"Brandon Ingram\",\"Herbert Jones\",\"Naji Marshall\",\"Trey Murphy III\",\"Garrett Temple\",\"Jonas Valan\\u010di\\u016bnas\"],\"visible\":false,\"x\":[19.5,20.6,23.1,26.7,32.9,15.7,21.0,19.1,13.9,29.0],\"y\":[52.0,51.4,68.0,58.199999999999996,55.400000000000006,57.3,50.5,55.800000000000004,49.4,61.7],\"type\":\"scatter\"},{\"hovertemplate\":\"<b>%{text}</b><br><i>Points per 75</i>: %{x:.2f}<br>True Shooting: %{y}\",\"marker\":{\"autocolorscale\":true,\"cmax\":74.5,\"cmin\":45.5,\"color\":[57.9,55.00000000000001,57.8,59.3,50.3,65.7,61.9,56.39999999999999,59.699999999999996,60.0,51.2],\"colorbar\":{\"tickformatstops\":[{\"dtickrange\":[40,80]}],\"title\":{\"text\":\"Scoring Efficiency\"}},\"size\":[22.4125,17.575,17.55,10.125,18.8875,12.1375,26.05,13.675,26.7375,17.725,33.475]},\"mode\":\"markers\",\"name\":\"LAL\",\"text\":[\"Carmelo Anthony\",\"Avery Bradley\",\"Anthony Davis\",\"Wayne Ellington\",\"Talen Horton-Tucker\",\"Dwight Howard\",\"LeBron James\",\"Stanley Johnson\",\"Malik Monk\",\"Austin Reaves\",\"Russell Westbrook\"],\"visible\":false,\"x\":[24.6,13.4,31.6,17.0,18.9,18.4,39.0,14.0,23.5,15.0,25.8],\"y\":[57.9,55.00000000000001,57.8,59.3,50.3,65.7,61.9,56.39999999999999,59.699999999999996,60.0,51.2],\"type\":\"scatter\"},{\"hovertemplate\":\"<b>%{text}</b><br><i>Points per 75</i>: %{x:.2f}<br>True Shooting: %{y}\",\"marker\":{\"autocolorscale\":true,\"cmax\":74.5,\"cmin\":45.5,\"color\":[51.9,58.199999999999996,60.099999999999994,48.1,57.099999999999994,50.1,51.5,45.5,55.900000000000006,62.3],\"colorbar\":{\"tickformatstops\":[{\"dtickrange\":[40,80]}],\"title\":{\"text\":\"Scoring Efficiency\"}},\"size\":[25.7375,22.8,23.15,17.525,21.625,21.8625,18.1,16.3375,30.3625,12.0]},\"mode\":\"markers\",\"name\":\"ORL\",\"text\":[\"Cole Anthony\",\"Mo Bamba\",\"Wendell Carter Jr.\",\"R.J. Hampton\",\"Gary Harris\",\"Chuma Okeke\",\"Terrence Ross\",\"Jalen Suggs\",\"Franz Wagner\",\"Moritz Wagner\"],\"visible\":false,\"x\":[24.9,20.0,24.3,16.9,19.0,16.7,21.0,20.9,23.8,28.4],\"y\":[51.9,58.199999999999996,60.099999999999994,48.1,57.099999999999994,50.1,51.5,45.5,55.900000000000006,62.3],\"type\":\"scatter\"},{\"hovertemplate\":\"<b>%{text}</b><br><i>Points per 75</i>: %{x:.2f}<br>True Shooting: %{y}\",\"marker\":{\"autocolorscale\":true,\"cmax\":74.5,\"cmin\":45.5,\"color\":[53.6,53.900000000000006,56.8,70.8,57.9,58.599999999999994,54.7,53.800000000000004],\"colorbar\":{\"tickformatstops\":[{\"dtickrange\":[40,80]}],\"title\":{\"text\":\"Scoring Efficiency\"}},\"size\":[24.8,17.9875,29.1125,18.05,11.7875,22.5125,27.55,17.15]},\"mode\":\"markers\",\"name\":\"WAS\",\"text\":[\"Deni Avdija\",\"Bradley Beal\",\"Kentavious Caldwell-Pope\",\"Daniel Gafford\",\"Rui Hachimura\",\"Corey Kispert\",\"Kyle Kuzma\",\"Raul Neto\"],\"visible\":false,\"x\":[17.1,31.9,21.6,23.2,24.9,17.4,25.4,19.0],\"y\":[53.6,53.900000000000006,56.8,70.8,57.9,58.599999999999994,54.7,53.800000000000004],\"type\":\"scatter\"},{\"hovertemplate\":\"<b>%{text}</b><br><i>Points per 75</i>: %{x:.2f}<br>True Shooting: %{y}\",\"marker\":{\"autocolorscale\":true,\"cmax\":74.5,\"cmin\":45.5,\"color\":[65.60000000000001,57.599999999999994,62.7,54.1,62.5,65.10000000000001,58.099999999999994,50.0,55.00000000000001],\"colorbar\":{\"tickformatstops\":[{\"dtickrange\":[40,80]}],\"title\":{\"text\":\"Scoring Efficiency\"}},\"size\":[21.4125,29.3125,35.675,23.575,21.625,14.65,26.7375,15.975,17.9625]},\"mode\":\"markers\",\"name\":\"PHO\",\"text\":[\"Deandre Ayton\",\"Devin Booker\",\"Mikal Bridges\",\"Jae Crowder\",\"Cameron Johnson\",\"JaVale McGee\",\"Chris Paul\",\"Cameron Payne\",\"Landry Shamet\"],\"visible\":false,\"x\":[28.0,37.4,19.6,16.1,22.9,27.9,21.6,23.6,19.2],\"y\":[65.60000000000001,57.599999999999994,62.7,54.1,62.5,65.10000000000001,58.099999999999994,50.0,55.00000000000001],\"type\":\"scatter\"},{\"hovertemplate\":\"<b>%{text}</b><br><i>Points per 75</i>: %{x:.2f}<br>True Shooting: %{y}\",\"marker\":{\"autocolorscale\":true,\"cmax\":74.5,\"cmin\":45.5,\"color\":[55.400000000000006,59.3,56.99999999999999,57.9,59.5,56.00000000000001,60.3,56.599999999999994,58.8],\"colorbar\":{\"tickformatstops\":[{\"dtickrange\":[40,80]}],\"title\":{\"text\":\"Scoring Efficiency\"}},\"size\":[30.275,35.4625,19.55,23.325,11.1875,24.9875,22.4125,30.725,22.1]},\"mode\":\"markers\",\"name\":\"CHO\",\"text\":[\"LaMelo Ball\",\"Miles Bridges\",\"Gordon Hayward\",\"Cody Martin\",\"Jalen McDaniels\",\"Kelly Oubre Jr.\",\"Mason Plumlee\",\"Terry Rozier\",\"P.J. Washington\"],\"visible\":false,\"x\":[29.9,27.3,23.9,14.0,18.2,27.3,12.8,27.5,18.1],\"y\":[55.400000000000006,59.3,56.99999999999999,57.9,59.5,56.00000000000001,60.3,56.599999999999994,58.8],\"type\":\"scatter\"},{\"hovertemplate\":\"<b>%{text}</b><br><i>Points per 75</i>: %{x:.2f}<br>True Shooting: %{y}\",\"marker\":{\"autocolorscale\":true,\"cmax\":74.5,\"cmin\":45.5,\"color\":[57.49999999999999,52.5,52.800000000000004,59.0,59.599999999999994,63.7,63.3,60.5,53.300000000000004,56.39999999999999],\"colorbar\":{\"tickformatstops\":[{\"dtickrange\":[40,80]}],\"title\":{\"text\":\"Scoring Efficiency\"}},\"size\":[15.15,13.1875,14.3375,34.2875,26.375,18.9875,11.2375,29.1,30.225,20.9375]},\"mode\":\"markers\",\"name\":\"CHI\",\"text\":[\"Lonzo Ball\",\"Troy Brown Jr.\",\"Alex Caruso\",\"DeMar DeRozan\",\"Ayo Dosunmu\",\"Javonte Green\",\"Derrick Jones Jr.\",\"Zach LaVine\",\"Nikola Vu\\u010devi\\u0107\",\"Coby White\"],\"visible\":false,\"x\":[18.3,13.1,12.9,37.7,15.7,15.0,15.5,34.3,26.0,22.5],\"y\":[57.49999999999999,52.5,52.800000000000004,59.0,59.599999999999994,63.7,63.3,60.5,53.300000000000004,56.39999999999999],\"type\":\"scatter\"},{\"hovertemplate\":\"<b>%{text}</b><br><i>Points per 75</i>: %{x:.2f}<br>True Shooting: %{y}\",\"marker\":{\"autocolorscale\":true,\"cmax\":74.5,\"cmin\":45.5,\"color\":[62.3,54.900000000000006,56.10000000000001,68.89999999999999,70.1,54.6,48.9],\"colorbar\":{\"tickformatstops\":[{\"dtickrange\":[40,80]}],\"title\":{\"text\":\"Scoring Efficiency\"}},\"size\":[32.3375,26.0375,10.7875,13.425,12.7125,15.9875,25.95]},\"mode\":\"markers\",\"name\":\"SAC\",\"text\":[\"Harrison Barnes\",\"De'Aaron Fox\",\"Maurice Harkless\",\"Richaun Holmes\",\"Damian Jones\",\"Chimezie Metu\",\"Davion Mitchell\"],\"visible\":false,\"x\":[23.5,31.6,12.1,21.0,21.5,20.1,20.0],\"y\":[62.3,54.900000000000006,56.10000000000001,68.89999999999999,70.1,54.6,48.9],\"type\":\"scatter\"},{\"hovertemplate\":\"<b>%{text}</b><br><i>Points per 75</i>: %{x:.2f}<br>True Shooting: %{y}\",\"marker\":{\"autocolorscale\":true,\"cmax\":74.5,\"cmin\":45.5,\"color\":[51.1,55.900000000000006,55.400000000000006,60.6,56.49999999999999,54.300000000000004,50.9,72.2,61.4,53.7],\"colorbar\":{\"tickformatstops\":[{\"dtickrange\":[40,80]}],\"title\":{\"text\":\"Scoring Efficiency\"}},\"size\":[30.2125,28.975,29.475,11.825,9.825,22.525,31.8,23.1,15.375,11.85]},\"mode\":\"markers\",\"name\":\"NYK\",\"text\":[\"RJ Barrett\",\"Alec Burks\",\"Evan Fournier\",\"Taj Gibson\",\"Quentin Grimes\",\"Immanuel Quickley\",\"Julius Randle\",\"Mitchell Robinson\",\"Obi Toppin\",\"Kemba Walker\"],\"visible\":false,\"x\":[29.0,20.4,23.9,12.1,17.5,24.5,28.5,16.5,26.4,22.7],\"y\":[51.1,55.900000000000006,55.400000000000006,60.6,56.49999999999999,54.300000000000004,50.9,72.2,61.4,53.7],\"type\":\"scatter\"},{\"hovertemplate\":\"<b>%{text}</b><br><i>Points per 75</i>: %{x:.2f}<br>True Shooting: %{y}\",\"marker\":{\"autocolorscale\":true,\"cmax\":74.5,\"cmin\":45.5,\"color\":[54.800000000000004,50.3,60.199999999999996,58.699999999999996,62.7,55.800000000000004,66.10000000000001,58.3,54.6],\"colorbar\":{\"tickformatstops\":[{\"dtickrange\":[40,80]}],\"title\":{\"text\":\"Scoring Efficiency\"}},\"size\":[28.4625,14.8,29.7,13.5625,23.1125,16.375,30.95,27.9875,18.5]},\"mode\":\"markers\",\"name\":\"DEN\",\"text\":[\"Will Barton\",\"Facundo Campazzo\",\"Aaron Gordon\",\"JaMychal Green\",\"Jeff Green\",\"Bones Hyland\",\"Nikola Joki\\u0107\",\"Monte Morris\",\"Austin Rivers\"],\"visible\":false,\"x\":[22.5,13.8,23.2,19.5,20.5,26.1,39.7,20.7,13.4],\"y\":[54.800000000000004,50.3,60.199999999999996,58.699999999999996,62.7,55.800000000000004,66.10000000000001,58.3,54.6],\"type\":\"scatter\"},{\"hovertemplate\":\"<b>%{text}</b><br><i>Points per 75</i>: %{x:.2f}<br>True Shooting: %{y}\",\"marker\":{\"autocolorscale\":true,\"cmax\":74.5,\"cmin\":45.5,\"color\":[57.8,57.4,54.50000000000001,59.3,53.300000000000004,61.3,48.699999999999996,54.0,51.2],\"colorbar\":{\"tickformatstops\":[{\"dtickrange\":[40,80]}],\"title\":{\"text\":\"Scoring Efficiency\"}},\"size\":[11.95,29.9,14.35,15.2875,29.575,24.625,12.0625,24.2125,20.15]},\"mode\":\"markers\",\"name\":\"SAS\",\"text\":[\"Keita Bates-Diop\",\"Keldon Johnson\",\"Tre Jones\",\"Doug McDermott\",\"Dejounte Murray\",\"Jakob Poeltl\",\"Joshua Primo\",\"Devin Vassell\",\"Lonnie Walker IV\"],\"visible\":false,\"x\":[16.8,25.6,17.3,22.7,29.2,22.3,14.3,21.6,25.3],\"y\":[57.8,57.4,54.50000000000001,59.3,53.300000000000004,61.3,48.699999999999996,54.0,51.2],\"type\":\"scatter\"},{\"hovertemplate\":\"<b>%{text}</b><br><i>Points per 75</i>: %{x:.2f}<br>True Shooting: %{y}\",\"marker\":{\"autocolorscale\":true,\"cmax\":74.5,\"cmin\":45.5,\"color\":[60.8,51.4,48.1,59.8,53.800000000000004,66.4,48.8,61.9,57.199999999999996,54.900000000000006,66.0],\"colorbar\":{\"tickformatstops\":[{\"dtickrange\":[40,80]}],\"title\":{\"text\":\"Scoring Efficiency\"}},\"size\":[18.275,17.0125,9.5,19.5875,13.4625,15.2,29.2125,23.9875,28.9625,19.55,23.15]},\"mode\":\"markers\",\"name\":\"LAC\",\"text\":[\"Nicolas Batum\",\"Eric Bledsoe\",\"Brandon Boston Jr.\",\"Amir Coffey\",\"Paul George\",\"Isaiah Hartenstein\",\"Reggie Jackson\",\"Luke Kennard\",\"Terance Mann\",\"Marcus Morris\",\"Ivica Zubac\"],\"visible\":false,\"x\":[16.5,19.2,22.1,19.4,34.3,22.7,26.5,21.3,18.4,26.0,20.8],\"y\":[60.8,51.4,48.1,59.8,53.800000000000004,66.4,48.8,61.9,57.199999999999996,54.900000000000006,66.0],\"type\":\"scatter\"},{\"hovertemplate\":\"<b>%{text}</b><br><i>Points per 75</i>: %{x:.2f}<br>True Shooting: %{y}\",\"marker\":{\"autocolorscale\":true,\"cmax\":74.5,\"cmin\":45.5,\"color\":[51.5,54.1,47.8,55.7,48.8,50.0,50.1,48.5,52.6,60.699999999999996,55.60000000000001,53.2],\"colorbar\":{\"tickformatstops\":[{\"dtickrange\":[40,80]}],\"title\":{\"text\":\"Scoring Efficiency\"}},\"size\":[24.05,20.8125,21.25,24.275,10.0125,11.35,17.0875,15.4125,13.5875,11.85,15.1125,13.4]},\"mode\":\"markers\",\"name\":\"OKC\",\"text\":[\"Darius Bazley\",\"Luguentz Dort\",\"Josh Giddey\",\"Shai Gilgeous-Alexander\",\"Ty Jerome\",\"Th\\u00e9o Maledon\",\"Tre Mann\",\"Aleksej Pokusevski\",\"Jeremiah Robinson-Earl\",\"Isaiah Roby\",\"Aaron Wiggins\",\"Kenrich Williams\"],\"visible\":false,\"x\":[18.9,25.7,19.3,34.4,20.7,19.4,22.3,18.3,16.4,23.3,16.8,16.5],\"y\":[51.5,54.1,47.8,55.7,48.8,50.0,50.1,48.5,52.6,60.699999999999996,55.60000000000001,53.2],\"type\":\"scatter\"},{\"hovertemplate\":\"<b>%{text}</b><br><i>Points per 75</i>: %{x:.2f}<br>True Shooting: %{y}\",\"marker\":{\"autocolorscale\":true,\"cmax\":74.5,\"cmin\":45.5,\"color\":[54.400000000000006,53.900000000000006,56.00000000000001,55.300000000000004,53.5,58.099999999999994,58.9,58.8,54.400000000000006,64.0,61.199999999999996],\"colorbar\":{\"tickformatstops\":[{\"dtickrange\":[40,80]}],\"title\":{\"text\":\"Scoring Efficiency\"}},\"size\":[24.7,18.45,30.825,22.5375,11.275,12.1875,14.7125,15.1875,25.9625,30.95,23.5]},\"mode\":\"markers\",\"name\":\"MIN\",\"text\":[\"Malik Beasley\",\"Patrick Beverley\",\"Anthony Edwards\",\"Jaden McDaniels\",\"Jordan McLaughlin\",\"Jaylen Nowell\",\"Taurean Prince\",\"Naz Reid\",\"D'Angelo Russell\",\"Karl-Anthony Towns\",\"Jarred Vanderbilt\"],\"visible\":false,\"x\":[22.9,17.2,29.6,17.1,12.3,25.7,20.3,24.9,26.9,34.9,13.0],\"y\":[54.400000000000006,53.900000000000006,56.00000000000001,55.300000000000004,53.5,58.099999999999994,58.9,58.8,54.400000000000006,64.0,61.199999999999996],\"type\":\"scatter\"},{\"hovertemplate\":\"<b>%{text}</b><br><i>Points per 75</i>: %{x:.2f}<br>True Shooting: %{y}\",\"marker\":{\"autocolorscale\":true,\"cmax\":74.5,\"cmin\":45.5,\"color\":[52.900000000000006,50.4,54.1,55.60000000000001,46.1,53.0,57.9,57.699999999999996,56.10000000000001,55.00000000000001],\"colorbar\":{\"tickformatstops\":[{\"dtickrange\":[40,80]}],\"title\":{\"text\":\"Scoring Efficiency\"}},\"size\":[33.8,26.1,15.8625,18.75,20.5875,14.55,20.0,9.425,9.55,22.7]},\"mode\":\"markers\",\"name\":\"DET\",\"text\":[\"Saddiq Bey\",\"Cade Cunningham\",\"Hamidou Diallo\",\"Jerami Grant\",\"Killian Hayes\",\"Frank Jackson\",\"Cory Joseph\",\"Rodney McGruder\",\"Kelly Olynyk\",\"Isaiah Stewart\"],\"visible\":false,\"x\":[23.8,26.0,24.5,29.4,13.4,23.5,15.9,17.7,23.3,15.8],\"y\":[52.900000000000006,50.4,54.1,55.60000000000001,46.1,53.0,57.9,57.699999999999996,56.10000000000001,55.00000000000001],\"type\":\"scatter\"},{\"hovertemplate\":\"<b>%{text}</b><br><i>Points per 75</i>: %{x:.2f}<br>True Shooting: %{y}\",\"marker\":{\"autocolorscale\":true,\"cmax\":74.5,\"cmin\":45.5,\"color\":[59.5,53.0,55.7,53.7,65.60000000000001,61.5,52.1],\"colorbar\":{\"tickformatstops\":[{\"dtickrange\":[40,80]}],\"title\":{\"text\":\"Scoring Efficiency\"}},\"size\":[9.1125,19.55,15.075,19.2625,8.925,15.4375,12.1]},\"mode\":\"markers\",\"name\":\"IND\",\"text\":[\"Goga Bitadze\",\"Oshae Brissett\",\"Malcolm Brogdon\",\"Chris Duarte\",\"Terry Taylor\",\"Myles Turner\",\"Duane Washington Jr.\"],\"visible\":false,\"x\":[23.4,19.2,27.9,22.9,21.8,21.4,23.9],\"y\":[59.5,53.0,55.7,53.7,65.60000000000001,61.5,52.1],\"type\":\"scatter\"},{\"hovertemplate\":\"<b>%{text}</b><br><i>Points per 75</i>: %{x:.2f}<br>True Shooting: %{y}\",\"marker\":{\"autocolorscale\":true,\"cmax\":74.5,\"cmin\":45.5,\"color\":[57.3,60.099999999999994,58.199999999999996,60.0,56.10000000000001,58.599999999999994,67.9,59.8,58.099999999999994,54.7,56.10000000000001,56.00000000000001],\"colorbar\":{\"tickformatstops\":[{\"dtickrange\":[40,80]}],\"title\":{\"text\":\"Scoring Efficiency\"}},\"size\":[14.275,27.6375,16.6125,14.8125,15.7,21.65,15.5875,28.5375,17.45,11.7625,12.425,29.1125]},\"mode\":\"markers\",\"name\":\"GSW\",\"text\":[\"Nemanja Bjelica\",\"Stephen Curry\",\"Draymond Green\",\"Jonathan Kuminga\",\"Damion Lee\",\"Kevon Looney\",\"Gary Payton II\",\"Jordan Poole\",\"Otto Porter Jr.\",\"Klay Thompson\",\"Juan Toscano-Anderson\",\"Andrew Wiggins\"],\"visible\":false,\"x\":[18.5,35.9,12.7,26.8,18.1,13.8,19.6,30.0,18.0,33.8,14.6,26.3],\"y\":[57.3,60.099999999999994,58.199999999999996,60.0,56.10000000000001,58.599999999999994,67.9,59.8,58.099999999999994,54.7,56.10000000000001,56.00000000000001],\"type\":\"scatter\"},{\"hovertemplate\":\"<b>%{text}</b><br><i>Points per 75</i>: %{x:.2f}<br>True Shooting: %{y}\",\"marker\":{\"autocolorscale\":true,\"cmax\":74.5,\"cmin\":45.5,\"color\":[56.2,60.4,61.0,57.9,56.99999999999999,54.7,71.39999999999999,50.0,57.599999999999994,60.3],\"colorbar\":{\"tickformatstops\":[{\"dtickrange\":[40,80]}],\"title\":{\"text\":\"Scoring Efficiency\"}},\"size\":[23.1,25.525,20.7875,20.9,27.35,19.7125,12.4,9.9875,18.15,33.15]},\"mode\":\"markers\",\"name\":\"ATL\",\"text\":[\"Bogdan Bogdanovi\\u0107\",\"Clint Capela\",\"John Collins\",\"Danilo Gallinari\",\"Kevin Huerter\",\"De'Andre Hunter\",\"Onyeka Okongwu\",\"Lou Williams\",\"Delon Wright\",\"Trae Young\"],\"visible\":false,\"x\":[25.3,19.7,25.9,22.7,20.0,22.1,19.4,21.8,11.6,39.9],\"y\":[56.2,60.4,61.0,57.9,56.99999999999999,54.7,71.39999999999999,50.0,57.599999999999994,60.3],\"type\":\"scatter\"},{\"hovertemplate\":\"<b>%{text}</b><br><i>Points per 75</i>: %{x:.2f}<br>True Shooting: %{y}\",\"marker\":{\"autocolorscale\":true,\"cmax\":74.5,\"cmin\":45.5,\"color\":[59.9,53.2,57.199999999999996,55.400000000000006,53.900000000000006,73.2,55.1,57.199999999999996,60.8,61.199999999999996,66.2],\"colorbar\":{\"tickformatstops\":[{\"dtickrange\":[40,80]}],\"title\":{\"text\":\"Scoring Efficiency\"}},\"size\":[26.6375,26.7625,25.725,9.5625,12.975,26.5,14.025,28.325,30.075,9.2,14.525]},\"mode\":\"markers\",\"name\":\"UTA\",\"text\":[\"Bojan Bogdanovi\\u0107\",\"Jordan Clarkson\",\"Mike Conley\",\"Trent Forrest\",\"Rudy Gay\",\"Rudy Gobert\",\"Joe Ingles\",\"Donovan Mitchell\",\"Royce O'Neale\",\"Eric Paschall\",\"Hassan Whiteside\"],\"visible\":false,\"x\":[28.9,29.2,23.7,12.6,21.2,23.9,14.3,37.8,11.7,22.4,22.7],\"y\":[59.9,53.2,57.199999999999996,55.400000000000006,53.900000000000006,73.2,55.1,57.199999999999996,60.8,61.199999999999996,66.2],\"type\":\"scatter\"},{\"hovertemplate\":\"<b>%{text}</b><br><i>Points per 75</i>: %{x:.2f}<br>True Shooting: %{y}\",\"marker\":{\"autocolorscale\":true,\"cmax\":74.5,\"cmin\":45.5,\"color\":[57.4,57.4,57.8,54.0,57.8,63.5,74.5],\"colorbar\":{\"tickformatstops\":[{\"dtickrange\":[40,80]}],\"title\":{\"text\":\"Scoring Efficiency\"}},\"size\":[27.75,25.0625,12.5125,28.7,34.1375,23.4375,22.55]},\"mode\":\"markers\",\"name\":\"BOS\",\"text\":[\"Jaylen Brown\",\"Al Horford\",\"Payton Pritchard\",\"Marcus Smart\",\"Jayson Tatum\",\"Grant Williams\",\"Robert Williams\"],\"visible\":false,\"x\":[34.9,17.4,21.9,18.6,37.2,16.0,16.7],\"y\":[57.4,57.4,57.8,54.0,57.8,63.5,74.5],\"type\":\"scatter\"},{\"hovertemplate\":\"<b>%{text}</b><br><i>Points per 75</i>: %{x:.2f}<br>True Shooting: %{y}\",\"marker\":{\"autocolorscale\":true,\"cmax\":74.5,\"cmin\":45.5,\"color\":[58.3,55.800000000000004,57.099999999999994,60.4,57.8,52.0,53.7,72.5],\"colorbar\":{\"tickformatstops\":[{\"dtickrange\":[40,80]}],\"title\":{\"text\":\"Scoring Efficiency\"}},\"size\":[31.55,23.775,28.7625,33.05,12.9875,15.5625,18.125,22.475]},\"mode\":\"markers\",\"name\":\"DAL\",\"text\":[\"Jalen Brunson\",\"Reggie Bullock\",\"Luka Don\\u010di\\u0107\",\"Dorian Finney-Smith\",\"Josh Green\",\"Tim Hardaway Jr.\",\"Maxi Kleber\",\"Dwight Powell\"],\"visible\":false,\"x\":[25.6,15.4,40.4,16.8,15.5,24.2,14.3,20.1],\"y\":[58.3,55.800000000000004,57.099999999999994,60.4,57.8,52.0,53.7,72.5],\"type\":\"scatter\"},{\"hovertemplate\":\"<b>%{text}</b><br><i>Points per 75</i>: %{x:.2f}<br>True Shooting: %{y}\",\"marker\":{\"autocolorscale\":true,\"cmax\":74.5,\"cmin\":45.5,\"color\":[53.400000000000006,61.4,54.7,60.3,60.199999999999996,53.1,55.2,56.699999999999996,59.5],\"colorbar\":{\"tickformatstops\":[{\"dtickrange\":[40,80]}],\"title\":{\"text\":\"Scoring Efficiency\"}},\"size\":[16.675,20.8625,26.725,20.7,21.4,23.8375,18.6125,25.7,26.175]},\"mode\":\"markers\",\"name\":\"HOU\",\"text\":[\"Josh Christopher\",\"Eric Gordon\",\"Jalen Green\",\"Kenyon Martin Jr.\",\"Garrison Mathews\",\"Kevin Porter Jr.\",\"Alperen \\u015eeng\\u00fcn\",\"Jae'Sean Tate\",\"Christian Wood\"],\"visible\":false,\"x\":[20.9,21.8,25.8,20.0,18.1,23.7,22.1,21.3,27.7],\"y\":[53.400000000000006,61.4,54.7,60.3,60.199999999999996,53.1,55.2,56.699999999999996,59.5],\"type\":\"scatter\"},{\"hovertemplate\":\"<b>%{text}</b><br><i>Points per 75</i>: %{x:.2f}<br>True Shooting: %{y}\",\"marker\":{\"autocolorscale\":true,\"cmax\":74.5,\"cmin\":45.5,\"color\":[49.1,55.00000000000001,57.49999999999999,56.699999999999996,58.599999999999994,58.3,59.0],\"colorbar\":{\"tickformatstops\":[{\"dtickrange\":[40,80]}],\"title\":{\"text\":\"Scoring Efficiency\"}},\"size\":[14.675,13.2,13.6,16.0625,19.7375,21.0125,10.8625]},\"mode\":\"markers\",\"name\":\"POR\",\"text\":[\"CJ Elleby\",\"Damian Lillard\",\"Nassir Little\",\"Ben McLemore\",\"Jusuf Nurki\\u0107\",\"Anfernee Simons\",\"Trendon Watford\"],\"visible\":false,\"x\":[14.1,32.2,18.4,24.9,26.1,28.7,20.5],\"y\":[49.1,55.00000000000001,57.49999999999999,56.699999999999996,58.599999999999994,58.3,59.0],\"type\":\"scatter\"},{\"hovertemplate\":\"<b>%{text}</b><br><i>Points per 75</i>: %{x:.2f}<br>True Shooting: %{y}\",\"marker\":{\"autocolorscale\":true,\"cmax\":74.5,\"cmin\":45.5,\"color\":[61.6,56.10000000000001,56.599999999999994,50.2,59.4,51.7,59.4,59.4],\"colorbar\":{\"tickformatstops\":[{\"dtickrange\":[40,80]}],\"title\":{\"text\":\"Scoring Efficiency\"}},\"size\":[28.7125,16.9125,31.7875,17.675,33.125,14.7375,21.7,21.0625]},\"mode\":\"markers\",\"name\":\"PHI\",\"text\":[\"Joel Embiid\",\"Danny Green\",\"Tobias Harris\",\"Furkan Korkmaz\",\"Tyrese Maxey\",\"Shake Milton\",\"Georges Niang\",\"Matisse Thybulle\"],\"visible\":false,\"x\":[45.1,13.5,24.7,18.0,24.7,19.0,20.1,11.2],\"y\":[61.6,56.10000000000001,56.599999999999994,50.2,59.4,51.7,59.4,59.4],\"type\":\"scatter\"}],                        {\"template\":{\"data\":{\"histogram2dcontour\":[{\"type\":\"histogram2dcontour\",\"colorbar\":{\"outlinewidth\":0,\"ticks\":\"\"},\"colorscale\":[[0.0,\"#0d0887\"],[0.1111111111111111,\"#46039f\"],[0.2222222222222222,\"#7201a8\"],[0.3333333333333333,\"#9c179e\"],[0.4444444444444444,\"#bd3786\"],[0.5555555555555556,\"#d8576b\"],[0.6666666666666666,\"#ed7953\"],[0.7777777777777778,\"#fb9f3a\"],[0.8888888888888888,\"#fdca26\"],[1.0,\"#f0f921\"]]}],\"choropleth\":[{\"type\":\"choropleth\",\"colorbar\":{\"outlinewidth\":0,\"ticks\":\"\"}}],\"histogram2d\":[{\"type\":\"histogram2d\",\"colorbar\":{\"outlinewidth\":0,\"ticks\":\"\"},\"colorscale\":[[0.0,\"#0d0887\"],[0.1111111111111111,\"#46039f\"],[0.2222222222222222,\"#7201a8\"],[0.3333333333333333,\"#9c179e\"],[0.4444444444444444,\"#bd3786\"],[0.5555555555555556,\"#d8576b\"],[0.6666666666666666,\"#ed7953\"],[0.7777777777777778,\"#fb9f3a\"],[0.8888888888888888,\"#fdca26\"],[1.0,\"#f0f921\"]]}],\"heatmap\":[{\"type\":\"heatmap\",\"colorbar\":{\"outlinewidth\":0,\"ticks\":\"\"},\"colorscale\":[[0.0,\"#0d0887\"],[0.1111111111111111,\"#46039f\"],[0.2222222222222222,\"#7201a8\"],[0.3333333333333333,\"#9c179e\"],[0.4444444444444444,\"#bd3786\"],[0.5555555555555556,\"#d8576b\"],[0.6666666666666666,\"#ed7953\"],[0.7777777777777778,\"#fb9f3a\"],[0.8888888888888888,\"#fdca26\"],[1.0,\"#f0f921\"]]}],\"heatmapgl\":[{\"type\":\"heatmapgl\",\"colorbar\":{\"outlinewidth\":0,\"ticks\":\"\"},\"colorscale\":[[0.0,\"#0d0887\"],[0.1111111111111111,\"#46039f\"],[0.2222222222222222,\"#7201a8\"],[0.3333333333333333,\"#9c179e\"],[0.4444444444444444,\"#bd3786\"],[0.5555555555555556,\"#d8576b\"],[0.6666666666666666,\"#ed7953\"],[0.7777777777777778,\"#fb9f3a\"],[0.8888888888888888,\"#fdca26\"],[1.0,\"#f0f921\"]]}],\"contourcarpet\":[{\"type\":\"contourcarpet\",\"colorbar\":{\"outlinewidth\":0,\"ticks\":\"\"}}],\"contour\":[{\"type\":\"contour\",\"colorbar\":{\"outlinewidth\":0,\"ticks\":\"\"},\"colorscale\":[[0.0,\"#0d0887\"],[0.1111111111111111,\"#46039f\"],[0.2222222222222222,\"#7201a8\"],[0.3333333333333333,\"#9c179e\"],[0.4444444444444444,\"#bd3786\"],[0.5555555555555556,\"#d8576b\"],[0.6666666666666666,\"#ed7953\"],[0.7777777777777778,\"#fb9f3a\"],[0.8888888888888888,\"#fdca26\"],[1.0,\"#f0f921\"]]}],\"surface\":[{\"type\":\"surface\",\"colorbar\":{\"outlinewidth\":0,\"ticks\":\"\"},\"colorscale\":[[0.0,\"#0d0887\"],[0.1111111111111111,\"#46039f\"],[0.2222222222222222,\"#7201a8\"],[0.3333333333333333,\"#9c179e\"],[0.4444444444444444,\"#bd3786\"],[0.5555555555555556,\"#d8576b\"],[0.6666666666666666,\"#ed7953\"],[0.7777777777777778,\"#fb9f3a\"],[0.8888888888888888,\"#fdca26\"],[1.0,\"#f0f921\"]]}],\"mesh3d\":[{\"type\":\"mesh3d\",\"colorbar\":{\"outlinewidth\":0,\"ticks\":\"\"}}],\"scatter\":[{\"fillpattern\":{\"fillmode\":\"overlay\",\"size\":10,\"solidity\":0.2},\"type\":\"scatter\"}],\"parcoords\":[{\"type\":\"parcoords\",\"line\":{\"colorbar\":{\"outlinewidth\":0,\"ticks\":\"\"}}}],\"scatterpolargl\":[{\"type\":\"scatterpolargl\",\"marker\":{\"colorbar\":{\"outlinewidth\":0,\"ticks\":\"\"}}}],\"bar\":[{\"error_x\":{\"color\":\"#2a3f5f\"},\"error_y\":{\"color\":\"#2a3f5f\"},\"marker\":{\"line\":{\"color\":\"#E5ECF6\",\"width\":0.5},\"pattern\":{\"fillmode\":\"overlay\",\"size\":10,\"solidity\":0.2}},\"type\":\"bar\"}],\"scattergeo\":[{\"type\":\"scattergeo\",\"marker\":{\"colorbar\":{\"outlinewidth\":0,\"ticks\":\"\"}}}],\"scatterpolar\":[{\"type\":\"scatterpolar\",\"marker\":{\"colorbar\":{\"outlinewidth\":0,\"ticks\":\"\"}}}],\"histogram\":[{\"marker\":{\"pattern\":{\"fillmode\":\"overlay\",\"size\":10,\"solidity\":0.2}},\"type\":\"histogram\"}],\"scattergl\":[{\"type\":\"scattergl\",\"marker\":{\"colorbar\":{\"outlinewidth\":0,\"ticks\":\"\"}}}],\"scatter3d\":[{\"type\":\"scatter3d\",\"line\":{\"colorbar\":{\"outlinewidth\":0,\"ticks\":\"\"}},\"marker\":{\"colorbar\":{\"outlinewidth\":0,\"ticks\":\"\"}}}],\"scattermapbox\":[{\"type\":\"scattermapbox\",\"marker\":{\"colorbar\":{\"outlinewidth\":0,\"ticks\":\"\"}}}],\"scatterternary\":[{\"type\":\"scatterternary\",\"marker\":{\"colorbar\":{\"outlinewidth\":0,\"ticks\":\"\"}}}],\"scattercarpet\":[{\"type\":\"scattercarpet\",\"marker\":{\"colorbar\":{\"outlinewidth\":0,\"ticks\":\"\"}}}],\"carpet\":[{\"aaxis\":{\"endlinecolor\":\"#2a3f5f\",\"gridcolor\":\"white\",\"linecolor\":\"white\",\"minorgridcolor\":\"white\",\"startlinecolor\":\"#2a3f5f\"},\"baxis\":{\"endlinecolor\":\"#2a3f5f\",\"gridcolor\":\"white\",\"linecolor\":\"white\",\"minorgridcolor\":\"white\",\"startlinecolor\":\"#2a3f5f\"},\"type\":\"carpet\"}],\"table\":[{\"cells\":{\"fill\":{\"color\":\"#EBF0F8\"},\"line\":{\"color\":\"white\"}},\"header\":{\"fill\":{\"color\":\"#C8D4E3\"},\"line\":{\"color\":\"white\"}},\"type\":\"table\"}],\"barpolar\":[{\"marker\":{\"line\":{\"color\":\"#E5ECF6\",\"width\":0.5},\"pattern\":{\"fillmode\":\"overlay\",\"size\":10,\"solidity\":0.2}},\"type\":\"barpolar\"}],\"pie\":[{\"automargin\":true,\"type\":\"pie\"}]},\"layout\":{\"autotypenumbers\":\"strict\",\"colorway\":[\"#636efa\",\"#EF553B\",\"#00cc96\",\"#ab63fa\",\"#FFA15A\",\"#19d3f3\",\"#FF6692\",\"#B6E880\",\"#FF97FF\",\"#FECB52\"],\"font\":{\"color\":\"#2a3f5f\"},\"hovermode\":\"closest\",\"hoverlabel\":{\"align\":\"left\"},\"paper_bgcolor\":\"white\",\"plot_bgcolor\":\"#E5ECF6\",\"polar\":{\"bgcolor\":\"#E5ECF6\",\"angularaxis\":{\"gridcolor\":\"white\",\"linecolor\":\"white\",\"ticks\":\"\"},\"radialaxis\":{\"gridcolor\":\"white\",\"linecolor\":\"white\",\"ticks\":\"\"}},\"ternary\":{\"bgcolor\":\"#E5ECF6\",\"aaxis\":{\"gridcolor\":\"white\",\"linecolor\":\"white\",\"ticks\":\"\"},\"baxis\":{\"gridcolor\":\"white\",\"linecolor\":\"white\",\"ticks\":\"\"},\"caxis\":{\"gridcolor\":\"white\",\"linecolor\":\"white\",\"ticks\":\"\"}},\"coloraxis\":{\"colorbar\":{\"outlinewidth\":0,\"ticks\":\"\"}},\"colorscale\":{\"sequential\":[[0.0,\"#0d0887\"],[0.1111111111111111,\"#46039f\"],[0.2222222222222222,\"#7201a8\"],[0.3333333333333333,\"#9c179e\"],[0.4444444444444444,\"#bd3786\"],[0.5555555555555556,\"#d8576b\"],[0.6666666666666666,\"#ed7953\"],[0.7777777777777778,\"#fb9f3a\"],[0.8888888888888888,\"#fdca26\"],[1.0,\"#f0f921\"]],\"sequentialminus\":[[0.0,\"#0d0887\"],[0.1111111111111111,\"#46039f\"],[0.2222222222222222,\"#7201a8\"],[0.3333333333333333,\"#9c179e\"],[0.4444444444444444,\"#bd3786\"],[0.5555555555555556,\"#d8576b\"],[0.6666666666666666,\"#ed7953\"],[0.7777777777777778,\"#fb9f3a\"],[0.8888888888888888,\"#fdca26\"],[1.0,\"#f0f921\"]],\"diverging\":[[0,\"#8e0152\"],[0.1,\"#c51b7d\"],[0.2,\"#de77ae\"],[0.3,\"#f1b6da\"],[0.4,\"#fde0ef\"],[0.5,\"#f7f7f7\"],[0.6,\"#e6f5d0\"],[0.7,\"#b8e186\"],[0.8,\"#7fbc41\"],[0.9,\"#4d9221\"],[1,\"#276419\"]]},\"xaxis\":{\"gridcolor\":\"white\",\"linecolor\":\"white\",\"ticks\":\"\",\"title\":{\"standoff\":15},\"zerolinecolor\":\"white\",\"automargin\":true,\"zerolinewidth\":2},\"yaxis\":{\"gridcolor\":\"white\",\"linecolor\":\"white\",\"ticks\":\"\",\"title\":{\"standoff\":15},\"zerolinecolor\":\"white\",\"automargin\":true,\"zerolinewidth\":2},\"scene\":{\"xaxis\":{\"backgroundcolor\":\"#E5ECF6\",\"gridcolor\":\"white\",\"linecolor\":\"white\",\"showbackground\":true,\"ticks\":\"\",\"zerolinecolor\":\"white\",\"gridwidth\":2},\"yaxis\":{\"backgroundcolor\":\"#E5ECF6\",\"gridcolor\":\"white\",\"linecolor\":\"white\",\"showbackground\":true,\"ticks\":\"\",\"zerolinecolor\":\"white\",\"gridwidth\":2},\"zaxis\":{\"backgroundcolor\":\"#E5ECF6\",\"gridcolor\":\"white\",\"linecolor\":\"white\",\"showbackground\":true,\"ticks\":\"\",\"zerolinecolor\":\"white\",\"gridwidth\":2}},\"shapedefaults\":{\"line\":{\"color\":\"#2a3f5f\"}},\"annotationdefaults\":{\"arrowcolor\":\"#2a3f5f\",\"arrowhead\":0,\"arrowwidth\":1},\"geo\":{\"bgcolor\":\"white\",\"landcolor\":\"#E5ECF6\",\"subunitcolor\":\"white\",\"showland\":true,\"showlakes\":true,\"lakecolor\":\"white\"},\"title\":{\"x\":0.05},\"mapbox\":{\"style\":\"light\"}}},\"autosize\":false,\"width\":1000,\"height\":800,\"showlegend\":false,\"updatemenus\":[{\"active\":0,\"buttons\":[{\"args\":[{\"visible\":[true,false,false,false,false,false,false,false,false,false,false,false,false,false,false,false,false,false,false,false,false,false,false,false,false,false,false,false,false,false,false,false]},{\"title\":\"all_teams\",\"showlegend\":false}],\"label\":\"all_teams\"},{\"args\":[{\"visible\":[false,true,false,false,false,false,false,false,false,false,false,false,false,false,false,false,false,false,false,false,false,false,false,false,false,false,false,false,false,false,false,false]},{\"title\":\"TOR\",\"showlegend\":false}],\"label\":\"TOR\",\"method\":\"update\"},{\"args\":[{\"visible\":[false,false,true,false,false,false,false,false,false,false,false,false,false,false,false,false,false,false,false,false,false,false,false,false,false,false,false,false,false,false,false,false]},{\"title\":\"MEM\",\"showlegend\":false}],\"label\":\"MEM\",\"method\":\"update\"},{\"args\":[{\"visible\":[false,false,false,true,false,false,false,false,false,false,false,false,false,false,false,false,false,false,false,false,false,false,false,false,false,false,false,false,false,false,false,false]},{\"title\":\"MIA\",\"showlegend\":false}],\"label\":\"MIA\",\"method\":\"update\"},{\"args\":[{\"visible\":[false,false,false,false,true,false,false,false,false,false,false,false,false,false,false,false,false,false,false,false,false,false,false,false,false,false,false,false,false,false,false,false]},{\"title\":\"BRK\",\"showlegend\":false}],\"label\":\"BRK\",\"method\":\"update\"},{\"args\":[{\"visible\":[false,false,false,false,false,true,false,false,false,false,false,false,false,false,false,false,false,false,false,false,false,false,false,false,false,false,false,false,false,false,false,false]},{\"title\":\"TOT\",\"showlegend\":false}],\"label\":\"TOT\",\"method\":\"update\"},{\"args\":[{\"visible\":[false,false,false,false,false,false,true,false,false,false,false,false,false,false,false,false,false,false,false,false,false,false,false,false,false,false,false,false,false,false,false,false]},{\"title\":\"MIL\",\"showlegend\":false}],\"label\":\"MIL\",\"method\":\"update\"},{\"args\":[{\"visible\":[false,false,false,false,false,false,false,true,false,false,false,false,false,false,false,false,false,false,false,false,false,false,false,false,false,false,false,false,false,false,false,false]},{\"title\":\"CLE\",\"showlegend\":false}],\"label\":\"CLE\",\"method\":\"update\"},{\"args\":[{\"visible\":[false,false,false,false,false,false,false,false,true,false,false,false,false,false,false,false,false,false,false,false,false,false,false,false,false,false,false,false,false,false,false,false]},{\"title\":\"NOP\",\"showlegend\":false}],\"label\":\"NOP\",\"method\":\"update\"},{\"args\":[{\"visible\":[false,false,false,false,false,false,false,false,false,true,false,false,false,false,false,false,false,false,false,false,false,false,false,false,false,false,false,false,false,false,false,false]},{\"title\":\"LAL\",\"showlegend\":false}],\"label\":\"LAL\",\"method\":\"update\"},{\"args\":[{\"visible\":[false,false,false,false,false,false,false,false,false,false,true,false,false,false,false,false,false,false,false,false,false,false,false,false,false,false,false,false,false,false,false,false]},{\"title\":\"ORL\",\"showlegend\":false}],\"label\":\"ORL\",\"method\":\"update\"},{\"args\":[{\"visible\":[false,false,false,false,false,false,false,false,false,false,false,true,false,false,false,false,false,false,false,false,false,false,false,false,false,false,false,false,false,false,false,false]},{\"title\":\"WAS\",\"showlegend\":false}],\"label\":\"WAS\",\"method\":\"update\"},{\"args\":[{\"visible\":[false,false,false,false,false,false,false,false,false,false,false,false,true,false,false,false,false,false,false,false,false,false,false,false,false,false,false,false,false,false,false,false]},{\"title\":\"PHO\",\"showlegend\":false}],\"label\":\"PHO\",\"method\":\"update\"},{\"args\":[{\"visible\":[false,false,false,false,false,false,false,false,false,false,false,false,false,true,false,false,false,false,false,false,false,false,false,false,false,false,false,false,false,false,false,false]},{\"title\":\"CHO\",\"showlegend\":false}],\"label\":\"CHO\",\"method\":\"update\"},{\"args\":[{\"visible\":[false,false,false,false,false,false,false,false,false,false,false,false,false,false,true,false,false,false,false,false,false,false,false,false,false,false,false,false,false,false,false,false]},{\"title\":\"CHI\",\"showlegend\":false}],\"label\":\"CHI\",\"method\":\"update\"},{\"args\":[{\"visible\":[false,false,false,false,false,false,false,false,false,false,false,false,false,false,false,true,false,false,false,false,false,false,false,false,false,false,false,false,false,false,false,false]},{\"title\":\"SAC\",\"showlegend\":false}],\"label\":\"SAC\",\"method\":\"update\"},{\"args\":[{\"visible\":[false,false,false,false,false,false,false,false,false,false,false,false,false,false,false,false,true,false,false,false,false,false,false,false,false,false,false,false,false,false,false,false]},{\"title\":\"NYK\",\"showlegend\":false}],\"label\":\"NYK\",\"method\":\"update\"},{\"args\":[{\"visible\":[false,false,false,false,false,false,false,false,false,false,false,false,false,false,false,false,false,true,false,false,false,false,false,false,false,false,false,false,false,false,false,false]},{\"title\":\"DEN\",\"showlegend\":false}],\"label\":\"DEN\",\"method\":\"update\"},{\"args\":[{\"visible\":[false,false,false,false,false,false,false,false,false,false,false,false,false,false,false,false,false,false,true,false,false,false,false,false,false,false,false,false,false,false,false,false]},{\"title\":\"SAS\",\"showlegend\":false}],\"label\":\"SAS\",\"method\":\"update\"},{\"args\":[{\"visible\":[false,false,false,false,false,false,false,false,false,false,false,false,false,false,false,false,false,false,false,true,false,false,false,false,false,false,false,false,false,false,false,false]},{\"title\":\"LAC\",\"showlegend\":false}],\"label\":\"LAC\",\"method\":\"update\"},{\"args\":[{\"visible\":[false,false,false,false,false,false,false,false,false,false,false,false,false,false,false,false,false,false,false,false,true,false,false,false,false,false,false,false,false,false,false,false]},{\"title\":\"OKC\",\"showlegend\":false}],\"label\":\"OKC\",\"method\":\"update\"},{\"args\":[{\"visible\":[false,false,false,false,false,false,false,false,false,false,false,false,false,false,false,false,false,false,false,false,false,true,false,false,false,false,false,false,false,false,false,false]},{\"title\":\"MIN\",\"showlegend\":false}],\"label\":\"MIN\",\"method\":\"update\"},{\"args\":[{\"visible\":[false,false,false,false,false,false,false,false,false,false,false,false,false,false,false,false,false,false,false,false,false,false,true,false,false,false,false,false,false,false,false,false]},{\"title\":\"DET\",\"showlegend\":false}],\"label\":\"DET\",\"method\":\"update\"},{\"args\":[{\"visible\":[false,false,false,false,false,false,false,false,false,false,false,false,false,false,false,false,false,false,false,false,false,false,false,true,false,false,false,false,false,false,false,false]},{\"title\":\"IND\",\"showlegend\":false}],\"label\":\"IND\",\"method\":\"update\"},{\"args\":[{\"visible\":[false,false,false,false,false,false,false,false,false,false,false,false,false,false,false,false,false,false,false,false,false,false,false,false,true,false,false,false,false,false,false,false]},{\"title\":\"GSW\",\"showlegend\":false}],\"label\":\"GSW\",\"method\":\"update\"},{\"args\":[{\"visible\":[false,false,false,false,false,false,false,false,false,false,false,false,false,false,false,false,false,false,false,false,false,false,false,false,false,true,false,false,false,false,false,false]},{\"title\":\"ATL\",\"showlegend\":false}],\"label\":\"ATL\",\"method\":\"update\"},{\"args\":[{\"visible\":[false,false,false,false,false,false,false,false,false,false,false,false,false,false,false,false,false,false,false,false,false,false,false,false,false,false,true,false,false,false,false,false]},{\"title\":\"UTA\",\"showlegend\":false}],\"label\":\"UTA\",\"method\":\"update\"},{\"args\":[{\"visible\":[false,false,false,false,false,false,false,false,false,false,false,false,false,false,false,false,false,false,false,false,false,false,false,false,false,false,false,true,false,false,false,false]},{\"title\":\"BOS\",\"showlegend\":false}],\"label\":\"BOS\",\"method\":\"update\"},{\"args\":[{\"visible\":[false,false,false,false,false,false,false,false,false,false,false,false,false,false,false,false,false,false,false,false,false,false,false,false,false,false,false,false,true,false,false,false]},{\"title\":\"DAL\",\"showlegend\":false}],\"label\":\"DAL\",\"method\":\"update\"},{\"args\":[{\"visible\":[false,false,false,false,false,false,false,false,false,false,false,false,false,false,false,false,false,false,false,false,false,false,false,false,false,false,false,false,false,true,false,false]},{\"title\":\"HOU\",\"showlegend\":false}],\"label\":\"HOU\",\"method\":\"update\"},{\"args\":[{\"visible\":[false,false,false,false,false,false,false,false,false,false,false,false,false,false,false,false,false,false,false,false,false,false,false,false,false,false,false,false,false,false,true,false]},{\"title\":\"POR\",\"showlegend\":false}],\"label\":\"POR\",\"method\":\"update\"},{\"args\":[{\"visible\":[false,false,false,false,false,false,false,false,false,false,false,false,false,false,false,false,false,false,false,false,false,false,false,false,false,false,false,false,false,false,false,true]},{\"title\":\"PHI\",\"showlegend\":false}],\"label\":\"PHI\",\"method\":\"update\"}],\"direction\":\"down\",\"pad\":{\"r\":10,\"t\":10},\"showactive\":true}],\"yaxis\":{\"range\":[44,76],\"title\":{\"text\":\"True Shooting\"},\"tickvals\":[45,50,55,60,65,70,75]},\"xaxis\":{\"range\":[0,50],\"title\":{\"text\":\"Points per 75 Possesions\"},\"tickvals\":[5,10,15,20,25,30,35,40,45]}},                        {\"responsive\": true}                    ).then(function(){\n",
       "                            \n",
       "var gd = document.getElementById('e12bec4f-df09-44ea-b9e7-2f3115a6c88a');\n",
       "var x = new MutationObserver(function (mutations, observer) {{\n",
       "        var display = window.getComputedStyle(gd).display;\n",
       "        if (!display || display === 'none') {{\n",
       "            console.log([gd, 'removed!']);\n",
       "            Plotly.purge(gd);\n",
       "            observer.disconnect();\n",
       "        }}\n",
       "}});\n",
       "\n",
       "// Listen for the removal of the full notebook cells\n",
       "var notebookContainer = gd.closest('#notebook-container');\n",
       "if (notebookContainer) {{\n",
       "    x.observe(notebookContainer, {childList: true});\n",
       "}}\n",
       "\n",
       "// Listen for the clearing of the current output cell\n",
       "var outputEl = gd.closest('.output');\n",
       "if (outputEl) {{\n",
       "    x.observe(outputEl, {childList: true});\n",
       "}}\n",
       "\n",
       "                        })                };                });            </script>        </div>"
      ]
     },
     "metadata": {},
     "output_type": "display_data"
    }
   ],
   "source": [
    "zmax = df['TS%'].max()\n",
    "zmin = df['TS%'].min()\n",
    "\n",
    "fig = go.Figure()\n",
    "fig.add_trace(\n",
    "        go.Scatter(\n",
    "\n",
    "            visible = True,\n",
    "            x = df['PTS'],\n",
    "            y = df['TS%'],\n",
    "            text = df['Player'],\n",
    "            hovertemplate =\n",
    "            '<b>%{text}</b>'+\n",
    "    '<br><i>Points per 75</i>: %{x:.2f}<br>'+\n",
    "    'True Shooting: %{y}'\n",
    "    ,\n",
    "            name = 'all_teams',\n",
    "            marker=dict(\n",
    "            cmin=zmin ,\n",
    "            cmax=zmax,\n",
    "            size=df['MP'] / 80,\n",
    "            colorbar=dict(\n",
    "            title=\"Scoring Efficiency\",\n",
    "            tickformatstops = [{'dtickrange': [40,80]\n",
    "                              }]\n",
    "           \n",
    "    \n",
    "        ),\n",
    "        autocolorscale = True,\n",
    "        color=  df['TS%'],\n",
    "\n",
    "    ),\n",
    "   \n",
    "\n",
    "    mode=\"markers\"\n",
    "        ))\n",
    "\n",
    "for team in teams:\n",
    "    df_team = df[df['Tm'] == team]\n",
    "   \n",
    "    \n",
    "    fig.add_trace(\n",
    "        go.Scatter(\n",
    "\n",
    "            visible = False,\n",
    "            x = df_team['PTS'],\n",
    "            y = df_team['TS%'],\n",
    "            text = df_team['Player'],\n",
    "            hovertemplate =\n",
    "            '<b>%{text}</b>'+\n",
    "    '<br><i>Points per 75</i>: %{x:.2f}<br>'+\n",
    "    'True Shooting: %{y}'\n",
    "    ,\n",
    "            name = team,\n",
    "            marker=dict(\n",
    "            cmin=zmin ,\n",
    "            cmax=zmax,\n",
    "            size=df_team['MP'] / 80,\n",
    "            colorbar=dict(\n",
    "            title=\"Scoring Efficiency\",\n",
    "            tickformatstops = [{'dtickrange': [40,80]\n",
    "                              }]\n",
    "           \n",
    "    \n",
    "        ),\n",
    "        autocolorscale = True,\n",
    "        color=  df_team['TS%'],\n",
    "\n",
    "    ),\n",
    "   \n",
    "\n",
    "    mode=\"markers\"\n",
    "        )\n",
    "        \n",
    "    )  \n",
    "fig.update_layout(\n",
    "    autosize=False,\n",
    "    width=1000,\n",
    "    height=800,\n",
    "showlegend= False)  \n",
    "fig.update_layout(\n",
    "updatemenus=[go.layout.Updatemenu(\n",
    "        active=0,\n",
    "        buttons= my_list,\n",
    "        direction=\"down\",\n",
    "            pad={\"r\": 10, \"t\": 10},\n",
    "            showactive=True,\n",
    "            \n",
    "         \n",
    ")],\n",
    ")\n",
    "fig.update_layout(yaxis_range=[44,76], xaxis_range = [0,50])\n",
    "fig.update_yaxes(tickvals=[i for i in range(45,80,5)], title_text = \"True Shooting\",)\n",
    "fig.update_xaxes(tickvals = [i for i in range (5,50,5)], title_text = 'Points per 75 Possesions')\n",
    "\n",
    "fig.show()"
   ]
  },
  {
   "cell_type": "code",
   "execution_count": 14,
   "id": "ac45fcbb-4e1b-41c2-b22b-a4a530a93042",
   "metadata": {},
   "outputs": [],
   "source": [
    "fig.write_html(\"index.html\")"
   ]
  },
  {
   "cell_type": "code",
   "execution_count": null,
   "id": "a270029f-11b4-4063-9365-8b7ea57a9f18",
   "metadata": {},
   "outputs": [],
   "source": []
  }
 ],
 "metadata": {
  "kernelspec": {
   "display_name": "Python 3",
   "language": "python",
   "name": "python3"
  },
  "language_info": {
   "codemirror_mode": {
    "name": "ipython",
    "version": 3
   },
   "file_extension": ".py",
   "mimetype": "text/x-python",
   "name": "python",
   "nbconvert_exporter": "python",
   "pygments_lexer": "ipython3",
   "version": "3.8.8"
  }
 },
 "nbformat": 4,
 "nbformat_minor": 5
}
