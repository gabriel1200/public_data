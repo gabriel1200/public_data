{
 "cells": [
  {
   "cell_type": "code",
   "execution_count": 1,
   "id": "e8644fd5-5465-4b04-b43c-ae5a3fcc4771",
   "metadata": {},
   "outputs": [],
   "source": [
    "import pandas as pd\n",
    "\n",
    "from concurrent.futures import ThreadPoolExecutor\n",
    "import concurrent.futures\n",
    "\n",
    "\n",
    "import plotly.graph_objects as go\n",
    "\n",
    "import dash\n",
    "from dash import dcc\n",
    "from dash import html\n",
    "from dash.dependencies import Input, Output, State\n",
    "import chart_studio.plotly as py\n",
    "import time\n"
   ]
  },
  {
   "cell_type": "code",
   "execution_count": 2,
   "id": "c79e40ce-aa77-4465-ae95-f42c79017490",
   "metadata": {},
   "outputs": [],
   "source": [
    "start_year = 1980\n",
    "end_year = 2022"
   ]
  },
  {
   "cell_type": "code",
   "execution_count": 3,
   "id": "ae90d6f3-96a9-412b-ab19-da1ccc03af0c",
   "metadata": {
    "tags": []
   },
   "outputs": [],
   "source": [
    "averages = pd.read_html('https://www.basketball-reference.com/leagues/NBA_stats_per_game.html#stats', header=1)[0]\n",
    "\n",
    "averages= averages.dropna()\n",
    "\n",
    "averages = averages[averages['Season']!='Season']\n",
    "averages['PTS'] = averages['PTS'].astype(float)\n",
    "averages['FGA'] = averages['FGA'].astype(float)\n",
    "averages['FTA'] = averages['FTA'].astype(float)\n",
    "averages['TS%'] = averages['PTS']/(2* (averages['FGA'] + .44 *averages['FTA'] ))\n",
    "averages['TS%'] = averages['PTS']/(2* (averages['FGA'] + .44 *averages['FTA'] ))\n",
    "averages = averages[['TS%','Season']]\n",
    "averages['Season'] = averages['Season'].str[:4]\n",
    "averages['Season'] = averages['Season'].astype(int)\n",
    "averages['Season']+=1\n",
    "averages = averages[averages['Season']>=start_year]\n",
    "averages = averages[averages['Season']<=end_year]\n",
    "averages = averages.iloc[::-1]\n"
   ]
  },
  {
   "cell_type": "code",
   "execution_count": 4,
   "id": "411520f8-41c2-4196-b9bd-66d2380cef32",
   "metadata": {},
   "outputs": [],
   "source": [
    "s_data = averages.to_dict('split')['data']\n",
    "seasons = {}\n",
    "options = []\n",
    "for i in s_data:\n",
    "    seasons[int(i[1])] = float(i[0])\n",
    "    options.append(int(i[1]))"
   ]
  },
  {
   "cell_type": "code",
   "execution_count": 5,
   "id": "1d935d80-e283-45cd-baf4-09d79b298a2f",
   "metadata": {},
   "outputs": [],
   "source": [
    "def get_table(link_1,minutes):\n",
    "    \n",
    "    df = pd.read_html(link_1)[0]\n",
    "   \n",
    "    df = df[df[\"MP\"].notna()]\n",
    "    df = df[df['MP'] != 'MP']\n",
    "    df['MP'] = df['MP'].astype(float)\n",
    "    df['PTS'] = df['PTS'].astype(float)\n",
    "    df['FTA'] = df['FTA'].astype(float)\n",
    "    df['FGA'] = df['FGA'].astype(float)\n",
    "\n",
    "    df['TS%'] = df['PTS']/(2* (df['FGA'] + .44 *df['FTA'] ))\n",
    "\n",
    "    df = df[df['MP'] >minutes]\n",
    "    df['TS%'] *=100\n",
    "  \n",
    "    \n",
    "    return df[['Player','TS%','PTS','MP','Tm']]\n"
   ]
  },
  {
   "cell_type": "code",
   "execution_count": 6,
   "id": "e6b11afb-6b55-4176-a922-36711eda41de",
   "metadata": {},
   "outputs": [
    {
     "data": {
      "text/plain": [
       "'link_1 =\\'https://www.basketball-reference.com/leagues/NBA_2011_per_poss.html#per_poss_stats\\'\\nlink_2 = \\'https://www.basketball-reference.com/leagues/NBA_2011_advanced.html#advanced_stat\\'\\nlink_3 =\\'https://www.basketball-reference.com/playoffs/NBA_1985_per_poss.html#per_poss_stats\\'\\nlink_4 = \\'https://www.basketball-reference.com/playoffs/NBA_1985_advanced.html#advanced_stats\\'\\ndf = pd.read_html(link_3)[0]\\ndf = df[df[\"MP\"].notna()]\\ndf = df[df[\\'MP\\'] != \\'MP\\']\\ndf[\\'MP\\'] = df[\\'MP\\'].astype(float)\\ndf[\\'PTS\\'] = df[\\'PTS\\'].astype(float)\\ndf[\\'FTA\\'] = df[\\'FTA\\'].astype(float)\\ndf[\\'FGA\\'] = df[\\'FGA\\'].astype(float)\\n\\ndf[\\'TS%\\'] = df[\\'PTS\\']/(2* (df[\\'FGA\\'] + .44 *df[\\'FTA\\'] ))\\n\\ndf_2 = pd.read_html(link_4)[0]\\ndf = df.round({\\'TS%\\': 1})'"
      ]
     },
     "execution_count": 6,
     "metadata": {},
     "output_type": "execute_result"
    }
   ],
   "source": [
    "'''link_1 ='https://www.basketball-reference.com/leagues/NBA_2011_per_poss.html#per_poss_stats'\n",
    "link_2 = 'https://www.basketball-reference.com/leagues/NBA_2011_advanced.html#advanced_stat'\n",
    "link_3 ='https://www.basketball-reference.com/playoffs/NBA_1985_per_poss.html#per_poss_stats'\n",
    "link_4 = 'https://www.basketball-reference.com/playoffs/NBA_1985_advanced.html#advanced_stats'\n",
    "df = pd.read_html(link_3)[0]\n",
    "df = df[df[\"MP\"].notna()]\n",
    "df = df[df['MP'] != 'MP']\n",
    "df['MP'] = df['MP'].astype(float)\n",
    "df['PTS'] = df['PTS'].astype(float)\n",
    "df['FTA'] = df['FTA'].astype(float)\n",
    "df['FGA'] = df['FGA'].astype(float)\n",
    "\n",
    "df['TS%'] = df['PTS']/(2* (df['FGA'] + .44 *df['FTA'] ))\n",
    "\n",
    "df_2 = pd.read_html(link_4)[0]\n",
    "df = df.round({'TS%': 1})'''"
   ]
  },
  {
   "cell_type": "code",
   "execution_count": 7,
   "id": "d34e197a-5388-434f-9318-bbb21e6e8045",
   "metadata": {
    "tags": []
   },
   "outputs": [],
   "source": [
    "\n",
    "def get_tables(start_year,stop_year,minutes):\n",
    "\n",
    "    tables = []\n",
    "    for i in range(start_year,stop_year + 1):\n",
    "        link_1 ='https://www.basketball-reference.com/leagues/NBA_'+str(i)+'_per_poss.html#per_poss_stats'\n",
    "\n",
    "        df = get_table(link_1,minutes)\n",
    "        tables.append(df)\n",
    "    return tables\n",
    "\n",
    "def playoff_tables(start_year,stop_year,minutes):\n",
    "    tables = []\n",
    "    for i in range(start_year,stop_year + 1):\n",
    "        link_1 ='https://www.basketball-reference.com/playoffs/NBA_'+str(i)+'_per_poss.html#per_poss_stats'\n",
    "   \n",
    "\n",
    "        df = get_table(link_1,minutes)\n",
    "        tables.append(df)\n",
    "    return tables\n",
    "\n"
   ]
  },
  {
   "cell_type": "code",
   "execution_count": 8,
   "id": "d97f7ea8-4871-4f14-8253-933a0525cda0",
   "metadata": {},
   "outputs": [],
   "source": [
    "\n",
    "def get_tablesn(start_year,stop_year,minutes):\n",
    "    tables = {}\n",
    "    with concurrent.futures.ThreadPoolExecutor() as executor:\n",
    "    # Start the load operations and mark each future with its URL\n",
    "        \n",
    "        \n",
    "        future_to_url = {executor.submit(get_table, \n",
    "                                     'https://www.basketball-reference.com/leagues/NBA_'+str(year)+'_per_poss.html#per_poss_stats',minutes):\n",
    "                     year for year in range(start_year,stop_year +1)}\n",
    "    for future in concurrent.futures.as_completed(future_to_url):\n",
    "     \n",
    "            #print(df.head())\n",
    "        tables.append(future.result())\n",
    "\n",
    "    return tables"
   ]
  },
  {
   "cell_type": "code",
   "execution_count": 9,
   "id": "87f3ee92-5754-4626-b3a3-b3324962cf3a",
   "metadata": {},
   "outputs": [
    {
     "name": "stdout",
     "output_type": "stream",
     "text": [
      "Execution time: 75.04128384590149 seconds\n"
     ]
    }
   ],
   "source": [
    "minutes = 400\n",
    "st = time.time()\n",
    "\n",
    "tables = get_tables(start_year,end_year,minutes)\n",
    "et = time.time()\n",
    "elapsed_time = et - st\n",
    "print('Execution time:', elapsed_time, 'seconds')"
   ]
  },
  {
   "cell_type": "code",
   "execution_count": 10,
   "id": "ac3aff96-edb4-4490-9a5e-a4cdbacdf5ad",
   "metadata": {
    "tags": []
   },
   "outputs": [],
   "source": [
    "def get_buttons(teams,year,df):\n",
    "    my_list = []\n",
    "    i = 0\n",
    "    length = len(teams)\n",
    "    seen = [False for i in range(length+ 1) ]\n",
    "\n",
    "    seen[i] = True\n",
    "    my_list.append(dict(label = 'all_teams',\n",
    "                      method = 'update',\n",
    "                      args = [{'visible':[i for i in seen]},\n",
    "                              {'title': 'All',\n",
    "                               'showlegend':False}]))\n",
    "    seen[i] = False\n",
    "    i +=1\n",
    "    for team in teams:\n",
    "        #print(i)\n",
    "        df_team = df[df['Tm'] == team]\n",
    "        seen[i] = True\n",
    "\n",
    "        my_list.append(dict(label = team,\n",
    "                      method = 'update',\n",
    "\n",
    "                      args = [{'visible':[i for i in seen]},\n",
    "                              {'title': str(year) + ' '+team,\n",
    "                               'showlegend':False}]))\n",
    "        seen[i] = False\n",
    "        i+=1\n",
    "    return my_list\n"
   ]
  },
  {
   "cell_type": "code",
   "execution_count": 11,
   "id": "773e22ff-da3e-4bc0-bde0-ecc7585e70c4",
   "metadata": {},
   "outputs": [],
   "source": [
    "#zmax = df['TS%'].max()\n",
    "#zmin = df['TS%'].min()\n",
    "#zmin"
   ]
  },
  {
   "cell_type": "code",
   "execution_count": 12,
   "id": "8eef10b5-2b31-44a9-9b0f-d7226e95e2a6",
   "metadata": {},
   "outputs": [],
   "source": [
    "def full_trace(fig,df,zmin,zmax,av_shooting):\n",
    "    df = df[df['Tm']!= 'TOT']\n",
    "    fig.add_trace(\n",
    "            go.Scatter(\n",
    "\n",
    "                visible = True,\n",
    "                x = df['PTS'],\n",
    "                y = df['TS%'],\n",
    "                customdata = df['TS%'] - av_shooting,\n",
    "\n",
    "                \n",
    "                text = df['Player']+' - ' + df['Tm'],\n",
    "                hovertemplate =\n",
    "                '<b>%{text}</b>'+\n",
    "        '<br><i>Points per 100 Possesions</i>: %{x:.2f}<br>'+\n",
    "        'True Shooting: %{y:.2f}'\n",
    "                + ' <br>Relative True Shooting: %{customdata:.2f}<extra></extra></br>'\n",
    "        ,\n",
    "                name = 'All',\n",
    "                marker=dict(\n",
    "                cmin=zmin ,\n",
    "                cmax=zmax,\n",
    "                size=df['MP'] / 65,\n",
    "                colorbar=dict(\n",
    "                title=\"True Shooting %\"\n",
    "\n",
    "\n",
    "            ),\n",
    "            colorscale=\"plasma\",\n",
    "            color=  df['TS%'],\n",
    "\n",
    "        ),\n",
    "\n",
    "\n",
    "        mode=\"markers\"\n",
    "            ))\n",
    "    return fig\n",
    "    "
   ]
  },
  {
   "cell_type": "code",
   "execution_count": 13,
   "id": "1f228262-678f-4045-8f89-e0d6f7d92340",
   "metadata": {},
   "outputs": [],
   "source": [
    "def team_trace(fig,df,teams,zmin,zmax,av_shooting):\n",
    "    for team in teams:\n",
    "        df_team = df[df['Tm'] == team]\n",
    "\n",
    "\n",
    "        fig.add_trace(\n",
    "            go.Scatter(\n",
    "                \n",
    "                visible = False,\n",
    "                x = df_team['PTS'],\n",
    "                y = df_team['TS%'],\n",
    "                customdata = df_team['TS%'] - av_shooting,\n",
    "                \n",
    "                text = df_team['Player']+' - ' + df_team['Tm'],\n",
    "                hovertemplate =\n",
    "                '<b>%{text}</b>'+\n",
    "        '<br><i>Points per 100 Possesions</i>: %{x:.2f}<br>'+\n",
    "        'True Shooting: %{y:.2f}'\n",
    "                + ' <br>Relative True Shooting: %{customdata:.2f}<extra></extra></br>'\n",
    "        ,\n",
    "                name = team,\n",
    "                marker=dict(\n",
    "                cmin=zmin ,\n",
    "                cmax=zmax,\n",
    "                size=df_team['MP'] / 65,\n",
    "                colorbar=dict(\n",
    "                title=\"True Shooting\"\n",
    "\n",
    "\n",
    "            ),\n",
    "            colorscale = 'Plasma',\n",
    "            \n",
    "            color=  df_team['TS%'],\n",
    "\n",
    "        ),\n",
    "\n",
    "\n",
    "        mode=\"markers\"\n",
    "            )\n",
    "\n",
    "        ) \n",
    "    return fig"
   ]
  },
  {
   "cell_type": "code",
   "execution_count": 14,
   "id": "f9638bef-86ef-45b8-98fe-8dadcce7837f",
   "metadata": {
    "tags": []
   },
   "outputs": [],
   "source": [
    "def season_graph(df,year,true_shooting):\n",
    "    fig = go.Figure()\n",
    "    teams = list(df['Tm'].unique())\n",
    "    my_buttons = get_buttons(teams,year,df)\n",
    "    zmax = df['TS%'].max()\n",
    "    zmin = df['TS%'].min()\n",
    "    fig.update_layout(\n",
    "        title={\n",
    "        'text':str(year) +\" Season\",\n",
    "        'y':0.95,\n",
    "        'x':0.5,\n",
    "        'xanchor': 'center',\n",
    "        'yanchor': 'top'},\n",
    "    updatemenus=[go.layout.Updatemenu(\n",
    "            active=0,\n",
    "            buttons= my_buttons,\n",
    "            direction=\"down\",\n",
    "                pad={\"r\": 10, \"t\": 10},\n",
    "                showactive=True,\n",
    "\n",
    "\n",
    "    )],\n",
    "    font=dict(\n",
    "        size=15,\n",
    "    )\n",
    "    )\n",
    "   \n",
    "    fig = full_trace(fig,df,zmin,zmax,true_shooting)\n",
    "    fig = team_trace(fig,df,teams,zmin,zmax,true_shooting)\n",
    "\n",
    "    fig.update_layout(yaxis_range=[int(zmin -3),int(zmax +2)], xaxis_range = [0,50])\n",
    "    fig.update_yaxes(tickvals=[i for i in range(int(zmin)-3,int(zmax)+3,5)])\n",
    "    fig.update_xaxes(tickvals = [i for i in range (5,50,5)], title_text = 'Points per 100 Possesions')\n",
    "    fig.add_hline(y=true_shooting)\n",
    "    fig.update_layout(\n",
    "        #width = 1400,\n",
    "        #height = 700,\n",
    "        autosize=True,\n",
    "        annotations=[\n",
    "        go.layout.Annotation(\n",
    "            showarrow=False,\n",
    "            text='Source: Basketball Reference',\n",
    "            y =zmin\n",
    "            \n",
    "        )]\n",
    "    )  \n",
    "    return fig"
   ]
  },
  {
   "cell_type": "code",
   "execution_count": 15,
   "id": "3b75c0e6-0dad-4b94-a1e2-0c6e5376ed19",
   "metadata": {},
   "outputs": [],
   "source": [
    "#df = tables[0]\n",
    "#fig = season_graph(df,1990,seasons[1990]*100)\n",
    "#fig.show()"
   ]
  },
  {
   "cell_type": "code",
   "execution_count": 16,
   "id": "ac45fcbb-4e1b-41c2-b22b-a4a530a93042",
   "metadata": {},
   "outputs": [],
   "source": [
    "\n",
    "\n",
    "app = dash.Dash(\n",
    "      meta_tags=[\n",
    "        {\"name\": \"viewport\", \"content\": \"width=device-width, initial-scale=1\"}\n",
    "    ],\n",
    ")\n",
    "    "
   ]
  },
  {
   "cell_type": "code",
   "execution_count": null,
   "id": "a270029f-11b4-4063-9365-8b7ea57a9f18",
   "metadata": {},
   "outputs": [
    {
     "name": "stdout",
     "output_type": "stream",
     "text": [
      "Dash is running on http://127.0.0.1:80/\n",
      "\n",
      " * Serving Flask app '__main__'\n",
      " * Debug mode: off\n"
     ]
    },
    {
     "name": "stderr",
     "output_type": "stream",
     "text": [
      "WARNING: This is a development server. Do not use it in a production deployment. Use a production WSGI server instead.\n",
      " * Running on http://127.0.0.1:80\n",
      "Press CTRL+C to quit\n",
      "127.0.0.1 - - [22/Aug/2022 17:26:01] \"GET / HTTP/1.1\" 200 -\n",
      "127.0.0.1 - - [22/Aug/2022 17:26:01] \"GET /_dash-layout HTTP/1.1\" 200 -\n",
      "127.0.0.1 - - [22/Aug/2022 17:26:01] \"GET /_dash-dependencies HTTP/1.1\" 200 -\n",
      "127.0.0.1 - - [22/Aug/2022 17:26:01] \"GET /_dash-component-suites/dash/dcc/async-dropdown.js HTTP/1.1\" 304 -\n",
      "127.0.0.1 - - [22/Aug/2022 17:26:01] \"GET /_dash-component-suites/dash/dcc/async-graph.js HTTP/1.1\" 304 -\n",
      "127.0.0.1 - - [22/Aug/2022 17:26:01] \"GET /_dash-component-suites/dash/dcc/async-plotlyjs.js HTTP/1.1\" 304 -\n",
      "127.0.0.1 - - [22/Aug/2022 17:26:01] \"POST /_dash-update-component HTTP/1.1\" 200 -\n",
      "127.0.0.1 - - [22/Aug/2022 17:26:12] \"POST /_dash-update-component HTTP/1.1\" 200 -\n",
      "127.0.0.1 - - [22/Aug/2022 17:26:20] \"POST /_dash-update-component HTTP/1.1\" 200 -\n"
     ]
    }
   ],
   "source": [
    "mess_1 = 'Bubble size corresponds to minutes played'\n",
    "mess_2 = 'Players with less than ' +str(minutes)+ ' minutes are excluded'\n",
    "server = app.server\n",
    "\n",
    "app.layout = html.Div(\n",
    "    \n",
    "    children=[\n",
    "    html.H1(children='Scoring by Year', style={'text-align': 'center'}),\n",
    "    html.Div(children='Player Scoring vs Player Efficiency', style={'text-align': 'center'}),\n",
    "    html.Ul(children = [html.Li(mess_1), html.Li(mess_2) ]),\n",
    "\n",
    "    html.Div([\n",
    "        html.Label(['Choose a season:'],style={'font-weight': 'bold'}),\n",
    "        dcc.Dropdown(\n",
    "            id='dropdown',\n",
    "            options=options,\n",
    "                \n",
    "            value=start_year,\n",
    "            style={\"width\": \"60%\"}),\n",
    "        \n",
    "    html.Div(dcc.Graph(id='graph',\n",
    "                        figure=dict(layout=dict(autosize=True)),\n",
    "            config=dict(responsive=True),  style={'display': 'flex','width':1400,'height':800}))      \n",
    "        ]),\n",
    "\n",
    "])\n",
    "\n",
    "@app.callback(\n",
    "    Output('graph', 'figure'),\n",
    "    [Input(component_id='dropdown', component_property='value')]\n",
    ")\n",
    "\n",
    "def update_output(value):\n",
    "\n",
    "    t_num = options.index(value)\n",
    "    fig = season_graph(tables[t_num],value,seasons[value]* 100)\n",
    "    return fig\n",
    "\n",
    "\n",
    "# Run app and display result inline in the notebook\n",
    "if __name__ == '__main__':\n",
    "    app.run_server(port=80)"
   ]
  },
  {
   "cell_type": "code",
   "execution_count": null,
   "id": "32d88e51-b3dc-44f3-a13b-0a1e5eafe1c1",
   "metadata": {},
   "outputs": [],
   "source": []
  },
  {
   "cell_type": "code",
   "execution_count": null,
   "id": "ec4412e2-6786-43ef-9bdf-77ceb5cc45ca",
   "metadata": {},
   "outputs": [],
   "source": []
  }
 ],
 "metadata": {
  "kernelspec": {
   "display_name": "Python 3",
   "language": "python",
   "name": "python3"
  },
  "language_info": {
   "codemirror_mode": {
    "name": "ipython",
    "version": 3
   },
   "file_extension": ".py",
   "mimetype": "text/x-python",
   "name": "python",
   "nbconvert_exporter": "python",
   "pygments_lexer": "ipython3",
   "version": "3.8.8"
  }
 },
 "nbformat": 4,
 "nbformat_minor": 5
}
