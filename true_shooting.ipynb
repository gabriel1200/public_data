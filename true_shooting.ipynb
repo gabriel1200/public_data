{
 "cells": [
  {
   "cell_type": "code",
   "execution_count": 23,
   "id": "e8644fd5-5465-4b04-b43c-ae5a3fcc4771",
   "metadata": {},
   "outputs": [
    {
     "data": {
      "text/html": [
       "        <script type=\"text/javascript\">\n",
       "        window.PlotlyConfig = {MathJaxConfig: 'local'};\n",
       "        if (window.MathJax) {MathJax.Hub.Config({SVG: {font: \"STIX-Web\"}});}\n",
       "        if (typeof require !== 'undefined') {\n",
       "        require.undef(\"plotly\");\n",
       "        requirejs.config({\n",
       "            paths: {\n",
       "                'plotly': ['https://cdn.plot.ly/plotly-2.11.1.min']\n",
       "            }\n",
       "        });\n",
       "        require(['plotly'], function(Plotly) {\n",
       "            window._Plotly = Plotly;\n",
       "        });\n",
       "        }\n",
       "        </script>\n",
       "        "
      ]
     },
     "metadata": {},
     "output_type": "display_data"
    }
   ],
   "source": [
    "import pandas as pd\n",
    "\n",
    "import plotly.express as px\n",
    "import plotly\n",
    "plotly.offline.init_notebook_mode(connected=True)\n",
    "import plotly.graph_objects as go"
   ]
  },
  {
   "cell_type": "code",
   "execution_count": null,
   "id": "257bdc7a-5710-4310-b45d-485860a6f41c",
   "metadata": {},
   "outputs": [],
   "source": [
    "!pip install chart_studio"
   ]
  },
  {
   "cell_type": "code",
   "execution_count": 1,
   "id": "8da5d690-149a-49dd-9666-f98f560a2c8f",
   "metadata": {},
   "outputs": [],
   "source": [
    "import chart_studio.plotly as py\n",
    "import chart_studio.tools as tls\n",
    "from ipywidgets import interactive, HBox, VBox\n",
    "\n"
   ]
  },
  {
   "cell_type": "code",
   "execution_count": 14,
   "id": "aec5ea31-93e7-4ec0-9484-7228526bb788",
   "metadata": {},
   "outputs": [],
   "source": [
    "import sys\n",
    "import pandas as pd\n",
    "\n",
    "    \n",
    "def get_table(link_1,link_2):\n",
    "\n",
    "    df = pd.read_html(link_1)[0]\n",
    "    df_2 = pd.read_html(link_2)[0]\n",
    "    df = df.dropna(subset = ['MP'])\n",
    "    df_2 = df_2.dropna(subset = ['MP','TS%'])\n",
    "    df = df[df['MP'] != 'MP']\n",
    "    df_2 = df_2[df_2['MP'] != 'MP']\n",
    "    final_df = df.merge(df_2)\n",
    "    final_df['MP'] = final_df['MP'].astype(float)\n",
    "    final_df['PTS'] = final_df['PTS'].astype(float)\n",
    "    final_df['TS%'] = final_df['TS%'].astype(float)\n",
    "    final_df = final_df[final_df['MP'] >700]\n",
    "    \n",
    "    final_df = final_df.drop(columns = ['Unnamed: 24','Unnamed: 29','Unnamed: 19'])\n",
    "    send_df = final_df[['Player','TS%','PTS','MP','Tm']]\n",
    "\n",
    "    \n",
    "    return send_df\n",
    "    \n",
    "def main(my_dict):\n",
    "    team = my_dict['team']\n",
    "    df = get_table()\n",
    "    return df.to_dict()\n"
   ]
  },
  {
   "cell_type": "code",
   "execution_count": 25,
   "id": "e6b11afb-6b55-4176-a922-36711eda41de",
   "metadata": {},
   "outputs": [],
   "source": [
    "link_1 ='https://www.basketball-reference.com/leagues/NBA_2011_per_poss.html#per_poss_stats'\n",
    "link_2 = 'https://www.basketball-reference.com/leagues/NBA_2011_advanced.html#advanced_stat'\n",
    "\n",
    "df = pd.read_html(link_1)[0]\n",
    "df_2 = pd.read_html(link_2)[0]\n",
    "\n",
    "#df_2 = df_2.dropna()\n"
   ]
  },
  {
   "cell_type": "code",
   "execution_count": 28,
   "id": "d34e197a-5388-434f-9318-bbb21e6e8045",
   "metadata": {},
   "outputs": [],
   "source": [
    "tables = []\n",
    "for i in range(2010,2023):\n",
    "    link_1 ='https://www.basketball-reference.com/leagues/NBA_'+str(i)+'_per_poss.html#per_poss_stats'\n",
    "    link_2 = 'https://www.basketball-reference.com/leagues/NBA_'+str(i)+'_advanced.html#advanced_stat'\n",
    "    \n",
    "    df = get_table(link_1,link_2)\n",
    "    tables.append(df)\n"
   ]
  },
  {
   "cell_type": "code",
   "execution_count": 30,
   "id": "a9720847-89a2-47bd-b409-0142ec777f53",
   "metadata": {},
   "outputs": [
    {
     "data": {
      "text/html": [
       "<div>\n",
       "<style scoped>\n",
       "    .dataframe tbody tr th:only-of-type {\n",
       "        vertical-align: middle;\n",
       "    }\n",
       "\n",
       "    .dataframe tbody tr th {\n",
       "        vertical-align: top;\n",
       "    }\n",
       "\n",
       "    .dataframe thead th {\n",
       "        text-align: right;\n",
       "    }\n",
       "</style>\n",
       "<table border=\"1\" class=\"dataframe\">\n",
       "  <thead>\n",
       "    <tr style=\"text-align: right;\">\n",
       "      <th></th>\n",
       "      <th>Player</th>\n",
       "      <th>TS%</th>\n",
       "      <th>PTS</th>\n",
       "      <th>MP</th>\n",
       "      <th>Tm</th>\n",
       "    </tr>\n",
       "  </thead>\n",
       "  <tbody>\n",
       "    <tr>\n",
       "      <th>0</th>\n",
       "      <td>Precious Achiuwa</td>\n",
       "      <td>0.503</td>\n",
       "      <td>19.2</td>\n",
       "      <td>1725.0</td>\n",
       "      <td>TOR</td>\n",
       "    </tr>\n",
       "    <tr>\n",
       "      <th>1</th>\n",
       "      <td>Steven Adams</td>\n",
       "      <td>0.560</td>\n",
       "      <td>12.6</td>\n",
       "      <td>1999.0</td>\n",
       "      <td>MEM</td>\n",
       "    </tr>\n",
       "    <tr>\n",
       "      <th>2</th>\n",
       "      <td>Bam Adebayo</td>\n",
       "      <td>0.608</td>\n",
       "      <td>29.3</td>\n",
       "      <td>1825.0</td>\n",
       "      <td>MIA</td>\n",
       "    </tr>\n",
       "    <tr>\n",
       "      <th>4</th>\n",
       "      <td>LaMarcus Aldridge</td>\n",
       "      <td>0.604</td>\n",
       "      <td>28.0</td>\n",
       "      <td>1050.0</td>\n",
       "      <td>BRK</td>\n",
       "    </tr>\n",
       "    <tr>\n",
       "      <th>5</th>\n",
       "      <td>Nickeil Alexander-Walker</td>\n",
       "      <td>0.475</td>\n",
       "      <td>23.3</td>\n",
       "      <td>1466.0</td>\n",
       "      <td>TOT</td>\n",
       "    </tr>\n",
       "    <tr>\n",
       "      <th>...</th>\n",
       "      <td>...</td>\n",
       "      <td>...</td>\n",
       "      <td>...</td>\n",
       "      <td>...</td>\n",
       "      <td>...</td>\n",
       "    </tr>\n",
       "    <tr>\n",
       "      <th>787</th>\n",
       "      <td>Delon Wright</td>\n",
       "      <td>0.576</td>\n",
       "      <td>11.6</td>\n",
       "      <td>1452.0</td>\n",
       "      <td>ATL</td>\n",
       "    </tr>\n",
       "    <tr>\n",
       "      <th>792</th>\n",
       "      <td>Thaddeus Young</td>\n",
       "      <td>0.548</td>\n",
       "      <td>18.7</td>\n",
       "      <td>845.0</td>\n",
       "      <td>TOT</td>\n",
       "    </tr>\n",
       "    <tr>\n",
       "      <th>795</th>\n",
       "      <td>Trae Young</td>\n",
       "      <td>0.603</td>\n",
       "      <td>39.9</td>\n",
       "      <td>2652.0</td>\n",
       "      <td>ATL</td>\n",
       "    </tr>\n",
       "    <tr>\n",
       "      <th>796</th>\n",
       "      <td>Omer Yurtseven</td>\n",
       "      <td>0.546</td>\n",
       "      <td>21.2</td>\n",
       "      <td>706.0</td>\n",
       "      <td>MIA</td>\n",
       "    </tr>\n",
       "    <tr>\n",
       "      <th>798</th>\n",
       "      <td>Ivica Zubac</td>\n",
       "      <td>0.660</td>\n",
       "      <td>20.8</td>\n",
       "      <td>1852.0</td>\n",
       "      <td>LAC</td>\n",
       "    </tr>\n",
       "  </tbody>\n",
       "</table>\n",
       "<p>367 rows × 5 columns</p>\n",
       "</div>"
      ],
      "text/plain": [
       "                       Player    TS%   PTS      MP   Tm\n",
       "0            Precious Achiuwa  0.503  19.2  1725.0  TOR\n",
       "1                Steven Adams  0.560  12.6  1999.0  MEM\n",
       "2                 Bam Adebayo  0.608  29.3  1825.0  MIA\n",
       "4           LaMarcus Aldridge  0.604  28.0  1050.0  BRK\n",
       "5    Nickeil Alexander-Walker  0.475  23.3  1466.0  TOT\n",
       "..                        ...    ...   ...     ...  ...\n",
       "787              Delon Wright  0.576  11.6  1452.0  ATL\n",
       "792            Thaddeus Young  0.548  18.7   845.0  TOT\n",
       "795                Trae Young  0.603  39.9  2652.0  ATL\n",
       "796            Omer Yurtseven  0.546  21.2   706.0  MIA\n",
       "798               Ivica Zubac  0.660  20.8  1852.0  LAC\n",
       "\n",
       "[367 rows x 5 columns]"
      ]
     },
     "execution_count": 30,
     "metadata": {},
     "output_type": "execute_result"
    }
   ],
   "source": [
    "tables[12]"
   ]
  },
  {
   "cell_type": "code",
   "execution_count": 56,
   "id": "e23111a8-03db-44ca-b37e-fd695ae751a1",
   "metadata": {},
   "outputs": [
    {
     "data": {
      "text/html": [
       "<div>\n",
       "<style scoped>\n",
       "    .dataframe tbody tr th:only-of-type {\n",
       "        vertical-align: middle;\n",
       "    }\n",
       "\n",
       "    .dataframe tbody tr th {\n",
       "        vertical-align: top;\n",
       "    }\n",
       "\n",
       "    .dataframe thead th {\n",
       "        text-align: right;\n",
       "    }\n",
       "</style>\n",
       "<table border=\"1\" class=\"dataframe\">\n",
       "  <thead>\n",
       "    <tr style=\"text-align: right;\">\n",
       "      <th></th>\n",
       "      <th>Player</th>\n",
       "      <th>TS%</th>\n",
       "      <th>PTS</th>\n",
       "      <th>MP</th>\n",
       "      <th>Tm</th>\n",
       "    </tr>\n",
       "  </thead>\n",
       "  <tbody>\n",
       "    <tr>\n",
       "      <th>0</th>\n",
       "      <td>Álex Abrines</td>\n",
       "      <td>0.560</td>\n",
       "      <td>18.9</td>\n",
       "      <td>1055.0</td>\n",
       "      <td>OKC</td>\n",
       "    </tr>\n",
       "    <tr>\n",
       "      <th>4</th>\n",
       "      <td>Steven Adams</td>\n",
       "      <td>0.589</td>\n",
       "      <td>18.6</td>\n",
       "      <td>2389.0</td>\n",
       "      <td>OKC</td>\n",
       "    </tr>\n",
       "    <tr>\n",
       "      <th>5</th>\n",
       "      <td>Arron Afflalo</td>\n",
       "      <td>0.559</td>\n",
       "      <td>16.5</td>\n",
       "      <td>1580.0</td>\n",
       "      <td>SAC</td>\n",
       "    </tr>\n",
       "    <tr>\n",
       "      <th>8</th>\n",
       "      <td>LaMarcus Aldridge</td>\n",
       "      <td>0.532</td>\n",
       "      <td>27.1</td>\n",
       "      <td>2335.0</td>\n",
       "      <td>SAS</td>\n",
       "    </tr>\n",
       "    <tr>\n",
       "      <th>9</th>\n",
       "      <td>Lavoy Allen</td>\n",
       "      <td>0.485</td>\n",
       "      <td>10.2</td>\n",
       "      <td>871.0</td>\n",
       "      <td>IND</td>\n",
       "    </tr>\n",
       "    <tr>\n",
       "      <th>...</th>\n",
       "      <td>...</td>\n",
       "      <td>...</td>\n",
       "      <td>...</td>\n",
       "      <td>...</td>\n",
       "      <td>...</td>\n",
       "    </tr>\n",
       "    <tr>\n",
       "      <th>572</th>\n",
       "      <td>Marvin Williams</td>\n",
       "      <td>0.551</td>\n",
       "      <td>18.6</td>\n",
       "      <td>2295.0</td>\n",
       "      <td>CHO</td>\n",
       "    </tr>\n",
       "    <tr>\n",
       "      <th>586</th>\n",
       "      <td>Nick Young</td>\n",
       "      <td>0.588</td>\n",
       "      <td>24.8</td>\n",
       "      <td>1556.0</td>\n",
       "      <td>LAL</td>\n",
       "    </tr>\n",
       "    <tr>\n",
       "      <th>587</th>\n",
       "      <td>Thaddeus Young</td>\n",
       "      <td>0.562</td>\n",
       "      <td>18.2</td>\n",
       "      <td>2237.0</td>\n",
       "      <td>IND</td>\n",
       "    </tr>\n",
       "    <tr>\n",
       "      <th>588</th>\n",
       "      <td>Cody Zeller</td>\n",
       "      <td>0.604</td>\n",
       "      <td>18.6</td>\n",
       "      <td>1725.0</td>\n",
       "      <td>CHO</td>\n",
       "    </tr>\n",
       "    <tr>\n",
       "      <th>591</th>\n",
       "      <td>Paul Zipser</td>\n",
       "      <td>0.503</td>\n",
       "      <td>14.3</td>\n",
       "      <td>843.0</td>\n",
       "      <td>CHI</td>\n",
       "    </tr>\n",
       "  </tbody>\n",
       "</table>\n",
       "<p>349 rows × 5 columns</p>\n",
       "</div>"
      ],
      "text/plain": [
       "                Player    TS%   PTS      MP   Tm\n",
       "0         Álex Abrines  0.560  18.9  1055.0  OKC\n",
       "4         Steven Adams  0.589  18.6  2389.0  OKC\n",
       "5        Arron Afflalo  0.559  16.5  1580.0  SAC\n",
       "8    LaMarcus Aldridge  0.532  27.1  2335.0  SAS\n",
       "9          Lavoy Allen  0.485  10.2   871.0  IND\n",
       "..                 ...    ...   ...     ...  ...\n",
       "572    Marvin Williams  0.551  18.6  2295.0  CHO\n",
       "586         Nick Young  0.588  24.8  1556.0  LAL\n",
       "587     Thaddeus Young  0.562  18.2  2237.0  IND\n",
       "588        Cody Zeller  0.604  18.6  1725.0  CHO\n",
       "591        Paul Zipser  0.503  14.3   843.0  CHI\n",
       "\n",
       "[349 rows x 5 columns]"
      ]
     },
     "execution_count": 56,
     "metadata": {},
     "output_type": "execute_result"
    }
   ],
   "source": [
    "df = tables[7]\n",
    "df"
   ]
  },
  {
   "cell_type": "code",
   "execution_count": 57,
   "id": "bfc4c0d4-3610-4f4a-b168-f075e306353e",
   "metadata": {},
   "outputs": [],
   "source": [
    "\n",
    "teams = list(df['Tm'].unique())"
   ]
  },
  {
   "cell_type": "code",
   "execution_count": 58,
   "id": "b78e38be-e8ac-4cc3-bb8f-ae2b0f9517d9",
   "metadata": {},
   "outputs": [
    {
     "data": {
      "text/plain": [
       "['OKC',\n",
       " 'SAC',\n",
       " 'SAS',\n",
       " 'IND',\n",
       " 'MEM',\n",
       " 'POR',\n",
       " 'TOT',\n",
       " 'DAL',\n",
       " 'HOU',\n",
       " 'MIL',\n",
       " 'NYK',\n",
       " 'ORL',\n",
       " 'MIA',\n",
       " 'PHO',\n",
       " 'DEN',\n",
       " 'CHO',\n",
       " 'DET',\n",
       " 'ATL',\n",
       " 'WAS',\n",
       " 'MIN',\n",
       " 'LAL',\n",
       " 'BRK',\n",
       " 'BOS',\n",
       " 'CHI',\n",
       " 'TOR',\n",
       " 'GSW',\n",
       " 'PHI',\n",
       " 'LAC',\n",
       " 'NOP',\n",
       " 'UTA',\n",
       " 'CLE']"
      ]
     },
     "execution_count": 58,
     "metadata": {},
     "output_type": "execute_result"
    }
   ],
   "source": [
    "teams"
   ]
  },
  {
   "cell_type": "code",
   "execution_count": 59,
   "id": "ac3aff96-edb4-4490-9a5e-a4cdbacdf5ad",
   "metadata": {},
   "outputs": [],
   "source": [
    "my_list = []\n",
    "i = 0\n",
    "length = len(teams)\n",
    "seen = [False for i in range(length+ 1) ]\n",
    "\n",
    "seen[i] = True\n",
    "my_list.append(dict(label = 'all_teams',\n",
    "\n",
    "                  args = [{'visible':[i for i in seen]},\n",
    "                          {'title': 'all_teams',\n",
    "                           'showlegend':False}]))\n",
    "seen[i] = False\n",
    "i +=1\n",
    "for team in teams:\n",
    "    #print(i)\n",
    "    df_team = df[df['Tm'] == team]\n",
    "    seen[i] = True\n",
    "    \n",
    "    my_list.append(dict(label = team,\n",
    "                  method = 'update',\n",
    "\n",
    "                  args = [{'visible':[i for i in seen]},\n",
    "                          {'title': team,\n",
    "                           'showlegend':False}]))\n",
    "    seen[i] = False\n",
    "    i+=1\n"
   ]
  },
  {
   "cell_type": "code",
   "execution_count": 60,
   "id": "dd94bdae-f8ec-4f43-8c9f-75b00856c498",
   "metadata": {
    "tags": []
   },
   "outputs": [],
   "source": [
    "df['PTS'].max()\n",
    "\n",
    "df['TS%'] *= 100"
   ]
  },
  {
   "cell_type": "code",
   "execution_count": 61,
   "id": "773e22ff-da3e-4bc0-bde0-ecc7585e70c4",
   "metadata": {},
   "outputs": [
    {
     "data": {
      "text/plain": [
       "38.7"
      ]
     },
     "execution_count": 61,
     "metadata": {},
     "output_type": "execute_result"
    }
   ],
   "source": [
    "zmax = df['TS%'].max()\n",
    "zmin = df['TS%'].min()\n",
    "zmin"
   ]
  },
  {
   "cell_type": "code",
   "execution_count": 62,
   "id": "f9638bef-86ef-45b8-98fe-8dadcce7837f",
   "metadata": {
    "tags": []
   },
   "outputs": [
    {
     "data": {
      "application/vnd.plotly.v1+json": {
       "config": {
        "plotlyServerURL": "https://plot.ly"
       },
       "data": [
        {
         "hovertemplate": "<b>%{text}</b><br><i>Points per 75</i>: %{x:.2f}<br>True Shooting: %{y}",
         "marker": {
          "autocolorscale": true,
          "cmax": 70.3,
          "cmin": 38.7,
          "color": [
           56.00000000000001,
           58.9,
           55.900000000000006,
           53.2,
           48.5,
           49.3,
           50.6,
           53.7,
           52.1,
           52.5,
           58.3,
           59.9,
           53.5,
           54.800000000000004,
           52.400000000000006,
           56.3,
           45.6,
           50.9,
           52.1,
           54.1,
           51.4,
           50.1,
           54.7,
           52.900000000000006,
           56.99999999999999,
           50.4,
           60.4,
           58.4,
           56.599999999999994,
           60.9,
           54.6,
           54.6,
           52.6,
           56.00000000000001,
           56.3,
           58.5,
           57.199999999999996,
           53.1,
           55.400000000000006,
           54.800000000000004,
           49.1,
           49.1,
           55.50000000000001,
           50.7,
           53.900000000000006,
           53.2,
           58.599999999999994,
           51.9,
           63.800000000000004,
           53,
           54.2,
           43.7,
           55.800000000000004,
           70.3,
           54.50000000000001,
           52.900000000000006,
           38.7,
           57.49999999999999,
           52.6,
           56.99999999999999,
           60.4,
           56.2,
           56.2,
           53.400000000000006,
           60.199999999999996,
           52.5,
           61.3,
           58.599999999999994,
           60.099999999999994,
           62.4,
           53.1,
           57.99999999999999,
           56.3,
           64.5,
           54.900000000000006,
           45.6,
           50.1,
           47,
           55.2,
           49.4,
           55.50000000000001,
           58.099999999999994,
           57.49999999999999,
           51.800000000000004,
           57.9,
           57.3,
           43.2,
           65.10000000000001,
           56.49999999999999,
           51.4,
           58.4,
           58.099999999999994,
           50.1,
           52.1,
           58.8,
           51.2,
           60.3,
           49.6,
           53.300000000000004,
           54.1,
           48.6,
           55.50000000000001,
           50.6,
           50.4,
           59.9,
           61.199999999999996,
           62.2,
           51,
           50.8,
           55.400000000000006,
           57.8,
           55.900000000000006,
           58.699999999999996,
           54.300000000000004,
           54.900000000000006,
           53.2,
           68.10000000000001,
           53,
           55.7,
           59.3,
           55.60000000000001,
           56.599999999999994,
           55.50000000000001,
           53.7,
           52.2,
           60.099999999999994,
           50.5,
           56.89999999999999,
           55.00000000000001,
           56.8,
           61.3,
           56.99999999999999,
           66.2,
           54.900000000000006,
           61.1,
           55.800000000000004,
           56.8,
           47.699999999999996,
           56.2,
           59.5,
           52.900000000000006,
           55.00000000000001,
           59.199999999999996,
           56.39999999999999,
           45,
           54.1,
           50.3,
           60,
           63,
           59.9,
           52.7,
           53.2,
           54.900000000000006,
           51.7,
           61.1,
           52.2,
           55.300000000000004,
           62.7,
           56.599999999999994,
           56.89999999999999,
           55.60000000000001,
           62.4,
           54.6,
           55.300000000000004,
           60.4,
           47.4,
           57.99999999999999,
           51,
           61.9,
           52.6,
           57.4,
           47.9,
           50.8,
           53.7,
           62.8,
           56.39999999999999,
           54.2,
           43.6,
           53.5,
           44.800000000000004,
           64,
           51.5,
           51.800000000000004,
           52.300000000000004,
           67.30000000000001,
           51.800000000000004,
           50.2,
           52.800000000000004,
           54.6,
           50.2,
           63.5,
           59.099999999999994,
           67.7,
           56.00000000000001,
           53.300000000000004,
           55.00000000000001,
           50.9,
           53.1,
           57.599999999999994,
           55.1,
           55.900000000000006,
           61.3,
           55.300000000000004,
           61,
           50.7,
           55.1,
           55.60000000000001,
           47.599999999999994,
           47.3,
           58.599999999999994,
           56.599999999999994,
           56.8,
           57.8,
           51.1,
           57.3,
           62.3,
           53.6,
           46.400000000000006,
           51.800000000000004,
           53.300000000000004,
           58.099999999999994,
           54,
           58.5,
           50.4,
           55.400000000000006,
           55.50000000000001,
           64.2,
           50.6,
           53.800000000000004,
           56.699999999999996,
           65,
           56.99999999999999,
           59.199999999999996,
           57.8,
           54.2,
           54.6,
           57.199999999999996,
           53.7,
           50.8,
           54,
           50.5,
           55.300000000000004,
           48.3,
           56.599999999999994,
           51.800000000000004,
           59.599999999999994,
           56.699999999999996,
           54.400000000000006,
           49.1,
           62.2,
           68.2,
           52.900000000000006,
           52.800000000000004,
           51.5,
           55.2,
           54.6,
           53.400000000000006,
           60.3,
           51.6,
           58.8,
           56.3,
           51.4,
           54.2,
           61.4,
           52,
           55.800000000000004,
           55.2,
           62.8,
           54.50000000000001,
           54.6,
           58.8,
           55.2,
           51.300000000000004,
           54.300000000000004,
           49,
           59.9,
           57.8,
           49.3,
           54.50000000000001,
           51,
           56.39999999999999,
           48.4,
           46.1,
           53,
           55.00000000000001,
           55.800000000000004,
           53.6,
           46.6,
           53.900000000000006,
           50.5,
           51.800000000000004,
           46.9,
           50.8,
           47.699999999999996,
           53.300000000000004,
           51.9,
           49.5,
           53.6,
           52.300000000000004,
           50.4,
           48.6,
           47.699999999999996,
           48.4,
           59.8,
           60.3,
           58.4,
           54,
           57.4,
           51.5,
           54.50000000000001,
           60,
           62.5,
           51.6,
           48.199999999999996,
           59.199999999999996,
           59.4,
           59.5,
           61.8,
           51.6,
           51.7,
           49.1,
           58.5,
           47.4,
           60.099999999999994,
           49.2,
           52.5,
           49.8,
           50.8,
           50.7,
           56.89999999999999,
           54.1,
           53.900000000000006,
           50.7,
           57.099999999999994,
           55.400000000000006,
           48.699999999999996,
           57.9,
           53.400000000000006,
           54.7,
           54.1,
           53.300000000000004,
           53.7,
           59.3,
           60.9,
           55.1,
           58.8,
           56.2,
           60.4,
           50.3
          ],
          "colorbar": {
           "tickformatstops": [
            {
             "dtickrange": [
              40,
              80
             ]
            }
           ],
           "title": {
            "text": "Scoring Efficiency"
           }
          },
          "size": [
           13.1875,
           29.8625,
           19.75,
           29.1875,
           10.8875,
           23.925,
           22.1625,
           15.35,
           8.875,
           12.75,
           26.45,
           35.5625,
           31.725,
           34.6625,
           19.225,
           13.3125,
           10.7125,
           12.0375,
           9.6375,
           35.0375,
           22.2125,
           17.0875,
           21.3125,
           32.7125,
           14.5375,
           24.5375,
           33.55,
           11.6875,
           22.225,
           10.1,
           25.725,
           22.4125,
           14.875,
           13.6375,
           27.2,
           26.0375,
           18.525,
           34.125,
           21.925,
           22.9375,
           16.0125,
           11.5375,
           24.775,
           11.175,
           16.7625,
           8.7875,
           35.1125,
           31.6125,
           19.3875,
           23.525,
           22.4875,
           10.575,
           17.7625,
           16.225,
           27.4625,
           21.7875,
           12.1625,
           14.2125,
           29.9625,
           25.7875,
           28.65,
           30.8125,
           23.6375,
           26.4875,
           28.175,
           26.9625,
           29.1875,
           20.6125,
           25.3625,
           32.975,
           14.7875,
           33.85,
           9.8625,
           16.625,
           17.7375,
           15.6,
           24.825,
           18.575,
           32.75,
           16.0375,
           33.1625,
           16.675,
           30.7375,
           30.1125,
           17.025,
           10.5125,
           16.6625,
           25.875,
           18.75,
           24.975,
           9.825,
           18.7625,
           9.85,
           15.35,
           16.2,
           14.825,
           13,
           21.25,
           14.9625,
           13.075,
           20.525,
           27.925,
           16.05,
           19.0625,
           19.1625,
           17.475,
           26.675,
           18.6875,
           14,
           31.6375,
           20.3375,
           12.6625,
           33.6125,
           24.8625,
           18.775,
           16.1375,
           34.3,
           28.725,
           29.0375,
           31.95,
           19.1375,
           18.625,
           12.85,
           22.5875,
           30.8875,
           26.2625,
           19.175,
           25.95,
           14.7125,
           26.925,
           36.8375,
           27.7875,
           13.3,
           13.5875,
           22.275,
           14.225,
           32.0875,
           18.425,
           9.9625,
           31.45,
           20.8375,
           14.0375,
           10.525,
           16.55,
           12,
           23.6,
           14.5125,
           9.0875,
           14.975,
           19.3,
           29.675,
           27.375,
           20.4875,
           22.0125,
           14.9125,
           19.9125,
           27.4125,
           27.4875,
           30.275,
           21.375,
           8.9,
           24.975,
           26.775,
           18.0875,
           24.65,
           28.4875,
           31.5625,
           17.8,
           34.925,
           11.6375,
           20.175,
           22.525,
           17.85,
           15.4,
           20.1,
           26.0625,
           23.0375,
           17.1375,
           27.225,
           10.125,
           25.475,
           15.875,
           15.8,
           9.675,
           32.125,
           25.0375,
           24.425,
           29.3625,
           21.925,
           14.25,
           21.9125,
           11.175,
           10.7375,
           17.7375,
           12.7,
           14.2875,
           12.25,
           9.2375,
           21.8625,
           21.65,
           30.7375,
           18.4625,
           19.5,
           30.925,
           15.275,
           24.3,
           15.4625,
           9.7125,
           9.4,
           33.675,
           11.0375,
           16.8125,
           27.775,
           28.3875,
           23.5625,
           28.05,
           14.875,
           14.475,
           15.0625,
           31.1875,
           22.3375,
           13.425,
           34.95,
           26.6625,
           18.85,
           13.475,
           9.2375,
           24.575,
           14.7,
           9.225,
           11.3125,
           11.1125,
           22.2,
           21.925,
           29.2875,
           20.9875,
           22.7875,
           22.75,
           32.0625,
           29.675,
           8.925,
           13.8,
           17.575,
           18.95,
           22.05,
           15.4625,
           18.025,
           25.5625,
           12.6875,
           13.0875,
           13.6,
           17.8,
           17.3875,
           10.0875,
           15.3625,
           14.175,
           27.775,
           19.225,
           20.0625,
           15.85,
           21.6,
           19.8375,
           19.9875,
           24.0125,
           30.15,
           26.85,
           18.95,
           32.5625,
           12.5,
           27.05,
           16.6625,
           17.1,
           12.2625,
           26.65,
           22.325,
           27.475,
           12.8875,
           20.175,
           25.675,
           29.7,
           17.8375,
           18.975,
           23.0375,
           26.025,
           24.4375,
           15.0875,
           9.35,
           15.7875,
           30.8625,
           12.875,
           22.6375,
           20.4,
           26.6125,
           8.9875,
           31.0625,
           19.95,
           10.1375,
           24.2125,
           10.7375,
           17.4,
           29.9875,
           24.4375,
           14.8375,
           13.35,
           29.2,
           16.075,
           27.35,
           33.2125,
           14.1625,
           21.6,
           17.0625,
           32.1125,
           12.1,
           9.4,
           33.1125,
           29.2,
           18.4625,
           37.875,
           27.95,
           20.3375,
           20.725,
           31.7625,
           14.0375,
           25.825,
           12.2,
           15.8125,
           27.0375,
           22.4,
           17.3,
           34.2375,
           35.45,
           25.6,
           12.65,
           10.675,
           35.025,
           20.5375,
           31.4125,
           38.1,
           8.85,
           20.7125,
           14.6375,
           10.05,
           24.925,
           17.5375,
           28.6875,
           19.45,
           27.9625,
           21.5625,
           10.5375
          ]
         },
         "mode": "markers",
         "name": "all_teams",
         "text": [
          "Álex Abrines",
          "Steven Adams",
          "Arron Afflalo",
          "LaMarcus Aldridge",
          "Lavoy Allen",
          "Tony Allen",
          "Al-Farouq Aminu",
          "Justin Anderson",
          "Justin Anderson",
          "Kyle Anderson",
          "Ryan Anderson",
          "Giannis Antetokounmpo",
          "Carmelo Anthony",
          "Trevor Ariza",
          "D.J. Augustin",
          "Luke Babbitt",
          "Ron Baker",
          "Leandro Barbosa",
          "J.J. Barea",
          "Harrison Barnes",
          "Matt Barnes",
          "Matt Barnes",
          "Will Barton",
          "Nicolas Batum",
          "Aron Baynes",
          "Kent Bazemore",
          "Bradley Beal",
          "Michael Beasley",
          "Marco Belinelli",
          "Dāvis Bertāns",
          "Patrick Beverley",
          "Bismack Biyombo",
          "Nemanja Bjelica",
          "Tarik Black",
          "Eric Bledsoe",
          "Bojan Bogdanović",
          "Bojan Bogdanović",
          "Devin Booker",
          "Trevor Booker",
          "Avery Bradley",
          "Corey Brewer",
          "Corey Brewer",
          "Malcolm Brogdon",
          "Aaron Brooks",
          "Jaylen Brown",
          "Trey Burke",
          "Jimmy Butler",
          "Kentavious Caldwell-Pope",
          "Clint Capela",
          "DeMarre Carroll",
          "Vince Carter",
          "Michael Carter-Williams",
          "Willie Cauley-Stein",
          "Tyson Chandler",
          "Wilson Chandler",
          "Marquese Chriss",
          "Semaj Christon",
          "Ian Clark",
          "Jordan Clarkson",
          "Darren Collison",
          "Mike Conley",
          "DeMarcus Cousins",
          "DeMarcus Cousins",
          "Robert Covington",
          "Allen Crabbe",
          "Jamal Crawford",
          "Jae Crowder",
          "Dante Cunningham",
          "Seth Curry",
          "Stephen Curry",
          "Troy Daniels",
          "Anthony Davis",
          "Ed Davis",
          "Dewayne Dedmon",
          "Sam Dekker",
          "Malcolm Delaney",
          "Matthew Dellavedova",
          "Luol Deng",
          "DeMar DeRozan",
          "Boris Diaw",
          "Gorgui Dieng",
          "Spencer Dinwiddie",
          "Goran Dragić",
          "Andre Drummond",
          "Jared Dudley",
          "Mike Dunleavy",
          "Kris Dunn",
          "Kevin Durant",
          "Wayne Ellington",
          "Monta Ellis",
          "Joel Embiid",
          "James Ennis III",
          "Tyreke Evans",
          "Dante Exum",
          "Kenneth Faried",
          "Derrick Favors",
          "Cristiano Felício",
          "Raymond Felton",
          "Yogi Ferrell",
          "Yogi Ferrell",
          "Dorian Finney-Smith",
          "Evan Fournier",
          "Randy Foye",
          "Tim Frazier",
          "Enes Freedom",
          "Channing Frye",
          "Danilo Gallinari",
          "Langston Galloway",
          "Langston Galloway",
          "Marc Gasol",
          "Pau Gasol",
          "Rudy Gay",
          "Paul George",
          "Taj Gibson",
          "Taj Gibson",
          "Manu Ginóbili*",
          "Rudy Gobert",
          "Aaron Gordon",
          "Eric Gordon",
          "Marcin Gortat",
          "Jerami Grant",
          "Jerami Grant",
          "Jerian Grant",
          "Danny Green",
          "Draymond Green",
          "JaMychal Green",
          "Jeff Green",
          "Blake Griffin",
          "Justin Hamilton",
          "Tim Hardaway Jr.",
          "James Harden",
          "Maurice Harkless",
          "Montrezl Harrell",
          "Devin Harris",
          "Gary Harris",
          "Joe Harris",
          "Tobias Harris",
          "Andrew Harrison",
          "Spencer Hawes",
          "Gordon Hayward",
          "Gerald Henderson",
          "John Henson",
          "Juancho Hernangómez",
          "Willy Hernangómez",
          "Mario Hezonja",
          "Buddy Hield",
          "Buddy Hield",
          "Buddy Hield",
          "Nenê",
          "George Hill",
          "Solomon Hill",
          "Jrue Holiday",
          "Justin Holiday",
          "Rondae Hollis-Jefferson",
          "Richaun Holmes",
          "Rodney Hood",
          "Al Horford",
          "Dwight Howard",
          "Serge Ibaka",
          "Serge Ibaka",
          "Serge Ibaka",
          "Andre Iguodala",
          "Ersan İlyasova",
          "Ersan İlyasova",
          "Joe Ingles",
          "Brandon Ingram",
          "Kyrie Irving",
          "Reggie Jackson",
          "LeBron James",
          "Al Jefferson",
          "Richard Jefferson",
          "Brandon Jennings",
          "Brandon Jennings",
          "Jonas Jerebko",
          "Amir Johnson",
          "James Johnson",
          "Joe Johnson",
          "Stanley Johnson",
          "Tyler Johnson",
          "Wesley Johnson",
          "Nikola Jokić",
          "Terrence Jones",
          "Terrence Jones",
          "Tyus Jones",
          "DeAndre Jordan",
          "Cory Joseph",
          "Frank Kaminsky",
          "Michael Kidd-Gilchrist",
          "Sean Kilpatrick",
          "Brandon Knight",
          "Kyle Korver",
          "Kyle Korver",
          "Kyle Korver",
          "Kosta Koufos",
          "Mindaugas Kuzminskas",
          "Jeremy Lamb",
          "Joffrey Lauvergne",
          "Joffrey Lauvergne",
          "Zach LaVine",
          "Ty Lawson",
          "Courtney Lee",
          "David Lee",
          "Alex Len",
          "Kawhi Leonard",
          "Meyers Leonard",
          "Jon Leuer",
          "Caris LeVert",
          "DeAndre Liggins",
          "DeAndre Liggins",
          "Damian Lillard",
          "Jeremy Lin",
          "Shaun Livingston",
          "Brook Lopez",
          "Robin Lopez",
          "Kevin Love",
          "Kyle Lowry",
          "Timothé Luwawu-Cabarrot",
          "Trey Lyles",
          "Shelvin Mack",
          "Wesley Matthews",
          "Luc Mbah a Moute",
          "Patrick McCaw",
          "CJ McCollum",
          "T.J. McConnell",
          "Doug McDermott",
          "Doug McDermott",
          "JaVale McGee",
          "Rodney McGruder",
          "Ben McLemore",
          "Jodie Meeks",
          "Salah Mejri",
          "Khris Middleton",
          "C.J. Miles",
          "Patty Mills",
          "Paul Millsap",
          "Nikola Mirotić",
          "Greg Monroe",
          "E'Twaun Moore",
          "Marcus Morris",
          "Markieff Morris",
          "Anthony Morrow",
          "Timofey Mozgov",
          "Emmanuel Mudiay",
          "Shabazz Muhammad",
          "Jamal Murray",
          "Mike Muscala",
          "Larry Nance Jr.",
          "Jameer Nelson",
          "Joakim Noah",
          "Nerlens Noel",
          "Lucas Nogueira",
          "Dirk Nowitzki",
          "Jusuf Nurkić",
          "Jusuf Nurkić",
          "Kyle O'Quinn",
          "Jahlil Okafor",
          "Victor Oladipo",
          "Kelly Olynyk",
          "Kelly Oubre Jr.",
          "Zaza Pachulia",
          "Jabari Parker",
          "Tony Parker",
          "Patrick Patterson",
          "Chris Paul",
          "Elfrid Payton",
          "Mason Plumlee",
          "Mason Plumlee",
          "Otto Porter Jr.",
          "Bobby Portis",
          "Kristaps Porziņģis",
          "Dwight Powell",
          "Norman Powell",
          "Taurean Prince",
          "Julius Randle",
          "Zach Randolph",
          "J.J. Redick",
          "Willie Reed",
          "Josh Richardson",
          "Austin Rivers",
          "Andre Roberson",
          "Glenn Robinson III",
          "Sergio Rodríguez",
          "Rajon Rondo",
          "Derrick Rose",
          "Terrence Ross",
          "Terrence Ross",
          "Terrence Ross",
          "Terry Rozier",
          "Ricky Rubio",
          "Brandon Rush",
          "D'Angelo Russell",
          "Domantas Sabonis",
          "Dario Šarić",
          "Tomáš Satoranský",
          "Dennis Schröder",
          "Thabo Sefolosha",
          "Ramon Sessions",
          "Iman Shumpert",
          "Pascal Siakam",
          "Jonathon Simmons",
          "Marcus Smart",
          "Ish Smith",
          "J.R. Smith",
          "Jason Smith",
          "Tony Snell",
          "Marreese Speights",
          "Nik Stauskas",
          "Jeff Teague",
          "Mirza Teletović",
          "Garrett Temple",
          "Jason Terry",
          "Isaiah Thomas",
          "Lance Thomas",
          "Hollis Thompson",
          "Klay Thompson",
          "Tristan Thompson",
          "Anthony Tolliver",
          "Karl-Anthony Towns",
          "P.J. Tucker",
          "P.J. Tucker",
          "Evan Turner",
          "Myles Turner",
          "Tyler Ulis",
          "Jonas Valančiūnas",
          "Denzel Valentine",
          "Noah Vonleh",
          "Nikola Vučević",
          "Dwyane Wade",
          "Dion Waiters",
          "Kemba Walker",
          "John Wall",
          "T.J. Warren",
          "C.J. Watson",
          "David West",
          "Russell Westbrook",
          "Isaiah Whitehead",
          "Hassan Whiteside",
          "Andrew Wiggins",
          "Alan Williams",
          "Deron Williams",
          "Deron Williams",
          "Derrick Williams",
          "Lou Williams",
          "Lou Williams",
          "Marvin Williams",
          "Nick Young",
          "Thaddeus Young",
          "Cody Zeller",
          "Paul Zipser"
         ],
         "type": "scatter",
         "visible": false,
         "x": [
          18.9,
          18.6,
          16.5,
          27.1,
          10.2,
          17.5,
          14.9,
          21.9,
          24.1,
          12.3,
          22.2,
          32.7,
          32.7,
          16.2,
          19.9,
          15.3,
          12.5,
          20.8,
          25.7,
          28.2,
          14.8,
          15.3,
          23.5,
          22.3,
          15.9,
          20.1,
          32.7,
          28.7,
          22,
          19.1,
          14.9,
          13.4,
          17.2,
          17.1,
          30.6,
          25.6,
          25,
          30.3,
          19.2,
          24.2,
          14,
          12.6,
          19.7,
          18,
          19,
          20,
          32.6,
          20.9,
          25.3,
          17.2,
          16.9,
          17.7,
          21.8,
          14.6,
          24.8,
          20.7,
          9.2,
          22.3,
          24.5,
          22.1,
          32.1,
          39.6,
          40.9,
          19.9,
          18.6,
          23.4,
          21.2,
          12.9,
          23,
          36.5,
          24.2,
          38,
          12.6,
          14.8,
          17,
          15.4,
          14.8,
          13.9,
          39.1,
          13.8,
          15.6,
          15.4,
          30.4,
          23.2,
          15.3,
          16.2,
          11.1,
          36.1,
          21.8,
          15.8,
          38.9,
          14.9,
          25.9,
          17.6,
          22.1,
          21,
          15.3,
          15.8,
          19.8,
          20.3,
          11.1,
          25.9,
          13.2,
          14.9,
          33.1,
          24.1,
          26.2,
          19.3,
          20.6,
          29.7,
          24.8,
          28.1,
          33,
          21.3,
          21.4,
          20.4,
          21.7,
          22,
          25.1,
          17,
          14,
          13.9,
          18.1,
          14,
          15.1,
          17.1,
          20.6,
          31.7,
          17.8,
          26.2,
          38.4,
          17.3,
          23.8,
          20.9,
          23.3,
          17.8,
          26,
          15,
          21.3,
          33.4,
          19.3,
          17.7,
          17.7,
          22.2,
          16.4,
          22.7,
          20.6,
          26.3,
          24.4,
          28.1,
          11.6,
          23,
          19.2,
          18.2,
          22.8,
          24.6,
          21.5,
          22.5,
          24.2,
          24.5,
          23.3,
          13.8,
          24.4,
          26.5,
          15.4,
          15.8,
          35.9,
          26.7,
          34.9,
          28.8,
          13.9,
          16,
          17.4,
          12,
          16,
          23.6,
          20.3,
          12.5,
          23.2,
          11.5,
          29.3,
          22.5,
          22.6,
          13.7,
          20,
          18.7,
          22.4,
          15.9,
          24.8,
          25,
          19.2,
          16.8,
          21.7,
          16.8,
          20.9,
          26.5,
          18.9,
          19,
          25.8,
          19.9,
          17,
          19.9,
          18.8,
          38.9,
          16.3,
          19.9,
          17.9,
          9.8,
          9.6,
          37.3,
          28.1,
          13.9,
          32.8,
          18.6,
          30.2,
          30.4,
          18.2,
          19.9,
          18.7,
          20.6,
          13.5,
          12.6,
          32.6,
          12.7,
          19.6,
          20.9,
          30.7,
          12.7,
          21.3,
          22,
          12.2,
          24.3,
          23,
          22.1,
          26.2,
          22.3,
          26.5,
          18.8,
          21.8,
          22.1,
          18.7,
          17.7,
          20.9,
          25.8,
          22.5,
          17.3,
          15.2,
          16.4,
          11.4,
          21.3,
          11.8,
          28.1,
          23.4,
          21.7,
          20.2,
          25.3,
          23.6,
          21.9,
          15.4,
          16.2,
          30.1,
          20.5,
          14.1,
          28.7,
          21.5,
          19.4,
          19.6,
          20.3,
          22,
          27.6,
          20.1,
          23.6,
          16.8,
          22.3,
          29.9,
          26.7,
          18.3,
          16.8,
          21.6,
          10.8,
          14.7,
          17,
          14.7,
          27.7,
          22.1,
          23.5,
          19.8,
          16.1,
          17.2,
          9.7,
          26.5,
          14.4,
          23.8,
          10.6,
          28,
          13.7,
          19.3,
          14.6,
          13.5,
          17.7,
          17.3,
          19.6,
          14.8,
          19.4,
          14.8,
          27.6,
          16.8,
          23.6,
          20.2,
          14.8,
          11.4,
          42.4,
          14.2,
          13.3,
          31.6,
          13.5,
          15.8,
          34.5,
          11.7,
          11.8,
          17.5,
          23.1,
          18.9,
          23.5,
          15,
          12.8,
          25.1,
          30.8,
          26.6,
          33.5,
          31.4,
          22.2,
          13.8,
          17.8,
          44.8,
          15.7,
          26.3,
          32.2,
          23.4,
          21.7,
          23.2,
          19,
          34.6,
          37.4,
          18.6,
          24.8,
          18.2,
          18.6,
          14.3
         ],
         "y": [
          56.00000000000001,
          58.9,
          55.900000000000006,
          53.2,
          48.5,
          49.3,
          50.6,
          53.7,
          52.1,
          52.5,
          58.3,
          59.9,
          53.5,
          54.800000000000004,
          52.400000000000006,
          56.3,
          45.6,
          50.9,
          52.1,
          54.1,
          51.4,
          50.1,
          54.7,
          52.900000000000006,
          56.99999999999999,
          50.4,
          60.4,
          58.4,
          56.599999999999994,
          60.9,
          54.6,
          54.6,
          52.6,
          56.00000000000001,
          56.3,
          58.5,
          57.199999999999996,
          53.1,
          55.400000000000006,
          54.800000000000004,
          49.1,
          49.1,
          55.50000000000001,
          50.7,
          53.900000000000006,
          53.2,
          58.599999999999994,
          51.9,
          63.800000000000004,
          53,
          54.2,
          43.7,
          55.800000000000004,
          70.3,
          54.50000000000001,
          52.900000000000006,
          38.7,
          57.49999999999999,
          52.6,
          56.99999999999999,
          60.4,
          56.2,
          56.2,
          53.400000000000006,
          60.199999999999996,
          52.5,
          61.3,
          58.599999999999994,
          60.099999999999994,
          62.4,
          53.1,
          57.99999999999999,
          56.3,
          64.5,
          54.900000000000006,
          45.6,
          50.1,
          47,
          55.2,
          49.4,
          55.50000000000001,
          58.099999999999994,
          57.49999999999999,
          51.800000000000004,
          57.9,
          57.3,
          43.2,
          65.10000000000001,
          56.49999999999999,
          51.4,
          58.4,
          58.099999999999994,
          50.1,
          52.1,
          58.8,
          51.2,
          60.3,
          49.6,
          53.300000000000004,
          54.1,
          48.6,
          55.50000000000001,
          50.6,
          50.4,
          59.9,
          61.199999999999996,
          62.2,
          51,
          50.8,
          55.400000000000006,
          57.8,
          55.900000000000006,
          58.699999999999996,
          54.300000000000004,
          54.900000000000006,
          53.2,
          68.10000000000001,
          53,
          55.7,
          59.3,
          55.60000000000001,
          56.599999999999994,
          55.50000000000001,
          53.7,
          52.2,
          60.099999999999994,
          50.5,
          56.89999999999999,
          55.00000000000001,
          56.8,
          61.3,
          56.99999999999999,
          66.2,
          54.900000000000006,
          61.1,
          55.800000000000004,
          56.8,
          47.699999999999996,
          56.2,
          59.5,
          52.900000000000006,
          55.00000000000001,
          59.199999999999996,
          56.39999999999999,
          45,
          54.1,
          50.3,
          60,
          63,
          59.9,
          52.7,
          53.2,
          54.900000000000006,
          51.7,
          61.1,
          52.2,
          55.300000000000004,
          62.7,
          56.599999999999994,
          56.89999999999999,
          55.60000000000001,
          62.4,
          54.6,
          55.300000000000004,
          60.4,
          47.4,
          57.99999999999999,
          51,
          61.9,
          52.6,
          57.4,
          47.9,
          50.8,
          53.7,
          62.8,
          56.39999999999999,
          54.2,
          43.6,
          53.5,
          44.800000000000004,
          64,
          51.5,
          51.800000000000004,
          52.300000000000004,
          67.30000000000001,
          51.800000000000004,
          50.2,
          52.800000000000004,
          54.6,
          50.2,
          63.5,
          59.099999999999994,
          67.7,
          56.00000000000001,
          53.300000000000004,
          55.00000000000001,
          50.9,
          53.1,
          57.599999999999994,
          55.1,
          55.900000000000006,
          61.3,
          55.300000000000004,
          61,
          50.7,
          55.1,
          55.60000000000001,
          47.599999999999994,
          47.3,
          58.599999999999994,
          56.599999999999994,
          56.8,
          57.8,
          51.1,
          57.3,
          62.3,
          53.6,
          46.400000000000006,
          51.800000000000004,
          53.300000000000004,
          58.099999999999994,
          54,
          58.5,
          50.4,
          55.400000000000006,
          55.50000000000001,
          64.2,
          50.6,
          53.800000000000004,
          56.699999999999996,
          65,
          56.99999999999999,
          59.199999999999996,
          57.8,
          54.2,
          54.6,
          57.199999999999996,
          53.7,
          50.8,
          54,
          50.5,
          55.300000000000004,
          48.3,
          56.599999999999994,
          51.800000000000004,
          59.599999999999994,
          56.699999999999996,
          54.400000000000006,
          49.1,
          62.2,
          68.2,
          52.900000000000006,
          52.800000000000004,
          51.5,
          55.2,
          54.6,
          53.400000000000006,
          60.3,
          51.6,
          58.8,
          56.3,
          51.4,
          54.2,
          61.4,
          52,
          55.800000000000004,
          55.2,
          62.8,
          54.50000000000001,
          54.6,
          58.8,
          55.2,
          51.300000000000004,
          54.300000000000004,
          49,
          59.9,
          57.8,
          49.3,
          54.50000000000001,
          51,
          56.39999999999999,
          48.4,
          46.1,
          53,
          55.00000000000001,
          55.800000000000004,
          53.6,
          46.6,
          53.900000000000006,
          50.5,
          51.800000000000004,
          46.9,
          50.8,
          47.699999999999996,
          53.300000000000004,
          51.9,
          49.5,
          53.6,
          52.300000000000004,
          50.4,
          48.6,
          47.699999999999996,
          48.4,
          59.8,
          60.3,
          58.4,
          54,
          57.4,
          51.5,
          54.50000000000001,
          60,
          62.5,
          51.6,
          48.199999999999996,
          59.199999999999996,
          59.4,
          59.5,
          61.8,
          51.6,
          51.7,
          49.1,
          58.5,
          47.4,
          60.099999999999994,
          49.2,
          52.5,
          49.8,
          50.8,
          50.7,
          56.89999999999999,
          54.1,
          53.900000000000006,
          50.7,
          57.099999999999994,
          55.400000000000006,
          48.699999999999996,
          57.9,
          53.400000000000006,
          54.7,
          54.1,
          53.300000000000004,
          53.7,
          59.3,
          60.9,
          55.1,
          58.8,
          56.2,
          60.4,
          50.3
         ]
        },
        {
         "hovertemplate": "<b>%{text}</b><br><i>Points per 75</i>: %{x:.2f}<br>True Shooting: %{y}",
         "marker": {
          "autocolorscale": true,
          "cmax": 70.3,
          "cmin": 38.7,
          "color": [
           56.00000000000001,
           58.9,
           38.7,
           59.9,
           56.599999999999994,
           53.1,
           53.400000000000006,
           51,
           46.9,
           55.400000000000006
          ],
          "colorbar": {
           "title": {
            "text": "Scoring Efficiency"
           }
          },
          "size": [
           13.1875,
           29.8625,
           12.1625,
           19.1625,
           18.625,
           9.2375,
           27.775,
           29.7,
           20.4,
           35.025
          ]
         },
         "mode": "markers",
         "name": "OKC",
         "text": [
          "Álex Abrines",
          "Steven Adams",
          "Semaj Christon",
          "Enes Freedom",
          "Jerami Grant",
          "Joffrey Lauvergne",
          "Victor Oladipo",
          "Andre Roberson",
          "Domantas Sabonis",
          "Russell Westbrook"
         ],
         "type": "scatter",
         "visible": false,
         "x": [
          18.9,
          18.6,
          9.2,
          33.1,
          13.9,
          19,
          23.6,
          10.8,
          14.4,
          44.8
         ],
         "y": [
          56.00000000000001,
          58.9,
          38.7,
          59.9,
          56.599999999999994,
          53.1,
          53.400000000000006,
          51,
          46.9,
          55.400000000000006
         ]
        },
        {
         "hovertemplate": "<b>%{text}</b><br><i>Points per 75</i>: %{x:.2f}<br>True Shooting: %{y}",
         "marker": {
          "autocolorscale": true,
          "cmax": 70.3,
          "cmin": 38.7,
          "color": [
           55.900000000000006,
           50.1,
           55.800000000000004,
           56.99999999999999,
           56.2,
           55.900000000000006,
           60,
           56.00000000000001,
           55.1,
           53.800000000000004,
           54.50000000000001,
           59.5
          ],
          "colorbar": {
           "title": {
            "text": "Scoring Efficiency"
           }
          },
          "size": [
           19.75,
           17.0875,
           17.7625,
           25.7875,
           23.6375,
           12.6625,
           9.0875,
           17.7375,
           21.65,
           14.7,
           21.6,
           18.4625
          ]
         },
         "mode": "markers",
         "name": "SAC",
         "text": [
          "Arron Afflalo",
          "Matt Barnes",
          "Willie Cauley-Stein",
          "Darren Collison",
          "DeMarcus Cousins",
          "Rudy Gay",
          "Buddy Hield",
          "Kosta Koufos",
          "Ty Lawson",
          "Ben McLemore",
          "Garrett Temple",
          "Anthony Tolliver"
         ],
         "type": "scatter",
         "visible": false,
         "x": [
          16.5,
          15.3,
          21.8,
          22.1,
          40.9,
          28.1,
          26.3,
          16.8,
          19.9,
          21.3,
          14.8,
          15.8
         ],
         "y": [
          55.900000000000006,
          50.1,
          55.800000000000004,
          56.99999999999999,
          56.2,
          55.900000000000006,
          60,
          56.00000000000001,
          55.1,
          53.800000000000004,
          54.50000000000001,
          59.5
         ]
        },
        {
         "hovertemplate": "<b>%{text}</b><br><i>Points per 75</i>: %{x:.2f}<br>True Shooting: %{y}",
         "marker": {
          "autocolorscale": true,
          "cmax": 70.3,
          "cmin": 38.7,
          "color": [
           53.2,
           52.5,
           60.9,
           64.5,
           57.8,
           53.2,
           53.7,
           61.3,
           61,
           57.8,
           51.4,
           50.4
          ],
          "colorbar": {
           "title": {
            "text": "Scoring Efficiency"
           }
          },
          "size": [
           29.1875,
           12.75,
           10.1,
           16.625,
           20.3375,
           16.1375,
           22.5875,
           18.4625,
           30.925,
           21.925,
           19.8375,
           17.4
          ]
         },
         "mode": "markers",
         "name": "SAS",
         "text": [
          "LaMarcus Aldridge",
          "Kyle Anderson",
          "Dāvis Bertāns",
          "Dewayne Dedmon",
          "Pau Gasol",
          "Manu Ginóbili*",
          "Danny Green",
          "David Lee",
          "Kawhi Leonard",
          "Patty Mills",
          "Tony Parker",
          "Jonathon Simmons"
         ],
         "type": "scatter",
         "visible": false,
         "x": [
          27.1,
          12.3,
          19.1,
          14.8,
          24.8,
          20.4,
          14,
          19.9,
          38.9,
          22.1,
          20.5,
          17.7
         ],
         "y": [
          53.2,
          52.5,
          60.9,
          64.5,
          57.8,
          53.2,
          53.7,
          61.3,
          61,
          57.8,
          51.4,
          50.4
         ]
        },
        {
         "hovertemplate": "<b>%{text}</b><br><i>Points per 75</i>: %{x:.2f}<br>True Shooting: %{y}",
         "marker": {
          "autocolorscale": true,
          "cmax": 70.3,
          "cmin": 38.7,
          "color": [
           48.5,
           50.7,
           51.4,
           58.699999999999996,
           52.6,
           59.199999999999996,
           56.39999999999999,
           57.4,
           58.5,
           56.2
          ],
          "colorbar": {
           "title": {
            "text": "Scoring Efficiency"
           }
          },
          "size": [
           10.8875,
           11.175,
           24.975,
           33.6125,
           11.6375,
           22.2,
           17.8375,
           33.2125,
           31.7625,
           27.9625
          ]
         },
         "mode": "markers",
         "name": "IND",
         "text": [
          "Lavoy Allen",
          "Aaron Brooks",
          "Monta Ellis",
          "Paul George",
          "Al Jefferson",
          "C.J. Miles",
          "Glenn Robinson III",
          "Jeff Teague",
          "Myles Turner",
          "Thaddeus Young"
         ],
         "type": "scatter",
         "visible": false,
         "x": [
          10.2,
          18,
          15.8,
          33,
          28.8,
          23,
          14.7,
          23.6,
          23.1,
          18.2
         ],
         "y": [
          48.5,
          50.7,
          51.4,
          58.699999999999996,
          52.6,
          59.199999999999996,
          56.39999999999999,
          57.4,
          58.5,
          56.2
         ]
        },
        {
         "hovertemplate": "<b>%{text}</b><br><i>Points per 75</i>: %{x:.2f}<br>True Shooting: %{y}",
         "marker": {
          "autocolorscale": true,
          "cmax": 70.3,
          "cmin": 38.7,
          "color": [
           49.3,
           54.2,
           60.4,
           53.1,
           58.099999999999994,
           55.400000000000006,
           60.099999999999994,
           47.699999999999996,
           49
          ],
          "colorbar": {
           "title": {
            "text": "Scoring Efficiency"
           }
          },
          "size": [
           23.925,
           22.4875,
           28.65,
           14.7875,
           18.7625,
           31.6375,
           26.2625,
           18.425,
           22.325
          ]
         },
         "mode": "markers",
         "name": "MEM",
         "text": [
          "Tony Allen",
          "Vince Carter",
          "Mike Conley",
          "Troy Daniels",
          "James Ennis III",
          "Marc Gasol",
          "JaMychal Green",
          "Andrew Harrison",
          "Zach Randolph"
         ],
         "type": "scatter",
         "visible": false,
         "x": [
          17.5,
          16.9,
          32.1,
          24.2,
          14.9,
          29.7,
          17.1,
          15,
          29.9
         ],
         "y": [
          49.3,
          54.2,
          60.4,
          53.1,
          58.099999999999994,
          55.400000000000006,
          60.099999999999994,
          47.699999999999996,
          49
         ]
        },
        {
         "hovertemplate": "<b>%{text}</b><br><i>Points per 75</i>: %{x:.2f}<br>True Shooting: %{y}",
         "marker": {
          "autocolorscale": true,
          "cmax": 70.3,
          "cmin": 38.7,
          "color": [
           50.6,
           60.199999999999996,
           56.3,
           56.99999999999999,
           50.7,
           58.599999999999994,
           58.5,
           55.2,
           49.1,
           52.5
          ],
          "colorbar": {
           "title": {
            "text": "Scoring Efficiency"
           }
          },
          "size": [
           22.1625,
           28.175,
           9.8625,
           27.7875,
           15.275,
           33.675,
           34.95,
           18.95,
           20.725,
           15.8125
          ]
         },
         "mode": "markers",
         "name": "POR",
         "text": [
          "Al-Farouq Aminu",
          "Allen Crabbe",
          "Ed Davis",
          "Maurice Harkless",
          "Meyers Leonard",
          "Damian Lillard",
          "CJ McCollum",
          "Mason Plumlee",
          "Evan Turner",
          "Noah Vonleh"
         ],
         "type": "scatter",
         "visible": false,
         "x": [
          14.9,
          18.6,
          12.6,
          17.3,
          16.3,
          37.3,
          32.6,
          19.6,
          17.5,
          12.8
         ],
         "y": [
          50.6,
          60.199999999999996,
          56.3,
          56.99999999999999,
          50.7,
          58.599999999999994,
          58.5,
          55.2,
          49.1,
          52.5
         ]
        },
        {
         "hovertemplate": "<b>%{text}</b><br><i>Points per 75</i>: %{x:.2f}<br>True Shooting: %{y}",
         "marker": {
          "autocolorscale": true,
          "cmax": 70.3,
          "cmin": 38.7,
          "color": [
           53.7,
           51.4,
           58.5,
           49.1,
           56.2,
           57.3,
           50.1,
           53.300000000000004,
           51,
           54.300000000000004,
           55.60000000000001,
           56.2,
           54.1,
           56.599999999999994,
           54.6,
           47.9,
           51.5,
           63.5,
           50.9,
           47.599999999999994,
           55.400000000000006,
           50.5,
           62.2,
           52.800000000000004,
           55.800000000000004,
           55.00000000000001,
           48.199999999999996,
           51.6,
           54.1,
           53.7,
           59.3
          ],
          "colorbar": {
           "title": {
            "text": "Scoring Efficiency"
           }
          },
          "size": [
           15.35,
           22.2125,
           26.0375,
           16.0125,
           30.8125,
           10.5125,
           9.85,
           14.9625,
           18.6875,
           24.8625,
           19.1375,
           9.9625,
           23.6,
           30.275,
           26.775,
           22.525,
           15.875,
           21.9125,
           12.25,
           9.7125,
           18.85,
           8.925,
           13.0875,
           17.3875,
           26.85,
           24.4375,
           9.4,
           27.95,
           20.7125,
           10.05,
           24.925
          ]
         },
         "mode": "markers",
         "name": "TOT",
         "text": [
          "Justin Anderson",
          "Matt Barnes",
          "Bojan Bogdanović",
          "Corey Brewer",
          "DeMarcus Cousins",
          "Mike Dunleavy",
          "Tyreke Evans",
          "Yogi Ferrell",
          "Langston Galloway",
          "Taj Gibson",
          "Jerami Grant",
          "Spencer Hawes",
          "Buddy Hield",
          "Serge Ibaka",
          "Ersan İlyasova",
          "Brandon Jennings",
          "Terrence Jones",
          "Kyle Korver",
          "Joffrey Lauvergne",
          "DeAndre Liggins",
          "Doug McDermott",
          "Anthony Morrow",
          "Nerlens Noel",
          "Jusuf Nurkić",
          "Mason Plumlee",
          "Terrence Ross",
          "Hollis Thompson",
          "P.J. Tucker",
          "Deron Williams",
          "Derrick Williams",
          "Lou Williams"
         ],
         "type": "scatter",
         "visible": false,
         "x": [
          21.9,
          14.8,
          25.6,
          14,
          39.6,
          16.2,
          25.9,
          19.8,
          19.3,
          21.3,
          14,
          21.3,
          22.7,
          24.2,
          24.4,
          16,
          22.5,
          19.2,
          18.9,
          9.8,
          19.6,
          18.7,
          21.3,
          23.4,
          19.4,
          22.1,
          13.3,
          11.7,
          21.7,
          19,
          34.6
         ],
         "y": [
          53.7,
          51.4,
          58.5,
          49.1,
          56.2,
          57.3,
          50.1,
          53.300000000000004,
          51,
          54.300000000000004,
          55.60000000000001,
          56.2,
          54.1,
          56.599999999999994,
          54.6,
          47.9,
          51.5,
          63.5,
          50.9,
          47.599999999999994,
          55.400000000000006,
          50.5,
          62.2,
          52.800000000000004,
          55.800000000000004,
          55.00000000000001,
          48.199999999999996,
          51.6,
          54.1,
          53.7,
          59.3
         ]
        },
        {
         "hovertemplate": "<b>%{text}</b><br><i>Points per 75</i>: %{x:.2f}<br>True Shooting: %{y}",
         "marker": {
          "autocolorscale": true,
          "cmax": 70.3,
          "cmin": 38.7,
          "color": [
           52.1,
           52.1,
           54.1,
           60.099999999999994,
           54.1,
           48.6,
           54.900000000000006,
           53.300000000000004,
           65,
           52.900000000000006,
           58.8,
           53.300000000000004
          ],
          "colorbar": {
           "title": {
            "text": "Scoring Efficiency"
           }
          },
          "size": [
           8.875,
           9.6375,
           35.0375,
           25.3625,
           13.075,
           20.525,
           13.5875,
           31.1875,
           11.3125,
           17.8,
           16.6625,
           14.6375
          ]
         },
         "mode": "markers",
         "name": "DAL",
         "text": [
          "Justin Anderson",
          "J.J. Barea",
          "Harrison Barnes",
          "Seth Curry",
          "Yogi Ferrell",
          "Dorian Finney-Smith",
          "Devin Harris",
          "Wesley Matthews",
          "Salah Mejri",
          "Dirk Nowitzki",
          "Dwight Powell",
          "Deron Williams"
         ],
         "type": "scatter",
         "visible": false,
         "x": [
          24.1,
          25.7,
          28.2,
          23,
          20.3,
          11.1,
          20.9,
          20.6,
          12.2,
          28.1,
          20.1,
          23.2
         ],
         "y": [
          52.1,
          52.1,
          54.1,
          60.099999999999994,
          54.1,
          48.6,
          54.900000000000006,
          53.300000000000004,
          65,
          52.900000000000006,
          58.8,
          53.300000000000004
         ]
        },
        {
         "hovertemplate": "<b>%{text}</b><br><i>Points per 75</i>: %{x:.2f}<br>True Shooting: %{y}",
         "marker": {
          "autocolorscale": true,
          "cmax": 70.3,
          "cmin": 38.7,
          "color": [
           58.3,
           54.800000000000004,
           54.6,
           49.1,
           63.800000000000004,
           54.900000000000006,
           55.7,
           61.3,
           66.2,
           63
          ],
          "colorbar": {
           "title": {
            "text": "Scoring Efficiency"
           }
          },
          "size": [
           26.45,
           34.6625,
           25.725,
           11.5375,
           19.3875,
           17.7375,
           29.0375,
           36.8375,
           13.3,
           14.975
          ]
         },
         "mode": "markers",
         "name": "HOU",
         "text": [
          "Ryan Anderson",
          "Trevor Ariza",
          "Patrick Beverley",
          "Corey Brewer",
          "Clint Capela",
          "Sam Dekker",
          "Eric Gordon",
          "James Harden",
          "Montrezl Harrell",
          "Nenê"
         ],
         "type": "scatter",
         "visible": false,
         "x": [
          22.2,
          16.2,
          14.9,
          12.6,
          25.3,
          17,
          25.1,
          38.4,
          23.8,
          24.4
         ],
         "y": [
          58.3,
          54.800000000000004,
          54.6,
          49.1,
          63.800000000000004,
          54.900000000000006,
          55.7,
          61.3,
          66.2,
          63
         ]
        },
        {
         "hovertemplate": "<b>%{text}</b><br><i>Points per 75</i>: %{x:.2f}<br>True Shooting: %{y}",
         "marker": {
          "autocolorscale": true,
          "cmax": 70.3,
          "cmin": 38.7,
          "color": [
           59.9,
           58.4,
           55.50000000000001,
           50.1,
           55.00000000000001,
           56.99999999999999,
           57.199999999999996,
           56.3,
           60.3,
           51.5,
           60
          ],
          "colorbar": {
           "title": {
            "text": "Scoring Efficiency"
           }
          },
          "size": [
           35.5625,
           11.6875,
           24.775,
           24.825,
           14.0375,
           11.1125,
           22.7875,
           21.6,
           29.2,
           14.1625,
           17.0625
          ]
         },
         "mode": "markers",
         "name": "MIL",
         "text": [
          "Giannis Antetokounmpo",
          "Michael Beasley",
          "Malcolm Brogdon",
          "Matthew Dellavedova",
          "John Henson",
          "Khris Middleton",
          "Greg Monroe",
          "Jabari Parker",
          "Tony Snell",
          "Mirza Teletović",
          "Jason Terry"
         ],
         "type": "scatter",
         "visible": false,
         "x": [
          32.7,
          28.7,
          19.7,
          14.8,
          17.7,
          24.3,
          26.5,
          30.1,
          14.8,
          20.2,
          11.4
         ],
         "y": [
          59.9,
          58.4,
          55.50000000000001,
          50.1,
          55.00000000000001,
          56.99999999999999,
          57.199999999999996,
          56.3,
          60.3,
          51.5,
          60
         ]
        },
        {
         "hovertemplate": "<b>%{text}</b><br><i>Points per 75</i>: %{x:.2f}<br>True Shooting: %{y}",
         "marker": {
          "autocolorscale": true,
          "cmax": 70.3,
          "cmin": 38.7,
          "color": [
           53.5,
           45.6,
           56.39999999999999,
           54.900000000000006,
           50.8,
           53.300000000000004,
           55.900000000000006,
           49.1,
           55.2,
           54.6,
           53,
           51.6
          ],
          "colorbar": {
           "title": {
            "text": "Scoring Efficiency"
           }
          },
          "size": [
           31.725,
           10.7125,
           16.55,
           20.4875,
           17.85,
           12.7,
           30.7375,
           12.6875,
           15.3625,
           27.05,
           26.025,
           12.1
          ]
         },
         "mode": "markers",
         "name": "NYK",
         "text": [
          "Carmelo Anthony",
          "Ron Baker",
          "Willy Hernangómez",
          "Justin Holiday",
          "Brandon Jennings",
          "Mindaugas Kuzminskas",
          "Courtney Lee",
          "Joakim Noah",
          "Kyle O'Quinn",
          "Kristaps Porziņģis",
          "Derrick Rose",
          "Lance Thomas"
         ],
         "type": "scatter",
         "visible": false,
         "x": [
          32.7,
          12.5,
          22.2,
          19.2,
          17.4,
          20.9,
          17,
          11.4,
          20.2,
          27.6,
          27.7,
          14.2
         ],
         "y": [
          53.5,
          45.6,
          56.39999999999999,
          54.900000000000006,
          50.8,
          53.300000000000004,
          55.900000000000006,
          49.1,
          55.2,
          54.6,
          53,
          51.6
         ]
        },
        {
         "hovertemplate": "<b>%{text}</b><br><i>Points per 75</i>: %{x:.2f}<br>True Shooting: %{y}",
         "marker": {
          "autocolorscale": true,
          "cmax": 70.3,
          "cmin": 38.7,
          "color": [
           52.400000000000006,
           54.6,
           55.50000000000001,
           53,
           50.5,
           45,
           56.89999999999999,
           56.699999999999996,
           52,
           53.6,
           49.8,
           50.7
          ],
          "colorbar": {
           "title": {
            "text": "Scoring Efficiency"
           }
          },
          "size": [
           19.225,
           22.4125,
           27.925,
           28.725,
           19.175,
           12,
           21.375,
           9.225,
           30.15,
           9.35,
           27.0375,
           12.65
          ]
         },
         "mode": "markers",
         "name": "ORL",
         "text": [
          "D.J. Augustin",
          "Bismack Biyombo",
          "Evan Fournier",
          "Aaron Gordon",
          "Jeff Green",
          "Mario Hezonja",
          "Serge Ibaka",
          "Jodie Meeks",
          "Elfrid Payton",
          "Terrence Ross",
          "Nikola Vučević",
          "C.J. Watson"
         ],
         "type": "scatter",
         "visible": false,
         "x": [
          19.9,
          13.4,
          25.9,
          22,
          20.6,
          16.4,
          24.5,
          22,
          21.5,
          19.8,
          25.1,
          13.8
         ],
         "y": [
          52.400000000000006,
          54.6,
          55.50000000000001,
          53,
          50.5,
          45,
          56.89999999999999,
          56.699999999999996,
          52,
          53.6,
          49.8,
          50.7
         ]
        },
        {
         "hovertemplate": "<b>%{text}</b><br><i>Points per 75</i>: %{x:.2f}<br>True Shooting: %{y}",
         "marker": {
          "autocolorscale": true,
          "cmax": 70.3,
          "cmin": 38.7,
          "color": [
           56.3,
           57.49999999999999,
           56.49999999999999,
           56.39999999999999,
           53.5,
           50.6,
           57.8,
           49.3,
           50.7,
           57.9
          ],
          "colorbar": {
           "title": {
            "text": "Scoring Efficiency"
           }
          },
          "size": [
           13.3125,
           30.7375,
           18.75,
           26.0625,
           27.225,
           24.575,
           12.8875,
           20.175,
           17.3,
           31.4125
          ]
         },
         "mode": "markers",
         "name": "MIA",
         "text": [
          "Luke Babbitt",
          "Goran Dragić",
          "Wayne Ellington",
          "James Johnson",
          "Tyler Johnson",
          "Rodney McGruder",
          "Willie Reed",
          "Josh Richardson",
          "Dion Waiters",
          "Hassan Whiteside"
         ],
         "type": "scatter",
         "visible": false,
         "x": [
          15.3,
          30.4,
          21.8,
          23.6,
          23.2,
          12.7,
          18.3,
          16.8,
          26.6,
          26.3
         ],
         "y": [
          56.3,
          57.49999999999999,
          56.49999999999999,
          56.39999999999999,
          53.5,
          50.6,
          57.8,
          49.3,
          50.7,
          57.9
         ]
        },
        {
         "hovertemplate": "<b>%{text}</b><br><i>Points per 75</i>: %{x:.2f}<br>True Shooting: %{y}",
         "marker": {
          "autocolorscale": true,
          "cmax": 70.3,
          "cmin": 38.7,
          "color": [
           50.9,
           56.3,
           53.1,
           70.3,
           52.900000000000006,
           57.9,
           50.2,
           55.300000000000004,
           51.7,
           47.4,
           53.900000000000006,
           54.7
          ],
          "colorbar": {
           "title": {
            "text": "Scoring Efficiency"
           }
          },
          "size": [
           12.0375,
           27.2,
           34.125,
           16.225,
           21.7875,
           17.025,
           14.25,
           19.5,
           20.3375,
           14.0375,
           25.6,
           8.85
          ]
         },
         "mode": "markers",
         "name": "PHO",
         "text": [
          "Leandro Barbosa",
          "Eric Bledsoe",
          "Devin Booker",
          "Tyson Chandler",
          "Marquese Chriss",
          "Jared Dudley",
          "Brandon Knight",
          "Alex Len",
          "P.J. Tucker",
          "Tyler Ulis",
          "T.J. Warren",
          "Alan Williams"
         ],
         "type": "scatter",
         "visible": false,
         "x": [
          20.8,
          30.6,
          30.3,
          14.6,
          20.7,
          15.3,
          25,
          18.8,
          11.8,
          18.9,
          22.2,
          23.4
         ],
         "y": [
          50.9,
          56.3,
          53.1,
          70.3,
          52.900000000000006,
          57.9,
          50.2,
          55.300000000000004,
          51.7,
          47.4,
          53.900000000000006,
          54.7
         ]
        },
        {
         "hovertemplate": "<b>%{text}</b><br><i>Points per 75</i>: %{x:.2f}<br>True Shooting: %{y}",
         "marker": {
          "autocolorscale": true,
          "cmax": 70.3,
          "cmin": 38.7,
          "color": [
           54.7,
           54.50000000000001,
           58.8,
           62.2,
           61.1,
           59.199999999999996,
           64,
           48.3,
           51.800000000000004,
           54.400000000000006,
           51.5
          ],
          "colorbar": {
           "title": {
            "text": "Scoring Efficiency"
           }
          },
          "size": [
           21.3125,
           27.4625,
           16.2,
           26.675,
           22.275,
           10.525,
           25.475,
           17.575,
           22.05,
           25.5625,
           10.0875
          ]
         },
         "mode": "markers",
         "name": "DEN",
         "text": [
          "Will Barton",
          "Wilson Chandler",
          "Kenneth Faried",
          "Danilo Gallinari",
          "Gary Harris",
          "Juancho Hernangómez",
          "Nikola Jokić",
          "Emmanuel Mudiay",
          "Jamal Murray",
          "Jameer Nelson",
          "Jusuf Nurkić"
         ],
         "type": "scatter",
         "visible": false,
         "x": [
          23.5,
          24.8,
          22.1,
          26.2,
          23.3,
          17.7,
          29.3,
          20.9,
          22.5,
          16.4,
          21.7
         ],
         "y": [
          54.7,
          54.50000000000001,
          58.8,
          62.2,
          61.1,
          59.199999999999996,
          64,
          48.3,
          51.800000000000004,
          54.400000000000006,
          51.5
         ]
        },
        {
         "hovertemplate": "<b>%{text}</b><br><i>Points per 75</i>: %{x:.2f}<br>True Shooting: %{y}",
         "marker": {
          "autocolorscale": true,
          "cmax": 70.3,
          "cmin": 38.7,
          "color": [
           52.900000000000006,
           56.599999999999994,
           50.2,
           52.800000000000004,
           55.00000000000001,
           49.5,
           56.89999999999999,
           55.1,
           60.4
          ],
          "colorbar": {
           "title": {
            "text": "Scoring Efficiency"
           }
          },
          "size": [
           32.7125,
           22.225,
           24.425,
           29.3625,
           14.2875,
           10.1375,
           34.2375,
           28.6875,
           21.5625
          ]
         },
         "mode": "markers",
         "name": "CHO",
         "text": [
          "Nicolas Batum",
          "Marco Belinelli",
          "Frank Kaminsky",
          "Michael Kidd-Gilchrist",
          "Jeremy Lamb",
          "Ramon Sessions",
          "Kemba Walker",
          "Marvin Williams",
          "Cody Zeller"
         ],
         "type": "scatter",
         "visible": false,
         "x": [
          22.3,
          22,
          22.4,
          15.9,
          26.5,
          19.3,
          33.5,
          18.6,
          18.6
         ],
         "y": [
          52.900000000000006,
          56.599999999999994,
          50.2,
          52.800000000000004,
          55.00000000000001,
          49.5,
          56.89999999999999,
          55.1,
          60.4
         ]
        },
        {
         "hovertemplate": "<b>%{text}</b><br><i>Points per 75</i>: %{x:.2f}<br>True Shooting: %{y}",
         "marker": {
          "autocolorscale": true,
          "cmax": 70.3,
          "cmin": 38.7,
          "color": [
           56.99999999999999,
           51.9,
           51.800000000000004,
           56.8,
           51,
           43.6,
           55.1,
           50.8,
           47.699999999999996
          ],
          "colorbar": {
           "title": {
            "text": "Scoring Efficiency"
           }
          },
          "size": [
           14.5375,
           31.6125,
           30.1125,
           32.0875,
           17.8,
           17.1375,
           24.3,
           32.0625,
           24.4375
          ]
         },
         "mode": "markers",
         "name": "DET",
         "text": [
          "Aron Baynes",
          "Kentavious Caldwell-Pope",
          "Andre Drummond",
          "Tobias Harris",
          "Reggie Jackson",
          "Stanley Johnson",
          "Jon Leuer",
          "Marcus Morris",
          "Ish Smith"
         ],
         "type": "scatter",
         "visible": false,
         "x": [
          15.9,
          20.9,
          23.2,
          26,
          26.7,
          12.5,
          19.9,
          21.8,
          19.6
         ],
         "y": [
          56.99999999999999,
          51.9,
          51.800000000000004,
          56.8,
          51,
          43.6,
          55.1,
          50.8,
          47.699999999999996
         ]
        },
        {
         "hovertemplate": "<b>%{text}</b><br><i>Points per 75</i>: %{x:.2f}<br>True Shooting: %{y}",
         "marker": {
          "autocolorscale": true,
          "cmax": 70.3,
          "cmin": 38.7,
          "color": [
           50.4,
           45.6,
           56.8,
           62.7,
           59.099999999999994,
           54.2,
           59.599999999999994,
           51.300000000000004,
           53.300000000000004,
           51.9
          ],
          "colorbar": {
           "title": {
            "text": "Scoring Efficiency"
           }
          },
          "size": [
           24.5375,
           15.6,
           26.925,
           27.4875,
           11.175,
           29.2875,
           15.4625,
           12.2625,
           31.0625,
           19.95
          ]
         },
         "mode": "markers",
         "name": "ATL",
         "text": [
          "Kent Bazemore",
          "Malcolm Delaney",
          "Tim Hardaway Jr.",
          "Dwight Howard",
          "Kyle Korver",
          "Paul Millsap",
          "Mike Muscala",
          "Taurean Prince",
          "Dennis Schröder",
          "Thabo Sefolosha"
         ],
         "type": "scatter",
         "visible": false,
         "x": [
          20.1,
          15.4,
          26.2,
          22.5,
          16.8,
          26.2,
          17.3,
          16.8,
          28,
          13.7
         ],
         "y": [
          50.4,
          45.6,
          56.8,
          62.7,
          59.099999999999994,
          54.2,
          59.599999999999994,
          51.300000000000004,
          53.300000000000004,
          51.9
         ]
        },
        {
         "hovertemplate": "<b>%{text}</b><br><i>Points per 75</i>: %{x:.2f}<br>True Shooting: %{y}",
         "marker": {
          "autocolorscale": true,
          "cmax": 70.3,
          "cmin": 38.7,
          "color": [
           60.4,
           53.2,
           59.3,
           54,
           51.6,
           62.8,
           47.699999999999996,
           59.8,
           54.1
          ],
          "colorbar": {
           "title": {
            "text": "Scoring Efficiency"
           }
          },
          "size": [
           33.55,
           8.7875,
           31.95,
           29.675,
           20.0625,
           32.5625,
           8.9875,
           13.35,
           35.45
          ]
         },
         "mode": "markers",
         "name": "WAS",
         "text": [
          "Bradley Beal",
          "Trey Burke",
          "Marcin Gortat",
          "Markieff Morris",
          "Kelly Oubre Jr.",
          "Otto Porter Jr.",
          "Tomáš Satoranský",
          "Jason Smith",
          "John Wall"
         ],
         "type": "scatter",
         "visible": false,
         "x": [
          32.7,
          20,
          17,
          22.1,
          15.4,
          20.3,
          10.6,
          19.4,
          31.4
         ],
         "y": [
          60.4,
          53.2,
          59.3,
          54,
          51.6,
          62.8,
          47.699999999999996,
          59.8,
          54.1
         ]
        },
        {
         "hovertemplate": "<b>%{text}</b><br><i>Points per 75</i>: %{x:.2f}<br>True Shooting: %{y}",
         "marker": {
          "autocolorscale": true,
          "cmax": 70.3,
          "cmin": 38.7,
          "color": [
           52.6,
           55.50000000000001,
           43.2,
           52.300000000000004,
           57.599999999999994,
           56.599999999999994,
           53.900000000000006,
           50.5,
           61.8,
           53.400000000000006
          ],
          "colorbar": {
           "title": {
            "text": "Scoring Efficiency"
           }
          },
          "size": [
           14.875,
           33.1625,
           16.6625,
           9.675,
           21.8625,
           18.95,
           30.8625,
           12.875,
           37.875,
           38.1
          ]
         },
         "mode": "markers",
         "name": "MIN",
         "text": [
          "Nemanja Bjelica",
          "Gorgui Dieng",
          "Kris Dunn",
          "Tyus Jones",
          "Zach LaVine",
          "Shabazz Muhammad",
          "Ricky Rubio",
          "Brandon Rush",
          "Karl-Anthony Towns",
          "Andrew Wiggins"
         ],
         "type": "scatter",
         "visible": false,
         "x": [
          17.2,
          15.6,
          11.1,
          13.7,
          25.8,
          25.8,
          17.2,
          9.7,
          34.5,
          32.2
         ],
         "y": [
          52.6,
          55.50000000000001,
          43.2,
          52.300000000000004,
          57.599999999999994,
          56.599999999999994,
          53.900000000000006,
          50.5,
          61.8,
          53.400000000000006
         ]
        },
        {
         "hovertemplate": "<b>%{text}</b><br><i>Points per 75</i>: %{x:.2f}<br>True Shooting: %{y}",
         "marker": {
          "autocolorscale": true,
          "cmax": 70.3,
          "cmin": 38.7,
          "color": [
           56.00000000000001,
           52.6,
           47,
           47.4,
           55.300000000000004,
           56.699999999999996,
           54.300000000000004,
           51.800000000000004,
           60.9,
           58.8
          ],
          "colorbar": {
           "title": {
            "text": "Scoring Efficiency"
           }
          },
          "size": [
           13.6375,
           29.9625,
           18.575,
           28.4875,
           13.8,
           18.025,
           26.65,
           22.6375,
           17.5375,
           19.45
          ]
         },
         "mode": "markers",
         "name": "LAL",
         "text": [
          "Tarik Black",
          "Jordan Clarkson",
          "Luol Deng",
          "Brandon Ingram",
          "Timofey Mozgov",
          "Larry Nance Jr.",
          "Julius Randle",
          "D'Angelo Russell",
          "Lou Williams",
          "Nick Young"
         ],
         "type": "scatter",
         "visible": false,
         "x": [
          17.1,
          24.5,
          13.9,
          15.8,
          17.7,
          15.2,
          22.3,
          26.5,
          37.4,
          24.8
         ],
         "y": [
          56.00000000000001,
          52.6,
          47,
          47.4,
          55.300000000000004,
          56.699999999999996,
          54.300000000000004,
          51.800000000000004,
          60.9,
          58.8
         ]
        },
        {
         "hovertemplate": "<b>%{text}</b><br><i>Points per 75</i>: %{x:.2f}<br>True Shooting: %{y}",
         "marker": {
          "autocolorscale": true,
          "cmax": 70.3,
          "cmin": 38.7,
          "color": [
           57.199999999999996,
           55.400000000000006,
           58.099999999999994,
           50.6,
           55.00000000000001,
           55.800000000000004,
           51.7,
           54.6,
           55.60000000000001,
           56.599999999999994,
           57.8,
           48.699999999999996
          ],
          "colorbar": {
           "title": {
            "text": "Scoring Efficiency"
           }
          },
          "size": [
           18.525,
           21.925,
           16.675,
           16.05,
           14.7125,
           14.225,
           22.0125,
           21.925,
           15.4625,
           11.0375,
           27.775,
           20.5375
          ]
         },
         "mode": "markers",
         "name": "BRK",
         "text": [
          "Bojan Bogdanović",
          "Trevor Booker",
          "Spencer Dinwiddie",
          "Randy Foye",
          "Justin Hamilton",
          "Joe Harris",
          "Rondae Hollis-Jefferson",
          "Sean Kilpatrick",
          "Caris LeVert",
          "Jeremy Lin",
          "Brook Lopez",
          "Isaiah Whitehead"
         ],
         "type": "scatter",
         "visible": false,
         "x": [
          25,
          19.2,
          15.4,
          13.2,
          17.8,
          17.8,
          18.2,
          24.8,
          17.9,
          28.1,
          32.8,
          15.7
         ],
         "y": [
          57.199999999999996,
          55.400000000000006,
          58.099999999999994,
          50.6,
          55.00000000000001,
          55.800000000000004,
          51.7,
          54.6,
          55.60000000000001,
          56.599999999999994,
          57.8,
          48.699999999999996
         ]
        },
        {
         "hovertemplate": "<b>%{text}</b><br><i>Points per 75</i>: %{x:.2f}<br>True Shooting: %{y}",
         "marker": {
          "autocolorscale": true,
          "cmax": 70.3,
          "cmin": 38.7,
          "color": [
           54.800000000000004,
           53.900000000000006,
           61.3,
           55.300000000000004,
           53.7,
           62.8,
           60.3,
           46.6,
           48.6,
           62.5
          ],
          "colorbar": {
           "title": {
            "text": "Scoring Efficiency"
           }
          },
          "size": [
           22.9375,
           16.7625,
           29.1875,
           27.4125,
           15.4,
           20.1,
           19.225,
           15.7875,
           29.9875,
           32.1125
          ]
         },
         "mode": "markers",
         "name": "BOS",
         "text": [
          "Avery Bradley",
          "Jaylen Brown",
          "Jae Crowder",
          "Al Horford",
          "Jonas Jerebko",
          "Amir Johnson",
          "Kelly Olynyk",
          "Terry Rozier",
          "Marcus Smart",
          "Isaiah Thomas"
         ],
         "type": "scatter",
         "visible": false,
         "x": [
          24.2,
          19,
          21.2,
          21.5,
          12,
          16,
          21.9,
          16.1,
          17.3,
          42.4
         ],
         "y": [
          54.800000000000004,
          53.900000000000006,
          61.3,
          55.300000000000004,
          53.7,
          62.8,
          60.3,
          46.6,
          48.6,
          62.5
         ]
        },
        {
         "hovertemplate": "<b>%{text}</b><br><i>Points per 75</i>: %{x:.2f}<br>True Shooting: %{y}",
         "marker": {
          "autocolorscale": true,
          "cmax": 70.3,
          "cmin": 38.7,
          "color": [
           58.599999999999994,
           43.7,
           60.3,
           54.900000000000006,
           55.50000000000001,
           51.1,
           55.50000000000001,
           54.6,
           54.50000000000001,
           46.1,
           49.2,
           50.8,
           50.3
          ],
          "colorbar": {
           "title": {
            "text": "Scoring Efficiency"
           }
          },
          "size": [
           35.1125,
           10.575,
           13,
           18.775,
           12.85,
           28.3875,
           13.475,
           20.9875,
           12.5,
           23.0375,
           12.2,
           22.4,
           10.5375
          ]
         },
         "mode": "markers",
         "name": "CHI",
         "text": [
          "Jimmy Butler",
          "Michael Carter-Williams",
          "Cristiano Felício",
          "Taj Gibson",
          "Jerian Grant",
          "Robin Lopez",
          "Doug McDermott",
          "Nikola Mirotić",
          "Bobby Portis",
          "Rajon Rondo",
          "Denzel Valentine",
          "Dwyane Wade",
          "Paul Zipser"
         ],
         "type": "scatter",
         "visible": false,
         "x": [
          32.6,
          17.7,
          15.3,
          21.4,
          18.1,
          18.6,
          20.9,
          22.3,
          22,
          14.7,
          15,
          30.8,
          14.3
         ],
         "y": [
          58.599999999999994,
          43.7,
          60.3,
          54.900000000000006,
          55.50000000000001,
          51.1,
          55.50000000000001,
          54.6,
          54.50000000000001,
          46.1,
          49.2,
          50.8,
          50.3
         ]
        },
        {
         "hovertemplate": "<b>%{text}</b><br><i>Points per 75</i>: %{x:.2f}<br>True Shooting: %{y}",
         "marker": {
          "autocolorscale": true,
          "cmax": 70.3,
          "cmin": 38.7,
          "color": [
           53,
           55.2,
           55.60000000000001,
           51.800000000000004,
           62.3,
           68.2,
           54.2,
           55.2,
           55.800000000000004,
           52.300000000000004,
           60.099999999999994
          ],
          "colorbar": {
           "title": {
            "text": "Scoring Efficiency"
           }
          },
          "size": [
           23.525,
           32.75,
           8.9,
           25.0375,
           28.05,
           13.6,
           19.9875,
           17.1,
           15.0875,
           10.7375,
           25.825
          ]
         },
         "mode": "markers",
         "name": "TOR",
         "text": [
          "DeMarre Carroll",
          "DeMar DeRozan",
          "Serge Ibaka",
          "Cory Joseph",
          "Kyle Lowry",
          "Lucas Nogueira",
          "Patrick Patterson",
          "Norman Powell",
          "Terrence Ross",
          "Pascal Siakam",
          "Jonas Valančiūnas"
         ],
         "type": "scatter",
         "visible": false,
         "x": [
          17.2,
          39.1,
          23.3,
          18.7,
          30.4,
          11.8,
          14.1,
          23.6,
          23.5,
          13.5,
          23.5
         ],
         "y": [
          53,
          55.2,
          55.60000000000001,
          51.800000000000004,
          62.3,
          68.2,
          54.2,
          55.2,
          55.800000000000004,
          52.300000000000004,
          60.099999999999994
         ]
        },
        {
         "hovertemplate": "<b>%{text}</b><br><i>Points per 75</i>: %{x:.2f}<br>True Shooting: %{y}",
         "marker": {
          "autocolorscale": true,
          "cmax": 70.3,
          "cmin": 38.7,
          "color": [
           57.49999999999999,
           62.4,
           65.10000000000001,
           52.2,
           62.4,
           56.8,
           54,
           64.2,
           58.8,
           59.199999999999996,
           57.099999999999994
          ],
          "colorbar": {
           "title": {
            "text": "Scoring Efficiency"
           }
          },
          "size": [
           14.2125,
           32.975,
           25.875,
           30.8875,
           24.975,
           16.8125,
           13.425,
           9.2375,
           15.85,
           33.1125,
           10.675
          ]
         },
         "mode": "markers",
         "name": "GSW",
         "text": [
          "Ian Clark",
          "Stephen Curry",
          "Kevin Durant",
          "Draymond Green",
          "Andre Iguodala",
          "Shaun Livingston",
          "Patrick McCaw",
          "JaVale McGee",
          "Zaza Pachulia",
          "Klay Thompson",
          "David West"
         ],
         "type": "scatter",
         "visible": false,
         "x": [
          22.3,
          36.5,
          36.1,
          15.1,
          13.8,
          13.9,
          12.6,
          30.7,
          16.2,
          31.6,
          17.8
         ],
         "y": [
          57.49999999999999,
          62.4,
          65.10000000000001,
          52.2,
          62.4,
          56.8,
          54,
          64.2,
          58.8,
          59.199999999999996,
          57.099999999999994
         ]
        },
        {
         "hovertemplate": "<b>%{text}</b><br><i>Points per 75</i>: %{x:.2f}<br>True Shooting: %{y}",
         "marker": {
          "autocolorscale": true,
          "cmax": 70.3,
          "cmin": 38.7,
          "color": [
           53.400000000000006,
           58.4,
           52.900000000000006,
           61.1,
           55.300000000000004,
           53.6,
           50.4,
           54.6,
           48.4,
           50.8,
           54
          ],
          "colorbar": {
           "title": {
            "text": "Scoring Efficiency"
           }
          },
          "size": [
           26.4875,
           9.825,
           20.8375,
           14.9125,
           18.0875,
           14.875,
           26.6625,
           14.175,
           18.975,
           26.6125,
           27.35
          ]
         },
         "mode": "markers",
         "name": "PHI",
         "text": [
          "Robert Covington",
          "Joel Embiid",
          "Gerald Henderson",
          "Richaun Holmes",
          "Ersan İlyasova",
          "Timothé Luwawu-Cabarrot",
          "T.J. McConnell",
          "Jahlil Okafor",
          "Sergio Rodríguez",
          "Dario Šarić",
          "Nik Stauskas"
         ],
         "type": "scatter",
         "visible": false,
         "x": [
          19.9,
          38.9,
          19.3,
          22.8,
          26.5,
          18.2,
          12.7,
          25.3,
          17,
          23.8,
          16.8
         ],
         "y": [
          53.400000000000006,
          58.4,
          52.900000000000006,
          61.1,
          55.300000000000004,
          53.6,
          50.4,
          54.6,
          48.4,
          50.8,
          54
         ]
        },
        {
         "hovertemplate": "<b>%{text}</b><br><i>Points per 75</i>: %{x:.2f}<br>True Shooting: %{y}",
         "marker": {
          "autocolorscale": true,
          "cmax": 70.3,
          "cmin": 38.7,
          "color": [
           52.5,
           49.6,
           56.89999999999999,
           44.800000000000004,
           67.30000000000001,
           58.099999999999994,
           61.4,
           59.9,
           54.50000000000001,
           58.4
          ],
          "colorbar": {
           "title": {
            "text": "Scoring Efficiency"
           }
          },
          "size": [
           26.9625,
           21.25,
           25.95,
           10.125,
           32.125,
           22.3375,
           24.0125,
           27.475,
           25.675,
           16.075
          ]
         },
         "mode": "markers",
         "name": "LAC",
         "text": [
          "Jamal Crawford",
          "Raymond Felton",
          "Blake Griffin",
          "Wesley Johnson",
          "DeAndre Jordan",
          "Luc Mbah a Moute",
          "Chris Paul",
          "J.J. Redick",
          "Austin Rivers",
          "Marreese Speights"
         ],
         "type": "scatter",
         "visible": false,
         "x": [
          23.4,
          15.8,
          31.7,
          11.5,
          20,
          13.5,
          28.7,
          26.7,
          21.6,
          27.6
         ],
         "y": [
          52.5,
          49.6,
          56.89999999999999,
          44.800000000000004,
          67.30000000000001,
          58.099999999999994,
          61.4,
          59.9,
          54.50000000000001,
          58.4
         ]
        },
        {
         "hovertemplate": "<b>%{text}</b><br><i>Points per 75</i>: %{x:.2f}<br>True Shooting: %{y}",
         "marker": {
          "autocolorscale": true,
          "cmax": 70.3,
          "cmin": 38.7,
          "color": [
           58.599999999999994,
           57.99999999999999,
           50.4,
           50.8,
           50.3,
           52.7,
           53.2,
           51.800000000000004,
           53.7
          ],
          "colorbar": {
           "title": {
            "text": "Scoring Efficiency"
           }
          },
          "size": [
           20.6125,
           33.85,
           19.0625,
           14,
           14.5125,
           29.675,
           27.375,
           15.8,
           22.75
          ]
         },
         "mode": "markers",
         "name": "NOP",
         "text": [
          "Dante Cunningham",
          "Anthony Davis",
          "Tim Frazier",
          "Langston Galloway",
          "Buddy Hield",
          "Solomon Hill",
          "Jrue Holiday",
          "Terrence Jones",
          "E'Twaun Moore"
         ],
         "type": "scatter",
         "visible": false,
         "x": [
          12.9,
          38,
          14.9,
          20.6,
          20.6,
          11.6,
          23,
          22.6,
          18.8
         ],
         "y": [
          58.599999999999994,
          57.99999999999999,
          50.4,
          50.8,
          50.3,
          52.7,
          53.2,
          51.800000000000004,
          53.7
         ]
        },
        {
         "hovertemplate": "<b>%{text}</b><br><i>Points per 75</i>: %{x:.2f}<br>True Shooting: %{y}",
         "marker": {
          "autocolorscale": true,
          "cmax": 70.3,
          "cmin": 38.7,
          "color": [
           49.4,
           52.1,
           51.2,
           68.10000000000001,
           59.5,
           59.9,
           52.2,
           60.4,
           54.2,
           46.400000000000006,
           51.800000000000004
          ],
          "colorbar": {
           "title": {
            "text": "Scoring Efficiency"
           }
          },
          "size": [
           16.0375,
           15.35,
           14.825,
           34.3,
           31.45,
           19.3,
           19.9125,
           24.65,
           23.0375,
           14.475,
           15.0625
          ]
         },
         "mode": "markers",
         "name": "UTA",
         "text": [
          "Boris Diaw",
          "Dante Exum",
          "Derrick Favors",
          "Rudy Gobert",
          "Gordon Hayward",
          "George Hill",
          "Rodney Hood",
          "Joe Ingles",
          "Joe Johnson",
          "Trey Lyles",
          "Shelvin Mack"
         ],
         "type": "scatter",
         "visible": false,
         "x": [
          13.8,
          17.6,
          21,
          21.7,
          33.4,
          28.1,
          24.6,
          15.4,
          20.3,
          19.9,
          18.7
         ],
         "y": [
          49.4,
          52.1,
          51.2,
          68.10000000000001,
          59.5,
          59.9,
          52.2,
          60.4,
          54.2,
          46.400000000000006,
          51.800000000000004
         ]
        },
        {
         "hovertemplate": "<b>%{text}</b><br><i>Points per 75</i>: %{x:.2f}<br>True Shooting: %{y}",
         "marker": {
          "autocolorscale": true,
          "cmax": 70.3,
          "cmin": 38.7,
          "color": [
           61.199999999999996,
           57.99999999999999,
           61.9,
           57.4,
           67.7,
           47.3,
           57.3,
           53.6,
           48.4,
           59.4
          ],
          "colorbar": {
           "title": {
            "text": "Scoring Efficiency"
           }
          },
          "size": [
           17.475,
           31.5625,
           34.925,
           20.175,
           10.7375,
           9.4,
           23.5625,
           24.2125,
           14.8375,
           29.2
          ]
         },
         "mode": "markers",
         "name": "CLE",
         "text": [
          "Channing Frye",
          "Kyrie Irving",
          "LeBron James",
          "Richard Jefferson",
          "Kyle Korver",
          "DeAndre Liggins",
          "Kevin Love",
          "Iman Shumpert",
          "J.R. Smith",
          "Tristan Thompson"
         ],
         "type": "scatter",
         "visible": true,
         "x": [
          24.1,
          35.9,
          34.9,
          13.9,
          21.7,
          9.6,
          30.2,
          14.6,
          14.8,
          13.5
         ],
         "y": [
          61.199999999999996,
          57.99999999999999,
          61.9,
          57.4,
          67.7,
          47.3,
          57.3,
          53.6,
          48.4,
          59.4
         ]
        }
       ],
       "layout": {
        "autosize": false,
        "height": 800,
        "showlegend": false,
        "template": {
         "data": {
          "bar": [
           {
            "error_x": {
             "color": "#2a3f5f"
            },
            "error_y": {
             "color": "#2a3f5f"
            },
            "marker": {
             "line": {
              "color": "#E5ECF6",
              "width": 0.5
             },
             "pattern": {
              "fillmode": "overlay",
              "size": 10,
              "solidity": 0.2
             }
            },
            "type": "bar"
           }
          ],
          "barpolar": [
           {
            "marker": {
             "line": {
              "color": "#E5ECF6",
              "width": 0.5
             },
             "pattern": {
              "fillmode": "overlay",
              "size": 10,
              "solidity": 0.2
             }
            },
            "type": "barpolar"
           }
          ],
          "carpet": [
           {
            "aaxis": {
             "endlinecolor": "#2a3f5f",
             "gridcolor": "white",
             "linecolor": "white",
             "minorgridcolor": "white",
             "startlinecolor": "#2a3f5f"
            },
            "baxis": {
             "endlinecolor": "#2a3f5f",
             "gridcolor": "white",
             "linecolor": "white",
             "minorgridcolor": "white",
             "startlinecolor": "#2a3f5f"
            },
            "type": "carpet"
           }
          ],
          "choropleth": [
           {
            "colorbar": {
             "outlinewidth": 0,
             "ticks": ""
            },
            "type": "choropleth"
           }
          ],
          "contour": [
           {
            "colorbar": {
             "outlinewidth": 0,
             "ticks": ""
            },
            "colorscale": [
             [
              0,
              "#0d0887"
             ],
             [
              0.1111111111111111,
              "#46039f"
             ],
             [
              0.2222222222222222,
              "#7201a8"
             ],
             [
              0.3333333333333333,
              "#9c179e"
             ],
             [
              0.4444444444444444,
              "#bd3786"
             ],
             [
              0.5555555555555556,
              "#d8576b"
             ],
             [
              0.6666666666666666,
              "#ed7953"
             ],
             [
              0.7777777777777778,
              "#fb9f3a"
             ],
             [
              0.8888888888888888,
              "#fdca26"
             ],
             [
              1,
              "#f0f921"
             ]
            ],
            "type": "contour"
           }
          ],
          "contourcarpet": [
           {
            "colorbar": {
             "outlinewidth": 0,
             "ticks": ""
            },
            "type": "contourcarpet"
           }
          ],
          "heatmap": [
           {
            "colorbar": {
             "outlinewidth": 0,
             "ticks": ""
            },
            "colorscale": [
             [
              0,
              "#0d0887"
             ],
             [
              0.1111111111111111,
              "#46039f"
             ],
             [
              0.2222222222222222,
              "#7201a8"
             ],
             [
              0.3333333333333333,
              "#9c179e"
             ],
             [
              0.4444444444444444,
              "#bd3786"
             ],
             [
              0.5555555555555556,
              "#d8576b"
             ],
             [
              0.6666666666666666,
              "#ed7953"
             ],
             [
              0.7777777777777778,
              "#fb9f3a"
             ],
             [
              0.8888888888888888,
              "#fdca26"
             ],
             [
              1,
              "#f0f921"
             ]
            ],
            "type": "heatmap"
           }
          ],
          "heatmapgl": [
           {
            "colorbar": {
             "outlinewidth": 0,
             "ticks": ""
            },
            "colorscale": [
             [
              0,
              "#0d0887"
             ],
             [
              0.1111111111111111,
              "#46039f"
             ],
             [
              0.2222222222222222,
              "#7201a8"
             ],
             [
              0.3333333333333333,
              "#9c179e"
             ],
             [
              0.4444444444444444,
              "#bd3786"
             ],
             [
              0.5555555555555556,
              "#d8576b"
             ],
             [
              0.6666666666666666,
              "#ed7953"
             ],
             [
              0.7777777777777778,
              "#fb9f3a"
             ],
             [
              0.8888888888888888,
              "#fdca26"
             ],
             [
              1,
              "#f0f921"
             ]
            ],
            "type": "heatmapgl"
           }
          ],
          "histogram": [
           {
            "marker": {
             "pattern": {
              "fillmode": "overlay",
              "size": 10,
              "solidity": 0.2
             }
            },
            "type": "histogram"
           }
          ],
          "histogram2d": [
           {
            "colorbar": {
             "outlinewidth": 0,
             "ticks": ""
            },
            "colorscale": [
             [
              0,
              "#0d0887"
             ],
             [
              0.1111111111111111,
              "#46039f"
             ],
             [
              0.2222222222222222,
              "#7201a8"
             ],
             [
              0.3333333333333333,
              "#9c179e"
             ],
             [
              0.4444444444444444,
              "#bd3786"
             ],
             [
              0.5555555555555556,
              "#d8576b"
             ],
             [
              0.6666666666666666,
              "#ed7953"
             ],
             [
              0.7777777777777778,
              "#fb9f3a"
             ],
             [
              0.8888888888888888,
              "#fdca26"
             ],
             [
              1,
              "#f0f921"
             ]
            ],
            "type": "histogram2d"
           }
          ],
          "histogram2dcontour": [
           {
            "colorbar": {
             "outlinewidth": 0,
             "ticks": ""
            },
            "colorscale": [
             [
              0,
              "#0d0887"
             ],
             [
              0.1111111111111111,
              "#46039f"
             ],
             [
              0.2222222222222222,
              "#7201a8"
             ],
             [
              0.3333333333333333,
              "#9c179e"
             ],
             [
              0.4444444444444444,
              "#bd3786"
             ],
             [
              0.5555555555555556,
              "#d8576b"
             ],
             [
              0.6666666666666666,
              "#ed7953"
             ],
             [
              0.7777777777777778,
              "#fb9f3a"
             ],
             [
              0.8888888888888888,
              "#fdca26"
             ],
             [
              1,
              "#f0f921"
             ]
            ],
            "type": "histogram2dcontour"
           }
          ],
          "mesh3d": [
           {
            "colorbar": {
             "outlinewidth": 0,
             "ticks": ""
            },
            "type": "mesh3d"
           }
          ],
          "parcoords": [
           {
            "line": {
             "colorbar": {
              "outlinewidth": 0,
              "ticks": ""
             }
            },
            "type": "parcoords"
           }
          ],
          "pie": [
           {
            "automargin": true,
            "type": "pie"
           }
          ],
          "scatter": [
           {
            "fillpattern": {
             "fillmode": "overlay",
             "size": 10,
             "solidity": 0.2
            },
            "type": "scatter"
           }
          ],
          "scatter3d": [
           {
            "line": {
             "colorbar": {
              "outlinewidth": 0,
              "ticks": ""
             }
            },
            "marker": {
             "colorbar": {
              "outlinewidth": 0,
              "ticks": ""
             }
            },
            "type": "scatter3d"
           }
          ],
          "scattercarpet": [
           {
            "marker": {
             "colorbar": {
              "outlinewidth": 0,
              "ticks": ""
             }
            },
            "type": "scattercarpet"
           }
          ],
          "scattergeo": [
           {
            "marker": {
             "colorbar": {
              "outlinewidth": 0,
              "ticks": ""
             }
            },
            "type": "scattergeo"
           }
          ],
          "scattergl": [
           {
            "marker": {
             "colorbar": {
              "outlinewidth": 0,
              "ticks": ""
             }
            },
            "type": "scattergl"
           }
          ],
          "scattermapbox": [
           {
            "marker": {
             "colorbar": {
              "outlinewidth": 0,
              "ticks": ""
             }
            },
            "type": "scattermapbox"
           }
          ],
          "scatterpolar": [
           {
            "marker": {
             "colorbar": {
              "outlinewidth": 0,
              "ticks": ""
             }
            },
            "type": "scatterpolar"
           }
          ],
          "scatterpolargl": [
           {
            "marker": {
             "colorbar": {
              "outlinewidth": 0,
              "ticks": ""
             }
            },
            "type": "scatterpolargl"
           }
          ],
          "scatterternary": [
           {
            "marker": {
             "colorbar": {
              "outlinewidth": 0,
              "ticks": ""
             }
            },
            "type": "scatterternary"
           }
          ],
          "surface": [
           {
            "colorbar": {
             "outlinewidth": 0,
             "ticks": ""
            },
            "colorscale": [
             [
              0,
              "#0d0887"
             ],
             [
              0.1111111111111111,
              "#46039f"
             ],
             [
              0.2222222222222222,
              "#7201a8"
             ],
             [
              0.3333333333333333,
              "#9c179e"
             ],
             [
              0.4444444444444444,
              "#bd3786"
             ],
             [
              0.5555555555555556,
              "#d8576b"
             ],
             [
              0.6666666666666666,
              "#ed7953"
             ],
             [
              0.7777777777777778,
              "#fb9f3a"
             ],
             [
              0.8888888888888888,
              "#fdca26"
             ],
             [
              1,
              "#f0f921"
             ]
            ],
            "type": "surface"
           }
          ],
          "table": [
           {
            "cells": {
             "fill": {
              "color": "#EBF0F8"
             },
             "line": {
              "color": "white"
             }
            },
            "header": {
             "fill": {
              "color": "#C8D4E3"
             },
             "line": {
              "color": "white"
             }
            },
            "type": "table"
           }
          ]
         },
         "layout": {
          "annotationdefaults": {
           "arrowcolor": "#2a3f5f",
           "arrowhead": 0,
           "arrowwidth": 1
          },
          "autotypenumbers": "strict",
          "coloraxis": {
           "colorbar": {
            "outlinewidth": 0,
            "ticks": ""
           }
          },
          "colorscale": {
           "diverging": [
            [
             0,
             "#8e0152"
            ],
            [
             0.1,
             "#c51b7d"
            ],
            [
             0.2,
             "#de77ae"
            ],
            [
             0.3,
             "#f1b6da"
            ],
            [
             0.4,
             "#fde0ef"
            ],
            [
             0.5,
             "#f7f7f7"
            ],
            [
             0.6,
             "#e6f5d0"
            ],
            [
             0.7,
             "#b8e186"
            ],
            [
             0.8,
             "#7fbc41"
            ],
            [
             0.9,
             "#4d9221"
            ],
            [
             1,
             "#276419"
            ]
           ],
           "sequential": [
            [
             0,
             "#0d0887"
            ],
            [
             0.1111111111111111,
             "#46039f"
            ],
            [
             0.2222222222222222,
             "#7201a8"
            ],
            [
             0.3333333333333333,
             "#9c179e"
            ],
            [
             0.4444444444444444,
             "#bd3786"
            ],
            [
             0.5555555555555556,
             "#d8576b"
            ],
            [
             0.6666666666666666,
             "#ed7953"
            ],
            [
             0.7777777777777778,
             "#fb9f3a"
            ],
            [
             0.8888888888888888,
             "#fdca26"
            ],
            [
             1,
             "#f0f921"
            ]
           ],
           "sequentialminus": [
            [
             0,
             "#0d0887"
            ],
            [
             0.1111111111111111,
             "#46039f"
            ],
            [
             0.2222222222222222,
             "#7201a8"
            ],
            [
             0.3333333333333333,
             "#9c179e"
            ],
            [
             0.4444444444444444,
             "#bd3786"
            ],
            [
             0.5555555555555556,
             "#d8576b"
            ],
            [
             0.6666666666666666,
             "#ed7953"
            ],
            [
             0.7777777777777778,
             "#fb9f3a"
            ],
            [
             0.8888888888888888,
             "#fdca26"
            ],
            [
             1,
             "#f0f921"
            ]
           ]
          },
          "colorway": [
           "#636efa",
           "#EF553B",
           "#00cc96",
           "#ab63fa",
           "#FFA15A",
           "#19d3f3",
           "#FF6692",
           "#B6E880",
           "#FF97FF",
           "#FECB52"
          ],
          "font": {
           "color": "#2a3f5f"
          },
          "geo": {
           "bgcolor": "white",
           "lakecolor": "white",
           "landcolor": "#E5ECF6",
           "showlakes": true,
           "showland": true,
           "subunitcolor": "white"
          },
          "hoverlabel": {
           "align": "left"
          },
          "hovermode": "closest",
          "mapbox": {
           "style": "light"
          },
          "paper_bgcolor": "white",
          "plot_bgcolor": "#E5ECF6",
          "polar": {
           "angularaxis": {
            "gridcolor": "white",
            "linecolor": "white",
            "ticks": ""
           },
           "bgcolor": "#E5ECF6",
           "radialaxis": {
            "gridcolor": "white",
            "linecolor": "white",
            "ticks": ""
           }
          },
          "scene": {
           "xaxis": {
            "backgroundcolor": "#E5ECF6",
            "gridcolor": "white",
            "gridwidth": 2,
            "linecolor": "white",
            "showbackground": true,
            "ticks": "",
            "zerolinecolor": "white"
           },
           "yaxis": {
            "backgroundcolor": "#E5ECF6",
            "gridcolor": "white",
            "gridwidth": 2,
            "linecolor": "white",
            "showbackground": true,
            "ticks": "",
            "zerolinecolor": "white"
           },
           "zaxis": {
            "backgroundcolor": "#E5ECF6",
            "gridcolor": "white",
            "gridwidth": 2,
            "linecolor": "white",
            "showbackground": true,
            "ticks": "",
            "zerolinecolor": "white"
           }
          },
          "shapedefaults": {
           "line": {
            "color": "#2a3f5f"
           }
          },
          "ternary": {
           "aaxis": {
            "gridcolor": "white",
            "linecolor": "white",
            "ticks": ""
           },
           "baxis": {
            "gridcolor": "white",
            "linecolor": "white",
            "ticks": ""
           },
           "bgcolor": "#E5ECF6",
           "caxis": {
            "gridcolor": "white",
            "linecolor": "white",
            "ticks": ""
           }
          },
          "title": {
           "x": 0.05
          },
          "xaxis": {
           "automargin": true,
           "gridcolor": "white",
           "linecolor": "white",
           "ticks": "",
           "title": {
            "standoff": 15
           },
           "zerolinecolor": "white",
           "zerolinewidth": 2
          },
          "yaxis": {
           "automargin": true,
           "gridcolor": "white",
           "linecolor": "white",
           "ticks": "",
           "title": {
            "standoff": 15
           },
           "zerolinecolor": "white",
           "zerolinewidth": 2
          }
         }
        },
        "title": {
         "text": "CLE"
        },
        "updatemenus": [
         {
          "active": 31,
          "buttons": [
           {
            "args": [
             {
              "visible": [
               true,
               false,
               false,
               false,
               false,
               false,
               false,
               false,
               false,
               false,
               false,
               false,
               false,
               false,
               false,
               false,
               false,
               false,
               false,
               false,
               false,
               false,
               false,
               false,
               false,
               false,
               false,
               false,
               false,
               false,
               false,
               false
              ]
             },
             {
              "showlegend": false,
              "title": "all_teams"
             }
            ],
            "label": "all_teams"
           },
           {
            "args": [
             {
              "visible": [
               false,
               true,
               false,
               false,
               false,
               false,
               false,
               false,
               false,
               false,
               false,
               false,
               false,
               false,
               false,
               false,
               false,
               false,
               false,
               false,
               false,
               false,
               false,
               false,
               false,
               false,
               false,
               false,
               false,
               false,
               false,
               false
              ]
             },
             {
              "showlegend": false,
              "title": "OKC"
             }
            ],
            "label": "OKC",
            "method": "update"
           },
           {
            "args": [
             {
              "visible": [
               false,
               false,
               true,
               false,
               false,
               false,
               false,
               false,
               false,
               false,
               false,
               false,
               false,
               false,
               false,
               false,
               false,
               false,
               false,
               false,
               false,
               false,
               false,
               false,
               false,
               false,
               false,
               false,
               false,
               false,
               false,
               false
              ]
             },
             {
              "showlegend": false,
              "title": "SAC"
             }
            ],
            "label": "SAC",
            "method": "update"
           },
           {
            "args": [
             {
              "visible": [
               false,
               false,
               false,
               true,
               false,
               false,
               false,
               false,
               false,
               false,
               false,
               false,
               false,
               false,
               false,
               false,
               false,
               false,
               false,
               false,
               false,
               false,
               false,
               false,
               false,
               false,
               false,
               false,
               false,
               false,
               false,
               false
              ]
             },
             {
              "showlegend": false,
              "title": "SAS"
             }
            ],
            "label": "SAS",
            "method": "update"
           },
           {
            "args": [
             {
              "visible": [
               false,
               false,
               false,
               false,
               true,
               false,
               false,
               false,
               false,
               false,
               false,
               false,
               false,
               false,
               false,
               false,
               false,
               false,
               false,
               false,
               false,
               false,
               false,
               false,
               false,
               false,
               false,
               false,
               false,
               false,
               false,
               false
              ]
             },
             {
              "showlegend": false,
              "title": "IND"
             }
            ],
            "label": "IND",
            "method": "update"
           },
           {
            "args": [
             {
              "visible": [
               false,
               false,
               false,
               false,
               false,
               true,
               false,
               false,
               false,
               false,
               false,
               false,
               false,
               false,
               false,
               false,
               false,
               false,
               false,
               false,
               false,
               false,
               false,
               false,
               false,
               false,
               false,
               false,
               false,
               false,
               false,
               false
              ]
             },
             {
              "showlegend": false,
              "title": "MEM"
             }
            ],
            "label": "MEM",
            "method": "update"
           },
           {
            "args": [
             {
              "visible": [
               false,
               false,
               false,
               false,
               false,
               false,
               true,
               false,
               false,
               false,
               false,
               false,
               false,
               false,
               false,
               false,
               false,
               false,
               false,
               false,
               false,
               false,
               false,
               false,
               false,
               false,
               false,
               false,
               false,
               false,
               false,
               false
              ]
             },
             {
              "showlegend": false,
              "title": "POR"
             }
            ],
            "label": "POR",
            "method": "update"
           },
           {
            "args": [
             {
              "visible": [
               false,
               false,
               false,
               false,
               false,
               false,
               false,
               true,
               false,
               false,
               false,
               false,
               false,
               false,
               false,
               false,
               false,
               false,
               false,
               false,
               false,
               false,
               false,
               false,
               false,
               false,
               false,
               false,
               false,
               false,
               false,
               false
              ]
             },
             {
              "showlegend": false,
              "title": "TOT"
             }
            ],
            "label": "TOT",
            "method": "update"
           },
           {
            "args": [
             {
              "visible": [
               false,
               false,
               false,
               false,
               false,
               false,
               false,
               false,
               true,
               false,
               false,
               false,
               false,
               false,
               false,
               false,
               false,
               false,
               false,
               false,
               false,
               false,
               false,
               false,
               false,
               false,
               false,
               false,
               false,
               false,
               false,
               false
              ]
             },
             {
              "showlegend": false,
              "title": "DAL"
             }
            ],
            "label": "DAL",
            "method": "update"
           },
           {
            "args": [
             {
              "visible": [
               false,
               false,
               false,
               false,
               false,
               false,
               false,
               false,
               false,
               true,
               false,
               false,
               false,
               false,
               false,
               false,
               false,
               false,
               false,
               false,
               false,
               false,
               false,
               false,
               false,
               false,
               false,
               false,
               false,
               false,
               false,
               false
              ]
             },
             {
              "showlegend": false,
              "title": "HOU"
             }
            ],
            "label": "HOU",
            "method": "update"
           },
           {
            "args": [
             {
              "visible": [
               false,
               false,
               false,
               false,
               false,
               false,
               false,
               false,
               false,
               false,
               true,
               false,
               false,
               false,
               false,
               false,
               false,
               false,
               false,
               false,
               false,
               false,
               false,
               false,
               false,
               false,
               false,
               false,
               false,
               false,
               false,
               false
              ]
             },
             {
              "showlegend": false,
              "title": "MIL"
             }
            ],
            "label": "MIL",
            "method": "update"
           },
           {
            "args": [
             {
              "visible": [
               false,
               false,
               false,
               false,
               false,
               false,
               false,
               false,
               false,
               false,
               false,
               true,
               false,
               false,
               false,
               false,
               false,
               false,
               false,
               false,
               false,
               false,
               false,
               false,
               false,
               false,
               false,
               false,
               false,
               false,
               false,
               false
              ]
             },
             {
              "showlegend": false,
              "title": "NYK"
             }
            ],
            "label": "NYK",
            "method": "update"
           },
           {
            "args": [
             {
              "visible": [
               false,
               false,
               false,
               false,
               false,
               false,
               false,
               false,
               false,
               false,
               false,
               false,
               true,
               false,
               false,
               false,
               false,
               false,
               false,
               false,
               false,
               false,
               false,
               false,
               false,
               false,
               false,
               false,
               false,
               false,
               false,
               false
              ]
             },
             {
              "showlegend": false,
              "title": "ORL"
             }
            ],
            "label": "ORL",
            "method": "update"
           },
           {
            "args": [
             {
              "visible": [
               false,
               false,
               false,
               false,
               false,
               false,
               false,
               false,
               false,
               false,
               false,
               false,
               false,
               true,
               false,
               false,
               false,
               false,
               false,
               false,
               false,
               false,
               false,
               false,
               false,
               false,
               false,
               false,
               false,
               false,
               false,
               false
              ]
             },
             {
              "showlegend": false,
              "title": "MIA"
             }
            ],
            "label": "MIA",
            "method": "update"
           },
           {
            "args": [
             {
              "visible": [
               false,
               false,
               false,
               false,
               false,
               false,
               false,
               false,
               false,
               false,
               false,
               false,
               false,
               false,
               true,
               false,
               false,
               false,
               false,
               false,
               false,
               false,
               false,
               false,
               false,
               false,
               false,
               false,
               false,
               false,
               false,
               false
              ]
             },
             {
              "showlegend": false,
              "title": "PHO"
             }
            ],
            "label": "PHO",
            "method": "update"
           },
           {
            "args": [
             {
              "visible": [
               false,
               false,
               false,
               false,
               false,
               false,
               false,
               false,
               false,
               false,
               false,
               false,
               false,
               false,
               false,
               true,
               false,
               false,
               false,
               false,
               false,
               false,
               false,
               false,
               false,
               false,
               false,
               false,
               false,
               false,
               false,
               false
              ]
             },
             {
              "showlegend": false,
              "title": "DEN"
             }
            ],
            "label": "DEN",
            "method": "update"
           },
           {
            "args": [
             {
              "visible": [
               false,
               false,
               false,
               false,
               false,
               false,
               false,
               false,
               false,
               false,
               false,
               false,
               false,
               false,
               false,
               false,
               true,
               false,
               false,
               false,
               false,
               false,
               false,
               false,
               false,
               false,
               false,
               false,
               false,
               false,
               false,
               false
              ]
             },
             {
              "showlegend": false,
              "title": "CHO"
             }
            ],
            "label": "CHO",
            "method": "update"
           },
           {
            "args": [
             {
              "visible": [
               false,
               false,
               false,
               false,
               false,
               false,
               false,
               false,
               false,
               false,
               false,
               false,
               false,
               false,
               false,
               false,
               false,
               true,
               false,
               false,
               false,
               false,
               false,
               false,
               false,
               false,
               false,
               false,
               false,
               false,
               false,
               false
              ]
             },
             {
              "showlegend": false,
              "title": "DET"
             }
            ],
            "label": "DET",
            "method": "update"
           },
           {
            "args": [
             {
              "visible": [
               false,
               false,
               false,
               false,
               false,
               false,
               false,
               false,
               false,
               false,
               false,
               false,
               false,
               false,
               false,
               false,
               false,
               false,
               true,
               false,
               false,
               false,
               false,
               false,
               false,
               false,
               false,
               false,
               false,
               false,
               false,
               false
              ]
             },
             {
              "showlegend": false,
              "title": "ATL"
             }
            ],
            "label": "ATL",
            "method": "update"
           },
           {
            "args": [
             {
              "visible": [
               false,
               false,
               false,
               false,
               false,
               false,
               false,
               false,
               false,
               false,
               false,
               false,
               false,
               false,
               false,
               false,
               false,
               false,
               false,
               true,
               false,
               false,
               false,
               false,
               false,
               false,
               false,
               false,
               false,
               false,
               false,
               false
              ]
             },
             {
              "showlegend": false,
              "title": "WAS"
             }
            ],
            "label": "WAS",
            "method": "update"
           },
           {
            "args": [
             {
              "visible": [
               false,
               false,
               false,
               false,
               false,
               false,
               false,
               false,
               false,
               false,
               false,
               false,
               false,
               false,
               false,
               false,
               false,
               false,
               false,
               false,
               true,
               false,
               false,
               false,
               false,
               false,
               false,
               false,
               false,
               false,
               false,
               false
              ]
             },
             {
              "showlegend": false,
              "title": "MIN"
             }
            ],
            "label": "MIN",
            "method": "update"
           },
           {
            "args": [
             {
              "visible": [
               false,
               false,
               false,
               false,
               false,
               false,
               false,
               false,
               false,
               false,
               false,
               false,
               false,
               false,
               false,
               false,
               false,
               false,
               false,
               false,
               false,
               true,
               false,
               false,
               false,
               false,
               false,
               false,
               false,
               false,
               false,
               false
              ]
             },
             {
              "showlegend": false,
              "title": "LAL"
             }
            ],
            "label": "LAL",
            "method": "update"
           },
           {
            "args": [
             {
              "visible": [
               false,
               false,
               false,
               false,
               false,
               false,
               false,
               false,
               false,
               false,
               false,
               false,
               false,
               false,
               false,
               false,
               false,
               false,
               false,
               false,
               false,
               false,
               true,
               false,
               false,
               false,
               false,
               false,
               false,
               false,
               false,
               false
              ]
             },
             {
              "showlegend": false,
              "title": "BRK"
             }
            ],
            "label": "BRK",
            "method": "update"
           },
           {
            "args": [
             {
              "visible": [
               false,
               false,
               false,
               false,
               false,
               false,
               false,
               false,
               false,
               false,
               false,
               false,
               false,
               false,
               false,
               false,
               false,
               false,
               false,
               false,
               false,
               false,
               false,
               true,
               false,
               false,
               false,
               false,
               false,
               false,
               false,
               false
              ]
             },
             {
              "showlegend": false,
              "title": "BOS"
             }
            ],
            "label": "BOS",
            "method": "update"
           },
           {
            "args": [
             {
              "visible": [
               false,
               false,
               false,
               false,
               false,
               false,
               false,
               false,
               false,
               false,
               false,
               false,
               false,
               false,
               false,
               false,
               false,
               false,
               false,
               false,
               false,
               false,
               false,
               false,
               true,
               false,
               false,
               false,
               false,
               false,
               false,
               false
              ]
             },
             {
              "showlegend": false,
              "title": "CHI"
             }
            ],
            "label": "CHI",
            "method": "update"
           },
           {
            "args": [
             {
              "visible": [
               false,
               false,
               false,
               false,
               false,
               false,
               false,
               false,
               false,
               false,
               false,
               false,
               false,
               false,
               false,
               false,
               false,
               false,
               false,
               false,
               false,
               false,
               false,
               false,
               false,
               true,
               false,
               false,
               false,
               false,
               false,
               false
              ]
             },
             {
              "showlegend": false,
              "title": "TOR"
             }
            ],
            "label": "TOR",
            "method": "update"
           },
           {
            "args": [
             {
              "visible": [
               false,
               false,
               false,
               false,
               false,
               false,
               false,
               false,
               false,
               false,
               false,
               false,
               false,
               false,
               false,
               false,
               false,
               false,
               false,
               false,
               false,
               false,
               false,
               false,
               false,
               false,
               true,
               false,
               false,
               false,
               false,
               false
              ]
             },
             {
              "showlegend": false,
              "title": "GSW"
             }
            ],
            "label": "GSW",
            "method": "update"
           },
           {
            "args": [
             {
              "visible": [
               false,
               false,
               false,
               false,
               false,
               false,
               false,
               false,
               false,
               false,
               false,
               false,
               false,
               false,
               false,
               false,
               false,
               false,
               false,
               false,
               false,
               false,
               false,
               false,
               false,
               false,
               false,
               true,
               false,
               false,
               false,
               false
              ]
             },
             {
              "showlegend": false,
              "title": "PHI"
             }
            ],
            "label": "PHI",
            "method": "update"
           },
           {
            "args": [
             {
              "visible": [
               false,
               false,
               false,
               false,
               false,
               false,
               false,
               false,
               false,
               false,
               false,
               false,
               false,
               false,
               false,
               false,
               false,
               false,
               false,
               false,
               false,
               false,
               false,
               false,
               false,
               false,
               false,
               false,
               true,
               false,
               false,
               false
              ]
             },
             {
              "showlegend": false,
              "title": "LAC"
             }
            ],
            "label": "LAC",
            "method": "update"
           },
           {
            "args": [
             {
              "visible": [
               false,
               false,
               false,
               false,
               false,
               false,
               false,
               false,
               false,
               false,
               false,
               false,
               false,
               false,
               false,
               false,
               false,
               false,
               false,
               false,
               false,
               false,
               false,
               false,
               false,
               false,
               false,
               false,
               false,
               true,
               false,
               false
              ]
             },
             {
              "showlegend": false,
              "title": "NOP"
             }
            ],
            "label": "NOP",
            "method": "update"
           },
           {
            "args": [
             {
              "visible": [
               false,
               false,
               false,
               false,
               false,
               false,
               false,
               false,
               false,
               false,
               false,
               false,
               false,
               false,
               false,
               false,
               false,
               false,
               false,
               false,
               false,
               false,
               false,
               false,
               false,
               false,
               false,
               false,
               false,
               false,
               true,
               false
              ]
             },
             {
              "showlegend": false,
              "title": "UTA"
             }
            ],
            "label": "UTA",
            "method": "update"
           },
           {
            "args": [
             {
              "visible": [
               false,
               false,
               false,
               false,
               false,
               false,
               false,
               false,
               false,
               false,
               false,
               false,
               false,
               false,
               false,
               false,
               false,
               false,
               false,
               false,
               false,
               false,
               false,
               false,
               false,
               false,
               false,
               false,
               false,
               false,
               false,
               true
              ]
             },
             {
              "showlegend": false,
              "title": "CLE"
             }
            ],
            "label": "CLE",
            "method": "update"
           }
          ],
          "direction": "down",
          "pad": {
           "r": 10,
           "t": 10
          },
          "showactive": true
         }
        ],
        "width": 1000,
        "xaxis": {
         "range": [
          0,
          50
         ],
         "tickvals": [
          5,
          10,
          15,
          20,
          25,
          30,
          35,
          40,
          45
         ],
         "title": {
          "text": "Points per 75 Possesions"
         },
         "type": "linear"
        },
        "yaxis": {
         "range": [
          37,
          71
         ],
         "tickvals": [
          38,
          43,
          48,
          53,
          58,
          63,
          68
         ],
         "title": {
          "text": "True Shooting"
         },
         "type": "linear"
        }
       }
      },
      "image/png": "[encoded data removed]",
      "text/html": [
       "<div>                            <div id=\"2b7634b6-636b-47f5-81f3-19b740755540\" class=\"plotly-graph-div\" style=\"height:800px; width:1000px;\"></div>            <script type=\"text/javascript\">                require([\"plotly\"], function(Plotly) {                    window.PLOTLYENV=window.PLOTLYENV || {};                                    if (document.getElementById(\"2b7634b6-636b-47f5-81f3-19b740755540\")) {                    Plotly.newPlot(                        \"2b7634b6-636b-47f5-81f3-19b740755540\",                        [{\"hovertemplate\":\"<b>%{text}</b><br><i>Points per 75</i>: %{x:.2f}<br>True Shooting: %{y}\",\"marker\":{\"autocolorscale\":true,\"cmax\":70.3,\"cmin\":38.7,\"color\":[56.00000000000001,58.9,55.900000000000006,53.2,48.5,49.3,50.6,53.7,52.1,52.5,58.3,59.9,53.5,54.800000000000004,52.400000000000006,56.3,45.6,50.9,52.1,54.1,51.4,50.1,54.7,52.900000000000006,56.99999999999999,50.4,60.4,58.4,56.599999999999994,60.9,54.6,54.6,52.6,56.00000000000001,56.3,58.5,57.199999999999996,53.1,55.400000000000006,54.800000000000004,49.1,49.1,55.50000000000001,50.7,53.900000000000006,53.2,58.599999999999994,51.9,63.800000000000004,53.0,54.2,43.7,55.800000000000004,70.3,54.50000000000001,52.900000000000006,38.7,57.49999999999999,52.6,56.99999999999999,60.4,56.2,56.2,53.400000000000006,60.199999999999996,52.5,61.3,58.599999999999994,60.099999999999994,62.4,53.1,57.99999999999999,56.3,64.5,54.900000000000006,45.6,50.1,47.0,55.2,49.4,55.50000000000001,58.099999999999994,57.49999999999999,51.800000000000004,57.9,57.3,43.2,65.10000000000001,56.49999999999999,51.4,58.4,58.099999999999994,50.1,52.1,58.8,51.2,60.3,49.6,53.300000000000004,54.1,48.6,55.50000000000001,50.6,50.4,59.9,61.199999999999996,62.2,51.0,50.8,55.400000000000006,57.8,55.900000000000006,58.699999999999996,54.300000000000004,54.900000000000006,53.2,68.10000000000001,53.0,55.7,59.3,55.60000000000001,56.599999999999994,55.50000000000001,53.7,52.2,60.099999999999994,50.5,56.89999999999999,55.00000000000001,56.8,61.3,56.99999999999999,66.2,54.900000000000006,61.1,55.800000000000004,56.8,47.699999999999996,56.2,59.5,52.900000000000006,55.00000000000001,59.199999999999996,56.39999999999999,45.0,54.1,50.3,60.0,63.0,59.9,52.7,53.2,54.900000000000006,51.7,61.1,52.2,55.300000000000004,62.7,56.599999999999994,56.89999999999999,55.60000000000001,62.4,54.6,55.300000000000004,60.4,47.4,57.99999999999999,51.0,61.9,52.6,57.4,47.9,50.8,53.7,62.8,56.39999999999999,54.2,43.6,53.5,44.800000000000004,64.0,51.5,51.800000000000004,52.300000000000004,67.30000000000001,51.800000000000004,50.2,52.800000000000004,54.6,50.2,63.5,59.099999999999994,67.7,56.00000000000001,53.300000000000004,55.00000000000001,50.9,53.1,57.599999999999994,55.1,55.900000000000006,61.3,55.300000000000004,61.0,50.7,55.1,55.60000000000001,47.599999999999994,47.3,58.599999999999994,56.599999999999994,56.8,57.8,51.1,57.3,62.3,53.6,46.400000000000006,51.800000000000004,53.300000000000004,58.099999999999994,54.0,58.5,50.4,55.400000000000006,55.50000000000001,64.2,50.6,53.800000000000004,56.699999999999996,65.0,56.99999999999999,59.199999999999996,57.8,54.2,54.6,57.199999999999996,53.7,50.8,54.0,50.5,55.300000000000004,48.3,56.599999999999994,51.800000000000004,59.599999999999994,56.699999999999996,54.400000000000006,49.1,62.2,68.2,52.900000000000006,52.800000000000004,51.5,55.2,54.6,53.400000000000006,60.3,51.6,58.8,56.3,51.4,54.2,61.4,52.0,55.800000000000004,55.2,62.8,54.50000000000001,54.6,58.8,55.2,51.300000000000004,54.300000000000004,49.0,59.9,57.8,49.3,54.50000000000001,51.0,56.39999999999999,48.4,46.1,53.0,55.00000000000001,55.800000000000004,53.6,46.6,53.900000000000006,50.5,51.800000000000004,46.9,50.8,47.699999999999996,53.300000000000004,51.9,49.5,53.6,52.300000000000004,50.4,48.6,47.699999999999996,48.4,59.8,60.3,58.4,54.0,57.4,51.5,54.50000000000001,60.0,62.5,51.6,48.199999999999996,59.199999999999996,59.4,59.5,61.8,51.6,51.7,49.1,58.5,47.4,60.099999999999994,49.2,52.5,49.8,50.8,50.7,56.89999999999999,54.1,53.900000000000006,50.7,57.099999999999994,55.400000000000006,48.699999999999996,57.9,53.400000000000006,54.7,54.1,53.300000000000004,53.7,59.3,60.9,55.1,58.8,56.2,60.4,50.3],\"colorbar\":{\"tickformatstops\":[{\"dtickrange\":[40,80]}],\"title\":{\"text\":\"Scoring Efficiency\"}},\"size\":[13.1875,29.8625,19.75,29.1875,10.8875,23.925,22.1625,15.35,8.875,12.75,26.45,35.5625,31.725,34.6625,19.225,13.3125,10.7125,12.0375,9.6375,35.0375,22.2125,17.0875,21.3125,32.7125,14.5375,24.5375,33.55,11.6875,22.225,10.1,25.725,22.4125,14.875,13.6375,27.2,26.0375,18.525,34.125,21.925,22.9375,16.0125,11.5375,24.775,11.175,16.7625,8.7875,35.1125,31.6125,19.3875,23.525,22.4875,10.575,17.7625,16.225,27.4625,21.7875,12.1625,14.2125,29.9625,25.7875,28.65,30.8125,23.6375,26.4875,28.175,26.9625,29.1875,20.6125,25.3625,32.975,14.7875,33.85,9.8625,16.625,17.7375,15.6,24.825,18.575,32.75,16.0375,33.1625,16.675,30.7375,30.1125,17.025,10.5125,16.6625,25.875,18.75,24.975,9.825,18.7625,9.85,15.35,16.2,14.825,13.0,21.25,14.9625,13.075,20.525,27.925,16.05,19.0625,19.1625,17.475,26.675,18.6875,14.0,31.6375,20.3375,12.6625,33.6125,24.8625,18.775,16.1375,34.3,28.725,29.0375,31.95,19.1375,18.625,12.85,22.5875,30.8875,26.2625,19.175,25.95,14.7125,26.925,36.8375,27.7875,13.3,13.5875,22.275,14.225,32.0875,18.425,9.9625,31.45,20.8375,14.0375,10.525,16.55,12.0,23.6,14.5125,9.0875,14.975,19.3,29.675,27.375,20.4875,22.0125,14.9125,19.9125,27.4125,27.4875,30.275,21.375,8.9,24.975,26.775,18.0875,24.65,28.4875,31.5625,17.8,34.925,11.6375,20.175,22.525,17.85,15.4,20.1,26.0625,23.0375,17.1375,27.225,10.125,25.475,15.875,15.8,9.675,32.125,25.0375,24.425,29.3625,21.925,14.25,21.9125,11.175,10.7375,17.7375,12.7,14.2875,12.25,9.2375,21.8625,21.65,30.7375,18.4625,19.5,30.925,15.275,24.3,15.4625,9.7125,9.4,33.675,11.0375,16.8125,27.775,28.3875,23.5625,28.05,14.875,14.475,15.0625,31.1875,22.3375,13.425,34.95,26.6625,18.85,13.475,9.2375,24.575,14.7,9.225,11.3125,11.1125,22.2,21.925,29.2875,20.9875,22.7875,22.75,32.0625,29.675,8.925,13.8,17.575,18.95,22.05,15.4625,18.025,25.5625,12.6875,13.0875,13.6,17.8,17.3875,10.0875,15.3625,14.175,27.775,19.225,20.0625,15.85,21.6,19.8375,19.9875,24.0125,30.15,26.85,18.95,32.5625,12.5,27.05,16.6625,17.1,12.2625,26.65,22.325,27.475,12.8875,20.175,25.675,29.7,17.8375,18.975,23.0375,26.025,24.4375,15.0875,9.35,15.7875,30.8625,12.875,22.6375,20.4,26.6125,8.9875,31.0625,19.95,10.1375,24.2125,10.7375,17.4,29.9875,24.4375,14.8375,13.35,29.2,16.075,27.35,33.2125,14.1625,21.6,17.0625,32.1125,12.1,9.4,33.1125,29.2,18.4625,37.875,27.95,20.3375,20.725,31.7625,14.0375,25.825,12.2,15.8125,27.0375,22.4,17.3,34.2375,35.45,25.6,12.65,10.675,35.025,20.5375,31.4125,38.1,8.85,20.7125,14.6375,10.05,24.925,17.5375,28.6875,19.45,27.9625,21.5625,10.5375]},\"mode\":\"markers\",\"name\":\"all_teams\",\"text\":[\"\\u00c1lex Abrines\",\"Steven Adams\",\"Arron Afflalo\",\"LaMarcus Aldridge\",\"Lavoy Allen\",\"Tony Allen\",\"Al-Farouq Aminu\",\"Justin Anderson\",\"Justin Anderson\",\"Kyle Anderson\",\"Ryan Anderson\",\"Giannis Antetokounmpo\",\"Carmelo Anthony\",\"Trevor Ariza\",\"D.J. Augustin\",\"Luke Babbitt\",\"Ron Baker\",\"Leandro Barbosa\",\"J.J. Barea\",\"Harrison Barnes\",\"Matt Barnes\",\"Matt Barnes\",\"Will Barton\",\"Nicolas Batum\",\"Aron Baynes\",\"Kent Bazemore\",\"Bradley Beal\",\"Michael Beasley\",\"Marco Belinelli\",\"D\\u0101vis Bert\\u0101ns\",\"Patrick Beverley\",\"Bismack Biyombo\",\"Nemanja Bjelica\",\"Tarik Black\",\"Eric Bledsoe\",\"Bojan Bogdanovi\\u0107\",\"Bojan Bogdanovi\\u0107\",\"Devin Booker\",\"Trevor Booker\",\"Avery Bradley\",\"Corey Brewer\",\"Corey Brewer\",\"Malcolm Brogdon\",\"Aaron Brooks\",\"Jaylen Brown\",\"Trey Burke\",\"Jimmy Butler\",\"Kentavious Caldwell-Pope\",\"Clint Capela\",\"DeMarre Carroll\",\"Vince Carter\",\"Michael Carter-Williams\",\"Willie Cauley-Stein\",\"Tyson Chandler\",\"Wilson Chandler\",\"Marquese Chriss\",\"Semaj Christon\",\"Ian Clark\",\"Jordan Clarkson\",\"Darren Collison\",\"Mike Conley\",\"DeMarcus Cousins\",\"DeMarcus Cousins\",\"Robert Covington\",\"Allen Crabbe\",\"Jamal Crawford\",\"Jae Crowder\",\"Dante Cunningham\",\"Seth Curry\",\"Stephen Curry\",\"Troy Daniels\",\"Anthony Davis\",\"Ed Davis\",\"Dewayne Dedmon\",\"Sam Dekker\",\"Malcolm Delaney\",\"Matthew Dellavedova\",\"Luol Deng\",\"DeMar DeRozan\",\"Boris Diaw\",\"Gorgui Dieng\",\"Spencer Dinwiddie\",\"Goran Dragi\\u0107\",\"Andre Drummond\",\"Jared Dudley\",\"Mike Dunleavy\",\"Kris Dunn\",\"Kevin Durant\",\"Wayne Ellington\",\"Monta Ellis\",\"Joel Embiid\",\"James Ennis III\",\"Tyreke Evans\",\"Dante Exum\",\"Kenneth Faried\",\"Derrick Favors\",\"Cristiano Fel\\u00edcio\",\"Raymond Felton\",\"Yogi Ferrell\",\"Yogi Ferrell\",\"Dorian Finney-Smith\",\"Evan Fournier\",\"Randy Foye\",\"Tim Frazier\",\"Enes Freedom\",\"Channing Frye\",\"Danilo Gallinari\",\"Langston Galloway\",\"Langston Galloway\",\"Marc Gasol\",\"Pau Gasol\",\"Rudy Gay\",\"Paul George\",\"Taj Gibson\",\"Taj Gibson\",\"Manu Gin\\u00f3bili*\",\"Rudy Gobert\",\"Aaron Gordon\",\"Eric Gordon\",\"Marcin Gortat\",\"Jerami Grant\",\"Jerami Grant\",\"Jerian Grant\",\"Danny Green\",\"Draymond Green\",\"JaMychal Green\",\"Jeff Green\",\"Blake Griffin\",\"Justin Hamilton\",\"Tim Hardaway Jr.\",\"James Harden\",\"Maurice Harkless\",\"Montrezl Harrell\",\"Devin Harris\",\"Gary Harris\",\"Joe Harris\",\"Tobias Harris\",\"Andrew Harrison\",\"Spencer Hawes\",\"Gordon Hayward\",\"Gerald Henderson\",\"John Henson\",\"Juancho Hernang\\u00f3mez\",\"Willy Hernang\\u00f3mez\",\"Mario Hezonja\",\"Buddy Hield\",\"Buddy Hield\",\"Buddy Hield\",\"Nen\\u00ea\",\"George Hill\",\"Solomon Hill\",\"Jrue Holiday\",\"Justin Holiday\",\"Rondae Hollis-Jefferson\",\"Richaun Holmes\",\"Rodney Hood\",\"Al Horford\",\"Dwight Howard\",\"Serge Ibaka\",\"Serge Ibaka\",\"Serge Ibaka\",\"Andre Iguodala\",\"Ersan \\u0130lyasova\",\"Ersan \\u0130lyasova\",\"Joe Ingles\",\"Brandon Ingram\",\"Kyrie Irving\",\"Reggie Jackson\",\"LeBron James\",\"Al Jefferson\",\"Richard Jefferson\",\"Brandon Jennings\",\"Brandon Jennings\",\"Jonas Jerebko\",\"Amir Johnson\",\"James Johnson\",\"Joe Johnson\",\"Stanley Johnson\",\"Tyler Johnson\",\"Wesley Johnson\",\"Nikola Joki\\u0107\",\"Terrence Jones\",\"Terrence Jones\",\"Tyus Jones\",\"DeAndre Jordan\",\"Cory Joseph\",\"Frank Kaminsky\",\"Michael Kidd-Gilchrist\",\"Sean Kilpatrick\",\"Brandon Knight\",\"Kyle Korver\",\"Kyle Korver\",\"Kyle Korver\",\"Kosta Koufos\",\"Mindaugas Kuzminskas\",\"Jeremy Lamb\",\"Joffrey Lauvergne\",\"Joffrey Lauvergne\",\"Zach LaVine\",\"Ty Lawson\",\"Courtney Lee\",\"David Lee\",\"Alex Len\",\"Kawhi Leonard\",\"Meyers Leonard\",\"Jon Leuer\",\"Caris LeVert\",\"DeAndre Liggins\",\"DeAndre Liggins\",\"Damian Lillard\",\"Jeremy Lin\",\"Shaun Livingston\",\"Brook Lopez\",\"Robin Lopez\",\"Kevin Love\",\"Kyle Lowry\",\"Timoth\\u00e9 Luwawu-Cabarrot\",\"Trey Lyles\",\"Shelvin Mack\",\"Wesley Matthews\",\"Luc Mbah a Moute\",\"Patrick McCaw\",\"CJ McCollum\",\"T.J. McConnell\",\"Doug McDermott\",\"Doug McDermott\",\"JaVale McGee\",\"Rodney McGruder\",\"Ben McLemore\",\"Jodie Meeks\",\"Salah Mejri\",\"Khris Middleton\",\"C.J. Miles\",\"Patty Mills\",\"Paul Millsap\",\"Nikola Miroti\\u0107\",\"Greg Monroe\",\"E'Twaun Moore\",\"Marcus Morris\",\"Markieff Morris\",\"Anthony Morrow\",\"Timofey Mozgov\",\"Emmanuel Mudiay\",\"Shabazz Muhammad\",\"Jamal Murray\",\"Mike Muscala\",\"Larry Nance Jr.\",\"Jameer Nelson\",\"Joakim Noah\",\"Nerlens Noel\",\"Lucas Nogueira\",\"Dirk Nowitzki\",\"Jusuf Nurki\\u0107\",\"Jusuf Nurki\\u0107\",\"Kyle O'Quinn\",\"Jahlil Okafor\",\"Victor Oladipo\",\"Kelly Olynyk\",\"Kelly Oubre Jr.\",\"Zaza Pachulia\",\"Jabari Parker\",\"Tony Parker\",\"Patrick Patterson\",\"Chris Paul\",\"Elfrid Payton\",\"Mason Plumlee\",\"Mason Plumlee\",\"Otto Porter Jr.\",\"Bobby Portis\",\"Kristaps Porzi\\u0146\\u0123is\",\"Dwight Powell\",\"Norman Powell\",\"Taurean Prince\",\"Julius Randle\",\"Zach Randolph\",\"J.J. Redick\",\"Willie Reed\",\"Josh Richardson\",\"Austin Rivers\",\"Andre Roberson\",\"Glenn Robinson III\",\"Sergio Rodr\\u00edguez\",\"Rajon Rondo\",\"Derrick Rose\",\"Terrence Ross\",\"Terrence Ross\",\"Terrence Ross\",\"Terry Rozier\",\"Ricky Rubio\",\"Brandon Rush\",\"D'Angelo Russell\",\"Domantas Sabonis\",\"Dario \\u0160ari\\u0107\",\"Tom\\u00e1\\u0161 Satoransk\\u00fd\",\"Dennis Schr\\u00f6der\",\"Thabo Sefolosha\",\"Ramon Sessions\",\"Iman Shumpert\",\"Pascal Siakam\",\"Jonathon Simmons\",\"Marcus Smart\",\"Ish Smith\",\"J.R. Smith\",\"Jason Smith\",\"Tony Snell\",\"Marreese Speights\",\"Nik Stauskas\",\"Jeff Teague\",\"Mirza Teletovi\\u0107\",\"Garrett Temple\",\"Jason Terry\",\"Isaiah Thomas\",\"Lance Thomas\",\"Hollis Thompson\",\"Klay Thompson\",\"Tristan Thompson\",\"Anthony Tolliver\",\"Karl-Anthony Towns\",\"P.J. Tucker\",\"P.J. Tucker\",\"Evan Turner\",\"Myles Turner\",\"Tyler Ulis\",\"Jonas Valan\\u010di\\u016bnas\",\"Denzel Valentine\",\"Noah Vonleh\",\"Nikola Vu\\u010devi\\u0107\",\"Dwyane Wade\",\"Dion Waiters\",\"Kemba Walker\",\"John Wall\",\"T.J. Warren\",\"C.J. Watson\",\"David West\",\"Russell Westbrook\",\"Isaiah Whitehead\",\"Hassan Whiteside\",\"Andrew Wiggins\",\"Alan Williams\",\"Deron Williams\",\"Deron Williams\",\"Derrick Williams\",\"Lou Williams\",\"Lou Williams\",\"Marvin Williams\",\"Nick Young\",\"Thaddeus Young\",\"Cody Zeller\",\"Paul Zipser\"],\"visible\":true,\"x\":[18.9,18.6,16.5,27.1,10.2,17.5,14.9,21.9,24.1,12.3,22.2,32.7,32.7,16.2,19.9,15.3,12.5,20.8,25.7,28.2,14.8,15.3,23.5,22.3,15.9,20.1,32.7,28.7,22.0,19.1,14.9,13.4,17.2,17.1,30.6,25.6,25.0,30.3,19.2,24.2,14.0,12.6,19.7,18.0,19.0,20.0,32.6,20.9,25.3,17.2,16.9,17.7,21.8,14.6,24.8,20.7,9.2,22.3,24.5,22.1,32.1,39.6,40.9,19.9,18.6,23.4,21.2,12.9,23.0,36.5,24.2,38.0,12.6,14.8,17.0,15.4,14.8,13.9,39.1,13.8,15.6,15.4,30.4,23.2,15.3,16.2,11.1,36.1,21.8,15.8,38.9,14.9,25.9,17.6,22.1,21.0,15.3,15.8,19.8,20.3,11.1,25.9,13.2,14.9,33.1,24.1,26.2,19.3,20.6,29.7,24.8,28.1,33.0,21.3,21.4,20.4,21.7,22.0,25.1,17.0,14.0,13.9,18.1,14.0,15.1,17.1,20.6,31.7,17.8,26.2,38.4,17.3,23.8,20.9,23.3,17.8,26.0,15.0,21.3,33.4,19.3,17.7,17.7,22.2,16.4,22.7,20.6,26.3,24.4,28.1,11.6,23.0,19.2,18.2,22.8,24.6,21.5,22.5,24.2,24.5,23.3,13.8,24.4,26.5,15.4,15.8,35.9,26.7,34.9,28.8,13.9,16.0,17.4,12.0,16.0,23.6,20.3,12.5,23.2,11.5,29.3,22.5,22.6,13.7,20.0,18.7,22.4,15.9,24.8,25.0,19.2,16.8,21.7,16.8,20.9,26.5,18.9,19.0,25.8,19.9,17.0,19.9,18.8,38.9,16.3,19.9,17.9,9.8,9.6,37.3,28.1,13.9,32.8,18.6,30.2,30.4,18.2,19.9,18.7,20.6,13.5,12.6,32.6,12.7,19.6,20.9,30.7,12.7,21.3,22.0,12.2,24.3,23.0,22.1,26.2,22.3,26.5,18.8,21.8,22.1,18.7,17.7,20.9,25.8,22.5,17.3,15.2,16.4,11.4,21.3,11.8,28.1,23.4,21.7,20.2,25.3,23.6,21.9,15.4,16.2,30.1,20.5,14.1,28.7,21.5,19.4,19.6,20.3,22.0,27.6,20.1,23.6,16.8,22.3,29.9,26.7,18.3,16.8,21.6,10.8,14.7,17.0,14.7,27.7,22.1,23.5,19.8,16.1,17.2,9.7,26.5,14.4,23.8,10.6,28.0,13.7,19.3,14.6,13.5,17.7,17.3,19.6,14.8,19.4,14.8,27.6,16.8,23.6,20.2,14.8,11.4,42.4,14.2,13.3,31.6,13.5,15.8,34.5,11.7,11.8,17.5,23.1,18.9,23.5,15.0,12.8,25.1,30.8,26.6,33.5,31.4,22.2,13.8,17.8,44.8,15.7,26.3,32.2,23.4,21.7,23.2,19.0,34.6,37.4,18.6,24.8,18.2,18.6,14.3],\"y\":[56.00000000000001,58.9,55.900000000000006,53.2,48.5,49.3,50.6,53.7,52.1,52.5,58.3,59.9,53.5,54.800000000000004,52.400000000000006,56.3,45.6,50.9,52.1,54.1,51.4,50.1,54.7,52.900000000000006,56.99999999999999,50.4,60.4,58.4,56.599999999999994,60.9,54.6,54.6,52.6,56.00000000000001,56.3,58.5,57.199999999999996,53.1,55.400000000000006,54.800000000000004,49.1,49.1,55.50000000000001,50.7,53.900000000000006,53.2,58.599999999999994,51.9,63.800000000000004,53.0,54.2,43.7,55.800000000000004,70.3,54.50000000000001,52.900000000000006,38.7,57.49999999999999,52.6,56.99999999999999,60.4,56.2,56.2,53.400000000000006,60.199999999999996,52.5,61.3,58.599999999999994,60.099999999999994,62.4,53.1,57.99999999999999,56.3,64.5,54.900000000000006,45.6,50.1,47.0,55.2,49.4,55.50000000000001,58.099999999999994,57.49999999999999,51.800000000000004,57.9,57.3,43.2,65.10000000000001,56.49999999999999,51.4,58.4,58.099999999999994,50.1,52.1,58.8,51.2,60.3,49.6,53.300000000000004,54.1,48.6,55.50000000000001,50.6,50.4,59.9,61.199999999999996,62.2,51.0,50.8,55.400000000000006,57.8,55.900000000000006,58.699999999999996,54.300000000000004,54.900000000000006,53.2,68.10000000000001,53.0,55.7,59.3,55.60000000000001,56.599999999999994,55.50000000000001,53.7,52.2,60.099999999999994,50.5,56.89999999999999,55.00000000000001,56.8,61.3,56.99999999999999,66.2,54.900000000000006,61.1,55.800000000000004,56.8,47.699999999999996,56.2,59.5,52.900000000000006,55.00000000000001,59.199999999999996,56.39999999999999,45.0,54.1,50.3,60.0,63.0,59.9,52.7,53.2,54.900000000000006,51.7,61.1,52.2,55.300000000000004,62.7,56.599999999999994,56.89999999999999,55.60000000000001,62.4,54.6,55.300000000000004,60.4,47.4,57.99999999999999,51.0,61.9,52.6,57.4,47.9,50.8,53.7,62.8,56.39999999999999,54.2,43.6,53.5,44.800000000000004,64.0,51.5,51.800000000000004,52.300000000000004,67.30000000000001,51.800000000000004,50.2,52.800000000000004,54.6,50.2,63.5,59.099999999999994,67.7,56.00000000000001,53.300000000000004,55.00000000000001,50.9,53.1,57.599999999999994,55.1,55.900000000000006,61.3,55.300000000000004,61.0,50.7,55.1,55.60000000000001,47.599999999999994,47.3,58.599999999999994,56.599999999999994,56.8,57.8,51.1,57.3,62.3,53.6,46.400000000000006,51.800000000000004,53.300000000000004,58.099999999999994,54.0,58.5,50.4,55.400000000000006,55.50000000000001,64.2,50.6,53.800000000000004,56.699999999999996,65.0,56.99999999999999,59.199999999999996,57.8,54.2,54.6,57.199999999999996,53.7,50.8,54.0,50.5,55.300000000000004,48.3,56.599999999999994,51.800000000000004,59.599999999999994,56.699999999999996,54.400000000000006,49.1,62.2,68.2,52.900000000000006,52.800000000000004,51.5,55.2,54.6,53.400000000000006,60.3,51.6,58.8,56.3,51.4,54.2,61.4,52.0,55.800000000000004,55.2,62.8,54.50000000000001,54.6,58.8,55.2,51.300000000000004,54.300000000000004,49.0,59.9,57.8,49.3,54.50000000000001,51.0,56.39999999999999,48.4,46.1,53.0,55.00000000000001,55.800000000000004,53.6,46.6,53.900000000000006,50.5,51.800000000000004,46.9,50.8,47.699999999999996,53.300000000000004,51.9,49.5,53.6,52.300000000000004,50.4,48.6,47.699999999999996,48.4,59.8,60.3,58.4,54.0,57.4,51.5,54.50000000000001,60.0,62.5,51.6,48.199999999999996,59.199999999999996,59.4,59.5,61.8,51.6,51.7,49.1,58.5,47.4,60.099999999999994,49.2,52.5,49.8,50.8,50.7,56.89999999999999,54.1,53.900000000000006,50.7,57.099999999999994,55.400000000000006,48.699999999999996,57.9,53.400000000000006,54.7,54.1,53.300000000000004,53.7,59.3,60.9,55.1,58.8,56.2,60.4,50.3],\"type\":\"scatter\"},{\"hovertemplate\":\"<b>%{text}</b><br><i>Points per 75</i>: %{x:.2f}<br>True Shooting: %{y}\",\"marker\":{\"autocolorscale\":true,\"cmax\":70.3,\"cmin\":38.7,\"color\":[56.00000000000001,58.9,38.7,59.9,56.599999999999994,53.1,53.400000000000006,51.0,46.9,55.400000000000006],\"colorbar\":{\"title\":{\"text\":\"Scoring Efficiency\"}},\"size\":[13.1875,29.8625,12.1625,19.1625,18.625,9.2375,27.775,29.7,20.4,35.025]},\"mode\":\"markers\",\"name\":\"OKC\",\"text\":[\"\\u00c1lex Abrines\",\"Steven Adams\",\"Semaj Christon\",\"Enes Freedom\",\"Jerami Grant\",\"Joffrey Lauvergne\",\"Victor Oladipo\",\"Andre Roberson\",\"Domantas Sabonis\",\"Russell Westbrook\"],\"visible\":false,\"x\":[18.9,18.6,9.2,33.1,13.9,19.0,23.6,10.8,14.4,44.8],\"y\":[56.00000000000001,58.9,38.7,59.9,56.599999999999994,53.1,53.400000000000006,51.0,46.9,55.400000000000006],\"type\":\"scatter\"},{\"hovertemplate\":\"<b>%{text}</b><br><i>Points per 75</i>: %{x:.2f}<br>True Shooting: %{y}\",\"marker\":{\"autocolorscale\":true,\"cmax\":70.3,\"cmin\":38.7,\"color\":[55.900000000000006,50.1,55.800000000000004,56.99999999999999,56.2,55.900000000000006,60.0,56.00000000000001,55.1,53.800000000000004,54.50000000000001,59.5],\"colorbar\":{\"title\":{\"text\":\"Scoring Efficiency\"}},\"size\":[19.75,17.0875,17.7625,25.7875,23.6375,12.6625,9.0875,17.7375,21.65,14.7,21.6,18.4625]},\"mode\":\"markers\",\"name\":\"SAC\",\"text\":[\"Arron Afflalo\",\"Matt Barnes\",\"Willie Cauley-Stein\",\"Darren Collison\",\"DeMarcus Cousins\",\"Rudy Gay\",\"Buddy Hield\",\"Kosta Koufos\",\"Ty Lawson\",\"Ben McLemore\",\"Garrett Temple\",\"Anthony Tolliver\"],\"visible\":false,\"x\":[16.5,15.3,21.8,22.1,40.9,28.1,26.3,16.8,19.9,21.3,14.8,15.8],\"y\":[55.900000000000006,50.1,55.800000000000004,56.99999999999999,56.2,55.900000000000006,60.0,56.00000000000001,55.1,53.800000000000004,54.50000000000001,59.5],\"type\":\"scatter\"},{\"hovertemplate\":\"<b>%{text}</b><br><i>Points per 75</i>: %{x:.2f}<br>True Shooting: %{y}\",\"marker\":{\"autocolorscale\":true,\"cmax\":70.3,\"cmin\":38.7,\"color\":[53.2,52.5,60.9,64.5,57.8,53.2,53.7,61.3,61.0,57.8,51.4,50.4],\"colorbar\":{\"title\":{\"text\":\"Scoring Efficiency\"}},\"size\":[29.1875,12.75,10.1,16.625,20.3375,16.1375,22.5875,18.4625,30.925,21.925,19.8375,17.4]},\"mode\":\"markers\",\"name\":\"SAS\",\"text\":[\"LaMarcus Aldridge\",\"Kyle Anderson\",\"D\\u0101vis Bert\\u0101ns\",\"Dewayne Dedmon\",\"Pau Gasol\",\"Manu Gin\\u00f3bili*\",\"Danny Green\",\"David Lee\",\"Kawhi Leonard\",\"Patty Mills\",\"Tony Parker\",\"Jonathon Simmons\"],\"visible\":false,\"x\":[27.1,12.3,19.1,14.8,24.8,20.4,14.0,19.9,38.9,22.1,20.5,17.7],\"y\":[53.2,52.5,60.9,64.5,57.8,53.2,53.7,61.3,61.0,57.8,51.4,50.4],\"type\":\"scatter\"},{\"hovertemplate\":\"<b>%{text}</b><br><i>Points per 75</i>: %{x:.2f}<br>True Shooting: %{y}\",\"marker\":{\"autocolorscale\":true,\"cmax\":70.3,\"cmin\":38.7,\"color\":[48.5,50.7,51.4,58.699999999999996,52.6,59.199999999999996,56.39999999999999,57.4,58.5,56.2],\"colorbar\":{\"title\":{\"text\":\"Scoring Efficiency\"}},\"size\":[10.8875,11.175,24.975,33.6125,11.6375,22.2,17.8375,33.2125,31.7625,27.9625]},\"mode\":\"markers\",\"name\":\"IND\",\"text\":[\"Lavoy Allen\",\"Aaron Brooks\",\"Monta Ellis\",\"Paul George\",\"Al Jefferson\",\"C.J. Miles\",\"Glenn Robinson III\",\"Jeff Teague\",\"Myles Turner\",\"Thaddeus Young\"],\"visible\":false,\"x\":[10.2,18.0,15.8,33.0,28.8,23.0,14.7,23.6,23.1,18.2],\"y\":[48.5,50.7,51.4,58.699999999999996,52.6,59.199999999999996,56.39999999999999,57.4,58.5,56.2],\"type\":\"scatter\"},{\"hovertemplate\":\"<b>%{text}</b><br><i>Points per 75</i>: %{x:.2f}<br>True Shooting: %{y}\",\"marker\":{\"autocolorscale\":true,\"cmax\":70.3,\"cmin\":38.7,\"color\":[49.3,54.2,60.4,53.1,58.099999999999994,55.400000000000006,60.099999999999994,47.699999999999996,49.0],\"colorbar\":{\"title\":{\"text\":\"Scoring Efficiency\"}},\"size\":[23.925,22.4875,28.65,14.7875,18.7625,31.6375,26.2625,18.425,22.325]},\"mode\":\"markers\",\"name\":\"MEM\",\"text\":[\"Tony Allen\",\"Vince Carter\",\"Mike Conley\",\"Troy Daniels\",\"James Ennis III\",\"Marc Gasol\",\"JaMychal Green\",\"Andrew Harrison\",\"Zach Randolph\"],\"visible\":false,\"x\":[17.5,16.9,32.1,24.2,14.9,29.7,17.1,15.0,29.9],\"y\":[49.3,54.2,60.4,53.1,58.099999999999994,55.400000000000006,60.099999999999994,47.699999999999996,49.0],\"type\":\"scatter\"},{\"hovertemplate\":\"<b>%{text}</b><br><i>Points per 75</i>: %{x:.2f}<br>True Shooting: %{y}\",\"marker\":{\"autocolorscale\":true,\"cmax\":70.3,\"cmin\":38.7,\"color\":[50.6,60.199999999999996,56.3,56.99999999999999,50.7,58.599999999999994,58.5,55.2,49.1,52.5],\"colorbar\":{\"title\":{\"text\":\"Scoring Efficiency\"}},\"size\":[22.1625,28.175,9.8625,27.7875,15.275,33.675,34.95,18.95,20.725,15.8125]},\"mode\":\"markers\",\"name\":\"POR\",\"text\":[\"Al-Farouq Aminu\",\"Allen Crabbe\",\"Ed Davis\",\"Maurice Harkless\",\"Meyers Leonard\",\"Damian Lillard\",\"CJ McCollum\",\"Mason Plumlee\",\"Evan Turner\",\"Noah Vonleh\"],\"visible\":false,\"x\":[14.9,18.6,12.6,17.3,16.3,37.3,32.6,19.6,17.5,12.8],\"y\":[50.6,60.199999999999996,56.3,56.99999999999999,50.7,58.599999999999994,58.5,55.2,49.1,52.5],\"type\":\"scatter\"},{\"hovertemplate\":\"<b>%{text}</b><br><i>Points per 75</i>: %{x:.2f}<br>True Shooting: %{y}\",\"marker\":{\"autocolorscale\":true,\"cmax\":70.3,\"cmin\":38.7,\"color\":[53.7,51.4,58.5,49.1,56.2,57.3,50.1,53.300000000000004,51.0,54.300000000000004,55.60000000000001,56.2,54.1,56.599999999999994,54.6,47.9,51.5,63.5,50.9,47.599999999999994,55.400000000000006,50.5,62.2,52.800000000000004,55.800000000000004,55.00000000000001,48.199999999999996,51.6,54.1,53.7,59.3],\"colorbar\":{\"title\":{\"text\":\"Scoring Efficiency\"}},\"size\":[15.35,22.2125,26.0375,16.0125,30.8125,10.5125,9.85,14.9625,18.6875,24.8625,19.1375,9.9625,23.6,30.275,26.775,22.525,15.875,21.9125,12.25,9.7125,18.85,8.925,13.0875,17.3875,26.85,24.4375,9.4,27.95,20.7125,10.05,24.925]},\"mode\":\"markers\",\"name\":\"TOT\",\"text\":[\"Justin Anderson\",\"Matt Barnes\",\"Bojan Bogdanovi\\u0107\",\"Corey Brewer\",\"DeMarcus Cousins\",\"Mike Dunleavy\",\"Tyreke Evans\",\"Yogi Ferrell\",\"Langston Galloway\",\"Taj Gibson\",\"Jerami Grant\",\"Spencer Hawes\",\"Buddy Hield\",\"Serge Ibaka\",\"Ersan \\u0130lyasova\",\"Brandon Jennings\",\"Terrence Jones\",\"Kyle Korver\",\"Joffrey Lauvergne\",\"DeAndre Liggins\",\"Doug McDermott\",\"Anthony Morrow\",\"Nerlens Noel\",\"Jusuf Nurki\\u0107\",\"Mason Plumlee\",\"Terrence Ross\",\"Hollis Thompson\",\"P.J. Tucker\",\"Deron Williams\",\"Derrick Williams\",\"Lou Williams\"],\"visible\":false,\"x\":[21.9,14.8,25.6,14.0,39.6,16.2,25.9,19.8,19.3,21.3,14.0,21.3,22.7,24.2,24.4,16.0,22.5,19.2,18.9,9.8,19.6,18.7,21.3,23.4,19.4,22.1,13.3,11.7,21.7,19.0,34.6],\"y\":[53.7,51.4,58.5,49.1,56.2,57.3,50.1,53.300000000000004,51.0,54.300000000000004,55.60000000000001,56.2,54.1,56.599999999999994,54.6,47.9,51.5,63.5,50.9,47.599999999999994,55.400000000000006,50.5,62.2,52.800000000000004,55.800000000000004,55.00000000000001,48.199999999999996,51.6,54.1,53.7,59.3],\"type\":\"scatter\"},{\"hovertemplate\":\"<b>%{text}</b><br><i>Points per 75</i>: %{x:.2f}<br>True Shooting: %{y}\",\"marker\":{\"autocolorscale\":true,\"cmax\":70.3,\"cmin\":38.7,\"color\":[52.1,52.1,54.1,60.099999999999994,54.1,48.6,54.900000000000006,53.300000000000004,65.0,52.900000000000006,58.8,53.300000000000004],\"colorbar\":{\"title\":{\"text\":\"Scoring Efficiency\"}},\"size\":[8.875,9.6375,35.0375,25.3625,13.075,20.525,13.5875,31.1875,11.3125,17.8,16.6625,14.6375]},\"mode\":\"markers\",\"name\":\"DAL\",\"text\":[\"Justin Anderson\",\"J.J. Barea\",\"Harrison Barnes\",\"Seth Curry\",\"Yogi Ferrell\",\"Dorian Finney-Smith\",\"Devin Harris\",\"Wesley Matthews\",\"Salah Mejri\",\"Dirk Nowitzki\",\"Dwight Powell\",\"Deron Williams\"],\"visible\":false,\"x\":[24.1,25.7,28.2,23.0,20.3,11.1,20.9,20.6,12.2,28.1,20.1,23.2],\"y\":[52.1,52.1,54.1,60.099999999999994,54.1,48.6,54.900000000000006,53.300000000000004,65.0,52.900000000000006,58.8,53.300000000000004],\"type\":\"scatter\"},{\"hovertemplate\":\"<b>%{text}</b><br><i>Points per 75</i>: %{x:.2f}<br>True Shooting: %{y}\",\"marker\":{\"autocolorscale\":true,\"cmax\":70.3,\"cmin\":38.7,\"color\":[58.3,54.800000000000004,54.6,49.1,63.800000000000004,54.900000000000006,55.7,61.3,66.2,63.0],\"colorbar\":{\"title\":{\"text\":\"Scoring Efficiency\"}},\"size\":[26.45,34.6625,25.725,11.5375,19.3875,17.7375,29.0375,36.8375,13.3,14.975]},\"mode\":\"markers\",\"name\":\"HOU\",\"text\":[\"Ryan Anderson\",\"Trevor Ariza\",\"Patrick Beverley\",\"Corey Brewer\",\"Clint Capela\",\"Sam Dekker\",\"Eric Gordon\",\"James Harden\",\"Montrezl Harrell\",\"Nen\\u00ea\"],\"visible\":false,\"x\":[22.2,16.2,14.9,12.6,25.3,17.0,25.1,38.4,23.8,24.4],\"y\":[58.3,54.800000000000004,54.6,49.1,63.800000000000004,54.900000000000006,55.7,61.3,66.2,63.0],\"type\":\"scatter\"},{\"hovertemplate\":\"<b>%{text}</b><br><i>Points per 75</i>: %{x:.2f}<br>True Shooting: %{y}\",\"marker\":{\"autocolorscale\":true,\"cmax\":70.3,\"cmin\":38.7,\"color\":[59.9,58.4,55.50000000000001,50.1,55.00000000000001,56.99999999999999,57.199999999999996,56.3,60.3,51.5,60.0],\"colorbar\":{\"title\":{\"text\":\"Scoring Efficiency\"}},\"size\":[35.5625,11.6875,24.775,24.825,14.0375,11.1125,22.7875,21.6,29.2,14.1625,17.0625]},\"mode\":\"markers\",\"name\":\"MIL\",\"text\":[\"Giannis Antetokounmpo\",\"Michael Beasley\",\"Malcolm Brogdon\",\"Matthew Dellavedova\",\"John Henson\",\"Khris Middleton\",\"Greg Monroe\",\"Jabari Parker\",\"Tony Snell\",\"Mirza Teletovi\\u0107\",\"Jason Terry\"],\"visible\":false,\"x\":[32.7,28.7,19.7,14.8,17.7,24.3,26.5,30.1,14.8,20.2,11.4],\"y\":[59.9,58.4,55.50000000000001,50.1,55.00000000000001,56.99999999999999,57.199999999999996,56.3,60.3,51.5,60.0],\"type\":\"scatter\"},{\"hovertemplate\":\"<b>%{text}</b><br><i>Points per 75</i>: %{x:.2f}<br>True Shooting: %{y}\",\"marker\":{\"autocolorscale\":true,\"cmax\":70.3,\"cmin\":38.7,\"color\":[53.5,45.6,56.39999999999999,54.900000000000006,50.8,53.300000000000004,55.900000000000006,49.1,55.2,54.6,53.0,51.6],\"colorbar\":{\"title\":{\"text\":\"Scoring Efficiency\"}},\"size\":[31.725,10.7125,16.55,20.4875,17.85,12.7,30.7375,12.6875,15.3625,27.05,26.025,12.1]},\"mode\":\"markers\",\"name\":\"NYK\",\"text\":[\"Carmelo Anthony\",\"Ron Baker\",\"Willy Hernang\\u00f3mez\",\"Justin Holiday\",\"Brandon Jennings\",\"Mindaugas Kuzminskas\",\"Courtney Lee\",\"Joakim Noah\",\"Kyle O'Quinn\",\"Kristaps Porzi\\u0146\\u0123is\",\"Derrick Rose\",\"Lance Thomas\"],\"visible\":false,\"x\":[32.7,12.5,22.2,19.2,17.4,20.9,17.0,11.4,20.2,27.6,27.7,14.2],\"y\":[53.5,45.6,56.39999999999999,54.900000000000006,50.8,53.300000000000004,55.900000000000006,49.1,55.2,54.6,53.0,51.6],\"type\":\"scatter\"},{\"hovertemplate\":\"<b>%{text}</b><br><i>Points per 75</i>: %{x:.2f}<br>True Shooting: %{y}\",\"marker\":{\"autocolorscale\":true,\"cmax\":70.3,\"cmin\":38.7,\"color\":[52.400000000000006,54.6,55.50000000000001,53.0,50.5,45.0,56.89999999999999,56.699999999999996,52.0,53.6,49.8,50.7],\"colorbar\":{\"title\":{\"text\":\"Scoring Efficiency\"}},\"size\":[19.225,22.4125,27.925,28.725,19.175,12.0,21.375,9.225,30.15,9.35,27.0375,12.65]},\"mode\":\"markers\",\"name\":\"ORL\",\"text\":[\"D.J. Augustin\",\"Bismack Biyombo\",\"Evan Fournier\",\"Aaron Gordon\",\"Jeff Green\",\"Mario Hezonja\",\"Serge Ibaka\",\"Jodie Meeks\",\"Elfrid Payton\",\"Terrence Ross\",\"Nikola Vu\\u010devi\\u0107\",\"C.J. Watson\"],\"visible\":false,\"x\":[19.9,13.4,25.9,22.0,20.6,16.4,24.5,22.0,21.5,19.8,25.1,13.8],\"y\":[52.400000000000006,54.6,55.50000000000001,53.0,50.5,45.0,56.89999999999999,56.699999999999996,52.0,53.6,49.8,50.7],\"type\":\"scatter\"},{\"hovertemplate\":\"<b>%{text}</b><br><i>Points per 75</i>: %{x:.2f}<br>True Shooting: %{y}\",\"marker\":{\"autocolorscale\":true,\"cmax\":70.3,\"cmin\":38.7,\"color\":[56.3,57.49999999999999,56.49999999999999,56.39999999999999,53.5,50.6,57.8,49.3,50.7,57.9],\"colorbar\":{\"title\":{\"text\":\"Scoring Efficiency\"}},\"size\":[13.3125,30.7375,18.75,26.0625,27.225,24.575,12.8875,20.175,17.3,31.4125]},\"mode\":\"markers\",\"name\":\"MIA\",\"text\":[\"Luke Babbitt\",\"Goran Dragi\\u0107\",\"Wayne Ellington\",\"James Johnson\",\"Tyler Johnson\",\"Rodney McGruder\",\"Willie Reed\",\"Josh Richardson\",\"Dion Waiters\",\"Hassan Whiteside\"],\"visible\":false,\"x\":[15.3,30.4,21.8,23.6,23.2,12.7,18.3,16.8,26.6,26.3],\"y\":[56.3,57.49999999999999,56.49999999999999,56.39999999999999,53.5,50.6,57.8,49.3,50.7,57.9],\"type\":\"scatter\"},{\"hovertemplate\":\"<b>%{text}</b><br><i>Points per 75</i>: %{x:.2f}<br>True Shooting: %{y}\",\"marker\":{\"autocolorscale\":true,\"cmax\":70.3,\"cmin\":38.7,\"color\":[50.9,56.3,53.1,70.3,52.900000000000006,57.9,50.2,55.300000000000004,51.7,47.4,53.900000000000006,54.7],\"colorbar\":{\"title\":{\"text\":\"Scoring Efficiency\"}},\"size\":[12.0375,27.2,34.125,16.225,21.7875,17.025,14.25,19.5,20.3375,14.0375,25.6,8.85]},\"mode\":\"markers\",\"name\":\"PHO\",\"text\":[\"Leandro Barbosa\",\"Eric Bledsoe\",\"Devin Booker\",\"Tyson Chandler\",\"Marquese Chriss\",\"Jared Dudley\",\"Brandon Knight\",\"Alex Len\",\"P.J. Tucker\",\"Tyler Ulis\",\"T.J. Warren\",\"Alan Williams\"],\"visible\":false,\"x\":[20.8,30.6,30.3,14.6,20.7,15.3,25.0,18.8,11.8,18.9,22.2,23.4],\"y\":[50.9,56.3,53.1,70.3,52.900000000000006,57.9,50.2,55.300000000000004,51.7,47.4,53.900000000000006,54.7],\"type\":\"scatter\"},{\"hovertemplate\":\"<b>%{text}</b><br><i>Points per 75</i>: %{x:.2f}<br>True Shooting: %{y}\",\"marker\":{\"autocolorscale\":true,\"cmax\":70.3,\"cmin\":38.7,\"color\":[54.7,54.50000000000001,58.8,62.2,61.1,59.199999999999996,64.0,48.3,51.800000000000004,54.400000000000006,51.5],\"colorbar\":{\"title\":{\"text\":\"Scoring Efficiency\"}},\"size\":[21.3125,27.4625,16.2,26.675,22.275,10.525,25.475,17.575,22.05,25.5625,10.0875]},\"mode\":\"markers\",\"name\":\"DEN\",\"text\":[\"Will Barton\",\"Wilson Chandler\",\"Kenneth Faried\",\"Danilo Gallinari\",\"Gary Harris\",\"Juancho Hernang\\u00f3mez\",\"Nikola Joki\\u0107\",\"Emmanuel Mudiay\",\"Jamal Murray\",\"Jameer Nelson\",\"Jusuf Nurki\\u0107\"],\"visible\":false,\"x\":[23.5,24.8,22.1,26.2,23.3,17.7,29.3,20.9,22.5,16.4,21.7],\"y\":[54.7,54.50000000000001,58.8,62.2,61.1,59.199999999999996,64.0,48.3,51.800000000000004,54.400000000000006,51.5],\"type\":\"scatter\"},{\"hovertemplate\":\"<b>%{text}</b><br><i>Points per 75</i>: %{x:.2f}<br>True Shooting: %{y}\",\"marker\":{\"autocolorscale\":true,\"cmax\":70.3,\"cmin\":38.7,\"color\":[52.900000000000006,56.599999999999994,50.2,52.800000000000004,55.00000000000001,49.5,56.89999999999999,55.1,60.4],\"colorbar\":{\"title\":{\"text\":\"Scoring Efficiency\"}},\"size\":[32.7125,22.225,24.425,29.3625,14.2875,10.1375,34.2375,28.6875,21.5625]},\"mode\":\"markers\",\"name\":\"CHO\",\"text\":[\"Nicolas Batum\",\"Marco Belinelli\",\"Frank Kaminsky\",\"Michael Kidd-Gilchrist\",\"Jeremy Lamb\",\"Ramon Sessions\",\"Kemba Walker\",\"Marvin Williams\",\"Cody Zeller\"],\"visible\":false,\"x\":[22.3,22.0,22.4,15.9,26.5,19.3,33.5,18.6,18.6],\"y\":[52.900000000000006,56.599999999999994,50.2,52.800000000000004,55.00000000000001,49.5,56.89999999999999,55.1,60.4],\"type\":\"scatter\"},{\"hovertemplate\":\"<b>%{text}</b><br><i>Points per 75</i>: %{x:.2f}<br>True Shooting: %{y}\",\"marker\":{\"autocolorscale\":true,\"cmax\":70.3,\"cmin\":38.7,\"color\":[56.99999999999999,51.9,51.800000000000004,56.8,51.0,43.6,55.1,50.8,47.699999999999996],\"colorbar\":{\"title\":{\"text\":\"Scoring Efficiency\"}},\"size\":[14.5375,31.6125,30.1125,32.0875,17.8,17.1375,24.3,32.0625,24.4375]},\"mode\":\"markers\",\"name\":\"DET\",\"text\":[\"Aron Baynes\",\"Kentavious Caldwell-Pope\",\"Andre Drummond\",\"Tobias Harris\",\"Reggie Jackson\",\"Stanley Johnson\",\"Jon Leuer\",\"Marcus Morris\",\"Ish Smith\"],\"visible\":false,\"x\":[15.9,20.9,23.2,26.0,26.7,12.5,19.9,21.8,19.6],\"y\":[56.99999999999999,51.9,51.800000000000004,56.8,51.0,43.6,55.1,50.8,47.699999999999996],\"type\":\"scatter\"},{\"hovertemplate\":\"<b>%{text}</b><br><i>Points per 75</i>: %{x:.2f}<br>True Shooting: %{y}\",\"marker\":{\"autocolorscale\":true,\"cmax\":70.3,\"cmin\":38.7,\"color\":[50.4,45.6,56.8,62.7,59.099999999999994,54.2,59.599999999999994,51.300000000000004,53.300000000000004,51.9],\"colorbar\":{\"title\":{\"text\":\"Scoring Efficiency\"}},\"size\":[24.5375,15.6,26.925,27.4875,11.175,29.2875,15.4625,12.2625,31.0625,19.95]},\"mode\":\"markers\",\"name\":\"ATL\",\"text\":[\"Kent Bazemore\",\"Malcolm Delaney\",\"Tim Hardaway Jr.\",\"Dwight Howard\",\"Kyle Korver\",\"Paul Millsap\",\"Mike Muscala\",\"Taurean Prince\",\"Dennis Schr\\u00f6der\",\"Thabo Sefolosha\"],\"visible\":false,\"x\":[20.1,15.4,26.2,22.5,16.8,26.2,17.3,16.8,28.0,13.7],\"y\":[50.4,45.6,56.8,62.7,59.099999999999994,54.2,59.599999999999994,51.300000000000004,53.300000000000004,51.9],\"type\":\"scatter\"},{\"hovertemplate\":\"<b>%{text}</b><br><i>Points per 75</i>: %{x:.2f}<br>True Shooting: %{y}\",\"marker\":{\"autocolorscale\":true,\"cmax\":70.3,\"cmin\":38.7,\"color\":[60.4,53.2,59.3,54.0,51.6,62.8,47.699999999999996,59.8,54.1],\"colorbar\":{\"title\":{\"text\":\"Scoring Efficiency\"}},\"size\":[33.55,8.7875,31.95,29.675,20.0625,32.5625,8.9875,13.35,35.45]},\"mode\":\"markers\",\"name\":\"WAS\",\"text\":[\"Bradley Beal\",\"Trey Burke\",\"Marcin Gortat\",\"Markieff Morris\",\"Kelly Oubre Jr.\",\"Otto Porter Jr.\",\"Tom\\u00e1\\u0161 Satoransk\\u00fd\",\"Jason Smith\",\"John Wall\"],\"visible\":false,\"x\":[32.7,20.0,17.0,22.1,15.4,20.3,10.6,19.4,31.4],\"y\":[60.4,53.2,59.3,54.0,51.6,62.8,47.699999999999996,59.8,54.1],\"type\":\"scatter\"},{\"hovertemplate\":\"<b>%{text}</b><br><i>Points per 75</i>: %{x:.2f}<br>True Shooting: %{y}\",\"marker\":{\"autocolorscale\":true,\"cmax\":70.3,\"cmin\":38.7,\"color\":[52.6,55.50000000000001,43.2,52.300000000000004,57.599999999999994,56.599999999999994,53.900000000000006,50.5,61.8,53.400000000000006],\"colorbar\":{\"title\":{\"text\":\"Scoring Efficiency\"}},\"size\":[14.875,33.1625,16.6625,9.675,21.8625,18.95,30.8625,12.875,37.875,38.1]},\"mode\":\"markers\",\"name\":\"MIN\",\"text\":[\"Nemanja Bjelica\",\"Gorgui Dieng\",\"Kris Dunn\",\"Tyus Jones\",\"Zach LaVine\",\"Shabazz Muhammad\",\"Ricky Rubio\",\"Brandon Rush\",\"Karl-Anthony Towns\",\"Andrew Wiggins\"],\"visible\":false,\"x\":[17.2,15.6,11.1,13.7,25.8,25.8,17.2,9.7,34.5,32.2],\"y\":[52.6,55.50000000000001,43.2,52.300000000000004,57.599999999999994,56.599999999999994,53.900000000000006,50.5,61.8,53.400000000000006],\"type\":\"scatter\"},{\"hovertemplate\":\"<b>%{text}</b><br><i>Points per 75</i>: %{x:.2f}<br>True Shooting: %{y}\",\"marker\":{\"autocolorscale\":true,\"cmax\":70.3,\"cmin\":38.7,\"color\":[56.00000000000001,52.6,47.0,47.4,55.300000000000004,56.699999999999996,54.300000000000004,51.800000000000004,60.9,58.8],\"colorbar\":{\"title\":{\"text\":\"Scoring Efficiency\"}},\"size\":[13.6375,29.9625,18.575,28.4875,13.8,18.025,26.65,22.6375,17.5375,19.45]},\"mode\":\"markers\",\"name\":\"LAL\",\"text\":[\"Tarik Black\",\"Jordan Clarkson\",\"Luol Deng\",\"Brandon Ingram\",\"Timofey Mozgov\",\"Larry Nance Jr.\",\"Julius Randle\",\"D'Angelo Russell\",\"Lou Williams\",\"Nick Young\"],\"visible\":false,\"x\":[17.1,24.5,13.9,15.8,17.7,15.2,22.3,26.5,37.4,24.8],\"y\":[56.00000000000001,52.6,47.0,47.4,55.300000000000004,56.699999999999996,54.300000000000004,51.800000000000004,60.9,58.8],\"type\":\"scatter\"},{\"hovertemplate\":\"<b>%{text}</b><br><i>Points per 75</i>: %{x:.2f}<br>True Shooting: %{y}\",\"marker\":{\"autocolorscale\":true,\"cmax\":70.3,\"cmin\":38.7,\"color\":[57.199999999999996,55.400000000000006,58.099999999999994,50.6,55.00000000000001,55.800000000000004,51.7,54.6,55.60000000000001,56.599999999999994,57.8,48.699999999999996],\"colorbar\":{\"title\":{\"text\":\"Scoring Efficiency\"}},\"size\":[18.525,21.925,16.675,16.05,14.7125,14.225,22.0125,21.925,15.4625,11.0375,27.775,20.5375]},\"mode\":\"markers\",\"name\":\"BRK\",\"text\":[\"Bojan Bogdanovi\\u0107\",\"Trevor Booker\",\"Spencer Dinwiddie\",\"Randy Foye\",\"Justin Hamilton\",\"Joe Harris\",\"Rondae Hollis-Jefferson\",\"Sean Kilpatrick\",\"Caris LeVert\",\"Jeremy Lin\",\"Brook Lopez\",\"Isaiah Whitehead\"],\"visible\":false,\"x\":[25.0,19.2,15.4,13.2,17.8,17.8,18.2,24.8,17.9,28.1,32.8,15.7],\"y\":[57.199999999999996,55.400000000000006,58.099999999999994,50.6,55.00000000000001,55.800000000000004,51.7,54.6,55.60000000000001,56.599999999999994,57.8,48.699999999999996],\"type\":\"scatter\"},{\"hovertemplate\":\"<b>%{text}</b><br><i>Points per 75</i>: %{x:.2f}<br>True Shooting: %{y}\",\"marker\":{\"autocolorscale\":true,\"cmax\":70.3,\"cmin\":38.7,\"color\":[54.800000000000004,53.900000000000006,61.3,55.300000000000004,53.7,62.8,60.3,46.6,48.6,62.5],\"colorbar\":{\"title\":{\"text\":\"Scoring Efficiency\"}},\"size\":[22.9375,16.7625,29.1875,27.4125,15.4,20.1,19.225,15.7875,29.9875,32.1125]},\"mode\":\"markers\",\"name\":\"BOS\",\"text\":[\"Avery Bradley\",\"Jaylen Brown\",\"Jae Crowder\",\"Al Horford\",\"Jonas Jerebko\",\"Amir Johnson\",\"Kelly Olynyk\",\"Terry Rozier\",\"Marcus Smart\",\"Isaiah Thomas\"],\"visible\":false,\"x\":[24.2,19.0,21.2,21.5,12.0,16.0,21.9,16.1,17.3,42.4],\"y\":[54.800000000000004,53.900000000000006,61.3,55.300000000000004,53.7,62.8,60.3,46.6,48.6,62.5],\"type\":\"scatter\"},{\"hovertemplate\":\"<b>%{text}</b><br><i>Points per 75</i>: %{x:.2f}<br>True Shooting: %{y}\",\"marker\":{\"autocolorscale\":true,\"cmax\":70.3,\"cmin\":38.7,\"color\":[58.599999999999994,43.7,60.3,54.900000000000006,55.50000000000001,51.1,55.50000000000001,54.6,54.50000000000001,46.1,49.2,50.8,50.3],\"colorbar\":{\"title\":{\"text\":\"Scoring Efficiency\"}},\"size\":[35.1125,10.575,13.0,18.775,12.85,28.3875,13.475,20.9875,12.5,23.0375,12.2,22.4,10.5375]},\"mode\":\"markers\",\"name\":\"CHI\",\"text\":[\"Jimmy Butler\",\"Michael Carter-Williams\",\"Cristiano Fel\\u00edcio\",\"Taj Gibson\",\"Jerian Grant\",\"Robin Lopez\",\"Doug McDermott\",\"Nikola Miroti\\u0107\",\"Bobby Portis\",\"Rajon Rondo\",\"Denzel Valentine\",\"Dwyane Wade\",\"Paul Zipser\"],\"visible\":false,\"x\":[32.6,17.7,15.3,21.4,18.1,18.6,20.9,22.3,22.0,14.7,15.0,30.8,14.3],\"y\":[58.599999999999994,43.7,60.3,54.900000000000006,55.50000000000001,51.1,55.50000000000001,54.6,54.50000000000001,46.1,49.2,50.8,50.3],\"type\":\"scatter\"},{\"hovertemplate\":\"<b>%{text}</b><br><i>Points per 75</i>: %{x:.2f}<br>True Shooting: %{y}\",\"marker\":{\"autocolorscale\":true,\"cmax\":70.3,\"cmin\":38.7,\"color\":[53.0,55.2,55.60000000000001,51.800000000000004,62.3,68.2,54.2,55.2,55.800000000000004,52.300000000000004,60.099999999999994],\"colorbar\":{\"title\":{\"text\":\"Scoring Efficiency\"}},\"size\":[23.525,32.75,8.9,25.0375,28.05,13.6,19.9875,17.1,15.0875,10.7375,25.825]},\"mode\":\"markers\",\"name\":\"TOR\",\"text\":[\"DeMarre Carroll\",\"DeMar DeRozan\",\"Serge Ibaka\",\"Cory Joseph\",\"Kyle Lowry\",\"Lucas Nogueira\",\"Patrick Patterson\",\"Norman Powell\",\"Terrence Ross\",\"Pascal Siakam\",\"Jonas Valan\\u010di\\u016bnas\"],\"visible\":false,\"x\":[17.2,39.1,23.3,18.7,30.4,11.8,14.1,23.6,23.5,13.5,23.5],\"y\":[53.0,55.2,55.60000000000001,51.800000000000004,62.3,68.2,54.2,55.2,55.800000000000004,52.300000000000004,60.099999999999994],\"type\":\"scatter\"},{\"hovertemplate\":\"<b>%{text}</b><br><i>Points per 75</i>: %{x:.2f}<br>True Shooting: %{y}\",\"marker\":{\"autocolorscale\":true,\"cmax\":70.3,\"cmin\":38.7,\"color\":[57.49999999999999,62.4,65.10000000000001,52.2,62.4,56.8,54.0,64.2,58.8,59.199999999999996,57.099999999999994],\"colorbar\":{\"title\":{\"text\":\"Scoring Efficiency\"}},\"size\":[14.2125,32.975,25.875,30.8875,24.975,16.8125,13.425,9.2375,15.85,33.1125,10.675]},\"mode\":\"markers\",\"name\":\"GSW\",\"text\":[\"Ian Clark\",\"Stephen Curry\",\"Kevin Durant\",\"Draymond Green\",\"Andre Iguodala\",\"Shaun Livingston\",\"Patrick McCaw\",\"JaVale McGee\",\"Zaza Pachulia\",\"Klay Thompson\",\"David West\"],\"visible\":false,\"x\":[22.3,36.5,36.1,15.1,13.8,13.9,12.6,30.7,16.2,31.6,17.8],\"y\":[57.49999999999999,62.4,65.10000000000001,52.2,62.4,56.8,54.0,64.2,58.8,59.199999999999996,57.099999999999994],\"type\":\"scatter\"},{\"hovertemplate\":\"<b>%{text}</b><br><i>Points per 75</i>: %{x:.2f}<br>True Shooting: %{y}\",\"marker\":{\"autocolorscale\":true,\"cmax\":70.3,\"cmin\":38.7,\"color\":[53.400000000000006,58.4,52.900000000000006,61.1,55.300000000000004,53.6,50.4,54.6,48.4,50.8,54.0],\"colorbar\":{\"title\":{\"text\":\"Scoring Efficiency\"}},\"size\":[26.4875,9.825,20.8375,14.9125,18.0875,14.875,26.6625,14.175,18.975,26.6125,27.35]},\"mode\":\"markers\",\"name\":\"PHI\",\"text\":[\"Robert Covington\",\"Joel Embiid\",\"Gerald Henderson\",\"Richaun Holmes\",\"Ersan \\u0130lyasova\",\"Timoth\\u00e9 Luwawu-Cabarrot\",\"T.J. McConnell\",\"Jahlil Okafor\",\"Sergio Rodr\\u00edguez\",\"Dario \\u0160ari\\u0107\",\"Nik Stauskas\"],\"visible\":false,\"x\":[19.9,38.9,19.3,22.8,26.5,18.2,12.7,25.3,17.0,23.8,16.8],\"y\":[53.400000000000006,58.4,52.900000000000006,61.1,55.300000000000004,53.6,50.4,54.6,48.4,50.8,54.0],\"type\":\"scatter\"},{\"hovertemplate\":\"<b>%{text}</b><br><i>Points per 75</i>: %{x:.2f}<br>True Shooting: %{y}\",\"marker\":{\"autocolorscale\":true,\"cmax\":70.3,\"cmin\":38.7,\"color\":[52.5,49.6,56.89999999999999,44.800000000000004,67.30000000000001,58.099999999999994,61.4,59.9,54.50000000000001,58.4],\"colorbar\":{\"title\":{\"text\":\"Scoring Efficiency\"}},\"size\":[26.9625,21.25,25.95,10.125,32.125,22.3375,24.0125,27.475,25.675,16.075]},\"mode\":\"markers\",\"name\":\"LAC\",\"text\":[\"Jamal Crawford\",\"Raymond Felton\",\"Blake Griffin\",\"Wesley Johnson\",\"DeAndre Jordan\",\"Luc Mbah a Moute\",\"Chris Paul\",\"J.J. Redick\",\"Austin Rivers\",\"Marreese Speights\"],\"visible\":false,\"x\":[23.4,15.8,31.7,11.5,20.0,13.5,28.7,26.7,21.6,27.6],\"y\":[52.5,49.6,56.89999999999999,44.800000000000004,67.30000000000001,58.099999999999994,61.4,59.9,54.50000000000001,58.4],\"type\":\"scatter\"},{\"hovertemplate\":\"<b>%{text}</b><br><i>Points per 75</i>: %{x:.2f}<br>True Shooting: %{y}\",\"marker\":{\"autocolorscale\":true,\"cmax\":70.3,\"cmin\":38.7,\"color\":[58.599999999999994,57.99999999999999,50.4,50.8,50.3,52.7,53.2,51.800000000000004,53.7],\"colorbar\":{\"title\":{\"text\":\"Scoring Efficiency\"}},\"size\":[20.6125,33.85,19.0625,14.0,14.5125,29.675,27.375,15.8,22.75]},\"mode\":\"markers\",\"name\":\"NOP\",\"text\":[\"Dante Cunningham\",\"Anthony Davis\",\"Tim Frazier\",\"Langston Galloway\",\"Buddy Hield\",\"Solomon Hill\",\"Jrue Holiday\",\"Terrence Jones\",\"E'Twaun Moore\"],\"visible\":false,\"x\":[12.9,38.0,14.9,20.6,20.6,11.6,23.0,22.6,18.8],\"y\":[58.599999999999994,57.99999999999999,50.4,50.8,50.3,52.7,53.2,51.800000000000004,53.7],\"type\":\"scatter\"},{\"hovertemplate\":\"<b>%{text}</b><br><i>Points per 75</i>: %{x:.2f}<br>True Shooting: %{y}\",\"marker\":{\"autocolorscale\":true,\"cmax\":70.3,\"cmin\":38.7,\"color\":[49.4,52.1,51.2,68.10000000000001,59.5,59.9,52.2,60.4,54.2,46.400000000000006,51.800000000000004],\"colorbar\":{\"title\":{\"text\":\"Scoring Efficiency\"}},\"size\":[16.0375,15.35,14.825,34.3,31.45,19.3,19.9125,24.65,23.0375,14.475,15.0625]},\"mode\":\"markers\",\"name\":\"UTA\",\"text\":[\"Boris Diaw\",\"Dante Exum\",\"Derrick Favors\",\"Rudy Gobert\",\"Gordon Hayward\",\"George Hill\",\"Rodney Hood\",\"Joe Ingles\",\"Joe Johnson\",\"Trey Lyles\",\"Shelvin Mack\"],\"visible\":false,\"x\":[13.8,17.6,21.0,21.7,33.4,28.1,24.6,15.4,20.3,19.9,18.7],\"y\":[49.4,52.1,51.2,68.10000000000001,59.5,59.9,52.2,60.4,54.2,46.400000000000006,51.800000000000004],\"type\":\"scatter\"},{\"hovertemplate\":\"<b>%{text}</b><br><i>Points per 75</i>: %{x:.2f}<br>True Shooting: %{y}\",\"marker\":{\"autocolorscale\":true,\"cmax\":70.3,\"cmin\":38.7,\"color\":[61.199999999999996,57.99999999999999,61.9,57.4,67.7,47.3,57.3,53.6,48.4,59.4],\"colorbar\":{\"title\":{\"text\":\"Scoring Efficiency\"}},\"size\":[17.475,31.5625,34.925,20.175,10.7375,9.4,23.5625,24.2125,14.8375,29.2]},\"mode\":\"markers\",\"name\":\"CLE\",\"text\":[\"Channing Frye\",\"Kyrie Irving\",\"LeBron James\",\"Richard Jefferson\",\"Kyle Korver\",\"DeAndre Liggins\",\"Kevin Love\",\"Iman Shumpert\",\"J.R. Smith\",\"Tristan Thompson\"],\"visible\":false,\"x\":[24.1,35.9,34.9,13.9,21.7,9.6,30.2,14.6,14.8,13.5],\"y\":[61.199999999999996,57.99999999999999,61.9,57.4,67.7,47.3,57.3,53.6,48.4,59.4],\"type\":\"scatter\"}],                        {\"template\":{\"data\":{\"histogram2dcontour\":[{\"type\":\"histogram2dcontour\",\"colorbar\":{\"outlinewidth\":0,\"ticks\":\"\"},\"colorscale\":[[0.0,\"#0d0887\"],[0.1111111111111111,\"#46039f\"],[0.2222222222222222,\"#7201a8\"],[0.3333333333333333,\"#9c179e\"],[0.4444444444444444,\"#bd3786\"],[0.5555555555555556,\"#d8576b\"],[0.6666666666666666,\"#ed7953\"],[0.7777777777777778,\"#fb9f3a\"],[0.8888888888888888,\"#fdca26\"],[1.0,\"#f0f921\"]]}],\"choropleth\":[{\"type\":\"choropleth\",\"colorbar\":{\"outlinewidth\":0,\"ticks\":\"\"}}],\"histogram2d\":[{\"type\":\"histogram2d\",\"colorbar\":{\"outlinewidth\":0,\"ticks\":\"\"},\"colorscale\":[[0.0,\"#0d0887\"],[0.1111111111111111,\"#46039f\"],[0.2222222222222222,\"#7201a8\"],[0.3333333333333333,\"#9c179e\"],[0.4444444444444444,\"#bd3786\"],[0.5555555555555556,\"#d8576b\"],[0.6666666666666666,\"#ed7953\"],[0.7777777777777778,\"#fb9f3a\"],[0.8888888888888888,\"#fdca26\"],[1.0,\"#f0f921\"]]}],\"heatmap\":[{\"type\":\"heatmap\",\"colorbar\":{\"outlinewidth\":0,\"ticks\":\"\"},\"colorscale\":[[0.0,\"#0d0887\"],[0.1111111111111111,\"#46039f\"],[0.2222222222222222,\"#7201a8\"],[0.3333333333333333,\"#9c179e\"],[0.4444444444444444,\"#bd3786\"],[0.5555555555555556,\"#d8576b\"],[0.6666666666666666,\"#ed7953\"],[0.7777777777777778,\"#fb9f3a\"],[0.8888888888888888,\"#fdca26\"],[1.0,\"#f0f921\"]]}],\"heatmapgl\":[{\"type\":\"heatmapgl\",\"colorbar\":{\"outlinewidth\":0,\"ticks\":\"\"},\"colorscale\":[[0.0,\"#0d0887\"],[0.1111111111111111,\"#46039f\"],[0.2222222222222222,\"#7201a8\"],[0.3333333333333333,\"#9c179e\"],[0.4444444444444444,\"#bd3786\"],[0.5555555555555556,\"#d8576b\"],[0.6666666666666666,\"#ed7953\"],[0.7777777777777778,\"#fb9f3a\"],[0.8888888888888888,\"#fdca26\"],[1.0,\"#f0f921\"]]}],\"contourcarpet\":[{\"type\":\"contourcarpet\",\"colorbar\":{\"outlinewidth\":0,\"ticks\":\"\"}}],\"contour\":[{\"type\":\"contour\",\"colorbar\":{\"outlinewidth\":0,\"ticks\":\"\"},\"colorscale\":[[0.0,\"#0d0887\"],[0.1111111111111111,\"#46039f\"],[0.2222222222222222,\"#7201a8\"],[0.3333333333333333,\"#9c179e\"],[0.4444444444444444,\"#bd3786\"],[0.5555555555555556,\"#d8576b\"],[0.6666666666666666,\"#ed7953\"],[0.7777777777777778,\"#fb9f3a\"],[0.8888888888888888,\"#fdca26\"],[1.0,\"#f0f921\"]]}],\"surface\":[{\"type\":\"surface\",\"colorbar\":{\"outlinewidth\":0,\"ticks\":\"\"},\"colorscale\":[[0.0,\"#0d0887\"],[0.1111111111111111,\"#46039f\"],[0.2222222222222222,\"#7201a8\"],[0.3333333333333333,\"#9c179e\"],[0.4444444444444444,\"#bd3786\"],[0.5555555555555556,\"#d8576b\"],[0.6666666666666666,\"#ed7953\"],[0.7777777777777778,\"#fb9f3a\"],[0.8888888888888888,\"#fdca26\"],[1.0,\"#f0f921\"]]}],\"mesh3d\":[{\"type\":\"mesh3d\",\"colorbar\":{\"outlinewidth\":0,\"ticks\":\"\"}}],\"scatter\":[{\"fillpattern\":{\"fillmode\":\"overlay\",\"size\":10,\"solidity\":0.2},\"type\":\"scatter\"}],\"parcoords\":[{\"type\":\"parcoords\",\"line\":{\"colorbar\":{\"outlinewidth\":0,\"ticks\":\"\"}}}],\"scatterpolargl\":[{\"type\":\"scatterpolargl\",\"marker\":{\"colorbar\":{\"outlinewidth\":0,\"ticks\":\"\"}}}],\"bar\":[{\"error_x\":{\"color\":\"#2a3f5f\"},\"error_y\":{\"color\":\"#2a3f5f\"},\"marker\":{\"line\":{\"color\":\"#E5ECF6\",\"width\":0.5},\"pattern\":{\"fillmode\":\"overlay\",\"size\":10,\"solidity\":0.2}},\"type\":\"bar\"}],\"scattergeo\":[{\"type\":\"scattergeo\",\"marker\":{\"colorbar\":{\"outlinewidth\":0,\"ticks\":\"\"}}}],\"scatterpolar\":[{\"type\":\"scatterpolar\",\"marker\":{\"colorbar\":{\"outlinewidth\":0,\"ticks\":\"\"}}}],\"histogram\":[{\"marker\":{\"pattern\":{\"fillmode\":\"overlay\",\"size\":10,\"solidity\":0.2}},\"type\":\"histogram\"}],\"scattergl\":[{\"type\":\"scattergl\",\"marker\":{\"colorbar\":{\"outlinewidth\":0,\"ticks\":\"\"}}}],\"scatter3d\":[{\"type\":\"scatter3d\",\"line\":{\"colorbar\":{\"outlinewidth\":0,\"ticks\":\"\"}},\"marker\":{\"colorbar\":{\"outlinewidth\":0,\"ticks\":\"\"}}}],\"scattermapbox\":[{\"type\":\"scattermapbox\",\"marker\":{\"colorbar\":{\"outlinewidth\":0,\"ticks\":\"\"}}}],\"scatterternary\":[{\"type\":\"scatterternary\",\"marker\":{\"colorbar\":{\"outlinewidth\":0,\"ticks\":\"\"}}}],\"scattercarpet\":[{\"type\":\"scattercarpet\",\"marker\":{\"colorbar\":{\"outlinewidth\":0,\"ticks\":\"\"}}}],\"carpet\":[{\"aaxis\":{\"endlinecolor\":\"#2a3f5f\",\"gridcolor\":\"white\",\"linecolor\":\"white\",\"minorgridcolor\":\"white\",\"startlinecolor\":\"#2a3f5f\"},\"baxis\":{\"endlinecolor\":\"#2a3f5f\",\"gridcolor\":\"white\",\"linecolor\":\"white\",\"minorgridcolor\":\"white\",\"startlinecolor\":\"#2a3f5f\"},\"type\":\"carpet\"}],\"table\":[{\"cells\":{\"fill\":{\"color\":\"#EBF0F8\"},\"line\":{\"color\":\"white\"}},\"header\":{\"fill\":{\"color\":\"#C8D4E3\"},\"line\":{\"color\":\"white\"}},\"type\":\"table\"}],\"barpolar\":[{\"marker\":{\"line\":{\"color\":\"#E5ECF6\",\"width\":0.5},\"pattern\":{\"fillmode\":\"overlay\",\"size\":10,\"solidity\":0.2}},\"type\":\"barpolar\"}],\"pie\":[{\"automargin\":true,\"type\":\"pie\"}]},\"layout\":{\"autotypenumbers\":\"strict\",\"colorway\":[\"#636efa\",\"#EF553B\",\"#00cc96\",\"#ab63fa\",\"#FFA15A\",\"#19d3f3\",\"#FF6692\",\"#B6E880\",\"#FF97FF\",\"#FECB52\"],\"font\":{\"color\":\"#2a3f5f\"},\"hovermode\":\"closest\",\"hoverlabel\":{\"align\":\"left\"},\"paper_bgcolor\":\"white\",\"plot_bgcolor\":\"#E5ECF6\",\"polar\":{\"bgcolor\":\"#E5ECF6\",\"angularaxis\":{\"gridcolor\":\"white\",\"linecolor\":\"white\",\"ticks\":\"\"},\"radialaxis\":{\"gridcolor\":\"white\",\"linecolor\":\"white\",\"ticks\":\"\"}},\"ternary\":{\"bgcolor\":\"#E5ECF6\",\"aaxis\":{\"gridcolor\":\"white\",\"linecolor\":\"white\",\"ticks\":\"\"},\"baxis\":{\"gridcolor\":\"white\",\"linecolor\":\"white\",\"ticks\":\"\"},\"caxis\":{\"gridcolor\":\"white\",\"linecolor\":\"white\",\"ticks\":\"\"}},\"coloraxis\":{\"colorbar\":{\"outlinewidth\":0,\"ticks\":\"\"}},\"colorscale\":{\"sequential\":[[0.0,\"#0d0887\"],[0.1111111111111111,\"#46039f\"],[0.2222222222222222,\"#7201a8\"],[0.3333333333333333,\"#9c179e\"],[0.4444444444444444,\"#bd3786\"],[0.5555555555555556,\"#d8576b\"],[0.6666666666666666,\"#ed7953\"],[0.7777777777777778,\"#fb9f3a\"],[0.8888888888888888,\"#fdca26\"],[1.0,\"#f0f921\"]],\"sequentialminus\":[[0.0,\"#0d0887\"],[0.1111111111111111,\"#46039f\"],[0.2222222222222222,\"#7201a8\"],[0.3333333333333333,\"#9c179e\"],[0.4444444444444444,\"#bd3786\"],[0.5555555555555556,\"#d8576b\"],[0.6666666666666666,\"#ed7953\"],[0.7777777777777778,\"#fb9f3a\"],[0.8888888888888888,\"#fdca26\"],[1.0,\"#f0f921\"]],\"diverging\":[[0,\"#8e0152\"],[0.1,\"#c51b7d\"],[0.2,\"#de77ae\"],[0.3,\"#f1b6da\"],[0.4,\"#fde0ef\"],[0.5,\"#f7f7f7\"],[0.6,\"#e6f5d0\"],[0.7,\"#b8e186\"],[0.8,\"#7fbc41\"],[0.9,\"#4d9221\"],[1,\"#276419\"]]},\"xaxis\":{\"gridcolor\":\"white\",\"linecolor\":\"white\",\"ticks\":\"\",\"title\":{\"standoff\":15},\"zerolinecolor\":\"white\",\"automargin\":true,\"zerolinewidth\":2},\"yaxis\":{\"gridcolor\":\"white\",\"linecolor\":\"white\",\"ticks\":\"\",\"title\":{\"standoff\":15},\"zerolinecolor\":\"white\",\"automargin\":true,\"zerolinewidth\":2},\"scene\":{\"xaxis\":{\"backgroundcolor\":\"#E5ECF6\",\"gridcolor\":\"white\",\"linecolor\":\"white\",\"showbackground\":true,\"ticks\":\"\",\"zerolinecolor\":\"white\",\"gridwidth\":2},\"yaxis\":{\"backgroundcolor\":\"#E5ECF6\",\"gridcolor\":\"white\",\"linecolor\":\"white\",\"showbackground\":true,\"ticks\":\"\",\"zerolinecolor\":\"white\",\"gridwidth\":2},\"zaxis\":{\"backgroundcolor\":\"#E5ECF6\",\"gridcolor\":\"white\",\"linecolor\":\"white\",\"showbackground\":true,\"ticks\":\"\",\"zerolinecolor\":\"white\",\"gridwidth\":2}},\"shapedefaults\":{\"line\":{\"color\":\"#2a3f5f\"}},\"annotationdefaults\":{\"arrowcolor\":\"#2a3f5f\",\"arrowhead\":0,\"arrowwidth\":1},\"geo\":{\"bgcolor\":\"white\",\"landcolor\":\"#E5ECF6\",\"subunitcolor\":\"white\",\"showland\":true,\"showlakes\":true,\"lakecolor\":\"white\"},\"title\":{\"x\":0.05},\"mapbox\":{\"style\":\"light\"}}},\"autosize\":false,\"width\":1000,\"height\":800,\"showlegend\":false,\"updatemenus\":[{\"active\":0,\"buttons\":[{\"args\":[{\"visible\":[true,false,false,false,false,false,false,false,false,false,false,false,false,false,false,false,false,false,false,false,false,false,false,false,false,false,false,false,false,false,false,false]},{\"title\":\"all_teams\",\"showlegend\":false}],\"label\":\"all_teams\"},{\"args\":[{\"visible\":[false,true,false,false,false,false,false,false,false,false,false,false,false,false,false,false,false,false,false,false,false,false,false,false,false,false,false,false,false,false,false,false]},{\"title\":\"OKC\",\"showlegend\":false}],\"label\":\"OKC\",\"method\":\"update\"},{\"args\":[{\"visible\":[false,false,true,false,false,false,false,false,false,false,false,false,false,false,false,false,false,false,false,false,false,false,false,false,false,false,false,false,false,false,false,false]},{\"title\":\"SAC\",\"showlegend\":false}],\"label\":\"SAC\",\"method\":\"update\"},{\"args\":[{\"visible\":[false,false,false,true,false,false,false,false,false,false,false,false,false,false,false,false,false,false,false,false,false,false,false,false,false,false,false,false,false,false,false,false]},{\"title\":\"SAS\",\"showlegend\":false}],\"label\":\"SAS\",\"method\":\"update\"},{\"args\":[{\"visible\":[false,false,false,false,true,false,false,false,false,false,false,false,false,false,false,false,false,false,false,false,false,false,false,false,false,false,false,false,false,false,false,false]},{\"title\":\"IND\",\"showlegend\":false}],\"label\":\"IND\",\"method\":\"update\"},{\"args\":[{\"visible\":[false,false,false,false,false,true,false,false,false,false,false,false,false,false,false,false,false,false,false,false,false,false,false,false,false,false,false,false,false,false,false,false]},{\"title\":\"MEM\",\"showlegend\":false}],\"label\":\"MEM\",\"method\":\"update\"},{\"args\":[{\"visible\":[false,false,false,false,false,false,true,false,false,false,false,false,false,false,false,false,false,false,false,false,false,false,false,false,false,false,false,false,false,false,false,false]},{\"title\":\"POR\",\"showlegend\":false}],\"label\":\"POR\",\"method\":\"update\"},{\"args\":[{\"visible\":[false,false,false,false,false,false,false,true,false,false,false,false,false,false,false,false,false,false,false,false,false,false,false,false,false,false,false,false,false,false,false,false]},{\"title\":\"TOT\",\"showlegend\":false}],\"label\":\"TOT\",\"method\":\"update\"},{\"args\":[{\"visible\":[false,false,false,false,false,false,false,false,true,false,false,false,false,false,false,false,false,false,false,false,false,false,false,false,false,false,false,false,false,false,false,false]},{\"title\":\"DAL\",\"showlegend\":false}],\"label\":\"DAL\",\"method\":\"update\"},{\"args\":[{\"visible\":[false,false,false,false,false,false,false,false,false,true,false,false,false,false,false,false,false,false,false,false,false,false,false,false,false,false,false,false,false,false,false,false]},{\"title\":\"HOU\",\"showlegend\":false}],\"label\":\"HOU\",\"method\":\"update\"},{\"args\":[{\"visible\":[false,false,false,false,false,false,false,false,false,false,true,false,false,false,false,false,false,false,false,false,false,false,false,false,false,false,false,false,false,false,false,false]},{\"title\":\"MIL\",\"showlegend\":false}],\"label\":\"MIL\",\"method\":\"update\"},{\"args\":[{\"visible\":[false,false,false,false,false,false,false,false,false,false,false,true,false,false,false,false,false,false,false,false,false,false,false,false,false,false,false,false,false,false,false,false]},{\"title\":\"NYK\",\"showlegend\":false}],\"label\":\"NYK\",\"method\":\"update\"},{\"args\":[{\"visible\":[false,false,false,false,false,false,false,false,false,false,false,false,true,false,false,false,false,false,false,false,false,false,false,false,false,false,false,false,false,false,false,false]},{\"title\":\"ORL\",\"showlegend\":false}],\"label\":\"ORL\",\"method\":\"update\"},{\"args\":[{\"visible\":[false,false,false,false,false,false,false,false,false,false,false,false,false,true,false,false,false,false,false,false,false,false,false,false,false,false,false,false,false,false,false,false]},{\"title\":\"MIA\",\"showlegend\":false}],\"label\":\"MIA\",\"method\":\"update\"},{\"args\":[{\"visible\":[false,false,false,false,false,false,false,false,false,false,false,false,false,false,true,false,false,false,false,false,false,false,false,false,false,false,false,false,false,false,false,false]},{\"title\":\"PHO\",\"showlegend\":false}],\"label\":\"PHO\",\"method\":\"update\"},{\"args\":[{\"visible\":[false,false,false,false,false,false,false,false,false,false,false,false,false,false,false,true,false,false,false,false,false,false,false,false,false,false,false,false,false,false,false,false]},{\"title\":\"DEN\",\"showlegend\":false}],\"label\":\"DEN\",\"method\":\"update\"},{\"args\":[{\"visible\":[false,false,false,false,false,false,false,false,false,false,false,false,false,false,false,false,true,false,false,false,false,false,false,false,false,false,false,false,false,false,false,false]},{\"title\":\"CHO\",\"showlegend\":false}],\"label\":\"CHO\",\"method\":\"update\"},{\"args\":[{\"visible\":[false,false,false,false,false,false,false,false,false,false,false,false,false,false,false,false,false,true,false,false,false,false,false,false,false,false,false,false,false,false,false,false]},{\"title\":\"DET\",\"showlegend\":false}],\"label\":\"DET\",\"method\":\"update\"},{\"args\":[{\"visible\":[false,false,false,false,false,false,false,false,false,false,false,false,false,false,false,false,false,false,true,false,false,false,false,false,false,false,false,false,false,false,false,false]},{\"title\":\"ATL\",\"showlegend\":false}],\"label\":\"ATL\",\"method\":\"update\"},{\"args\":[{\"visible\":[false,false,false,false,false,false,false,false,false,false,false,false,false,false,false,false,false,false,false,true,false,false,false,false,false,false,false,false,false,false,false,false]},{\"title\":\"WAS\",\"showlegend\":false}],\"label\":\"WAS\",\"method\":\"update\"},{\"args\":[{\"visible\":[false,false,false,false,false,false,false,false,false,false,false,false,false,false,false,false,false,false,false,false,true,false,false,false,false,false,false,false,false,false,false,false]},{\"title\":\"MIN\",\"showlegend\":false}],\"label\":\"MIN\",\"method\":\"update\"},{\"args\":[{\"visible\":[false,false,false,false,false,false,false,false,false,false,false,false,false,false,false,false,false,false,false,false,false,true,false,false,false,false,false,false,false,false,false,false]},{\"title\":\"LAL\",\"showlegend\":false}],\"label\":\"LAL\",\"method\":\"update\"},{\"args\":[{\"visible\":[false,false,false,false,false,false,false,false,false,false,false,false,false,false,false,false,false,false,false,false,false,false,true,false,false,false,false,false,false,false,false,false]},{\"title\":\"BRK\",\"showlegend\":false}],\"label\":\"BRK\",\"method\":\"update\"},{\"args\":[{\"visible\":[false,false,false,false,false,false,false,false,false,false,false,false,false,false,false,false,false,false,false,false,false,false,false,true,false,false,false,false,false,false,false,false]},{\"title\":\"BOS\",\"showlegend\":false}],\"label\":\"BOS\",\"method\":\"update\"},{\"args\":[{\"visible\":[false,false,false,false,false,false,false,false,false,false,false,false,false,false,false,false,false,false,false,false,false,false,false,false,true,false,false,false,false,false,false,false]},{\"title\":\"CHI\",\"showlegend\":false}],\"label\":\"CHI\",\"method\":\"update\"},{\"args\":[{\"visible\":[false,false,false,false,false,false,false,false,false,false,false,false,false,false,false,false,false,false,false,false,false,false,false,false,false,true,false,false,false,false,false,false]},{\"title\":\"TOR\",\"showlegend\":false}],\"label\":\"TOR\",\"method\":\"update\"},{\"args\":[{\"visible\":[false,false,false,false,false,false,false,false,false,false,false,false,false,false,false,false,false,false,false,false,false,false,false,false,false,false,true,false,false,false,false,false]},{\"title\":\"GSW\",\"showlegend\":false}],\"label\":\"GSW\",\"method\":\"update\"},{\"args\":[{\"visible\":[false,false,false,false,false,false,false,false,false,false,false,false,false,false,false,false,false,false,false,false,false,false,false,false,false,false,false,true,false,false,false,false]},{\"title\":\"PHI\",\"showlegend\":false}],\"label\":\"PHI\",\"method\":\"update\"},{\"args\":[{\"visible\":[false,false,false,false,false,false,false,false,false,false,false,false,false,false,false,false,false,false,false,false,false,false,false,false,false,false,false,false,true,false,false,false]},{\"title\":\"LAC\",\"showlegend\":false}],\"label\":\"LAC\",\"method\":\"update\"},{\"args\":[{\"visible\":[false,false,false,false,false,false,false,false,false,false,false,false,false,false,false,false,false,false,false,false,false,false,false,false,false,false,false,false,false,true,false,false]},{\"title\":\"NOP\",\"showlegend\":false}],\"label\":\"NOP\",\"method\":\"update\"},{\"args\":[{\"visible\":[false,false,false,false,false,false,false,false,false,false,false,false,false,false,false,false,false,false,false,false,false,false,false,false,false,false,false,false,false,false,true,false]},{\"title\":\"UTA\",\"showlegend\":false}],\"label\":\"UTA\",\"method\":\"update\"},{\"args\":[{\"visible\":[false,false,false,false,false,false,false,false,false,false,false,false,false,false,false,false,false,false,false,false,false,false,false,false,false,false,false,false,false,false,false,true]},{\"title\":\"CLE\",\"showlegend\":false}],\"label\":\"CLE\",\"method\":\"update\"}],\"direction\":\"down\",\"pad\":{\"r\":10,\"t\":10},\"showactive\":true}],\"yaxis\":{\"range\":[37,71],\"title\":{\"text\":\"True Shooting\"},\"tickvals\":[38,43,48,53,58,63,68]},\"xaxis\":{\"range\":[0,50],\"title\":{\"text\":\"Points per 75 Possesions\"},\"tickvals\":[5,10,15,20,25,30,35,40,45]}},                        {\"responsive\": true}                    ).then(function(){\n",
       "                            \n",
       "var gd = document.getElementById('2b7634b6-636b-47f5-81f3-19b740755540');\n",
       "var x = new MutationObserver(function (mutations, observer) {{\n",
       "        var display = window.getComputedStyle(gd).display;\n",
       "        if (!display || display === 'none') {{\n",
       "            console.log([gd, 'removed!']);\n",
       "            Plotly.purge(gd);\n",
       "            observer.disconnect();\n",
       "        }}\n",
       "}});\n",
       "\n",
       "// Listen for the removal of the full notebook cells\n",
       "var notebookContainer = gd.closest('#notebook-container');\n",
       "if (notebookContainer) {{\n",
       "    x.observe(notebookContainer, {childList: true});\n",
       "}}\n",
       "\n",
       "// Listen for the clearing of the current output cell\n",
       "var outputEl = gd.closest('.output');\n",
       "if (outputEl) {{\n",
       "    x.observe(outputEl, {childList: true});\n",
       "}}\n",
       "\n",
       "                        })                };                });            </script>        </div>"
      ]
     },
     "metadata": {},
     "output_type": "display_data"
    }
   ],
   "source": [
    "zmax = df['TS%'].max()\n",
    "zmin = df['TS%'].min()\n",
    "\n",
    "fig = go.Figure()\n",
    "fig.add_trace(\n",
    "        go.Scatter(\n",
    "\n",
    "            visible = True,\n",
    "            x = df['PTS'],\n",
    "            y = df['TS%'],\n",
    "            text = df['Player'],\n",
    "            hovertemplate =\n",
    "            '<b>%{text}</b>'+\n",
    "    '<br><i>Points per 75</i>: %{x:.2f}<br>'+\n",
    "    'True Shooting: %{y}'\n",
    "    ,\n",
    "            name = 'all_teams',\n",
    "            marker=dict(\n",
    "            cmin=zmin ,\n",
    "            cmax=zmax,\n",
    "            size=df['MP'] / 80,\n",
    "            colorbar=dict(\n",
    "            title=\"Scoring Efficiency\",\n",
    "            tickformatstops = [{'dtickrange': [40,80]\n",
    "                              }]\n",
    "           \n",
    "    \n",
    "        ),\n",
    "        autocolorscale = True,\n",
    "        color=  df['TS%'],\n",
    "\n",
    "    ),\n",
    "   \n",
    "\n",
    "    mode=\"markers\"\n",
    "        ))\n",
    "\n",
    "for team in teams:\n",
    "    df_team = df[df['Tm'] == team]\n",
    "   \n",
    "    \n",
    "    fig.add_trace(\n",
    "        go.Scatter(\n",
    "\n",
    "            visible = False,\n",
    "            x = df_team['PTS'],\n",
    "            y = df_team['TS%'],\n",
    "            text = df_team['Player'],\n",
    "            hovertemplate =\n",
    "            '<b>%{text}</b>'+\n",
    "    '<br><i>Points per 75</i>: %{x:.2f}<br>'+\n",
    "    'True Shooting: %{y}'\n",
    "    ,\n",
    "            name = team,\n",
    "            marker=dict(\n",
    "            cmin=zmin ,\n",
    "            cmax=zmax,\n",
    "            size=df_team['MP'] / 80,\n",
    "            colorbar=dict(\n",
    "            title=\"Scoring Efficiency\"\n",
    "           \n",
    "    \n",
    "        ),\n",
    "        autocolorscale = True,\n",
    "        color=  df_team['TS%'],\n",
    "\n",
    "    ),\n",
    "   \n",
    "\n",
    "    mode=\"markers\"\n",
    "        )\n",
    "        \n",
    "    )  \n",
    "fig.update_layout(\n",
    "    autosize=False,\n",
    "    width=1000,\n",
    "    height=800,\n",
    "showlegend= False)  \n",
    "fig.update_layout(\n",
    "updatemenus=[go.layout.Updatemenu(\n",
    "        active=0,\n",
    "        buttons= my_list,\n",
    "        direction=\"down\",\n",
    "            pad={\"r\": 10, \"t\": 10},\n",
    "            showactive=True,\n",
    "            \n",
    "         \n",
    ")],\n",
    ")\n",
    "fig.update_layout(yaxis_range=[int(zmin -1),int(zmax +1)], xaxis_range = [0,50])\n",
    "fig.update_yaxes(tickvals=[i for i in range(int(zmin),int(zmax),5)], title_text = \"True Shooting\",)\n",
    "fig.update_xaxes(tickvals = [i for i in range (5,50,5)], title_text = 'Points per 75 Possesions')\n",
    "\n",
    "fig.show()"
   ]
  },
  {
   "cell_type": "code",
   "execution_count": 55,
   "id": "3b75c0e6-0dad-4b94-a1e2-0c6e5376ed19",
   "metadata": {},
   "outputs": [
    {
     "data": {
      "text/plain": [
       "65.10000000000001"
      ]
     },
     "execution_count": 55,
     "metadata": {},
     "output_type": "execute_result"
    }
   ],
   "source": [
    "zmax"
   ]
  },
  {
   "cell_type": "code",
   "execution_count": null,
   "id": "ac45fcbb-4e1b-41c2-b22b-a4a530a93042",
   "metadata": {},
   "outputs": [],
   "source": [
    "fig.write_html(\"index.html\")"
   ]
  },
  {
   "cell_type": "code",
   "execution_count": null,
   "id": "a270029f-11b4-4063-9365-8b7ea57a9f18",
   "metadata": {},
   "outputs": [],
   "source": []
  }
 ],
 "metadata": {
  "kernelspec": {
   "display_name": "Python 3",
   "language": "python",
   "name": "python3"
  },
  "language_info": {
   "codemirror_mode": {
    "name": "ipython",
    "version": 3
   },
   "file_extension": ".py",
   "mimetype": "text/x-python",
   "name": "python",
   "nbconvert_exporter": "python",
   "pygments_lexer": "ipython3",
   "version": "3.8.8"
  }
 },
 "nbformat": 4,
 "nbformat_minor": 5
}
