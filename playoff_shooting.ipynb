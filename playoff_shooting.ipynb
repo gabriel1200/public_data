{
 "cells": [
  {
   "cell_type": "code",
   "execution_count": 1,
   "id": "e8644fd5-5465-4b04-b43c-ae5a3fcc4771",
   "metadata": {},
   "outputs": [],
   "source": [
    "import pandas as pd\n",
    "\n",
    "from concurrent.futures import ThreadPoolExecutor\n",
    "import concurrent.futures\n",
    "\n",
    "\n",
    "import plotly.graph_objects as go\n",
    "\n",
    "import dash\n",
    "from dash import dcc\n",
    "from dash import html\n",
    "from dash.dependencies import Input, Output, State\n",
    "import time\n"
   ]
  },
  {
   "cell_type": "code",
   "execution_count": 2,
   "id": "c79e40ce-aa77-4465-ae95-f42c79017490",
   "metadata": {},
   "outputs": [],
   "source": [
    "start_year = 2021\n",
    "end_year = 2022"
   ]
  },
  {
   "cell_type": "code",
   "execution_count": 3,
   "id": "ae90d6f3-96a9-412b-ab19-da1ccc03af0c",
   "metadata": {
    "tags": []
   },
   "outputs": [],
   "source": [
    "averages = pd.read_html('https://www.basketball-reference.com/leagues/NBA_stats_per_game.html#stats', header=1)[0]\n",
    "\n",
    "averages= averages.dropna()\n",
    "\n",
    "averages = averages[averages['Season']!='Season']\n",
    "averages['PTS'] = averages['PTS'].astype(float)\n",
    "averages['FGA'] = averages['FGA'].astype(float)\n",
    "averages['FTA'] = averages['FTA'].astype(float)\n",
    "averages['TS%'] = averages['PTS']/(2* (averages['FGA'] + .44 *averages['FTA'] ))\n",
    "averages['TS%'] = averages['PTS']/(2* (averages['FGA'] + .44 *averages['FTA'] ))\n",
    "averages = averages[['TS%','Season']]\n",
    "averages['Season'] = averages['Season'].str[:4]\n",
    "averages['Season'] = averages['Season'].astype(int)\n",
    "averages['Season']+=1\n",
    "averages = averages[averages['Season']>=start_year]\n",
    "averages = averages[averages['Season']<=end_year]\n",
    "averages = averages.iloc[::-1]\n",
    "\n"
   ]
  },
  {
   "cell_type": "code",
   "execution_count": 4,
   "id": "411520f8-41c2-4196-b9bd-66d2380cef32",
   "metadata": {},
   "outputs": [],
   "source": [
    "s_data = averages.to_dict('split')['data']\n",
    "seasons = {}\n",
    "options = []\n",
    "for i in s_data:\n",
    "    seasons[int(i[1])] = float(i[0])\n",
    "    options.append(int(i[1]))"
   ]
  },
  {
   "cell_type": "code",
   "execution_count": 5,
   "id": "1d935d80-e283-45cd-baf4-09d79b298a2f",
   "metadata": {},
   "outputs": [],
   "source": [
    "def get_table(year,minutes):\n",
    "    link_1 = 'https://www.basketball-reference.com/playoffs/NBA_'+str(year)+'_per_poss.html#per_poss_stats'\n",
    "    df = pd.read_html(link_1)[0]\n",
    "   \n",
    "    df = df[df[\"MP\"].notna()]\n",
    "    df = df[df['MP'] != 'MP']\n",
    "    df['MP'] = df['MP'].astype(float)\n",
    "    df['PTS'] = df['PTS'].astype(float)\n",
    "    df['FTA'] = df['FTA'].astype(float)\n",
    "    df['FGA'] = df['FGA'].astype(float)\n",
    "\n",
    "    df['TS%'] = df['PTS']/(2* (df['FGA'] + .44 *df['FTA'] ))\n",
    "\n",
    "    df = df[df['MP'] >minutes]\n",
    "    df['TS%'] *=100\n",
    "    df['G'] = df['G'].astype(int)\n",
    "\n",
    "    \n",
    "    return [ df[['Player','TS%','PTS','MP','Tm','G']],year]\n"
   ]
  },
  {
   "cell_type": "code",
   "execution_count": 6,
   "id": "d97f7ea8-4871-4f14-8253-933a0525cda0",
   "metadata": {},
   "outputs": [],
   "source": [
    "\n",
    "def get_tablesn(start_year,stop_year,minutes):\n",
    "    tables = {}\n",
    "    with concurrent.futures.ThreadPoolExecutor() as executor:\n",
    "    # Start the load operations and mark each future with its URL\n",
    "        \n",
    "        \n",
    "        future_to_url = {executor.submit(get_table, \n",
    "                                     year,minutes):\n",
    "                     year for year in range(start_year,stop_year +1)}\n",
    "    for future in concurrent.futures.as_completed(future_to_url):\n",
    "        val = future.result()[0]\n",
    "        key = future.result()[1]\n",
    "        tables[key] = val\n",
    "            #print(df.head())\n",
    "        #tables.append(future.result())\n",
    "\n",
    "    return tables"
   ]
  },
  {
   "cell_type": "code",
   "execution_count": 7,
   "id": "e6b11afb-6b55-4176-a922-36711eda41de",
   "metadata": {},
   "outputs": [],
   "source": [
    "link_1 ='https://www.basketball-reference.com/leagues/NBA_2011_per_poss.html#per_poss_stats'\n",
    "link_2 = 'https://www.basketball-reference.com/leagues/NBA_2011_advanced.html#advanced_stat'\n",
    "link_3 ='https://www.basketball-reference.com/playoffs/NBA_2022_per_poss.html#per_poss_stats'\n",
    "\n",
    "df = pd.read_html(link_3)[0]\n",
    "df = df[df[\"MP\"].notna()]\n",
    "df = df[df['MP'] != 'MP']\n",
    "df['MP'] = df['MP'].astype(float)\n",
    "df['PTS'] = df['PTS'].astype(float)\n",
    "df['FTA'] = df['FTA'].astype(float)\n",
    "df['FGA'] = df['FGA'].astype(float)\n",
    "\n",
    "df['TS%'] = df['PTS']/(2* (df['FGA'] + .44 *df['FTA'] ))\n",
    "df['TS%']\n",
    "\n",
    "df = df.round({'TS%': 1})"
   ]
  },
  {
   "cell_type": "code",
   "execution_count": 8,
   "id": "244abd5d-6387-4090-85fc-f814edc54e9f",
   "metadata": {},
   "outputs": [
    {
     "data": {
      "text/plain": [
       "Index(['Rk', 'Player', 'Pos', 'Age', 'Tm', 'G', 'GS', 'MP', 'FG', 'FGA', 'FG%',\n",
       "       '3P', '3PA', '3P%', '2P', '2PA', '2P%', 'FT', 'FTA', 'FT%', 'ORB',\n",
       "       'DRB', 'TRB', 'AST', 'STL', 'BLK', 'TOV', 'PF', 'PTS', 'Unnamed: 29',\n",
       "       'ORtg', 'DRtg', 'TS%'],\n",
       "      dtype='object')"
      ]
     },
     "execution_count": 8,
     "metadata": {},
     "output_type": "execute_result"
    }
   ],
   "source": [
    "df.columns"
   ]
  },
  {
   "cell_type": "code",
   "execution_count": 9,
   "id": "d34e197a-5388-434f-9318-bbb21e6e8045",
   "metadata": {
    "tags": []
   },
   "outputs": [],
   "source": [
    "\n",
    "def get_tables(start_year,stop_year,minutes):\n",
    "\n",
    "    tables = {}\n",
    "    for i in range(start_year,stop_year + 1):\n",
    "        result = get_table(i,minutes)\n",
    "        tables[result[1]] = result[0] \n",
    "        \n",
    "    return tables\n",
    "\n",
    "def playoff_tables(start_year,stop_year,minutes):\n",
    "    tables = []\n",
    "    for i in range(start_year,stop_year + 1):\n",
    "   \n",
    "\n",
    "        df = get_table(i,minutes)\n",
    "        df = df[0]\n",
    "        tables.append(df)\n",
    "    return tables\n",
    "\n"
   ]
  },
  {
   "cell_type": "code",
   "execution_count": 21,
   "id": "75294f81-083a-48b1-bf98-0ce5adf70fc8",
   "metadata": {},
   "outputs": [
    {
     "name": "stdout",
     "output_type": "stream",
     "text": [
      "Execution time: 0.7952604293823242 seconds\n"
     ]
    }
   ],
   "source": [
    "import time\n",
    "minutes = 100\n",
    "st = time.time()\n",
    "start_year = 2021\n",
    "end_year = 2021\n",
    "tables = get_tables(start_year,end_year,minutes)\n",
    "et = time.time()\n",
    "elapsed_time = et - st\n",
    "print('Execution time:', elapsed_time, 'seconds')"
   ]
  },
  {
   "cell_type": "code",
   "execution_count": 22,
   "id": "ac3aff96-edb4-4490-9a5e-a4cdbacdf5ad",
   "metadata": {
    "tags": []
   },
   "outputs": [],
   "source": [
    "def get_buttons(teams,year,df):\n",
    "    my_list = []\n",
    "    i = 0\n",
    "    length = len(teams)\n",
    "    seen = [False for i in range(length+ 1) ]\n",
    "\n",
    "    seen[i] = True\n",
    "    my_list.append(dict(label = 'all_teams',\n",
    "                      method = 'update',\n",
    "                      args = [{'visible':[i for i in seen]},\n",
    "                              {'title': 'All',\n",
    "                               'showlegend':False}]))\n",
    "    seen[i] = False\n",
    "    i +=1\n",
    "    for team in teams:\n",
    "        #print(i)\n",
    "        df_team = df[df['Tm'] == team]\n",
    "        seen[i] = True\n",
    "\n",
    "        my_list.append(dict(label = team,\n",
    "                      method = 'update',\n",
    "\n",
    "                      args = [{'visible':[i for i in seen]},\n",
    "                              {'title': str(year) + ' '+team,\n",
    "                               'showlegend':False}]))\n",
    "        seen[i] = False\n",
    "        i+=1\n",
    "    return my_list\n"
   ]
  },
  {
   "cell_type": "code",
   "execution_count": 23,
   "id": "773e22ff-da3e-4bc0-bde0-ecc7585e70c4",
   "metadata": {},
   "outputs": [],
   "source": [
    "#zmax = df['TS%'].max()\n",
    "#zmin = df['TS%'].min()\n",
    "#zmin\n",
    "\n"
   ]
  },
  {
   "cell_type": "code",
   "execution_count": 24,
   "id": "8eef10b5-2b31-44a9-9b0f-d7226e95e2a6",
   "metadata": {},
   "outputs": [],
   "source": [
    "def full_trace(fig,df,zmin,zmax,av_shooting):\n",
    "    df = df[df['Tm']!= 'TOT']\n",
    "    fig.add_trace(\n",
    "            go.Scatter(\n",
    "\n",
    "                visible = True,\n",
    "                x = df['PTS'],\n",
    "                y = df['TS%'],\n",
    "                customdata = df['TS%'] - av_shooting,\n",
    "\n",
    "                \n",
    "                text = df['Player']+' - ' + df['Tm'],\n",
    "                hovertemplate =\n",
    "                '<b>%{text}</b>'+\n",
    "        '<br><i>Points per 100 Possesions</i>: %{x:.2f}<br>'+\n",
    "        'True Shooting: %{y:.2f}'\n",
    "                + ' <br>Relative True Shooting: %{customdata:.2f}<extra></extra></br>'\n",
    "        ,\n",
    "                name = 'All',\n",
    "                marker=dict(\n",
    "                cmin=zmin ,\n",
    "                cmax=zmax,\n",
    "                size=df['MP'] / df['G'],\n",
    "                colorbar=dict(\n",
    "                title=\"True Shooting %\"\n",
    "\n",
    "\n",
    "            ),\n",
    "            colorscale=\"plasma\",\n",
    "            color=  df['TS%'],\n",
    "\n",
    "        ),\n",
    "\n",
    "\n",
    "        mode=\"markers\"\n",
    "            ))\n",
    "    return fig\n",
    "    "
   ]
  },
  {
   "cell_type": "code",
   "execution_count": 25,
   "id": "1f228262-678f-4045-8f89-e0d6f7d92340",
   "metadata": {},
   "outputs": [],
   "source": [
    "def team_trace(fig,df,teams,zmin,zmax,av_shooting):\n",
    "    for team in teams:\n",
    "        df_team = df[df['Tm'] == team]\n",
    "\n",
    "\n",
    "        fig.add_trace(\n",
    "            go.Scatter(\n",
    "                \n",
    "                visible = False,\n",
    "                x = df_team['PTS'],\n",
    "                y = df_team['TS%'],\n",
    "                customdata = df_team['TS%'] - av_shooting,\n",
    "                \n",
    "                text = df_team['Player']+' - ' + df_team['Tm'],\n",
    "                hovertemplate =\n",
    "                '<b>%{text}</b>'+\n",
    "        '<br><i>Points per 100 Possesions</i>: %{x:.2f}<br>'+\n",
    "        'True Shooting: %{y:.2f}'\n",
    "                + ' <br>Relative True Shooting: %{customdata:.2f}<extra></extra></br>'\n",
    "        ,\n",
    "                name = team,\n",
    "                marker=dict(\n",
    "                cmin=zmin ,\n",
    "                cmax=zmax,\n",
    "                size=df['MP'] / df['G'],\n",
    "                colorbar=dict(\n",
    "                title=\"True Shooting\"\n",
    "\n",
    "\n",
    "            ),\n",
    "            colorscale = 'Plasma',\n",
    "            \n",
    "            color=  df_team['TS%'],\n",
    "\n",
    "        ),\n",
    "\n",
    "\n",
    "        mode=\"markers\"\n",
    "            )\n",
    "\n",
    "        ) \n",
    "    return fig"
   ]
  },
  {
   "cell_type": "code",
   "execution_count": 26,
   "id": "f9638bef-86ef-45b8-98fe-8dadcce7837f",
   "metadata": {
    "tags": []
   },
   "outputs": [],
   "source": [
    "def season_graph(df,year,true_shooting):\n",
    "    fig = go.Figure()\n",
    "    teams = list(df['Tm'].unique())\n",
    "    my_buttons = get_buttons(teams,year,df)\n",
    "    zmax = df['TS%'].max()\n",
    "    zmin = df['TS%'].min()\n",
    "    fig.update_layout(\n",
    "        title={\n",
    "        'text':str(year) +\" Playoffs\",\n",
    "        'y':0.95,\n",
    "        'x':0.5,\n",
    "        'xanchor': 'center',\n",
    "        'yanchor': 'top'},\n",
    "    updatemenus=[go.layout.Updatemenu(\n",
    "            active=0,\n",
    "            buttons= my_buttons,\n",
    "            direction=\"down\",\n",
    "                pad={\"r\": 10, \"t\": 10},\n",
    "                showactive=True,\n",
    "\n",
    "\n",
    "    )],\n",
    "    font=dict(\n",
    "        size=15,\n",
    "    )\n",
    "    )\n",
    "   \n",
    "    fig = full_trace(fig,df,zmin,zmax,true_shooting)\n",
    "    fig = team_trace(fig,df,teams,zmin,zmax,true_shooting)\n",
    "\n",
    "    fig.update_layout(yaxis_range=[int(zmin -3),int(zmax +2)], xaxis_range = [0,50])\n",
    "    fig.update_yaxes(tickvals=[i for i in range(int(zmin)-3,int(zmax)+3,5)])\n",
    "    fig.update_xaxes(tickvals = [i for i in range (5,50,5)], title_text = 'Points per 100 Possesions')\n",
    "    fig.add_hline(y=true_shooting)\n",
    "    fig.update_layout(\n",
    "        width = 1400,\n",
    "        height = 700,\n",
    "        autosize=True,\n",
    "        annotations=[\n",
    "        go.layout.Annotation(\n",
    "            showarrow=False,\n",
    "            text='Source: Basketball Reference',\n",
    "            y =zmin\n",
    "            \n",
    "        )]\n",
    "    )  \n",
    "    return fig"
   ]
  },
  {
   "cell_type": "code",
   "execution_count": 27,
   "id": "c12388a7-4bec-4622-940d-64d6f558e9b4",
   "metadata": {},
   "outputs": [
    {
     "name": "stdout",
     "output_type": "stream",
     "text": [
      "{2021: 0.5719854682014858, 2022: 0.5658099369730704}\n"
     ]
    }
   ],
   "source": [
    "#df = tables[2022]\n",
    "print(seasons)"
   ]
  },
  {
   "cell_type": "code",
   "execution_count": 28,
   "id": "3b75c0e6-0dad-4b94-a1e2-0c6e5376ed19",
   "metadata": {},
   "outputs": [
    {
     "data": {
      "application/vnd.plotly.v1+json": {
       "config": {
        "plotlyServerURL": "https://plot.ly"
       },
       "data": [
        {
         "customdata": [
          -7.700249024054692,
          -9.274072908358434,
          -9.263443575310824,
          2.651599378681823,
          -0.2514356314594508,
          10.177776093954279,
          -8.204219847482257,
          7.0768936688841535,
          -3.2018973047722525,
          4.160327768297989,
          -1.1655168235189848,
          -7.707596593904242,
          6.981764479629064,
          -1.3920529735918876,
          2.884326108028212,
          2.3970069497724182,
          -2.306405063600039,
          -0.9376011108666162,
          -3.7534530028615976,
          -2.8169433397259525,
          -17.81999629510124,
          -7.617032991909852,
          -0.7681006259228553,
          2.2178190041594803,
          -12.21921300055218,
          -2.4379337725424577,
          -7.748942416983802,
          5.799577886836893,
          4.126641149776233,
          5.919391032958764,
          11.936154339530276,
          -3.276978192697591,
          2.4118050263184116,
          15.413439271076612,
          -3.0943305433591135,
          -0.04515448976509617,
          -3.336758202262395,
          4.4707480660870615,
          5.605824245298614,
          6.01739273627355,
          11.346358188486988,
          -3.070820963450764,
          -0.4237376598432405,
          -0.8130752325680177,
          23.832634799107424,
          1.5262853946165222,
          0.7315972407375355,
          4.179489082702531,
          16.57306997919264,
          -6.78433273686975,
          0.9911083522652149,
          -1.9714155195885397,
          9.940125054851421,
          6.3861330122870825,
          13.317871928097276,
          -2.1263513369941904,
          9.867663225513525,
          -3.800488567721395,
          -1.1755872353081998,
          0.6636439925722684,
          -24.30380997804331,
          -8.804256008373379,
          1.7173997627265223,
          -1.8600051534819144,
          -4.077298320748824,
          -5.397275334393925,
          8.628999476147712,
          0.966835515358234,
          -1.5239288551839891,
          5.2570008327674955,
          -0.7253010203462367,
          -18.92103485842609,
          12.383958150030352,
          1.8813961560549615,
          6.590112973665853,
          -1.702857164976173,
          -4.094814091750955,
          -20.51957285979102,
          -3.9452547984599633,
          10.690115773198329,
          8.86411833651431,
          5.915458206125123,
          4.860424954044973,
          -10.902250523852288,
          -7.18137354176973,
          -5.388160922101882,
          -2.474611210098935,
          -5.2296105164146525,
          -8.604472466496944,
          2.816941047688289,
          0.5556359340341785,
          -2.7912852278476166,
          -3.954918233443898,
          -13.189088070805433,
          -14.368597581569901,
          2.608826833538245,
          11.349840276625628,
          2.0294187199441964,
          1.2088240255243434,
          -6.10245319891898,
          2.9175394153406415,
          -2.8507207331920483,
          -0.2673064929321214,
          3.6218929192651004,
          -14.656669659818881,
          3.0714628230529613,
          -10.227967152219648,
          -2.0400632900056337,
          4.123279207559804,
          -4.361800624394306,
          0.8183308169822112,
          -1.0113442818090803,
          20.767554874766674,
          2.0017637388576333,
          -17.638107259709017,
          0.5388179014847978,
          -12.639447383000359,
          5.4764340910247356,
          0.931120525404701,
          -8.1111574396176,
          3.654512581369957,
          -11.037598982019631,
          -0.11987452966627643,
          -2.0150872977257634,
          10.969799356496338
         ],
         "hovertemplate": "<b>%{text}</b><br><i>Points per 100 Possesions</i>: %{x:.2f}<br>True Shooting: %{y:.2f} <br>Relative True Shooting: %{customdata:.2f}<extra></extra></br>",
         "marker": {
          "cmax": 81.031181619256,
          "cmin": 32.89473684210527,
          "color": [
           49.49829779609389,
           47.924473911790145,
           47.935103244837755,
           59.8501461988304,
           56.94711118868913,
           67.37632291410286,
           48.99432697266632,
           64.27544048903273,
           53.996649515376326,
           61.35887458844657,
           56.033029996629594,
           49.49095022624434,
           64.18031129977764,
           55.80649384655669,
           60.08287292817679,
           59.595553769921,
           54.89214175654854,
           56.26094570928196,
           53.44509381728698,
           54.381603480422626,
           39.37855052504734,
           49.58151382823873,
           56.43044619422572,
           59.41636582430806,
           44.9793338195964,
           54.76061304760612,
           49.44960440316478,
           62.99812470698547,
           61.32518796992481,
           63.11793785310734,
           69.13470115967885,
           53.92156862745099,
           59.61035184646699,
           72.61198609122519,
           54.104216276789465,
           57.15339233038348,
           53.861788617886184,
           61.66929488623564,
           62.80437106544719,
           63.21593955642213,
           68.54490500863557,
           54.127725856697815,
           56.77480916030534,
           56.38547158758056,
           81.031181619256,
           58.7248322147651,
           57.930144060886114,
           61.37803590285111,
           73.77161679934122,
           50.41421408327883,
           58.189655172413794,
           55.22713130056004,
           67.138671875,
           63.58467983243566,
           70.51641874824585,
           55.07219548315439,
           67.0662100456621,
           53.398058252427184,
           56.02295958484038,
           57.86219081272085,
           32.89473684210527,
           48.3942908117752,
           58.9159465828751,
           55.338541666666664,
           53.121248499399755,
           51.801271485754654,
           65.82754629629629,
           58.16538233550681,
           55.67461796496459,
           62.455547652916074,
           56.47324579980234,
           38.27751196172249,
           69.58250497017893,
           59.07994297620354,
           63.78865979381443,
           55.495689655172406,
           53.103732728397624,
           36.67897396035756,
           53.253292021688615,
           67.88866259334691,
           66.06266515666289,
           63.1140050262737,
           62.05897177419355,
           46.29629629629629,
           50.01717327837885,
           51.8103858980467,
           54.723935610049644,
           51.968936303733926,
           48.594074353651635,
           60.01548786783687,
           57.75418275418276,
           54.40726159230096,
           53.24362858670468,
           44.009458749343146,
           42.82994923857868,
           59.807373653686824,
           68.5483870967742,
           59.227965540092775,
           58.40737084567292,
           51.0960936212296,
           60.11608623548922,
           54.34782608695653,
           56.93124032721646,
           60.82043973941368,
           42.5418771603297,
           60.27000964320154,
           46.97057966792893,
           55.158483530142945,
           61.32182602770838,
           52.83674619575427,
           58.01687763713079,
           56.1872025383395,
           77.96610169491525,
           59.20031055900621,
           39.56043956043956,
           57.73736472163338,
           44.55909943714822,
           62.674980911173314,
           58.12966734555328,
           49.08738938053098,
           60.853059401518536,
           46.16094783812895,
           57.0786722904823,
           55.183459522422815,
           68.16834617664492
          ],
          "colorbar": {
           "title": {
            "text": "True Shooting %"
           }
          },
          "colorscale": [
           [
            0,
            "#0d0887"
           ],
           [
            0.1111111111111111,
            "#46039f"
           ],
           [
            0.2222222222222222,
            "#7201a8"
           ],
           [
            0.3333333333333333,
            "#9c179e"
           ],
           [
            0.4444444444444444,
            "#bd3786"
           ],
           [
            0.5555555555555556,
            "#d8576b"
           ],
           [
            0.6666666666666666,
            "#ed7953"
           ],
           [
            0.7777777777777778,
            "#fb9f3a"
           ],
           [
            0.8888888888888888,
            "#fdca26"
           ],
           [
            1,
            "#f0f921"
           ]
          ],
          "size": [
           34,
           23.2,
           28.4,
           38.095238095238095,
           23.833333333333332,
           36.40909090909091,
           32.4,
           29.210526315789473,
           39,
           26.5,
           19,
           33.22222222222222,
           35.45454545454545,
           40.40909090909091,
           32.13636363636363,
           35,
           23.083333333333332,
           16.285714285714285,
           32.4,
           25.6,
           38.5,
           29.2,
           27,
           31.61111111111111,
           20.166666666666668,
           27.09090909090909,
           10.833333333333334,
           32,
           29.333333333333332,
           23.73913043478261,
           38,
           12.090909090909092,
           33.13636363636363,
           31.75,
           28.8,
           40.142857142857146,
           29.25,
           21,
           40.416666666666664,
           32.45454545454545,
           13.181818181818182,
           38.714285714285715,
           13.65,
           33.4,
           23.4,
           24.555555555555557,
           40.8421052631579,
           27.6,
           34.18181818181818,
           29.9,
           24.875,
           19,
           24.666666666666668,
           26.5,
           34.6,
           37.42857142857143,
           35.77777777777778,
           36.166666666666664,
           36.5,
           17.083333333333332,
           10.357142857142858,
           39.65217391304348,
           12.416666666666666,
           12.444444444444445,
           31,
           30.4,
           27.818181818181817,
           36.111111111111114,
           27.4,
           32.73684210526316,
           37.333333333333336,
           11.444444444444445,
           21.095238095238095,
           34.5,
           14.6,
           26.714285714285715,
           16.25,
           21.5,
           27.25,
           39.27272727272727,
           41.333333333333336,
           29,
           19.894736842105264,
           18.333333333333332,
           13,
           40,
           40.08695652173913,
           12.11111111111111,
           10.083333333333334,
           34.6,
           40.6,
           31.789473684210527,
           28.6,
           22.4,
           11.727272727272727,
           28.833333333333332,
           36.72727272727273,
           9.222222222222221,
           34.15,
           19,
           33.2,
           18.3,
           33.285714285714285,
           36,
           36,
           30.5,
           16.923076923076923,
           35,
           10.5,
           32.666666666666664,
           17.166666666666668,
           33.5,
           17.833333333333332,
           36.6,
           22.2,
           37,
           7.4375,
           26.4,
           18.333333333333332,
           29.608695652173914,
           33.2,
           37.2,
           15.38888888888889,
           37.6875,
           17.705882352941178
          ]
         },
         "mode": "markers",
         "name": "All",
         "text": [
          "Bam Adebayo - MIA",
          "Grayson Allen - MEM",
          "Kyle Anderson - MEM",
          "Giannis Antetokounmpo - MIL",
          "Carmelo Anthony - POR",
          "Deandre Ayton - PHO",
          "RJ Barrett - NYK",
          "Nicolas Batum - LAC",
          "Bradley Beal - WAS",
          "Dāvis Bertāns - WAS",
          "Patrick Beverley - LAC",
          "Bogdan Bogdanović - ATL",
          "Bojan Bogdanović - UTA",
          "Devin Booker - PHO",
          "Mikal Bridges - PHO",
          "Dillon Brooks - MEM",
          "Bruce Brown - BRK",
          "Jalen Brunson - DAL",
          "Reggie Bullock - NYK",
          "Alec Burks - NYK",
          "Jimmy Butler - MIA",
          "Kentavious Caldwell-Pope - LAL",
          "Facundo Campazzo - DEN",
          "Clint Capela - ATL",
          "Alex Caruso - LAL",
          "Jordan Clarkson - UTA",
          "Nic Claxton - BRK",
          "John Collins - ATL",
          "Mike Conley - UTA",
          "Pat Connaughton - MIL",
          "Robert Covington - POR",
          "Torrey Craig - PHO",
          "Jae Crowder - PHO",
          "Seth Curry - PHI",
          "Anthony Davis - LAL",
          "Luka Dončić - DAL",
          "Goran Dragić - MIA",
          "Andre Drummond - LAL",
          "Kevin Durant - BRK",
          "Joel Embiid - PHI",
          "Derrick Favors - UTA",
          "Dorian Finney-Smith - DAL",
          "Bryn Forbes - MIL",
          "Evan Fournier - BOS",
          "Daniel Gafford - WAS",
          "Danilo Gallinari - ATL",
          "Paul George - LAC",
          "Taj Gibson - NYK",
          "Rudy Gobert - UTA",
          "Aaron Gordon - DEN",
          "Danny Green - PHI",
          "JaMychal Green - DEN",
          "Jeff Green - BRK",
          "Blake Griffin - BRK",
          "Rui Hachimura - WAS",
          "Tim Hardaway Jr. - DAL",
          "James Harden - BRK",
          "Joe Harris - BRK",
          "Tobias Harris - PHI",
          "George Hill - PHI",
          "Solomon Hill - ATL",
          "Jrue Holiday - MIL",
          "Dwight Howard - PHI",
          "Markus Howard - DEN",
          "Kevin Huerter - ATL",
          "De'Andre Hunter - ATL",
          "Joe Ingles - UTA",
          "Kyrie Irving - BRK",
          "Jaren Jackson Jr. - MEM",
          "Reggie Jackson - LAC",
          "LeBron James - LAL",
          "Mike James - BRK",
          "Cameron Johnson - PHO",
          "Nikola Jokić - DEN",
          "Luke Kennard - LAC",
          "Maxi Kleber - DAL",
          "Furkan Korkmaz - PHI",
          "Kyle Kuzma - LAL",
          "Romeo Langford - BOS",
          "Kawhi Leonard - LAC",
          "Damian Lillard - POR",
          "Brook Lopez - MIL",
          "Terance Mann - LAC",
          "Wesley Matthews - LAL",
          "Tyrese Maxey - PHI",
          "CJ McCollum - POR",
          "Khris Middleton - MIL",
          "Paul Millsap - DEN",
          "Shake Milton - PHI",
          "Donovan Mitchell - UTA",
          "Ja Morant - MEM",
          "Marcus Morris - LAC",
          "Monte Morris - DEN",
          "Raul Neto - WAS",
          "Georges Niang - UTA",
          "Jusuf Nurkić - POR",
          "Royce O'Neale - UTA",
          "Onyeka Okongwu - ATL",
          "Chris Paul - PHO",
          "Cameron Payne - PHO",
          "Michael Porter Jr. - DEN",
          "Bobby Portis - MIL",
          "Kristaps Porziņģis - DAL",
          "Norman Powell - POR",
          "Julius Randle - NYK",
          "Austin Rivers - DEN",
          "Rajon Rondo - LAC",
          "Derrick Rose - NYK",
          "Dario Šarić - PHO",
          "Dennis Schröder - LAL",
          "Landry Shamet - BRK",
          "Ben Simmons - PHI",
          "Anfernee Simons - POR",
          "Marcus Smart - BOS",
          "Ish Smith - WAS",
          "Jayson Tatum - BOS",
          "Jeff Teague - MIL",
          "Tristan Thompson - BOS",
          "Matisse Thybulle - PHI",
          "P.J. Tucker - MIL",
          "Jonas Valančiūnas - MEM",
          "Russell Westbrook - WAS",
          "Lou Williams - ATL",
          "Trae Young - ATL",
          "Ivica Zubac - LAC"
         ],
         "type": "scatter",
         "visible": false,
         "x": [
          22.1,
          13.3,
          14.3,
          39.3,
          26.1,
          21.9,
          22.8,
          14.3,
          36.1,
          16.4,
          13.3,
          21,
          25.4,
          34.1,
          17.4,
          35.6,
          17.1,
          25.7,
          13.9,
          28,
          18.3,
          10.9,
          17.2,
          15.8,
          14.8,
          32.3,
          11.5,
          21.5,
          26.1,
          14.3,
          12.4,
          16.5,
          16.4,
          28.4,
          30.9,
          46.5,
          26.5,
          21.9,
          42.3,
          41.5,
          12.7,
          13.9,
          23.8,
          23.1,
          23.7,
          25.9,
          34.1,
          9.3,
          21.5,
          18.5,
          13.5,
          14.2,
          16.5,
          17,
          20.1,
          23.8,
          28.2,
          15.4,
          28.5,
          13.1,
          5.8,
          21.7,
          18,
          18.7,
          17.7,
          17.6,
          18.2,
          31.4,
          23.9,
          28.1,
          32,
          16,
          19.6,
          43.1,
          19.8,
          10.3,
          20.6,
          15.1,
          16.5,
          40,
          42,
          22.1,
          19.7,
          15.4,
          23.3,
          26.1,
          29.1,
          26.5,
          20.6,
          46.5,
          35.9,
          19.9,
          23.9,
          13.4,
          13.5,
          23.1,
          15.3,
          14.3,
          28.4,
          24.8,
          26.1,
          23.8,
          20.6,
          23.9,
          25.6,
          15,
          12.9,
          28.4,
          21.6,
          22.5,
          12.1,
          17,
          18.4,
          24.4,
          14.4,
          41.4,
          13.3,
          19.7,
          13.7,
          7.1,
          21.8,
          24,
          24.9,
          37.9,
          18.4
         ],
         "y": [
          49.49829779609389,
          47.924473911790145,
          47.935103244837755,
          59.8501461988304,
          56.94711118868913,
          67.37632291410286,
          48.99432697266632,
          64.27544048903273,
          53.996649515376326,
          61.35887458844657,
          56.033029996629594,
          49.49095022624434,
          64.18031129977764,
          55.80649384655669,
          60.08287292817679,
          59.595553769921,
          54.89214175654854,
          56.26094570928196,
          53.44509381728698,
          54.381603480422626,
          39.37855052504734,
          49.58151382823873,
          56.43044619422572,
          59.41636582430806,
          44.9793338195964,
          54.76061304760612,
          49.44960440316478,
          62.99812470698547,
          61.32518796992481,
          63.11793785310734,
          69.13470115967885,
          53.92156862745099,
          59.61035184646699,
          72.61198609122519,
          54.104216276789465,
          57.15339233038348,
          53.861788617886184,
          61.66929488623564,
          62.80437106544719,
          63.21593955642213,
          68.54490500863557,
          54.127725856697815,
          56.77480916030534,
          56.38547158758056,
          81.031181619256,
          58.7248322147651,
          57.930144060886114,
          61.37803590285111,
          73.77161679934122,
          50.41421408327883,
          58.189655172413794,
          55.22713130056004,
          67.138671875,
          63.58467983243566,
          70.51641874824585,
          55.07219548315439,
          67.0662100456621,
          53.398058252427184,
          56.02295958484038,
          57.86219081272085,
          32.89473684210527,
          48.3942908117752,
          58.9159465828751,
          55.338541666666664,
          53.121248499399755,
          51.801271485754654,
          65.82754629629629,
          58.16538233550681,
          55.67461796496459,
          62.455547652916074,
          56.47324579980234,
          38.27751196172249,
          69.58250497017893,
          59.07994297620354,
          63.78865979381443,
          55.495689655172406,
          53.103732728397624,
          36.67897396035756,
          53.253292021688615,
          67.88866259334691,
          66.06266515666289,
          63.1140050262737,
          62.05897177419355,
          46.29629629629629,
          50.01717327837885,
          51.8103858980467,
          54.723935610049644,
          51.968936303733926,
          48.594074353651635,
          60.01548786783687,
          57.75418275418276,
          54.40726159230096,
          53.24362858670468,
          44.009458749343146,
          42.82994923857868,
          59.807373653686824,
          68.5483870967742,
          59.227965540092775,
          58.40737084567292,
          51.0960936212296,
          60.11608623548922,
          54.34782608695653,
          56.93124032721646,
          60.82043973941368,
          42.5418771603297,
          60.27000964320154,
          46.97057966792893,
          55.158483530142945,
          61.32182602770838,
          52.83674619575427,
          58.01687763713079,
          56.1872025383395,
          77.96610169491525,
          59.20031055900621,
          39.56043956043956,
          57.73736472163338,
          44.55909943714822,
          62.674980911173314,
          58.12966734555328,
          49.08738938053098,
          60.853059401518536,
          46.16094783812895,
          57.0786722904823,
          55.183459522422815,
          68.16834617664492
         ]
        },
        {
         "customdata": [
          -7.700249024054692,
          -17.81999629510124,
          -3.336758202262395
         ],
         "hovertemplate": "<b>%{text}</b><br><i>Points per 100 Possesions</i>: %{x:.2f}<br>True Shooting: %{y:.2f} <br>Relative True Shooting: %{customdata:.2f}<extra></extra></br>",
         "marker": {
          "cmax": 81.031181619256,
          "cmin": 32.89473684210527,
          "color": [
           49.49829779609389,
           39.37855052504734,
           53.861788617886184
          ],
          "colorbar": {
           "title": {
            "text": "True Shooting"
           }
          },
          "colorscale": [
           [
            0,
            "#0d0887"
           ],
           [
            0.1111111111111111,
            "#46039f"
           ],
           [
            0.2222222222222222,
            "#7201a8"
           ],
           [
            0.3333333333333333,
            "#9c179e"
           ],
           [
            0.4444444444444444,
            "#bd3786"
           ],
           [
            0.5555555555555556,
            "#d8576b"
           ],
           [
            0.6666666666666666,
            "#ed7953"
           ],
           [
            0.7777777777777778,
            "#fb9f3a"
           ],
           [
            0.8888888888888888,
            "#fdca26"
           ],
           [
            1,
            "#f0f921"
           ]
          ],
          "size": [
           34,
           23.2,
           28.4,
           38.095238095238095,
           23.833333333333332,
           36.40909090909091,
           32.4,
           29.210526315789473,
           39,
           26.5,
           19,
           33.22222222222222,
           35.45454545454545,
           40.40909090909091,
           32.13636363636363,
           35,
           23.083333333333332,
           16.285714285714285,
           32.4,
           25.6,
           38.5,
           29.2,
           27,
           31.61111111111111,
           20.166666666666668,
           27.09090909090909,
           10.833333333333334,
           32,
           29.333333333333332,
           23.73913043478261,
           38,
           12.090909090909092,
           33.13636363636363,
           31.75,
           28.8,
           40.142857142857146,
           29.25,
           21,
           40.416666666666664,
           32.45454545454545,
           13.181818181818182,
           38.714285714285715,
           13.65,
           33.4,
           23.4,
           24.555555555555557,
           40.8421052631579,
           27.6,
           34.18181818181818,
           29.9,
           24.875,
           19,
           24.666666666666668,
           26.5,
           34.6,
           37.42857142857143,
           35.77777777777778,
           36.166666666666664,
           36.5,
           17.083333333333332,
           10.357142857142858,
           39.65217391304348,
           12.416666666666666,
           12.444444444444445,
           31,
           30.4,
           27.818181818181817,
           36.111111111111114,
           27.4,
           32.73684210526316,
           37.333333333333336,
           11.444444444444445,
           21.095238095238095,
           34.5,
           14.6,
           26.714285714285715,
           16.25,
           21.5,
           27.25,
           39.27272727272727,
           41.333333333333336,
           29,
           19.894736842105264,
           18.333333333333332,
           13,
           40,
           40.08695652173913,
           12.11111111111111,
           10.083333333333334,
           34.6,
           40.6,
           31.789473684210527,
           28.6,
           22.4,
           11.727272727272727,
           28.833333333333332,
           36.72727272727273,
           9.222222222222221,
           34.15,
           19,
           33.2,
           18.3,
           33.285714285714285,
           36,
           36,
           30.5,
           16.923076923076923,
           35,
           10.5,
           32.666666666666664,
           17.166666666666668,
           33.5,
           17.833333333333332,
           36.6,
           22.2,
           37,
           7.4375,
           26.4,
           18.333333333333332,
           29.608695652173914,
           33.2,
           37.2,
           15.38888888888889,
           37.6875,
           17.705882352941178
          ]
         },
         "mode": "markers",
         "name": "MIA",
         "text": [
          "Bam Adebayo - MIA",
          "Jimmy Butler - MIA",
          "Goran Dragić - MIA"
         ],
         "type": "scatter",
         "visible": true,
         "x": [
          22.1,
          18.3,
          26.5
         ],
         "y": [
          49.49829779609389,
          39.37855052504734,
          53.861788617886184
         ]
        },
        {
         "customdata": [
          -9.274072908358434,
          -9.263443575310824,
          2.3970069497724182,
          -1.5239288551839891,
          0.5556359340341785,
          3.654512581369957
         ],
         "hovertemplate": "<b>%{text}</b><br><i>Points per 100 Possesions</i>: %{x:.2f}<br>True Shooting: %{y:.2f} <br>Relative True Shooting: %{customdata:.2f}<extra></extra></br>",
         "marker": {
          "cmax": 81.031181619256,
          "cmin": 32.89473684210527,
          "color": [
           47.924473911790145,
           47.935103244837755,
           59.595553769921,
           55.67461796496459,
           57.75418275418276,
           60.853059401518536
          ],
          "colorbar": {
           "title": {
            "text": "True Shooting"
           }
          },
          "colorscale": [
           [
            0,
            "#0d0887"
           ],
           [
            0.1111111111111111,
            "#46039f"
           ],
           [
            0.2222222222222222,
            "#7201a8"
           ],
           [
            0.3333333333333333,
            "#9c179e"
           ],
           [
            0.4444444444444444,
            "#bd3786"
           ],
           [
            0.5555555555555556,
            "#d8576b"
           ],
           [
            0.6666666666666666,
            "#ed7953"
           ],
           [
            0.7777777777777778,
            "#fb9f3a"
           ],
           [
            0.8888888888888888,
            "#fdca26"
           ],
           [
            1,
            "#f0f921"
           ]
          ],
          "size": [
           34,
           23.2,
           28.4,
           38.095238095238095,
           23.833333333333332,
           36.40909090909091,
           32.4,
           29.210526315789473,
           39,
           26.5,
           19,
           33.22222222222222,
           35.45454545454545,
           40.40909090909091,
           32.13636363636363,
           35,
           23.083333333333332,
           16.285714285714285,
           32.4,
           25.6,
           38.5,
           29.2,
           27,
           31.61111111111111,
           20.166666666666668,
           27.09090909090909,
           10.833333333333334,
           32,
           29.333333333333332,
           23.73913043478261,
           38,
           12.090909090909092,
           33.13636363636363,
           31.75,
           28.8,
           40.142857142857146,
           29.25,
           21,
           40.416666666666664,
           32.45454545454545,
           13.181818181818182,
           38.714285714285715,
           13.65,
           33.4,
           23.4,
           24.555555555555557,
           40.8421052631579,
           27.6,
           34.18181818181818,
           29.9,
           24.875,
           19,
           24.666666666666668,
           26.5,
           34.6,
           37.42857142857143,
           35.77777777777778,
           36.166666666666664,
           36.5,
           17.083333333333332,
           10.357142857142858,
           39.65217391304348,
           12.416666666666666,
           12.444444444444445,
           31,
           30.4,
           27.818181818181817,
           36.111111111111114,
           27.4,
           32.73684210526316,
           37.333333333333336,
           11.444444444444445,
           21.095238095238095,
           34.5,
           14.6,
           26.714285714285715,
           16.25,
           21.5,
           27.25,
           39.27272727272727,
           41.333333333333336,
           29,
           19.894736842105264,
           18.333333333333332,
           13,
           40,
           40.08695652173913,
           12.11111111111111,
           10.083333333333334,
           34.6,
           40.6,
           31.789473684210527,
           28.6,
           22.4,
           11.727272727272727,
           28.833333333333332,
           36.72727272727273,
           9.222222222222221,
           34.15,
           19,
           33.2,
           18.3,
           33.285714285714285,
           36,
           36,
           30.5,
           16.923076923076923,
           35,
           10.5,
           32.666666666666664,
           17.166666666666668,
           33.5,
           17.833333333333332,
           36.6,
           22.2,
           37,
           7.4375,
           26.4,
           18.333333333333332,
           29.608695652173914,
           33.2,
           37.2,
           15.38888888888889,
           37.6875,
           17.705882352941178
          ]
         },
         "mode": "markers",
         "name": "MEM",
         "text": [
          "Grayson Allen - MEM",
          "Kyle Anderson - MEM",
          "Dillon Brooks - MEM",
          "Jaren Jackson Jr. - MEM",
          "Ja Morant - MEM",
          "Jonas Valančiūnas - MEM"
         ],
         "type": "scatter",
         "visible": false,
         "x": [
          13.3,
          14.3,
          35.6,
          23.9,
          35.9,
          21.8
         ],
         "y": [
          47.924473911790145,
          47.935103244837755,
          59.595553769921,
          55.67461796496459,
          57.75418275418276,
          60.853059401518536
         ]
        },
        {
         "customdata": [
          2.651599378681823,
          5.919391032958764,
          -0.4237376598432405,
          -8.804256008373379,
          5.915458206125123,
          -2.474611210098935,
          -2.8507207331920483,
          -12.639447383000359,
          -8.1111574396176
         ],
         "hovertemplate": "<b>%{text}</b><br><i>Points per 100 Possesions</i>: %{x:.2f}<br>True Shooting: %{y:.2f} <br>Relative True Shooting: %{customdata:.2f}<extra></extra></br>",
         "marker": {
          "cmax": 81.031181619256,
          "cmin": 32.89473684210527,
          "color": [
           59.8501461988304,
           63.11793785310734,
           56.77480916030534,
           48.3942908117752,
           63.1140050262737,
           54.723935610049644,
           54.34782608695653,
           44.55909943714822,
           49.08738938053098
          ],
          "colorbar": {
           "title": {
            "text": "True Shooting"
           }
          },
          "colorscale": [
           [
            0,
            "#0d0887"
           ],
           [
            0.1111111111111111,
            "#46039f"
           ],
           [
            0.2222222222222222,
            "#7201a8"
           ],
           [
            0.3333333333333333,
            "#9c179e"
           ],
           [
            0.4444444444444444,
            "#bd3786"
           ],
           [
            0.5555555555555556,
            "#d8576b"
           ],
           [
            0.6666666666666666,
            "#ed7953"
           ],
           [
            0.7777777777777778,
            "#fb9f3a"
           ],
           [
            0.8888888888888888,
            "#fdca26"
           ],
           [
            1,
            "#f0f921"
           ]
          ],
          "size": [
           34,
           23.2,
           28.4,
           38.095238095238095,
           23.833333333333332,
           36.40909090909091,
           32.4,
           29.210526315789473,
           39,
           26.5,
           19,
           33.22222222222222,
           35.45454545454545,
           40.40909090909091,
           32.13636363636363,
           35,
           23.083333333333332,
           16.285714285714285,
           32.4,
           25.6,
           38.5,
           29.2,
           27,
           31.61111111111111,
           20.166666666666668,
           27.09090909090909,
           10.833333333333334,
           32,
           29.333333333333332,
           23.73913043478261,
           38,
           12.090909090909092,
           33.13636363636363,
           31.75,
           28.8,
           40.142857142857146,
           29.25,
           21,
           40.416666666666664,
           32.45454545454545,
           13.181818181818182,
           38.714285714285715,
           13.65,
           33.4,
           23.4,
           24.555555555555557,
           40.8421052631579,
           27.6,
           34.18181818181818,
           29.9,
           24.875,
           19,
           24.666666666666668,
           26.5,
           34.6,
           37.42857142857143,
           35.77777777777778,
           36.166666666666664,
           36.5,
           17.083333333333332,
           10.357142857142858,
           39.65217391304348,
           12.416666666666666,
           12.444444444444445,
           31,
           30.4,
           27.818181818181817,
           36.111111111111114,
           27.4,
           32.73684210526316,
           37.333333333333336,
           11.444444444444445,
           21.095238095238095,
           34.5,
           14.6,
           26.714285714285715,
           16.25,
           21.5,
           27.25,
           39.27272727272727,
           41.333333333333336,
           29,
           19.894736842105264,
           18.333333333333332,
           13,
           40,
           40.08695652173913,
           12.11111111111111,
           10.083333333333334,
           34.6,
           40.6,
           31.789473684210527,
           28.6,
           22.4,
           11.727272727272727,
           28.833333333333332,
           36.72727272727273,
           9.222222222222221,
           34.15,
           19,
           33.2,
           18.3,
           33.285714285714285,
           36,
           36,
           30.5,
           16.923076923076923,
           35,
           10.5,
           32.666666666666664,
           17.166666666666668,
           33.5,
           17.833333333333332,
           36.6,
           22.2,
           37,
           7.4375,
           26.4,
           18.333333333333332,
           29.608695652173914,
           33.2,
           37.2,
           15.38888888888889,
           37.6875,
           17.705882352941178
          ]
         },
         "mode": "markers",
         "name": "MIL",
         "text": [
          "Giannis Antetokounmpo - MIL",
          "Pat Connaughton - MIL",
          "Bryn Forbes - MIL",
          "Jrue Holiday - MIL",
          "Brook Lopez - MIL",
          "Khris Middleton - MIL",
          "Bobby Portis - MIL",
          "Jeff Teague - MIL",
          "P.J. Tucker - MIL"
         ],
         "type": "scatter",
         "visible": false,
         "x": [
          39.3,
          14.3,
          23.8,
          21.7,
          22.1,
          29.1,
          23.8,
          13.3,
          7.1
         ],
         "y": [
          59.8501461988304,
          63.11793785310734,
          56.77480916030534,
          48.3942908117752,
          63.1140050262737,
          54.723935610049644,
          54.34782608695653,
          44.55909943714822,
          49.08738938053098
         ]
        },
        {
         "customdata": [
          -0.2514356314594508,
          11.936154339530276,
          8.86411833651431,
          -5.388160922101882,
          2.608826833538245,
          3.6218929192651004,
          20.767554874766674
         ],
         "hovertemplate": "<b>%{text}</b><br><i>Points per 100 Possesions</i>: %{x:.2f}<br>True Shooting: %{y:.2f} <br>Relative True Shooting: %{customdata:.2f}<extra></extra></br>",
         "marker": {
          "cmax": 81.031181619256,
          "cmin": 32.89473684210527,
          "color": [
           56.94711118868913,
           69.13470115967885,
           66.06266515666289,
           51.8103858980467,
           59.807373653686824,
           60.82043973941368,
           77.96610169491525
          ],
          "colorbar": {
           "title": {
            "text": "True Shooting"
           }
          },
          "colorscale": [
           [
            0,
            "#0d0887"
           ],
           [
            0.1111111111111111,
            "#46039f"
           ],
           [
            0.2222222222222222,
            "#7201a8"
           ],
           [
            0.3333333333333333,
            "#9c179e"
           ],
           [
            0.4444444444444444,
            "#bd3786"
           ],
           [
            0.5555555555555556,
            "#d8576b"
           ],
           [
            0.6666666666666666,
            "#ed7953"
           ],
           [
            0.7777777777777778,
            "#fb9f3a"
           ],
           [
            0.8888888888888888,
            "#fdca26"
           ],
           [
            1,
            "#f0f921"
           ]
          ],
          "size": [
           34,
           23.2,
           28.4,
           38.095238095238095,
           23.833333333333332,
           36.40909090909091,
           32.4,
           29.210526315789473,
           39,
           26.5,
           19,
           33.22222222222222,
           35.45454545454545,
           40.40909090909091,
           32.13636363636363,
           35,
           23.083333333333332,
           16.285714285714285,
           32.4,
           25.6,
           38.5,
           29.2,
           27,
           31.61111111111111,
           20.166666666666668,
           27.09090909090909,
           10.833333333333334,
           32,
           29.333333333333332,
           23.73913043478261,
           38,
           12.090909090909092,
           33.13636363636363,
           31.75,
           28.8,
           40.142857142857146,
           29.25,
           21,
           40.416666666666664,
           32.45454545454545,
           13.181818181818182,
           38.714285714285715,
           13.65,
           33.4,
           23.4,
           24.555555555555557,
           40.8421052631579,
           27.6,
           34.18181818181818,
           29.9,
           24.875,
           19,
           24.666666666666668,
           26.5,
           34.6,
           37.42857142857143,
           35.77777777777778,
           36.166666666666664,
           36.5,
           17.083333333333332,
           10.357142857142858,
           39.65217391304348,
           12.416666666666666,
           12.444444444444445,
           31,
           30.4,
           27.818181818181817,
           36.111111111111114,
           27.4,
           32.73684210526316,
           37.333333333333336,
           11.444444444444445,
           21.095238095238095,
           34.5,
           14.6,
           26.714285714285715,
           16.25,
           21.5,
           27.25,
           39.27272727272727,
           41.333333333333336,
           29,
           19.894736842105264,
           18.333333333333332,
           13,
           40,
           40.08695652173913,
           12.11111111111111,
           10.083333333333334,
           34.6,
           40.6,
           31.789473684210527,
           28.6,
           22.4,
           11.727272727272727,
           28.833333333333332,
           36.72727272727273,
           9.222222222222221,
           34.15,
           19,
           33.2,
           18.3,
           33.285714285714285,
           36,
           36,
           30.5,
           16.923076923076923,
           35,
           10.5,
           32.666666666666664,
           17.166666666666668,
           33.5,
           17.833333333333332,
           36.6,
           22.2,
           37,
           7.4375,
           26.4,
           18.333333333333332,
           29.608695652173914,
           33.2,
           37.2,
           15.38888888888889,
           37.6875,
           17.705882352941178
          ]
         },
         "mode": "markers",
         "name": "POR",
         "text": [
          "Carmelo Anthony - POR",
          "Robert Covington - POR",
          "Damian Lillard - POR",
          "CJ McCollum - POR",
          "Jusuf Nurkić - POR",
          "Norman Powell - POR",
          "Anfernee Simons - POR"
         ],
         "type": "scatter",
         "visible": false,
         "x": [
          26.1,
          12.4,
          42,
          26.1,
          23.1,
          23.9,
          18.4
         ],
         "y": [
          56.94711118868913,
          69.13470115967885,
          66.06266515666289,
          51.8103858980467,
          59.807373653686824,
          60.82043973941368,
          77.96610169491525
         ]
        },
        {
         "customdata": [
          10.177776093954279,
          -1.3920529735918876,
          2.884326108028212,
          -3.276978192697591,
          2.4118050263184116,
          12.383958150030352,
          1.2088240255243434,
          -6.10245319891898,
          4.123279207559804
         ],
         "hovertemplate": "<b>%{text}</b><br><i>Points per 100 Possesions</i>: %{x:.2f}<br>True Shooting: %{y:.2f} <br>Relative True Shooting: %{customdata:.2f}<extra></extra></br>",
         "marker": {
          "cmax": 81.031181619256,
          "cmin": 32.89473684210527,
          "color": [
           67.37632291410286,
           55.80649384655669,
           60.08287292817679,
           53.92156862745099,
           59.61035184646699,
           69.58250497017893,
           58.40737084567292,
           51.0960936212296,
           61.32182602770838
          ],
          "colorbar": {
           "title": {
            "text": "True Shooting"
           }
          },
          "colorscale": [
           [
            0,
            "#0d0887"
           ],
           [
            0.1111111111111111,
            "#46039f"
           ],
           [
            0.2222222222222222,
            "#7201a8"
           ],
           [
            0.3333333333333333,
            "#9c179e"
           ],
           [
            0.4444444444444444,
            "#bd3786"
           ],
           [
            0.5555555555555556,
            "#d8576b"
           ],
           [
            0.6666666666666666,
            "#ed7953"
           ],
           [
            0.7777777777777778,
            "#fb9f3a"
           ],
           [
            0.8888888888888888,
            "#fdca26"
           ],
           [
            1,
            "#f0f921"
           ]
          ],
          "size": [
           34,
           23.2,
           28.4,
           38.095238095238095,
           23.833333333333332,
           36.40909090909091,
           32.4,
           29.210526315789473,
           39,
           26.5,
           19,
           33.22222222222222,
           35.45454545454545,
           40.40909090909091,
           32.13636363636363,
           35,
           23.083333333333332,
           16.285714285714285,
           32.4,
           25.6,
           38.5,
           29.2,
           27,
           31.61111111111111,
           20.166666666666668,
           27.09090909090909,
           10.833333333333334,
           32,
           29.333333333333332,
           23.73913043478261,
           38,
           12.090909090909092,
           33.13636363636363,
           31.75,
           28.8,
           40.142857142857146,
           29.25,
           21,
           40.416666666666664,
           32.45454545454545,
           13.181818181818182,
           38.714285714285715,
           13.65,
           33.4,
           23.4,
           24.555555555555557,
           40.8421052631579,
           27.6,
           34.18181818181818,
           29.9,
           24.875,
           19,
           24.666666666666668,
           26.5,
           34.6,
           37.42857142857143,
           35.77777777777778,
           36.166666666666664,
           36.5,
           17.083333333333332,
           10.357142857142858,
           39.65217391304348,
           12.416666666666666,
           12.444444444444445,
           31,
           30.4,
           27.818181818181817,
           36.111111111111114,
           27.4,
           32.73684210526316,
           37.333333333333336,
           11.444444444444445,
           21.095238095238095,
           34.5,
           14.6,
           26.714285714285715,
           16.25,
           21.5,
           27.25,
           39.27272727272727,
           41.333333333333336,
           29,
           19.894736842105264,
           18.333333333333332,
           13,
           40,
           40.08695652173913,
           12.11111111111111,
           10.083333333333334,
           34.6,
           40.6,
           31.789473684210527,
           28.6,
           22.4,
           11.727272727272727,
           28.833333333333332,
           36.72727272727273,
           9.222222222222221,
           34.15,
           19,
           33.2,
           18.3,
           33.285714285714285,
           36,
           36,
           30.5,
           16.923076923076923,
           35,
           10.5,
           32.666666666666664,
           17.166666666666668,
           33.5,
           17.833333333333332,
           36.6,
           22.2,
           37,
           7.4375,
           26.4,
           18.333333333333332,
           29.608695652173914,
           33.2,
           37.2,
           15.38888888888889,
           37.6875,
           17.705882352941178
          ]
         },
         "mode": "markers",
         "name": "PHO",
         "text": [
          "Deandre Ayton - PHO",
          "Devin Booker - PHO",
          "Mikal Bridges - PHO",
          "Torrey Craig - PHO",
          "Jae Crowder - PHO",
          "Cameron Johnson - PHO",
          "Chris Paul - PHO",
          "Cameron Payne - PHO",
          "Dario Šarić - PHO"
         ],
         "type": "scatter",
         "visible": false,
         "x": [
          21.9,
          34.1,
          17.4,
          16.5,
          16.4,
          19.6,
          28.4,
          24.8,
          21.6
         ],
         "y": [
          67.37632291410286,
          55.80649384655669,
          60.08287292817679,
          53.92156862745099,
          59.61035184646699,
          69.58250497017893,
          58.40737084567292,
          51.0960936212296,
          61.32182602770838
         ]
        },
        {
         "customdata": [
          -8.204219847482257,
          -3.7534530028615976,
          -2.8169433397259525,
          4.179489082702531,
          -14.656669659818881,
          -2.0400632900056337
         ],
         "hovertemplate": "<b>%{text}</b><br><i>Points per 100 Possesions</i>: %{x:.2f}<br>True Shooting: %{y:.2f} <br>Relative True Shooting: %{customdata:.2f}<extra></extra></br>",
         "marker": {
          "cmax": 81.031181619256,
          "cmin": 32.89473684210527,
          "color": [
           48.99432697266632,
           53.44509381728698,
           54.381603480422626,
           61.37803590285111,
           42.5418771603297,
           55.158483530142945
          ],
          "colorbar": {
           "title": {
            "text": "True Shooting"
           }
          },
          "colorscale": [
           [
            0,
            "#0d0887"
           ],
           [
            0.1111111111111111,
            "#46039f"
           ],
           [
            0.2222222222222222,
            "#7201a8"
           ],
           [
            0.3333333333333333,
            "#9c179e"
           ],
           [
            0.4444444444444444,
            "#bd3786"
           ],
           [
            0.5555555555555556,
            "#d8576b"
           ],
           [
            0.6666666666666666,
            "#ed7953"
           ],
           [
            0.7777777777777778,
            "#fb9f3a"
           ],
           [
            0.8888888888888888,
            "#fdca26"
           ],
           [
            1,
            "#f0f921"
           ]
          ],
          "size": [
           34,
           23.2,
           28.4,
           38.095238095238095,
           23.833333333333332,
           36.40909090909091,
           32.4,
           29.210526315789473,
           39,
           26.5,
           19,
           33.22222222222222,
           35.45454545454545,
           40.40909090909091,
           32.13636363636363,
           35,
           23.083333333333332,
           16.285714285714285,
           32.4,
           25.6,
           38.5,
           29.2,
           27,
           31.61111111111111,
           20.166666666666668,
           27.09090909090909,
           10.833333333333334,
           32,
           29.333333333333332,
           23.73913043478261,
           38,
           12.090909090909092,
           33.13636363636363,
           31.75,
           28.8,
           40.142857142857146,
           29.25,
           21,
           40.416666666666664,
           32.45454545454545,
           13.181818181818182,
           38.714285714285715,
           13.65,
           33.4,
           23.4,
           24.555555555555557,
           40.8421052631579,
           27.6,
           34.18181818181818,
           29.9,
           24.875,
           19,
           24.666666666666668,
           26.5,
           34.6,
           37.42857142857143,
           35.77777777777778,
           36.166666666666664,
           36.5,
           17.083333333333332,
           10.357142857142858,
           39.65217391304348,
           12.416666666666666,
           12.444444444444445,
           31,
           30.4,
           27.818181818181817,
           36.111111111111114,
           27.4,
           32.73684210526316,
           37.333333333333336,
           11.444444444444445,
           21.095238095238095,
           34.5,
           14.6,
           26.714285714285715,
           16.25,
           21.5,
           27.25,
           39.27272727272727,
           41.333333333333336,
           29,
           19.894736842105264,
           18.333333333333332,
           13,
           40,
           40.08695652173913,
           12.11111111111111,
           10.083333333333334,
           34.6,
           40.6,
           31.789473684210527,
           28.6,
           22.4,
           11.727272727272727,
           28.833333333333332,
           36.72727272727273,
           9.222222222222221,
           34.15,
           19,
           33.2,
           18.3,
           33.285714285714285,
           36,
           36,
           30.5,
           16.923076923076923,
           35,
           10.5,
           32.666666666666664,
           17.166666666666668,
           33.5,
           17.833333333333332,
           36.6,
           22.2,
           37,
           7.4375,
           26.4,
           18.333333333333332,
           29.608695652173914,
           33.2,
           37.2,
           15.38888888888889,
           37.6875,
           17.705882352941178
          ]
         },
         "mode": "markers",
         "name": "NYK",
         "text": [
          "RJ Barrett - NYK",
          "Reggie Bullock - NYK",
          "Alec Burks - NYK",
          "Taj Gibson - NYK",
          "Julius Randle - NYK",
          "Derrick Rose - NYK"
         ],
         "type": "scatter",
         "visible": false,
         "x": [
          22.8,
          13.9,
          28,
          9.3,
          25.6,
          28.4
         ],
         "y": [
          48.99432697266632,
          53.44509381728698,
          54.381603480422626,
          61.37803590285111,
          42.5418771603297,
          55.158483530142945
         ]
        },
        {
         "customdata": [
          7.0768936688841535,
          -1.1655168235189848,
          0.7315972407375355,
          5.2570008327674955,
          6.590112973665853,
          10.690115773198329,
          4.860424954044973,
          -2.7912852278476166,
          -10.227967152219648,
          10.969799356496338
         ],
         "hovertemplate": "<b>%{text}</b><br><i>Points per 100 Possesions</i>: %{x:.2f}<br>True Shooting: %{y:.2f} <br>Relative True Shooting: %{customdata:.2f}<extra></extra></br>",
         "marker": {
          "cmax": 81.031181619256,
          "cmin": 32.89473684210527,
          "color": [
           64.27544048903273,
           56.033029996629594,
           57.930144060886114,
           62.455547652916074,
           63.78865979381443,
           67.88866259334691,
           62.05897177419355,
           54.40726159230096,
           46.97057966792893,
           68.16834617664492
          ],
          "colorbar": {
           "title": {
            "text": "True Shooting"
           }
          },
          "colorscale": [
           [
            0,
            "#0d0887"
           ],
           [
            0.1111111111111111,
            "#46039f"
           ],
           [
            0.2222222222222222,
            "#7201a8"
           ],
           [
            0.3333333333333333,
            "#9c179e"
           ],
           [
            0.4444444444444444,
            "#bd3786"
           ],
           [
            0.5555555555555556,
            "#d8576b"
           ],
           [
            0.6666666666666666,
            "#ed7953"
           ],
           [
            0.7777777777777778,
            "#fb9f3a"
           ],
           [
            0.8888888888888888,
            "#fdca26"
           ],
           [
            1,
            "#f0f921"
           ]
          ],
          "size": [
           34,
           23.2,
           28.4,
           38.095238095238095,
           23.833333333333332,
           36.40909090909091,
           32.4,
           29.210526315789473,
           39,
           26.5,
           19,
           33.22222222222222,
           35.45454545454545,
           40.40909090909091,
           32.13636363636363,
           35,
           23.083333333333332,
           16.285714285714285,
           32.4,
           25.6,
           38.5,
           29.2,
           27,
           31.61111111111111,
           20.166666666666668,
           27.09090909090909,
           10.833333333333334,
           32,
           29.333333333333332,
           23.73913043478261,
           38,
           12.090909090909092,
           33.13636363636363,
           31.75,
           28.8,
           40.142857142857146,
           29.25,
           21,
           40.416666666666664,
           32.45454545454545,
           13.181818181818182,
           38.714285714285715,
           13.65,
           33.4,
           23.4,
           24.555555555555557,
           40.8421052631579,
           27.6,
           34.18181818181818,
           29.9,
           24.875,
           19,
           24.666666666666668,
           26.5,
           34.6,
           37.42857142857143,
           35.77777777777778,
           36.166666666666664,
           36.5,
           17.083333333333332,
           10.357142857142858,
           39.65217391304348,
           12.416666666666666,
           12.444444444444445,
           31,
           30.4,
           27.818181818181817,
           36.111111111111114,
           27.4,
           32.73684210526316,
           37.333333333333336,
           11.444444444444445,
           21.095238095238095,
           34.5,
           14.6,
           26.714285714285715,
           16.25,
           21.5,
           27.25,
           39.27272727272727,
           41.333333333333336,
           29,
           19.894736842105264,
           18.333333333333332,
           13,
           40,
           40.08695652173913,
           12.11111111111111,
           10.083333333333334,
           34.6,
           40.6,
           31.789473684210527,
           28.6,
           22.4,
           11.727272727272727,
           28.833333333333332,
           36.72727272727273,
           9.222222222222221,
           34.15,
           19,
           33.2,
           18.3,
           33.285714285714285,
           36,
           36,
           30.5,
           16.923076923076923,
           35,
           10.5,
           32.666666666666664,
           17.166666666666668,
           33.5,
           17.833333333333332,
           36.6,
           22.2,
           37,
           7.4375,
           26.4,
           18.333333333333332,
           29.608695652173914,
           33.2,
           37.2,
           15.38888888888889,
           37.6875,
           17.705882352941178
          ]
         },
         "mode": "markers",
         "name": "LAC",
         "text": [
          "Nicolas Batum - LAC",
          "Patrick Beverley - LAC",
          "Paul George - LAC",
          "Reggie Jackson - LAC",
          "Luke Kennard - LAC",
          "Kawhi Leonard - LAC",
          "Terance Mann - LAC",
          "Marcus Morris - LAC",
          "Rajon Rondo - LAC",
          "Ivica Zubac - LAC"
         ],
         "type": "scatter",
         "visible": false,
         "x": [
          14.3,
          13.3,
          34.1,
          28.1,
          19.8,
          40,
          19.7,
          19.9,
          12.9,
          18.4
         ],
         "y": [
          64.27544048903273,
          56.033029996629594,
          57.930144060886114,
          62.455547652916074,
          63.78865979381443,
          67.88866259334691,
          62.05897177419355,
          54.40726159230096,
          46.97057966792893,
          68.16834617664492
         ]
        },
        {
         "customdata": [
          -3.2018973047722525,
          4.160327768297989,
          23.832634799107424,
          13.317871928097276,
          -13.189088070805433,
          -17.638107259709017,
          -11.037598982019631
         ],
         "hovertemplate": "<b>%{text}</b><br><i>Points per 100 Possesions</i>: %{x:.2f}<br>True Shooting: %{y:.2f} <br>Relative True Shooting: %{customdata:.2f}<extra></extra></br>",
         "marker": {
          "cmax": 81.031181619256,
          "cmin": 32.89473684210527,
          "color": [
           53.996649515376326,
           61.35887458844657,
           81.031181619256,
           70.51641874824585,
           44.009458749343146,
           39.56043956043956,
           46.16094783812895
          ],
          "colorbar": {
           "title": {
            "text": "True Shooting"
           }
          },
          "colorscale": [
           [
            0,
            "#0d0887"
           ],
           [
            0.1111111111111111,
            "#46039f"
           ],
           [
            0.2222222222222222,
            "#7201a8"
           ],
           [
            0.3333333333333333,
            "#9c179e"
           ],
           [
            0.4444444444444444,
            "#bd3786"
           ],
           [
            0.5555555555555556,
            "#d8576b"
           ],
           [
            0.6666666666666666,
            "#ed7953"
           ],
           [
            0.7777777777777778,
            "#fb9f3a"
           ],
           [
            0.8888888888888888,
            "#fdca26"
           ],
           [
            1,
            "#f0f921"
           ]
          ],
          "size": [
           34,
           23.2,
           28.4,
           38.095238095238095,
           23.833333333333332,
           36.40909090909091,
           32.4,
           29.210526315789473,
           39,
           26.5,
           19,
           33.22222222222222,
           35.45454545454545,
           40.40909090909091,
           32.13636363636363,
           35,
           23.083333333333332,
           16.285714285714285,
           32.4,
           25.6,
           38.5,
           29.2,
           27,
           31.61111111111111,
           20.166666666666668,
           27.09090909090909,
           10.833333333333334,
           32,
           29.333333333333332,
           23.73913043478261,
           38,
           12.090909090909092,
           33.13636363636363,
           31.75,
           28.8,
           40.142857142857146,
           29.25,
           21,
           40.416666666666664,
           32.45454545454545,
           13.181818181818182,
           38.714285714285715,
           13.65,
           33.4,
           23.4,
           24.555555555555557,
           40.8421052631579,
           27.6,
           34.18181818181818,
           29.9,
           24.875,
           19,
           24.666666666666668,
           26.5,
           34.6,
           37.42857142857143,
           35.77777777777778,
           36.166666666666664,
           36.5,
           17.083333333333332,
           10.357142857142858,
           39.65217391304348,
           12.416666666666666,
           12.444444444444445,
           31,
           30.4,
           27.818181818181817,
           36.111111111111114,
           27.4,
           32.73684210526316,
           37.333333333333336,
           11.444444444444445,
           21.095238095238095,
           34.5,
           14.6,
           26.714285714285715,
           16.25,
           21.5,
           27.25,
           39.27272727272727,
           41.333333333333336,
           29,
           19.894736842105264,
           18.333333333333332,
           13,
           40,
           40.08695652173913,
           12.11111111111111,
           10.083333333333334,
           34.6,
           40.6,
           31.789473684210527,
           28.6,
           22.4,
           11.727272727272727,
           28.833333333333332,
           36.72727272727273,
           9.222222222222221,
           34.15,
           19,
           33.2,
           18.3,
           33.285714285714285,
           36,
           36,
           30.5,
           16.923076923076923,
           35,
           10.5,
           32.666666666666664,
           17.166666666666668,
           33.5,
           17.833333333333332,
           36.6,
           22.2,
           37,
           7.4375,
           26.4,
           18.333333333333332,
           29.608695652173914,
           33.2,
           37.2,
           15.38888888888889,
           37.6875,
           17.705882352941178
          ]
         },
         "mode": "markers",
         "name": "WAS",
         "text": [
          "Bradley Beal - WAS",
          "Dāvis Bertāns - WAS",
          "Daniel Gafford - WAS",
          "Rui Hachimura - WAS",
          "Raul Neto - WAS",
          "Ish Smith - WAS",
          "Russell Westbrook - WAS"
         ],
         "type": "scatter",
         "visible": false,
         "x": [
          36.1,
          16.4,
          23.7,
          20.1,
          13.4,
          14.4,
          24
         ],
         "y": [
          53.996649515376326,
          61.35887458844657,
          81.031181619256,
          70.51641874824585,
          44.009458749343146,
          39.56043956043956,
          46.16094783812895
         ]
        },
        {
         "customdata": [
          -7.707596593904242,
          2.2178190041594803,
          5.799577886836893,
          1.5262853946165222,
          -24.30380997804331,
          -4.077298320748824,
          -5.397275334393925,
          2.0294187199441964,
          -0.11987452966627643,
          -2.0150872977257634
         ],
         "hovertemplate": "<b>%{text}</b><br><i>Points per 100 Possesions</i>: %{x:.2f}<br>True Shooting: %{y:.2f} <br>Relative True Shooting: %{customdata:.2f}<extra></extra></br>",
         "marker": {
          "cmax": 81.031181619256,
          "cmin": 32.89473684210527,
          "color": [
           49.49095022624434,
           59.41636582430806,
           62.99812470698547,
           58.7248322147651,
           32.89473684210527,
           53.121248499399755,
           51.801271485754654,
           59.227965540092775,
           57.0786722904823,
           55.183459522422815
          ],
          "colorbar": {
           "title": {
            "text": "True Shooting"
           }
          },
          "colorscale": [
           [
            0,
            "#0d0887"
           ],
           [
            0.1111111111111111,
            "#46039f"
           ],
           [
            0.2222222222222222,
            "#7201a8"
           ],
           [
            0.3333333333333333,
            "#9c179e"
           ],
           [
            0.4444444444444444,
            "#bd3786"
           ],
           [
            0.5555555555555556,
            "#d8576b"
           ],
           [
            0.6666666666666666,
            "#ed7953"
           ],
           [
            0.7777777777777778,
            "#fb9f3a"
           ],
           [
            0.8888888888888888,
            "#fdca26"
           ],
           [
            1,
            "#f0f921"
           ]
          ],
          "size": [
           34,
           23.2,
           28.4,
           38.095238095238095,
           23.833333333333332,
           36.40909090909091,
           32.4,
           29.210526315789473,
           39,
           26.5,
           19,
           33.22222222222222,
           35.45454545454545,
           40.40909090909091,
           32.13636363636363,
           35,
           23.083333333333332,
           16.285714285714285,
           32.4,
           25.6,
           38.5,
           29.2,
           27,
           31.61111111111111,
           20.166666666666668,
           27.09090909090909,
           10.833333333333334,
           32,
           29.333333333333332,
           23.73913043478261,
           38,
           12.090909090909092,
           33.13636363636363,
           31.75,
           28.8,
           40.142857142857146,
           29.25,
           21,
           40.416666666666664,
           32.45454545454545,
           13.181818181818182,
           38.714285714285715,
           13.65,
           33.4,
           23.4,
           24.555555555555557,
           40.8421052631579,
           27.6,
           34.18181818181818,
           29.9,
           24.875,
           19,
           24.666666666666668,
           26.5,
           34.6,
           37.42857142857143,
           35.77777777777778,
           36.166666666666664,
           36.5,
           17.083333333333332,
           10.357142857142858,
           39.65217391304348,
           12.416666666666666,
           12.444444444444445,
           31,
           30.4,
           27.818181818181817,
           36.111111111111114,
           27.4,
           32.73684210526316,
           37.333333333333336,
           11.444444444444445,
           21.095238095238095,
           34.5,
           14.6,
           26.714285714285715,
           16.25,
           21.5,
           27.25,
           39.27272727272727,
           41.333333333333336,
           29,
           19.894736842105264,
           18.333333333333332,
           13,
           40,
           40.08695652173913,
           12.11111111111111,
           10.083333333333334,
           34.6,
           40.6,
           31.789473684210527,
           28.6,
           22.4,
           11.727272727272727,
           28.833333333333332,
           36.72727272727273,
           9.222222222222221,
           34.15,
           19,
           33.2,
           18.3,
           33.285714285714285,
           36,
           36,
           30.5,
           16.923076923076923,
           35,
           10.5,
           32.666666666666664,
           17.166666666666668,
           33.5,
           17.833333333333332,
           36.6,
           22.2,
           37,
           7.4375,
           26.4,
           18.333333333333332,
           29.608695652173914,
           33.2,
           37.2,
           15.38888888888889,
           37.6875,
           17.705882352941178
          ]
         },
         "mode": "markers",
         "name": "ATL",
         "text": [
          "Bogdan Bogdanović - ATL",
          "Clint Capela - ATL",
          "John Collins - ATL",
          "Danilo Gallinari - ATL",
          "Solomon Hill - ATL",
          "Kevin Huerter - ATL",
          "De'Andre Hunter - ATL",
          "Onyeka Okongwu - ATL",
          "Lou Williams - ATL",
          "Trae Young - ATL"
         ],
         "type": "scatter",
         "visible": false,
         "x": [
          21,
          15.8,
          21.5,
          25.9,
          5.8,
          17.7,
          17.6,
          14.3,
          24.9,
          37.9
         ],
         "y": [
          49.49095022624434,
          59.41636582430806,
          62.99812470698547,
          58.7248322147651,
          32.89473684210527,
          53.121248499399755,
          51.801271485754654,
          59.227965540092775,
          57.0786722904823,
          55.183459522422815
         ]
        },
        {
         "customdata": [
          6.981764479629064,
          -2.4379337725424577,
          4.126641149776233,
          11.346358188486988,
          16.57306997919264,
          8.628999476147712,
          2.816941047688289,
          -14.368597581569901,
          11.349840276625628
         ],
         "hovertemplate": "<b>%{text}</b><br><i>Points per 100 Possesions</i>: %{x:.2f}<br>True Shooting: %{y:.2f} <br>Relative True Shooting: %{customdata:.2f}<extra></extra></br>",
         "marker": {
          "cmax": 81.031181619256,
          "cmin": 32.89473684210527,
          "color": [
           64.18031129977764,
           54.76061304760612,
           61.32518796992481,
           68.54490500863557,
           73.77161679934122,
           65.82754629629629,
           60.01548786783687,
           42.82994923857868,
           68.5483870967742
          ],
          "colorbar": {
           "title": {
            "text": "True Shooting"
           }
          },
          "colorscale": [
           [
            0,
            "#0d0887"
           ],
           [
            0.1111111111111111,
            "#46039f"
           ],
           [
            0.2222222222222222,
            "#7201a8"
           ],
           [
            0.3333333333333333,
            "#9c179e"
           ],
           [
            0.4444444444444444,
            "#bd3786"
           ],
           [
            0.5555555555555556,
            "#d8576b"
           ],
           [
            0.6666666666666666,
            "#ed7953"
           ],
           [
            0.7777777777777778,
            "#fb9f3a"
           ],
           [
            0.8888888888888888,
            "#fdca26"
           ],
           [
            1,
            "#f0f921"
           ]
          ],
          "size": [
           34,
           23.2,
           28.4,
           38.095238095238095,
           23.833333333333332,
           36.40909090909091,
           32.4,
           29.210526315789473,
           39,
           26.5,
           19,
           33.22222222222222,
           35.45454545454545,
           40.40909090909091,
           32.13636363636363,
           35,
           23.083333333333332,
           16.285714285714285,
           32.4,
           25.6,
           38.5,
           29.2,
           27,
           31.61111111111111,
           20.166666666666668,
           27.09090909090909,
           10.833333333333334,
           32,
           29.333333333333332,
           23.73913043478261,
           38,
           12.090909090909092,
           33.13636363636363,
           31.75,
           28.8,
           40.142857142857146,
           29.25,
           21,
           40.416666666666664,
           32.45454545454545,
           13.181818181818182,
           38.714285714285715,
           13.65,
           33.4,
           23.4,
           24.555555555555557,
           40.8421052631579,
           27.6,
           34.18181818181818,
           29.9,
           24.875,
           19,
           24.666666666666668,
           26.5,
           34.6,
           37.42857142857143,
           35.77777777777778,
           36.166666666666664,
           36.5,
           17.083333333333332,
           10.357142857142858,
           39.65217391304348,
           12.416666666666666,
           12.444444444444445,
           31,
           30.4,
           27.818181818181817,
           36.111111111111114,
           27.4,
           32.73684210526316,
           37.333333333333336,
           11.444444444444445,
           21.095238095238095,
           34.5,
           14.6,
           26.714285714285715,
           16.25,
           21.5,
           27.25,
           39.27272727272727,
           41.333333333333336,
           29,
           19.894736842105264,
           18.333333333333332,
           13,
           40,
           40.08695652173913,
           12.11111111111111,
           10.083333333333334,
           34.6,
           40.6,
           31.789473684210527,
           28.6,
           22.4,
           11.727272727272727,
           28.833333333333332,
           36.72727272727273,
           9.222222222222221,
           34.15,
           19,
           33.2,
           18.3,
           33.285714285714285,
           36,
           36,
           30.5,
           16.923076923076923,
           35,
           10.5,
           32.666666666666664,
           17.166666666666668,
           33.5,
           17.833333333333332,
           36.6,
           22.2,
           37,
           7.4375,
           26.4,
           18.333333333333332,
           29.608695652173914,
           33.2,
           37.2,
           15.38888888888889,
           37.6875,
           17.705882352941178
          ]
         },
         "mode": "markers",
         "name": "UTA",
         "text": [
          "Bojan Bogdanović - UTA",
          "Jordan Clarkson - UTA",
          "Mike Conley - UTA",
          "Derrick Favors - UTA",
          "Rudy Gobert - UTA",
          "Joe Ingles - UTA",
          "Donovan Mitchell - UTA",
          "Georges Niang - UTA",
          "Royce O'Neale - UTA"
         ],
         "type": "scatter",
         "visible": false,
         "x": [
          25.4,
          32.3,
          26.1,
          12.7,
          21.5,
          18.2,
          46.5,
          13.5,
          15.3
         ],
         "y": [
          64.18031129977764,
          54.76061304760612,
          61.32518796992481,
          68.54490500863557,
          73.77161679934122,
          65.82754629629629,
          60.01548786783687,
          42.82994923857868,
          68.5483870967742
         ]
        },
        {
         "customdata": [
          -2.306405063600039,
          -7.748942416983802,
          5.605824245298614,
          9.940125054851421,
          6.3861330122870825,
          9.867663225513525,
          -3.800488567721395,
          0.966835515358234,
          -18.92103485842609,
          0.8183308169822112
         ],
         "hovertemplate": "<b>%{text}</b><br><i>Points per 100 Possesions</i>: %{x:.2f}<br>True Shooting: %{y:.2f} <br>Relative True Shooting: %{customdata:.2f}<extra></extra></br>",
         "marker": {
          "cmax": 81.031181619256,
          "cmin": 32.89473684210527,
          "color": [
           54.89214175654854,
           49.44960440316478,
           62.80437106544719,
           67.138671875,
           63.58467983243566,
           67.0662100456621,
           53.398058252427184,
           58.16538233550681,
           38.27751196172249,
           58.01687763713079
          ],
          "colorbar": {
           "title": {
            "text": "True Shooting"
           }
          },
          "colorscale": [
           [
            0,
            "#0d0887"
           ],
           [
            0.1111111111111111,
            "#46039f"
           ],
           [
            0.2222222222222222,
            "#7201a8"
           ],
           [
            0.3333333333333333,
            "#9c179e"
           ],
           [
            0.4444444444444444,
            "#bd3786"
           ],
           [
            0.5555555555555556,
            "#d8576b"
           ],
           [
            0.6666666666666666,
            "#ed7953"
           ],
           [
            0.7777777777777778,
            "#fb9f3a"
           ],
           [
            0.8888888888888888,
            "#fdca26"
           ],
           [
            1,
            "#f0f921"
           ]
          ],
          "size": [
           34,
           23.2,
           28.4,
           38.095238095238095,
           23.833333333333332,
           36.40909090909091,
           32.4,
           29.210526315789473,
           39,
           26.5,
           19,
           33.22222222222222,
           35.45454545454545,
           40.40909090909091,
           32.13636363636363,
           35,
           23.083333333333332,
           16.285714285714285,
           32.4,
           25.6,
           38.5,
           29.2,
           27,
           31.61111111111111,
           20.166666666666668,
           27.09090909090909,
           10.833333333333334,
           32,
           29.333333333333332,
           23.73913043478261,
           38,
           12.090909090909092,
           33.13636363636363,
           31.75,
           28.8,
           40.142857142857146,
           29.25,
           21,
           40.416666666666664,
           32.45454545454545,
           13.181818181818182,
           38.714285714285715,
           13.65,
           33.4,
           23.4,
           24.555555555555557,
           40.8421052631579,
           27.6,
           34.18181818181818,
           29.9,
           24.875,
           19,
           24.666666666666668,
           26.5,
           34.6,
           37.42857142857143,
           35.77777777777778,
           36.166666666666664,
           36.5,
           17.083333333333332,
           10.357142857142858,
           39.65217391304348,
           12.416666666666666,
           12.444444444444445,
           31,
           30.4,
           27.818181818181817,
           36.111111111111114,
           27.4,
           32.73684210526316,
           37.333333333333336,
           11.444444444444445,
           21.095238095238095,
           34.5,
           14.6,
           26.714285714285715,
           16.25,
           21.5,
           27.25,
           39.27272727272727,
           41.333333333333336,
           29,
           19.894736842105264,
           18.333333333333332,
           13,
           40,
           40.08695652173913,
           12.11111111111111,
           10.083333333333334,
           34.6,
           40.6,
           31.789473684210527,
           28.6,
           22.4,
           11.727272727272727,
           28.833333333333332,
           36.72727272727273,
           9.222222222222221,
           34.15,
           19,
           33.2,
           18.3,
           33.285714285714285,
           36,
           36,
           30.5,
           16.923076923076923,
           35,
           10.5,
           32.666666666666664,
           17.166666666666668,
           33.5,
           17.833333333333332,
           36.6,
           22.2,
           37,
           7.4375,
           26.4,
           18.333333333333332,
           29.608695652173914,
           33.2,
           37.2,
           15.38888888888889,
           37.6875,
           17.705882352941178
          ]
         },
         "mode": "markers",
         "name": "BRK",
         "text": [
          "Bruce Brown - BRK",
          "Nic Claxton - BRK",
          "Kevin Durant - BRK",
          "Jeff Green - BRK",
          "Blake Griffin - BRK",
          "James Harden - BRK",
          "Joe Harris - BRK",
          "Kyrie Irving - BRK",
          "Mike James - BRK",
          "Landry Shamet - BRK"
         ],
         "type": "scatter",
         "visible": false,
         "x": [
          17.1,
          11.5,
          42.3,
          16.5,
          17,
          28.2,
          15.4,
          31.4,
          16,
          12.1
         ],
         "y": [
          54.89214175654854,
          49.44960440316478,
          62.80437106544719,
          67.138671875,
          63.58467983243566,
          67.0662100456621,
          53.398058252427184,
          58.16538233550681,
          38.27751196172249,
          58.01687763713079
         ]
        },
        {
         "customdata": [
          -0.9376011108666162,
          -0.04515448976509617,
          -3.070820963450764,
          -2.1263513369941904,
          -1.702857164976173,
          -0.2673064929321214
         ],
         "hovertemplate": "<b>%{text}</b><br><i>Points per 100 Possesions</i>: %{x:.2f}<br>True Shooting: %{y:.2f} <br>Relative True Shooting: %{customdata:.2f}<extra></extra></br>",
         "marker": {
          "cmax": 81.031181619256,
          "cmin": 32.89473684210527,
          "color": [
           56.26094570928196,
           57.15339233038348,
           54.127725856697815,
           55.07219548315439,
           55.495689655172406,
           56.93124032721646
          ],
          "colorbar": {
           "title": {
            "text": "True Shooting"
           }
          },
          "colorscale": [
           [
            0,
            "#0d0887"
           ],
           [
            0.1111111111111111,
            "#46039f"
           ],
           [
            0.2222222222222222,
            "#7201a8"
           ],
           [
            0.3333333333333333,
            "#9c179e"
           ],
           [
            0.4444444444444444,
            "#bd3786"
           ],
           [
            0.5555555555555556,
            "#d8576b"
           ],
           [
            0.6666666666666666,
            "#ed7953"
           ],
           [
            0.7777777777777778,
            "#fb9f3a"
           ],
           [
            0.8888888888888888,
            "#fdca26"
           ],
           [
            1,
            "#f0f921"
           ]
          ],
          "size": [
           34,
           23.2,
           28.4,
           38.095238095238095,
           23.833333333333332,
           36.40909090909091,
           32.4,
           29.210526315789473,
           39,
           26.5,
           19,
           33.22222222222222,
           35.45454545454545,
           40.40909090909091,
           32.13636363636363,
           35,
           23.083333333333332,
           16.285714285714285,
           32.4,
           25.6,
           38.5,
           29.2,
           27,
           31.61111111111111,
           20.166666666666668,
           27.09090909090909,
           10.833333333333334,
           32,
           29.333333333333332,
           23.73913043478261,
           38,
           12.090909090909092,
           33.13636363636363,
           31.75,
           28.8,
           40.142857142857146,
           29.25,
           21,
           40.416666666666664,
           32.45454545454545,
           13.181818181818182,
           38.714285714285715,
           13.65,
           33.4,
           23.4,
           24.555555555555557,
           40.8421052631579,
           27.6,
           34.18181818181818,
           29.9,
           24.875,
           19,
           24.666666666666668,
           26.5,
           34.6,
           37.42857142857143,
           35.77777777777778,
           36.166666666666664,
           36.5,
           17.083333333333332,
           10.357142857142858,
           39.65217391304348,
           12.416666666666666,
           12.444444444444445,
           31,
           30.4,
           27.818181818181817,
           36.111111111111114,
           27.4,
           32.73684210526316,
           37.333333333333336,
           11.444444444444445,
           21.095238095238095,
           34.5,
           14.6,
           26.714285714285715,
           16.25,
           21.5,
           27.25,
           39.27272727272727,
           41.333333333333336,
           29,
           19.894736842105264,
           18.333333333333332,
           13,
           40,
           40.08695652173913,
           12.11111111111111,
           10.083333333333334,
           34.6,
           40.6,
           31.789473684210527,
           28.6,
           22.4,
           11.727272727272727,
           28.833333333333332,
           36.72727272727273,
           9.222222222222221,
           34.15,
           19,
           33.2,
           18.3,
           33.285714285714285,
           36,
           36,
           30.5,
           16.923076923076923,
           35,
           10.5,
           32.666666666666664,
           17.166666666666668,
           33.5,
           17.833333333333332,
           36.6,
           22.2,
           37,
           7.4375,
           26.4,
           18.333333333333332,
           29.608695652173914,
           33.2,
           37.2,
           15.38888888888889,
           37.6875,
           17.705882352941178
          ]
         },
         "mode": "markers",
         "name": "DAL",
         "text": [
          "Jalen Brunson - DAL",
          "Luka Dončić - DAL",
          "Dorian Finney-Smith - DAL",
          "Tim Hardaway Jr. - DAL",
          "Maxi Kleber - DAL",
          "Kristaps Porziņģis - DAL"
         ],
         "type": "scatter",
         "visible": false,
         "x": [
          25.7,
          46.5,
          13.9,
          23.8,
          10.3,
          20.6
         ],
         "y": [
          56.26094570928196,
          57.15339233038348,
          54.127725856697815,
          55.07219548315439,
          55.495689655172406,
          56.93124032721646
         ]
        },
        {
         "customdata": [
          -7.617032991909852,
          -12.21921300055218,
          -3.0943305433591135,
          4.4707480660870615,
          -0.7253010203462367,
          -20.51957285979102,
          -10.902250523852288,
          -4.361800624394306
         ],
         "hovertemplate": "<b>%{text}</b><br><i>Points per 100 Possesions</i>: %{x:.2f}<br>True Shooting: %{y:.2f} <br>Relative True Shooting: %{customdata:.2f}<extra></extra></br>",
         "marker": {
          "cmax": 81.031181619256,
          "cmin": 32.89473684210527,
          "color": [
           49.58151382823873,
           44.9793338195964,
           54.104216276789465,
           61.66929488623564,
           56.47324579980234,
           36.67897396035756,
           46.29629629629629,
           52.83674619575427
          ],
          "colorbar": {
           "title": {
            "text": "True Shooting"
           }
          },
          "colorscale": [
           [
            0,
            "#0d0887"
           ],
           [
            0.1111111111111111,
            "#46039f"
           ],
           [
            0.2222222222222222,
            "#7201a8"
           ],
           [
            0.3333333333333333,
            "#9c179e"
           ],
           [
            0.4444444444444444,
            "#bd3786"
           ],
           [
            0.5555555555555556,
            "#d8576b"
           ],
           [
            0.6666666666666666,
            "#ed7953"
           ],
           [
            0.7777777777777778,
            "#fb9f3a"
           ],
           [
            0.8888888888888888,
            "#fdca26"
           ],
           [
            1,
            "#f0f921"
           ]
          ],
          "size": [
           34,
           23.2,
           28.4,
           38.095238095238095,
           23.833333333333332,
           36.40909090909091,
           32.4,
           29.210526315789473,
           39,
           26.5,
           19,
           33.22222222222222,
           35.45454545454545,
           40.40909090909091,
           32.13636363636363,
           35,
           23.083333333333332,
           16.285714285714285,
           32.4,
           25.6,
           38.5,
           29.2,
           27,
           31.61111111111111,
           20.166666666666668,
           27.09090909090909,
           10.833333333333334,
           32,
           29.333333333333332,
           23.73913043478261,
           38,
           12.090909090909092,
           33.13636363636363,
           31.75,
           28.8,
           40.142857142857146,
           29.25,
           21,
           40.416666666666664,
           32.45454545454545,
           13.181818181818182,
           38.714285714285715,
           13.65,
           33.4,
           23.4,
           24.555555555555557,
           40.8421052631579,
           27.6,
           34.18181818181818,
           29.9,
           24.875,
           19,
           24.666666666666668,
           26.5,
           34.6,
           37.42857142857143,
           35.77777777777778,
           36.166666666666664,
           36.5,
           17.083333333333332,
           10.357142857142858,
           39.65217391304348,
           12.416666666666666,
           12.444444444444445,
           31,
           30.4,
           27.818181818181817,
           36.111111111111114,
           27.4,
           32.73684210526316,
           37.333333333333336,
           11.444444444444445,
           21.095238095238095,
           34.5,
           14.6,
           26.714285714285715,
           16.25,
           21.5,
           27.25,
           39.27272727272727,
           41.333333333333336,
           29,
           19.894736842105264,
           18.333333333333332,
           13,
           40,
           40.08695652173913,
           12.11111111111111,
           10.083333333333334,
           34.6,
           40.6,
           31.789473684210527,
           28.6,
           22.4,
           11.727272727272727,
           28.833333333333332,
           36.72727272727273,
           9.222222222222221,
           34.15,
           19,
           33.2,
           18.3,
           33.285714285714285,
           36,
           36,
           30.5,
           16.923076923076923,
           35,
           10.5,
           32.666666666666664,
           17.166666666666668,
           33.5,
           17.833333333333332,
           36.6,
           22.2,
           37,
           7.4375,
           26.4,
           18.333333333333332,
           29.608695652173914,
           33.2,
           37.2,
           15.38888888888889,
           37.6875,
           17.705882352941178
          ]
         },
         "mode": "markers",
         "name": "LAL",
         "text": [
          "Kentavious Caldwell-Pope - LAL",
          "Alex Caruso - LAL",
          "Anthony Davis - LAL",
          "Andre Drummond - LAL",
          "LeBron James - LAL",
          "Kyle Kuzma - LAL",
          "Wesley Matthews - LAL",
          "Dennis Schröder - LAL"
         ],
         "type": "scatter",
         "visible": false,
         "x": [
          10.9,
          14.8,
          30.9,
          21.9,
          32,
          15.1,
          15.4,
          22.5
         ],
         "y": [
          49.58151382823873,
          44.9793338195964,
          54.104216276789465,
          61.66929488623564,
          56.47324579980234,
          36.67897396035756,
          46.29629629629629,
          52.83674619575427
         ]
        },
        {
         "customdata": [
          -0.7681006259228553,
          -6.78433273686975,
          -1.9714155195885397,
          -1.8600051534819144,
          1.8813961560549615,
          -5.2296105164146525,
          -3.954918233443898,
          2.9175394153406415,
          3.0714628230529613
         ],
         "hovertemplate": "<b>%{text}</b><br><i>Points per 100 Possesions</i>: %{x:.2f}<br>True Shooting: %{y:.2f} <br>Relative True Shooting: %{customdata:.2f}<extra></extra></br>",
         "marker": {
          "cmax": 81.031181619256,
          "cmin": 32.89473684210527,
          "color": [
           56.43044619422572,
           50.41421408327883,
           55.22713130056004,
           55.338541666666664,
           59.07994297620354,
           51.968936303733926,
           53.24362858670468,
           60.11608623548922,
           60.27000964320154
          ],
          "colorbar": {
           "title": {
            "text": "True Shooting"
           }
          },
          "colorscale": [
           [
            0,
            "#0d0887"
           ],
           [
            0.1111111111111111,
            "#46039f"
           ],
           [
            0.2222222222222222,
            "#7201a8"
           ],
           [
            0.3333333333333333,
            "#9c179e"
           ],
           [
            0.4444444444444444,
            "#bd3786"
           ],
           [
            0.5555555555555556,
            "#d8576b"
           ],
           [
            0.6666666666666666,
            "#ed7953"
           ],
           [
            0.7777777777777778,
            "#fb9f3a"
           ],
           [
            0.8888888888888888,
            "#fdca26"
           ],
           [
            1,
            "#f0f921"
           ]
          ],
          "size": [
           34,
           23.2,
           28.4,
           38.095238095238095,
           23.833333333333332,
           36.40909090909091,
           32.4,
           29.210526315789473,
           39,
           26.5,
           19,
           33.22222222222222,
           35.45454545454545,
           40.40909090909091,
           32.13636363636363,
           35,
           23.083333333333332,
           16.285714285714285,
           32.4,
           25.6,
           38.5,
           29.2,
           27,
           31.61111111111111,
           20.166666666666668,
           27.09090909090909,
           10.833333333333334,
           32,
           29.333333333333332,
           23.73913043478261,
           38,
           12.090909090909092,
           33.13636363636363,
           31.75,
           28.8,
           40.142857142857146,
           29.25,
           21,
           40.416666666666664,
           32.45454545454545,
           13.181818181818182,
           38.714285714285715,
           13.65,
           33.4,
           23.4,
           24.555555555555557,
           40.8421052631579,
           27.6,
           34.18181818181818,
           29.9,
           24.875,
           19,
           24.666666666666668,
           26.5,
           34.6,
           37.42857142857143,
           35.77777777777778,
           36.166666666666664,
           36.5,
           17.083333333333332,
           10.357142857142858,
           39.65217391304348,
           12.416666666666666,
           12.444444444444445,
           31,
           30.4,
           27.818181818181817,
           36.111111111111114,
           27.4,
           32.73684210526316,
           37.333333333333336,
           11.444444444444445,
           21.095238095238095,
           34.5,
           14.6,
           26.714285714285715,
           16.25,
           21.5,
           27.25,
           39.27272727272727,
           41.333333333333336,
           29,
           19.894736842105264,
           18.333333333333332,
           13,
           40,
           40.08695652173913,
           12.11111111111111,
           10.083333333333334,
           34.6,
           40.6,
           31.789473684210527,
           28.6,
           22.4,
           11.727272727272727,
           28.833333333333332,
           36.72727272727273,
           9.222222222222221,
           34.15,
           19,
           33.2,
           18.3,
           33.285714285714285,
           36,
           36,
           30.5,
           16.923076923076923,
           35,
           10.5,
           32.666666666666664,
           17.166666666666668,
           33.5,
           17.833333333333332,
           36.6,
           22.2,
           37,
           7.4375,
           26.4,
           18.333333333333332,
           29.608695652173914,
           33.2,
           37.2,
           15.38888888888889,
           37.6875,
           17.705882352941178
          ]
         },
         "mode": "markers",
         "name": "DEN",
         "text": [
          "Facundo Campazzo - DEN",
          "Aaron Gordon - DEN",
          "JaMychal Green - DEN",
          "Markus Howard - DEN",
          "Nikola Jokić - DEN",
          "Paul Millsap - DEN",
          "Monte Morris - DEN",
          "Michael Porter Jr. - DEN",
          "Austin Rivers - DEN"
         ],
         "type": "scatter",
         "visible": false,
         "x": [
          17.2,
          18.5,
          14.2,
          18.7,
          43.1,
          26.5,
          23.9,
          26.1,
          15
         ],
         "y": [
          56.43044619422572,
          50.41421408327883,
          55.22713130056004,
          55.338541666666664,
          59.07994297620354,
          51.968936303733926,
          53.24362858670468,
          60.11608623548922,
          60.27000964320154
         ]
        },
        {
         "customdata": [
          15.413439271076612,
          6.01739273627355,
          0.9911083522652149,
          -1.1755872353081998,
          0.6636439925722684,
          1.7173997627265223,
          -4.094814091750955,
          -7.18137354176973,
          -8.604472466496944,
          -1.0113442818090803,
          0.931120525404701
         ],
         "hovertemplate": "<b>%{text}</b><br><i>Points per 100 Possesions</i>: %{x:.2f}<br>True Shooting: %{y:.2f} <br>Relative True Shooting: %{customdata:.2f}<extra></extra></br>",
         "marker": {
          "cmax": 81.031181619256,
          "cmin": 32.89473684210527,
          "color": [
           72.61198609122519,
           63.21593955642213,
           58.189655172413794,
           56.02295958484038,
           57.86219081272085,
           58.9159465828751,
           53.103732728397624,
           50.01717327837885,
           48.594074353651635,
           56.1872025383395,
           58.12966734555328
          ],
          "colorbar": {
           "title": {
            "text": "True Shooting"
           }
          },
          "colorscale": [
           [
            0,
            "#0d0887"
           ],
           [
            0.1111111111111111,
            "#46039f"
           ],
           [
            0.2222222222222222,
            "#7201a8"
           ],
           [
            0.3333333333333333,
            "#9c179e"
           ],
           [
            0.4444444444444444,
            "#bd3786"
           ],
           [
            0.5555555555555556,
            "#d8576b"
           ],
           [
            0.6666666666666666,
            "#ed7953"
           ],
           [
            0.7777777777777778,
            "#fb9f3a"
           ],
           [
            0.8888888888888888,
            "#fdca26"
           ],
           [
            1,
            "#f0f921"
           ]
          ],
          "size": [
           34,
           23.2,
           28.4,
           38.095238095238095,
           23.833333333333332,
           36.40909090909091,
           32.4,
           29.210526315789473,
           39,
           26.5,
           19,
           33.22222222222222,
           35.45454545454545,
           40.40909090909091,
           32.13636363636363,
           35,
           23.083333333333332,
           16.285714285714285,
           32.4,
           25.6,
           38.5,
           29.2,
           27,
           31.61111111111111,
           20.166666666666668,
           27.09090909090909,
           10.833333333333334,
           32,
           29.333333333333332,
           23.73913043478261,
           38,
           12.090909090909092,
           33.13636363636363,
           31.75,
           28.8,
           40.142857142857146,
           29.25,
           21,
           40.416666666666664,
           32.45454545454545,
           13.181818181818182,
           38.714285714285715,
           13.65,
           33.4,
           23.4,
           24.555555555555557,
           40.8421052631579,
           27.6,
           34.18181818181818,
           29.9,
           24.875,
           19,
           24.666666666666668,
           26.5,
           34.6,
           37.42857142857143,
           35.77777777777778,
           36.166666666666664,
           36.5,
           17.083333333333332,
           10.357142857142858,
           39.65217391304348,
           12.416666666666666,
           12.444444444444445,
           31,
           30.4,
           27.818181818181817,
           36.111111111111114,
           27.4,
           32.73684210526316,
           37.333333333333336,
           11.444444444444445,
           21.095238095238095,
           34.5,
           14.6,
           26.714285714285715,
           16.25,
           21.5,
           27.25,
           39.27272727272727,
           41.333333333333336,
           29,
           19.894736842105264,
           18.333333333333332,
           13,
           40,
           40.08695652173913,
           12.11111111111111,
           10.083333333333334,
           34.6,
           40.6,
           31.789473684210527,
           28.6,
           22.4,
           11.727272727272727,
           28.833333333333332,
           36.72727272727273,
           9.222222222222221,
           34.15,
           19,
           33.2,
           18.3,
           33.285714285714285,
           36,
           36,
           30.5,
           16.923076923076923,
           35,
           10.5,
           32.666666666666664,
           17.166666666666668,
           33.5,
           17.833333333333332,
           36.6,
           22.2,
           37,
           7.4375,
           26.4,
           18.333333333333332,
           29.608695652173914,
           33.2,
           37.2,
           15.38888888888889,
           37.6875,
           17.705882352941178
          ]
         },
         "mode": "markers",
         "name": "PHI",
         "text": [
          "Seth Curry - PHI",
          "Joel Embiid - PHI",
          "Danny Green - PHI",
          "Tobias Harris - PHI",
          "George Hill - PHI",
          "Dwight Howard - PHI",
          "Furkan Korkmaz - PHI",
          "Tyrese Maxey - PHI",
          "Shake Milton - PHI",
          "Ben Simmons - PHI",
          "Matisse Thybulle - PHI"
         ],
         "type": "scatter",
         "visible": false,
         "x": [
          28.4,
          41.5,
          13.5,
          28.5,
          13.1,
          18,
          20.6,
          23.3,
          20.6,
          17,
          13.7
         ],
         "y": [
          72.61198609122519,
          63.21593955642213,
          58.189655172413794,
          56.02295958484038,
          57.86219081272085,
          58.9159465828751,
          53.103732728397624,
          50.01717327837885,
          48.594074353651635,
          56.1872025383395,
          58.12966734555328
         ]
        },
        {
         "customdata": [
          -0.8130752325680177,
          -3.9452547984599633,
          2.0017637388576333,
          0.5388179014847978,
          5.4764340910247356
         ],
         "hovertemplate": "<b>%{text}</b><br><i>Points per 100 Possesions</i>: %{x:.2f}<br>True Shooting: %{y:.2f} <br>Relative True Shooting: %{customdata:.2f}<extra></extra></br>",
         "marker": {
          "cmax": 81.031181619256,
          "cmin": 32.89473684210527,
          "color": [
           56.38547158758056,
           53.253292021688615,
           59.20031055900621,
           57.73736472163338,
           62.674980911173314
          ],
          "colorbar": {
           "title": {
            "text": "True Shooting"
           }
          },
          "colorscale": [
           [
            0,
            "#0d0887"
           ],
           [
            0.1111111111111111,
            "#46039f"
           ],
           [
            0.2222222222222222,
            "#7201a8"
           ],
           [
            0.3333333333333333,
            "#9c179e"
           ],
           [
            0.4444444444444444,
            "#bd3786"
           ],
           [
            0.5555555555555556,
            "#d8576b"
           ],
           [
            0.6666666666666666,
            "#ed7953"
           ],
           [
            0.7777777777777778,
            "#fb9f3a"
           ],
           [
            0.8888888888888888,
            "#fdca26"
           ],
           [
            1,
            "#f0f921"
           ]
          ],
          "size": [
           34,
           23.2,
           28.4,
           38.095238095238095,
           23.833333333333332,
           36.40909090909091,
           32.4,
           29.210526315789473,
           39,
           26.5,
           19,
           33.22222222222222,
           35.45454545454545,
           40.40909090909091,
           32.13636363636363,
           35,
           23.083333333333332,
           16.285714285714285,
           32.4,
           25.6,
           38.5,
           29.2,
           27,
           31.61111111111111,
           20.166666666666668,
           27.09090909090909,
           10.833333333333334,
           32,
           29.333333333333332,
           23.73913043478261,
           38,
           12.090909090909092,
           33.13636363636363,
           31.75,
           28.8,
           40.142857142857146,
           29.25,
           21,
           40.416666666666664,
           32.45454545454545,
           13.181818181818182,
           38.714285714285715,
           13.65,
           33.4,
           23.4,
           24.555555555555557,
           40.8421052631579,
           27.6,
           34.18181818181818,
           29.9,
           24.875,
           19,
           24.666666666666668,
           26.5,
           34.6,
           37.42857142857143,
           35.77777777777778,
           36.166666666666664,
           36.5,
           17.083333333333332,
           10.357142857142858,
           39.65217391304348,
           12.416666666666666,
           12.444444444444445,
           31,
           30.4,
           27.818181818181817,
           36.111111111111114,
           27.4,
           32.73684210526316,
           37.333333333333336,
           11.444444444444445,
           21.095238095238095,
           34.5,
           14.6,
           26.714285714285715,
           16.25,
           21.5,
           27.25,
           39.27272727272727,
           41.333333333333336,
           29,
           19.894736842105264,
           18.333333333333332,
           13,
           40,
           40.08695652173913,
           12.11111111111111,
           10.083333333333334,
           34.6,
           40.6,
           31.789473684210527,
           28.6,
           22.4,
           11.727272727272727,
           28.833333333333332,
           36.72727272727273,
           9.222222222222221,
           34.15,
           19,
           33.2,
           18.3,
           33.285714285714285,
           36,
           36,
           30.5,
           16.923076923076923,
           35,
           10.5,
           32.666666666666664,
           17.166666666666668,
           33.5,
           17.833333333333332,
           36.6,
           22.2,
           37,
           7.4375,
           26.4,
           18.333333333333332,
           29.608695652173914,
           33.2,
           37.2,
           15.38888888888889,
           37.6875,
           17.705882352941178
          ]
         },
         "mode": "markers",
         "name": "BOS",
         "text": [
          "Evan Fournier - BOS",
          "Romeo Langford - BOS",
          "Marcus Smart - BOS",
          "Jayson Tatum - BOS",
          "Tristan Thompson - BOS"
         ],
         "type": "scatter",
         "visible": false,
         "x": [
          23.1,
          16.5,
          24.4,
          41.4,
          19.7
         ],
         "y": [
          56.38547158758056,
          53.253292021688615,
          59.20031055900621,
          57.73736472163338,
          62.674980911173314
         ]
        }
       ],
       "layout": {
        "annotations": [
         {
          "showarrow": false,
          "text": "Source: Basketball Reference",
          "x": 25,
          "y": 32.89473684210527
         }
        ],
        "autosize": true,
        "font": {
         "size": 15
        },
        "height": 700,
        "shapes": [
         {
          "type": "line",
          "x0": 0,
          "x1": 1,
          "xref": "x domain",
          "y0": 57.19854682014858,
          "y1": 57.19854682014858,
          "yref": "y"
         }
        ],
        "showlegend": false,
        "template": {
         "data": {
          "bar": [
           {
            "error_x": {
             "color": "#2a3f5f"
            },
            "error_y": {
             "color": "#2a3f5f"
            },
            "marker": {
             "line": {
              "color": "#E5ECF6",
              "width": 0.5
             },
             "pattern": {
              "fillmode": "overlay",
              "size": 10,
              "solidity": 0.2
             }
            },
            "type": "bar"
           }
          ],
          "barpolar": [
           {
            "marker": {
             "line": {
              "color": "#E5ECF6",
              "width": 0.5
             },
             "pattern": {
              "fillmode": "overlay",
              "size": 10,
              "solidity": 0.2
             }
            },
            "type": "barpolar"
           }
          ],
          "carpet": [
           {
            "aaxis": {
             "endlinecolor": "#2a3f5f",
             "gridcolor": "white",
             "linecolor": "white",
             "minorgridcolor": "white",
             "startlinecolor": "#2a3f5f"
            },
            "baxis": {
             "endlinecolor": "#2a3f5f",
             "gridcolor": "white",
             "linecolor": "white",
             "minorgridcolor": "white",
             "startlinecolor": "#2a3f5f"
            },
            "type": "carpet"
           }
          ],
          "choropleth": [
           {
            "colorbar": {
             "outlinewidth": 0,
             "ticks": ""
            },
            "type": "choropleth"
           }
          ],
          "contour": [
           {
            "colorbar": {
             "outlinewidth": 0,
             "ticks": ""
            },
            "colorscale": [
             [
              0,
              "#0d0887"
             ],
             [
              0.1111111111111111,
              "#46039f"
             ],
             [
              0.2222222222222222,
              "#7201a8"
             ],
             [
              0.3333333333333333,
              "#9c179e"
             ],
             [
              0.4444444444444444,
              "#bd3786"
             ],
             [
              0.5555555555555556,
              "#d8576b"
             ],
             [
              0.6666666666666666,
              "#ed7953"
             ],
             [
              0.7777777777777778,
              "#fb9f3a"
             ],
             [
              0.8888888888888888,
              "#fdca26"
             ],
             [
              1,
              "#f0f921"
             ]
            ],
            "type": "contour"
           }
          ],
          "contourcarpet": [
           {
            "colorbar": {
             "outlinewidth": 0,
             "ticks": ""
            },
            "type": "contourcarpet"
           }
          ],
          "heatmap": [
           {
            "colorbar": {
             "outlinewidth": 0,
             "ticks": ""
            },
            "colorscale": [
             [
              0,
              "#0d0887"
             ],
             [
              0.1111111111111111,
              "#46039f"
             ],
             [
              0.2222222222222222,
              "#7201a8"
             ],
             [
              0.3333333333333333,
              "#9c179e"
             ],
             [
              0.4444444444444444,
              "#bd3786"
             ],
             [
              0.5555555555555556,
              "#d8576b"
             ],
             [
              0.6666666666666666,
              "#ed7953"
             ],
             [
              0.7777777777777778,
              "#fb9f3a"
             ],
             [
              0.8888888888888888,
              "#fdca26"
             ],
             [
              1,
              "#f0f921"
             ]
            ],
            "type": "heatmap"
           }
          ],
          "heatmapgl": [
           {
            "colorbar": {
             "outlinewidth": 0,
             "ticks": ""
            },
            "colorscale": [
             [
              0,
              "#0d0887"
             ],
             [
              0.1111111111111111,
              "#46039f"
             ],
             [
              0.2222222222222222,
              "#7201a8"
             ],
             [
              0.3333333333333333,
              "#9c179e"
             ],
             [
              0.4444444444444444,
              "#bd3786"
             ],
             [
              0.5555555555555556,
              "#d8576b"
             ],
             [
              0.6666666666666666,
              "#ed7953"
             ],
             [
              0.7777777777777778,
              "#fb9f3a"
             ],
             [
              0.8888888888888888,
              "#fdca26"
             ],
             [
              1,
              "#f0f921"
             ]
            ],
            "type": "heatmapgl"
           }
          ],
          "histogram": [
           {
            "marker": {
             "pattern": {
              "fillmode": "overlay",
              "size": 10,
              "solidity": 0.2
             }
            },
            "type": "histogram"
           }
          ],
          "histogram2d": [
           {
            "colorbar": {
             "outlinewidth": 0,
             "ticks": ""
            },
            "colorscale": [
             [
              0,
              "#0d0887"
             ],
             [
              0.1111111111111111,
              "#46039f"
             ],
             [
              0.2222222222222222,
              "#7201a8"
             ],
             [
              0.3333333333333333,
              "#9c179e"
             ],
             [
              0.4444444444444444,
              "#bd3786"
             ],
             [
              0.5555555555555556,
              "#d8576b"
             ],
             [
              0.6666666666666666,
              "#ed7953"
             ],
             [
              0.7777777777777778,
              "#fb9f3a"
             ],
             [
              0.8888888888888888,
              "#fdca26"
             ],
             [
              1,
              "#f0f921"
             ]
            ],
            "type": "histogram2d"
           }
          ],
          "histogram2dcontour": [
           {
            "colorbar": {
             "outlinewidth": 0,
             "ticks": ""
            },
            "colorscale": [
             [
              0,
              "#0d0887"
             ],
             [
              0.1111111111111111,
              "#46039f"
             ],
             [
              0.2222222222222222,
              "#7201a8"
             ],
             [
              0.3333333333333333,
              "#9c179e"
             ],
             [
              0.4444444444444444,
              "#bd3786"
             ],
             [
              0.5555555555555556,
              "#d8576b"
             ],
             [
              0.6666666666666666,
              "#ed7953"
             ],
             [
              0.7777777777777778,
              "#fb9f3a"
             ],
             [
              0.8888888888888888,
              "#fdca26"
             ],
             [
              1,
              "#f0f921"
             ]
            ],
            "type": "histogram2dcontour"
           }
          ],
          "mesh3d": [
           {
            "colorbar": {
             "outlinewidth": 0,
             "ticks": ""
            },
            "type": "mesh3d"
           }
          ],
          "parcoords": [
           {
            "line": {
             "colorbar": {
              "outlinewidth": 0,
              "ticks": ""
             }
            },
            "type": "parcoords"
           }
          ],
          "pie": [
           {
            "automargin": true,
            "type": "pie"
           }
          ],
          "scatter": [
           {
            "fillpattern": {
             "fillmode": "overlay",
             "size": 10,
             "solidity": 0.2
            },
            "type": "scatter"
           }
          ],
          "scatter3d": [
           {
            "line": {
             "colorbar": {
              "outlinewidth": 0,
              "ticks": ""
             }
            },
            "marker": {
             "colorbar": {
              "outlinewidth": 0,
              "ticks": ""
             }
            },
            "type": "scatter3d"
           }
          ],
          "scattercarpet": [
           {
            "marker": {
             "colorbar": {
              "outlinewidth": 0,
              "ticks": ""
             }
            },
            "type": "scattercarpet"
           }
          ],
          "scattergeo": [
           {
            "marker": {
             "colorbar": {
              "outlinewidth": 0,
              "ticks": ""
             }
            },
            "type": "scattergeo"
           }
          ],
          "scattergl": [
           {
            "marker": {
             "colorbar": {
              "outlinewidth": 0,
              "ticks": ""
             }
            },
            "type": "scattergl"
           }
          ],
          "scattermapbox": [
           {
            "marker": {
             "colorbar": {
              "outlinewidth": 0,
              "ticks": ""
             }
            },
            "type": "scattermapbox"
           }
          ],
          "scatterpolar": [
           {
            "marker": {
             "colorbar": {
              "outlinewidth": 0,
              "ticks": ""
             }
            },
            "type": "scatterpolar"
           }
          ],
          "scatterpolargl": [
           {
            "marker": {
             "colorbar": {
              "outlinewidth": 0,
              "ticks": ""
             }
            },
            "type": "scatterpolargl"
           }
          ],
          "scatterternary": [
           {
            "marker": {
             "colorbar": {
              "outlinewidth": 0,
              "ticks": ""
             }
            },
            "type": "scatterternary"
           }
          ],
          "surface": [
           {
            "colorbar": {
             "outlinewidth": 0,
             "ticks": ""
            },
            "colorscale": [
             [
              0,
              "#0d0887"
             ],
             [
              0.1111111111111111,
              "#46039f"
             ],
             [
              0.2222222222222222,
              "#7201a8"
             ],
             [
              0.3333333333333333,
              "#9c179e"
             ],
             [
              0.4444444444444444,
              "#bd3786"
             ],
             [
              0.5555555555555556,
              "#d8576b"
             ],
             [
              0.6666666666666666,
              "#ed7953"
             ],
             [
              0.7777777777777778,
              "#fb9f3a"
             ],
             [
              0.8888888888888888,
              "#fdca26"
             ],
             [
              1,
              "#f0f921"
             ]
            ],
            "type": "surface"
           }
          ],
          "table": [
           {
            "cells": {
             "fill": {
              "color": "#EBF0F8"
             },
             "line": {
              "color": "white"
             }
            },
            "header": {
             "fill": {
              "color": "#C8D4E3"
             },
             "line": {
              "color": "white"
             }
            },
            "type": "table"
           }
          ]
         },
         "layout": {
          "annotationdefaults": {
           "arrowcolor": "#2a3f5f",
           "arrowhead": 0,
           "arrowwidth": 1
          },
          "autotypenumbers": "strict",
          "coloraxis": {
           "colorbar": {
            "outlinewidth": 0,
            "ticks": ""
           }
          },
          "colorscale": {
           "diverging": [
            [
             0,
             "#8e0152"
            ],
            [
             0.1,
             "#c51b7d"
            ],
            [
             0.2,
             "#de77ae"
            ],
            [
             0.3,
             "#f1b6da"
            ],
            [
             0.4,
             "#fde0ef"
            ],
            [
             0.5,
             "#f7f7f7"
            ],
            [
             0.6,
             "#e6f5d0"
            ],
            [
             0.7,
             "#b8e186"
            ],
            [
             0.8,
             "#7fbc41"
            ],
            [
             0.9,
             "#4d9221"
            ],
            [
             1,
             "#276419"
            ]
           ],
           "sequential": [
            [
             0,
             "#0d0887"
            ],
            [
             0.1111111111111111,
             "#46039f"
            ],
            [
             0.2222222222222222,
             "#7201a8"
            ],
            [
             0.3333333333333333,
             "#9c179e"
            ],
            [
             0.4444444444444444,
             "#bd3786"
            ],
            [
             0.5555555555555556,
             "#d8576b"
            ],
            [
             0.6666666666666666,
             "#ed7953"
            ],
            [
             0.7777777777777778,
             "#fb9f3a"
            ],
            [
             0.8888888888888888,
             "#fdca26"
            ],
            [
             1,
             "#f0f921"
            ]
           ],
           "sequentialminus": [
            [
             0,
             "#0d0887"
            ],
            [
             0.1111111111111111,
             "#46039f"
            ],
            [
             0.2222222222222222,
             "#7201a8"
            ],
            [
             0.3333333333333333,
             "#9c179e"
            ],
            [
             0.4444444444444444,
             "#bd3786"
            ],
            [
             0.5555555555555556,
             "#d8576b"
            ],
            [
             0.6666666666666666,
             "#ed7953"
            ],
            [
             0.7777777777777778,
             "#fb9f3a"
            ],
            [
             0.8888888888888888,
             "#fdca26"
            ],
            [
             1,
             "#f0f921"
            ]
           ]
          },
          "colorway": [
           "#636efa",
           "#EF553B",
           "#00cc96",
           "#ab63fa",
           "#FFA15A",
           "#19d3f3",
           "#FF6692",
           "#B6E880",
           "#FF97FF",
           "#FECB52"
          ],
          "font": {
           "color": "#2a3f5f"
          },
          "geo": {
           "bgcolor": "white",
           "lakecolor": "white",
           "landcolor": "#E5ECF6",
           "showlakes": true,
           "showland": true,
           "subunitcolor": "white"
          },
          "hoverlabel": {
           "align": "left"
          },
          "hovermode": "closest",
          "mapbox": {
           "style": "light"
          },
          "paper_bgcolor": "white",
          "plot_bgcolor": "#E5ECF6",
          "polar": {
           "angularaxis": {
            "gridcolor": "white",
            "linecolor": "white",
            "ticks": ""
           },
           "bgcolor": "#E5ECF6",
           "radialaxis": {
            "gridcolor": "white",
            "linecolor": "white",
            "ticks": ""
           }
          },
          "scene": {
           "xaxis": {
            "backgroundcolor": "#E5ECF6",
            "gridcolor": "white",
            "gridwidth": 2,
            "linecolor": "white",
            "showbackground": true,
            "ticks": "",
            "zerolinecolor": "white"
           },
           "yaxis": {
            "backgroundcolor": "#E5ECF6",
            "gridcolor": "white",
            "gridwidth": 2,
            "linecolor": "white",
            "showbackground": true,
            "ticks": "",
            "zerolinecolor": "white"
           },
           "zaxis": {
            "backgroundcolor": "#E5ECF6",
            "gridcolor": "white",
            "gridwidth": 2,
            "linecolor": "white",
            "showbackground": true,
            "ticks": "",
            "zerolinecolor": "white"
           }
          },
          "shapedefaults": {
           "line": {
            "color": "#2a3f5f"
           }
          },
          "ternary": {
           "aaxis": {
            "gridcolor": "white",
            "linecolor": "white",
            "ticks": ""
           },
           "baxis": {
            "gridcolor": "white",
            "linecolor": "white",
            "ticks": ""
           },
           "bgcolor": "#E5ECF6",
           "caxis": {
            "gridcolor": "white",
            "linecolor": "white",
            "ticks": ""
           }
          },
          "title": {
           "x": 0.05
          },
          "xaxis": {
           "automargin": true,
           "gridcolor": "white",
           "linecolor": "white",
           "ticks": "",
           "title": {
            "standoff": 15
           },
           "zerolinecolor": "white",
           "zerolinewidth": 2
          },
          "yaxis": {
           "automargin": true,
           "gridcolor": "white",
           "linecolor": "white",
           "ticks": "",
           "title": {
            "standoff": 15
           },
           "zerolinecolor": "white",
           "zerolinewidth": 2
          }
         }
        },
        "title": {
         "text": "2021 MIA",
         "x": 0.5,
         "xanchor": "center",
         "y": 0.95,
         "yanchor": "top"
        },
        "updatemenus": [
         {
          "active": 1,
          "buttons": [
           {
            "args": [
             {
              "visible": [
               true,
               false,
               false,
               false,
               false,
               false,
               false,
               false,
               false,
               false,
               false,
               false,
               false,
               false,
               false,
               false,
               false
              ]
             },
             {
              "showlegend": false,
              "title": "All"
             }
            ],
            "label": "all_teams",
            "method": "update"
           },
           {
            "args": [
             {
              "visible": [
               false,
               true,
               false,
               false,
               false,
               false,
               false,
               false,
               false,
               false,
               false,
               false,
               false,
               false,
               false,
               false,
               false
              ]
             },
             {
              "showlegend": false,
              "title": "2021 MIA"
             }
            ],
            "label": "MIA",
            "method": "update"
           },
           {
            "args": [
             {
              "visible": [
               false,
               false,
               true,
               false,
               false,
               false,
               false,
               false,
               false,
               false,
               false,
               false,
               false,
               false,
               false,
               false,
               false
              ]
             },
             {
              "showlegend": false,
              "title": "2021 MEM"
             }
            ],
            "label": "MEM",
            "method": "update"
           },
           {
            "args": [
             {
              "visible": [
               false,
               false,
               false,
               true,
               false,
               false,
               false,
               false,
               false,
               false,
               false,
               false,
               false,
               false,
               false,
               false,
               false
              ]
             },
             {
              "showlegend": false,
              "title": "2021 MIL"
             }
            ],
            "label": "MIL",
            "method": "update"
           },
           {
            "args": [
             {
              "visible": [
               false,
               false,
               false,
               false,
               true,
               false,
               false,
               false,
               false,
               false,
               false,
               false,
               false,
               false,
               false,
               false,
               false
              ]
             },
             {
              "showlegend": false,
              "title": "2021 POR"
             }
            ],
            "label": "POR",
            "method": "update"
           },
           {
            "args": [
             {
              "visible": [
               false,
               false,
               false,
               false,
               false,
               true,
               false,
               false,
               false,
               false,
               false,
               false,
               false,
               false,
               false,
               false,
               false
              ]
             },
             {
              "showlegend": false,
              "title": "2021 PHO"
             }
            ],
            "label": "PHO",
            "method": "update"
           },
           {
            "args": [
             {
              "visible": [
               false,
               false,
               false,
               false,
               false,
               false,
               true,
               false,
               false,
               false,
               false,
               false,
               false,
               false,
               false,
               false,
               false
              ]
             },
             {
              "showlegend": false,
              "title": "2021 NYK"
             }
            ],
            "label": "NYK",
            "method": "update"
           },
           {
            "args": [
             {
              "visible": [
               false,
               false,
               false,
               false,
               false,
               false,
               false,
               true,
               false,
               false,
               false,
               false,
               false,
               false,
               false,
               false,
               false
              ]
             },
             {
              "showlegend": false,
              "title": "2021 LAC"
             }
            ],
            "label": "LAC",
            "method": "update"
           },
           {
            "args": [
             {
              "visible": [
               false,
               false,
               false,
               false,
               false,
               false,
               false,
               false,
               true,
               false,
               false,
               false,
               false,
               false,
               false,
               false,
               false
              ]
             },
             {
              "showlegend": false,
              "title": "2021 WAS"
             }
            ],
            "label": "WAS",
            "method": "update"
           },
           {
            "args": [
             {
              "visible": [
               false,
               false,
               false,
               false,
               false,
               false,
               false,
               false,
               false,
               true,
               false,
               false,
               false,
               false,
               false,
               false,
               false
              ]
             },
             {
              "showlegend": false,
              "title": "2021 ATL"
             }
            ],
            "label": "ATL",
            "method": "update"
           },
           {
            "args": [
             {
              "visible": [
               false,
               false,
               false,
               false,
               false,
               false,
               false,
               false,
               false,
               false,
               true,
               false,
               false,
               false,
               false,
               false,
               false
              ]
             },
             {
              "showlegend": false,
              "title": "2021 UTA"
             }
            ],
            "label": "UTA",
            "method": "update"
           },
           {
            "args": [
             {
              "visible": [
               false,
               false,
               false,
               false,
               false,
               false,
               false,
               false,
               false,
               false,
               false,
               true,
               false,
               false,
               false,
               false,
               false
              ]
             },
             {
              "showlegend": false,
              "title": "2021 BRK"
             }
            ],
            "label": "BRK",
            "method": "update"
           },
           {
            "args": [
             {
              "visible": [
               false,
               false,
               false,
               false,
               false,
               false,
               false,
               false,
               false,
               false,
               false,
               false,
               true,
               false,
               false,
               false,
               false
              ]
             },
             {
              "showlegend": false,
              "title": "2021 DAL"
             }
            ],
            "label": "DAL",
            "method": "update"
           },
           {
            "args": [
             {
              "visible": [
               false,
               false,
               false,
               false,
               false,
               false,
               false,
               false,
               false,
               false,
               false,
               false,
               false,
               true,
               false,
               false,
               false
              ]
             },
             {
              "showlegend": false,
              "title": "2021 LAL"
             }
            ],
            "label": "LAL",
            "method": "update"
           },
           {
            "args": [
             {
              "visible": [
               false,
               false,
               false,
               false,
               false,
               false,
               false,
               false,
               false,
               false,
               false,
               false,
               false,
               false,
               true,
               false,
               false
              ]
             },
             {
              "showlegend": false,
              "title": "2021 DEN"
             }
            ],
            "label": "DEN",
            "method": "update"
           },
           {
            "args": [
             {
              "visible": [
               false,
               false,
               false,
               false,
               false,
               false,
               false,
               false,
               false,
               false,
               false,
               false,
               false,
               false,
               false,
               true,
               false
              ]
             },
             {
              "showlegend": false,
              "title": "2021 PHI"
             }
            ],
            "label": "PHI",
            "method": "update"
           },
           {
            "args": [
             {
              "visible": [
               false,
               false,
               false,
               false,
               false,
               false,
               false,
               false,
               false,
               false,
               false,
               false,
               false,
               false,
               false,
               false,
               true
              ]
             },
             {
              "showlegend": false,
              "title": "2021 BOS"
             }
            ],
            "label": "BOS",
            "method": "update"
           }
          ],
          "direction": "down",
          "pad": {
           "r": 10,
           "t": 10
          },
          "showactive": true
         }
        ],
        "width": 1400,
        "xaxis": {
         "range": [
          0,
          50
         ],
         "tickvals": [
          5,
          10,
          15,
          20,
          25,
          30,
          35,
          40,
          45
         ],
         "title": {
          "text": "Points per 100 Possesions"
         },
         "type": "linear"
        },
        "yaxis": {
         "range": [
          29,
          83
         ],
         "tickvals": [
          29,
          34,
          39,
          44,
          49,
          54,
          59,
          64,
          69,
          74,
          79
         ],
         "type": "linear"
        }
       }
      },
      "image/png": "[encoded data removed]",
      "text/html": [
       "<div>                            <div id=\"b765c508-d82a-427e-8e72-2f704f33a36e\" class=\"plotly-graph-div\" style=\"height:700px; width:1400px;\"></div>            <script type=\"text/javascript\">                require([\"plotly\"], function(Plotly) {                    window.PLOTLYENV=window.PLOTLYENV || {};                                    if (document.getElementById(\"b765c508-d82a-427e-8e72-2f704f33a36e\")) {                    Plotly.newPlot(                        \"b765c508-d82a-427e-8e72-2f704f33a36e\",                        [{\"customdata\":[-7.700249024054692,-9.274072908358434,-9.263443575310824,2.651599378681823,-0.2514356314594508,10.177776093954279,-8.204219847482257,7.0768936688841535,-3.2018973047722525,4.160327768297989,-1.1655168235189848,-7.707596593904242,6.981764479629064,-1.3920529735918876,2.884326108028212,2.3970069497724182,-2.306405063600039,-0.9376011108666162,-3.7534530028615976,-2.8169433397259525,-17.81999629510124,-7.617032991909852,-0.7681006259228553,2.2178190041594803,-12.21921300055218,-2.4379337725424577,-7.748942416983802,5.799577886836893,4.126641149776233,5.919391032958764,11.936154339530276,-3.276978192697591,2.4118050263184116,15.413439271076612,-3.0943305433591135,-0.04515448976509617,-3.336758202262395,4.4707480660870615,5.605824245298614,6.01739273627355,11.346358188486988,-3.070820963450764,-0.4237376598432405,-0.8130752325680177,23.832634799107424,1.5262853946165222,0.7315972407375355,4.179489082702531,16.57306997919264,-6.78433273686975,0.9911083522652149,-1.9714155195885397,9.940125054851421,6.3861330122870825,13.317871928097276,-2.1263513369941904,9.867663225513525,-3.800488567721395,-1.1755872353081998,0.6636439925722684,-24.30380997804331,-8.804256008373379,1.7173997627265223,-1.8600051534819144,-4.077298320748824,-5.397275334393925,8.628999476147712,0.966835515358234,-1.5239288551839891,5.2570008327674955,-0.7253010203462367,-18.92103485842609,12.383958150030352,1.8813961560549615,6.590112973665853,-1.702857164976173,-4.094814091750955,-20.51957285979102,-3.9452547984599633,10.690115773198329,8.86411833651431,5.915458206125123,4.860424954044973,-10.902250523852288,-7.18137354176973,-5.388160922101882,-2.474611210098935,-5.2296105164146525,-8.604472466496944,2.816941047688289,0.5556359340341785,-2.7912852278476166,-3.954918233443898,-13.189088070805433,-14.368597581569901,2.608826833538245,11.349840276625628,2.0294187199441964,1.2088240255243434,-6.10245319891898,2.9175394153406415,-2.8507207331920483,-0.2673064929321214,3.6218929192651004,-14.656669659818881,3.0714628230529613,-10.227967152219648,-2.0400632900056337,4.123279207559804,-4.361800624394306,0.8183308169822112,-1.0113442818090803,20.767554874766674,2.0017637388576333,-17.638107259709017,0.5388179014847978,-12.639447383000359,5.4764340910247356,0.931120525404701,-8.1111574396176,3.654512581369957,-11.037598982019631,-0.11987452966627643,-2.0150872977257634,10.969799356496338],\"hovertemplate\":\"<b>%{text}</b><br><i>Points per 100 Possesions</i>: %{x:.2f}<br>True Shooting: %{y:.2f} <br>Relative True Shooting: %{customdata:.2f}<extra></extra></br>\",\"marker\":{\"cmax\":81.031181619256,\"cmin\":32.89473684210527,\"color\":[49.49829779609389,47.924473911790145,47.935103244837755,59.8501461988304,56.94711118868913,67.37632291410286,48.99432697266632,64.27544048903273,53.996649515376326,61.35887458844657,56.033029996629594,49.49095022624434,64.18031129977764,55.80649384655669,60.08287292817679,59.595553769921,54.89214175654854,56.26094570928196,53.44509381728698,54.381603480422626,39.37855052504734,49.58151382823873,56.43044619422572,59.41636582430806,44.9793338195964,54.76061304760612,49.44960440316478,62.99812470698547,61.32518796992481,63.11793785310734,69.13470115967885,53.92156862745099,59.61035184646699,72.61198609122519,54.104216276789465,57.15339233038348,53.861788617886184,61.66929488623564,62.80437106544719,63.21593955642213,68.54490500863557,54.127725856697815,56.77480916030534,56.38547158758056,81.031181619256,58.7248322147651,57.930144060886114,61.37803590285111,73.77161679934122,50.41421408327883,58.189655172413794,55.22713130056004,67.138671875,63.58467983243566,70.51641874824585,55.07219548315439,67.0662100456621,53.398058252427184,56.02295958484038,57.86219081272085,32.89473684210527,48.3942908117752,58.9159465828751,55.338541666666664,53.121248499399755,51.801271485754654,65.82754629629629,58.16538233550681,55.67461796496459,62.455547652916074,56.47324579980234,38.27751196172249,69.58250497017893,59.07994297620354,63.78865979381443,55.495689655172406,53.103732728397624,36.67897396035756,53.253292021688615,67.88866259334691,66.06266515666289,63.1140050262737,62.05897177419355,46.29629629629629,50.01717327837885,51.8103858980467,54.723935610049644,51.968936303733926,48.594074353651635,60.01548786783687,57.75418275418276,54.40726159230096,53.24362858670468,44.009458749343146,42.82994923857868,59.807373653686824,68.5483870967742,59.227965540092775,58.40737084567292,51.0960936212296,60.11608623548922,54.34782608695653,56.93124032721646,60.82043973941368,42.5418771603297,60.27000964320154,46.97057966792893,55.158483530142945,61.32182602770838,52.83674619575427,58.01687763713079,56.1872025383395,77.96610169491525,59.20031055900621,39.56043956043956,57.73736472163338,44.55909943714822,62.674980911173314,58.12966734555328,49.08738938053098,60.853059401518536,46.16094783812895,57.0786722904823,55.183459522422815,68.16834617664492],\"colorbar\":{\"title\":{\"text\":\"True Shooting %\"}},\"colorscale\":[[0.0,\"#0d0887\"],[0.1111111111111111,\"#46039f\"],[0.2222222222222222,\"#7201a8\"],[0.3333333333333333,\"#9c179e\"],[0.4444444444444444,\"#bd3786\"],[0.5555555555555556,\"#d8576b\"],[0.6666666666666666,\"#ed7953\"],[0.7777777777777778,\"#fb9f3a\"],[0.8888888888888888,\"#fdca26\"],[1.0,\"#f0f921\"]],\"size\":[34.0,23.2,28.4,38.095238095238095,23.833333333333332,36.40909090909091,32.4,29.210526315789473,39.0,26.5,19.0,33.22222222222222,35.45454545454545,40.40909090909091,32.13636363636363,35.0,23.083333333333332,16.285714285714285,32.4,25.6,38.5,29.2,27.0,31.61111111111111,20.166666666666668,27.09090909090909,10.833333333333334,32.0,29.333333333333332,23.73913043478261,38.0,12.090909090909092,33.13636363636363,31.75,28.8,40.142857142857146,29.25,21.0,40.416666666666664,32.45454545454545,13.181818181818182,38.714285714285715,13.65,33.4,23.4,24.555555555555557,40.8421052631579,27.6,34.18181818181818,29.9,24.875,19.0,24.666666666666668,26.5,34.6,37.42857142857143,35.77777777777778,36.166666666666664,36.5,17.083333333333332,10.357142857142858,39.65217391304348,12.416666666666666,12.444444444444445,31.0,30.4,27.818181818181817,36.111111111111114,27.4,32.73684210526316,37.333333333333336,11.444444444444445,21.095238095238095,34.5,14.6,26.714285714285715,16.25,21.5,27.25,39.27272727272727,41.333333333333336,29.0,19.894736842105264,18.333333333333332,13.0,40.0,40.08695652173913,12.11111111111111,10.083333333333334,34.6,40.6,31.789473684210527,28.6,22.4,11.727272727272727,28.833333333333332,36.72727272727273,9.222222222222221,34.15,19.0,33.2,18.3,33.285714285714285,36.0,36.0,30.5,16.923076923076923,35.0,10.5,32.666666666666664,17.166666666666668,33.5,17.833333333333332,36.6,22.2,37.0,7.4375,26.4,18.333333333333332,29.608695652173914,33.2,37.2,15.38888888888889,37.6875,17.705882352941178]},\"mode\":\"markers\",\"name\":\"All\",\"text\":[\"Bam Adebayo - MIA\",\"Grayson Allen - MEM\",\"Kyle Anderson - MEM\",\"Giannis Antetokounmpo - MIL\",\"Carmelo Anthony - POR\",\"Deandre Ayton - PHO\",\"RJ Barrett - NYK\",\"Nicolas Batum - LAC\",\"Bradley Beal - WAS\",\"D\\u0101vis Bert\\u0101ns - WAS\",\"Patrick Beverley - LAC\",\"Bogdan Bogdanovi\\u0107 - ATL\",\"Bojan Bogdanovi\\u0107 - UTA\",\"Devin Booker - PHO\",\"Mikal Bridges - PHO\",\"Dillon Brooks - MEM\",\"Bruce Brown - BRK\",\"Jalen Brunson - DAL\",\"Reggie Bullock - NYK\",\"Alec Burks - NYK\",\"Jimmy Butler - MIA\",\"Kentavious Caldwell-Pope - LAL\",\"Facundo Campazzo - DEN\",\"Clint Capela - ATL\",\"Alex Caruso - LAL\",\"Jordan Clarkson - UTA\",\"Nic Claxton - BRK\",\"John Collins - ATL\",\"Mike Conley - UTA\",\"Pat Connaughton - MIL\",\"Robert Covington - POR\",\"Torrey Craig - PHO\",\"Jae Crowder - PHO\",\"Seth Curry - PHI\",\"Anthony Davis - LAL\",\"Luka Don\\u010di\\u0107 - DAL\",\"Goran Dragi\\u0107 - MIA\",\"Andre Drummond - LAL\",\"Kevin Durant - BRK\",\"Joel Embiid - PHI\",\"Derrick Favors - UTA\",\"Dorian Finney-Smith - DAL\",\"Bryn Forbes - MIL\",\"Evan Fournier - BOS\",\"Daniel Gafford - WAS\",\"Danilo Gallinari - ATL\",\"Paul George - LAC\",\"Taj Gibson - NYK\",\"Rudy Gobert - UTA\",\"Aaron Gordon - DEN\",\"Danny Green - PHI\",\"JaMychal Green - DEN\",\"Jeff Green - BRK\",\"Blake Griffin - BRK\",\"Rui Hachimura - WAS\",\"Tim Hardaway Jr. - DAL\",\"James Harden - BRK\",\"Joe Harris - BRK\",\"Tobias Harris - PHI\",\"George Hill - PHI\",\"Solomon Hill - ATL\",\"Jrue Holiday - MIL\",\"Dwight Howard - PHI\",\"Markus Howard - DEN\",\"Kevin Huerter - ATL\",\"De'Andre Hunter - ATL\",\"Joe Ingles - UTA\",\"Kyrie Irving - BRK\",\"Jaren Jackson Jr. - MEM\",\"Reggie Jackson - LAC\",\"LeBron James - LAL\",\"Mike James - BRK\",\"Cameron Johnson - PHO\",\"Nikola Joki\\u0107 - DEN\",\"Luke Kennard - LAC\",\"Maxi Kleber - DAL\",\"Furkan Korkmaz - PHI\",\"Kyle Kuzma - LAL\",\"Romeo Langford - BOS\",\"Kawhi Leonard - LAC\",\"Damian Lillard - POR\",\"Brook Lopez - MIL\",\"Terance Mann - LAC\",\"Wesley Matthews - LAL\",\"Tyrese Maxey - PHI\",\"CJ McCollum - POR\",\"Khris Middleton - MIL\",\"Paul Millsap - DEN\",\"Shake Milton - PHI\",\"Donovan Mitchell - UTA\",\"Ja Morant - MEM\",\"Marcus Morris - LAC\",\"Monte Morris - DEN\",\"Raul Neto - WAS\",\"Georges Niang - UTA\",\"Jusuf Nurki\\u0107 - POR\",\"Royce O'Neale - UTA\",\"Onyeka Okongwu - ATL\",\"Chris Paul - PHO\",\"Cameron Payne - PHO\",\"Michael Porter Jr. - DEN\",\"Bobby Portis - MIL\",\"Kristaps Porzi\\u0146\\u0123is - DAL\",\"Norman Powell - POR\",\"Julius Randle - NYK\",\"Austin Rivers - DEN\",\"Rajon Rondo - LAC\",\"Derrick Rose - NYK\",\"Dario \\u0160ari\\u0107 - PHO\",\"Dennis Schr\\u00f6der - LAL\",\"Landry Shamet - BRK\",\"Ben Simmons - PHI\",\"Anfernee Simons - POR\",\"Marcus Smart - BOS\",\"Ish Smith - WAS\",\"Jayson Tatum - BOS\",\"Jeff Teague - MIL\",\"Tristan Thompson - BOS\",\"Matisse Thybulle - PHI\",\"P.J. Tucker - MIL\",\"Jonas Valan\\u010di\\u016bnas - MEM\",\"Russell Westbrook - WAS\",\"Lou Williams - ATL\",\"Trae Young - ATL\",\"Ivica Zubac - LAC\"],\"visible\":true,\"x\":[22.1,13.3,14.3,39.3,26.1,21.9,22.8,14.3,36.1,16.4,13.3,21.0,25.4,34.1,17.4,35.6,17.1,25.7,13.9,28.0,18.3,10.9,17.2,15.8,14.8,32.3,11.5,21.5,26.1,14.3,12.4,16.5,16.4,28.4,30.9,46.5,26.5,21.9,42.3,41.5,12.7,13.9,23.8,23.1,23.7,25.9,34.1,9.3,21.5,18.5,13.5,14.2,16.5,17.0,20.1,23.8,28.2,15.4,28.5,13.1,5.8,21.7,18.0,18.7,17.7,17.6,18.2,31.4,23.9,28.1,32.0,16.0,19.6,43.1,19.8,10.3,20.6,15.1,16.5,40.0,42.0,22.1,19.7,15.4,23.3,26.1,29.1,26.5,20.6,46.5,35.9,19.9,23.9,13.4,13.5,23.1,15.3,14.3,28.4,24.8,26.1,23.8,20.6,23.9,25.6,15.0,12.9,28.4,21.6,22.5,12.1,17.0,18.4,24.4,14.4,41.4,13.3,19.7,13.7,7.1,21.8,24.0,24.9,37.9,18.4],\"y\":[49.49829779609389,47.924473911790145,47.935103244837755,59.8501461988304,56.94711118868913,67.37632291410286,48.99432697266632,64.27544048903273,53.996649515376326,61.35887458844657,56.033029996629594,49.49095022624434,64.18031129977764,55.80649384655669,60.08287292817679,59.595553769921,54.89214175654854,56.26094570928196,53.44509381728698,54.381603480422626,39.37855052504734,49.58151382823873,56.43044619422572,59.41636582430806,44.9793338195964,54.76061304760612,49.44960440316478,62.99812470698547,61.32518796992481,63.11793785310734,69.13470115967885,53.92156862745099,59.61035184646699,72.61198609122519,54.104216276789465,57.15339233038348,53.861788617886184,61.66929488623564,62.80437106544719,63.21593955642213,68.54490500863557,54.127725856697815,56.77480916030534,56.38547158758056,81.031181619256,58.7248322147651,57.930144060886114,61.37803590285111,73.77161679934122,50.41421408327883,58.189655172413794,55.22713130056004,67.138671875,63.58467983243566,70.51641874824585,55.07219548315439,67.0662100456621,53.398058252427184,56.02295958484038,57.86219081272085,32.89473684210527,48.3942908117752,58.9159465828751,55.338541666666664,53.121248499399755,51.801271485754654,65.82754629629629,58.16538233550681,55.67461796496459,62.455547652916074,56.47324579980234,38.27751196172249,69.58250497017893,59.07994297620354,63.78865979381443,55.495689655172406,53.103732728397624,36.67897396035756,53.253292021688615,67.88866259334691,66.06266515666289,63.1140050262737,62.05897177419355,46.29629629629629,50.01717327837885,51.8103858980467,54.723935610049644,51.968936303733926,48.594074353651635,60.01548786783687,57.75418275418276,54.40726159230096,53.24362858670468,44.009458749343146,42.82994923857868,59.807373653686824,68.5483870967742,59.227965540092775,58.40737084567292,51.0960936212296,60.11608623548922,54.34782608695653,56.93124032721646,60.82043973941368,42.5418771603297,60.27000964320154,46.97057966792893,55.158483530142945,61.32182602770838,52.83674619575427,58.01687763713079,56.1872025383395,77.96610169491525,59.20031055900621,39.56043956043956,57.73736472163338,44.55909943714822,62.674980911173314,58.12966734555328,49.08738938053098,60.853059401518536,46.16094783812895,57.0786722904823,55.183459522422815,68.16834617664492],\"type\":\"scatter\"},{\"customdata\":[-7.700249024054692,-17.81999629510124,-3.336758202262395],\"hovertemplate\":\"<b>%{text}</b><br><i>Points per 100 Possesions</i>: %{x:.2f}<br>True Shooting: %{y:.2f} <br>Relative True Shooting: %{customdata:.2f}<extra></extra></br>\",\"marker\":{\"cmax\":81.031181619256,\"cmin\":32.89473684210527,\"color\":[49.49829779609389,39.37855052504734,53.861788617886184],\"colorbar\":{\"title\":{\"text\":\"True Shooting\"}},\"colorscale\":[[0.0,\"#0d0887\"],[0.1111111111111111,\"#46039f\"],[0.2222222222222222,\"#7201a8\"],[0.3333333333333333,\"#9c179e\"],[0.4444444444444444,\"#bd3786\"],[0.5555555555555556,\"#d8576b\"],[0.6666666666666666,\"#ed7953\"],[0.7777777777777778,\"#fb9f3a\"],[0.8888888888888888,\"#fdca26\"],[1.0,\"#f0f921\"]],\"size\":[34.0,23.2,28.4,38.095238095238095,23.833333333333332,36.40909090909091,32.4,29.210526315789473,39.0,26.5,19.0,33.22222222222222,35.45454545454545,40.40909090909091,32.13636363636363,35.0,23.083333333333332,16.285714285714285,32.4,25.6,38.5,29.2,27.0,31.61111111111111,20.166666666666668,27.09090909090909,10.833333333333334,32.0,29.333333333333332,23.73913043478261,38.0,12.090909090909092,33.13636363636363,31.75,28.8,40.142857142857146,29.25,21.0,40.416666666666664,32.45454545454545,13.181818181818182,38.714285714285715,13.65,33.4,23.4,24.555555555555557,40.8421052631579,27.6,34.18181818181818,29.9,24.875,19.0,24.666666666666668,26.5,34.6,37.42857142857143,35.77777777777778,36.166666666666664,36.5,17.083333333333332,10.357142857142858,39.65217391304348,12.416666666666666,12.444444444444445,31.0,30.4,27.818181818181817,36.111111111111114,27.4,32.73684210526316,37.333333333333336,11.444444444444445,21.095238095238095,34.5,14.6,26.714285714285715,16.25,21.5,27.25,39.27272727272727,41.333333333333336,29.0,19.894736842105264,18.333333333333332,13.0,40.0,40.08695652173913,12.11111111111111,10.083333333333334,34.6,40.6,31.789473684210527,28.6,22.4,11.727272727272727,28.833333333333332,36.72727272727273,9.222222222222221,34.15,19.0,33.2,18.3,33.285714285714285,36.0,36.0,30.5,16.923076923076923,35.0,10.5,32.666666666666664,17.166666666666668,33.5,17.833333333333332,36.6,22.2,37.0,7.4375,26.4,18.333333333333332,29.608695652173914,33.2,37.2,15.38888888888889,37.6875,17.705882352941178]},\"mode\":\"markers\",\"name\":\"MIA\",\"text\":[\"Bam Adebayo - MIA\",\"Jimmy Butler - MIA\",\"Goran Dragi\\u0107 - MIA\"],\"visible\":false,\"x\":[22.1,18.3,26.5],\"y\":[49.49829779609389,39.37855052504734,53.861788617886184],\"type\":\"scatter\"},{\"customdata\":[-9.274072908358434,-9.263443575310824,2.3970069497724182,-1.5239288551839891,0.5556359340341785,3.654512581369957],\"hovertemplate\":\"<b>%{text}</b><br><i>Points per 100 Possesions</i>: %{x:.2f}<br>True Shooting: %{y:.2f} <br>Relative True Shooting: %{customdata:.2f}<extra></extra></br>\",\"marker\":{\"cmax\":81.031181619256,\"cmin\":32.89473684210527,\"color\":[47.924473911790145,47.935103244837755,59.595553769921,55.67461796496459,57.75418275418276,60.853059401518536],\"colorbar\":{\"title\":{\"text\":\"True Shooting\"}},\"colorscale\":[[0.0,\"#0d0887\"],[0.1111111111111111,\"#46039f\"],[0.2222222222222222,\"#7201a8\"],[0.3333333333333333,\"#9c179e\"],[0.4444444444444444,\"#bd3786\"],[0.5555555555555556,\"#d8576b\"],[0.6666666666666666,\"#ed7953\"],[0.7777777777777778,\"#fb9f3a\"],[0.8888888888888888,\"#fdca26\"],[1.0,\"#f0f921\"]],\"size\":[34.0,23.2,28.4,38.095238095238095,23.833333333333332,36.40909090909091,32.4,29.210526315789473,39.0,26.5,19.0,33.22222222222222,35.45454545454545,40.40909090909091,32.13636363636363,35.0,23.083333333333332,16.285714285714285,32.4,25.6,38.5,29.2,27.0,31.61111111111111,20.166666666666668,27.09090909090909,10.833333333333334,32.0,29.333333333333332,23.73913043478261,38.0,12.090909090909092,33.13636363636363,31.75,28.8,40.142857142857146,29.25,21.0,40.416666666666664,32.45454545454545,13.181818181818182,38.714285714285715,13.65,33.4,23.4,24.555555555555557,40.8421052631579,27.6,34.18181818181818,29.9,24.875,19.0,24.666666666666668,26.5,34.6,37.42857142857143,35.77777777777778,36.166666666666664,36.5,17.083333333333332,10.357142857142858,39.65217391304348,12.416666666666666,12.444444444444445,31.0,30.4,27.818181818181817,36.111111111111114,27.4,32.73684210526316,37.333333333333336,11.444444444444445,21.095238095238095,34.5,14.6,26.714285714285715,16.25,21.5,27.25,39.27272727272727,41.333333333333336,29.0,19.894736842105264,18.333333333333332,13.0,40.0,40.08695652173913,12.11111111111111,10.083333333333334,34.6,40.6,31.789473684210527,28.6,22.4,11.727272727272727,28.833333333333332,36.72727272727273,9.222222222222221,34.15,19.0,33.2,18.3,33.285714285714285,36.0,36.0,30.5,16.923076923076923,35.0,10.5,32.666666666666664,17.166666666666668,33.5,17.833333333333332,36.6,22.2,37.0,7.4375,26.4,18.333333333333332,29.608695652173914,33.2,37.2,15.38888888888889,37.6875,17.705882352941178]},\"mode\":\"markers\",\"name\":\"MEM\",\"text\":[\"Grayson Allen - MEM\",\"Kyle Anderson - MEM\",\"Dillon Brooks - MEM\",\"Jaren Jackson Jr. - MEM\",\"Ja Morant - MEM\",\"Jonas Valan\\u010di\\u016bnas - MEM\"],\"visible\":false,\"x\":[13.3,14.3,35.6,23.9,35.9,21.8],\"y\":[47.924473911790145,47.935103244837755,59.595553769921,55.67461796496459,57.75418275418276,60.853059401518536],\"type\":\"scatter\"},{\"customdata\":[2.651599378681823,5.919391032958764,-0.4237376598432405,-8.804256008373379,5.915458206125123,-2.474611210098935,-2.8507207331920483,-12.639447383000359,-8.1111574396176],\"hovertemplate\":\"<b>%{text}</b><br><i>Points per 100 Possesions</i>: %{x:.2f}<br>True Shooting: %{y:.2f} <br>Relative True Shooting: %{customdata:.2f}<extra></extra></br>\",\"marker\":{\"cmax\":81.031181619256,\"cmin\":32.89473684210527,\"color\":[59.8501461988304,63.11793785310734,56.77480916030534,48.3942908117752,63.1140050262737,54.723935610049644,54.34782608695653,44.55909943714822,49.08738938053098],\"colorbar\":{\"title\":{\"text\":\"True Shooting\"}},\"colorscale\":[[0.0,\"#0d0887\"],[0.1111111111111111,\"#46039f\"],[0.2222222222222222,\"#7201a8\"],[0.3333333333333333,\"#9c179e\"],[0.4444444444444444,\"#bd3786\"],[0.5555555555555556,\"#d8576b\"],[0.6666666666666666,\"#ed7953\"],[0.7777777777777778,\"#fb9f3a\"],[0.8888888888888888,\"#fdca26\"],[1.0,\"#f0f921\"]],\"size\":[34.0,23.2,28.4,38.095238095238095,23.833333333333332,36.40909090909091,32.4,29.210526315789473,39.0,26.5,19.0,33.22222222222222,35.45454545454545,40.40909090909091,32.13636363636363,35.0,23.083333333333332,16.285714285714285,32.4,25.6,38.5,29.2,27.0,31.61111111111111,20.166666666666668,27.09090909090909,10.833333333333334,32.0,29.333333333333332,23.73913043478261,38.0,12.090909090909092,33.13636363636363,31.75,28.8,40.142857142857146,29.25,21.0,40.416666666666664,32.45454545454545,13.181818181818182,38.714285714285715,13.65,33.4,23.4,24.555555555555557,40.8421052631579,27.6,34.18181818181818,29.9,24.875,19.0,24.666666666666668,26.5,34.6,37.42857142857143,35.77777777777778,36.166666666666664,36.5,17.083333333333332,10.357142857142858,39.65217391304348,12.416666666666666,12.444444444444445,31.0,30.4,27.818181818181817,36.111111111111114,27.4,32.73684210526316,37.333333333333336,11.444444444444445,21.095238095238095,34.5,14.6,26.714285714285715,16.25,21.5,27.25,39.27272727272727,41.333333333333336,29.0,19.894736842105264,18.333333333333332,13.0,40.0,40.08695652173913,12.11111111111111,10.083333333333334,34.6,40.6,31.789473684210527,28.6,22.4,11.727272727272727,28.833333333333332,36.72727272727273,9.222222222222221,34.15,19.0,33.2,18.3,33.285714285714285,36.0,36.0,30.5,16.923076923076923,35.0,10.5,32.666666666666664,17.166666666666668,33.5,17.833333333333332,36.6,22.2,37.0,7.4375,26.4,18.333333333333332,29.608695652173914,33.2,37.2,15.38888888888889,37.6875,17.705882352941178]},\"mode\":\"markers\",\"name\":\"MIL\",\"text\":[\"Giannis Antetokounmpo - MIL\",\"Pat Connaughton - MIL\",\"Bryn Forbes - MIL\",\"Jrue Holiday - MIL\",\"Brook Lopez - MIL\",\"Khris Middleton - MIL\",\"Bobby Portis - MIL\",\"Jeff Teague - MIL\",\"P.J. Tucker - MIL\"],\"visible\":false,\"x\":[39.3,14.3,23.8,21.7,22.1,29.1,23.8,13.3,7.1],\"y\":[59.8501461988304,63.11793785310734,56.77480916030534,48.3942908117752,63.1140050262737,54.723935610049644,54.34782608695653,44.55909943714822,49.08738938053098],\"type\":\"scatter\"},{\"customdata\":[-0.2514356314594508,11.936154339530276,8.86411833651431,-5.388160922101882,2.608826833538245,3.6218929192651004,20.767554874766674],\"hovertemplate\":\"<b>%{text}</b><br><i>Points per 100 Possesions</i>: %{x:.2f}<br>True Shooting: %{y:.2f} <br>Relative True Shooting: %{customdata:.2f}<extra></extra></br>\",\"marker\":{\"cmax\":81.031181619256,\"cmin\":32.89473684210527,\"color\":[56.94711118868913,69.13470115967885,66.06266515666289,51.8103858980467,59.807373653686824,60.82043973941368,77.96610169491525],\"colorbar\":{\"title\":{\"text\":\"True Shooting\"}},\"colorscale\":[[0.0,\"#0d0887\"],[0.1111111111111111,\"#46039f\"],[0.2222222222222222,\"#7201a8\"],[0.3333333333333333,\"#9c179e\"],[0.4444444444444444,\"#bd3786\"],[0.5555555555555556,\"#d8576b\"],[0.6666666666666666,\"#ed7953\"],[0.7777777777777778,\"#fb9f3a\"],[0.8888888888888888,\"#fdca26\"],[1.0,\"#f0f921\"]],\"size\":[34.0,23.2,28.4,38.095238095238095,23.833333333333332,36.40909090909091,32.4,29.210526315789473,39.0,26.5,19.0,33.22222222222222,35.45454545454545,40.40909090909091,32.13636363636363,35.0,23.083333333333332,16.285714285714285,32.4,25.6,38.5,29.2,27.0,31.61111111111111,20.166666666666668,27.09090909090909,10.833333333333334,32.0,29.333333333333332,23.73913043478261,38.0,12.090909090909092,33.13636363636363,31.75,28.8,40.142857142857146,29.25,21.0,40.416666666666664,32.45454545454545,13.181818181818182,38.714285714285715,13.65,33.4,23.4,24.555555555555557,40.8421052631579,27.6,34.18181818181818,29.9,24.875,19.0,24.666666666666668,26.5,34.6,37.42857142857143,35.77777777777778,36.166666666666664,36.5,17.083333333333332,10.357142857142858,39.65217391304348,12.416666666666666,12.444444444444445,31.0,30.4,27.818181818181817,36.111111111111114,27.4,32.73684210526316,37.333333333333336,11.444444444444445,21.095238095238095,34.5,14.6,26.714285714285715,16.25,21.5,27.25,39.27272727272727,41.333333333333336,29.0,19.894736842105264,18.333333333333332,13.0,40.0,40.08695652173913,12.11111111111111,10.083333333333334,34.6,40.6,31.789473684210527,28.6,22.4,11.727272727272727,28.833333333333332,36.72727272727273,9.222222222222221,34.15,19.0,33.2,18.3,33.285714285714285,36.0,36.0,30.5,16.923076923076923,35.0,10.5,32.666666666666664,17.166666666666668,33.5,17.833333333333332,36.6,22.2,37.0,7.4375,26.4,18.333333333333332,29.608695652173914,33.2,37.2,15.38888888888889,37.6875,17.705882352941178]},\"mode\":\"markers\",\"name\":\"POR\",\"text\":[\"Carmelo Anthony - POR\",\"Robert Covington - POR\",\"Damian Lillard - POR\",\"CJ McCollum - POR\",\"Jusuf Nurki\\u0107 - POR\",\"Norman Powell - POR\",\"Anfernee Simons - POR\"],\"visible\":false,\"x\":[26.1,12.4,42.0,26.1,23.1,23.9,18.4],\"y\":[56.94711118868913,69.13470115967885,66.06266515666289,51.8103858980467,59.807373653686824,60.82043973941368,77.96610169491525],\"type\":\"scatter\"},{\"customdata\":[10.177776093954279,-1.3920529735918876,2.884326108028212,-3.276978192697591,2.4118050263184116,12.383958150030352,1.2088240255243434,-6.10245319891898,4.123279207559804],\"hovertemplate\":\"<b>%{text}</b><br><i>Points per 100 Possesions</i>: %{x:.2f}<br>True Shooting: %{y:.2f} <br>Relative True Shooting: %{customdata:.2f}<extra></extra></br>\",\"marker\":{\"cmax\":81.031181619256,\"cmin\":32.89473684210527,\"color\":[67.37632291410286,55.80649384655669,60.08287292817679,53.92156862745099,59.61035184646699,69.58250497017893,58.40737084567292,51.0960936212296,61.32182602770838],\"colorbar\":{\"title\":{\"text\":\"True Shooting\"}},\"colorscale\":[[0.0,\"#0d0887\"],[0.1111111111111111,\"#46039f\"],[0.2222222222222222,\"#7201a8\"],[0.3333333333333333,\"#9c179e\"],[0.4444444444444444,\"#bd3786\"],[0.5555555555555556,\"#d8576b\"],[0.6666666666666666,\"#ed7953\"],[0.7777777777777778,\"#fb9f3a\"],[0.8888888888888888,\"#fdca26\"],[1.0,\"#f0f921\"]],\"size\":[34.0,23.2,28.4,38.095238095238095,23.833333333333332,36.40909090909091,32.4,29.210526315789473,39.0,26.5,19.0,33.22222222222222,35.45454545454545,40.40909090909091,32.13636363636363,35.0,23.083333333333332,16.285714285714285,32.4,25.6,38.5,29.2,27.0,31.61111111111111,20.166666666666668,27.09090909090909,10.833333333333334,32.0,29.333333333333332,23.73913043478261,38.0,12.090909090909092,33.13636363636363,31.75,28.8,40.142857142857146,29.25,21.0,40.416666666666664,32.45454545454545,13.181818181818182,38.714285714285715,13.65,33.4,23.4,24.555555555555557,40.8421052631579,27.6,34.18181818181818,29.9,24.875,19.0,24.666666666666668,26.5,34.6,37.42857142857143,35.77777777777778,36.166666666666664,36.5,17.083333333333332,10.357142857142858,39.65217391304348,12.416666666666666,12.444444444444445,31.0,30.4,27.818181818181817,36.111111111111114,27.4,32.73684210526316,37.333333333333336,11.444444444444445,21.095238095238095,34.5,14.6,26.714285714285715,16.25,21.5,27.25,39.27272727272727,41.333333333333336,29.0,19.894736842105264,18.333333333333332,13.0,40.0,40.08695652173913,12.11111111111111,10.083333333333334,34.6,40.6,31.789473684210527,28.6,22.4,11.727272727272727,28.833333333333332,36.72727272727273,9.222222222222221,34.15,19.0,33.2,18.3,33.285714285714285,36.0,36.0,30.5,16.923076923076923,35.0,10.5,32.666666666666664,17.166666666666668,33.5,17.833333333333332,36.6,22.2,37.0,7.4375,26.4,18.333333333333332,29.608695652173914,33.2,37.2,15.38888888888889,37.6875,17.705882352941178]},\"mode\":\"markers\",\"name\":\"PHO\",\"text\":[\"Deandre Ayton - PHO\",\"Devin Booker - PHO\",\"Mikal Bridges - PHO\",\"Torrey Craig - PHO\",\"Jae Crowder - PHO\",\"Cameron Johnson - PHO\",\"Chris Paul - PHO\",\"Cameron Payne - PHO\",\"Dario \\u0160ari\\u0107 - PHO\"],\"visible\":false,\"x\":[21.9,34.1,17.4,16.5,16.4,19.6,28.4,24.8,21.6],\"y\":[67.37632291410286,55.80649384655669,60.08287292817679,53.92156862745099,59.61035184646699,69.58250497017893,58.40737084567292,51.0960936212296,61.32182602770838],\"type\":\"scatter\"},{\"customdata\":[-8.204219847482257,-3.7534530028615976,-2.8169433397259525,4.179489082702531,-14.656669659818881,-2.0400632900056337],\"hovertemplate\":\"<b>%{text}</b><br><i>Points per 100 Possesions</i>: %{x:.2f}<br>True Shooting: %{y:.2f} <br>Relative True Shooting: %{customdata:.2f}<extra></extra></br>\",\"marker\":{\"cmax\":81.031181619256,\"cmin\":32.89473684210527,\"color\":[48.99432697266632,53.44509381728698,54.381603480422626,61.37803590285111,42.5418771603297,55.158483530142945],\"colorbar\":{\"title\":{\"text\":\"True Shooting\"}},\"colorscale\":[[0.0,\"#0d0887\"],[0.1111111111111111,\"#46039f\"],[0.2222222222222222,\"#7201a8\"],[0.3333333333333333,\"#9c179e\"],[0.4444444444444444,\"#bd3786\"],[0.5555555555555556,\"#d8576b\"],[0.6666666666666666,\"#ed7953\"],[0.7777777777777778,\"#fb9f3a\"],[0.8888888888888888,\"#fdca26\"],[1.0,\"#f0f921\"]],\"size\":[34.0,23.2,28.4,38.095238095238095,23.833333333333332,36.40909090909091,32.4,29.210526315789473,39.0,26.5,19.0,33.22222222222222,35.45454545454545,40.40909090909091,32.13636363636363,35.0,23.083333333333332,16.285714285714285,32.4,25.6,38.5,29.2,27.0,31.61111111111111,20.166666666666668,27.09090909090909,10.833333333333334,32.0,29.333333333333332,23.73913043478261,38.0,12.090909090909092,33.13636363636363,31.75,28.8,40.142857142857146,29.25,21.0,40.416666666666664,32.45454545454545,13.181818181818182,38.714285714285715,13.65,33.4,23.4,24.555555555555557,40.8421052631579,27.6,34.18181818181818,29.9,24.875,19.0,24.666666666666668,26.5,34.6,37.42857142857143,35.77777777777778,36.166666666666664,36.5,17.083333333333332,10.357142857142858,39.65217391304348,12.416666666666666,12.444444444444445,31.0,30.4,27.818181818181817,36.111111111111114,27.4,32.73684210526316,37.333333333333336,11.444444444444445,21.095238095238095,34.5,14.6,26.714285714285715,16.25,21.5,27.25,39.27272727272727,41.333333333333336,29.0,19.894736842105264,18.333333333333332,13.0,40.0,40.08695652173913,12.11111111111111,10.083333333333334,34.6,40.6,31.789473684210527,28.6,22.4,11.727272727272727,28.833333333333332,36.72727272727273,9.222222222222221,34.15,19.0,33.2,18.3,33.285714285714285,36.0,36.0,30.5,16.923076923076923,35.0,10.5,32.666666666666664,17.166666666666668,33.5,17.833333333333332,36.6,22.2,37.0,7.4375,26.4,18.333333333333332,29.608695652173914,33.2,37.2,15.38888888888889,37.6875,17.705882352941178]},\"mode\":\"markers\",\"name\":\"NYK\",\"text\":[\"RJ Barrett - NYK\",\"Reggie Bullock - NYK\",\"Alec Burks - NYK\",\"Taj Gibson - NYK\",\"Julius Randle - NYK\",\"Derrick Rose - NYK\"],\"visible\":false,\"x\":[22.8,13.9,28.0,9.3,25.6,28.4],\"y\":[48.99432697266632,53.44509381728698,54.381603480422626,61.37803590285111,42.5418771603297,55.158483530142945],\"type\":\"scatter\"},{\"customdata\":[7.0768936688841535,-1.1655168235189848,0.7315972407375355,5.2570008327674955,6.590112973665853,10.690115773198329,4.860424954044973,-2.7912852278476166,-10.227967152219648,10.969799356496338],\"hovertemplate\":\"<b>%{text}</b><br><i>Points per 100 Possesions</i>: %{x:.2f}<br>True Shooting: %{y:.2f} <br>Relative True Shooting: %{customdata:.2f}<extra></extra></br>\",\"marker\":{\"cmax\":81.031181619256,\"cmin\":32.89473684210527,\"color\":[64.27544048903273,56.033029996629594,57.930144060886114,62.455547652916074,63.78865979381443,67.88866259334691,62.05897177419355,54.40726159230096,46.97057966792893,68.16834617664492],\"colorbar\":{\"title\":{\"text\":\"True Shooting\"}},\"colorscale\":[[0.0,\"#0d0887\"],[0.1111111111111111,\"#46039f\"],[0.2222222222222222,\"#7201a8\"],[0.3333333333333333,\"#9c179e\"],[0.4444444444444444,\"#bd3786\"],[0.5555555555555556,\"#d8576b\"],[0.6666666666666666,\"#ed7953\"],[0.7777777777777778,\"#fb9f3a\"],[0.8888888888888888,\"#fdca26\"],[1.0,\"#f0f921\"]],\"size\":[34.0,23.2,28.4,38.095238095238095,23.833333333333332,36.40909090909091,32.4,29.210526315789473,39.0,26.5,19.0,33.22222222222222,35.45454545454545,40.40909090909091,32.13636363636363,35.0,23.083333333333332,16.285714285714285,32.4,25.6,38.5,29.2,27.0,31.61111111111111,20.166666666666668,27.09090909090909,10.833333333333334,32.0,29.333333333333332,23.73913043478261,38.0,12.090909090909092,33.13636363636363,31.75,28.8,40.142857142857146,29.25,21.0,40.416666666666664,32.45454545454545,13.181818181818182,38.714285714285715,13.65,33.4,23.4,24.555555555555557,40.8421052631579,27.6,34.18181818181818,29.9,24.875,19.0,24.666666666666668,26.5,34.6,37.42857142857143,35.77777777777778,36.166666666666664,36.5,17.083333333333332,10.357142857142858,39.65217391304348,12.416666666666666,12.444444444444445,31.0,30.4,27.818181818181817,36.111111111111114,27.4,32.73684210526316,37.333333333333336,11.444444444444445,21.095238095238095,34.5,14.6,26.714285714285715,16.25,21.5,27.25,39.27272727272727,41.333333333333336,29.0,19.894736842105264,18.333333333333332,13.0,40.0,40.08695652173913,12.11111111111111,10.083333333333334,34.6,40.6,31.789473684210527,28.6,22.4,11.727272727272727,28.833333333333332,36.72727272727273,9.222222222222221,34.15,19.0,33.2,18.3,33.285714285714285,36.0,36.0,30.5,16.923076923076923,35.0,10.5,32.666666666666664,17.166666666666668,33.5,17.833333333333332,36.6,22.2,37.0,7.4375,26.4,18.333333333333332,29.608695652173914,33.2,37.2,15.38888888888889,37.6875,17.705882352941178]},\"mode\":\"markers\",\"name\":\"LAC\",\"text\":[\"Nicolas Batum - LAC\",\"Patrick Beverley - LAC\",\"Paul George - LAC\",\"Reggie Jackson - LAC\",\"Luke Kennard - LAC\",\"Kawhi Leonard - LAC\",\"Terance Mann - LAC\",\"Marcus Morris - LAC\",\"Rajon Rondo - LAC\",\"Ivica Zubac - LAC\"],\"visible\":false,\"x\":[14.3,13.3,34.1,28.1,19.8,40.0,19.7,19.9,12.9,18.4],\"y\":[64.27544048903273,56.033029996629594,57.930144060886114,62.455547652916074,63.78865979381443,67.88866259334691,62.05897177419355,54.40726159230096,46.97057966792893,68.16834617664492],\"type\":\"scatter\"},{\"customdata\":[-3.2018973047722525,4.160327768297989,23.832634799107424,13.317871928097276,-13.189088070805433,-17.638107259709017,-11.037598982019631],\"hovertemplate\":\"<b>%{text}</b><br><i>Points per 100 Possesions</i>: %{x:.2f}<br>True Shooting: %{y:.2f} <br>Relative True Shooting: %{customdata:.2f}<extra></extra></br>\",\"marker\":{\"cmax\":81.031181619256,\"cmin\":32.89473684210527,\"color\":[53.996649515376326,61.35887458844657,81.031181619256,70.51641874824585,44.009458749343146,39.56043956043956,46.16094783812895],\"colorbar\":{\"title\":{\"text\":\"True Shooting\"}},\"colorscale\":[[0.0,\"#0d0887\"],[0.1111111111111111,\"#46039f\"],[0.2222222222222222,\"#7201a8\"],[0.3333333333333333,\"#9c179e\"],[0.4444444444444444,\"#bd3786\"],[0.5555555555555556,\"#d8576b\"],[0.6666666666666666,\"#ed7953\"],[0.7777777777777778,\"#fb9f3a\"],[0.8888888888888888,\"#fdca26\"],[1.0,\"#f0f921\"]],\"size\":[34.0,23.2,28.4,38.095238095238095,23.833333333333332,36.40909090909091,32.4,29.210526315789473,39.0,26.5,19.0,33.22222222222222,35.45454545454545,40.40909090909091,32.13636363636363,35.0,23.083333333333332,16.285714285714285,32.4,25.6,38.5,29.2,27.0,31.61111111111111,20.166666666666668,27.09090909090909,10.833333333333334,32.0,29.333333333333332,23.73913043478261,38.0,12.090909090909092,33.13636363636363,31.75,28.8,40.142857142857146,29.25,21.0,40.416666666666664,32.45454545454545,13.181818181818182,38.714285714285715,13.65,33.4,23.4,24.555555555555557,40.8421052631579,27.6,34.18181818181818,29.9,24.875,19.0,24.666666666666668,26.5,34.6,37.42857142857143,35.77777777777778,36.166666666666664,36.5,17.083333333333332,10.357142857142858,39.65217391304348,12.416666666666666,12.444444444444445,31.0,30.4,27.818181818181817,36.111111111111114,27.4,32.73684210526316,37.333333333333336,11.444444444444445,21.095238095238095,34.5,14.6,26.714285714285715,16.25,21.5,27.25,39.27272727272727,41.333333333333336,29.0,19.894736842105264,18.333333333333332,13.0,40.0,40.08695652173913,12.11111111111111,10.083333333333334,34.6,40.6,31.789473684210527,28.6,22.4,11.727272727272727,28.833333333333332,36.72727272727273,9.222222222222221,34.15,19.0,33.2,18.3,33.285714285714285,36.0,36.0,30.5,16.923076923076923,35.0,10.5,32.666666666666664,17.166666666666668,33.5,17.833333333333332,36.6,22.2,37.0,7.4375,26.4,18.333333333333332,29.608695652173914,33.2,37.2,15.38888888888889,37.6875,17.705882352941178]},\"mode\":\"markers\",\"name\":\"WAS\",\"text\":[\"Bradley Beal - WAS\",\"D\\u0101vis Bert\\u0101ns - WAS\",\"Daniel Gafford - WAS\",\"Rui Hachimura - WAS\",\"Raul Neto - WAS\",\"Ish Smith - WAS\",\"Russell Westbrook - WAS\"],\"visible\":false,\"x\":[36.1,16.4,23.7,20.1,13.4,14.4,24.0],\"y\":[53.996649515376326,61.35887458844657,81.031181619256,70.51641874824585,44.009458749343146,39.56043956043956,46.16094783812895],\"type\":\"scatter\"},{\"customdata\":[-7.707596593904242,2.2178190041594803,5.799577886836893,1.5262853946165222,-24.30380997804331,-4.077298320748824,-5.397275334393925,2.0294187199441964,-0.11987452966627643,-2.0150872977257634],\"hovertemplate\":\"<b>%{text}</b><br><i>Points per 100 Possesions</i>: %{x:.2f}<br>True Shooting: %{y:.2f} <br>Relative True Shooting: %{customdata:.2f}<extra></extra></br>\",\"marker\":{\"cmax\":81.031181619256,\"cmin\":32.89473684210527,\"color\":[49.49095022624434,59.41636582430806,62.99812470698547,58.7248322147651,32.89473684210527,53.121248499399755,51.801271485754654,59.227965540092775,57.0786722904823,55.183459522422815],\"colorbar\":{\"title\":{\"text\":\"True Shooting\"}},\"colorscale\":[[0.0,\"#0d0887\"],[0.1111111111111111,\"#46039f\"],[0.2222222222222222,\"#7201a8\"],[0.3333333333333333,\"#9c179e\"],[0.4444444444444444,\"#bd3786\"],[0.5555555555555556,\"#d8576b\"],[0.6666666666666666,\"#ed7953\"],[0.7777777777777778,\"#fb9f3a\"],[0.8888888888888888,\"#fdca26\"],[1.0,\"#f0f921\"]],\"size\":[34.0,23.2,28.4,38.095238095238095,23.833333333333332,36.40909090909091,32.4,29.210526315789473,39.0,26.5,19.0,33.22222222222222,35.45454545454545,40.40909090909091,32.13636363636363,35.0,23.083333333333332,16.285714285714285,32.4,25.6,38.5,29.2,27.0,31.61111111111111,20.166666666666668,27.09090909090909,10.833333333333334,32.0,29.333333333333332,23.73913043478261,38.0,12.090909090909092,33.13636363636363,31.75,28.8,40.142857142857146,29.25,21.0,40.416666666666664,32.45454545454545,13.181818181818182,38.714285714285715,13.65,33.4,23.4,24.555555555555557,40.8421052631579,27.6,34.18181818181818,29.9,24.875,19.0,24.666666666666668,26.5,34.6,37.42857142857143,35.77777777777778,36.166666666666664,36.5,17.083333333333332,10.357142857142858,39.65217391304348,12.416666666666666,12.444444444444445,31.0,30.4,27.818181818181817,36.111111111111114,27.4,32.73684210526316,37.333333333333336,11.444444444444445,21.095238095238095,34.5,14.6,26.714285714285715,16.25,21.5,27.25,39.27272727272727,41.333333333333336,29.0,19.894736842105264,18.333333333333332,13.0,40.0,40.08695652173913,12.11111111111111,10.083333333333334,34.6,40.6,31.789473684210527,28.6,22.4,11.727272727272727,28.833333333333332,36.72727272727273,9.222222222222221,34.15,19.0,33.2,18.3,33.285714285714285,36.0,36.0,30.5,16.923076923076923,35.0,10.5,32.666666666666664,17.166666666666668,33.5,17.833333333333332,36.6,22.2,37.0,7.4375,26.4,18.333333333333332,29.608695652173914,33.2,37.2,15.38888888888889,37.6875,17.705882352941178]},\"mode\":\"markers\",\"name\":\"ATL\",\"text\":[\"Bogdan Bogdanovi\\u0107 - ATL\",\"Clint Capela - ATL\",\"John Collins - ATL\",\"Danilo Gallinari - ATL\",\"Solomon Hill - ATL\",\"Kevin Huerter - ATL\",\"De'Andre Hunter - ATL\",\"Onyeka Okongwu - ATL\",\"Lou Williams - ATL\",\"Trae Young - ATL\"],\"visible\":false,\"x\":[21.0,15.8,21.5,25.9,5.8,17.7,17.6,14.3,24.9,37.9],\"y\":[49.49095022624434,59.41636582430806,62.99812470698547,58.7248322147651,32.89473684210527,53.121248499399755,51.801271485754654,59.227965540092775,57.0786722904823,55.183459522422815],\"type\":\"scatter\"},{\"customdata\":[6.981764479629064,-2.4379337725424577,4.126641149776233,11.346358188486988,16.57306997919264,8.628999476147712,2.816941047688289,-14.368597581569901,11.349840276625628],\"hovertemplate\":\"<b>%{text}</b><br><i>Points per 100 Possesions</i>: %{x:.2f}<br>True Shooting: %{y:.2f} <br>Relative True Shooting: %{customdata:.2f}<extra></extra></br>\",\"marker\":{\"cmax\":81.031181619256,\"cmin\":32.89473684210527,\"color\":[64.18031129977764,54.76061304760612,61.32518796992481,68.54490500863557,73.77161679934122,65.82754629629629,60.01548786783687,42.82994923857868,68.5483870967742],\"colorbar\":{\"title\":{\"text\":\"True Shooting\"}},\"colorscale\":[[0.0,\"#0d0887\"],[0.1111111111111111,\"#46039f\"],[0.2222222222222222,\"#7201a8\"],[0.3333333333333333,\"#9c179e\"],[0.4444444444444444,\"#bd3786\"],[0.5555555555555556,\"#d8576b\"],[0.6666666666666666,\"#ed7953\"],[0.7777777777777778,\"#fb9f3a\"],[0.8888888888888888,\"#fdca26\"],[1.0,\"#f0f921\"]],\"size\":[34.0,23.2,28.4,38.095238095238095,23.833333333333332,36.40909090909091,32.4,29.210526315789473,39.0,26.5,19.0,33.22222222222222,35.45454545454545,40.40909090909091,32.13636363636363,35.0,23.083333333333332,16.285714285714285,32.4,25.6,38.5,29.2,27.0,31.61111111111111,20.166666666666668,27.09090909090909,10.833333333333334,32.0,29.333333333333332,23.73913043478261,38.0,12.090909090909092,33.13636363636363,31.75,28.8,40.142857142857146,29.25,21.0,40.416666666666664,32.45454545454545,13.181818181818182,38.714285714285715,13.65,33.4,23.4,24.555555555555557,40.8421052631579,27.6,34.18181818181818,29.9,24.875,19.0,24.666666666666668,26.5,34.6,37.42857142857143,35.77777777777778,36.166666666666664,36.5,17.083333333333332,10.357142857142858,39.65217391304348,12.416666666666666,12.444444444444445,31.0,30.4,27.818181818181817,36.111111111111114,27.4,32.73684210526316,37.333333333333336,11.444444444444445,21.095238095238095,34.5,14.6,26.714285714285715,16.25,21.5,27.25,39.27272727272727,41.333333333333336,29.0,19.894736842105264,18.333333333333332,13.0,40.0,40.08695652173913,12.11111111111111,10.083333333333334,34.6,40.6,31.789473684210527,28.6,22.4,11.727272727272727,28.833333333333332,36.72727272727273,9.222222222222221,34.15,19.0,33.2,18.3,33.285714285714285,36.0,36.0,30.5,16.923076923076923,35.0,10.5,32.666666666666664,17.166666666666668,33.5,17.833333333333332,36.6,22.2,37.0,7.4375,26.4,18.333333333333332,29.608695652173914,33.2,37.2,15.38888888888889,37.6875,17.705882352941178]},\"mode\":\"markers\",\"name\":\"UTA\",\"text\":[\"Bojan Bogdanovi\\u0107 - UTA\",\"Jordan Clarkson - UTA\",\"Mike Conley - UTA\",\"Derrick Favors - UTA\",\"Rudy Gobert - UTA\",\"Joe Ingles - UTA\",\"Donovan Mitchell - UTA\",\"Georges Niang - UTA\",\"Royce O'Neale - UTA\"],\"visible\":false,\"x\":[25.4,32.3,26.1,12.7,21.5,18.2,46.5,13.5,15.3],\"y\":[64.18031129977764,54.76061304760612,61.32518796992481,68.54490500863557,73.77161679934122,65.82754629629629,60.01548786783687,42.82994923857868,68.5483870967742],\"type\":\"scatter\"},{\"customdata\":[-2.306405063600039,-7.748942416983802,5.605824245298614,9.940125054851421,6.3861330122870825,9.867663225513525,-3.800488567721395,0.966835515358234,-18.92103485842609,0.8183308169822112],\"hovertemplate\":\"<b>%{text}</b><br><i>Points per 100 Possesions</i>: %{x:.2f}<br>True Shooting: %{y:.2f} <br>Relative True Shooting: %{customdata:.2f}<extra></extra></br>\",\"marker\":{\"cmax\":81.031181619256,\"cmin\":32.89473684210527,\"color\":[54.89214175654854,49.44960440316478,62.80437106544719,67.138671875,63.58467983243566,67.0662100456621,53.398058252427184,58.16538233550681,38.27751196172249,58.01687763713079],\"colorbar\":{\"title\":{\"text\":\"True Shooting\"}},\"colorscale\":[[0.0,\"#0d0887\"],[0.1111111111111111,\"#46039f\"],[0.2222222222222222,\"#7201a8\"],[0.3333333333333333,\"#9c179e\"],[0.4444444444444444,\"#bd3786\"],[0.5555555555555556,\"#d8576b\"],[0.6666666666666666,\"#ed7953\"],[0.7777777777777778,\"#fb9f3a\"],[0.8888888888888888,\"#fdca26\"],[1.0,\"#f0f921\"]],\"size\":[34.0,23.2,28.4,38.095238095238095,23.833333333333332,36.40909090909091,32.4,29.210526315789473,39.0,26.5,19.0,33.22222222222222,35.45454545454545,40.40909090909091,32.13636363636363,35.0,23.083333333333332,16.285714285714285,32.4,25.6,38.5,29.2,27.0,31.61111111111111,20.166666666666668,27.09090909090909,10.833333333333334,32.0,29.333333333333332,23.73913043478261,38.0,12.090909090909092,33.13636363636363,31.75,28.8,40.142857142857146,29.25,21.0,40.416666666666664,32.45454545454545,13.181818181818182,38.714285714285715,13.65,33.4,23.4,24.555555555555557,40.8421052631579,27.6,34.18181818181818,29.9,24.875,19.0,24.666666666666668,26.5,34.6,37.42857142857143,35.77777777777778,36.166666666666664,36.5,17.083333333333332,10.357142857142858,39.65217391304348,12.416666666666666,12.444444444444445,31.0,30.4,27.818181818181817,36.111111111111114,27.4,32.73684210526316,37.333333333333336,11.444444444444445,21.095238095238095,34.5,14.6,26.714285714285715,16.25,21.5,27.25,39.27272727272727,41.333333333333336,29.0,19.894736842105264,18.333333333333332,13.0,40.0,40.08695652173913,12.11111111111111,10.083333333333334,34.6,40.6,31.789473684210527,28.6,22.4,11.727272727272727,28.833333333333332,36.72727272727273,9.222222222222221,34.15,19.0,33.2,18.3,33.285714285714285,36.0,36.0,30.5,16.923076923076923,35.0,10.5,32.666666666666664,17.166666666666668,33.5,17.833333333333332,36.6,22.2,37.0,7.4375,26.4,18.333333333333332,29.608695652173914,33.2,37.2,15.38888888888889,37.6875,17.705882352941178]},\"mode\":\"markers\",\"name\":\"BRK\",\"text\":[\"Bruce Brown - BRK\",\"Nic Claxton - BRK\",\"Kevin Durant - BRK\",\"Jeff Green - BRK\",\"Blake Griffin - BRK\",\"James Harden - BRK\",\"Joe Harris - BRK\",\"Kyrie Irving - BRK\",\"Mike James - BRK\",\"Landry Shamet - BRK\"],\"visible\":false,\"x\":[17.1,11.5,42.3,16.5,17.0,28.2,15.4,31.4,16.0,12.1],\"y\":[54.89214175654854,49.44960440316478,62.80437106544719,67.138671875,63.58467983243566,67.0662100456621,53.398058252427184,58.16538233550681,38.27751196172249,58.01687763713079],\"type\":\"scatter\"},{\"customdata\":[-0.9376011108666162,-0.04515448976509617,-3.070820963450764,-2.1263513369941904,-1.702857164976173,-0.2673064929321214],\"hovertemplate\":\"<b>%{text}</b><br><i>Points per 100 Possesions</i>: %{x:.2f}<br>True Shooting: %{y:.2f} <br>Relative True Shooting: %{customdata:.2f}<extra></extra></br>\",\"marker\":{\"cmax\":81.031181619256,\"cmin\":32.89473684210527,\"color\":[56.26094570928196,57.15339233038348,54.127725856697815,55.07219548315439,55.495689655172406,56.93124032721646],\"colorbar\":{\"title\":{\"text\":\"True Shooting\"}},\"colorscale\":[[0.0,\"#0d0887\"],[0.1111111111111111,\"#46039f\"],[0.2222222222222222,\"#7201a8\"],[0.3333333333333333,\"#9c179e\"],[0.4444444444444444,\"#bd3786\"],[0.5555555555555556,\"#d8576b\"],[0.6666666666666666,\"#ed7953\"],[0.7777777777777778,\"#fb9f3a\"],[0.8888888888888888,\"#fdca26\"],[1.0,\"#f0f921\"]],\"size\":[34.0,23.2,28.4,38.095238095238095,23.833333333333332,36.40909090909091,32.4,29.210526315789473,39.0,26.5,19.0,33.22222222222222,35.45454545454545,40.40909090909091,32.13636363636363,35.0,23.083333333333332,16.285714285714285,32.4,25.6,38.5,29.2,27.0,31.61111111111111,20.166666666666668,27.09090909090909,10.833333333333334,32.0,29.333333333333332,23.73913043478261,38.0,12.090909090909092,33.13636363636363,31.75,28.8,40.142857142857146,29.25,21.0,40.416666666666664,32.45454545454545,13.181818181818182,38.714285714285715,13.65,33.4,23.4,24.555555555555557,40.8421052631579,27.6,34.18181818181818,29.9,24.875,19.0,24.666666666666668,26.5,34.6,37.42857142857143,35.77777777777778,36.166666666666664,36.5,17.083333333333332,10.357142857142858,39.65217391304348,12.416666666666666,12.444444444444445,31.0,30.4,27.818181818181817,36.111111111111114,27.4,32.73684210526316,37.333333333333336,11.444444444444445,21.095238095238095,34.5,14.6,26.714285714285715,16.25,21.5,27.25,39.27272727272727,41.333333333333336,29.0,19.894736842105264,18.333333333333332,13.0,40.0,40.08695652173913,12.11111111111111,10.083333333333334,34.6,40.6,31.789473684210527,28.6,22.4,11.727272727272727,28.833333333333332,36.72727272727273,9.222222222222221,34.15,19.0,33.2,18.3,33.285714285714285,36.0,36.0,30.5,16.923076923076923,35.0,10.5,32.666666666666664,17.166666666666668,33.5,17.833333333333332,36.6,22.2,37.0,7.4375,26.4,18.333333333333332,29.608695652173914,33.2,37.2,15.38888888888889,37.6875,17.705882352941178]},\"mode\":\"markers\",\"name\":\"DAL\",\"text\":[\"Jalen Brunson - DAL\",\"Luka Don\\u010di\\u0107 - DAL\",\"Dorian Finney-Smith - DAL\",\"Tim Hardaway Jr. - DAL\",\"Maxi Kleber - DAL\",\"Kristaps Porzi\\u0146\\u0123is - DAL\"],\"visible\":false,\"x\":[25.7,46.5,13.9,23.8,10.3,20.6],\"y\":[56.26094570928196,57.15339233038348,54.127725856697815,55.07219548315439,55.495689655172406,56.93124032721646],\"type\":\"scatter\"},{\"customdata\":[-7.617032991909852,-12.21921300055218,-3.0943305433591135,4.4707480660870615,-0.7253010203462367,-20.51957285979102,-10.902250523852288,-4.361800624394306],\"hovertemplate\":\"<b>%{text}</b><br><i>Points per 100 Possesions</i>: %{x:.2f}<br>True Shooting: %{y:.2f} <br>Relative True Shooting: %{customdata:.2f}<extra></extra></br>\",\"marker\":{\"cmax\":81.031181619256,\"cmin\":32.89473684210527,\"color\":[49.58151382823873,44.9793338195964,54.104216276789465,61.66929488623564,56.47324579980234,36.67897396035756,46.29629629629629,52.83674619575427],\"colorbar\":{\"title\":{\"text\":\"True Shooting\"}},\"colorscale\":[[0.0,\"#0d0887\"],[0.1111111111111111,\"#46039f\"],[0.2222222222222222,\"#7201a8\"],[0.3333333333333333,\"#9c179e\"],[0.4444444444444444,\"#bd3786\"],[0.5555555555555556,\"#d8576b\"],[0.6666666666666666,\"#ed7953\"],[0.7777777777777778,\"#fb9f3a\"],[0.8888888888888888,\"#fdca26\"],[1.0,\"#f0f921\"]],\"size\":[34.0,23.2,28.4,38.095238095238095,23.833333333333332,36.40909090909091,32.4,29.210526315789473,39.0,26.5,19.0,33.22222222222222,35.45454545454545,40.40909090909091,32.13636363636363,35.0,23.083333333333332,16.285714285714285,32.4,25.6,38.5,29.2,27.0,31.61111111111111,20.166666666666668,27.09090909090909,10.833333333333334,32.0,29.333333333333332,23.73913043478261,38.0,12.090909090909092,33.13636363636363,31.75,28.8,40.142857142857146,29.25,21.0,40.416666666666664,32.45454545454545,13.181818181818182,38.714285714285715,13.65,33.4,23.4,24.555555555555557,40.8421052631579,27.6,34.18181818181818,29.9,24.875,19.0,24.666666666666668,26.5,34.6,37.42857142857143,35.77777777777778,36.166666666666664,36.5,17.083333333333332,10.357142857142858,39.65217391304348,12.416666666666666,12.444444444444445,31.0,30.4,27.818181818181817,36.111111111111114,27.4,32.73684210526316,37.333333333333336,11.444444444444445,21.095238095238095,34.5,14.6,26.714285714285715,16.25,21.5,27.25,39.27272727272727,41.333333333333336,29.0,19.894736842105264,18.333333333333332,13.0,40.0,40.08695652173913,12.11111111111111,10.083333333333334,34.6,40.6,31.789473684210527,28.6,22.4,11.727272727272727,28.833333333333332,36.72727272727273,9.222222222222221,34.15,19.0,33.2,18.3,33.285714285714285,36.0,36.0,30.5,16.923076923076923,35.0,10.5,32.666666666666664,17.166666666666668,33.5,17.833333333333332,36.6,22.2,37.0,7.4375,26.4,18.333333333333332,29.608695652173914,33.2,37.2,15.38888888888889,37.6875,17.705882352941178]},\"mode\":\"markers\",\"name\":\"LAL\",\"text\":[\"Kentavious Caldwell-Pope - LAL\",\"Alex Caruso - LAL\",\"Anthony Davis - LAL\",\"Andre Drummond - LAL\",\"LeBron James - LAL\",\"Kyle Kuzma - LAL\",\"Wesley Matthews - LAL\",\"Dennis Schr\\u00f6der - LAL\"],\"visible\":false,\"x\":[10.9,14.8,30.9,21.9,32.0,15.1,15.4,22.5],\"y\":[49.58151382823873,44.9793338195964,54.104216276789465,61.66929488623564,56.47324579980234,36.67897396035756,46.29629629629629,52.83674619575427],\"type\":\"scatter\"},{\"customdata\":[-0.7681006259228553,-6.78433273686975,-1.9714155195885397,-1.8600051534819144,1.8813961560549615,-5.2296105164146525,-3.954918233443898,2.9175394153406415,3.0714628230529613],\"hovertemplate\":\"<b>%{text}</b><br><i>Points per 100 Possesions</i>: %{x:.2f}<br>True Shooting: %{y:.2f} <br>Relative True Shooting: %{customdata:.2f}<extra></extra></br>\",\"marker\":{\"cmax\":81.031181619256,\"cmin\":32.89473684210527,\"color\":[56.43044619422572,50.41421408327883,55.22713130056004,55.338541666666664,59.07994297620354,51.968936303733926,53.24362858670468,60.11608623548922,60.27000964320154],\"colorbar\":{\"title\":{\"text\":\"True Shooting\"}},\"colorscale\":[[0.0,\"#0d0887\"],[0.1111111111111111,\"#46039f\"],[0.2222222222222222,\"#7201a8\"],[0.3333333333333333,\"#9c179e\"],[0.4444444444444444,\"#bd3786\"],[0.5555555555555556,\"#d8576b\"],[0.6666666666666666,\"#ed7953\"],[0.7777777777777778,\"#fb9f3a\"],[0.8888888888888888,\"#fdca26\"],[1.0,\"#f0f921\"]],\"size\":[34.0,23.2,28.4,38.095238095238095,23.833333333333332,36.40909090909091,32.4,29.210526315789473,39.0,26.5,19.0,33.22222222222222,35.45454545454545,40.40909090909091,32.13636363636363,35.0,23.083333333333332,16.285714285714285,32.4,25.6,38.5,29.2,27.0,31.61111111111111,20.166666666666668,27.09090909090909,10.833333333333334,32.0,29.333333333333332,23.73913043478261,38.0,12.090909090909092,33.13636363636363,31.75,28.8,40.142857142857146,29.25,21.0,40.416666666666664,32.45454545454545,13.181818181818182,38.714285714285715,13.65,33.4,23.4,24.555555555555557,40.8421052631579,27.6,34.18181818181818,29.9,24.875,19.0,24.666666666666668,26.5,34.6,37.42857142857143,35.77777777777778,36.166666666666664,36.5,17.083333333333332,10.357142857142858,39.65217391304348,12.416666666666666,12.444444444444445,31.0,30.4,27.818181818181817,36.111111111111114,27.4,32.73684210526316,37.333333333333336,11.444444444444445,21.095238095238095,34.5,14.6,26.714285714285715,16.25,21.5,27.25,39.27272727272727,41.333333333333336,29.0,19.894736842105264,18.333333333333332,13.0,40.0,40.08695652173913,12.11111111111111,10.083333333333334,34.6,40.6,31.789473684210527,28.6,22.4,11.727272727272727,28.833333333333332,36.72727272727273,9.222222222222221,34.15,19.0,33.2,18.3,33.285714285714285,36.0,36.0,30.5,16.923076923076923,35.0,10.5,32.666666666666664,17.166666666666668,33.5,17.833333333333332,36.6,22.2,37.0,7.4375,26.4,18.333333333333332,29.608695652173914,33.2,37.2,15.38888888888889,37.6875,17.705882352941178]},\"mode\":\"markers\",\"name\":\"DEN\",\"text\":[\"Facundo Campazzo - DEN\",\"Aaron Gordon - DEN\",\"JaMychal Green - DEN\",\"Markus Howard - DEN\",\"Nikola Joki\\u0107 - DEN\",\"Paul Millsap - DEN\",\"Monte Morris - DEN\",\"Michael Porter Jr. - DEN\",\"Austin Rivers - DEN\"],\"visible\":false,\"x\":[17.2,18.5,14.2,18.7,43.1,26.5,23.9,26.1,15.0],\"y\":[56.43044619422572,50.41421408327883,55.22713130056004,55.338541666666664,59.07994297620354,51.968936303733926,53.24362858670468,60.11608623548922,60.27000964320154],\"type\":\"scatter\"},{\"customdata\":[15.413439271076612,6.01739273627355,0.9911083522652149,-1.1755872353081998,0.6636439925722684,1.7173997627265223,-4.094814091750955,-7.18137354176973,-8.604472466496944,-1.0113442818090803,0.931120525404701],\"hovertemplate\":\"<b>%{text}</b><br><i>Points per 100 Possesions</i>: %{x:.2f}<br>True Shooting: %{y:.2f} <br>Relative True Shooting: %{customdata:.2f}<extra></extra></br>\",\"marker\":{\"cmax\":81.031181619256,\"cmin\":32.89473684210527,\"color\":[72.61198609122519,63.21593955642213,58.189655172413794,56.02295958484038,57.86219081272085,58.9159465828751,53.103732728397624,50.01717327837885,48.594074353651635,56.1872025383395,58.12966734555328],\"colorbar\":{\"title\":{\"text\":\"True Shooting\"}},\"colorscale\":[[0.0,\"#0d0887\"],[0.1111111111111111,\"#46039f\"],[0.2222222222222222,\"#7201a8\"],[0.3333333333333333,\"#9c179e\"],[0.4444444444444444,\"#bd3786\"],[0.5555555555555556,\"#d8576b\"],[0.6666666666666666,\"#ed7953\"],[0.7777777777777778,\"#fb9f3a\"],[0.8888888888888888,\"#fdca26\"],[1.0,\"#f0f921\"]],\"size\":[34.0,23.2,28.4,38.095238095238095,23.833333333333332,36.40909090909091,32.4,29.210526315789473,39.0,26.5,19.0,33.22222222222222,35.45454545454545,40.40909090909091,32.13636363636363,35.0,23.083333333333332,16.285714285714285,32.4,25.6,38.5,29.2,27.0,31.61111111111111,20.166666666666668,27.09090909090909,10.833333333333334,32.0,29.333333333333332,23.73913043478261,38.0,12.090909090909092,33.13636363636363,31.75,28.8,40.142857142857146,29.25,21.0,40.416666666666664,32.45454545454545,13.181818181818182,38.714285714285715,13.65,33.4,23.4,24.555555555555557,40.8421052631579,27.6,34.18181818181818,29.9,24.875,19.0,24.666666666666668,26.5,34.6,37.42857142857143,35.77777777777778,36.166666666666664,36.5,17.083333333333332,10.357142857142858,39.65217391304348,12.416666666666666,12.444444444444445,31.0,30.4,27.818181818181817,36.111111111111114,27.4,32.73684210526316,37.333333333333336,11.444444444444445,21.095238095238095,34.5,14.6,26.714285714285715,16.25,21.5,27.25,39.27272727272727,41.333333333333336,29.0,19.894736842105264,18.333333333333332,13.0,40.0,40.08695652173913,12.11111111111111,10.083333333333334,34.6,40.6,31.789473684210527,28.6,22.4,11.727272727272727,28.833333333333332,36.72727272727273,9.222222222222221,34.15,19.0,33.2,18.3,33.285714285714285,36.0,36.0,30.5,16.923076923076923,35.0,10.5,32.666666666666664,17.166666666666668,33.5,17.833333333333332,36.6,22.2,37.0,7.4375,26.4,18.333333333333332,29.608695652173914,33.2,37.2,15.38888888888889,37.6875,17.705882352941178]},\"mode\":\"markers\",\"name\":\"PHI\",\"text\":[\"Seth Curry - PHI\",\"Joel Embiid - PHI\",\"Danny Green - PHI\",\"Tobias Harris - PHI\",\"George Hill - PHI\",\"Dwight Howard - PHI\",\"Furkan Korkmaz - PHI\",\"Tyrese Maxey - PHI\",\"Shake Milton - PHI\",\"Ben Simmons - PHI\",\"Matisse Thybulle - PHI\"],\"visible\":false,\"x\":[28.4,41.5,13.5,28.5,13.1,18.0,20.6,23.3,20.6,17.0,13.7],\"y\":[72.61198609122519,63.21593955642213,58.189655172413794,56.02295958484038,57.86219081272085,58.9159465828751,53.103732728397624,50.01717327837885,48.594074353651635,56.1872025383395,58.12966734555328],\"type\":\"scatter\"},{\"customdata\":[-0.8130752325680177,-3.9452547984599633,2.0017637388576333,0.5388179014847978,5.4764340910247356],\"hovertemplate\":\"<b>%{text}</b><br><i>Points per 100 Possesions</i>: %{x:.2f}<br>True Shooting: %{y:.2f} <br>Relative True Shooting: %{customdata:.2f}<extra></extra></br>\",\"marker\":{\"cmax\":81.031181619256,\"cmin\":32.89473684210527,\"color\":[56.38547158758056,53.253292021688615,59.20031055900621,57.73736472163338,62.674980911173314],\"colorbar\":{\"title\":{\"text\":\"True Shooting\"}},\"colorscale\":[[0.0,\"#0d0887\"],[0.1111111111111111,\"#46039f\"],[0.2222222222222222,\"#7201a8\"],[0.3333333333333333,\"#9c179e\"],[0.4444444444444444,\"#bd3786\"],[0.5555555555555556,\"#d8576b\"],[0.6666666666666666,\"#ed7953\"],[0.7777777777777778,\"#fb9f3a\"],[0.8888888888888888,\"#fdca26\"],[1.0,\"#f0f921\"]],\"size\":[34.0,23.2,28.4,38.095238095238095,23.833333333333332,36.40909090909091,32.4,29.210526315789473,39.0,26.5,19.0,33.22222222222222,35.45454545454545,40.40909090909091,32.13636363636363,35.0,23.083333333333332,16.285714285714285,32.4,25.6,38.5,29.2,27.0,31.61111111111111,20.166666666666668,27.09090909090909,10.833333333333334,32.0,29.333333333333332,23.73913043478261,38.0,12.090909090909092,33.13636363636363,31.75,28.8,40.142857142857146,29.25,21.0,40.416666666666664,32.45454545454545,13.181818181818182,38.714285714285715,13.65,33.4,23.4,24.555555555555557,40.8421052631579,27.6,34.18181818181818,29.9,24.875,19.0,24.666666666666668,26.5,34.6,37.42857142857143,35.77777777777778,36.166666666666664,36.5,17.083333333333332,10.357142857142858,39.65217391304348,12.416666666666666,12.444444444444445,31.0,30.4,27.818181818181817,36.111111111111114,27.4,32.73684210526316,37.333333333333336,11.444444444444445,21.095238095238095,34.5,14.6,26.714285714285715,16.25,21.5,27.25,39.27272727272727,41.333333333333336,29.0,19.894736842105264,18.333333333333332,13.0,40.0,40.08695652173913,12.11111111111111,10.083333333333334,34.6,40.6,31.789473684210527,28.6,22.4,11.727272727272727,28.833333333333332,36.72727272727273,9.222222222222221,34.15,19.0,33.2,18.3,33.285714285714285,36.0,36.0,30.5,16.923076923076923,35.0,10.5,32.666666666666664,17.166666666666668,33.5,17.833333333333332,36.6,22.2,37.0,7.4375,26.4,18.333333333333332,29.608695652173914,33.2,37.2,15.38888888888889,37.6875,17.705882352941178]},\"mode\":\"markers\",\"name\":\"BOS\",\"text\":[\"Evan Fournier - BOS\",\"Romeo Langford - BOS\",\"Marcus Smart - BOS\",\"Jayson Tatum - BOS\",\"Tristan Thompson - BOS\"],\"visible\":false,\"x\":[23.1,16.5,24.4,41.4,19.7],\"y\":[56.38547158758056,53.253292021688615,59.20031055900621,57.73736472163338,62.674980911173314],\"type\":\"scatter\"}],                        {\"template\":{\"data\":{\"histogram2dcontour\":[{\"type\":\"histogram2dcontour\",\"colorbar\":{\"outlinewidth\":0,\"ticks\":\"\"},\"colorscale\":[[0.0,\"#0d0887\"],[0.1111111111111111,\"#46039f\"],[0.2222222222222222,\"#7201a8\"],[0.3333333333333333,\"#9c179e\"],[0.4444444444444444,\"#bd3786\"],[0.5555555555555556,\"#d8576b\"],[0.6666666666666666,\"#ed7953\"],[0.7777777777777778,\"#fb9f3a\"],[0.8888888888888888,\"#fdca26\"],[1.0,\"#f0f921\"]]}],\"choropleth\":[{\"type\":\"choropleth\",\"colorbar\":{\"outlinewidth\":0,\"ticks\":\"\"}}],\"histogram2d\":[{\"type\":\"histogram2d\",\"colorbar\":{\"outlinewidth\":0,\"ticks\":\"\"},\"colorscale\":[[0.0,\"#0d0887\"],[0.1111111111111111,\"#46039f\"],[0.2222222222222222,\"#7201a8\"],[0.3333333333333333,\"#9c179e\"],[0.4444444444444444,\"#bd3786\"],[0.5555555555555556,\"#d8576b\"],[0.6666666666666666,\"#ed7953\"],[0.7777777777777778,\"#fb9f3a\"],[0.8888888888888888,\"#fdca26\"],[1.0,\"#f0f921\"]]}],\"heatmap\":[{\"type\":\"heatmap\",\"colorbar\":{\"outlinewidth\":0,\"ticks\":\"\"},\"colorscale\":[[0.0,\"#0d0887\"],[0.1111111111111111,\"#46039f\"],[0.2222222222222222,\"#7201a8\"],[0.3333333333333333,\"#9c179e\"],[0.4444444444444444,\"#bd3786\"],[0.5555555555555556,\"#d8576b\"],[0.6666666666666666,\"#ed7953\"],[0.7777777777777778,\"#fb9f3a\"],[0.8888888888888888,\"#fdca26\"],[1.0,\"#f0f921\"]]}],\"heatmapgl\":[{\"type\":\"heatmapgl\",\"colorbar\":{\"outlinewidth\":0,\"ticks\":\"\"},\"colorscale\":[[0.0,\"#0d0887\"],[0.1111111111111111,\"#46039f\"],[0.2222222222222222,\"#7201a8\"],[0.3333333333333333,\"#9c179e\"],[0.4444444444444444,\"#bd3786\"],[0.5555555555555556,\"#d8576b\"],[0.6666666666666666,\"#ed7953\"],[0.7777777777777778,\"#fb9f3a\"],[0.8888888888888888,\"#fdca26\"],[1.0,\"#f0f921\"]]}],\"contourcarpet\":[{\"type\":\"contourcarpet\",\"colorbar\":{\"outlinewidth\":0,\"ticks\":\"\"}}],\"contour\":[{\"type\":\"contour\",\"colorbar\":{\"outlinewidth\":0,\"ticks\":\"\"},\"colorscale\":[[0.0,\"#0d0887\"],[0.1111111111111111,\"#46039f\"],[0.2222222222222222,\"#7201a8\"],[0.3333333333333333,\"#9c179e\"],[0.4444444444444444,\"#bd3786\"],[0.5555555555555556,\"#d8576b\"],[0.6666666666666666,\"#ed7953\"],[0.7777777777777778,\"#fb9f3a\"],[0.8888888888888888,\"#fdca26\"],[1.0,\"#f0f921\"]]}],\"surface\":[{\"type\":\"surface\",\"colorbar\":{\"outlinewidth\":0,\"ticks\":\"\"},\"colorscale\":[[0.0,\"#0d0887\"],[0.1111111111111111,\"#46039f\"],[0.2222222222222222,\"#7201a8\"],[0.3333333333333333,\"#9c179e\"],[0.4444444444444444,\"#bd3786\"],[0.5555555555555556,\"#d8576b\"],[0.6666666666666666,\"#ed7953\"],[0.7777777777777778,\"#fb9f3a\"],[0.8888888888888888,\"#fdca26\"],[1.0,\"#f0f921\"]]}],\"mesh3d\":[{\"type\":\"mesh3d\",\"colorbar\":{\"outlinewidth\":0,\"ticks\":\"\"}}],\"scatter\":[{\"fillpattern\":{\"fillmode\":\"overlay\",\"size\":10,\"solidity\":0.2},\"type\":\"scatter\"}],\"parcoords\":[{\"type\":\"parcoords\",\"line\":{\"colorbar\":{\"outlinewidth\":0,\"ticks\":\"\"}}}],\"scatterpolargl\":[{\"type\":\"scatterpolargl\",\"marker\":{\"colorbar\":{\"outlinewidth\":0,\"ticks\":\"\"}}}],\"bar\":[{\"error_x\":{\"color\":\"#2a3f5f\"},\"error_y\":{\"color\":\"#2a3f5f\"},\"marker\":{\"line\":{\"color\":\"#E5ECF6\",\"width\":0.5},\"pattern\":{\"fillmode\":\"overlay\",\"size\":10,\"solidity\":0.2}},\"type\":\"bar\"}],\"scattergeo\":[{\"type\":\"scattergeo\",\"marker\":{\"colorbar\":{\"outlinewidth\":0,\"ticks\":\"\"}}}],\"scatterpolar\":[{\"type\":\"scatterpolar\",\"marker\":{\"colorbar\":{\"outlinewidth\":0,\"ticks\":\"\"}}}],\"histogram\":[{\"marker\":{\"pattern\":{\"fillmode\":\"overlay\",\"size\":10,\"solidity\":0.2}},\"type\":\"histogram\"}],\"scattergl\":[{\"type\":\"scattergl\",\"marker\":{\"colorbar\":{\"outlinewidth\":0,\"ticks\":\"\"}}}],\"scatter3d\":[{\"type\":\"scatter3d\",\"line\":{\"colorbar\":{\"outlinewidth\":0,\"ticks\":\"\"}},\"marker\":{\"colorbar\":{\"outlinewidth\":0,\"ticks\":\"\"}}}],\"scattermapbox\":[{\"type\":\"scattermapbox\",\"marker\":{\"colorbar\":{\"outlinewidth\":0,\"ticks\":\"\"}}}],\"scatterternary\":[{\"type\":\"scatterternary\",\"marker\":{\"colorbar\":{\"outlinewidth\":0,\"ticks\":\"\"}}}],\"scattercarpet\":[{\"type\":\"scattercarpet\",\"marker\":{\"colorbar\":{\"outlinewidth\":0,\"ticks\":\"\"}}}],\"carpet\":[{\"aaxis\":{\"endlinecolor\":\"#2a3f5f\",\"gridcolor\":\"white\",\"linecolor\":\"white\",\"minorgridcolor\":\"white\",\"startlinecolor\":\"#2a3f5f\"},\"baxis\":{\"endlinecolor\":\"#2a3f5f\",\"gridcolor\":\"white\",\"linecolor\":\"white\",\"minorgridcolor\":\"white\",\"startlinecolor\":\"#2a3f5f\"},\"type\":\"carpet\"}],\"table\":[{\"cells\":{\"fill\":{\"color\":\"#EBF0F8\"},\"line\":{\"color\":\"white\"}},\"header\":{\"fill\":{\"color\":\"#C8D4E3\"},\"line\":{\"color\":\"white\"}},\"type\":\"table\"}],\"barpolar\":[{\"marker\":{\"line\":{\"color\":\"#E5ECF6\",\"width\":0.5},\"pattern\":{\"fillmode\":\"overlay\",\"size\":10,\"solidity\":0.2}},\"type\":\"barpolar\"}],\"pie\":[{\"automargin\":true,\"type\":\"pie\"}]},\"layout\":{\"autotypenumbers\":\"strict\",\"colorway\":[\"#636efa\",\"#EF553B\",\"#00cc96\",\"#ab63fa\",\"#FFA15A\",\"#19d3f3\",\"#FF6692\",\"#B6E880\",\"#FF97FF\",\"#FECB52\"],\"font\":{\"color\":\"#2a3f5f\"},\"hovermode\":\"closest\",\"hoverlabel\":{\"align\":\"left\"},\"paper_bgcolor\":\"white\",\"plot_bgcolor\":\"#E5ECF6\",\"polar\":{\"bgcolor\":\"#E5ECF6\",\"angularaxis\":{\"gridcolor\":\"white\",\"linecolor\":\"white\",\"ticks\":\"\"},\"radialaxis\":{\"gridcolor\":\"white\",\"linecolor\":\"white\",\"ticks\":\"\"}},\"ternary\":{\"bgcolor\":\"#E5ECF6\",\"aaxis\":{\"gridcolor\":\"white\",\"linecolor\":\"white\",\"ticks\":\"\"},\"baxis\":{\"gridcolor\":\"white\",\"linecolor\":\"white\",\"ticks\":\"\"},\"caxis\":{\"gridcolor\":\"white\",\"linecolor\":\"white\",\"ticks\":\"\"}},\"coloraxis\":{\"colorbar\":{\"outlinewidth\":0,\"ticks\":\"\"}},\"colorscale\":{\"sequential\":[[0.0,\"#0d0887\"],[0.1111111111111111,\"#46039f\"],[0.2222222222222222,\"#7201a8\"],[0.3333333333333333,\"#9c179e\"],[0.4444444444444444,\"#bd3786\"],[0.5555555555555556,\"#d8576b\"],[0.6666666666666666,\"#ed7953\"],[0.7777777777777778,\"#fb9f3a\"],[0.8888888888888888,\"#fdca26\"],[1.0,\"#f0f921\"]],\"sequentialminus\":[[0.0,\"#0d0887\"],[0.1111111111111111,\"#46039f\"],[0.2222222222222222,\"#7201a8\"],[0.3333333333333333,\"#9c179e\"],[0.4444444444444444,\"#bd3786\"],[0.5555555555555556,\"#d8576b\"],[0.6666666666666666,\"#ed7953\"],[0.7777777777777778,\"#fb9f3a\"],[0.8888888888888888,\"#fdca26\"],[1.0,\"#f0f921\"]],\"diverging\":[[0,\"#8e0152\"],[0.1,\"#c51b7d\"],[0.2,\"#de77ae\"],[0.3,\"#f1b6da\"],[0.4,\"#fde0ef\"],[0.5,\"#f7f7f7\"],[0.6,\"#e6f5d0\"],[0.7,\"#b8e186\"],[0.8,\"#7fbc41\"],[0.9,\"#4d9221\"],[1,\"#276419\"]]},\"xaxis\":{\"gridcolor\":\"white\",\"linecolor\":\"white\",\"ticks\":\"\",\"title\":{\"standoff\":15},\"zerolinecolor\":\"white\",\"automargin\":true,\"zerolinewidth\":2},\"yaxis\":{\"gridcolor\":\"white\",\"linecolor\":\"white\",\"ticks\":\"\",\"title\":{\"standoff\":15},\"zerolinecolor\":\"white\",\"automargin\":true,\"zerolinewidth\":2},\"scene\":{\"xaxis\":{\"backgroundcolor\":\"#E5ECF6\",\"gridcolor\":\"white\",\"linecolor\":\"white\",\"showbackground\":true,\"ticks\":\"\",\"zerolinecolor\":\"white\",\"gridwidth\":2},\"yaxis\":{\"backgroundcolor\":\"#E5ECF6\",\"gridcolor\":\"white\",\"linecolor\":\"white\",\"showbackground\":true,\"ticks\":\"\",\"zerolinecolor\":\"white\",\"gridwidth\":2},\"zaxis\":{\"backgroundcolor\":\"#E5ECF6\",\"gridcolor\":\"white\",\"linecolor\":\"white\",\"showbackground\":true,\"ticks\":\"\",\"zerolinecolor\":\"white\",\"gridwidth\":2}},\"shapedefaults\":{\"line\":{\"color\":\"#2a3f5f\"}},\"annotationdefaults\":{\"arrowcolor\":\"#2a3f5f\",\"arrowhead\":0,\"arrowwidth\":1},\"geo\":{\"bgcolor\":\"white\",\"landcolor\":\"#E5ECF6\",\"subunitcolor\":\"white\",\"showland\":true,\"showlakes\":true,\"lakecolor\":\"white\"},\"title\":{\"x\":0.05},\"mapbox\":{\"style\":\"light\"}}},\"title\":{\"text\":\"2021 Playoffs\",\"y\":0.95,\"x\":0.5,\"xanchor\":\"center\",\"yanchor\":\"top\"},\"font\":{\"size\":15},\"updatemenus\":[{\"active\":0,\"buttons\":[{\"args\":[{\"visible\":[true,false,false,false,false,false,false,false,false,false,false,false,false,false,false,false,false]},{\"title\":\"All\",\"showlegend\":false}],\"label\":\"all_teams\",\"method\":\"update\"},{\"args\":[{\"visible\":[false,true,false,false,false,false,false,false,false,false,false,false,false,false,false,false,false]},{\"title\":\"2021 MIA\",\"showlegend\":false}],\"label\":\"MIA\",\"method\":\"update\"},{\"args\":[{\"visible\":[false,false,true,false,false,false,false,false,false,false,false,false,false,false,false,false,false]},{\"title\":\"2021 MEM\",\"showlegend\":false}],\"label\":\"MEM\",\"method\":\"update\"},{\"args\":[{\"visible\":[false,false,false,true,false,false,false,false,false,false,false,false,false,false,false,false,false]},{\"title\":\"2021 MIL\",\"showlegend\":false}],\"label\":\"MIL\",\"method\":\"update\"},{\"args\":[{\"visible\":[false,false,false,false,true,false,false,false,false,false,false,false,false,false,false,false,false]},{\"title\":\"2021 POR\",\"showlegend\":false}],\"label\":\"POR\",\"method\":\"update\"},{\"args\":[{\"visible\":[false,false,false,false,false,true,false,false,false,false,false,false,false,false,false,false,false]},{\"title\":\"2021 PHO\",\"showlegend\":false}],\"label\":\"PHO\",\"method\":\"update\"},{\"args\":[{\"visible\":[false,false,false,false,false,false,true,false,false,false,false,false,false,false,false,false,false]},{\"title\":\"2021 NYK\",\"showlegend\":false}],\"label\":\"NYK\",\"method\":\"update\"},{\"args\":[{\"visible\":[false,false,false,false,false,false,false,true,false,false,false,false,false,false,false,false,false]},{\"title\":\"2021 LAC\",\"showlegend\":false}],\"label\":\"LAC\",\"method\":\"update\"},{\"args\":[{\"visible\":[false,false,false,false,false,false,false,false,true,false,false,false,false,false,false,false,false]},{\"title\":\"2021 WAS\",\"showlegend\":false}],\"label\":\"WAS\",\"method\":\"update\"},{\"args\":[{\"visible\":[false,false,false,false,false,false,false,false,false,true,false,false,false,false,false,false,false]},{\"title\":\"2021 ATL\",\"showlegend\":false}],\"label\":\"ATL\",\"method\":\"update\"},{\"args\":[{\"visible\":[false,false,false,false,false,false,false,false,false,false,true,false,false,false,false,false,false]},{\"title\":\"2021 UTA\",\"showlegend\":false}],\"label\":\"UTA\",\"method\":\"update\"},{\"args\":[{\"visible\":[false,false,false,false,false,false,false,false,false,false,false,true,false,false,false,false,false]},{\"title\":\"2021 BRK\",\"showlegend\":false}],\"label\":\"BRK\",\"method\":\"update\"},{\"args\":[{\"visible\":[false,false,false,false,false,false,false,false,false,false,false,false,true,false,false,false,false]},{\"title\":\"2021 DAL\",\"showlegend\":false}],\"label\":\"DAL\",\"method\":\"update\"},{\"args\":[{\"visible\":[false,false,false,false,false,false,false,false,false,false,false,false,false,true,false,false,false]},{\"title\":\"2021 LAL\",\"showlegend\":false}],\"label\":\"LAL\",\"method\":\"update\"},{\"args\":[{\"visible\":[false,false,false,false,false,false,false,false,false,false,false,false,false,false,true,false,false]},{\"title\":\"2021 DEN\",\"showlegend\":false}],\"label\":\"DEN\",\"method\":\"update\"},{\"args\":[{\"visible\":[false,false,false,false,false,false,false,false,false,false,false,false,false,false,false,true,false]},{\"title\":\"2021 PHI\",\"showlegend\":false}],\"label\":\"PHI\",\"method\":\"update\"},{\"args\":[{\"visible\":[false,false,false,false,false,false,false,false,false,false,false,false,false,false,false,false,true]},{\"title\":\"2021 BOS\",\"showlegend\":false}],\"label\":\"BOS\",\"method\":\"update\"}],\"direction\":\"down\",\"pad\":{\"r\":10,\"t\":10},\"showactive\":true}],\"yaxis\":{\"range\":[29,83],\"tickvals\":[29,34,39,44,49,54,59,64,69,74,79]},\"xaxis\":{\"range\":[0,50],\"title\":{\"text\":\"Points per 100 Possesions\"},\"tickvals\":[5,10,15,20,25,30,35,40,45]},\"shapes\":[{\"type\":\"line\",\"x0\":0,\"x1\":1,\"xref\":\"x domain\",\"y0\":57.19854682014858,\"y1\":57.19854682014858,\"yref\":\"y\"}],\"width\":1400,\"height\":700,\"autosize\":true,\"annotations\":[{\"showarrow\":false,\"text\":\"Source: Basketball Reference\",\"y\":32.89473684210527}]},                        {\"responsive\": true}                    ).then(function(){\n",
       "                            \n",
       "var gd = document.getElementById('b765c508-d82a-427e-8e72-2f704f33a36e');\n",
       "var x = new MutationObserver(function (mutations, observer) {{\n",
       "        var display = window.getComputedStyle(gd).display;\n",
       "        if (!display || display === 'none') {{\n",
       "            console.log([gd, 'removed!']);\n",
       "            Plotly.purge(gd);\n",
       "            observer.disconnect();\n",
       "        }}\n",
       "}});\n",
       "\n",
       "// Listen for the removal of the full notebook cells\n",
       "var notebookContainer = gd.closest('#notebook-container');\n",
       "if (notebookContainer) {{\n",
       "    x.observe(notebookContainer, {childList: true});\n",
       "}}\n",
       "\n",
       "// Listen for the clearing of the current output cell\n",
       "var outputEl = gd.closest('.output');\n",
       "if (outputEl) {{\n",
       "    x.observe(outputEl, {childList: true});\n",
       "}}\n",
       "\n",
       "                        })                };                });            </script>        </div>"
      ]
     },
     "metadata": {},
     "output_type": "display_data"
    }
   ],
   "source": [
    "year = 2021\n",
    "df = tables[year]\n",
    "df['G'] = df['G'].astype(int)\n",
    "\n",
    "fig = season_graph(df,year,seasons[2021]*100)\n",
    "fig.show()"
   ]
  },
  {
   "cell_type": "code",
   "execution_count": null,
   "id": "ac45fcbb-4e1b-41c2-b22b-a4a530a93042",
   "metadata": {},
   "outputs": [],
   "source": [
    "\n",
    "\n",
    "app = dash.Dash(\n",
    "      meta_tags=[\n",
    "        {\"name\": \"viewport\", \"content\": \"width=device-width, initial-scale=1\"}\n",
    "    ],\n",
    ")\n",
    "    "
   ]
  },
  {
   "cell_type": "code",
   "execution_count": null,
   "id": "a270029f-11b4-4063-9365-8b7ea57a9f18",
   "metadata": {},
   "outputs": [],
   "source": [
    "mess_1 = 'Bubble size corresponds to minutes played'\n",
    "mess_2 = 'Players with less than ' +str(minutes)+ ' minutes are excluded'\n",
    "server = app.server\n",
    "\n",
    "app.layout = html.Div(\n",
    "    \n",
    "    children=[\n",
    "    html.H1(children='Scoring by Year', style={'text-align': 'center'}),\n",
    "    html.Div(children='Player Scoring vs Player Efficiency', style={'text-align': 'center'}),\n",
    "    html.Ul(children = [html.Li(mess_1), html.Li(mess_2) ]),\n",
    "\n",
    "    html.Div([\n",
    "        html.Label(['Choose a season:'],style={'font-weight': 'bold'}),\n",
    "        dcc.Dropdown(\n",
    "            id='dropdown',\n",
    "            options=options,\n",
    "                \n",
    "            value=start_year,\n",
    "            style={\"width\": \"60%\"}),\n",
    "        \n",
    "    html.Div(dcc.Graph(id='graph',\n",
    "                        figure=dict(layout=dict(autosize=True)),\n",
    "            config=dict(responsive=True),  style={'display': 'flex','width':1400,'height':800}))      \n",
    "        ]),\n",
    "\n",
    "])\n",
    "\n",
    "@app.callback(\n",
    "    Output('graph', 'figure'),\n",
    "    [Input(component_id='dropdown', component_property='value')]\n",
    ")\n",
    "\n",
    "def update_output(value):\n",
    "    \n",
    "    fig = season_graph(tables[value],value,seasons[value]* 100)\n",
    "    return fig\n",
    "\n",
    "\n",
    "# Run app and display result inline in the notebook\n",
    "if __name__ == '__main__':\n",
    "    app.run_server(port=80)"
   ]
  },
  {
   "cell_type": "code",
   "execution_count": null,
   "id": "ec4412e2-6786-43ef-9bdf-77ceb5cc45ca",
   "metadata": {},
   "outputs": [],
   "source": [
    "seasons"
   ]
  },
  {
   "cell_type": "code",
   "execution_count": null,
   "id": "a6bfb4bc-a0a2-4533-a040-a0886f75afae",
   "metadata": {},
   "outputs": [],
   "source": []
  }
 ],
 "metadata": {
  "kernelspec": {
   "display_name": "Python 3 (ipykernel)",
   "language": "python",
   "name": "python3"
  },
  "language_info": {
   "codemirror_mode": {
    "name": "ipython",
    "version": 3
   },
   "file_extension": ".py",
   "mimetype": "text/x-python",
   "name": "python",
   "nbconvert_exporter": "python",
   "pygments_lexer": "ipython3",
   "version": "3.10.11"
  }
 },
 "nbformat": 4,
 "nbformat_minor": 5
}
