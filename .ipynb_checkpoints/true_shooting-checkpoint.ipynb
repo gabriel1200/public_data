{
 "cells": [
  {
   "cell_type": "code",
   "execution_count": 20,
   "id": "e8644fd5-5465-4b04-b43c-ae5a3fcc4771",
   "metadata": {},
   "outputs": [
    {
     "data": {
      "text/html": [
       "        <script type=\"text/javascript\">\n",
       "        window.PlotlyConfig = {MathJaxConfig: 'local'};\n",
       "        if (window.MathJax) {MathJax.Hub.Config({SVG: {font: \"STIX-Web\"}});}\n",
       "        if (typeof require !== 'undefined') {\n",
       "        require.undef(\"plotly\");\n",
       "        requirejs.config({\n",
       "            paths: {\n",
       "                'plotly': ['https://cdn.plot.ly/plotly-2.11.1.min']\n",
       "            }\n",
       "        });\n",
       "        require(['plotly'], function(Plotly) {\n",
       "            window._Plotly = Plotly;\n",
       "        });\n",
       "        }\n",
       "        </script>\n",
       "        "
      ]
     },
     "metadata": {},
     "output_type": "display_data"
    }
   ],
   "source": [
    "import pandas as pd\n",
    "\n",
    "import plotly.express as px\n",
    "import plotly\n",
    "plotly.offline.init_notebook_mode(connected=True)\n",
    "import plotly.graph_objects as go\n",
    "from jupyter_dash import JupyterDash\n",
    "from dash import dcc\n",
    "from dash import html\n",
    "from dash.dependencies import Input, Output, State\n",
    "import chart_studio.plotly as py\n",
    "import chart_studio.tools as tls\n",
    "import io"
   ]
  },
  {
   "cell_type": "code",
   "execution_count": 2,
   "id": "c79e40ce-aa77-4465-ae95-f42c79017490",
   "metadata": {},
   "outputs": [],
   "source": [
    "start_year = 1980\n",
    "end_year = 2022"
   ]
  },
  {
   "cell_type": "code",
   "execution_count": 3,
   "id": "ae90d6f3-96a9-412b-ab19-da1ccc03af0c",
   "metadata": {},
   "outputs": [],
   "source": [
    "averages = pd.read_html('https://www.basketball-reference.com/leagues/NBA_stats_per_game.html#stats', header=1)[0]\n",
    "\n",
    "averages= averages.dropna()\n",
    "\n",
    "averages = averages[averages['Season']!='Season']\n",
    "averages['PTS'] = averages['PTS'].astype(float)\n",
    "averages['FGA'] = averages['FGA'].astype(float)\n",
    "averages['FTA'] = averages['FTA'].astype(float)\n",
    "averages['TS%'] = averages['PTS']/(2* (averages['FGA'] + .44 *averages['FTA'] ))\n",
    "averages['TS%'] = averages['PTS']/(2* (averages['FGA'] + .44 *averages['FTA'] ))\n",
    "averages = averages[['TS%','Season']]\n",
    "averages['Season'] = averages['Season'].str[:4]\n",
    "averages['Season'] = averages['Season'].astype(int)\n",
    "averages['Season']+=1\n",
    "averages = averages[averages['Season']>=start_year]\n",
    "averages = averages[averages['Season']<=end_year]\n",
    "averages = averages.iloc[::-1]\n"
   ]
  },
  {
   "cell_type": "code",
   "execution_count": 4,
   "id": "411520f8-41c2-4196-b9bd-66d2380cef32",
   "metadata": {},
   "outputs": [],
   "source": [
    "s_data = averages.to_dict('split')['data']\n",
    "seasons = {}\n",
    "options = []\n",
    "for i in s_data:\n",
    "    seasons[int(i[1])] = float(i[0])\n",
    "    options.append(int(i[1]))"
   ]
  },
  {
   "cell_type": "code",
   "execution_count": 5,
   "id": "aec5ea31-93e7-4ec0-9484-7228526bb788",
   "metadata": {},
   "outputs": [],
   "source": [
    "import sys\n",
    "import pandas as pd\n",
    "\n",
    "    \n",
    "def get_table(link_1,link_2,minutes):\n",
    "\n",
    "    df = pd.read_html(link_1)[0]\n",
    "    df_2 = pd.read_html(link_2)[0]\n",
    "    df = df.dropna(subset = ['MP'])\n",
    "    df_2 = df_2.dropna(subset = ['MP','TS%'])\n",
    "    df = df[df['MP'] != 'MP']\n",
    "    df_2 = df_2[df_2['MP'] != 'MP']\n",
    "    final_df = df.merge(df_2)\n",
    "    final_df['MP'] = final_df['MP'].astype(float)\n",
    "    final_df['PTS'] = final_df['PTS'].astype(float)\n",
    "    final_df['TS%'] = final_df['TS%'].astype(float)\n",
    "    final_df = final_df[final_df['MP'] >minutes]\n",
    "    final_df['TS%'] *=100\n",
    "    final_df = final_df.drop(columns = ['Unnamed: 24','Unnamed: 29','Unnamed: 19'])\n",
    "    send_df = final_df[['Player','TS%','PTS','MP','Tm']]\n",
    "\n",
    "    \n",
    "    return send_df\n",
    "    \n",
    "def main(my_dict):\n",
    "    team = my_dict['team']\n",
    "    df = get_table()\n",
    "    return df.to_dict()\n"
   ]
  },
  {
   "cell_type": "code",
   "execution_count": 6,
   "id": "e6b11afb-6b55-4176-a922-36711eda41de",
   "metadata": {},
   "outputs": [],
   "source": [
    "#link_1 ='https://www.basketball-reference.com/leagues/NBA_2011_per_poss.html#per_poss_stats'\n",
    "#link_2 = 'https://www.basketball-reference.com/leagues/NBA_2011_advanced.html#advanced_stat'\n",
    "#link_3 ='https://www.basketball-reference.com/playoffs/NBA_1985_per_poss.html#per_poss_stats'\n",
    "#link_4 = 'https://www.basketball-reference.com/playoffs/NBA_1980_advanced.html#advanced_stats'\n",
    "#df = pd.read_html(link_3)[0]\n",
    "#df_2 = pd.read_html(link_4)[0]\n",
    "\n",
    "#df_2 = df_2.dropna()\n"
   ]
  },
  {
   "cell_type": "code",
   "execution_count": 7,
   "id": "309007ce-5fdd-4f96-b9f5-2a54ddf7c5c9",
   "metadata": {},
   "outputs": [],
   "source": [
    "#df.columns"
   ]
  },
  {
   "cell_type": "code",
   "execution_count": 8,
   "id": "58c0c518-89f4-4893-a506-39485f222652",
   "metadata": {},
   "outputs": [],
   "source": [
    "#1500/65"
   ]
  },
  {
   "cell_type": "code",
   "execution_count": 9,
   "id": "d34e197a-5388-434f-9318-bbb21e6e8045",
   "metadata": {
    "tags": []
   },
   "outputs": [],
   "source": [
    "def get_tables(start_year,stop_year,minutes):\n",
    "    tables = []\n",
    "    for i in range(start_year,stop_year + 1):\n",
    "        link_1 ='https://www.basketball-reference.com/leagues/NBA_'+str(i)+'_per_poss.html#per_poss_stats'\n",
    "        link_2 = 'https://www.basketball-reference.com/leagues/NBA_'+str(i)+'_advanced.html#advanced_stat'\n",
    "\n",
    "        df = get_table(link_1,link_2,minutes)\n",
    "        tables.append(df)\n",
    "    return tables\n",
    "\n",
    "def playoff_tables(start_year,stop_year,minutes):\n",
    "    tables = []\n",
    "    for i in range(start_year,stop_year + 1):\n",
    "        link_1 ='https://www.basketball-reference.com/playoffs/NBA_'+str(i)+'_per_poss.html#per_poss_stats'\n",
    "        link_2 = 'https://www.basketball-reference.com/playoffs/NBA_'+str(i)+'_advanced.html#advanced_stat'\n",
    "\n",
    "        df = get_table(link_1,link_2,minutes)\n",
    "        tables.append(df)\n",
    "    return tables\n",
    "\n"
   ]
  },
  {
   "cell_type": "code",
   "execution_count": 10,
   "id": "a9720847-89a2-47bd-b409-0142ec777f53",
   "metadata": {},
   "outputs": [],
   "source": [
    "tables = get_tables(start_year,end_year,400)"
   ]
  },
  {
   "cell_type": "code",
   "execution_count": 11,
   "id": "e23111a8-03db-44ca-b37e-fd695ae751a1",
   "metadata": {},
   "outputs": [],
   "source": [
    "#df = tables[0]\n",
    "#df"
   ]
  },
  {
   "cell_type": "code",
   "execution_count": 12,
   "id": "ac3aff96-edb4-4490-9a5e-a4cdbacdf5ad",
   "metadata": {
    "tags": []
   },
   "outputs": [],
   "source": [
    "def get_buttons(teams,year,df):\n",
    "    my_list = []\n",
    "    i = 0\n",
    "    length = len(teams)\n",
    "    seen = [False for i in range(length+ 1) ]\n",
    "\n",
    "    seen[i] = True\n",
    "    my_list.append(dict(label = 'all_teams',\n",
    "                      method = 'update',\n",
    "                      args = [{'visible':[i for i in seen]},\n",
    "                              {'title': 'All',\n",
    "                               'showlegend':False}]))\n",
    "    seen[i] = False\n",
    "    i +=1\n",
    "    for team in teams:\n",
    "        #print(i)\n",
    "        df_team = df[df['Tm'] == team]\n",
    "        seen[i] = True\n",
    "\n",
    "        my_list.append(dict(label = team,\n",
    "                      method = 'update',\n",
    "\n",
    "                      args = [{'visible':[i for i in seen]},\n",
    "                              {'title': str(year) + ' '+team,\n",
    "                               'showlegend':False}]))\n",
    "        seen[i] = False\n",
    "        i+=1\n",
    "    return my_list\n"
   ]
  },
  {
   "cell_type": "code",
   "execution_count": 13,
   "id": "773e22ff-da3e-4bc0-bde0-ecc7585e70c4",
   "metadata": {},
   "outputs": [],
   "source": [
    "#zmax = df['TS%'].max()\n",
    "#zmin = df['TS%'].min()\n",
    "#zmin"
   ]
  },
  {
   "cell_type": "code",
   "execution_count": 14,
   "id": "8eef10b5-2b31-44a9-9b0f-d7226e95e2a6",
   "metadata": {},
   "outputs": [],
   "source": [
    "def full_trace(fig,df,zmin,zmax,av_shooting):\n",
    "    df = df[df['Tm']!= 'TOT']\n",
    "    fig.add_trace(\n",
    "            go.Scatter(\n",
    "\n",
    "                visible = True,\n",
    "                x = df['PTS'],\n",
    "                y = df['TS%'],\n",
    "                customdata = df['TS%'] - av_shooting,\n",
    "\n",
    "                \n",
    "                text = df['Player']+' - ' + df['Tm'],\n",
    "                hovertemplate =\n",
    "                '<b>%{text}</b>'+\n",
    "        '<br><i>Points per 100 Possesions</i>: %{x:.2f}<br>'+\n",
    "        'True Shooting: %{y}'\n",
    "                + ' <br>Relative True Shooting: %{customdata:.2f}<extra></extra></br>'\n",
    "        ,\n",
    "                name = 'All',\n",
    "                marker=dict(\n",
    "                cmin=zmin ,\n",
    "                cmax=zmax,\n",
    "                size=df['MP'] / 65,\n",
    "                colorbar=dict(\n",
    "                title=\"True Shooting %\"\n",
    "\n",
    "\n",
    "            ),\n",
    "            colorscale=\"plasma\",\n",
    "            color=  df['TS%'],\n",
    "\n",
    "        ),\n",
    "\n",
    "\n",
    "        mode=\"markers\"\n",
    "            ))\n",
    "    return fig\n",
    "    "
   ]
  },
  {
   "cell_type": "code",
   "execution_count": 15,
   "id": "1f228262-678f-4045-8f89-e0d6f7d92340",
   "metadata": {},
   "outputs": [],
   "source": [
    "def team_trace(fig,df,teams,zmin,zmax,av_shooting):\n",
    "    for team in teams:\n",
    "        df_team = df[df['Tm'] == team]\n",
    "\n",
    "\n",
    "        fig.add_trace(\n",
    "            go.Scatter(\n",
    "                \n",
    "                visible = False,\n",
    "                x = df_team['PTS'],\n",
    "                y = df_team['TS%'],\n",
    "                customdata = df_team['TS%'] - av_shooting,\n",
    "                \n",
    "                text = df_team['Player']+' - ' + df_team['Tm'],\n",
    "                hovertemplate =\n",
    "                '<b>%{text}</b>'+\n",
    "        '<br><i>Points per 100 Possesions</i>: %{x:.2f}<br>'+\n",
    "        'True Shooting: %{y}'\n",
    "                + ' <br>Relative True Shooting: %{customdata:.2f}<extra></extra></br>'\n",
    "        ,\n",
    "                name = team,\n",
    "                marker=dict(\n",
    "                cmin=zmin ,\n",
    "                cmax=zmax,\n",
    "                size=df_team['MP'] / 65,\n",
    "                colorbar=dict(\n",
    "                title=\"True Shooting\"\n",
    "\n",
    "\n",
    "            ),\n",
    "            colorscale = 'Plasma',\n",
    "            \n",
    "            color=  df_team['TS%'],\n",
    "\n",
    "        ),\n",
    "\n",
    "\n",
    "        mode=\"markers\"\n",
    "            )\n",
    "\n",
    "        ) \n",
    "    return fig"
   ]
  },
  {
   "cell_type": "code",
   "execution_count": 16,
   "id": "f9638bef-86ef-45b8-98fe-8dadcce7837f",
   "metadata": {
    "tags": []
   },
   "outputs": [],
   "source": [
    "def season_graph(df,year,true_shooting):\n",
    "    fig = go.Figure()\n",
    "    teams = list(df['Tm'].unique())\n",
    "    my_buttons = get_buttons(teams,year,df)\n",
    "    zmax = df['TS%'].max()\n",
    "    zmin = df['TS%'].min()\n",
    "    fig.update_layout(\n",
    "        title={\n",
    "        'text':str(year) +\" Season\",\n",
    "        'y':0.95,\n",
    "        'x':0.5,\n",
    "        'xanchor': 'center',\n",
    "        'yanchor': 'top'},\n",
    "    updatemenus=[go.layout.Updatemenu(\n",
    "            active=0,\n",
    "            buttons= my_buttons,\n",
    "            direction=\"down\",\n",
    "                pad={\"r\": 10, \"t\": 10},\n",
    "                showactive=True,\n",
    "\n",
    "\n",
    "    )],\n",
    "    font=dict(\n",
    "        size=15,\n",
    "    )\n",
    "    )\n",
    "   \n",
    "    fig = full_trace(fig,df,zmin,zmax,true_shooting)\n",
    "    fig = team_trace(fig,df,teams,zmin,zmax,true_shooting)\n",
    "    fig.update_layout(\n",
    "        autosize=False,\n",
    "        width=1000,\n",
    "        height=800,\n",
    "    showlegend= False)  \n",
    "\n",
    "    fig.update_layout(yaxis_range=[int(zmin -3),int(zmax +2)], xaxis_range = [0,50])\n",
    "    fig.update_yaxes(tickvals=[i for i in range(int(zmin)-3,int(zmax)+3,5)])\n",
    "    fig.update_xaxes(tickvals = [i for i in range (5,50,5)], title_text = 'Points per 100 Possesions')\n",
    "    fig.add_hline(y=true_shooting)\n",
    "    return fig"
   ]
  },
  {
   "cell_type": "code",
   "execution_count": 17,
   "id": "3b75c0e6-0dad-4b94-a1e2-0c6e5376ed19",
   "metadata": {},
   "outputs": [],
   "source": [
    "#fig = season_graph(df,1980,seasons[1980]*100)\n",
    "#fig.show()"
   ]
  },
  {
   "cell_type": "code",
   "execution_count": 18,
   "id": "ac45fcbb-4e1b-41c2-b22b-a4a530a93042",
   "metadata": {},
   "outputs": [],
   "source": [
    "#fig.write_html(\"index.html\")"
   ]
  },
  {
   "cell_type": "code",
   "execution_count": 21,
   "id": "a270029f-11b4-4063-9365-8b7ea57a9f18",
   "metadata": {},
   "outputs": [
    {
     "name": "stdout",
     "output_type": "stream",
     "text": [
      "Dash app running on http://127.0.0.1:8050/\n"
     ]
    }
   ],
   "source": [
    "\n",
    "app = JupyterDash(__name__)\n",
    "app.layout = html.Div(children=[\n",
    "    html.H1(children='Scoring by Year', style={'text-align': 'center'}),\n",
    "    html.Div(children='Player Scoring vs Player Efficiency', style={'text-align': 'center'}),\n",
    "\n",
    "    html.Div([\n",
    "        html.Label(['Choose a season:'],style={'font-weight': 'bold'}),\n",
    "        dcc.Dropdown(\n",
    "            id='dropdown',\n",
    "            options=options,\n",
    "                \n",
    "            value=start_year,\n",
    "            style={\"width\": \"60%\"}),\n",
    "        \n",
    "    html.Div(dcc.Graph(id='graph')),        \n",
    "        ]),\n",
    "\n",
    "])\n",
    "\n",
    "@app.callback(\n",
    "    Output('graph', 'figure'),\n",
    "    [Input(component_id='dropdown', component_property='value')]\n",
    ")\n",
    "\n",
    "def update_output(value):\n",
    "\n",
    "    t_num = options.index(value)\n",
    "    fig = season_graph(tables[t_num],value,seasons[value]* 100)\n",
    "    return fig\n",
    "\n",
    "\n",
    "# Run app and display result inline in the notebook\n",
    "if __name__ == '__main__':\n",
    "    app.run_server(port=80)"
   ]
  },
  {
   "cell_type": "code",
   "execution_count": null,
   "id": "32d88e51-b3dc-44f3-a13b-0a1e5eafe1c1",
   "metadata": {},
   "outputs": [],
   "source": []
  },
  {
   "cell_type": "code",
   "execution_count": null,
   "id": "ec4412e2-6786-43ef-9bdf-77ceb5cc45ca",
   "metadata": {},
   "outputs": [],
   "source": []
  }
 ],
 "metadata": {
  "kernelspec": {
   "display_name": "Python 3",
   "language": "python",
   "name": "python3"
  },
  "language_info": {
   "codemirror_mode": {
    "name": "ipython",
    "version": 3
   },
   "file_extension": ".py",
   "mimetype": "text/x-python",
   "name": "python",
   "nbconvert_exporter": "python",
   "pygments_lexer": "ipython3",
   "version": "3.8.8"
  }
 },
 "nbformat": 4,
 "nbformat_minor": 5
}
