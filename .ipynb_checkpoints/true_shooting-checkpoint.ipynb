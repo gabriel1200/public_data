{
 "cells": [
  {
   "cell_type": "code",
   "execution_count": 1,
   "id": "e8644fd5-5465-4b04-b43c-ae5a3fcc4771",
   "metadata": {},
   "outputs": [
    {
     "data": {
      "text/html": [
       "        <script type=\"text/javascript\">\n",
       "        window.PlotlyConfig = {MathJaxConfig: 'local'};\n",
       "        if (window.MathJax) {MathJax.Hub.Config({SVG: {font: \"STIX-Web\"}});}\n",
       "        if (typeof require !== 'undefined') {\n",
       "        require.undef(\"plotly\");\n",
       "        requirejs.config({\n",
       "            paths: {\n",
       "                'plotly': ['https://cdn.plot.ly/plotly-2.11.1.min']\n",
       "            }\n",
       "        });\n",
       "        require(['plotly'], function(Plotly) {\n",
       "            window._Plotly = Plotly;\n",
       "        });\n",
       "        }\n",
       "        </script>\n",
       "        "
      ]
     },
     "metadata": {},
     "output_type": "display_data"
    }
   ],
   "source": [
    "import pandas as pd\n",
    "\n",
    "import plotly.express as px\n",
    "import plotly\n",
    "plotly.offline.init_notebook_mode(connected=True)\n",
    "import plotly.graph_objects as go"
   ]
  },
  {
   "cell_type": "code",
   "execution_count": 2,
   "id": "c79e40ce-aa77-4465-ae95-f42c79017490",
   "metadata": {},
   "outputs": [],
   "source": [
    "start_year = 1980\n",
    "end_year = 2022"
   ]
  },
  {
   "cell_type": "code",
   "execution_count": 3,
   "id": "ae90d6f3-96a9-412b-ab19-da1ccc03af0c",
   "metadata": {},
   "outputs": [],
   "source": [
    "averages = pd.read_html('https://www.basketball-reference.com/leagues/NBA_stats_per_game.html#stats', header=1)[0]\n",
    "\n",
    "averages= averages.dropna()\n",
    "\n",
    "averages = averages[averages['Season']!='Season']\n",
    "averages['PTS'] = averages['PTS'].astype(float)\n",
    "averages['FGA'] = averages['FGA'].astype(float)\n",
    "averages['FTA'] = averages['FTA'].astype(float)\n",
    "averages['TS%'] = averages['PTS']/(2* (averages['FGA'] + .44 *averages['FTA'] ))\n",
    "averages['TS%'] = averages['PTS']/(2* (averages['FGA'] + .44 *averages['FTA'] ))\n",
    "averages = averages[['TS%','Season']]\n",
    "averages['Season'] = averages['Season'].str[:4]\n",
    "averages['Season'] = averages['Season'].astype(int)\n",
    "averages['Season']+=1\n",
    "averages = averages[averages['Season']>=start_year]\n",
    "averages = averages[averages['Season']<=end_year]\n",
    "averages = averages.iloc[::-1]\n"
   ]
  },
  {
   "cell_type": "code",
   "execution_count": 4,
   "id": "411520f8-41c2-4196-b9bd-66d2380cef32",
   "metadata": {},
   "outputs": [],
   "source": [
    "s_data = averages.to_dict('split')['data']\n",
    "seasons = {}\n",
    "options = []\n",
    "for i in s_data:\n",
    "    seasons[int(i[1])] = float(i[0])\n",
    "    options.append(int(i[1]))"
   ]
  },
  {
   "cell_type": "code",
   "execution_count": 5,
   "id": "df3474ab-3f45-4bf8-bcca-65e9db5b48b5",
   "metadata": {},
   "outputs": [
    {
     "name": "stderr",
     "output_type": "stream",
     "text": [
      "<ipython-input-5-0840c16c04ae>:2: UserWarning:\n",
      "\n",
      "\n",
      "The dash_core_components package is deprecated. Please replace\n",
      "`import dash_core_components as dcc` with `from dash import dcc`\n",
      "\n",
      "<ipython-input-5-0840c16c04ae>:3: UserWarning:\n",
      "\n",
      "\n",
      "The dash_html_components package is deprecated. Please replace\n",
      "`import dash_html_components as html` with `from dash import html`\n",
      "\n"
     ]
    }
   ],
   "source": [
    "from jupyter_dash import JupyterDash\n",
    "import dash_core_components as dcc\n",
    "import dash_html_components as html\n",
    "from dash.dependencies import Input, Output, State\n",
    "\n",
    "import io"
   ]
  },
  {
   "cell_type": "code",
   "execution_count": 6,
   "id": "8da5d690-149a-49dd-9666-f98f560a2c8f",
   "metadata": {},
   "outputs": [],
   "source": [
    "import chart_studio.plotly as py\n",
    "import chart_studio.tools as tls\n",
    "from ipywidgets import interactive, HBox, VBox\n",
    "\n"
   ]
  },
  {
   "cell_type": "code",
   "execution_count": 7,
   "id": "aec5ea31-93e7-4ec0-9484-7228526bb788",
   "metadata": {},
   "outputs": [],
   "source": [
    "import sys\n",
    "import pandas as pd\n",
    "\n",
    "    \n",
    "def get_table(link_1,link_2,minutes):\n",
    "\n",
    "    df = pd.read_html(link_1)[0]\n",
    "    df_2 = pd.read_html(link_2)[0]\n",
    "    df = df.dropna(subset = ['MP'])\n",
    "    df_2 = df_2.dropna(subset = ['MP','TS%'])\n",
    "    df = df[df['MP'] != 'MP']\n",
    "    df_2 = df_2[df_2['MP'] != 'MP']\n",
    "    final_df = df.merge(df_2)\n",
    "    final_df['MP'] = final_df['MP'].astype(float)\n",
    "    final_df['PTS'] = final_df['PTS'].astype(float)\n",
    "    final_df['TS%'] = final_df['TS%'].astype(float)\n",
    "    final_df = final_df[final_df['MP'] >minutes]\n",
    "    final_df['TS%'] *=100\n",
    "    final_df = final_df.drop(columns = ['Unnamed: 24','Unnamed: 29','Unnamed: 19'])\n",
    "    send_df = final_df[['Player','TS%','PTS','MP','Tm']]\n",
    "\n",
    "    \n",
    "    return send_df\n",
    "    \n",
    "def main(my_dict):\n",
    "    team = my_dict['team']\n",
    "    df = get_table()\n",
    "    return df.to_dict()\n"
   ]
  },
  {
   "cell_type": "code",
   "execution_count": 8,
   "id": "e6b11afb-6b55-4176-a922-36711eda41de",
   "metadata": {},
   "outputs": [],
   "source": [
    "#link_1 ='https://www.basketball-reference.com/leagues/NBA_2011_per_poss.html#per_poss_stats'\n",
    "#link_2 = 'https://www.basketball-reference.com/leagues/NBA_2011_advanced.html#advanced_stat'\n",
    "#link_3 ='https://www.basketball-reference.com/playoffs/NBA_1985_per_poss.html#per_poss_stats'\n",
    "#link_4 = 'https://www.basketball-reference.com/playoffs/NBA_1980_advanced.html#advanced_stats'\n",
    "#df = pd.read_html(link_3)[0]\n",
    "#df_2 = pd.read_html(link_4)[0]\n",
    "\n",
    "#df_2 = df_2.dropna()\n"
   ]
  },
  {
   "cell_type": "code",
   "execution_count": 9,
   "id": "309007ce-5fdd-4f96-b9f5-2a54ddf7c5c9",
   "metadata": {},
   "outputs": [],
   "source": [
    "#df.columns"
   ]
  },
  {
   "cell_type": "code",
   "execution_count": 10,
   "id": "58c0c518-89f4-4893-a506-39485f222652",
   "metadata": {},
   "outputs": [],
   "source": [
    "#1500/65"
   ]
  },
  {
   "cell_type": "code",
   "execution_count": 11,
   "id": "d34e197a-5388-434f-9318-bbb21e6e8045",
   "metadata": {
    "tags": []
   },
   "outputs": [],
   "source": [
    "def get_tables(start_year,stop_year,minutes):\n",
    "    tables = []\n",
    "    for i in range(start_year,stop_year + 1):\n",
    "        link_1 ='https://www.basketball-reference.com/leagues/NBA_'+str(i)+'_per_poss.html#per_poss_stats'\n",
    "        link_2 = 'https://www.basketball-reference.com/leagues/NBA_'+str(i)+'_advanced.html#advanced_stat'\n",
    "\n",
    "        df = get_table(link_1,link_2,minutes)\n",
    "        tables.append(df)\n",
    "    return tables\n",
    "\n",
    "def playoff_tables(start_year,stop_year,minutes):\n",
    "    tables = []\n",
    "    for i in range(start_year,stop_year + 1):\n",
    "        link_1 ='https://www.basketball-reference.com/playoffs/NBA_'+str(i)+'_per_poss.html#per_poss_stats'\n",
    "        link_2 = 'https://www.basketball-reference.com/playoffs/NBA_'+str(i)+'_advanced.html#advanced_stat'\n",
    "\n",
    "        df = get_table(link_1,link_2,minutes)\n",
    "        tables.append(df)\n",
    "    return tables\n",
    "\n"
   ]
  },
  {
   "cell_type": "code",
   "execution_count": 12,
   "id": "a9720847-89a2-47bd-b409-0142ec777f53",
   "metadata": {},
   "outputs": [],
   "source": [
    "tables = get_tables(start_year,end_year,400)"
   ]
  },
  {
   "cell_type": "code",
   "execution_count": 13,
   "id": "e23111a8-03db-44ca-b37e-fd695ae751a1",
   "metadata": {},
   "outputs": [
    {
     "data": {
      "text/html": [
       "<div>\n",
       "<style scoped>\n",
       "    .dataframe tbody tr th:only-of-type {\n",
       "        vertical-align: middle;\n",
       "    }\n",
       "\n",
       "    .dataframe tbody tr th {\n",
       "        vertical-align: top;\n",
       "    }\n",
       "\n",
       "    .dataframe thead th {\n",
       "        text-align: right;\n",
       "    }\n",
       "</style>\n",
       "<table border=\"1\" class=\"dataframe\">\n",
       "  <thead>\n",
       "    <tr style=\"text-align: right;\">\n",
       "      <th></th>\n",
       "      <th>Player</th>\n",
       "      <th>TS%</th>\n",
       "      <th>PTS</th>\n",
       "      <th>MP</th>\n",
       "      <th>Tm</th>\n",
       "    </tr>\n",
       "  </thead>\n",
       "  <tbody>\n",
       "    <tr>\n",
       "      <th>0</th>\n",
       "      <td>Kareem Abdul-Jabbar*</td>\n",
       "      <td>63.9</td>\n",
       "      <td>29.8</td>\n",
       "      <td>3143.0</td>\n",
       "      <td>LAL</td>\n",
       "    </tr>\n",
       "    <tr>\n",
       "      <th>1</th>\n",
       "      <td>Tom Abernethy</td>\n",
       "      <td>51.1</td>\n",
       "      <td>14.1</td>\n",
       "      <td>1222.0</td>\n",
       "      <td>GSW</td>\n",
       "    </tr>\n",
       "    <tr>\n",
       "      <th>2</th>\n",
       "      <td>Alvan Adams</td>\n",
       "      <td>57.1</td>\n",
       "      <td>23.6</td>\n",
       "      <td>2168.0</td>\n",
       "      <td>PHO</td>\n",
       "    </tr>\n",
       "    <tr>\n",
       "      <th>3</th>\n",
       "      <td>Tiny Archibald*</td>\n",
       "      <td>57.4</td>\n",
       "      <td>18.5</td>\n",
       "      <td>2864.0</td>\n",
       "      <td>BOS</td>\n",
       "    </tr>\n",
       "    <tr>\n",
       "      <th>4</th>\n",
       "      <td>Dennis Awtrey</td>\n",
       "      <td>52.4</td>\n",
       "      <td>7.2</td>\n",
       "      <td>560.0</td>\n",
       "      <td>CHI</td>\n",
       "    </tr>\n",
       "    <tr>\n",
       "      <th>...</th>\n",
       "      <td>...</td>\n",
       "      <td>...</td>\n",
       "      <td>...</td>\n",
       "      <td>...</td>\n",
       "      <td>...</td>\n",
       "    </tr>\n",
       "    <tr>\n",
       "      <th>349</th>\n",
       "      <td>John Williamson</td>\n",
       "      <td>49.6</td>\n",
       "      <td>29.1</td>\n",
       "      <td>771.0</td>\n",
       "      <td>NJN</td>\n",
       "    </tr>\n",
       "    <tr>\n",
       "      <th>350</th>\n",
       "      <td>John Williamson</td>\n",
       "      <td>46.2</td>\n",
       "      <td>27.1</td>\n",
       "      <td>603.0</td>\n",
       "      <td>WSB</td>\n",
       "    </tr>\n",
       "    <tr>\n",
       "      <th>351</th>\n",
       "      <td>Bill Willoughby</td>\n",
       "      <td>52.2</td>\n",
       "      <td>16.8</td>\n",
       "      <td>1447.0</td>\n",
       "      <td>CLE</td>\n",
       "    </tr>\n",
       "    <tr>\n",
       "      <th>354</th>\n",
       "      <td>Brian Winters</td>\n",
       "      <td>53.4</td>\n",
       "      <td>23.1</td>\n",
       "      <td>2623.0</td>\n",
       "      <td>MIL</td>\n",
       "    </tr>\n",
       "    <tr>\n",
       "      <th>355</th>\n",
       "      <td>Larry Wright</td>\n",
       "      <td>51.0</td>\n",
       "      <td>20.3</td>\n",
       "      <td>1286.0</td>\n",
       "      <td>WSB</td>\n",
       "    </tr>\n",
       "  </tbody>\n",
       "</table>\n",
       "<p>280 rows × 5 columns</p>\n",
       "</div>"
      ],
      "text/plain": [
       "                   Player   TS%   PTS      MP   Tm\n",
       "0    Kareem Abdul-Jabbar*  63.9  29.8  3143.0  LAL\n",
       "1           Tom Abernethy  51.1  14.1  1222.0  GSW\n",
       "2             Alvan Adams  57.1  23.6  2168.0  PHO\n",
       "3         Tiny Archibald*  57.4  18.5  2864.0  BOS\n",
       "4           Dennis Awtrey  52.4   7.2   560.0  CHI\n",
       "..                    ...   ...   ...     ...  ...\n",
       "349       John Williamson  49.6  29.1   771.0  NJN\n",
       "350       John Williamson  46.2  27.1   603.0  WSB\n",
       "351       Bill Willoughby  52.2  16.8  1447.0  CLE\n",
       "354         Brian Winters  53.4  23.1  2623.0  MIL\n",
       "355          Larry Wright  51.0  20.3  1286.0  WSB\n",
       "\n",
       "[280 rows x 5 columns]"
      ]
     },
     "execution_count": 13,
     "metadata": {},
     "output_type": "execute_result"
    }
   ],
   "source": [
    "df = tables[0]\n",
    "df"
   ]
  },
  {
   "cell_type": "code",
   "execution_count": 14,
   "id": "ac3aff96-edb4-4490-9a5e-a4cdbacdf5ad",
   "metadata": {
    "tags": []
   },
   "outputs": [],
   "source": [
    "def get_buttons(teams,year,df):\n",
    "    my_list = []\n",
    "    i = 0\n",
    "    length = len(teams)\n",
    "    seen = [False for i in range(length+ 1) ]\n",
    "\n",
    "    seen[i] = True\n",
    "    my_list.append(dict(label = 'all_teams',\n",
    "                      method = 'update',\n",
    "                      args = [{'visible':[i for i in seen]},\n",
    "                              {'title': 'All',\n",
    "                               'showlegend':False}]))\n",
    "    seen[i] = False\n",
    "    i +=1\n",
    "    for team in teams:\n",
    "        #print(i)\n",
    "        df_team = df[df['Tm'] == team]\n",
    "        seen[i] = True\n",
    "\n",
    "        my_list.append(dict(label = team,\n",
    "                      method = 'update',\n",
    "\n",
    "                      args = [{'visible':[i for i in seen]},\n",
    "                              {'title': str(year) + ' '+team,\n",
    "                               'showlegend':False}]))\n",
    "        seen[i] = False\n",
    "        i+=1\n",
    "    return my_list\n"
   ]
  },
  {
   "cell_type": "code",
   "execution_count": 22,
   "id": "773e22ff-da3e-4bc0-bde0-ecc7585e70c4",
   "metadata": {},
   "outputs": [
    {
     "data": {
      "text/plain": [
       "40.2"
      ]
     },
     "execution_count": 22,
     "metadata": {},
     "output_type": "execute_result"
    }
   ],
   "source": [
    "zmax = df['TS%'].max()\n",
    "zmin = df['TS%'].min()\n",
    "zmin"
   ]
  },
  {
   "cell_type": "code",
   "execution_count": 46,
   "id": "8eef10b5-2b31-44a9-9b0f-d7226e95e2a6",
   "metadata": {},
   "outputs": [],
   "source": [
    "def full_trace(fig,df,zmin,zmax,av_shooting):\n",
    "    df = df[df['Tm']!= 'TOT']\n",
    "    fig.add_trace(\n",
    "            go.Scatter(\n",
    "\n",
    "                visible = True,\n",
    "                x = df['PTS'],\n",
    "                y = df['TS%'],\n",
    "                customdata = df['TS%'] - av_shooting,\n",
    "\n",
    "                \n",
    "                text = df['Player']+' - ' + df['Tm'],\n",
    "                hovertemplate =\n",
    "                '<b>%{text}</b>'+\n",
    "        '<br><i>Points per 100 Possesions</i>: %{x:.2f}<br>'+\n",
    "        'True Shooting: %{y}'\n",
    "                + ' <br>Relative True Shooting: %{customdata:.2f}<extra></extra></br>'\n",
    "        ,\n",
    "                name = 'All',\n",
    "                marker=dict(\n",
    "                cmin=zmin ,\n",
    "                cmax=zmax,\n",
    "                size=df['MP'] / 65,\n",
    "                colorbar=dict(\n",
    "                title=\"True Shooting %\"\n",
    "\n",
    "\n",
    "            ),\n",
    "            colorscale=\"plasma\",\n",
    "            color=  df['TS%'],\n",
    "\n",
    "        ),\n",
    "\n",
    "\n",
    "        mode=\"markers\"\n",
    "            ))\n",
    "    return fig\n",
    "    "
   ]
  },
  {
   "cell_type": "code",
   "execution_count": 50,
   "id": "1f228262-678f-4045-8f89-e0d6f7d92340",
   "metadata": {},
   "outputs": [],
   "source": [
    "def team_trace(fig,df,teams,zmin,zmax,av_shooting):\n",
    "    for team in teams:\n",
    "        df_team = df[df['Tm'] == team]\n",
    "\n",
    "\n",
    "        fig.add_trace(\n",
    "            go.Scatter(\n",
    "                \n",
    "                visible = False,\n",
    "                x = df_team['PTS'],\n",
    "                y = df_team['TS%'],\n",
    "                customdata = df_team['TS%'] - av_shooting,\n",
    "                \n",
    "                text = df_team['Player']+' - ' + df_team['Tm'],\n",
    "                hovertemplate =\n",
    "                '<b>%{text}</b>'+\n",
    "        '<br><i>Points per 100 Possesions</i>: %{x:.2f}<br>'+\n",
    "        'True Shooting: %{y}'\n",
    "                + ' <br>Relative True Shooting: %{customdata:.2f}<extra></extra></br>'\n",
    "        ,\n",
    "                name = team,\n",
    "                marker=dict(\n",
    "                cmin=zmin ,\n",
    "                cmax=zmax,\n",
    "                size=df_team['MP'] / 65,\n",
    "                colorbar=dict(\n",
    "                title=\"True Shooting\"\n",
    "\n",
    "\n",
    "            ),\n",
    "            colorscale = 'Plasma',\n",
    "            \n",
    "            color=  df_team['TS%'],\n",
    "\n",
    "        ),\n",
    "\n",
    "\n",
    "        mode=\"markers\"\n",
    "            )\n",
    "\n",
    "        ) \n",
    "    return fig"
   ]
  },
  {
   "cell_type": "code",
   "execution_count": 51,
   "id": "f9638bef-86ef-45b8-98fe-8dadcce7837f",
   "metadata": {
    "tags": []
   },
   "outputs": [],
   "source": [
    "def season_graph(df,year,true_shooting):\n",
    "    fig = go.Figure()\n",
    "    teams = list(df['Tm'].unique())\n",
    "    my_buttons = get_buttons(teams,year,df)\n",
    "    zmax = df['TS%'].max()\n",
    "    zmin = df['TS%'].min()\n",
    "    fig.update_layout(\n",
    "        title={\n",
    "        'text':str(year) +\" Season\",\n",
    "        'y':0.95,\n",
    "        'x':0.5,\n",
    "        'xanchor': 'center',\n",
    "        'yanchor': 'top'},\n",
    "    updatemenus=[go.layout.Updatemenu(\n",
    "            active=0,\n",
    "            buttons= my_buttons,\n",
    "            direction=\"down\",\n",
    "                pad={\"r\": 10, \"t\": 10},\n",
    "                showactive=True,\n",
    "\n",
    "\n",
    "    )],\n",
    "    font=dict(\n",
    "        size=15,\n",
    "    )\n",
    "    )\n",
    "   \n",
    "    fig = full_trace(fig,df,zmin,zmax,true_shooting)\n",
    "    fig = team_trace(fig,df,teams,zmin,zmax,true_shooting)\n",
    "    fig.update_layout(\n",
    "        autosize=False,\n",
    "        width=1000,\n",
    "        height=800,\n",
    "    showlegend= False)  \n",
    "\n",
    "    fig.update_layout(yaxis_range=[int(zmin -3),int(zmax +2)], xaxis_range = [0,50])\n",
    "    fig.update_yaxes(tickvals=[i for i in range(int(zmin)-3,int(zmax)+3,5)])\n",
    "    fig.update_xaxes(tickvals = [i for i in range (5,50,5)], title_text = 'Points per 100 Possesions')\n",
    "    fig.add_hline(y=true_shooting)\n",
    "    return fig"
   ]
  },
  {
   "cell_type": "code",
   "execution_count": 52,
   "id": "3b75c0e6-0dad-4b94-a1e2-0c6e5376ed19",
   "metadata": {},
   "outputs": [
    {
     "data": {
      "application/vnd.plotly.v1+json": {
       "config": {
        "plotlyServerURL": "https://plot.ly"
       },
       "data": [
        {
         "customdata": [
          10.755064571339652,
          -2.044935428660345,
          3.9550645713396477,
          4.255064571339652,
          -0.7449354286603409,
          -3.6449354286603466,
          0.055064571339656254,
          0.15506457133965768,
          -1.4449354286603437,
          -1.244935428660348,
          -3.244935428660348,
          -10.84493542866035,
          -4.044935428660345,
          0.6550645713396577,
          0.6550645713396577,
          -2.544935428660345,
          8.05506457133965,
          8.555064571339656,
          -1.3449354286603423,
          -2.9449354286603437,
          -6.944935428660344,
          -3.8449354286603494,
          -2.8449354286603494,
          -0.8449354286603423,
          0.2550645713396591,
          0.055064571339656254,
          -4.644935428660347,
          -3.044935428660345,
          -4.644935428660347,
          1.755064571339659,
          -3.4449354286603437,
          -0.44493542866034375,
          -0.5449354286603452,
          7.655064571339651,
          -10.244935428660348,
          -12.944935428660344,
          5.755064571339652,
          -9.644935428660347,
          -1.0449354286603452,
          -0.8449354286603423,
          0.15506457133965768,
          1.4550645713396548,
          3.1550645713396506,
          -0.6449354286603466,
          -0.5449354286603452,
          -7.444935428660344,
          -5.444935428660351,
          -3.1449354286603466,
          2.0550645713396563,
          -3.9449354286603437,
          10.355064571339653,
          -3.6449354286603466,
          7.655064571339651,
          1.6550645713396577,
          -3.9449354286603437,
          -6.344935428660342,
          -3.744935428660348,
          -0.2449354286603409,
          0.055064571339656254,
          -3.3449354286603494,
          1.0550645713396563,
          -6.144935428660347,
          1.3550645713396605,
          -1.0449354286603452,
          -2.3449354286603494,
          -5.944935428660351,
          0.7550645713396591,
          -0.04493542866034517,
          3.6550645713396506,
          -4.644935428660347,
          -3.4449354286603437,
          0.5550645713396563,
          1.3550645713396605,
          -3.744935428660348,
          0.2550645713396591,
          1.255064571339659,
          -4.944935428660351,
          -0.1449354286603466,
          -1.8449354286603423,
          -7.744935428660348,
          -4.044935428660345,
          5.555064571339649,
          11.15506457133965,
          -8.744935428660348,
          2.5550645713396563,
          4.355064571339646,
          -7.544935428660345,
          0.9550645713396548,
          -3.244935428660348,
          8.955064571339655,
          -1.6449354286603466,
          -3.544935428660345,
          -5.944935428660351,
          0.45506457133965483,
          -3.044935428660345,
          2.3550645713396605,
          -3.9449354286603437,
          0.8550645713396534,
          -7.844935428660342,
          0.7550645713396591,
          -2.1449354286603466,
          -2.1449354286603466,
          -4.744935428660348,
          -5.744935428660348,
          -11.044935428660345,
          -6.344935428660342,
          0.2550645713396591,
          -3.3449354286603494,
          -10.644935428660347,
          3.9550645713396477,
          3.1550645713396506,
          -0.44493542866034375,
          -4.244935428660348,
          0.6550645713396577,
          -4.244935428660348,
          -0.7449354286603409,
          0.055064571339656254,
          7.055064571339649,
          5.355064571339653,
          -0.3449354286603423,
          0.2550645713396591,
          5.855064571339653,
          -4.944935428660351,
          4.855064571339646,
          -3.3449354286603494,
          -5.044935428660345,
          3.555064571339649,
          2.755064571339659,
          -1.1449354286603466,
          -0.44493542866034375,
          0.2550645713396591,
          3.3550645713396463,
          5.755064571339652,
          2.955064571339662,
          1.5550645713396563,
          -4.944935428660351,
          -4.144935428660347,
          -1.0449354286603452,
          -7.844935428660342,
          0.9550645713396548,
          6.155064571339651,
          5.755064571339652,
          2.8550645713396605,
          -5.744935428660348,
          0.3550645713396534,
          -0.3449354286603423,
          -5.144935428660347,
          1.6550645713396577,
          2.8550645713396605,
          2.8550645713396605,
          -7.244935428660348,
          1.5550645713396563,
          14.755064571339659,
          -2.4449354286603437,
          -0.7449354286603409,
          -1.4449354286603437,
          -9.144935428660347,
          -4.244935428660348,
          -4.844935428660349,
          -2.9449354286603437,
          0.8550645713396534,
          1.755064571339659,
          -2.244935428660348,
          2.5550645713396563,
          4.555064571339649,
          3.255064571339645,
          0.7550645713396591,
          -3.4449354286603437,
          1.1550645713396577,
          5.755064571339652,
          -1.1449354286603466,
          0.055064571339656254,
          0.8550645713396534,
          1.6550645713396577,
          1.4550645713396548,
          2.0550645713396563,
          0.9550645713396548,
          0.5550645713396563,
          -0.9449354286603437,
          -4.544935428660345,
          -8.84493542866035,
          -6.544935428660345,
          -0.44493542866034375,
          1.9550645713396548,
          4.055064571339649,
          4.055064571339649,
          -1.744935428660348,
          1.4550645713396548,
          -1.1449354286603466,
          1.6550645713396577,
          -5.944935428660351,
          -1.4449354286603437,
          -10.44493542866035,
          2.5550645713396563,
          -2.544935428660345,
          2.1550645713396577,
          1.6550645713396577,
          4.655064571339651,
          3.0550645713396563,
          6.655064571339651,
          1.9550645713396548,
          -2.3449354286603494,
          -3.8449354286603494,
          -9.944935428660344,
          3.8550645713396463,
          0.2550645713396591,
          6.555064571339649,
          -0.5449354286603452,
          5.355064571339653,
          -9.244935428660348,
          -5.844935428660349,
          -1.0449354286603452,
          -3.4449354286603437,
          -0.2449354286603409,
          -2.9449354286603437,
          -8.944935428660344,
          -0.7449354286603409,
          1.3550645713396605,
          -6.944935428660344,
          1.4550645713396548,
          4.755064571339652,
          1.755064571339659,
          -0.9449354286603437,
          -8.84493542866035,
          3.0550645713396563,
          -3.244935428660348,
          1.3550645713396605,
          0.15506457133965768,
          -0.44493542866034375,
          0.7550645713396591,
          -3.744935428660348,
          5.255064571339652,
          -4.744935428660348,
          -6.344935428660342,
          0.9550645713396548,
          6.155064571339651,
          -2.244935428660348,
          -8.444935428660344,
          -7.344935428660342,
          3.1550645713396506,
          -6.744935428660341,
          -0.44493542866034375,
          -0.2449354286603409,
          1.4550645713396548,
          -9.744935428660348,
          -3.544935428660345,
          -6.944935428660344,
          -0.9449354286603437,
          0.2550645713396591,
          -2.1449354286603466
         ],
         "hovertemplate": "<b>%{text}</b><br><i>Points per 100 Possesions</i>: %{x:.2f}<br>True Shooting: %{y} <br>Relative True Shooting: %{customdata:.2f}<extra></extra></br>",
         "marker": {
          "cmax": 67.9,
          "cmin": 40.2,
          "color": [
           63.9,
           51.1,
           57.099999999999994,
           57.4,
           52.400000000000006,
           49.5,
           53.2,
           53.300000000000004,
           51.7,
           51.9,
           49.9,
           42.3,
           49.1,
           53.800000000000004,
           53.800000000000004,
           50.6,
           61.199999999999996,
           61.7,
           51.800000000000004,
           50.2,
           46.2,
           49.3,
           50.3,
           52.300000000000004,
           53.400000000000006,
           53.2,
           48.5,
           50.1,
           48.5,
           54.900000000000006,
           49.7,
           52.7,
           52.6,
           60.8,
           42.9,
           40.2,
           58.9,
           43.5,
           52.1,
           52.300000000000004,
           53.300000000000004,
           54.6,
           56.3,
           52.5,
           52.6,
           45.7,
           47.699999999999996,
           50,
           55.2,
           49.2,
           63.5,
           49.5,
           60.8,
           54.800000000000004,
           49.2,
           46.800000000000004,
           49.4,
           52.900000000000006,
           53.2,
           49.8,
           54.2,
           47,
           54.50000000000001,
           52.1,
           50.8,
           47.199999999999996,
           53.900000000000006,
           53.1,
           56.8,
           48.5,
           49.7,
           53.7,
           54.50000000000001,
           49.4,
           53.400000000000006,
           54.400000000000006,
           48.199999999999996,
           53,
           51.300000000000004,
           45.4,
           49.1,
           58.699999999999996,
           64.3,
           44.4,
           55.7,
           57.49999999999999,
           45.6,
           54.1,
           49.9,
           62.1,
           51.5,
           49.6,
           47.199999999999996,
           53.6,
           50.1,
           55.50000000000001,
           49.2,
           54,
           45.300000000000004,
           53.900000000000006,
           51,
           51,
           48.4,
           47.4,
           42.1,
           46.800000000000004,
           53.400000000000006,
           49.8,
           42.5,
           57.099999999999994,
           56.3,
           52.7,
           48.9,
           53.800000000000004,
           48.9,
           52.400000000000006,
           53.2,
           60.199999999999996,
           58.5,
           52.800000000000004,
           53.400000000000006,
           59,
           48.199999999999996,
           57.99999999999999,
           49.8,
           48.1,
           56.699999999999996,
           55.900000000000006,
           52,
           52.7,
           53.400000000000006,
           56.49999999999999,
           58.9,
           56.10000000000001,
           54.7,
           48.199999999999996,
           49,
           52.1,
           45.300000000000004,
           54.1,
           59.3,
           58.9,
           56.00000000000001,
           47.4,
           53.5,
           52.800000000000004,
           48,
           54.800000000000004,
           56.00000000000001,
           56.00000000000001,
           45.9,
           54.7,
           67.9,
           50.7,
           52.400000000000006,
           51.7,
           44,
           48.9,
           48.3,
           50.2,
           54,
           54.900000000000006,
           50.9,
           55.7,
           57.699999999999996,
           56.39999999999999,
           53.900000000000006,
           49.7,
           54.300000000000004,
           58.9,
           52,
           53.2,
           54,
           54.800000000000004,
           54.6,
           55.2,
           54.1,
           53.7,
           52.2,
           48.6,
           44.3,
           46.6,
           52.7,
           55.1,
           57.199999999999996,
           57.199999999999996,
           51.4,
           54.6,
           52,
           54.800000000000004,
           47.199999999999996,
           51.7,
           42.699999999999996,
           55.7,
           50.6,
           55.300000000000004,
           54.800000000000004,
           57.8,
           56.2,
           59.8,
           55.1,
           50.8,
           49.3,
           43.2,
           56.99999999999999,
           53.400000000000006,
           59.699999999999996,
           52.6,
           58.5,
           43.9,
           47.3,
           52.1,
           49.7,
           52.900000000000006,
           50.2,
           44.2,
           52.400000000000006,
           54.50000000000001,
           46.2,
           54.6,
           57.9,
           54.900000000000006,
           52.2,
           44.3,
           56.2,
           49.9,
           54.50000000000001,
           53.300000000000004,
           52.7,
           53.900000000000006,
           49.4,
           58.4,
           48.4,
           46.800000000000004,
           54.1,
           59.3,
           50.9,
           44.7,
           45.800000000000004,
           56.3,
           46.400000000000006,
           52.7,
           52.900000000000006,
           54.6,
           43.4,
           49.6,
           46.2,
           52.2,
           53.400000000000006,
           51
          ],
          "colorbar": {
           "title": {
            "text": "True Shooting %"
           }
          },
          "colorscale": [
           [
            0,
            "#0d0887"
           ],
           [
            0.1111111111111111,
            "#46039f"
           ],
           [
            0.2222222222222222,
            "#7201a8"
           ],
           [
            0.3333333333333333,
            "#9c179e"
           ],
           [
            0.4444444444444444,
            "#bd3786"
           ],
           [
            0.5555555555555556,
            "#d8576b"
           ],
           [
            0.6666666666666666,
            "#ed7953"
           ],
           [
            0.7777777777777778,
            "#fb9f3a"
           ],
           [
            0.8888888888888888,
            "#fdca26"
           ],
           [
            1,
            "#f0f921"
           ]
          ],
          "size": [
           48.353846153846156,
           18.8,
           33.353846153846156,
           44.06153846153846,
           8.615384615384615,
           11.169230769230769,
           37.50769230769231,
           35.84615384615385,
           27.93846153846154,
           21.369230769230768,
           7.723076923076923,
           13.36923076923077,
           31.307692307692307,
           45.46153846153846,
           44.38461538461539,
           35.16923076923077,
           8.03076923076923,
           23.923076923076923,
           16.953846153846154,
           31.184615384615384,
           24.446153846153845,
           15.63076923076923,
           43.30769230769231,
           35.63076923076923,
           35.44615384615385,
           26.16923076923077,
           35.815384615384616,
           26,
           38.44615384615385,
           11.876923076923077,
           24.53846153846154,
           27.4,
           30.676923076923078,
           48.46153846153846,
           21.015384615384615,
           8.046153846153846,
           40.353846153846156,
           7.230769230769231,
           36.83076923076923,
           23.615384615384617,
           14.815384615384616,
           13.907692307692308,
           30.353846153846153,
           27.4,
           17.56923076923077,
           12.707692307692307,
           33.215384615384615,
           27.6,
           13.846153846153847,
           22.415384615384614,
           41.13846153846154,
           44.8,
           35.52307692307692,
           39.09230769230769,
           11.938461538461539,
           28.8,
           28.153846153846153,
           27.415384615384614,
           35.47692307692308,
           20.476923076923075,
           15.938461538461539,
           28.323076923076922,
           35.6,
           11.107692307692307,
           7.723076923076923,
           14.076923076923077,
           23.476923076923075,
           13.461538461538462,
           43.261538461538464,
           19.16923076923077,
           6.630769230769231,
           32.53846153846154,
           8.923076923076923,
           6.446153846153846,
           40.323076923076925,
           39.76923076923077,
           6.2153846153846155,
           26.43076923076923,
           22.676923076923078,
           17.015384615384615,
           13.36923076923077,
           45.13846153846154,
           24.123076923076923,
           19.29230769230769,
           12.307692307692308,
           15.692307692307692,
           7.061538461538461,
           42.93846153846154,
           27.96923076923077,
           27.876923076923077,
           24.323076923076922,
           21.49230769230769,
           17.16923076923077,
           24.615384615384617,
           17.46153846153846,
           28.50769230769231,
           48.96923076923077,
           23.753846153846155,
           21.584615384615386,
           16.323076923076922,
           23.861538461538462,
           17.246153846153845,
           32.184615384615384,
           10.892307692307693,
           6.3538461538461535,
           12.246153846153845,
           18.29230769230769,
           18.584615384615386,
           14.2,
           45.2,
           19.784615384615385,
           23.70769230769231,
           45.184615384615384,
           40.33846153846154,
           32.6,
           29.815384615384616,
           38.96923076923077,
           43,
           41.323076923076925,
           40.723076923076924,
           23.615384615384617,
           32.69230769230769,
           42.63076923076923,
           18,
           23.76923076923077,
           40.87692307692308,
           10.36923076923077,
           22.553846153846155,
           18.96923076923077,
           43.04615384615385,
           6.446153846153846,
           31.56923076923077,
           29.384615384615383,
           45.30769230769231,
           10.938461538461539,
           6.938461538461539,
           37.10769230769231,
           17.907692307692308,
           20.369230769230768,
           17.476923076923075,
           21.415384615384614,
           11.36923076923077,
           32.66153846153846,
           12.353846153846154,
           36.36923076923077,
           42.50769230769231,
           18.092307692307692,
           10.892307692307693,
           8.092307692307692,
           48.30769230769231,
           8.03076923076923,
           6.8,
           42.215384615384615,
           19.96923076923077,
           32.261538461538464,
           15.569230769230769,
           7.938461538461539,
           21.907692307692308,
           12.061538461538461,
           20.50769230769231,
           16.476923076923075,
           24.076923076923077,
           33.90769230769231,
           43.10769230769231,
           23.73846153846154,
           23.953846153846154,
           22.56923076923077,
           9.738461538461538,
           41.16923076923077,
           44,
           31.476923076923075,
           12.476923076923077,
           38.61538461538461,
           49.63076923076923,
           32.47692307692308,
           35.95384615384615,
           32.6,
           43.83076923076923,
           18.661538461538463,
           15.076923076923077,
           19.53846153846154,
           9.661538461538461,
           14.938461538461539,
           8.323076923076924,
           8.876923076923077,
           36.13846153846154,
           22.984615384615385,
           25.892307692307693,
           35.44615384615385,
           30.246153846153845,
           15.2,
           47.07692307692308,
           7.476923076923077,
           29.50769230769231,
           25.553846153846155,
           41.69230769230769,
           29.49230769230769,
           41.07692307692308,
           35.16923076923077,
           32.66153846153846,
           39.815384615384616,
           20.476923076923075,
           20.046153846153846,
           28.615384615384617,
           34.50769230769231,
           25.16923076923077,
           11.953846153846154,
           42.96923076923077,
           35.276923076923076,
           24.53846153846154,
           30.584615384615386,
           23.876923076923077,
           41.184615384615384,
           11.323076923076924,
           7.630769230769231,
           16.16923076923077,
           41.12307692307692,
           6.8,
           6.861538461538461,
           42.36923076923077,
           46.6,
           19.06153846153846,
           28.215384615384615,
           17.83076923076923,
           24.523076923076925,
           41.07692307692308,
           45.738461538461536,
           36.90769230769231,
           37.261538461538464,
           12.984615384615385,
           19.123076923076923,
           40.87692307692308,
           16.8,
           17.29230769230769,
           36.10769230769231,
           41,
           31.56923076923077,
           33.01538461538462,
           36.63076923076923,
           47.86153846153846,
           27.6,
           32.58461538461538,
           45.676923076923075,
           39.723076923076924,
           8.553846153846154,
           11.861538461538462,
           9.276923076923078,
           22.26153846153846,
           40.353846153846156,
           19.784615384615385
          ]
         },
         "mode": "markers",
         "name": "All",
         "text": [
          "Kareem Abdul-Jabbar* - LAL",
          "Tom Abernethy - GSW",
          "Alvan Adams - PHO",
          "Tiny Archibald* - BOS",
          "Dennis Awtrey - CHI",
          "James Bailey - SEA",
          "Greg Ballard - WSB",
          "Mike Bantom - IND",
          "Rick Barry* - HOU",
          "Kent Benson - MIL",
          "Kent Benson - DET",
          "Del Beshore - CHI",
          "Henry Bibby - PHI",
          "Larry Bird* - BOS",
          "Otis Birdsong - KCK",
          "Ron Boone - UTA",
          "Tom Boswell - DEN",
          "Tom Boswell - UTA",
          "Winford Boynes - NJN",
          "Dudley Bradley - IND",
          "Mike Bratz - PHO",
          "Jim Brewer - POR",
          "Ron Brewer - POR",
          "Junior Bridgeman - MIL",
          "Allan Bristow - UTA",
          "Fred Brown - SEA",
          "Joe Bryant - SDC",
          "Quinn Buckner - MIL",
          "Don Buse - PHO",
          "Mack Calvin - UTA",
          "Austin Carr - CLE",
          "Kenny Carr - CLE",
          "M.L. Carr - BOS",
          "Bill Cartwright - NYK",
          "Harvey Catchings - MIL",
          "Don Chaney - BOS",
          "Maurice Cheeks* - PHI",
          "Phil Chenier - WSB",
          "Jim Chones - LAL",
          "Jim Cleamons - WSB",
          "Doug Collins - PHI",
          "Jeff Cook - PHO",
          "Michael Cooper - LAL",
          "Wayne Cooper - GSW",
          "Hollis Copeland - NYK",
          "Dave Corzine - WSB",
          "Dave Cowens* - BOS",
          "Charlie Criss - ATL",
          "Pat Cummings - MIL",
          "Bob Dandridge* - WSB",
          "Adrian Dantley* - UTA",
          "Johnny Davis - IND",
          "Walter Davis - PHO",
          "Darryl Dawkins - PHI",
          "Paul Dawkins - UTA",
          "Larry Demic - NYK",
          "Coby Dietrick - CHI",
          "Leon Douglas - DET",
          "John Drew - ATL",
          "Terry Duerod - DET",
          "Mike Dunleavy - HOU",
          "T.R. Dunn - POR",
          "James Edwards - IND",
          "Bob Elliott - NJN",
          "Bo Ellis - DEN",
          "Len Elmore - KCK",
          "Alex English* - IND",
          "Alex English* - DEN",
          "Julius Erving* - PHI",
          "Mike Evans - SAS",
          "Eric Fernsten - BOS",
          "Chris Ford - BOS",
          "Don Ford - LAL",
          "Don Ford - CLE",
          "Phil Ford - KCK",
          "World B. Free - SDC",
          "Terry Furlow - ATL",
          "Terry Furlow - UTA",
          "Mike Gale - SAS",
          "Gary Garland - DEN",
          "Gus Gerard - KCK",
          "George Gervin* - SAS",
          "Artis Gilmore* - CHI",
          "Jack Givens - ATL",
          "Mike Glenn - NYK",
          "Glen Gondrezick - DEN",
          "Mike Green - KCK",
          "Dave Greenwood - CHI",
          "Kevin Grevey - WSB",
          "Paul Griffin - SAS",
          "Bob Gross - POR",
          "Ernie Grunfeld - KCK",
          "Roy Hamilton - DET",
          "James Hardy - UTA",
          "Joe Hassett - IND",
          "Steve Hawes - ATL",
          "Elvin Hayes* - WSB",
          "Spencer Haywood* - LAL",
          "Gar Heard - PHO",
          "Gerald Henderson - BOS",
          "Tom Henderson - HOU",
          "Johnny High - PHO",
          "Armond Hill - ATL",
          "Darnell Hillman - GSW",
          "Lionel Hollins - POR",
          "Lionel Hollins - PHI",
          "Phil Hubbard - DET",
          "Kim Hughes - DEN",
          "Geoff Huston - NYK",
          "Dan Issel* - DEN",
          "Abdul Jeelani - POR",
          "Clemon Johnson - IND",
          "Dennis Johnson* - SEA",
          "Eddie Johnson - ATL",
          "George Johnson - NJN",
          "George Johnson - DEN",
          "John Johnson - SEA",
          "Magic Johnson* - LAL",
          "Marques Johnson - MIL",
          "Mickey Johnson - IND",
          "Ollie Johnson - CHI",
          "Bobby Jones* - PHI",
          "Caldwell Jones - PHI",
          "Dwight Jones - CHI",
          "Major Jones - HOU",
          "Eddie Jordan - NJN",
          "Jeff Judkins - BOS",
          "Rich Kelley - NJN",
          "Greg Kelser - DET",
          "Larry Kenon - SAS",
          "Bernard King* - UTA",
          "Reggie King - KCK",
          "Billy Knight - IND",
          "Toby Knight - NYK",
          "Joel Kramer - PHO",
          "Mitch Kupchak - WSB",
          "Sam Lacey - KCK",
          "Tom LaGarde - SEA",
          "John Lambert - CLE",
          "Mark Landsberger - CHI",
          "Bob Lanier* - DET",
          "Bob Lanier* - MIL",
          "Allen Leavell - HOU",
          "Ron Lee - DET",
          "John Long - DET",
          "John Lucas - GSW",
          "Maurice Lucas - POR",
          "Maurice Lucas - NJN",
          "Ollie Mack - CHI",
          "Moses Malone* - HOU",
          "Pete Maravich* - UTA",
          "Pete Maravich* - BOS",
          "Cedric Maxwell - BOS",
          "Scott May - CHI",
          "Bob McAdoo* - DET",
          "Jim McElroy - DET",
          "Jim McElroy - ATL",
          "George McGinnis* - DEN",
          "George McGinnis* - IND",
          "Billy McKinney - KCK",
          "Tom McMillen - ATL",
          "Joe Meriweather - NYK",
          "Dave Meyers - MIL",
          "Mike Mitchell - CLE",
          "Steve Mix - PHI",
          "Sidney Moncrief* - MIL",
          "Eric Money - DET",
          "Earl Monroe* - NYK",
          "Calvin Murphy* - HOU",
          "Swen Nater - SDC",
          "Calvin Natt - NJN",
          "Calvin Natt - POR",
          "Mike Newlin - NJN",
          "Norm Nixon - LAL",
          "Mark Olberding - SAS",
          "Tom Owens - POR",
          "Robert Parish* - GSW",
          "Sonny Parker - GSW",
          "Billy Paultz - SAS",
          "Billy Paultz - HOU",
          "Jim Paxson - POR",
          "Wiley Peck - SAS",
          "Roger Phegley - WSB",
          "Roger Phegley - NJN",
          "Stan Pietkiewicz - SDC",
          "Ben Poquette - UTA",
          "Kevin Porter - WSB",
          "Clifford Ray - GSW",
          "Robert Reid - HOU",
          "Kevin Restani - SAS",
          "Clint Richardson - PHI",
          "Micheal Ray Richardson - NYK",
          "Anthony Roberts - DEN",
          "Rick Robey - BOS",
          "Cliff Robinson - NJN",
          "Truck Robinson - PHO",
          "Bill Robinzine - KCK",
          "Dave Robisch - CLE",
          "John Roche - DEN",
          "Tree Rollins - ATL",
          "Dan Roundfield - ATL",
          "Campy Russell - CLE",
          "Alvin Scott - PHO",
          "Charlie Scott* - DEN",
          "Lonnie Shelton - SEA",
          "Purvis Short - GSW",
          "John Shumate - SAS",
          "Jack Sikma* - SEA",
          "James Silas - SAS",
          "Paul Silas - SEA",
          "Bingo Smith - SDC",
          "Phil Smith - GSW",
          "Randy Smith - CLE",
          "Robert Smith - NJN",
          "Sam Smith - CHI",
          "Willie Smith - CLE",
          "Ricky Sobers - CHI",
          "Jim Spanarkel - PHI",
          "Larry Steele - POR",
          "Brian Taylor - SDC",
          "Reggie Theus - CHI",
          "David Thompson* - DEN",
          "Rudy Tomjanovich* - HOU",
          "Raymond Townsend - GSW",
          "Dave Twardzik - POR",
          "Terry Tyler - DET",
          "Wes Unseld* - WSB",
          "Jan van Breda Kolff - NJN",
          "Foots Walker - CLE",
          "Wally Walker - SEA",
          "Lloyd Walton - MIL",
          "Kermit Washington - POR",
          "Richard Washington - MIL",
          "Nick Weatherspoon - SDC",
          "Scott Wedman - KCK",
          "Paul Westphal* - PHO",
          "Jo Jo White* - GSW",
          "Sidney Wicks - SDC",
          "Bob Wilkerson - DEN",
          "Jamaal Wilkes* - LAL",
          "Duck Williams - UTA",
          "Freeman Williams - SDC",
          "Gus Williams - SEA",
          "Ray Williams - NYK",
          "Sly Williams - NYK",
          "John Williamson - NJN",
          "John Williamson - WSB",
          "Bill Willoughby - CLE",
          "Brian Winters - MIL",
          "Larry Wright - WSB"
         ],
         "type": "scatter",
         "visible": true,
         "x": [
          29.8,
          14.1,
          23.6,
          18.5,
          7.2,
          20.3,
          24.5,
          17.9,
          22.6,
          16.6,
          18.4,
          13.2,
          16.9,
          27.6,
          30,
          20.9,
          18,
          22.1,
          22.4,
          15.6,
          20.2,
          9.3,
          22.2,
          28.8,
          20.3,
          26.6,
          15.3,
          19.9,
          11.5,
          19.5,
          25.9,
          23.3,
          21.4,
          25.5,
          8,
          14.9,
          16,
          20.1,
          16.7,
          13.5,
          24,
          18.3,
          16.9,
          23.4,
          16.9,
          12.7,
          20.4,
          18.2,
          24.4,
          25.1,
          35,
          20.5,
          32,
          21.6,
          20,
          13.7,
          14,
          14.3,
          32.8,
          21,
          18.8,
          14.9,
          25.6,
          19.2,
          14.9,
          13.2,
          24.3,
          27,
          34.8,
          17.1,
          19,
          18,
          12.3,
          16.6,
          23.6,
          37.6,
          21.3,
          25.1,
          13.1,
          13.9,
          20.6,
          38.6,
          25.7,
          18.2,
          24.8,
          17.7,
          16.4,
          22.5,
          23.5,
          12.6,
          16.6,
          15.8,
          13.4,
          12.9,
          21.2,
          19.9,
          27.3,
          22,
          13.2,
          20.9,
          11.1,
          16.7,
          11.1,
          13.4,
          23.5,
          19.3,
          22,
          8.4,
          10.7,
          30.7,
          27.9,
          14.1,
          24.7,
          27.1,
          12.5,
          18.3,
          17,
          22.9,
          29.2,
          27.2,
          18.6,
          23.1,
          9.9,
          21.5,
          13.5,
          18.5,
          24.4,
          17.6,
          25.8,
          24.5,
          20.7,
          15.3,
          23.7,
          23.7,
          12.2,
          19.3,
          14.3,
          15.5,
          13.8,
          18.8,
          25.8,
          25.9,
          18.8,
          12.6,
          25.3,
          17.5,
          24.3,
          21.4,
          16.4,
          32,
          27.3,
          31.6,
          23,
          24.4,
          26.1,
          18.7,
          16.1,
          22.8,
          21.6,
          18.1,
          21,
          16.8,
          20.3,
          29.5,
          28.3,
          19.7,
          18.3,
          26.9,
          27,
          17.9,
          23,
          30.7,
          29.5,
          20.7,
          16.5,
          26,
          27.6,
          20.2,
          16,
          15.4,
          17,
          12.6,
          26.7,
          27.4,
          18.7,
          15.3,
          16,
          13.9,
          20.4,
          19.5,
          16.4,
          18.5,
          16.8,
          23,
          25.9,
          23.9,
          22.4,
          21.4,
          18.8,
          16.7,
          25,
          25.5,
          12.3,
          15.9,
          21.8,
          30.8,
          22.1,
          19.8,
          26.1,
          9.3,
          19.5,
          24.4,
          24.5,
          19,
          24.6,
          12.9,
          20.5,
          20.9,
          15.9,
          18.2,
          25.8,
          31.3,
          22.8,
          16.7,
          17.3,
          16.9,
          12.5,
          10.6,
          13.4,
          18.2,
          10.2,
          19.7,
          18.9,
          16.5,
          25.6,
          30.8,
          17.9,
          11.1,
          20,
          24.4,
          13.9,
          34.1,
          28.8,
          29.9,
          21.6,
          29.1,
          27.1,
          16.8,
          23.1,
          20.3
         ],
         "y": [
          63.9,
          51.1,
          57.099999999999994,
          57.4,
          52.400000000000006,
          49.5,
          53.2,
          53.300000000000004,
          51.7,
          51.9,
          49.9,
          42.3,
          49.1,
          53.800000000000004,
          53.800000000000004,
          50.6,
          61.199999999999996,
          61.7,
          51.800000000000004,
          50.2,
          46.2,
          49.3,
          50.3,
          52.300000000000004,
          53.400000000000006,
          53.2,
          48.5,
          50.1,
          48.5,
          54.900000000000006,
          49.7,
          52.7,
          52.6,
          60.8,
          42.9,
          40.2,
          58.9,
          43.5,
          52.1,
          52.300000000000004,
          53.300000000000004,
          54.6,
          56.3,
          52.5,
          52.6,
          45.7,
          47.699999999999996,
          50,
          55.2,
          49.2,
          63.5,
          49.5,
          60.8,
          54.800000000000004,
          49.2,
          46.800000000000004,
          49.4,
          52.900000000000006,
          53.2,
          49.8,
          54.2,
          47,
          54.50000000000001,
          52.1,
          50.8,
          47.199999999999996,
          53.900000000000006,
          53.1,
          56.8,
          48.5,
          49.7,
          53.7,
          54.50000000000001,
          49.4,
          53.400000000000006,
          54.400000000000006,
          48.199999999999996,
          53,
          51.300000000000004,
          45.4,
          49.1,
          58.699999999999996,
          64.3,
          44.4,
          55.7,
          57.49999999999999,
          45.6,
          54.1,
          49.9,
          62.1,
          51.5,
          49.6,
          47.199999999999996,
          53.6,
          50.1,
          55.50000000000001,
          49.2,
          54,
          45.300000000000004,
          53.900000000000006,
          51,
          51,
          48.4,
          47.4,
          42.1,
          46.800000000000004,
          53.400000000000006,
          49.8,
          42.5,
          57.099999999999994,
          56.3,
          52.7,
          48.9,
          53.800000000000004,
          48.9,
          52.400000000000006,
          53.2,
          60.199999999999996,
          58.5,
          52.800000000000004,
          53.400000000000006,
          59,
          48.199999999999996,
          57.99999999999999,
          49.8,
          48.1,
          56.699999999999996,
          55.900000000000006,
          52,
          52.7,
          53.400000000000006,
          56.49999999999999,
          58.9,
          56.10000000000001,
          54.7,
          48.199999999999996,
          49,
          52.1,
          45.300000000000004,
          54.1,
          59.3,
          58.9,
          56.00000000000001,
          47.4,
          53.5,
          52.800000000000004,
          48,
          54.800000000000004,
          56.00000000000001,
          56.00000000000001,
          45.9,
          54.7,
          67.9,
          50.7,
          52.400000000000006,
          51.7,
          44,
          48.9,
          48.3,
          50.2,
          54,
          54.900000000000006,
          50.9,
          55.7,
          57.699999999999996,
          56.39999999999999,
          53.900000000000006,
          49.7,
          54.300000000000004,
          58.9,
          52,
          53.2,
          54,
          54.800000000000004,
          54.6,
          55.2,
          54.1,
          53.7,
          52.2,
          48.6,
          44.3,
          46.6,
          52.7,
          55.1,
          57.199999999999996,
          57.199999999999996,
          51.4,
          54.6,
          52,
          54.800000000000004,
          47.199999999999996,
          51.7,
          42.699999999999996,
          55.7,
          50.6,
          55.300000000000004,
          54.800000000000004,
          57.8,
          56.2,
          59.8,
          55.1,
          50.8,
          49.3,
          43.2,
          56.99999999999999,
          53.400000000000006,
          59.699999999999996,
          52.6,
          58.5,
          43.9,
          47.3,
          52.1,
          49.7,
          52.900000000000006,
          50.2,
          44.2,
          52.400000000000006,
          54.50000000000001,
          46.2,
          54.6,
          57.9,
          54.900000000000006,
          52.2,
          44.3,
          56.2,
          49.9,
          54.50000000000001,
          53.300000000000004,
          52.7,
          53.900000000000006,
          49.4,
          58.4,
          48.4,
          46.800000000000004,
          54.1,
          59.3,
          50.9,
          44.7,
          45.800000000000004,
          56.3,
          46.400000000000006,
          52.7,
          52.900000000000006,
          54.6,
          43.4,
          49.6,
          46.2,
          52.2,
          53.400000000000006,
          51
         ]
        },
        {
         "customdata": [
          10.755064571339652,
          -1.0449354286603452,
          3.1550645713396506,
          1.3550645713396605,
          0.8550645713396534,
          7.055064571339649,
          1.6550645713396577,
          3.1550645713396506
         ],
         "hovertemplate": "<b>%{text}</b><br><i>Points per 100 Possesions</i>: %{x:.2f}<br>True Shooting: %{y} <br>Relative True Shooting: %{customdata:.2f}<extra></extra></br>",
         "marker": {
          "cmax": 67.9,
          "cmin": 40.2,
          "color": [
           63.9,
           52.1,
           56.3,
           54.50000000000001,
           54,
           60.199999999999996,
           54.800000000000004,
           56.3
          ],
          "colorbar": {
           "title": {
            "text": "True Shooting"
           }
          },
          "colorscale": [
           [
            0,
            "#0d0887"
           ],
           [
            0.1111111111111111,
            "#46039f"
           ],
           [
            0.2222222222222222,
            "#7201a8"
           ],
           [
            0.3333333333333333,
            "#9c179e"
           ],
           [
            0.4444444444444444,
            "#bd3786"
           ],
           [
            0.5555555555555556,
            "#d8576b"
           ],
           [
            0.6666666666666666,
            "#ed7953"
           ],
           [
            0.7777777777777778,
            "#fb9f3a"
           ],
           [
            0.8888888888888888,
            "#fdca26"
           ],
           [
            1,
            "#f0f921"
           ]
          ],
          "size": [
           48.353846153846156,
           36.83076923076923,
           30.353846153846153,
           8.923076923076923,
           23.753846153846155,
           43,
           49.63076923076923,
           47.86153846153846
          ]
         },
         "mode": "markers",
         "name": "LAL",
         "text": [
          "Kareem Abdul-Jabbar* - LAL",
          "Jim Chones - LAL",
          "Michael Cooper - LAL",
          "Don Ford - LAL",
          "Spencer Haywood* - LAL",
          "Magic Johnson* - LAL",
          "Norm Nixon - LAL",
          "Jamaal Wilkes* - LAL"
         ],
         "type": "scatter",
         "visible": false,
         "x": [
          29.8,
          16.7,
          16.9,
          12.3,
          22,
          22.9,
          20.7,
          24.4
         ],
         "y": [
          63.9,
          52.1,
          56.3,
          54.50000000000001,
          54,
          60.199999999999996,
          54.800000000000004,
          56.3
         ]
        },
        {
         "customdata": [
          -2.044935428660345,
          -0.6449354286603466,
          -5.744935428660348,
          -0.3449354286603423,
          0.9550645713396548,
          0.5550645713396563,
          1.4550645713396548,
          0.2550645713396591,
          -1.0449354286603452,
          -8.84493542866035,
          -2.244935428660348
         ],
         "hovertemplate": "<b>%{text}</b><br><i>Points per 100 Possesions</i>: %{x:.2f}<br>True Shooting: %{y} <br>Relative True Shooting: %{customdata:.2f}<extra></extra></br>",
         "marker": {
          "cmax": 67.9,
          "cmin": 40.2,
          "color": [
           51.1,
           52.5,
           47.4,
           52.800000000000004,
           54.1,
           53.7,
           54.6,
           53.400000000000006,
           52.1,
           44.3,
           50.9
          ],
          "colorbar": {
           "title": {
            "text": "True Shooting"
           }
          },
          "colorscale": [
           [
            0,
            "#0d0887"
           ],
           [
            0.1111111111111111,
            "#46039f"
           ],
           [
            0.2222222222222222,
            "#7201a8"
           ],
           [
            0.3333333333333333,
            "#9c179e"
           ],
           [
            0.4444444444444444,
            "#bd3786"
           ],
           [
            0.5555555555555556,
            "#d8576b"
           ],
           [
            0.6666666666666666,
            "#ed7953"
           ],
           [
            0.7777777777777778,
            "#fb9f3a"
           ],
           [
            0.8888888888888888,
            "#fdca26"
           ],
           [
            1,
            "#f0f921"
           ]
          ],
          "size": [
           18.8,
           27.4,
           10.892307692307693,
           42.50769230769231,
           32.6,
           43.83076923076923,
           25.892307692307693,
           25.16923076923077,
           23.876923076923077,
           17.83076923076923,
           31.56923076923077
          ]
         },
         "mode": "markers",
         "name": "GSW",
         "text": [
          "Tom Abernethy - GSW",
          "Wayne Cooper - GSW",
          "Darnell Hillman - GSW",
          "John Lucas - GSW",
          "Robert Parish* - GSW",
          "Sonny Parker - GSW",
          "Clifford Ray - GSW",
          "Purvis Short - GSW",
          "Phil Smith - GSW",
          "Raymond Townsend - GSW",
          "Jo Jo White* - GSW"
         ],
         "type": "scatter",
         "visible": false,
         "x": [
          14.1,
          23.4,
          13.4,
          17.5,
          27.6,
          20.2,
          13.9,
          30.8,
          24.4,
          16.7,
          17.9
         ],
         "y": [
          51.1,
          52.5,
          47.4,
          52.800000000000004,
          54.1,
          53.7,
          54.6,
          53.400000000000006,
          52.1,
          44.3,
          50.9
         ]
        },
        {
         "customdata": [
          3.9550645713396477,
          -6.944935428660344,
          -4.644935428660347,
          1.4550645713396548,
          7.655064571339651,
          -7.844935428660342,
          -2.1449354286603466,
          1.5550645713396563,
          2.1550645713396577,
          -3.8449354286603494,
          6.155064571339651
         ],
         "hovertemplate": "<b>%{text}</b><br><i>Points per 100 Possesions</i>: %{x:.2f}<br>True Shooting: %{y} <br>Relative True Shooting: %{customdata:.2f}<extra></extra></br>",
         "marker": {
          "cmax": 67.9,
          "cmin": 40.2,
          "color": [
           57.099999999999994,
           46.2,
           48.5,
           54.6,
           60.8,
           45.300000000000004,
           51,
           54.7,
           55.300000000000004,
           49.3,
           59.3
          ],
          "colorbar": {
           "title": {
            "text": "True Shooting"
           }
          },
          "colorscale": [
           [
            0,
            "#0d0887"
           ],
           [
            0.1111111111111111,
            "#46039f"
           ],
           [
            0.2222222222222222,
            "#7201a8"
           ],
           [
            0.3333333333333333,
            "#9c179e"
           ],
           [
            0.4444444444444444,
            "#bd3786"
           ],
           [
            0.5555555555555556,
            "#d8576b"
           ],
           [
            0.6666666666666666,
            "#ed7953"
           ],
           [
            0.7777777777777778,
            "#fb9f3a"
           ],
           [
            0.8888888888888888,
            "#fdca26"
           ],
           [
            1,
            "#f0f921"
           ]
          ],
          "size": [
           33.353846153846156,
           24.446153846153845,
           38.44615384615385,
           13.907692307692308,
           35.52307692307692,
           21.584615384615386,
           17.246153846153845,
           10.938461538461539,
           41.69230769230769,
           20.046153846153846,
           41
          ]
         },
         "mode": "markers",
         "name": "PHO",
         "text": [
          "Alvan Adams - PHO",
          "Mike Bratz - PHO",
          "Don Buse - PHO",
          "Jeff Cook - PHO",
          "Walter Davis - PHO",
          "Gar Heard - PHO",
          "Johnny High - PHO",
          "Joel Kramer - PHO",
          "Truck Robinson - PHO",
          "Alvin Scott - PHO",
          "Paul Westphal* - PHO"
         ],
         "type": "scatter",
         "visible": false,
         "x": [
          23.6,
          20.2,
          11.5,
          18.3,
          32,
          13.2,
          16.7,
          12.2,
          23.9,
          12.3,
          30.8
         ],
         "y": [
          57.099999999999994,
          46.2,
          48.5,
          54.6,
          60.8,
          45.300000000000004,
          51,
          54.7,
          55.300000000000004,
          49.3,
          59.3
         ]
        },
        {
         "customdata": [
          4.255064571339652,
          0.6550645713396577,
          -0.5449354286603452,
          -12.944935428660344,
          -5.444935428660351,
          -3.4449354286603437,
          0.5550645713396563,
          0.7550645713396591,
          3.555064571339649,
          1.5550645713396563,
          14.755064571339659,
          2.5550645713396563
         ],
         "hovertemplate": "<b>%{text}</b><br><i>Points per 100 Possesions</i>: %{x:.2f}<br>True Shooting: %{y} <br>Relative True Shooting: %{customdata:.2f}<extra></extra></br>",
         "marker": {
          "cmax": 67.9,
          "cmin": 40.2,
          "color": [
           57.4,
           53.800000000000004,
           52.6,
           40.2,
           47.699999999999996,
           49.7,
           53.7,
           53.900000000000006,
           56.699999999999996,
           54.7,
           67.9,
           55.7
          ],
          "colorbar": {
           "title": {
            "text": "True Shooting"
           }
          },
          "colorscale": [
           [
            0,
            "#0d0887"
           ],
           [
            0.1111111111111111,
            "#46039f"
           ],
           [
            0.2222222222222222,
            "#7201a8"
           ],
           [
            0.3333333333333333,
            "#9c179e"
           ],
           [
            0.4444444444444444,
            "#bd3786"
           ],
           [
            0.5555555555555556,
            "#d8576b"
           ],
           [
            0.6666666666666666,
            "#ed7953"
           ],
           [
            0.7777777777777778,
            "#fb9f3a"
           ],
           [
            0.8888888888888888,
            "#fdca26"
           ],
           [
            1,
            "#f0f921"
           ]
          ],
          "size": [
           44.06153846153846,
           45.46153846153846,
           30.676923076923078,
           8.046153846153846,
           33.215384615384615,
           6.630769230769231,
           32.53846153846154,
           16.323076923076922,
           10.36923076923077,
           6.8,
           42.215384615384615,
           29.50769230769231
          ]
         },
         "mode": "markers",
         "name": "BOS",
         "text": [
          "Tiny Archibald* - BOS",
          "Larry Bird* - BOS",
          "M.L. Carr - BOS",
          "Don Chaney - BOS",
          "Dave Cowens* - BOS",
          "Eric Fernsten - BOS",
          "Chris Ford - BOS",
          "Gerald Henderson - BOS",
          "Jeff Judkins - BOS",
          "Pete Maravich* - BOS",
          "Cedric Maxwell - BOS",
          "Rick Robey - BOS"
         ],
         "type": "scatter",
         "visible": false,
         "x": [
          18.5,
          27.6,
          21.4,
          14.9,
          20.4,
          19,
          18,
          20.9,
          24.4,
          31.6,
          23,
          23
         ],
         "y": [
          57.4,
          53.800000000000004,
          52.6,
          40.2,
          47.699999999999996,
          49.7,
          53.7,
          53.900000000000006,
          56.699999999999996,
          54.7,
          67.9,
          55.7
         ]
        },
        {
         "customdata": [
          -0.7449354286603409,
          -10.84493542866035,
          -3.744935428660348,
          11.15506457133965,
          0.9550645713396548,
          0.2550645713396591,
          4.855064571339646,
          0.9550645713396548,
          2.8550645713396605,
          -2.4449354286603437,
          -2.9449354286603437,
          -0.7449354286603409,
          4.755064571339652
         ],
         "hovertemplate": "<b>%{text}</b><br><i>Points per 100 Possesions</i>: %{x:.2f}<br>True Shooting: %{y} <br>Relative True Shooting: %{customdata:.2f}<extra></extra></br>",
         "marker": {
          "cmax": 67.9,
          "cmin": 40.2,
          "color": [
           52.400000000000006,
           42.3,
           49.4,
           64.3,
           54.1,
           53.400000000000006,
           57.99999999999999,
           54.1,
           56.00000000000001,
           50.7,
           50.2,
           52.400000000000006,
           57.9
          ],
          "colorbar": {
           "title": {
            "text": "True Shooting"
           }
          },
          "colorscale": [
           [
            0,
            "#0d0887"
           ],
           [
            0.1111111111111111,
            "#46039f"
           ],
           [
            0.2222222222222222,
            "#7201a8"
           ],
           [
            0.3333333333333333,
            "#9c179e"
           ],
           [
            0.4444444444444444,
            "#bd3786"
           ],
           [
            0.5555555555555556,
            "#d8576b"
           ],
           [
            0.6666666666666666,
            "#ed7953"
           ],
           [
            0.7777777777777778,
            "#fb9f3a"
           ],
           [
            0.8888888888888888,
            "#fdca26"
           ],
           [
            1,
            "#f0f921"
           ]
          ],
          "size": [
           8.615384615384615,
           13.36923076923077,
           28.153846153846153,
           24.123076923076923,
           42.93846153846154,
           23.615384615384617,
           18,
           17.476923076923075,
           8.092307692307692,
           19.96923076923077,
           7.630769230769231,
           41.12307692307692,
           46.6
          ]
         },
         "mode": "markers",
         "name": "CHI",
         "text": [
          "Dennis Awtrey - CHI",
          "Del Beshore - CHI",
          "Coby Dietrick - CHI",
          "Artis Gilmore* - CHI",
          "Dave Greenwood - CHI",
          "Ollie Johnson - CHI",
          "Dwight Jones - CHI",
          "Mark Landsberger - CHI",
          "Ollie Mack - CHI",
          "Scott May - CHI",
          "Sam Smith - CHI",
          "Ricky Sobers - CHI",
          "Reggie Theus - CHI"
         ],
         "type": "scatter",
         "visible": false,
         "x": [
          7.2,
          13.2,
          14,
          25.7,
          22.5,
          18.6,
          21.5,
          18.8,
          16.4,
          24.4,
          24.6,
          20.5,
          25.8
         ],
         "y": [
          52.400000000000006,
          42.3,
          49.4,
          64.3,
          54.1,
          53.400000000000006,
          57.99999999999999,
          54.1,
          56.00000000000001,
          50.7,
          50.2,
          52.400000000000006,
          57.9
         ]
        },
        {
         "customdata": [
          -3.6449354286603466,
          0.055064571339656254,
          -4.244935428660348,
          0.055064571339656254,
          -1.0449354286603452,
          3.8550645713396463,
          -0.5449354286603452,
          -9.244935428660348,
          0.7550645713396591,
          -0.2449354286603409
         ],
         "hovertemplate": "<b>%{text}</b><br><i>Points per 100 Possesions</i>: %{x:.2f}<br>True Shooting: %{y} <br>Relative True Shooting: %{customdata:.2f}<extra></extra></br>",
         "marker": {
          "cmax": 67.9,
          "cmin": 40.2,
          "color": [
           49.5,
           53.2,
           48.9,
           53.2,
           52.1,
           56.99999999999999,
           52.6,
           43.9,
           53.900000000000006,
           52.900000000000006
          ],
          "colorbar": {
           "title": {
            "text": "True Shooting"
           }
          },
          "colorscale": [
           [
            0,
            "#0d0887"
           ],
           [
            0.1111111111111111,
            "#46039f"
           ],
           [
            0.2222222222222222,
            "#7201a8"
           ],
           [
            0.3333333333333333,
            "#9c179e"
           ],
           [
            0.4444444444444444,
            "#bd3786"
           ],
           [
            0.5555555555555556,
            "#d8576b"
           ],
           [
            0.6666666666666666,
            "#ed7953"
           ],
           [
            0.7777777777777778,
            "#fb9f3a"
           ],
           [
            0.8888888888888888,
            "#fdca26"
           ],
           [
            1,
            "#f0f921"
           ]
          ],
          "size": [
           11.169230769230769,
           26.16923076923077,
           45.184615384615384,
           38.96923076923077,
           17.907692307692308,
           34.50769230769231,
           42.96923076923077,
           24.53846153846154,
           12.984615384615385,
           45.676923076923075
          ]
         },
         "mode": "markers",
         "name": "SEA",
         "text": [
          "James Bailey - SEA",
          "Fred Brown - SEA",
          "Dennis Johnson* - SEA",
          "John Johnson - SEA",
          "Tom LaGarde - SEA",
          "Lonnie Shelton - SEA",
          "Jack Sikma* - SEA",
          "Paul Silas - SEA",
          "Wally Walker - SEA",
          "Gus Williams - SEA"
         ],
         "type": "scatter",
         "visible": false,
         "x": [
          20.3,
          26.6,
          24.7,
          17,
          15.5,
          21.8,
          19.8,
          9.3,
          18.2,
          28.8
         ],
         "y": [
          49.5,
          53.2,
          48.9,
          53.2,
          52.1,
          56.99999999999999,
          52.6,
          43.9,
          53.900000000000006,
          52.900000000000006
         ]
        },
        {
         "customdata": [
          0.055064571339656254,
          -9.644935428660347,
          -0.8449354286603423,
          -7.444935428660344,
          -3.9449354286603437,
          -3.244935428660348,
          -3.9449354286603437,
          -4.944935428660351,
          -0.44493542866034375,
          -1.744935428660348,
          1.3550645713396605,
          -6.944935428660344,
          -2.1449354286603466
         ],
         "hovertemplate": "<b>%{text}</b><br><i>Points per 100 Possesions</i>: %{x:.2f}<br>True Shooting: %{y} <br>Relative True Shooting: %{customdata:.2f}<extra></extra></br>",
         "marker": {
          "cmax": 67.9,
          "cmin": 40.2,
          "color": [
           53.2,
           43.5,
           52.300000000000004,
           45.7,
           49.2,
           49.9,
           49.2,
           48.199999999999996,
           52.7,
           51.4,
           54.50000000000001,
           46.2,
           51
          ],
          "colorbar": {
           "title": {
            "text": "True Shooting"
           }
          },
          "colorscale": [
           [
            0,
            "#0d0887"
           ],
           [
            0.1111111111111111,
            "#46039f"
           ],
           [
            0.2222222222222222,
            "#7201a8"
           ],
           [
            0.3333333333333333,
            "#9c179e"
           ],
           [
            0.4444444444444444,
            "#bd3786"
           ],
           [
            0.5555555555555556,
            "#d8576b"
           ],
           [
            0.6666666666666666,
            "#ed7953"
           ],
           [
            0.7777777777777778,
            "#fb9f3a"
           ],
           [
            0.8888888888888888,
            "#fdca26"
           ],
           [
            1,
            "#f0f921"
           ]
          ],
          "size": [
           37.50769230769231,
           7.230769230769231,
           23.615384615384617,
           12.707692307692307,
           22.415384615384614,
           27.96923076923077,
           48.96923076923077,
           6.938461538461539,
           14.938461538461539,
           22.984615384615385,
           45.738461538461536,
           9.276923076923078,
           19.784615384615385
          ]
         },
         "mode": "markers",
         "name": "WSB",
         "text": [
          "Greg Ballard - WSB",
          "Phil Chenier - WSB",
          "Jim Cleamons - WSB",
          "Dave Corzine - WSB",
          "Bob Dandridge* - WSB",
          "Kevin Grevey - WSB",
          "Elvin Hayes* - WSB",
          "Mitch Kupchak - WSB",
          "Roger Phegley - WSB",
          "Kevin Porter - WSB",
          "Wes Unseld* - WSB",
          "John Williamson - WSB",
          "Larry Wright - WSB"
         ],
         "type": "scatter",
         "visible": false,
         "x": [
          24.5,
          20.1,
          13.5,
          12.7,
          25.1,
          23.5,
          27.3,
          19.3,
          26.7,
          16,
          12.5,
          27.1,
          20.3
         ],
         "y": [
          53.2,
          43.5,
          52.300000000000004,
          45.7,
          49.2,
          49.9,
          49.2,
          48.199999999999996,
          52.7,
          51.4,
          54.50000000000001,
          46.2,
          51
         ]
        },
        {
         "customdata": [
          0.15506457133965768,
          -2.9449354286603437,
          -3.6449354286603466,
          1.3550645713396605,
          0.7550645713396591,
          -3.044935428660345,
          -0.44493542866034375,
          -0.3449354286603423,
          5.755064571339652,
          -4.844935428660349
         ],
         "hovertemplate": "<b>%{text}</b><br><i>Points per 100 Possesions</i>: %{x:.2f}<br>True Shooting: %{y} <br>Relative True Shooting: %{customdata:.2f}<extra></extra></br>",
         "marker": {
          "cmax": 67.9,
          "cmin": 40.2,
          "color": [
           53.300000000000004,
           50.2,
           49.5,
           54.50000000000001,
           53.900000000000006,
           50.1,
           52.7,
           52.800000000000004,
           58.9,
           48.3
          ],
          "colorbar": {
           "title": {
            "text": "True Shooting"
           }
          },
          "colorscale": [
           [
            0,
            "#0d0887"
           ],
           [
            0.1111111111111111,
            "#46039f"
           ],
           [
            0.2222222222222222,
            "#7201a8"
           ],
           [
            0.3333333333333333,
            "#9c179e"
           ],
           [
            0.4444444444444444,
            "#bd3786"
           ],
           [
            0.5555555555555556,
            "#d8576b"
           ],
           [
            0.6666666666666666,
            "#ed7953"
           ],
           [
            0.7777777777777778,
            "#fb9f3a"
           ],
           [
            0.8888888888888888,
            "#fdca26"
           ],
           [
            1,
            "#f0f921"
           ]
          ],
          "size": [
           35.84615384615385,
           31.184615384615384,
           44.8,
           35.6,
           23.476923076923075,
           17.46153846153846,
           23.70769230769231,
           40.723076923076924,
           29.384615384615383,
           12.061538461538461
          ]
         },
         "mode": "markers",
         "name": "IND",
         "text": [
          "Mike Bantom - IND",
          "Dudley Bradley - IND",
          "Johnny Davis - IND",
          "James Edwards - IND",
          "Alex English* - IND",
          "Joe Hassett - IND",
          "Clemon Johnson - IND",
          "Mickey Johnson - IND",
          "Billy Knight - IND",
          "George McGinnis* - IND"
         ],
         "type": "scatter",
         "visible": false,
         "x": [
          17.9,
          15.6,
          20.5,
          25.6,
          24.3,
          21.2,
          14.1,
          27.2,
          23.7,
          21.6
         ],
         "y": [
          53.300000000000004,
          50.2,
          49.5,
          54.50000000000001,
          53.900000000000006,
          50.1,
          52.7,
          52.800000000000004,
          58.9,
          48.3
         ]
        },
        {
         "customdata": [
          -1.4449354286603437,
          1.0550645713396563,
          -2.1449354286603466,
          -3.3449354286603494,
          2.8550645713396605,
          2.8550645713396605,
          1.1550645713396577,
          -4.544935428660345,
          -1.1449354286603466,
          -0.9449354286603437
         ],
         "hovertemplate": "<b>%{text}</b><br><i>Points per 100 Possesions</i>: %{x:.2f}<br>True Shooting: %{y} <br>Relative True Shooting: %{customdata:.2f}<extra></extra></br>",
         "marker": {
          "cmax": 67.9,
          "cmin": 40.2,
          "color": [
           51.7,
           54.2,
           51,
           49.8,
           56.00000000000001,
           56.00000000000001,
           54.300000000000004,
           48.6,
           52,
           52.2
          ],
          "colorbar": {
           "title": {
            "text": "True Shooting"
           }
          },
          "colorscale": [
           [
            0,
            "#0d0887"
           ],
           [
            0.1111111111111111,
            "#46039f"
           ],
           [
            0.2222222222222222,
            "#7201a8"
           ],
           [
            0.3333333333333333,
            "#9c179e"
           ],
           [
            0.4444444444444444,
            "#bd3786"
           ],
           [
            0.5555555555555556,
            "#d8576b"
           ],
           [
            0.6666666666666666,
            "#ed7953"
           ],
           [
            0.7777777777777778,
            "#fb9f3a"
           ],
           [
            0.8888888888888888,
            "#fdca26"
           ],
           [
            1,
            "#f0f921"
           ]
          ],
          "size": [
           27.93846153846154,
           15.938461538461539,
           23.861538461538462,
           23.76923076923077,
           32.66153846153846,
           48.30769230769231,
           41.16923076923077,
           15.076923076923077,
           35.44615384615385,
           28.215384615384615
          ]
         },
         "mode": "markers",
         "name": "HOU",
         "text": [
          "Rick Barry* - HOU",
          "Mike Dunleavy - HOU",
          "Tom Henderson - HOU",
          "Major Jones - HOU",
          "Allen Leavell - HOU",
          "Moses Malone* - HOU",
          "Calvin Murphy* - HOU",
          "Billy Paultz - HOU",
          "Robert Reid - HOU",
          "Rudy Tomjanovich* - HOU"
         ],
         "type": "scatter",
         "visible": false,
         "x": [
          22.6,
          18.8,
          11.1,
          13.5,
          18.8,
          32,
          27,
          15.4,
          20.4,
          22.8
         ],
         "y": [
          51.7,
          54.2,
          51,
          49.8,
          56.00000000000001,
          56.00000000000001,
          54.300000000000004,
          48.6,
          52,
          52.2
         ]
        },
        {
         "customdata": [
          -1.8449354286603423,
          -3.044935428660345,
          8.455064571339655,
          -0.5449354286603452,
          -10.044935428660345,
          -1.244935428660348,
          0.45506457133965483,
          -1.3449354286603423,
          -1.0449354286603452,
          -8.244935428660348,
          2.3550645713396605,
          3.4550645713396477,
          -0.2449354286603409,
          6.055064571339649,
          -9.644935428660347,
          -2.8449354286603494,
          -0.3449354286603423,
          -2.4449354286603437,
          -3.1449354286603466,
          -3.9449354286603437,
          -4.444935428660351,
          -0.04493542866034517,
          -0.7449354286603409,
          -2.4449354286603437,
          0.45506457133965483,
          6.255064571339652,
          -5.744935428660348,
          -0.8449354286603423,
          -4.444935428660351,
          -5.044935428660345
         ],
         "hovertemplate": "<b>%{text}</b><br><i>Points per 100 Possesions</i>: %{x:.2f}<br>True Shooting: %{y} <br>Relative True Shooting: %{customdata:.2f}<extra></extra></br>",
         "marker": {
          "cmax": 67.9,
          "cmin": 40.2,
          "color": [
           51.300000000000004,
           50.1,
           61.6,
           52.6,
           43.1,
           51.9,
           53.6,
           51.800000000000004,
           52.1,
           44.9,
           55.50000000000001,
           56.599999999999994,
           52.900000000000006,
           59.199999999999996,
           43.5,
           50.3,
           52.800000000000004,
           50.7,
           50,
           49.2,
           48.699999999999996,
           53.1,
           52.400000000000006,
           50.7,
           53.6,
           59.4,
           47.4,
           52.300000000000004,
           48.699999999999996,
           48.1
          ],
          "colorbar": {
           "title": {
            "text": "True Shooting"
           }
          },
          "colorscale": [
           [
            0,
            "#0d0887"
           ],
           [
            0.1111111111111111,
            "#46039f"
           ],
           [
            0.2222222222222222,
            "#7201a8"
           ],
           [
            0.3333333333333333,
            "#9c179e"
           ],
           [
            0.4444444444444444,
            "#bd3786"
           ],
           [
            0.5555555555555556,
            "#d8576b"
           ],
           [
            0.6666666666666666,
            "#ed7953"
           ],
           [
            0.7777777777777778,
            "#fb9f3a"
           ],
           [
            0.8888888888888888,
            "#fdca26"
           ],
           [
            1,
            "#f0f921"
           ]
          ],
          "size": [
           29.092307692307692,
           36.8,
           31.953846153846154,
           28.276923076923076,
           13.076923076923077,
           27.523076923076925,
           36.93846153846154,
           15.36923076923077,
           32.646153846153844,
           18.6,
           22.276923076923076,
           28.29230769230769,
           23.23076923076923,
           32.784615384615385,
           17.953846153846154,
           28.984615384615385,
           10.476923076923077,
           6.846153846153846,
           14.830769230769231,
           23.50769230769231,
           33.96923076923077,
           23.83076923076923,
           43.95384615384615,
           33.738461538461536,
           23.26153846153846,
           20.56923076923077,
           32.66153846153846,
           12.446153846153846,
           8.507692307692308,
           21.138461538461538
          ]
         },
         "mode": "markers",
         "name": "TOT",
         "text": [
          "Kent Benson - TOT",
          "Ron Boone - TOT",
          "Tom Boswell - TOT",
          "Kenny Carr - TOT",
          "Phil Chenier - TOT",
          "Jim Cleamons - TOT",
          "Alex English* - TOT",
          "Don Ford - TOT",
          "Terry Furlow - TOT",
          "Lionel Hollins - TOT",
          "Dwight Jones - TOT",
          "Rich Kelley - TOT",
          "Mark Landsberger - TOT",
          "Bob Lanier* - TOT",
          "Ron Lee - TOT",
          "Maurice Lucas - TOT",
          "Ollie Mack - TOT",
          "Steve Malovic - TOT",
          "Pete Maravich* - TOT",
          "Jim McElroy - TOT",
          "George McGinnis* - TOT",
          "Eric Money - TOT",
          "Calvin Natt - TOT",
          "Billy Paultz - TOT",
          "Roger Phegley - TOT",
          "John Shumate - TOT",
          "Bingo Smith - TOT",
          "Robert Smith - TOT",
          "Jerome Whitehead - TOT",
          "John Williamson - TOT"
         ],
         "type": "scatter",
         "visible": false,
         "x": [
          17.1,
          20.6,
          21,
          23,
          17.8,
          13.5,
          25.3,
          14.1,
          24.4,
          20.7,
          21.5,
          17.3,
          19.1,
          25.8,
          11.5,
          23.2,
          16.1,
          8.3,
          29.4,
          17.9,
          22.4,
          18.2,
          25.1,
          15.8,
          26.9,
          19.4,
          19.9,
          18.3,
          11,
          28.2
         ],
         "y": [
          51.300000000000004,
          50.1,
          61.6,
          52.6,
          43.1,
          51.9,
          53.6,
          51.800000000000004,
          52.1,
          44.9,
          55.50000000000001,
          56.599999999999994,
          52.900000000000006,
          59.199999999999996,
          43.5,
          50.3,
          52.800000000000004,
          50.7,
          50,
          49.2,
          48.699999999999996,
          53.1,
          52.400000000000006,
          50.7,
          53.6,
          59.4,
          47.4,
          52.300000000000004,
          48.699999999999996,
          48.1
         ]
        },
        {
         "customdata": [
          -1.244935428660348,
          -0.8449354286603423,
          -3.044935428660345,
          -10.244935428660348,
          2.0550645713396563,
          5.355064571339653,
          5.755064571339652,
          -2.244935428660348,
          3.255064571339645,
          -3.744935428660348,
          -4.744935428660348,
          0.2550645713396591
         ],
         "hovertemplate": "<b>%{text}</b><br><i>Points per 100 Possesions</i>: %{x:.2f}<br>True Shooting: %{y} <br>Relative True Shooting: %{customdata:.2f}<extra></extra></br>",
         "marker": {
          "cmax": 67.9,
          "cmin": 40.2,
          "color": [
           51.9,
           52.300000000000004,
           50.1,
           42.9,
           55.2,
           58.5,
           58.9,
           50.9,
           56.39999999999999,
           49.4,
           48.4,
           53.400000000000006
          ],
          "colorbar": {
           "title": {
            "text": "True Shooting"
           }
          },
          "colorscale": [
           [
            0,
            "#0d0887"
           ],
           [
            0.1111111111111111,
            "#46039f"
           ],
           [
            0.2222222222222222,
            "#7201a8"
           ],
           [
            0.3333333333333333,
            "#9c179e"
           ],
           [
            0.4444444444444444,
            "#bd3786"
           ],
           [
            0.5555555555555556,
            "#d8576b"
           ],
           [
            0.6666666666666666,
            "#ed7953"
           ],
           [
            0.7777777777777778,
            "#fb9f3a"
           ],
           [
            0.8888888888888888,
            "#fdca26"
           ],
           [
            1,
            "#f0f921"
           ]
          ],
          "size": [
           21.369230769230768,
           35.63076923076923,
           26,
           21.015384615384615,
           13.846153846153847,
           41.323076923076925,
           11.36923076923077,
           33.90769230769231,
           23.953846153846154,
           19.123076923076923,
           16.8,
           40.353846153846156
          ]
         },
         "mode": "markers",
         "name": "MIL",
         "text": [
          "Kent Benson - MIL",
          "Junior Bridgeman - MIL",
          "Quinn Buckner - MIL",
          "Harvey Catchings - MIL",
          "Pat Cummings - MIL",
          "Marques Johnson - MIL",
          "Bob Lanier* - MIL",
          "Dave Meyers - MIL",
          "Sidney Moncrief* - MIL",
          "Lloyd Walton - MIL",
          "Richard Washington - MIL",
          "Brian Winters - MIL"
         ],
         "type": "scatter",
         "visible": false,
         "x": [
          16.6,
          28.8,
          19.9,
          8,
          24.4,
          29.2,
          25.9,
          20.3,
          19.7,
          10.2,
          18.9,
          23.1
         ],
         "y": [
          51.9,
          52.300000000000004,
          50.1,
          42.9,
          55.2,
          58.5,
          58.9,
          50.9,
          56.39999999999999,
          49.4,
          48.4,
          53.400000000000006
         ]
        },
        {
         "customdata": [
          -3.244935428660348,
          -0.2449354286603409,
          -3.3449354286603494,
          -5.944935428660351,
          0.2550645713396591,
          -1.1449354286603466,
          6.155064571339651,
          -5.744935428660348,
          0.3550645713396534,
          -0.7449354286603409,
          -1.4449354286603437,
          0.7550645713396591,
          -3.244935428660348
         ],
         "hovertemplate": "<b>%{text}</b><br><i>Points per 100 Possesions</i>: %{x:.2f}<br>True Shooting: %{y} <br>Relative True Shooting: %{customdata:.2f}<extra></extra></br>",
         "marker": {
          "cmax": 67.9,
          "cmin": 40.2,
          "color": [
           49.9,
           52.900000000000006,
           49.8,
           47.199999999999996,
           53.400000000000006,
           52,
           59.3,
           47.4,
           53.5,
           52.400000000000006,
           51.7,
           53.900000000000006,
           49.9
          ],
          "colorbar": {
           "title": {
            "text": "True Shooting"
           }
          },
          "colorscale": [
           [
            0,
            "#0d0887"
           ],
           [
            0.1111111111111111,
            "#46039f"
           ],
           [
            0.2222222222222222,
            "#7201a8"
           ],
           [
            0.3333333333333333,
            "#9c179e"
           ],
           [
            0.4444444444444444,
            "#bd3786"
           ],
           [
            0.5555555555555556,
            "#d8576b"
           ],
           [
            0.6666666666666666,
            "#ed7953"
           ],
           [
            0.7777777777777778,
            "#fb9f3a"
           ],
           [
            0.8888888888888888,
            "#fdca26"
           ],
           [
            1,
            "#f0f921"
           ]
          ],
          "size": [
           7.723076923076923,
           27.415384615384614,
           20.476923076923075,
           17.16923076923077,
           18.29230769230769,
           18.96923076923077,
           21.415384615384614,
           12.353846153846154,
           36.36923076923077,
           32.261538461538464,
           15.569230769230769,
           22.56923076923077,
           41.07692307692308
          ]
         },
         "mode": "markers",
         "name": "DET",
         "text": [
          "Kent Benson - DET",
          "Leon Douglas - DET",
          "Terry Duerod - DET",
          "Roy Hamilton - DET",
          "Phil Hubbard - DET",
          "Greg Kelser - DET",
          "Bob Lanier* - DET",
          "Ron Lee - DET",
          "John Long - DET",
          "Bob McAdoo* - DET",
          "Jim McElroy - DET",
          "Eric Money - DET",
          "Terry Tyler - DET"
         ],
         "type": "scatter",
         "visible": false,
         "x": [
          18.4,
          14.3,
          21,
          13.4,
          22,
          25.8,
          25.8,
          12.6,
          25.3,
          26.1,
          18.7,
          18.3,
          16.9
         ],
         "y": [
          49.9,
          52.900000000000006,
          49.8,
          47.199999999999996,
          53.400000000000006,
          52,
          59.3,
          47.4,
          53.5,
          52.400000000000006,
          51.7,
          53.900000000000006,
          49.9
         ]
        },
        {
         "customdata": [
          -4.044935428660345,
          5.755064571339652,
          0.15506457133965768,
          1.6550645713396577,
          3.6550645713396506,
          -6.344935428660342,
          5.855064571339653,
          -4.944935428660351,
          4.555064571339649,
          -5.944935428660351,
          1.3550645713396605
         ],
         "hovertemplate": "<b>%{text}</b><br><i>Points per 100 Possesions</i>: %{x:.2f}<br>True Shooting: %{y} <br>Relative True Shooting: %{customdata:.2f}<extra></extra></br>",
         "marker": {
          "cmax": 67.9,
          "cmin": 40.2,
          "color": [
           49.1,
           58.9,
           53.300000000000004,
           54.800000000000004,
           56.8,
           46.800000000000004,
           59,
           48.199999999999996,
           57.699999999999996,
           47.199999999999996,
           54.50000000000001
          ],
          "colorbar": {
           "title": {
            "text": "True Shooting"
           }
          },
          "colorscale": [
           [
            0,
            "#0d0887"
           ],
           [
            0.1111111111111111,
            "#46039f"
           ],
           [
            0.2222222222222222,
            "#7201a8"
           ],
           [
            0.3333333333333333,
            "#9c179e"
           ],
           [
            0.4444444444444444,
            "#bd3786"
           ],
           [
            0.5555555555555556,
            "#d8576b"
           ],
           [
            0.6666666666666666,
            "#ed7953"
           ],
           [
            0.7777777777777778,
            "#fb9f3a"
           ],
           [
            0.8888888888888888,
            "#fdca26"
           ],
           [
            1,
            "#f0f921"
           ]
          ],
          "size": [
           31.307692307692307,
           40.353846153846156,
           14.815384615384616,
           39.09230769230769,
           43.261538461538464,
           12.246153846153845,
           32.69230769230769,
           42.63076923076923,
           23.73846153846154,
           15.2,
           6.8
          ]
         },
         "mode": "markers",
         "name": "PHI",
         "text": [
          "Henry Bibby - PHI",
          "Maurice Cheeks* - PHI",
          "Doug Collins - PHI",
          "Darryl Dawkins - PHI",
          "Julius Erving* - PHI",
          "Lionel Hollins - PHI",
          "Bobby Jones* - PHI",
          "Caldwell Jones - PHI",
          "Steve Mix - PHI",
          "Clint Richardson - PHI",
          "Jim Spanarkel - PHI"
         ],
         "type": "scatter",
         "visible": false,
         "x": [
          16.9,
          16,
          24,
          21.6,
          34.8,
          19.3,
          23.1,
          9.9,
          28.3,
          16.4,
          20.9
         ],
         "y": [
          49.1,
          58.9,
          53.300000000000004,
          54.800000000000004,
          56.8,
          46.800000000000004,
          59,
          48.199999999999996,
          57.699999999999996,
          47.199999999999996,
          54.50000000000001
         ]
        },
        {
         "customdata": [
          0.6550645713396577,
          -5.944935428660351,
          0.2550645713396591,
          -4.044935428660345,
          -7.544935428660345,
          -3.544935428660345,
          3.3550645713396463,
          -4.144935428660347,
          -2.9449354286603437,
          1.6550645713396577,
          0.9550645713396548
         ],
         "hovertemplate": "<b>%{text}</b><br><i>Points per 100 Possesions</i>: %{x:.2f}<br>True Shooting: %{y} <br>Relative True Shooting: %{customdata:.2f}<extra></extra></br>",
         "marker": {
          "cmax": 67.9,
          "cmin": 40.2,
          "color": [
           53.800000000000004,
           47.199999999999996,
           53.400000000000006,
           49.1,
           45.6,
           49.6,
           56.49999999999999,
           49,
           50.2,
           54.800000000000004,
           54.1
          ],
          "colorbar": {
           "title": {
            "text": "True Shooting"
           }
          },
          "colorscale": [
           [
            0,
            "#0d0887"
           ],
           [
            0.1111111111111111,
            "#46039f"
           ],
           [
            0.2222222222222222,
            "#7201a8"
           ],
           [
            0.3333333333333333,
            "#9c179e"
           ],
           [
            0.4444444444444444,
            "#bd3786"
           ],
           [
            0.5555555555555556,
            "#d8576b"
           ],
           [
            0.6666666666666666,
            "#ed7953"
           ],
           [
            0.7777777777777778,
            "#fb9f3a"
           ],
           [
            0.8888888888888888,
            "#fdca26"
           ],
           [
            1,
            "#f0f921"
           ]
          ],
          "size": [
           44.38461538461539,
           14.076923076923077,
           40.323076923076925,
           13.36923076923077,
           7.061538461538461,
           21.49230769230769,
           31.56923076923077,
           37.10769230769231,
           20.50769230769231,
           29.49230769230769,
           36.10769230769231
          ]
         },
         "mode": "markers",
         "name": "KCK",
         "text": [
          "Otis Birdsong - KCK",
          "Len Elmore - KCK",
          "Phil Ford - KCK",
          "Gus Gerard - KCK",
          "Mike Green - KCK",
          "Ernie Grunfeld - KCK",
          "Reggie King - KCK",
          "Sam Lacey - KCK",
          "Billy McKinney - KCK",
          "Bill Robinzine - KCK",
          "Scott Wedman - KCK"
         ],
         "type": "scatter",
         "visible": false,
         "x": [
          30,
          13.2,
          23.6,
          20.6,
          16.4,
          15.8,
          15.3,
          14.3,
          18.1,
          22.4,
          25.6
         ],
         "y": [
          53.800000000000004,
          47.199999999999996,
          53.400000000000006,
          49.1,
          45.6,
          49.6,
          56.49999999999999,
          49,
          50.2,
          54.800000000000004,
          54.1
         ]
        },
        {
         "customdata": [
          -2.544935428660345,
          8.555064571339656,
          0.2550645713396591,
          1.755064571339659,
          10.355064571339653,
          -3.9449354286603437,
          -0.1449354286603466,
          0.45506457133965483,
          0.2550645713396591,
          -7.244935428660348,
          4.055064571339649,
          -6.744935428660341
         ],
         "hovertemplate": "<b>%{text}</b><br><i>Points per 100 Possesions</i>: %{x:.2f}<br>True Shooting: %{y} <br>Relative True Shooting: %{customdata:.2f}<extra></extra></br>",
         "marker": {
          "cmax": 67.9,
          "cmin": 40.2,
          "color": [
           50.6,
           61.7,
           53.400000000000006,
           54.900000000000006,
           63.5,
           49.2,
           53,
           53.6,
           53.400000000000006,
           45.9,
           57.199999999999996,
           46.400000000000006
          ],
          "colorbar": {
           "title": {
            "text": "True Shooting"
           }
          },
          "colorscale": [
           [
            0,
            "#0d0887"
           ],
           [
            0.1111111111111111,
            "#46039f"
           ],
           [
            0.2222222222222222,
            "#7201a8"
           ],
           [
            0.3333333333333333,
            "#9c179e"
           ],
           [
            0.4444444444444444,
            "#bd3786"
           ],
           [
            0.5555555555555556,
            "#d8576b"
           ],
           [
            0.6666666666666666,
            "#ed7953"
           ],
           [
            0.7777777777777778,
            "#fb9f3a"
           ],
           [
            0.8888888888888888,
            "#fdca26"
           ],
           [
            1,
            "#f0f921"
           ]
          ],
          "size": [
           35.16923076923077,
           23.923076923076923,
           35.44615384615385,
           11.876923076923077,
           41.13846153846154,
           11.938461538461539,
           26.43076923076923,
           24.615384615384617,
           6.446153846153846,
           8.03076923076923,
           36.13846153846154,
           27.6
          ]
         },
         "mode": "markers",
         "name": "UTA",
         "text": [
          "Ron Boone - UTA",
          "Tom Boswell - UTA",
          "Allan Bristow - UTA",
          "Mack Calvin - UTA",
          "Adrian Dantley* - UTA",
          "Paul Dawkins - UTA",
          "Terry Furlow - UTA",
          "James Hardy - UTA",
          "Bernard King* - UTA",
          "Pete Maravich* - UTA",
          "Ben Poquette - UTA",
          "Duck Williams - UTA"
         ],
         "type": "scatter",
         "visible": false,
         "x": [
          20.9,
          22.1,
          20.3,
          19.5,
          35,
          20,
          25.1,
          12.9,
          20.7,
          27.3,
          15.3,
          13.9
         ],
         "y": [
          50.6,
          61.7,
          53.400000000000006,
          54.900000000000006,
          63.5,
          49.2,
          53,
          53.6,
          53.400000000000006,
          45.9,
          57.199999999999996,
          46.400000000000006
         ]
        },
        {
         "customdata": [
          8.05506457133965,
          -2.3449354286603494,
          -0.04493542866034517,
          -7.744935428660348,
          4.355064571339646,
          -3.3449354286603494,
          3.9550645713396477,
          -0.7449354286603409,
          -4.244935428660348,
          -10.44493542866035,
          3.0550645713396563,
          -9.944935428660344,
          1.755064571339659,
          -7.344935428660342
         ],
         "hovertemplate": "<b>%{text}</b><br><i>Points per 100 Possesions</i>: %{x:.2f}<br>True Shooting: %{y} <br>Relative True Shooting: %{customdata:.2f}<extra></extra></br>",
         "marker": {
          "cmax": 67.9,
          "cmin": 40.2,
          "color": [
           61.199999999999996,
           50.8,
           53.1,
           45.4,
           57.49999999999999,
           49.8,
           57.099999999999994,
           52.400000000000006,
           48.9,
           42.699999999999996,
           56.2,
           43.2,
           54.900000000000006,
           45.800000000000004
          ],
          "colorbar": {
           "title": {
            "text": "True Shooting"
           }
          },
          "colorscale": [
           [
            0,
            "#0d0887"
           ],
           [
            0.1111111111111111,
            "#46039f"
           ],
           [
            0.2222222222222222,
            "#7201a8"
           ],
           [
            0.3333333333333333,
            "#9c179e"
           ],
           [
            0.4444444444444444,
            "#bd3786"
           ],
           [
            0.5555555555555556,
            "#d8576b"
           ],
           [
            0.6666666666666666,
            "#ed7953"
           ],
           [
            0.7777777777777778,
            "#fb9f3a"
           ],
           [
            0.8888888888888888,
            "#fdca26"
           ],
           [
            1,
            "#f0f921"
           ]
          ],
          "size": [
           8.03076923076923,
           7.723076923076923,
           13.461538461538462,
           17.015384615384615,
           15.692307692307692,
           18.584615384615386,
           45.2,
           29.815384615384616,
           21.907692307692308,
           7.476923076923077,
           35.16923076923077,
           28.615384615384617,
           19.06153846153846,
           36.63076923076923
          ]
         },
         "mode": "markers",
         "name": "DEN",
         "text": [
          "Tom Boswell - DEN",
          "Bo Ellis - DEN",
          "Alex English* - DEN",
          "Gary Garland - DEN",
          "Glen Gondrezick - DEN",
          "Kim Hughes - DEN",
          "Dan Issel* - DEN",
          "George Johnson - DEN",
          "George McGinnis* - DEN",
          "Anthony Roberts - DEN",
          "John Roche - DEN",
          "Charlie Scott* - DEN",
          "David Thompson* - DEN",
          "Bob Wilkerson - DEN"
         ],
         "type": "scatter",
         "visible": false,
         "x": [
          18,
          14.9,
          27,
          13.9,
          17.7,
          8.4,
          30.7,
          18.3,
          22.8,
          16.8,
          18.8,
          15.9,
          31.3,
          20
         ],
         "y": [
          61.199999999999996,
          50.8,
          53.1,
          45.4,
          57.49999999999999,
          49.8,
          57.099999999999994,
          52.400000000000006,
          48.9,
          42.699999999999996,
          56.2,
          43.2,
          54.900000000000006,
          45.800000000000004
         ]
        },
        {
         "customdata": [
          -1.3449354286603423,
          -1.0449354286603452,
          -4.244935428660348,
          -5.044935428660345,
          2.755064571339659,
          1.6550645713396577,
          -1.1449354286603466,
          0.8550645713396534,
          1.9550645713396548,
          -2.544935428660345,
          -0.2449354286603409,
          0.15506457133965768,
          -3.544935428660345
         ],
         "hovertemplate": "<b>%{text}</b><br><i>Points per 100 Possesions</i>: %{x:.2f}<br>True Shooting: %{y} <br>Relative True Shooting: %{customdata:.2f}<extra></extra></br>",
         "marker": {
          "cmax": 67.9,
          "cmin": 40.2,
          "color": [
           51.800000000000004,
           52.1,
           48.9,
           48.1,
           55.900000000000006,
           54.800000000000004,
           52,
           54,
           55.1,
           50.6,
           52.900000000000006,
           53.300000000000004,
           49.6
          ],
          "colorbar": {
           "title": {
            "text": "True Shooting"
           }
          },
          "colorscale": [
           [
            0,
            "#0d0887"
           ],
           [
            0.1111111111111111,
            "#46039f"
           ],
           [
            0.2222222222222222,
            "#7201a8"
           ],
           [
            0.3333333333333333,
            "#9c179e"
           ],
           [
            0.4444444444444444,
            "#bd3786"
           ],
           [
            0.5555555555555556,
            "#d8576b"
           ],
           [
            0.6666666666666666,
            "#ed7953"
           ],
           [
            0.7777777777777778,
            "#fb9f3a"
           ],
           [
            0.8888888888888888,
            "#fdca26"
           ],
           [
            1,
            "#f0f921"
           ]
          ],
          "size": [
           16.953846153846154,
           11.107692307692307,
           32.6,
           40.87692307692308,
           22.553846153846155,
           10.892307692307693,
           31.476923076923075,
           38.61538461538461,
           8.323076923076924,
           25.553846153846155,
           11.323076923076924,
           36.90769230769231,
           11.861538461538462
          ]
         },
         "mode": "markers",
         "name": "NJN",
         "text": [
          "Winford Boynes - NJN",
          "Bob Elliott - NJN",
          "George Johnson - NJN",
          "Eddie Jordan - NJN",
          "Rich Kelley - NJN",
          "Maurice Lucas - NJN",
          "Calvin Natt - NJN",
          "Mike Newlin - NJN",
          "Roger Phegley - NJN",
          "Cliff Robinson - NJN",
          "Robert Smith - NJN",
          "Jan van Breda Kolff - NJN",
          "John Williamson - NJN"
         ],
         "type": "scatter",
         "visible": false,
         "x": [
          22.4,
          19.2,
          12.5,
          18.5,
          17.6,
          21.4,
          23,
          29.5,
          27.4,
          25.9,
          19,
          10.6,
          29.1
         ],
         "y": [
          51.800000000000004,
          52.1,
          48.9,
          48.1,
          55.900000000000006,
          54.800000000000004,
          52,
          54,
          55.1,
          50.6,
          52.900000000000006,
          53.300000000000004,
          49.6
         ]
        },
        {
         "customdata": [
          -3.8449354286603494,
          -2.8449354286603494,
          -6.144935428660347,
          -1.6449354286603466,
          -11.044935428660345,
          3.1550645713396506,
          -5.144935428660347,
          0.055064571339656254,
          2.0550645713396563,
          -8.84493542866035,
          -6.944935428660344,
          3.0550645713396563,
          5.255064571339652
         ],
         "hovertemplate": "<b>%{text}</b><br><i>Points per 100 Possesions</i>: %{x:.2f}<br>True Shooting: %{y} <br>Relative True Shooting: %{customdata:.2f}<extra></extra></br>",
         "marker": {
          "cmax": 67.9,
          "cmin": 40.2,
          "color": [
           49.3,
           50.3,
           47,
           51.5,
           42.1,
           56.3,
           48,
           53.2,
           55.2,
           44.3,
           46.2,
           56.2,
           58.4
          ],
          "colorbar": {
           "title": {
            "text": "True Shooting"
           }
          },
          "colorscale": [
           [
            0,
            "#0d0887"
           ],
           [
            0.1111111111111111,
            "#46039f"
           ],
           [
            0.2222222222222222,
            "#7201a8"
           ],
           [
            0.3333333333333333,
            "#9c179e"
           ],
           [
            0.4444444444444444,
            "#bd3786"
           ],
           [
            0.5555555555555556,
            "#d8576b"
           ],
           [
            0.6666666666666666,
            "#ed7953"
           ],
           [
            0.7777777777777778,
            "#fb9f3a"
           ],
           [
            0.8888888888888888,
            "#fdca26"
           ],
           [
            1,
            "#f0f921"
           ]
          ],
          "size": [
           15.63076923076923,
           43.30769230769231,
           28.323076923076922,
           24.323076923076922,
           6.3538461538461535,
           19.784615384615385,
           18.092307692307692,
           12.476923076923077,
           35.95384615384615,
           19.53846153846154,
           6.861538461538461,
           24.523076923076925,
           40.87692307692308
          ]
         },
         "mode": "markers",
         "name": "POR",
         "text": [
          "Jim Brewer - POR",
          "Ron Brewer - POR",
          "T.R. Dunn - POR",
          "Bob Gross - POR",
          "Lionel Hollins - POR",
          "Abdul Jeelani - POR",
          "Maurice Lucas - POR",
          "Calvin Natt - POR",
          "Tom Owens - POR",
          "Jim Paxson - POR",
          "Larry Steele - POR",
          "Dave Twardzik - POR",
          "Kermit Washington - POR"
         ],
         "type": "scatter",
         "visible": false,
         "x": [
          9.3,
          22.2,
          14.9,
          16.6,
          23.5,
          27.9,
          24.3,
          30.7,
          26,
          17,
          15.9,
          17.3,
          19.7
         ],
         "y": [
          49.3,
          50.3,
          47,
          51.5,
          42.1,
          56.3,
          48,
          53.2,
          55.2,
          44.3,
          46.2,
          56.2,
          58.4
         ]
        },
        {
         "customdata": [
          -4.644935428660347,
          1.255064571339659,
          5.755064571339652,
          4.055064571339649,
          -5.844935428660349,
          1.4550645713396548,
          -6.344935428660342,
          -8.444935428660344,
          -0.44493542866034375
         ],
         "hovertemplate": "<b>%{text}</b><br><i>Points per 100 Possesions</i>: %{x:.2f}<br>True Shooting: %{y} <br>Relative True Shooting: %{customdata:.2f}<extra></extra></br>",
         "marker": {
          "cmax": 67.9,
          "cmin": 40.2,
          "color": [
           48.5,
           54.400000000000006,
           58.9,
           57.199999999999996,
           47.3,
           54.6,
           46.800000000000004,
           44.7,
           52.7
          ],
          "colorbar": {
           "title": {
            "text": "True Shooting"
           }
          },
          "colorscale": [
           [
            0,
            "#0d0887"
           ],
           [
            0.1111111111111111,
            "#46039f"
           ],
           [
            0.2222222222222222,
            "#7201a8"
           ],
           [
            0.3333333333333333,
            "#9c179e"
           ],
           [
            0.4444444444444444,
            "#bd3786"
           ],
           [
            0.5555555555555556,
            "#d8576b"
           ],
           [
            0.6666666666666666,
            "#ed7953"
           ],
           [
            0.7777777777777778,
            "#fb9f3a"
           ],
           [
            0.8888888888888888,
            "#fdca26"
           ],
           [
            1,
            "#f0f921"
           ]
          ],
          "size": [
           35.815384615384616,
           39.76923076923077,
           44,
           8.876923076923077,
           30.584615384615386,
           42.36923076923077,
           17.29230769230769,
           33.01538461538462,
           32.58461538461538
          ]
         },
         "mode": "markers",
         "name": "SDC",
         "text": [
          "Joe Bryant - SDC",
          "World B. Free - SDC",
          "Swen Nater - SDC",
          "Stan Pietkiewicz - SDC",
          "Bingo Smith - SDC",
          "Brian Taylor - SDC",
          "Nick Weatherspoon - SDC",
          "Sidney Wicks - SDC",
          "Freeman Williams - SDC"
         ],
         "type": "scatter",
         "visible": false,
         "x": [
          15.3,
          37.6,
          17.9,
          18.7,
          19.5,
          18.2,
          16.5,
          11.1,
          34.1
         ],
         "y": [
          48.5,
          54.400000000000006,
          58.9,
          57.199999999999996,
          47.3,
          54.6,
          46.800000000000004,
          44.7,
          52.7
         ]
        },
        {
         "customdata": [
          -3.4449354286603437,
          -0.44493542866034375,
          -3.744935428660348,
          -7.844935428660342,
          2.5550645713396563,
          4.655064571339651,
          -2.3449354286603494,
          -3.4449354286603437,
          -8.944935428660344,
          -0.44493542866034375,
          -0.9449354286603437
         ],
         "hovertemplate": "<b>%{text}</b><br><i>Points per 100 Possesions</i>: %{x:.2f}<br>True Shooting: %{y} <br>Relative True Shooting: %{customdata:.2f}<extra></extra></br>",
         "marker": {
          "cmax": 67.9,
          "cmin": 40.2,
          "color": [
           49.7,
           52.7,
           49.4,
           45.300000000000004,
           55.7,
           57.8,
           50.8,
           49.7,
           44.2,
           52.7,
           52.2
          ],
          "colorbar": {
           "title": {
            "text": "True Shooting"
           }
          },
          "colorscale": [
           [
            0,
            "#0d0887"
           ],
           [
            0.1111111111111111,
            "#46039f"
           ],
           [
            0.2222222222222222,
            "#7201a8"
           ],
           [
            0.3333333333333333,
            "#9c179e"
           ],
           [
            0.4444444444444444,
            "#bd3786"
           ],
           [
            0.5555555555555556,
            "#d8576b"
           ],
           [
            0.6666666666666666,
            "#ed7953"
           ],
           [
            0.7777777777777778,
            "#fb9f3a"
           ],
           [
            0.8888888888888888,
            "#fdca26"
           ],
           [
            1,
            "#f0f921"
           ]
          ],
          "size": [
           24.53846153846154,
           27.4,
           6.446153846153846,
           20.369230769230768,
           43.10769230769231,
           41.07692307692308,
           20.476923076923075,
           41.184615384615384,
           16.16923076923077,
           37.261538461538464,
           22.26153846153846
          ]
         },
         "mode": "markers",
         "name": "CLE",
         "text": [
          "Austin Carr - CLE",
          "Kenny Carr - CLE",
          "Don Ford - CLE",
          "John Lambert - CLE",
          "Mike Mitchell - CLE",
          "Dave Robisch - CLE",
          "Campy Russell - CLE",
          "Randy Smith - CLE",
          "Willie Smith - CLE",
          "Foots Walker - CLE",
          "Bill Willoughby - CLE"
         ],
         "type": "scatter",
         "visible": false,
         "x": [
          25.9,
          23.3,
          16.6,
          13.8,
          29.5,
          21.4,
          25.5,
          24.5,
          12.9,
          13.4,
          16.8
         ],
         "y": [
          49.7,
          52.7,
          49.4,
          45.300000000000004,
          55.7,
          57.8,
          50.8,
          49.7,
          44.2,
          52.7,
          52.2
         ]
        },
        {
         "customdata": [
          7.655064571339651,
          -0.5449354286603452,
          -6.344935428660342,
          2.5550645713396563,
          -10.644935428660347,
          2.955064571339662,
          1.755064571339659,
          -3.4449354286603437,
          -1.4449354286603437,
          1.4550645713396548,
          -9.744935428660348
         ],
         "hovertemplate": "<b>%{text}</b><br><i>Points per 100 Possesions</i>: %{x:.2f}<br>True Shooting: %{y} <br>Relative True Shooting: %{customdata:.2f}<extra></extra></br>",
         "marker": {
          "cmax": 67.9,
          "cmin": 40.2,
          "color": [
           60.8,
           52.6,
           46.800000000000004,
           55.7,
           42.5,
           56.10000000000001,
           54.900000000000006,
           49.7,
           51.7,
           54.6,
           43.4
          ],
          "colorbar": {
           "title": {
            "text": "True Shooting"
           }
          },
          "colorscale": [
           [
            0,
            "#0d0887"
           ],
           [
            0.1111111111111111,
            "#46039f"
           ],
           [
            0.2222222222222222,
            "#7201a8"
           ],
           [
            0.3333333333333333,
            "#9c179e"
           ],
           [
            0.4444444444444444,
            "#bd3786"
           ],
           [
            0.5555555555555556,
            "#d8576b"
           ],
           [
            0.6666666666666666,
            "#ed7953"
           ],
           [
            0.7777777777777778,
            "#fb9f3a"
           ],
           [
            0.8888888888888888,
            "#fdca26"
           ],
           [
            1,
            "#f0f921"
           ]
          ],
          "size": [
           48.46153846153846,
           17.56923076923077,
           28.8,
           12.307692307692308,
           14.2,
           45.30769230769231,
           24.076923076923077,
           9.738461538461538,
           47.07692307692308,
           39.723076923076924,
           8.553846153846154
          ]
         },
         "mode": "markers",
         "name": "NYK",
         "text": [
          "Bill Cartwright - NYK",
          "Hollis Copeland - NYK",
          "Larry Demic - NYK",
          "Mike Glenn - NYK",
          "Geoff Huston - NYK",
          "Toby Knight - NYK",
          "Joe Meriweather - NYK",
          "Earl Monroe* - NYK",
          "Micheal Ray Richardson - NYK",
          "Ray Williams - NYK",
          "Sly Williams - NYK"
         ],
         "type": "scatter",
         "visible": false,
         "x": [
          25.5,
          16.9,
          13.7,
          24.8,
          10.7,
          23.7,
          16.8,
          26.9,
          18.5,
          29.9,
          21.6
         ],
         "y": [
          60.8,
          52.6,
          46.800000000000004,
          55.7,
          42.5,
          56.10000000000001,
          54.900000000000006,
          49.7,
          51.7,
          54.6,
          43.4
         ]
        },
        {
         "customdata": [
          -3.1449354286603466,
          0.055064571339656254,
          -4.944935428660351,
          -8.744935428660348,
          2.3550645713396605,
          -4.744935428660348,
          0.6550645713396577,
          -9.144935428660347,
          0.8550645713396534,
          6.655064571339651,
          1.9550645713396548
         ],
         "hovertemplate": "<b>%{text}</b><br><i>Points per 100 Possesions</i>: %{x:.2f}<br>True Shooting: %{y} <br>Relative True Shooting: %{customdata:.2f}<extra></extra></br>",
         "marker": {
          "cmax": 67.9,
          "cmin": 40.2,
          "color": [
           50,
           53.2,
           48.199999999999996,
           44.4,
           55.50000000000001,
           48.4,
           53.800000000000004,
           44,
           54,
           59.8,
           55.1
          ],
          "colorbar": {
           "title": {
            "text": "True Shooting"
           }
          },
          "colorscale": [
           [
            0,
            "#0d0887"
           ],
           [
            0.1111111111111111,
            "#46039f"
           ],
           [
            0.2222222222222222,
            "#7201a8"
           ],
           [
            0.3333333333333333,
            "#9c179e"
           ],
           [
            0.4444444444444444,
            "#bd3786"
           ],
           [
            0.5555555555555556,
            "#d8576b"
           ],
           [
            0.6666666666666666,
            "#ed7953"
           ],
           [
            0.7777777777777778,
            "#fb9f3a"
           ],
           [
            0.8888888888888888,
            "#fdca26"
           ],
           [
            1,
            "#f0f921"
           ]
          ],
          "size": [
           27.6,
           35.47692307692308,
           6.2153846153846155,
           19.29230769230769,
           28.50769230769231,
           32.184615384615384,
           40.33846153846154,
           7.938461538461539,
           16.476923076923075,
           32.66153846153846,
           39.815384615384616
          ]
         },
         "mode": "markers",
         "name": "ATL",
         "text": [
          "Charlie Criss - ATL",
          "John Drew - ATL",
          "Terry Furlow - ATL",
          "Jack Givens - ATL",
          "Steve Hawes - ATL",
          "Armond Hill - ATL",
          "Eddie Johnson - ATL",
          "Jim McElroy - ATL",
          "Tom McMillen - ATL",
          "Tree Rollins - ATL",
          "Dan Roundfield - ATL"
         ],
         "type": "scatter",
         "visible": false,
         "x": [
          18.2,
          32.8,
          21.3,
          18.2,
          19.9,
          11.1,
          27.1,
          16.1,
          21,
          16.7,
          25
         ],
         "y": [
          50,
          53.2,
          48.199999999999996,
          44.4,
          55.50000000000001,
          48.4,
          53.800000000000004,
          44,
          54,
          59.8,
          55.1
         ]
        },
        {
         "customdata": [
          -4.644935428660347,
          -1.8449354286603423,
          5.555064571339649,
          8.955064571339655,
          -0.44493542866034375,
          1.4550645713396548,
          -0.9449354286603437,
          -6.544935428660345,
          1.6550645713396577,
          6.555064571339649,
          5.355064571339653
         ],
         "hovertemplate": "<b>%{text}</b><br><i>Points per 100 Possesions</i>: %{x:.2f}<br>True Shooting: %{y} <br>Relative True Shooting: %{customdata:.2f}<extra></extra></br>",
         "marker": {
          "cmax": 67.9,
          "cmin": 40.2,
          "color": [
           48.5,
           51.300000000000004,
           58.699999999999996,
           62.1,
           52.7,
           54.6,
           52.2,
           46.6,
           54.800000000000004,
           59.699999999999996,
           58.5
          ],
          "colorbar": {
           "title": {
            "text": "True Shooting"
           }
          },
          "colorscale": [
           [
            0,
            "#0d0887"
           ],
           [
            0.1111111111111111,
            "#46039f"
           ],
           [
            0.2222222222222222,
            "#7201a8"
           ],
           [
            0.3333333333333333,
            "#9c179e"
           ],
           [
            0.4444444444444444,
            "#bd3786"
           ],
           [
            0.5555555555555556,
            "#d8576b"
           ],
           [
            0.6666666666666666,
            "#ed7953"
           ],
           [
            0.7777777777777778,
            "#fb9f3a"
           ],
           [
            0.8888888888888888,
            "#fdca26"
           ],
           [
            1,
            "#f0f921"
           ]
          ],
          "size": [
           19.16923076923077,
           22.676923076923078,
           45.13846153846154,
           27.876923076923077,
           43.04615384615385,
           32.47692307692308,
           18.661538461538463,
           9.661538461538461,
           30.246153846153845,
           11.953846153846154,
           35.276923076923076
          ]
         },
         "mode": "markers",
         "name": "SAS",
         "text": [
          "Mike Evans - SAS",
          "Mike Gale - SAS",
          "George Gervin* - SAS",
          "Paul Griffin - SAS",
          "Larry Kenon - SAS",
          "Mark Olberding - SAS",
          "Billy Paultz - SAS",
          "Wiley Peck - SAS",
          "Kevin Restani - SAS",
          "John Shumate - SAS",
          "James Silas - SAS"
         ],
         "type": "scatter",
         "visible": false,
         "x": [
          17.1,
          13.1,
          38.6,
          12.6,
          24.5,
          16.5,
          16,
          12.6,
          19.5,
          22.1,
          26.1
         ],
         "y": [
          48.5,
          51.300000000000004,
          58.699999999999996,
          62.1,
          52.7,
          54.6,
          52.2,
          46.6,
          54.800000000000004,
          59.699999999999996,
          58.5
         ]
        }
       ],
       "layout": {
        "autosize": false,
        "font": {
         "size": 15
        },
        "height": 800,
        "shapes": [
         {
          "type": "line",
          "x0": 0,
          "x1": 1,
          "xref": "x domain",
          "y0": 53.14493542866035,
          "y1": 53.14493542866035,
          "yref": "y"
         }
        ],
        "showlegend": false,
        "template": {
         "data": {
          "bar": [
           {
            "error_x": {
             "color": "#2a3f5f"
            },
            "error_y": {
             "color": "#2a3f5f"
            },
            "marker": {
             "line": {
              "color": "#E5ECF6",
              "width": 0.5
             },
             "pattern": {
              "fillmode": "overlay",
              "size": 10,
              "solidity": 0.2
             }
            },
            "type": "bar"
           }
          ],
          "barpolar": [
           {
            "marker": {
             "line": {
              "color": "#E5ECF6",
              "width": 0.5
             },
             "pattern": {
              "fillmode": "overlay",
              "size": 10,
              "solidity": 0.2
             }
            },
            "type": "barpolar"
           }
          ],
          "carpet": [
           {
            "aaxis": {
             "endlinecolor": "#2a3f5f",
             "gridcolor": "white",
             "linecolor": "white",
             "minorgridcolor": "white",
             "startlinecolor": "#2a3f5f"
            },
            "baxis": {
             "endlinecolor": "#2a3f5f",
             "gridcolor": "white",
             "linecolor": "white",
             "minorgridcolor": "white",
             "startlinecolor": "#2a3f5f"
            },
            "type": "carpet"
           }
          ],
          "choropleth": [
           {
            "colorbar": {
             "outlinewidth": 0,
             "ticks": ""
            },
            "type": "choropleth"
           }
          ],
          "contour": [
           {
            "colorbar": {
             "outlinewidth": 0,
             "ticks": ""
            },
            "colorscale": [
             [
              0,
              "#0d0887"
             ],
             [
              0.1111111111111111,
              "#46039f"
             ],
             [
              0.2222222222222222,
              "#7201a8"
             ],
             [
              0.3333333333333333,
              "#9c179e"
             ],
             [
              0.4444444444444444,
              "#bd3786"
             ],
             [
              0.5555555555555556,
              "#d8576b"
             ],
             [
              0.6666666666666666,
              "#ed7953"
             ],
             [
              0.7777777777777778,
              "#fb9f3a"
             ],
             [
              0.8888888888888888,
              "#fdca26"
             ],
             [
              1,
              "#f0f921"
             ]
            ],
            "type": "contour"
           }
          ],
          "contourcarpet": [
           {
            "colorbar": {
             "outlinewidth": 0,
             "ticks": ""
            },
            "type": "contourcarpet"
           }
          ],
          "heatmap": [
           {
            "colorbar": {
             "outlinewidth": 0,
             "ticks": ""
            },
            "colorscale": [
             [
              0,
              "#0d0887"
             ],
             [
              0.1111111111111111,
              "#46039f"
             ],
             [
              0.2222222222222222,
              "#7201a8"
             ],
             [
              0.3333333333333333,
              "#9c179e"
             ],
             [
              0.4444444444444444,
              "#bd3786"
             ],
             [
              0.5555555555555556,
              "#d8576b"
             ],
             [
              0.6666666666666666,
              "#ed7953"
             ],
             [
              0.7777777777777778,
              "#fb9f3a"
             ],
             [
              0.8888888888888888,
              "#fdca26"
             ],
             [
              1,
              "#f0f921"
             ]
            ],
            "type": "heatmap"
           }
          ],
          "heatmapgl": [
           {
            "colorbar": {
             "outlinewidth": 0,
             "ticks": ""
            },
            "colorscale": [
             [
              0,
              "#0d0887"
             ],
             [
              0.1111111111111111,
              "#46039f"
             ],
             [
              0.2222222222222222,
              "#7201a8"
             ],
             [
              0.3333333333333333,
              "#9c179e"
             ],
             [
              0.4444444444444444,
              "#bd3786"
             ],
             [
              0.5555555555555556,
              "#d8576b"
             ],
             [
              0.6666666666666666,
              "#ed7953"
             ],
             [
              0.7777777777777778,
              "#fb9f3a"
             ],
             [
              0.8888888888888888,
              "#fdca26"
             ],
             [
              1,
              "#f0f921"
             ]
            ],
            "type": "heatmapgl"
           }
          ],
          "histogram": [
           {
            "marker": {
             "pattern": {
              "fillmode": "overlay",
              "size": 10,
              "solidity": 0.2
             }
            },
            "type": "histogram"
           }
          ],
          "histogram2d": [
           {
            "colorbar": {
             "outlinewidth": 0,
             "ticks": ""
            },
            "colorscale": [
             [
              0,
              "#0d0887"
             ],
             [
              0.1111111111111111,
              "#46039f"
             ],
             [
              0.2222222222222222,
              "#7201a8"
             ],
             [
              0.3333333333333333,
              "#9c179e"
             ],
             [
              0.4444444444444444,
              "#bd3786"
             ],
             [
              0.5555555555555556,
              "#d8576b"
             ],
             [
              0.6666666666666666,
              "#ed7953"
             ],
             [
              0.7777777777777778,
              "#fb9f3a"
             ],
             [
              0.8888888888888888,
              "#fdca26"
             ],
             [
              1,
              "#f0f921"
             ]
            ],
            "type": "histogram2d"
           }
          ],
          "histogram2dcontour": [
           {
            "colorbar": {
             "outlinewidth": 0,
             "ticks": ""
            },
            "colorscale": [
             [
              0,
              "#0d0887"
             ],
             [
              0.1111111111111111,
              "#46039f"
             ],
             [
              0.2222222222222222,
              "#7201a8"
             ],
             [
              0.3333333333333333,
              "#9c179e"
             ],
             [
              0.4444444444444444,
              "#bd3786"
             ],
             [
              0.5555555555555556,
              "#d8576b"
             ],
             [
              0.6666666666666666,
              "#ed7953"
             ],
             [
              0.7777777777777778,
              "#fb9f3a"
             ],
             [
              0.8888888888888888,
              "#fdca26"
             ],
             [
              1,
              "#f0f921"
             ]
            ],
            "type": "histogram2dcontour"
           }
          ],
          "mesh3d": [
           {
            "colorbar": {
             "outlinewidth": 0,
             "ticks": ""
            },
            "type": "mesh3d"
           }
          ],
          "parcoords": [
           {
            "line": {
             "colorbar": {
              "outlinewidth": 0,
              "ticks": ""
             }
            },
            "type": "parcoords"
           }
          ],
          "pie": [
           {
            "automargin": true,
            "type": "pie"
           }
          ],
          "scatter": [
           {
            "fillpattern": {
             "fillmode": "overlay",
             "size": 10,
             "solidity": 0.2
            },
            "type": "scatter"
           }
          ],
          "scatter3d": [
           {
            "line": {
             "colorbar": {
              "outlinewidth": 0,
              "ticks": ""
             }
            },
            "marker": {
             "colorbar": {
              "outlinewidth": 0,
              "ticks": ""
             }
            },
            "type": "scatter3d"
           }
          ],
          "scattercarpet": [
           {
            "marker": {
             "colorbar": {
              "outlinewidth": 0,
              "ticks": ""
             }
            },
            "type": "scattercarpet"
           }
          ],
          "scattergeo": [
           {
            "marker": {
             "colorbar": {
              "outlinewidth": 0,
              "ticks": ""
             }
            },
            "type": "scattergeo"
           }
          ],
          "scattergl": [
           {
            "marker": {
             "colorbar": {
              "outlinewidth": 0,
              "ticks": ""
             }
            },
            "type": "scattergl"
           }
          ],
          "scattermapbox": [
           {
            "marker": {
             "colorbar": {
              "outlinewidth": 0,
              "ticks": ""
             }
            },
            "type": "scattermapbox"
           }
          ],
          "scatterpolar": [
           {
            "marker": {
             "colorbar": {
              "outlinewidth": 0,
              "ticks": ""
             }
            },
            "type": "scatterpolar"
           }
          ],
          "scatterpolargl": [
           {
            "marker": {
             "colorbar": {
              "outlinewidth": 0,
              "ticks": ""
             }
            },
            "type": "scatterpolargl"
           }
          ],
          "scatterternary": [
           {
            "marker": {
             "colorbar": {
              "outlinewidth": 0,
              "ticks": ""
             }
            },
            "type": "scatterternary"
           }
          ],
          "surface": [
           {
            "colorbar": {
             "outlinewidth": 0,
             "ticks": ""
            },
            "colorscale": [
             [
              0,
              "#0d0887"
             ],
             [
              0.1111111111111111,
              "#46039f"
             ],
             [
              0.2222222222222222,
              "#7201a8"
             ],
             [
              0.3333333333333333,
              "#9c179e"
             ],
             [
              0.4444444444444444,
              "#bd3786"
             ],
             [
              0.5555555555555556,
              "#d8576b"
             ],
             [
              0.6666666666666666,
              "#ed7953"
             ],
             [
              0.7777777777777778,
              "#fb9f3a"
             ],
             [
              0.8888888888888888,
              "#fdca26"
             ],
             [
              1,
              "#f0f921"
             ]
            ],
            "type": "surface"
           }
          ],
          "table": [
           {
            "cells": {
             "fill": {
              "color": "#EBF0F8"
             },
             "line": {
              "color": "white"
             }
            },
            "header": {
             "fill": {
              "color": "#C8D4E3"
             },
             "line": {
              "color": "white"
             }
            },
            "type": "table"
           }
          ]
         },
         "layout": {
          "annotationdefaults": {
           "arrowcolor": "#2a3f5f",
           "arrowhead": 0,
           "arrowwidth": 1
          },
          "autotypenumbers": "strict",
          "coloraxis": {
           "colorbar": {
            "outlinewidth": 0,
            "ticks": ""
           }
          },
          "colorscale": {
           "diverging": [
            [
             0,
             "#8e0152"
            ],
            [
             0.1,
             "#c51b7d"
            ],
            [
             0.2,
             "#de77ae"
            ],
            [
             0.3,
             "#f1b6da"
            ],
            [
             0.4,
             "#fde0ef"
            ],
            [
             0.5,
             "#f7f7f7"
            ],
            [
             0.6,
             "#e6f5d0"
            ],
            [
             0.7,
             "#b8e186"
            ],
            [
             0.8,
             "#7fbc41"
            ],
            [
             0.9,
             "#4d9221"
            ],
            [
             1,
             "#276419"
            ]
           ],
           "sequential": [
            [
             0,
             "#0d0887"
            ],
            [
             0.1111111111111111,
             "#46039f"
            ],
            [
             0.2222222222222222,
             "#7201a8"
            ],
            [
             0.3333333333333333,
             "#9c179e"
            ],
            [
             0.4444444444444444,
             "#bd3786"
            ],
            [
             0.5555555555555556,
             "#d8576b"
            ],
            [
             0.6666666666666666,
             "#ed7953"
            ],
            [
             0.7777777777777778,
             "#fb9f3a"
            ],
            [
             0.8888888888888888,
             "#fdca26"
            ],
            [
             1,
             "#f0f921"
            ]
           ],
           "sequentialminus": [
            [
             0,
             "#0d0887"
            ],
            [
             0.1111111111111111,
             "#46039f"
            ],
            [
             0.2222222222222222,
             "#7201a8"
            ],
            [
             0.3333333333333333,
             "#9c179e"
            ],
            [
             0.4444444444444444,
             "#bd3786"
            ],
            [
             0.5555555555555556,
             "#d8576b"
            ],
            [
             0.6666666666666666,
             "#ed7953"
            ],
            [
             0.7777777777777778,
             "#fb9f3a"
            ],
            [
             0.8888888888888888,
             "#fdca26"
            ],
            [
             1,
             "#f0f921"
            ]
           ]
          },
          "colorway": [
           "#636efa",
           "#EF553B",
           "#00cc96",
           "#ab63fa",
           "#FFA15A",
           "#19d3f3",
           "#FF6692",
           "#B6E880",
           "#FF97FF",
           "#FECB52"
          ],
          "font": {
           "color": "#2a3f5f"
          },
          "geo": {
           "bgcolor": "white",
           "lakecolor": "white",
           "landcolor": "#E5ECF6",
           "showlakes": true,
           "showland": true,
           "subunitcolor": "white"
          },
          "hoverlabel": {
           "align": "left"
          },
          "hovermode": "closest",
          "mapbox": {
           "style": "light"
          },
          "paper_bgcolor": "white",
          "plot_bgcolor": "#E5ECF6",
          "polar": {
           "angularaxis": {
            "gridcolor": "white",
            "linecolor": "white",
            "ticks": ""
           },
           "bgcolor": "#E5ECF6",
           "radialaxis": {
            "gridcolor": "white",
            "linecolor": "white",
            "ticks": ""
           }
          },
          "scene": {
           "xaxis": {
            "backgroundcolor": "#E5ECF6",
            "gridcolor": "white",
            "gridwidth": 2,
            "linecolor": "white",
            "showbackground": true,
            "ticks": "",
            "zerolinecolor": "white"
           },
           "yaxis": {
            "backgroundcolor": "#E5ECF6",
            "gridcolor": "white",
            "gridwidth": 2,
            "linecolor": "white",
            "showbackground": true,
            "ticks": "",
            "zerolinecolor": "white"
           },
           "zaxis": {
            "backgroundcolor": "#E5ECF6",
            "gridcolor": "white",
            "gridwidth": 2,
            "linecolor": "white",
            "showbackground": true,
            "ticks": "",
            "zerolinecolor": "white"
           }
          },
          "shapedefaults": {
           "line": {
            "color": "#2a3f5f"
           }
          },
          "ternary": {
           "aaxis": {
            "gridcolor": "white",
            "linecolor": "white",
            "ticks": ""
           },
           "baxis": {
            "gridcolor": "white",
            "linecolor": "white",
            "ticks": ""
           },
           "bgcolor": "#E5ECF6",
           "caxis": {
            "gridcolor": "white",
            "linecolor": "white",
            "ticks": ""
           }
          },
          "title": {
           "x": 0.05
          },
          "xaxis": {
           "automargin": true,
           "gridcolor": "white",
           "linecolor": "white",
           "ticks": "",
           "title": {
            "standoff": 15
           },
           "zerolinecolor": "white",
           "zerolinewidth": 2
          },
          "yaxis": {
           "automargin": true,
           "gridcolor": "white",
           "linecolor": "white",
           "ticks": "",
           "title": {
            "standoff": 15
           },
           "zerolinecolor": "white",
           "zerolinewidth": 2
          }
         }
        },
        "title": {
         "text": "1980 Season",
         "x": 0.5,
         "xanchor": "center",
         "y": 0.95,
         "yanchor": "top"
        },
        "updatemenus": [
         {
          "active": 0,
          "buttons": [
           {
            "args": [
             {
              "visible": [
               true,
               false,
               false,
               false,
               false,
               false,
               false,
               false,
               false,
               false,
               false,
               false,
               false,
               false,
               false,
               false,
               false,
               false,
               false,
               false,
               false,
               false,
               false,
               false
              ]
             },
             {
              "showlegend": false,
              "title": "All"
             }
            ],
            "label": "all_teams",
            "method": "update"
           },
           {
            "args": [
             {
              "visible": [
               false,
               true,
               false,
               false,
               false,
               false,
               false,
               false,
               false,
               false,
               false,
               false,
               false,
               false,
               false,
               false,
               false,
               false,
               false,
               false,
               false,
               false,
               false,
               false
              ]
             },
             {
              "showlegend": false,
              "title": "1980 LAL"
             }
            ],
            "label": "LAL",
            "method": "update"
           },
           {
            "args": [
             {
              "visible": [
               false,
               false,
               true,
               false,
               false,
               false,
               false,
               false,
               false,
               false,
               false,
               false,
               false,
               false,
               false,
               false,
               false,
               false,
               false,
               false,
               false,
               false,
               false,
               false
              ]
             },
             {
              "showlegend": false,
              "title": "1980 GSW"
             }
            ],
            "label": "GSW",
            "method": "update"
           },
           {
            "args": [
             {
              "visible": [
               false,
               false,
               false,
               true,
               false,
               false,
               false,
               false,
               false,
               false,
               false,
               false,
               false,
               false,
               false,
               false,
               false,
               false,
               false,
               false,
               false,
               false,
               false,
               false
              ]
             },
             {
              "showlegend": false,
              "title": "1980 PHO"
             }
            ],
            "label": "PHO",
            "method": "update"
           },
           {
            "args": [
             {
              "visible": [
               false,
               false,
               false,
               false,
               true,
               false,
               false,
               false,
               false,
               false,
               false,
               false,
               false,
               false,
               false,
               false,
               false,
               false,
               false,
               false,
               false,
               false,
               false,
               false
              ]
             },
             {
              "showlegend": false,
              "title": "1980 BOS"
             }
            ],
            "label": "BOS",
            "method": "update"
           },
           {
            "args": [
             {
              "visible": [
               false,
               false,
               false,
               false,
               false,
               true,
               false,
               false,
               false,
               false,
               false,
               false,
               false,
               false,
               false,
               false,
               false,
               false,
               false,
               false,
               false,
               false,
               false,
               false
              ]
             },
             {
              "showlegend": false,
              "title": "1980 CHI"
             }
            ],
            "label": "CHI",
            "method": "update"
           },
           {
            "args": [
             {
              "visible": [
               false,
               false,
               false,
               false,
               false,
               false,
               true,
               false,
               false,
               false,
               false,
               false,
               false,
               false,
               false,
               false,
               false,
               false,
               false,
               false,
               false,
               false,
               false,
               false
              ]
             },
             {
              "showlegend": false,
              "title": "1980 SEA"
             }
            ],
            "label": "SEA",
            "method": "update"
           },
           {
            "args": [
             {
              "visible": [
               false,
               false,
               false,
               false,
               false,
               false,
               false,
               true,
               false,
               false,
               false,
               false,
               false,
               false,
               false,
               false,
               false,
               false,
               false,
               false,
               false,
               false,
               false,
               false
              ]
             },
             {
              "showlegend": false,
              "title": "1980 WSB"
             }
            ],
            "label": "WSB",
            "method": "update"
           },
           {
            "args": [
             {
              "visible": [
               false,
               false,
               false,
               false,
               false,
               false,
               false,
               false,
               true,
               false,
               false,
               false,
               false,
               false,
               false,
               false,
               false,
               false,
               false,
               false,
               false,
               false,
               false,
               false
              ]
             },
             {
              "showlegend": false,
              "title": "1980 IND"
             }
            ],
            "label": "IND",
            "method": "update"
           },
           {
            "args": [
             {
              "visible": [
               false,
               false,
               false,
               false,
               false,
               false,
               false,
               false,
               false,
               true,
               false,
               false,
               false,
               false,
               false,
               false,
               false,
               false,
               false,
               false,
               false,
               false,
               false,
               false
              ]
             },
             {
              "showlegend": false,
              "title": "1980 HOU"
             }
            ],
            "label": "HOU",
            "method": "update"
           },
           {
            "args": [
             {
              "visible": [
               false,
               false,
               false,
               false,
               false,
               false,
               false,
               false,
               false,
               false,
               true,
               false,
               false,
               false,
               false,
               false,
               false,
               false,
               false,
               false,
               false,
               false,
               false,
               false
              ]
             },
             {
              "showlegend": false,
              "title": "1980 TOT"
             }
            ],
            "label": "TOT",
            "method": "update"
           },
           {
            "args": [
             {
              "visible": [
               false,
               false,
               false,
               false,
               false,
               false,
               false,
               false,
               false,
               false,
               false,
               true,
               false,
               false,
               false,
               false,
               false,
               false,
               false,
               false,
               false,
               false,
               false,
               false
              ]
             },
             {
              "showlegend": false,
              "title": "1980 MIL"
             }
            ],
            "label": "MIL",
            "method": "update"
           },
           {
            "args": [
             {
              "visible": [
               false,
               false,
               false,
               false,
               false,
               false,
               false,
               false,
               false,
               false,
               false,
               false,
               true,
               false,
               false,
               false,
               false,
               false,
               false,
               false,
               false,
               false,
               false,
               false
              ]
             },
             {
              "showlegend": false,
              "title": "1980 DET"
             }
            ],
            "label": "DET",
            "method": "update"
           },
           {
            "args": [
             {
              "visible": [
               false,
               false,
               false,
               false,
               false,
               false,
               false,
               false,
               false,
               false,
               false,
               false,
               false,
               true,
               false,
               false,
               false,
               false,
               false,
               false,
               false,
               false,
               false,
               false
              ]
             },
             {
              "showlegend": false,
              "title": "1980 PHI"
             }
            ],
            "label": "PHI",
            "method": "update"
           },
           {
            "args": [
             {
              "visible": [
               false,
               false,
               false,
               false,
               false,
               false,
               false,
               false,
               false,
               false,
               false,
               false,
               false,
               false,
               true,
               false,
               false,
               false,
               false,
               false,
               false,
               false,
               false,
               false
              ]
             },
             {
              "showlegend": false,
              "title": "1980 KCK"
             }
            ],
            "label": "KCK",
            "method": "update"
           },
           {
            "args": [
             {
              "visible": [
               false,
               false,
               false,
               false,
               false,
               false,
               false,
               false,
               false,
               false,
               false,
               false,
               false,
               false,
               false,
               true,
               false,
               false,
               false,
               false,
               false,
               false,
               false,
               false
              ]
             },
             {
              "showlegend": false,
              "title": "1980 UTA"
             }
            ],
            "label": "UTA",
            "method": "update"
           },
           {
            "args": [
             {
              "visible": [
               false,
               false,
               false,
               false,
               false,
               false,
               false,
               false,
               false,
               false,
               false,
               false,
               false,
               false,
               false,
               false,
               true,
               false,
               false,
               false,
               false,
               false,
               false,
               false
              ]
             },
             {
              "showlegend": false,
              "title": "1980 DEN"
             }
            ],
            "label": "DEN",
            "method": "update"
           },
           {
            "args": [
             {
              "visible": [
               false,
               false,
               false,
               false,
               false,
               false,
               false,
               false,
               false,
               false,
               false,
               false,
               false,
               false,
               false,
               false,
               false,
               true,
               false,
               false,
               false,
               false,
               false,
               false
              ]
             },
             {
              "showlegend": false,
              "title": "1980 NJN"
             }
            ],
            "label": "NJN",
            "method": "update"
           },
           {
            "args": [
             {
              "visible": [
               false,
               false,
               false,
               false,
               false,
               false,
               false,
               false,
               false,
               false,
               false,
               false,
               false,
               false,
               false,
               false,
               false,
               false,
               true,
               false,
               false,
               false,
               false,
               false
              ]
             },
             {
              "showlegend": false,
              "title": "1980 POR"
             }
            ],
            "label": "POR",
            "method": "update"
           },
           {
            "args": [
             {
              "visible": [
               false,
               false,
               false,
               false,
               false,
               false,
               false,
               false,
               false,
               false,
               false,
               false,
               false,
               false,
               false,
               false,
               false,
               false,
               false,
               true,
               false,
               false,
               false,
               false
              ]
             },
             {
              "showlegend": false,
              "title": "1980 SDC"
             }
            ],
            "label": "SDC",
            "method": "update"
           },
           {
            "args": [
             {
              "visible": [
               false,
               false,
               false,
               false,
               false,
               false,
               false,
               false,
               false,
               false,
               false,
               false,
               false,
               false,
               false,
               false,
               false,
               false,
               false,
               false,
               true,
               false,
               false,
               false
              ]
             },
             {
              "showlegend": false,
              "title": "1980 CLE"
             }
            ],
            "label": "CLE",
            "method": "update"
           },
           {
            "args": [
             {
              "visible": [
               false,
               false,
               false,
               false,
               false,
               false,
               false,
               false,
               false,
               false,
               false,
               false,
               false,
               false,
               false,
               false,
               false,
               false,
               false,
               false,
               false,
               true,
               false,
               false
              ]
             },
             {
              "showlegend": false,
              "title": "1980 NYK"
             }
            ],
            "label": "NYK",
            "method": "update"
           },
           {
            "args": [
             {
              "visible": [
               false,
               false,
               false,
               false,
               false,
               false,
               false,
               false,
               false,
               false,
               false,
               false,
               false,
               false,
               false,
               false,
               false,
               false,
               false,
               false,
               false,
               false,
               true,
               false
              ]
             },
             {
              "showlegend": false,
              "title": "1980 ATL"
             }
            ],
            "label": "ATL",
            "method": "update"
           },
           {
            "args": [
             {
              "visible": [
               false,
               false,
               false,
               false,
               false,
               false,
               false,
               false,
               false,
               false,
               false,
               false,
               false,
               false,
               false,
               false,
               false,
               false,
               false,
               false,
               false,
               false,
               false,
               true
              ]
             },
             {
              "showlegend": false,
              "title": "1980 SAS"
             }
            ],
            "label": "SAS",
            "method": "update"
           }
          ],
          "direction": "down",
          "pad": {
           "r": 10,
           "t": 10
          },
          "showactive": true
         }
        ],
        "width": 1000,
        "xaxis": {
         "range": [
          0,
          50
         ],
         "tickvals": [
          5,
          10,
          15,
          20,
          25,
          30,
          35,
          40,
          45
         ],
         "title": {
          "text": "Points per 100 Possesions"
         },
         "type": "linear"
        },
        "yaxis": {
         "range": [
          37,
          69
         ],
         "tickvals": [
          37,
          42,
          47,
          52,
          57,
          62,
          67
         ],
         "type": "linear"
        }
       }
      },
      "image/png": "[encoded data removed]",
      "text/html": [
       "<div>                            <div id=\"da1286a3-911d-4021-9b54-7b85dfc9f071\" class=\"plotly-graph-div\" style=\"height:800px; width:1000px;\"></div>            <script type=\"text/javascript\">                require([\"plotly\"], function(Plotly) {                    window.PLOTLYENV=window.PLOTLYENV || {};                                    if (document.getElementById(\"da1286a3-911d-4021-9b54-7b85dfc9f071\")) {                    Plotly.newPlot(                        \"da1286a3-911d-4021-9b54-7b85dfc9f071\",                        [{\"customdata\":[10.755064571339652,-2.044935428660345,3.9550645713396477,4.255064571339652,-0.7449354286603409,-3.6449354286603466,0.055064571339656254,0.15506457133965768,-1.4449354286603437,-1.244935428660348,-3.244935428660348,-10.84493542866035,-4.044935428660345,0.6550645713396577,0.6550645713396577,-2.544935428660345,8.05506457133965,8.555064571339656,-1.3449354286603423,-2.9449354286603437,-6.944935428660344,-3.8449354286603494,-2.8449354286603494,-0.8449354286603423,0.2550645713396591,0.055064571339656254,-4.644935428660347,-3.044935428660345,-4.644935428660347,1.755064571339659,-3.4449354286603437,-0.44493542866034375,-0.5449354286603452,7.655064571339651,-10.244935428660348,-12.944935428660344,5.755064571339652,-9.644935428660347,-1.0449354286603452,-0.8449354286603423,0.15506457133965768,1.4550645713396548,3.1550645713396506,-0.6449354286603466,-0.5449354286603452,-7.444935428660344,-5.444935428660351,-3.1449354286603466,2.0550645713396563,-3.9449354286603437,10.355064571339653,-3.6449354286603466,7.655064571339651,1.6550645713396577,-3.9449354286603437,-6.344935428660342,-3.744935428660348,-0.2449354286603409,0.055064571339656254,-3.3449354286603494,1.0550645713396563,-6.144935428660347,1.3550645713396605,-1.0449354286603452,-2.3449354286603494,-5.944935428660351,0.7550645713396591,-0.04493542866034517,3.6550645713396506,-4.644935428660347,-3.4449354286603437,0.5550645713396563,1.3550645713396605,-3.744935428660348,0.2550645713396591,1.255064571339659,-4.944935428660351,-0.1449354286603466,-1.8449354286603423,-7.744935428660348,-4.044935428660345,5.555064571339649,11.15506457133965,-8.744935428660348,2.5550645713396563,4.355064571339646,-7.544935428660345,0.9550645713396548,-3.244935428660348,8.955064571339655,-1.6449354286603466,-3.544935428660345,-5.944935428660351,0.45506457133965483,-3.044935428660345,2.3550645713396605,-3.9449354286603437,0.8550645713396534,-7.844935428660342,0.7550645713396591,-2.1449354286603466,-2.1449354286603466,-4.744935428660348,-5.744935428660348,-11.044935428660345,-6.344935428660342,0.2550645713396591,-3.3449354286603494,-10.644935428660347,3.9550645713396477,3.1550645713396506,-0.44493542866034375,-4.244935428660348,0.6550645713396577,-4.244935428660348,-0.7449354286603409,0.055064571339656254,7.055064571339649,5.355064571339653,-0.3449354286603423,0.2550645713396591,5.855064571339653,-4.944935428660351,4.855064571339646,-3.3449354286603494,-5.044935428660345,3.555064571339649,2.755064571339659,-1.1449354286603466,-0.44493542866034375,0.2550645713396591,3.3550645713396463,5.755064571339652,2.955064571339662,1.5550645713396563,-4.944935428660351,-4.144935428660347,-1.0449354286603452,-7.844935428660342,0.9550645713396548,6.155064571339651,5.755064571339652,2.8550645713396605,-5.744935428660348,0.3550645713396534,-0.3449354286603423,-5.144935428660347,1.6550645713396577,2.8550645713396605,2.8550645713396605,-7.244935428660348,1.5550645713396563,14.755064571339659,-2.4449354286603437,-0.7449354286603409,-1.4449354286603437,-9.144935428660347,-4.244935428660348,-4.844935428660349,-2.9449354286603437,0.8550645713396534,1.755064571339659,-2.244935428660348,2.5550645713396563,4.555064571339649,3.255064571339645,0.7550645713396591,-3.4449354286603437,1.1550645713396577,5.755064571339652,-1.1449354286603466,0.055064571339656254,0.8550645713396534,1.6550645713396577,1.4550645713396548,2.0550645713396563,0.9550645713396548,0.5550645713396563,-0.9449354286603437,-4.544935428660345,-8.84493542866035,-6.544935428660345,-0.44493542866034375,1.9550645713396548,4.055064571339649,4.055064571339649,-1.744935428660348,1.4550645713396548,-1.1449354286603466,1.6550645713396577,-5.944935428660351,-1.4449354286603437,-10.44493542866035,2.5550645713396563,-2.544935428660345,2.1550645713396577,1.6550645713396577,4.655064571339651,3.0550645713396563,6.655064571339651,1.9550645713396548,-2.3449354286603494,-3.8449354286603494,-9.944935428660344,3.8550645713396463,0.2550645713396591,6.555064571339649,-0.5449354286603452,5.355064571339653,-9.244935428660348,-5.844935428660349,-1.0449354286603452,-3.4449354286603437,-0.2449354286603409,-2.9449354286603437,-8.944935428660344,-0.7449354286603409,1.3550645713396605,-6.944935428660344,1.4550645713396548,4.755064571339652,1.755064571339659,-0.9449354286603437,-8.84493542866035,3.0550645713396563,-3.244935428660348,1.3550645713396605,0.15506457133965768,-0.44493542866034375,0.7550645713396591,-3.744935428660348,5.255064571339652,-4.744935428660348,-6.344935428660342,0.9550645713396548,6.155064571339651,-2.244935428660348,-8.444935428660344,-7.344935428660342,3.1550645713396506,-6.744935428660341,-0.44493542866034375,-0.2449354286603409,1.4550645713396548,-9.744935428660348,-3.544935428660345,-6.944935428660344,-0.9449354286603437,0.2550645713396591,-2.1449354286603466],\"hovertemplate\":\"<b>%{text}</b><br><i>Points per 100 Possesions</i>: %{x:.2f}<br>True Shooting: %{y} <br>Relative True Shooting: %{customdata:.2f}<extra></extra></br>\",\"marker\":{\"cmax\":67.9,\"cmin\":40.2,\"color\":[63.9,51.1,57.099999999999994,57.4,52.400000000000006,49.5,53.2,53.300000000000004,51.7,51.9,49.9,42.3,49.1,53.800000000000004,53.800000000000004,50.6,61.199999999999996,61.7,51.800000000000004,50.2,46.2,49.3,50.3,52.300000000000004,53.400000000000006,53.2,48.5,50.1,48.5,54.900000000000006,49.7,52.7,52.6,60.8,42.9,40.2,58.9,43.5,52.1,52.300000000000004,53.300000000000004,54.6,56.3,52.5,52.6,45.7,47.699999999999996,50.0,55.2,49.2,63.5,49.5,60.8,54.800000000000004,49.2,46.800000000000004,49.4,52.900000000000006,53.2,49.8,54.2,47.0,54.50000000000001,52.1,50.8,47.199999999999996,53.900000000000006,53.1,56.8,48.5,49.7,53.7,54.50000000000001,49.4,53.400000000000006,54.400000000000006,48.199999999999996,53.0,51.300000000000004,45.4,49.1,58.699999999999996,64.3,44.4,55.7,57.49999999999999,45.6,54.1,49.9,62.1,51.5,49.6,47.199999999999996,53.6,50.1,55.50000000000001,49.2,54.0,45.300000000000004,53.900000000000006,51.0,51.0,48.4,47.4,42.1,46.800000000000004,53.400000000000006,49.8,42.5,57.099999999999994,56.3,52.7,48.9,53.800000000000004,48.9,52.400000000000006,53.2,60.199999999999996,58.5,52.800000000000004,53.400000000000006,59.0,48.199999999999996,57.99999999999999,49.8,48.1,56.699999999999996,55.900000000000006,52.0,52.7,53.400000000000006,56.49999999999999,58.9,56.10000000000001,54.7,48.199999999999996,49.0,52.1,45.300000000000004,54.1,59.3,58.9,56.00000000000001,47.4,53.5,52.800000000000004,48.0,54.800000000000004,56.00000000000001,56.00000000000001,45.9,54.7,67.9,50.7,52.400000000000006,51.7,44.0,48.9,48.3,50.2,54.0,54.900000000000006,50.9,55.7,57.699999999999996,56.39999999999999,53.900000000000006,49.7,54.300000000000004,58.9,52.0,53.2,54.0,54.800000000000004,54.6,55.2,54.1,53.7,52.2,48.6,44.3,46.6,52.7,55.1,57.199999999999996,57.199999999999996,51.4,54.6,52.0,54.800000000000004,47.199999999999996,51.7,42.699999999999996,55.7,50.6,55.300000000000004,54.800000000000004,57.8,56.2,59.8,55.1,50.8,49.3,43.2,56.99999999999999,53.400000000000006,59.699999999999996,52.6,58.5,43.9,47.3,52.1,49.7,52.900000000000006,50.2,44.2,52.400000000000006,54.50000000000001,46.2,54.6,57.9,54.900000000000006,52.2,44.3,56.2,49.9,54.50000000000001,53.300000000000004,52.7,53.900000000000006,49.4,58.4,48.4,46.800000000000004,54.1,59.3,50.9,44.7,45.800000000000004,56.3,46.400000000000006,52.7,52.900000000000006,54.6,43.4,49.6,46.2,52.2,53.400000000000006,51.0],\"colorbar\":{\"title\":{\"text\":\"True Shooting %\"}},\"colorscale\":[[0.0,\"#0d0887\"],[0.1111111111111111,\"#46039f\"],[0.2222222222222222,\"#7201a8\"],[0.3333333333333333,\"#9c179e\"],[0.4444444444444444,\"#bd3786\"],[0.5555555555555556,\"#d8576b\"],[0.6666666666666666,\"#ed7953\"],[0.7777777777777778,\"#fb9f3a\"],[0.8888888888888888,\"#fdca26\"],[1.0,\"#f0f921\"]],\"size\":[48.353846153846156,18.8,33.353846153846156,44.06153846153846,8.615384615384615,11.169230769230769,37.50769230769231,35.84615384615385,27.93846153846154,21.369230769230768,7.723076923076923,13.36923076923077,31.307692307692307,45.46153846153846,44.38461538461539,35.16923076923077,8.03076923076923,23.923076923076923,16.953846153846154,31.184615384615384,24.446153846153845,15.63076923076923,43.30769230769231,35.63076923076923,35.44615384615385,26.16923076923077,35.815384615384616,26.0,38.44615384615385,11.876923076923077,24.53846153846154,27.4,30.676923076923078,48.46153846153846,21.015384615384615,8.046153846153846,40.353846153846156,7.230769230769231,36.83076923076923,23.615384615384617,14.815384615384616,13.907692307692308,30.353846153846153,27.4,17.56923076923077,12.707692307692307,33.215384615384615,27.6,13.846153846153847,22.415384615384614,41.13846153846154,44.8,35.52307692307692,39.09230769230769,11.938461538461539,28.8,28.153846153846153,27.415384615384614,35.47692307692308,20.476923076923075,15.938461538461539,28.323076923076922,35.6,11.107692307692307,7.723076923076923,14.076923076923077,23.476923076923075,13.461538461538462,43.261538461538464,19.16923076923077,6.630769230769231,32.53846153846154,8.923076923076923,6.446153846153846,40.323076923076925,39.76923076923077,6.2153846153846155,26.43076923076923,22.676923076923078,17.015384615384615,13.36923076923077,45.13846153846154,24.123076923076923,19.29230769230769,12.307692307692308,15.692307692307692,7.061538461538461,42.93846153846154,27.96923076923077,27.876923076923077,24.323076923076922,21.49230769230769,17.16923076923077,24.615384615384617,17.46153846153846,28.50769230769231,48.96923076923077,23.753846153846155,21.584615384615386,16.323076923076922,23.861538461538462,17.246153846153845,32.184615384615384,10.892307692307693,6.3538461538461535,12.246153846153845,18.29230769230769,18.584615384615386,14.2,45.2,19.784615384615385,23.70769230769231,45.184615384615384,40.33846153846154,32.6,29.815384615384616,38.96923076923077,43.0,41.323076923076925,40.723076923076924,23.615384615384617,32.69230769230769,42.63076923076923,18.0,23.76923076923077,40.87692307692308,10.36923076923077,22.553846153846155,18.96923076923077,43.04615384615385,6.446153846153846,31.56923076923077,29.384615384615383,45.30769230769231,10.938461538461539,6.938461538461539,37.10769230769231,17.907692307692308,20.369230769230768,17.476923076923075,21.415384615384614,11.36923076923077,32.66153846153846,12.353846153846154,36.36923076923077,42.50769230769231,18.092307692307692,10.892307692307693,8.092307692307692,48.30769230769231,8.03076923076923,6.8,42.215384615384615,19.96923076923077,32.261538461538464,15.569230769230769,7.938461538461539,21.907692307692308,12.061538461538461,20.50769230769231,16.476923076923075,24.076923076923077,33.90769230769231,43.10769230769231,23.73846153846154,23.953846153846154,22.56923076923077,9.738461538461538,41.16923076923077,44.0,31.476923076923075,12.476923076923077,38.61538461538461,49.63076923076923,32.47692307692308,35.95384615384615,32.6,43.83076923076923,18.661538461538463,15.076923076923077,19.53846153846154,9.661538461538461,14.938461538461539,8.323076923076924,8.876923076923077,36.13846153846154,22.984615384615385,25.892307692307693,35.44615384615385,30.246153846153845,15.2,47.07692307692308,7.476923076923077,29.50769230769231,25.553846153846155,41.69230769230769,29.49230769230769,41.07692307692308,35.16923076923077,32.66153846153846,39.815384615384616,20.476923076923075,20.046153846153846,28.615384615384617,34.50769230769231,25.16923076923077,11.953846153846154,42.96923076923077,35.276923076923076,24.53846153846154,30.584615384615386,23.876923076923077,41.184615384615384,11.323076923076924,7.630769230769231,16.16923076923077,41.12307692307692,6.8,6.861538461538461,42.36923076923077,46.6,19.06153846153846,28.215384615384615,17.83076923076923,24.523076923076925,41.07692307692308,45.738461538461536,36.90769230769231,37.261538461538464,12.984615384615385,19.123076923076923,40.87692307692308,16.8,17.29230769230769,36.10769230769231,41.0,31.56923076923077,33.01538461538462,36.63076923076923,47.86153846153846,27.6,32.58461538461538,45.676923076923075,39.723076923076924,8.553846153846154,11.861538461538462,9.276923076923078,22.26153846153846,40.353846153846156,19.784615384615385]},\"mode\":\"markers\",\"name\":\"All\",\"text\":[\"Kareem Abdul-Jabbar* - LAL\",\"Tom Abernethy - GSW\",\"Alvan Adams - PHO\",\"Tiny Archibald* - BOS\",\"Dennis Awtrey - CHI\",\"James Bailey - SEA\",\"Greg Ballard - WSB\",\"Mike Bantom - IND\",\"Rick Barry* - HOU\",\"Kent Benson - MIL\",\"Kent Benson - DET\",\"Del Beshore - CHI\",\"Henry Bibby - PHI\",\"Larry Bird* - BOS\",\"Otis Birdsong - KCK\",\"Ron Boone - UTA\",\"Tom Boswell - DEN\",\"Tom Boswell - UTA\",\"Winford Boynes - NJN\",\"Dudley Bradley - IND\",\"Mike Bratz - PHO\",\"Jim Brewer - POR\",\"Ron Brewer - POR\",\"Junior Bridgeman - MIL\",\"Allan Bristow - UTA\",\"Fred Brown - SEA\",\"Joe Bryant - SDC\",\"Quinn Buckner - MIL\",\"Don Buse - PHO\",\"Mack Calvin - UTA\",\"Austin Carr - CLE\",\"Kenny Carr - CLE\",\"M.L. Carr - BOS\",\"Bill Cartwright - NYK\",\"Harvey Catchings - MIL\",\"Don Chaney - BOS\",\"Maurice Cheeks* - PHI\",\"Phil Chenier - WSB\",\"Jim Chones - LAL\",\"Jim Cleamons - WSB\",\"Doug Collins - PHI\",\"Jeff Cook - PHO\",\"Michael Cooper - LAL\",\"Wayne Cooper - GSW\",\"Hollis Copeland - NYK\",\"Dave Corzine - WSB\",\"Dave Cowens* - BOS\",\"Charlie Criss - ATL\",\"Pat Cummings - MIL\",\"Bob Dandridge* - WSB\",\"Adrian Dantley* - UTA\",\"Johnny Davis - IND\",\"Walter Davis - PHO\",\"Darryl Dawkins - PHI\",\"Paul Dawkins - UTA\",\"Larry Demic - NYK\",\"Coby Dietrick - CHI\",\"Leon Douglas - DET\",\"John Drew - ATL\",\"Terry Duerod - DET\",\"Mike Dunleavy - HOU\",\"T.R. Dunn - POR\",\"James Edwards - IND\",\"Bob Elliott - NJN\",\"Bo Ellis - DEN\",\"Len Elmore - KCK\",\"Alex English* - IND\",\"Alex English* - DEN\",\"Julius Erving* - PHI\",\"Mike Evans - SAS\",\"Eric Fernsten - BOS\",\"Chris Ford - BOS\",\"Don Ford - LAL\",\"Don Ford - CLE\",\"Phil Ford - KCK\",\"World B. Free - SDC\",\"Terry Furlow - ATL\",\"Terry Furlow - UTA\",\"Mike Gale - SAS\",\"Gary Garland - DEN\",\"Gus Gerard - KCK\",\"George Gervin* - SAS\",\"Artis Gilmore* - CHI\",\"Jack Givens - ATL\",\"Mike Glenn - NYK\",\"Glen Gondrezick - DEN\",\"Mike Green - KCK\",\"Dave Greenwood - CHI\",\"Kevin Grevey - WSB\",\"Paul Griffin - SAS\",\"Bob Gross - POR\",\"Ernie Grunfeld - KCK\",\"Roy Hamilton - DET\",\"James Hardy - UTA\",\"Joe Hassett - IND\",\"Steve Hawes - ATL\",\"Elvin Hayes* - WSB\",\"Spencer Haywood* - LAL\",\"Gar Heard - PHO\",\"Gerald Henderson - BOS\",\"Tom Henderson - HOU\",\"Johnny High - PHO\",\"Armond Hill - ATL\",\"Darnell Hillman - GSW\",\"Lionel Hollins - POR\",\"Lionel Hollins - PHI\",\"Phil Hubbard - DET\",\"Kim Hughes - DEN\",\"Geoff Huston - NYK\",\"Dan Issel* - DEN\",\"Abdul Jeelani - POR\",\"Clemon Johnson - IND\",\"Dennis Johnson* - SEA\",\"Eddie Johnson - ATL\",\"George Johnson - NJN\",\"George Johnson - DEN\",\"John Johnson - SEA\",\"Magic Johnson* - LAL\",\"Marques Johnson - MIL\",\"Mickey Johnson - IND\",\"Ollie Johnson - CHI\",\"Bobby Jones* - PHI\",\"Caldwell Jones - PHI\",\"Dwight Jones - CHI\",\"Major Jones - HOU\",\"Eddie Jordan - NJN\",\"Jeff Judkins - BOS\",\"Rich Kelley - NJN\",\"Greg Kelser - DET\",\"Larry Kenon - SAS\",\"Bernard King* - UTA\",\"Reggie King - KCK\",\"Billy Knight - IND\",\"Toby Knight - NYK\",\"Joel Kramer - PHO\",\"Mitch Kupchak - WSB\",\"Sam Lacey - KCK\",\"Tom LaGarde - SEA\",\"John Lambert - CLE\",\"Mark Landsberger - CHI\",\"Bob Lanier* - DET\",\"Bob Lanier* - MIL\",\"Allen Leavell - HOU\",\"Ron Lee - DET\",\"John Long - DET\",\"John Lucas - GSW\",\"Maurice Lucas - POR\",\"Maurice Lucas - NJN\",\"Ollie Mack - CHI\",\"Moses Malone* - HOU\",\"Pete Maravich* - UTA\",\"Pete Maravich* - BOS\",\"Cedric Maxwell - BOS\",\"Scott May - CHI\",\"Bob McAdoo* - DET\",\"Jim McElroy - DET\",\"Jim McElroy - ATL\",\"George McGinnis* - DEN\",\"George McGinnis* - IND\",\"Billy McKinney - KCK\",\"Tom McMillen - ATL\",\"Joe Meriweather - NYK\",\"Dave Meyers - MIL\",\"Mike Mitchell - CLE\",\"Steve Mix - PHI\",\"Sidney Moncrief* - MIL\",\"Eric Money - DET\",\"Earl Monroe* - NYK\",\"Calvin Murphy* - HOU\",\"Swen Nater - SDC\",\"Calvin Natt - NJN\",\"Calvin Natt - POR\",\"Mike Newlin - NJN\",\"Norm Nixon - LAL\",\"Mark Olberding - SAS\",\"Tom Owens - POR\",\"Robert Parish* - GSW\",\"Sonny Parker - GSW\",\"Billy Paultz - SAS\",\"Billy Paultz - HOU\",\"Jim Paxson - POR\",\"Wiley Peck - SAS\",\"Roger Phegley - WSB\",\"Roger Phegley - NJN\",\"Stan Pietkiewicz - SDC\",\"Ben Poquette - UTA\",\"Kevin Porter - WSB\",\"Clifford Ray - GSW\",\"Robert Reid - HOU\",\"Kevin Restani - SAS\",\"Clint Richardson - PHI\",\"Micheal Ray Richardson - NYK\",\"Anthony Roberts - DEN\",\"Rick Robey - BOS\",\"Cliff Robinson - NJN\",\"Truck Robinson - PHO\",\"Bill Robinzine - KCK\",\"Dave Robisch - CLE\",\"John Roche - DEN\",\"Tree Rollins - ATL\",\"Dan Roundfield - ATL\",\"Campy Russell - CLE\",\"Alvin Scott - PHO\",\"Charlie Scott* - DEN\",\"Lonnie Shelton - SEA\",\"Purvis Short - GSW\",\"John Shumate - SAS\",\"Jack Sikma* - SEA\",\"James Silas - SAS\",\"Paul Silas - SEA\",\"Bingo Smith - SDC\",\"Phil Smith - GSW\",\"Randy Smith - CLE\",\"Robert Smith - NJN\",\"Sam Smith - CHI\",\"Willie Smith - CLE\",\"Ricky Sobers - CHI\",\"Jim Spanarkel - PHI\",\"Larry Steele - POR\",\"Brian Taylor - SDC\",\"Reggie Theus - CHI\",\"David Thompson* - DEN\",\"Rudy Tomjanovich* - HOU\",\"Raymond Townsend - GSW\",\"Dave Twardzik - POR\",\"Terry Tyler - DET\",\"Wes Unseld* - WSB\",\"Jan van Breda Kolff - NJN\",\"Foots Walker - CLE\",\"Wally Walker - SEA\",\"Lloyd Walton - MIL\",\"Kermit Washington - POR\",\"Richard Washington - MIL\",\"Nick Weatherspoon - SDC\",\"Scott Wedman - KCK\",\"Paul Westphal* - PHO\",\"Jo Jo White* - GSW\",\"Sidney Wicks - SDC\",\"Bob Wilkerson - DEN\",\"Jamaal Wilkes* - LAL\",\"Duck Williams - UTA\",\"Freeman Williams - SDC\",\"Gus Williams - SEA\",\"Ray Williams - NYK\",\"Sly Williams - NYK\",\"John Williamson - NJN\",\"John Williamson - WSB\",\"Bill Willoughby - CLE\",\"Brian Winters - MIL\",\"Larry Wright - WSB\"],\"visible\":true,\"x\":[29.8,14.1,23.6,18.5,7.2,20.3,24.5,17.9,22.6,16.6,18.4,13.2,16.9,27.6,30.0,20.9,18.0,22.1,22.4,15.6,20.2,9.3,22.2,28.8,20.3,26.6,15.3,19.9,11.5,19.5,25.9,23.3,21.4,25.5,8.0,14.9,16.0,20.1,16.7,13.5,24.0,18.3,16.9,23.4,16.9,12.7,20.4,18.2,24.4,25.1,35.0,20.5,32.0,21.6,20.0,13.7,14.0,14.3,32.8,21.0,18.8,14.9,25.6,19.2,14.9,13.2,24.3,27.0,34.8,17.1,19.0,18.0,12.3,16.6,23.6,37.6,21.3,25.1,13.1,13.9,20.6,38.6,25.7,18.2,24.8,17.7,16.4,22.5,23.5,12.6,16.6,15.8,13.4,12.9,21.2,19.9,27.3,22.0,13.2,20.9,11.1,16.7,11.1,13.4,23.5,19.3,22.0,8.4,10.7,30.7,27.9,14.1,24.7,27.1,12.5,18.3,17.0,22.9,29.2,27.2,18.6,23.1,9.9,21.5,13.5,18.5,24.4,17.6,25.8,24.5,20.7,15.3,23.7,23.7,12.2,19.3,14.3,15.5,13.8,18.8,25.8,25.9,18.8,12.6,25.3,17.5,24.3,21.4,16.4,32.0,27.3,31.6,23.0,24.4,26.1,18.7,16.1,22.8,21.6,18.1,21.0,16.8,20.3,29.5,28.3,19.7,18.3,26.9,27.0,17.9,23.0,30.7,29.5,20.7,16.5,26.0,27.6,20.2,16.0,15.4,17.0,12.6,26.7,27.4,18.7,15.3,16.0,13.9,20.4,19.5,16.4,18.5,16.8,23.0,25.9,23.9,22.4,21.4,18.8,16.7,25.0,25.5,12.3,15.9,21.8,30.8,22.1,19.8,26.1,9.3,19.5,24.4,24.5,19.0,24.6,12.9,20.5,20.9,15.9,18.2,25.8,31.3,22.8,16.7,17.3,16.9,12.5,10.6,13.4,18.2,10.2,19.7,18.9,16.5,25.6,30.8,17.9,11.1,20.0,24.4,13.9,34.1,28.8,29.9,21.6,29.1,27.1,16.8,23.1,20.3],\"y\":[63.9,51.1,57.099999999999994,57.4,52.400000000000006,49.5,53.2,53.300000000000004,51.7,51.9,49.9,42.3,49.1,53.800000000000004,53.800000000000004,50.6,61.199999999999996,61.7,51.800000000000004,50.2,46.2,49.3,50.3,52.300000000000004,53.400000000000006,53.2,48.5,50.1,48.5,54.900000000000006,49.7,52.7,52.6,60.8,42.9,40.2,58.9,43.5,52.1,52.300000000000004,53.300000000000004,54.6,56.3,52.5,52.6,45.7,47.699999999999996,50.0,55.2,49.2,63.5,49.5,60.8,54.800000000000004,49.2,46.800000000000004,49.4,52.900000000000006,53.2,49.8,54.2,47.0,54.50000000000001,52.1,50.8,47.199999999999996,53.900000000000006,53.1,56.8,48.5,49.7,53.7,54.50000000000001,49.4,53.400000000000006,54.400000000000006,48.199999999999996,53.0,51.300000000000004,45.4,49.1,58.699999999999996,64.3,44.4,55.7,57.49999999999999,45.6,54.1,49.9,62.1,51.5,49.6,47.199999999999996,53.6,50.1,55.50000000000001,49.2,54.0,45.300000000000004,53.900000000000006,51.0,51.0,48.4,47.4,42.1,46.800000000000004,53.400000000000006,49.8,42.5,57.099999999999994,56.3,52.7,48.9,53.800000000000004,48.9,52.400000000000006,53.2,60.199999999999996,58.5,52.800000000000004,53.400000000000006,59.0,48.199999999999996,57.99999999999999,49.8,48.1,56.699999999999996,55.900000000000006,52.0,52.7,53.400000000000006,56.49999999999999,58.9,56.10000000000001,54.7,48.199999999999996,49.0,52.1,45.300000000000004,54.1,59.3,58.9,56.00000000000001,47.4,53.5,52.800000000000004,48.0,54.800000000000004,56.00000000000001,56.00000000000001,45.9,54.7,67.9,50.7,52.400000000000006,51.7,44.0,48.9,48.3,50.2,54.0,54.900000000000006,50.9,55.7,57.699999999999996,56.39999999999999,53.900000000000006,49.7,54.300000000000004,58.9,52.0,53.2,54.0,54.800000000000004,54.6,55.2,54.1,53.7,52.2,48.6,44.3,46.6,52.7,55.1,57.199999999999996,57.199999999999996,51.4,54.6,52.0,54.800000000000004,47.199999999999996,51.7,42.699999999999996,55.7,50.6,55.300000000000004,54.800000000000004,57.8,56.2,59.8,55.1,50.8,49.3,43.2,56.99999999999999,53.400000000000006,59.699999999999996,52.6,58.5,43.9,47.3,52.1,49.7,52.900000000000006,50.2,44.2,52.400000000000006,54.50000000000001,46.2,54.6,57.9,54.900000000000006,52.2,44.3,56.2,49.9,54.50000000000001,53.300000000000004,52.7,53.900000000000006,49.4,58.4,48.4,46.800000000000004,54.1,59.3,50.9,44.7,45.800000000000004,56.3,46.400000000000006,52.7,52.900000000000006,54.6,43.4,49.6,46.2,52.2,53.400000000000006,51.0],\"type\":\"scatter\"},{\"customdata\":[10.755064571339652,-1.0449354286603452,3.1550645713396506,1.3550645713396605,0.8550645713396534,7.055064571339649,1.6550645713396577,3.1550645713396506],\"hovertemplate\":\"<b>%{text}</b><br><i>Points per 100 Possesions</i>: %{x:.2f}<br>True Shooting: %{y} <br>Relative True Shooting: %{customdata:.2f}<extra></extra></br>\",\"marker\":{\"cmax\":67.9,\"cmin\":40.2,\"color\":[63.9,52.1,56.3,54.50000000000001,54.0,60.199999999999996,54.800000000000004,56.3],\"colorbar\":{\"title\":{\"text\":\"True Shooting\"}},\"colorscale\":[[0.0,\"#0d0887\"],[0.1111111111111111,\"#46039f\"],[0.2222222222222222,\"#7201a8\"],[0.3333333333333333,\"#9c179e\"],[0.4444444444444444,\"#bd3786\"],[0.5555555555555556,\"#d8576b\"],[0.6666666666666666,\"#ed7953\"],[0.7777777777777778,\"#fb9f3a\"],[0.8888888888888888,\"#fdca26\"],[1.0,\"#f0f921\"]],\"size\":[48.353846153846156,36.83076923076923,30.353846153846153,8.923076923076923,23.753846153846155,43.0,49.63076923076923,47.86153846153846]},\"mode\":\"markers\",\"name\":\"LAL\",\"text\":[\"Kareem Abdul-Jabbar* - LAL\",\"Jim Chones - LAL\",\"Michael Cooper - LAL\",\"Don Ford - LAL\",\"Spencer Haywood* - LAL\",\"Magic Johnson* - LAL\",\"Norm Nixon - LAL\",\"Jamaal Wilkes* - LAL\"],\"visible\":false,\"x\":[29.8,16.7,16.9,12.3,22.0,22.9,20.7,24.4],\"y\":[63.9,52.1,56.3,54.50000000000001,54.0,60.199999999999996,54.800000000000004,56.3],\"type\":\"scatter\"},{\"customdata\":[-2.044935428660345,-0.6449354286603466,-5.744935428660348,-0.3449354286603423,0.9550645713396548,0.5550645713396563,1.4550645713396548,0.2550645713396591,-1.0449354286603452,-8.84493542866035,-2.244935428660348],\"hovertemplate\":\"<b>%{text}</b><br><i>Points per 100 Possesions</i>: %{x:.2f}<br>True Shooting: %{y} <br>Relative True Shooting: %{customdata:.2f}<extra></extra></br>\",\"marker\":{\"cmax\":67.9,\"cmin\":40.2,\"color\":[51.1,52.5,47.4,52.800000000000004,54.1,53.7,54.6,53.400000000000006,52.1,44.3,50.9],\"colorbar\":{\"title\":{\"text\":\"True Shooting\"}},\"colorscale\":[[0.0,\"#0d0887\"],[0.1111111111111111,\"#46039f\"],[0.2222222222222222,\"#7201a8\"],[0.3333333333333333,\"#9c179e\"],[0.4444444444444444,\"#bd3786\"],[0.5555555555555556,\"#d8576b\"],[0.6666666666666666,\"#ed7953\"],[0.7777777777777778,\"#fb9f3a\"],[0.8888888888888888,\"#fdca26\"],[1.0,\"#f0f921\"]],\"size\":[18.8,27.4,10.892307692307693,42.50769230769231,32.6,43.83076923076923,25.892307692307693,25.16923076923077,23.876923076923077,17.83076923076923,31.56923076923077]},\"mode\":\"markers\",\"name\":\"GSW\",\"text\":[\"Tom Abernethy - GSW\",\"Wayne Cooper - GSW\",\"Darnell Hillman - GSW\",\"John Lucas - GSW\",\"Robert Parish* - GSW\",\"Sonny Parker - GSW\",\"Clifford Ray - GSW\",\"Purvis Short - GSW\",\"Phil Smith - GSW\",\"Raymond Townsend - GSW\",\"Jo Jo White* - GSW\"],\"visible\":false,\"x\":[14.1,23.4,13.4,17.5,27.6,20.2,13.9,30.8,24.4,16.7,17.9],\"y\":[51.1,52.5,47.4,52.800000000000004,54.1,53.7,54.6,53.400000000000006,52.1,44.3,50.9],\"type\":\"scatter\"},{\"customdata\":[3.9550645713396477,-6.944935428660344,-4.644935428660347,1.4550645713396548,7.655064571339651,-7.844935428660342,-2.1449354286603466,1.5550645713396563,2.1550645713396577,-3.8449354286603494,6.155064571339651],\"hovertemplate\":\"<b>%{text}</b><br><i>Points per 100 Possesions</i>: %{x:.2f}<br>True Shooting: %{y} <br>Relative True Shooting: %{customdata:.2f}<extra></extra></br>\",\"marker\":{\"cmax\":67.9,\"cmin\":40.2,\"color\":[57.099999999999994,46.2,48.5,54.6,60.8,45.300000000000004,51.0,54.7,55.300000000000004,49.3,59.3],\"colorbar\":{\"title\":{\"text\":\"True Shooting\"}},\"colorscale\":[[0.0,\"#0d0887\"],[0.1111111111111111,\"#46039f\"],[0.2222222222222222,\"#7201a8\"],[0.3333333333333333,\"#9c179e\"],[0.4444444444444444,\"#bd3786\"],[0.5555555555555556,\"#d8576b\"],[0.6666666666666666,\"#ed7953\"],[0.7777777777777778,\"#fb9f3a\"],[0.8888888888888888,\"#fdca26\"],[1.0,\"#f0f921\"]],\"size\":[33.353846153846156,24.446153846153845,38.44615384615385,13.907692307692308,35.52307692307692,21.584615384615386,17.246153846153845,10.938461538461539,41.69230769230769,20.046153846153846,41.0]},\"mode\":\"markers\",\"name\":\"PHO\",\"text\":[\"Alvan Adams - PHO\",\"Mike Bratz - PHO\",\"Don Buse - PHO\",\"Jeff Cook - PHO\",\"Walter Davis - PHO\",\"Gar Heard - PHO\",\"Johnny High - PHO\",\"Joel Kramer - PHO\",\"Truck Robinson - PHO\",\"Alvin Scott - PHO\",\"Paul Westphal* - PHO\"],\"visible\":false,\"x\":[23.6,20.2,11.5,18.3,32.0,13.2,16.7,12.2,23.9,12.3,30.8],\"y\":[57.099999999999994,46.2,48.5,54.6,60.8,45.300000000000004,51.0,54.7,55.300000000000004,49.3,59.3],\"type\":\"scatter\"},{\"customdata\":[4.255064571339652,0.6550645713396577,-0.5449354286603452,-12.944935428660344,-5.444935428660351,-3.4449354286603437,0.5550645713396563,0.7550645713396591,3.555064571339649,1.5550645713396563,14.755064571339659,2.5550645713396563],\"hovertemplate\":\"<b>%{text}</b><br><i>Points per 100 Possesions</i>: %{x:.2f}<br>True Shooting: %{y} <br>Relative True Shooting: %{customdata:.2f}<extra></extra></br>\",\"marker\":{\"cmax\":67.9,\"cmin\":40.2,\"color\":[57.4,53.800000000000004,52.6,40.2,47.699999999999996,49.7,53.7,53.900000000000006,56.699999999999996,54.7,67.9,55.7],\"colorbar\":{\"title\":{\"text\":\"True Shooting\"}},\"colorscale\":[[0.0,\"#0d0887\"],[0.1111111111111111,\"#46039f\"],[0.2222222222222222,\"#7201a8\"],[0.3333333333333333,\"#9c179e\"],[0.4444444444444444,\"#bd3786\"],[0.5555555555555556,\"#d8576b\"],[0.6666666666666666,\"#ed7953\"],[0.7777777777777778,\"#fb9f3a\"],[0.8888888888888888,\"#fdca26\"],[1.0,\"#f0f921\"]],\"size\":[44.06153846153846,45.46153846153846,30.676923076923078,8.046153846153846,33.215384615384615,6.630769230769231,32.53846153846154,16.323076923076922,10.36923076923077,6.8,42.215384615384615,29.50769230769231]},\"mode\":\"markers\",\"name\":\"BOS\",\"text\":[\"Tiny Archibald* - BOS\",\"Larry Bird* - BOS\",\"M.L. Carr - BOS\",\"Don Chaney - BOS\",\"Dave Cowens* - BOS\",\"Eric Fernsten - BOS\",\"Chris Ford - BOS\",\"Gerald Henderson - BOS\",\"Jeff Judkins - BOS\",\"Pete Maravich* - BOS\",\"Cedric Maxwell - BOS\",\"Rick Robey - BOS\"],\"visible\":false,\"x\":[18.5,27.6,21.4,14.9,20.4,19.0,18.0,20.9,24.4,31.6,23.0,23.0],\"y\":[57.4,53.800000000000004,52.6,40.2,47.699999999999996,49.7,53.7,53.900000000000006,56.699999999999996,54.7,67.9,55.7],\"type\":\"scatter\"},{\"customdata\":[-0.7449354286603409,-10.84493542866035,-3.744935428660348,11.15506457133965,0.9550645713396548,0.2550645713396591,4.855064571339646,0.9550645713396548,2.8550645713396605,-2.4449354286603437,-2.9449354286603437,-0.7449354286603409,4.755064571339652],\"hovertemplate\":\"<b>%{text}</b><br><i>Points per 100 Possesions</i>: %{x:.2f}<br>True Shooting: %{y} <br>Relative True Shooting: %{customdata:.2f}<extra></extra></br>\",\"marker\":{\"cmax\":67.9,\"cmin\":40.2,\"color\":[52.400000000000006,42.3,49.4,64.3,54.1,53.400000000000006,57.99999999999999,54.1,56.00000000000001,50.7,50.2,52.400000000000006,57.9],\"colorbar\":{\"title\":{\"text\":\"True Shooting\"}},\"colorscale\":[[0.0,\"#0d0887\"],[0.1111111111111111,\"#46039f\"],[0.2222222222222222,\"#7201a8\"],[0.3333333333333333,\"#9c179e\"],[0.4444444444444444,\"#bd3786\"],[0.5555555555555556,\"#d8576b\"],[0.6666666666666666,\"#ed7953\"],[0.7777777777777778,\"#fb9f3a\"],[0.8888888888888888,\"#fdca26\"],[1.0,\"#f0f921\"]],\"size\":[8.615384615384615,13.36923076923077,28.153846153846153,24.123076923076923,42.93846153846154,23.615384615384617,18.0,17.476923076923075,8.092307692307692,19.96923076923077,7.630769230769231,41.12307692307692,46.6]},\"mode\":\"markers\",\"name\":\"CHI\",\"text\":[\"Dennis Awtrey - CHI\",\"Del Beshore - CHI\",\"Coby Dietrick - CHI\",\"Artis Gilmore* - CHI\",\"Dave Greenwood - CHI\",\"Ollie Johnson - CHI\",\"Dwight Jones - CHI\",\"Mark Landsberger - CHI\",\"Ollie Mack - CHI\",\"Scott May - CHI\",\"Sam Smith - CHI\",\"Ricky Sobers - CHI\",\"Reggie Theus - CHI\"],\"visible\":false,\"x\":[7.2,13.2,14.0,25.7,22.5,18.6,21.5,18.8,16.4,24.4,24.6,20.5,25.8],\"y\":[52.400000000000006,42.3,49.4,64.3,54.1,53.400000000000006,57.99999999999999,54.1,56.00000000000001,50.7,50.2,52.400000000000006,57.9],\"type\":\"scatter\"},{\"customdata\":[-3.6449354286603466,0.055064571339656254,-4.244935428660348,0.055064571339656254,-1.0449354286603452,3.8550645713396463,-0.5449354286603452,-9.244935428660348,0.7550645713396591,-0.2449354286603409],\"hovertemplate\":\"<b>%{text}</b><br><i>Points per 100 Possesions</i>: %{x:.2f}<br>True Shooting: %{y} <br>Relative True Shooting: %{customdata:.2f}<extra></extra></br>\",\"marker\":{\"cmax\":67.9,\"cmin\":40.2,\"color\":[49.5,53.2,48.9,53.2,52.1,56.99999999999999,52.6,43.9,53.900000000000006,52.900000000000006],\"colorbar\":{\"title\":{\"text\":\"True Shooting\"}},\"colorscale\":[[0.0,\"#0d0887\"],[0.1111111111111111,\"#46039f\"],[0.2222222222222222,\"#7201a8\"],[0.3333333333333333,\"#9c179e\"],[0.4444444444444444,\"#bd3786\"],[0.5555555555555556,\"#d8576b\"],[0.6666666666666666,\"#ed7953\"],[0.7777777777777778,\"#fb9f3a\"],[0.8888888888888888,\"#fdca26\"],[1.0,\"#f0f921\"]],\"size\":[11.169230769230769,26.16923076923077,45.184615384615384,38.96923076923077,17.907692307692308,34.50769230769231,42.96923076923077,24.53846153846154,12.984615384615385,45.676923076923075]},\"mode\":\"markers\",\"name\":\"SEA\",\"text\":[\"James Bailey - SEA\",\"Fred Brown - SEA\",\"Dennis Johnson* - SEA\",\"John Johnson - SEA\",\"Tom LaGarde - SEA\",\"Lonnie Shelton - SEA\",\"Jack Sikma* - SEA\",\"Paul Silas - SEA\",\"Wally Walker - SEA\",\"Gus Williams - SEA\"],\"visible\":false,\"x\":[20.3,26.6,24.7,17.0,15.5,21.8,19.8,9.3,18.2,28.8],\"y\":[49.5,53.2,48.9,53.2,52.1,56.99999999999999,52.6,43.9,53.900000000000006,52.900000000000006],\"type\":\"scatter\"},{\"customdata\":[0.055064571339656254,-9.644935428660347,-0.8449354286603423,-7.444935428660344,-3.9449354286603437,-3.244935428660348,-3.9449354286603437,-4.944935428660351,-0.44493542866034375,-1.744935428660348,1.3550645713396605,-6.944935428660344,-2.1449354286603466],\"hovertemplate\":\"<b>%{text}</b><br><i>Points per 100 Possesions</i>: %{x:.2f}<br>True Shooting: %{y} <br>Relative True Shooting: %{customdata:.2f}<extra></extra></br>\",\"marker\":{\"cmax\":67.9,\"cmin\":40.2,\"color\":[53.2,43.5,52.300000000000004,45.7,49.2,49.9,49.2,48.199999999999996,52.7,51.4,54.50000000000001,46.2,51.0],\"colorbar\":{\"title\":{\"text\":\"True Shooting\"}},\"colorscale\":[[0.0,\"#0d0887\"],[0.1111111111111111,\"#46039f\"],[0.2222222222222222,\"#7201a8\"],[0.3333333333333333,\"#9c179e\"],[0.4444444444444444,\"#bd3786\"],[0.5555555555555556,\"#d8576b\"],[0.6666666666666666,\"#ed7953\"],[0.7777777777777778,\"#fb9f3a\"],[0.8888888888888888,\"#fdca26\"],[1.0,\"#f0f921\"]],\"size\":[37.50769230769231,7.230769230769231,23.615384615384617,12.707692307692307,22.415384615384614,27.96923076923077,48.96923076923077,6.938461538461539,14.938461538461539,22.984615384615385,45.738461538461536,9.276923076923078,19.784615384615385]},\"mode\":\"markers\",\"name\":\"WSB\",\"text\":[\"Greg Ballard - WSB\",\"Phil Chenier - WSB\",\"Jim Cleamons - WSB\",\"Dave Corzine - WSB\",\"Bob Dandridge* - WSB\",\"Kevin Grevey - WSB\",\"Elvin Hayes* - WSB\",\"Mitch Kupchak - WSB\",\"Roger Phegley - WSB\",\"Kevin Porter - WSB\",\"Wes Unseld* - WSB\",\"John Williamson - WSB\",\"Larry Wright - WSB\"],\"visible\":false,\"x\":[24.5,20.1,13.5,12.7,25.1,23.5,27.3,19.3,26.7,16.0,12.5,27.1,20.3],\"y\":[53.2,43.5,52.300000000000004,45.7,49.2,49.9,49.2,48.199999999999996,52.7,51.4,54.50000000000001,46.2,51.0],\"type\":\"scatter\"},{\"customdata\":[0.15506457133965768,-2.9449354286603437,-3.6449354286603466,1.3550645713396605,0.7550645713396591,-3.044935428660345,-0.44493542866034375,-0.3449354286603423,5.755064571339652,-4.844935428660349],\"hovertemplate\":\"<b>%{text}</b><br><i>Points per 100 Possesions</i>: %{x:.2f}<br>True Shooting: %{y} <br>Relative True Shooting: %{customdata:.2f}<extra></extra></br>\",\"marker\":{\"cmax\":67.9,\"cmin\":40.2,\"color\":[53.300000000000004,50.2,49.5,54.50000000000001,53.900000000000006,50.1,52.7,52.800000000000004,58.9,48.3],\"colorbar\":{\"title\":{\"text\":\"True Shooting\"}},\"colorscale\":[[0.0,\"#0d0887\"],[0.1111111111111111,\"#46039f\"],[0.2222222222222222,\"#7201a8\"],[0.3333333333333333,\"#9c179e\"],[0.4444444444444444,\"#bd3786\"],[0.5555555555555556,\"#d8576b\"],[0.6666666666666666,\"#ed7953\"],[0.7777777777777778,\"#fb9f3a\"],[0.8888888888888888,\"#fdca26\"],[1.0,\"#f0f921\"]],\"size\":[35.84615384615385,31.184615384615384,44.8,35.6,23.476923076923075,17.46153846153846,23.70769230769231,40.723076923076924,29.384615384615383,12.061538461538461]},\"mode\":\"markers\",\"name\":\"IND\",\"text\":[\"Mike Bantom - IND\",\"Dudley Bradley - IND\",\"Johnny Davis - IND\",\"James Edwards - IND\",\"Alex English* - IND\",\"Joe Hassett - IND\",\"Clemon Johnson - IND\",\"Mickey Johnson - IND\",\"Billy Knight - IND\",\"George McGinnis* - IND\"],\"visible\":false,\"x\":[17.9,15.6,20.5,25.6,24.3,21.2,14.1,27.2,23.7,21.6],\"y\":[53.300000000000004,50.2,49.5,54.50000000000001,53.900000000000006,50.1,52.7,52.800000000000004,58.9,48.3],\"type\":\"scatter\"},{\"customdata\":[-1.4449354286603437,1.0550645713396563,-2.1449354286603466,-3.3449354286603494,2.8550645713396605,2.8550645713396605,1.1550645713396577,-4.544935428660345,-1.1449354286603466,-0.9449354286603437],\"hovertemplate\":\"<b>%{text}</b><br><i>Points per 100 Possesions</i>: %{x:.2f}<br>True Shooting: %{y} <br>Relative True Shooting: %{customdata:.2f}<extra></extra></br>\",\"marker\":{\"cmax\":67.9,\"cmin\":40.2,\"color\":[51.7,54.2,51.0,49.8,56.00000000000001,56.00000000000001,54.300000000000004,48.6,52.0,52.2],\"colorbar\":{\"title\":{\"text\":\"True Shooting\"}},\"colorscale\":[[0.0,\"#0d0887\"],[0.1111111111111111,\"#46039f\"],[0.2222222222222222,\"#7201a8\"],[0.3333333333333333,\"#9c179e\"],[0.4444444444444444,\"#bd3786\"],[0.5555555555555556,\"#d8576b\"],[0.6666666666666666,\"#ed7953\"],[0.7777777777777778,\"#fb9f3a\"],[0.8888888888888888,\"#fdca26\"],[1.0,\"#f0f921\"]],\"size\":[27.93846153846154,15.938461538461539,23.861538461538462,23.76923076923077,32.66153846153846,48.30769230769231,41.16923076923077,15.076923076923077,35.44615384615385,28.215384615384615]},\"mode\":\"markers\",\"name\":\"HOU\",\"text\":[\"Rick Barry* - HOU\",\"Mike Dunleavy - HOU\",\"Tom Henderson - HOU\",\"Major Jones - HOU\",\"Allen Leavell - HOU\",\"Moses Malone* - HOU\",\"Calvin Murphy* - HOU\",\"Billy Paultz - HOU\",\"Robert Reid - HOU\",\"Rudy Tomjanovich* - HOU\"],\"visible\":false,\"x\":[22.6,18.8,11.1,13.5,18.8,32.0,27.0,15.4,20.4,22.8],\"y\":[51.7,54.2,51.0,49.8,56.00000000000001,56.00000000000001,54.300000000000004,48.6,52.0,52.2],\"type\":\"scatter\"},{\"customdata\":[-1.8449354286603423,-3.044935428660345,8.455064571339655,-0.5449354286603452,-10.044935428660345,-1.244935428660348,0.45506457133965483,-1.3449354286603423,-1.0449354286603452,-8.244935428660348,2.3550645713396605,3.4550645713396477,-0.2449354286603409,6.055064571339649,-9.644935428660347,-2.8449354286603494,-0.3449354286603423,-2.4449354286603437,-3.1449354286603466,-3.9449354286603437,-4.444935428660351,-0.04493542866034517,-0.7449354286603409,-2.4449354286603437,0.45506457133965483,6.255064571339652,-5.744935428660348,-0.8449354286603423,-4.444935428660351,-5.044935428660345],\"hovertemplate\":\"<b>%{text}</b><br><i>Points per 100 Possesions</i>: %{x:.2f}<br>True Shooting: %{y} <br>Relative True Shooting: %{customdata:.2f}<extra></extra></br>\",\"marker\":{\"cmax\":67.9,\"cmin\":40.2,\"color\":[51.300000000000004,50.1,61.6,52.6,43.1,51.9,53.6,51.800000000000004,52.1,44.9,55.50000000000001,56.599999999999994,52.900000000000006,59.199999999999996,43.5,50.3,52.800000000000004,50.7,50.0,49.2,48.699999999999996,53.1,52.400000000000006,50.7,53.6,59.4,47.4,52.300000000000004,48.699999999999996,48.1],\"colorbar\":{\"title\":{\"text\":\"True Shooting\"}},\"colorscale\":[[0.0,\"#0d0887\"],[0.1111111111111111,\"#46039f\"],[0.2222222222222222,\"#7201a8\"],[0.3333333333333333,\"#9c179e\"],[0.4444444444444444,\"#bd3786\"],[0.5555555555555556,\"#d8576b\"],[0.6666666666666666,\"#ed7953\"],[0.7777777777777778,\"#fb9f3a\"],[0.8888888888888888,\"#fdca26\"],[1.0,\"#f0f921\"]],\"size\":[29.092307692307692,36.8,31.953846153846154,28.276923076923076,13.076923076923077,27.523076923076925,36.93846153846154,15.36923076923077,32.646153846153844,18.6,22.276923076923076,28.29230769230769,23.23076923076923,32.784615384615385,17.953846153846154,28.984615384615385,10.476923076923077,6.846153846153846,14.830769230769231,23.50769230769231,33.96923076923077,23.83076923076923,43.95384615384615,33.738461538461536,23.26153846153846,20.56923076923077,32.66153846153846,12.446153846153846,8.507692307692308,21.138461538461538]},\"mode\":\"markers\",\"name\":\"TOT\",\"text\":[\"Kent Benson - TOT\",\"Ron Boone - TOT\",\"Tom Boswell - TOT\",\"Kenny Carr - TOT\",\"Phil Chenier - TOT\",\"Jim Cleamons - TOT\",\"Alex English* - TOT\",\"Don Ford - TOT\",\"Terry Furlow - TOT\",\"Lionel Hollins - TOT\",\"Dwight Jones - TOT\",\"Rich Kelley - TOT\",\"Mark Landsberger - TOT\",\"Bob Lanier* - TOT\",\"Ron Lee - TOT\",\"Maurice Lucas - TOT\",\"Ollie Mack - TOT\",\"Steve Malovic - TOT\",\"Pete Maravich* - TOT\",\"Jim McElroy - TOT\",\"George McGinnis* - TOT\",\"Eric Money - TOT\",\"Calvin Natt - TOT\",\"Billy Paultz - TOT\",\"Roger Phegley - TOT\",\"John Shumate - TOT\",\"Bingo Smith - TOT\",\"Robert Smith - TOT\",\"Jerome Whitehead - TOT\",\"John Williamson - TOT\"],\"visible\":false,\"x\":[17.1,20.6,21.0,23.0,17.8,13.5,25.3,14.1,24.4,20.7,21.5,17.3,19.1,25.8,11.5,23.2,16.1,8.3,29.4,17.9,22.4,18.2,25.1,15.8,26.9,19.4,19.9,18.3,11.0,28.2],\"y\":[51.300000000000004,50.1,61.6,52.6,43.1,51.9,53.6,51.800000000000004,52.1,44.9,55.50000000000001,56.599999999999994,52.900000000000006,59.199999999999996,43.5,50.3,52.800000000000004,50.7,50.0,49.2,48.699999999999996,53.1,52.400000000000006,50.7,53.6,59.4,47.4,52.300000000000004,48.699999999999996,48.1],\"type\":\"scatter\"},{\"customdata\":[-1.244935428660348,-0.8449354286603423,-3.044935428660345,-10.244935428660348,2.0550645713396563,5.355064571339653,5.755064571339652,-2.244935428660348,3.255064571339645,-3.744935428660348,-4.744935428660348,0.2550645713396591],\"hovertemplate\":\"<b>%{text}</b><br><i>Points per 100 Possesions</i>: %{x:.2f}<br>True Shooting: %{y} <br>Relative True Shooting: %{customdata:.2f}<extra></extra></br>\",\"marker\":{\"cmax\":67.9,\"cmin\":40.2,\"color\":[51.9,52.300000000000004,50.1,42.9,55.2,58.5,58.9,50.9,56.39999999999999,49.4,48.4,53.400000000000006],\"colorbar\":{\"title\":{\"text\":\"True Shooting\"}},\"colorscale\":[[0.0,\"#0d0887\"],[0.1111111111111111,\"#46039f\"],[0.2222222222222222,\"#7201a8\"],[0.3333333333333333,\"#9c179e\"],[0.4444444444444444,\"#bd3786\"],[0.5555555555555556,\"#d8576b\"],[0.6666666666666666,\"#ed7953\"],[0.7777777777777778,\"#fb9f3a\"],[0.8888888888888888,\"#fdca26\"],[1.0,\"#f0f921\"]],\"size\":[21.369230769230768,35.63076923076923,26.0,21.015384615384615,13.846153846153847,41.323076923076925,11.36923076923077,33.90769230769231,23.953846153846154,19.123076923076923,16.8,40.353846153846156]},\"mode\":\"markers\",\"name\":\"MIL\",\"text\":[\"Kent Benson - MIL\",\"Junior Bridgeman - MIL\",\"Quinn Buckner - MIL\",\"Harvey Catchings - MIL\",\"Pat Cummings - MIL\",\"Marques Johnson - MIL\",\"Bob Lanier* - MIL\",\"Dave Meyers - MIL\",\"Sidney Moncrief* - MIL\",\"Lloyd Walton - MIL\",\"Richard Washington - MIL\",\"Brian Winters - MIL\"],\"visible\":false,\"x\":[16.6,28.8,19.9,8.0,24.4,29.2,25.9,20.3,19.7,10.2,18.9,23.1],\"y\":[51.9,52.300000000000004,50.1,42.9,55.2,58.5,58.9,50.9,56.39999999999999,49.4,48.4,53.400000000000006],\"type\":\"scatter\"},{\"customdata\":[-3.244935428660348,-0.2449354286603409,-3.3449354286603494,-5.944935428660351,0.2550645713396591,-1.1449354286603466,6.155064571339651,-5.744935428660348,0.3550645713396534,-0.7449354286603409,-1.4449354286603437,0.7550645713396591,-3.244935428660348],\"hovertemplate\":\"<b>%{text}</b><br><i>Points per 100 Possesions</i>: %{x:.2f}<br>True Shooting: %{y} <br>Relative True Shooting: %{customdata:.2f}<extra></extra></br>\",\"marker\":{\"cmax\":67.9,\"cmin\":40.2,\"color\":[49.9,52.900000000000006,49.8,47.199999999999996,53.400000000000006,52.0,59.3,47.4,53.5,52.400000000000006,51.7,53.900000000000006,49.9],\"colorbar\":{\"title\":{\"text\":\"True Shooting\"}},\"colorscale\":[[0.0,\"#0d0887\"],[0.1111111111111111,\"#46039f\"],[0.2222222222222222,\"#7201a8\"],[0.3333333333333333,\"#9c179e\"],[0.4444444444444444,\"#bd3786\"],[0.5555555555555556,\"#d8576b\"],[0.6666666666666666,\"#ed7953\"],[0.7777777777777778,\"#fb9f3a\"],[0.8888888888888888,\"#fdca26\"],[1.0,\"#f0f921\"]],\"size\":[7.723076923076923,27.415384615384614,20.476923076923075,17.16923076923077,18.29230769230769,18.96923076923077,21.415384615384614,12.353846153846154,36.36923076923077,32.261538461538464,15.569230769230769,22.56923076923077,41.07692307692308]},\"mode\":\"markers\",\"name\":\"DET\",\"text\":[\"Kent Benson - DET\",\"Leon Douglas - DET\",\"Terry Duerod - DET\",\"Roy Hamilton - DET\",\"Phil Hubbard - DET\",\"Greg Kelser - DET\",\"Bob Lanier* - DET\",\"Ron Lee - DET\",\"John Long - DET\",\"Bob McAdoo* - DET\",\"Jim McElroy - DET\",\"Eric Money - DET\",\"Terry Tyler - DET\"],\"visible\":false,\"x\":[18.4,14.3,21.0,13.4,22.0,25.8,25.8,12.6,25.3,26.1,18.7,18.3,16.9],\"y\":[49.9,52.900000000000006,49.8,47.199999999999996,53.400000000000006,52.0,59.3,47.4,53.5,52.400000000000006,51.7,53.900000000000006,49.9],\"type\":\"scatter\"},{\"customdata\":[-4.044935428660345,5.755064571339652,0.15506457133965768,1.6550645713396577,3.6550645713396506,-6.344935428660342,5.855064571339653,-4.944935428660351,4.555064571339649,-5.944935428660351,1.3550645713396605],\"hovertemplate\":\"<b>%{text}</b><br><i>Points per 100 Possesions</i>: %{x:.2f}<br>True Shooting: %{y} <br>Relative True Shooting: %{customdata:.2f}<extra></extra></br>\",\"marker\":{\"cmax\":67.9,\"cmin\":40.2,\"color\":[49.1,58.9,53.300000000000004,54.800000000000004,56.8,46.800000000000004,59.0,48.199999999999996,57.699999999999996,47.199999999999996,54.50000000000001],\"colorbar\":{\"title\":{\"text\":\"True Shooting\"}},\"colorscale\":[[0.0,\"#0d0887\"],[0.1111111111111111,\"#46039f\"],[0.2222222222222222,\"#7201a8\"],[0.3333333333333333,\"#9c179e\"],[0.4444444444444444,\"#bd3786\"],[0.5555555555555556,\"#d8576b\"],[0.6666666666666666,\"#ed7953\"],[0.7777777777777778,\"#fb9f3a\"],[0.8888888888888888,\"#fdca26\"],[1.0,\"#f0f921\"]],\"size\":[31.307692307692307,40.353846153846156,14.815384615384616,39.09230769230769,43.261538461538464,12.246153846153845,32.69230769230769,42.63076923076923,23.73846153846154,15.2,6.8]},\"mode\":\"markers\",\"name\":\"PHI\",\"text\":[\"Henry Bibby - PHI\",\"Maurice Cheeks* - PHI\",\"Doug Collins - PHI\",\"Darryl Dawkins - PHI\",\"Julius Erving* - PHI\",\"Lionel Hollins - PHI\",\"Bobby Jones* - PHI\",\"Caldwell Jones - PHI\",\"Steve Mix - PHI\",\"Clint Richardson - PHI\",\"Jim Spanarkel - PHI\"],\"visible\":false,\"x\":[16.9,16.0,24.0,21.6,34.8,19.3,23.1,9.9,28.3,16.4,20.9],\"y\":[49.1,58.9,53.300000000000004,54.800000000000004,56.8,46.800000000000004,59.0,48.199999999999996,57.699999999999996,47.199999999999996,54.50000000000001],\"type\":\"scatter\"},{\"customdata\":[0.6550645713396577,-5.944935428660351,0.2550645713396591,-4.044935428660345,-7.544935428660345,-3.544935428660345,3.3550645713396463,-4.144935428660347,-2.9449354286603437,1.6550645713396577,0.9550645713396548],\"hovertemplate\":\"<b>%{text}</b><br><i>Points per 100 Possesions</i>: %{x:.2f}<br>True Shooting: %{y} <br>Relative True Shooting: %{customdata:.2f}<extra></extra></br>\",\"marker\":{\"cmax\":67.9,\"cmin\":40.2,\"color\":[53.800000000000004,47.199999999999996,53.400000000000006,49.1,45.6,49.6,56.49999999999999,49.0,50.2,54.800000000000004,54.1],\"colorbar\":{\"title\":{\"text\":\"True Shooting\"}},\"colorscale\":[[0.0,\"#0d0887\"],[0.1111111111111111,\"#46039f\"],[0.2222222222222222,\"#7201a8\"],[0.3333333333333333,\"#9c179e\"],[0.4444444444444444,\"#bd3786\"],[0.5555555555555556,\"#d8576b\"],[0.6666666666666666,\"#ed7953\"],[0.7777777777777778,\"#fb9f3a\"],[0.8888888888888888,\"#fdca26\"],[1.0,\"#f0f921\"]],\"size\":[44.38461538461539,14.076923076923077,40.323076923076925,13.36923076923077,7.061538461538461,21.49230769230769,31.56923076923077,37.10769230769231,20.50769230769231,29.49230769230769,36.10769230769231]},\"mode\":\"markers\",\"name\":\"KCK\",\"text\":[\"Otis Birdsong - KCK\",\"Len Elmore - KCK\",\"Phil Ford - KCK\",\"Gus Gerard - KCK\",\"Mike Green - KCK\",\"Ernie Grunfeld - KCK\",\"Reggie King - KCK\",\"Sam Lacey - KCK\",\"Billy McKinney - KCK\",\"Bill Robinzine - KCK\",\"Scott Wedman - KCK\"],\"visible\":false,\"x\":[30.0,13.2,23.6,20.6,16.4,15.8,15.3,14.3,18.1,22.4,25.6],\"y\":[53.800000000000004,47.199999999999996,53.400000000000006,49.1,45.6,49.6,56.49999999999999,49.0,50.2,54.800000000000004,54.1],\"type\":\"scatter\"},{\"customdata\":[-2.544935428660345,8.555064571339656,0.2550645713396591,1.755064571339659,10.355064571339653,-3.9449354286603437,-0.1449354286603466,0.45506457133965483,0.2550645713396591,-7.244935428660348,4.055064571339649,-6.744935428660341],\"hovertemplate\":\"<b>%{text}</b><br><i>Points per 100 Possesions</i>: %{x:.2f}<br>True Shooting: %{y} <br>Relative True Shooting: %{customdata:.2f}<extra></extra></br>\",\"marker\":{\"cmax\":67.9,\"cmin\":40.2,\"color\":[50.6,61.7,53.400000000000006,54.900000000000006,63.5,49.2,53.0,53.6,53.400000000000006,45.9,57.199999999999996,46.400000000000006],\"colorbar\":{\"title\":{\"text\":\"True Shooting\"}},\"colorscale\":[[0.0,\"#0d0887\"],[0.1111111111111111,\"#46039f\"],[0.2222222222222222,\"#7201a8\"],[0.3333333333333333,\"#9c179e\"],[0.4444444444444444,\"#bd3786\"],[0.5555555555555556,\"#d8576b\"],[0.6666666666666666,\"#ed7953\"],[0.7777777777777778,\"#fb9f3a\"],[0.8888888888888888,\"#fdca26\"],[1.0,\"#f0f921\"]],\"size\":[35.16923076923077,23.923076923076923,35.44615384615385,11.876923076923077,41.13846153846154,11.938461538461539,26.43076923076923,24.615384615384617,6.446153846153846,8.03076923076923,36.13846153846154,27.6]},\"mode\":\"markers\",\"name\":\"UTA\",\"text\":[\"Ron Boone - UTA\",\"Tom Boswell - UTA\",\"Allan Bristow - UTA\",\"Mack Calvin - UTA\",\"Adrian Dantley* - UTA\",\"Paul Dawkins - UTA\",\"Terry Furlow - UTA\",\"James Hardy - UTA\",\"Bernard King* - UTA\",\"Pete Maravich* - UTA\",\"Ben Poquette - UTA\",\"Duck Williams - UTA\"],\"visible\":false,\"x\":[20.9,22.1,20.3,19.5,35.0,20.0,25.1,12.9,20.7,27.3,15.3,13.9],\"y\":[50.6,61.7,53.400000000000006,54.900000000000006,63.5,49.2,53.0,53.6,53.400000000000006,45.9,57.199999999999996,46.400000000000006],\"type\":\"scatter\"},{\"customdata\":[8.05506457133965,-2.3449354286603494,-0.04493542866034517,-7.744935428660348,4.355064571339646,-3.3449354286603494,3.9550645713396477,-0.7449354286603409,-4.244935428660348,-10.44493542866035,3.0550645713396563,-9.944935428660344,1.755064571339659,-7.344935428660342],\"hovertemplate\":\"<b>%{text}</b><br><i>Points per 100 Possesions</i>: %{x:.2f}<br>True Shooting: %{y} <br>Relative True Shooting: %{customdata:.2f}<extra></extra></br>\",\"marker\":{\"cmax\":67.9,\"cmin\":40.2,\"color\":[61.199999999999996,50.8,53.1,45.4,57.49999999999999,49.8,57.099999999999994,52.400000000000006,48.9,42.699999999999996,56.2,43.2,54.900000000000006,45.800000000000004],\"colorbar\":{\"title\":{\"text\":\"True Shooting\"}},\"colorscale\":[[0.0,\"#0d0887\"],[0.1111111111111111,\"#46039f\"],[0.2222222222222222,\"#7201a8\"],[0.3333333333333333,\"#9c179e\"],[0.4444444444444444,\"#bd3786\"],[0.5555555555555556,\"#d8576b\"],[0.6666666666666666,\"#ed7953\"],[0.7777777777777778,\"#fb9f3a\"],[0.8888888888888888,\"#fdca26\"],[1.0,\"#f0f921\"]],\"size\":[8.03076923076923,7.723076923076923,13.461538461538462,17.015384615384615,15.692307692307692,18.584615384615386,45.2,29.815384615384616,21.907692307692308,7.476923076923077,35.16923076923077,28.615384615384617,19.06153846153846,36.63076923076923]},\"mode\":\"markers\",\"name\":\"DEN\",\"text\":[\"Tom Boswell - DEN\",\"Bo Ellis - DEN\",\"Alex English* - DEN\",\"Gary Garland - DEN\",\"Glen Gondrezick - DEN\",\"Kim Hughes - DEN\",\"Dan Issel* - DEN\",\"George Johnson - DEN\",\"George McGinnis* - DEN\",\"Anthony Roberts - DEN\",\"John Roche - DEN\",\"Charlie Scott* - DEN\",\"David Thompson* - DEN\",\"Bob Wilkerson - DEN\"],\"visible\":false,\"x\":[18.0,14.9,27.0,13.9,17.7,8.4,30.7,18.3,22.8,16.8,18.8,15.9,31.3,20.0],\"y\":[61.199999999999996,50.8,53.1,45.4,57.49999999999999,49.8,57.099999999999994,52.400000000000006,48.9,42.699999999999996,56.2,43.2,54.900000000000006,45.800000000000004],\"type\":\"scatter\"},{\"customdata\":[-1.3449354286603423,-1.0449354286603452,-4.244935428660348,-5.044935428660345,2.755064571339659,1.6550645713396577,-1.1449354286603466,0.8550645713396534,1.9550645713396548,-2.544935428660345,-0.2449354286603409,0.15506457133965768,-3.544935428660345],\"hovertemplate\":\"<b>%{text}</b><br><i>Points per 100 Possesions</i>: %{x:.2f}<br>True Shooting: %{y} <br>Relative True Shooting: %{customdata:.2f}<extra></extra></br>\",\"marker\":{\"cmax\":67.9,\"cmin\":40.2,\"color\":[51.800000000000004,52.1,48.9,48.1,55.900000000000006,54.800000000000004,52.0,54.0,55.1,50.6,52.900000000000006,53.300000000000004,49.6],\"colorbar\":{\"title\":{\"text\":\"True Shooting\"}},\"colorscale\":[[0.0,\"#0d0887\"],[0.1111111111111111,\"#46039f\"],[0.2222222222222222,\"#7201a8\"],[0.3333333333333333,\"#9c179e\"],[0.4444444444444444,\"#bd3786\"],[0.5555555555555556,\"#d8576b\"],[0.6666666666666666,\"#ed7953\"],[0.7777777777777778,\"#fb9f3a\"],[0.8888888888888888,\"#fdca26\"],[1.0,\"#f0f921\"]],\"size\":[16.953846153846154,11.107692307692307,32.6,40.87692307692308,22.553846153846155,10.892307692307693,31.476923076923075,38.61538461538461,8.323076923076924,25.553846153846155,11.323076923076924,36.90769230769231,11.861538461538462]},\"mode\":\"markers\",\"name\":\"NJN\",\"text\":[\"Winford Boynes - NJN\",\"Bob Elliott - NJN\",\"George Johnson - NJN\",\"Eddie Jordan - NJN\",\"Rich Kelley - NJN\",\"Maurice Lucas - NJN\",\"Calvin Natt - NJN\",\"Mike Newlin - NJN\",\"Roger Phegley - NJN\",\"Cliff Robinson - NJN\",\"Robert Smith - NJN\",\"Jan van Breda Kolff - NJN\",\"John Williamson - NJN\"],\"visible\":false,\"x\":[22.4,19.2,12.5,18.5,17.6,21.4,23.0,29.5,27.4,25.9,19.0,10.6,29.1],\"y\":[51.800000000000004,52.1,48.9,48.1,55.900000000000006,54.800000000000004,52.0,54.0,55.1,50.6,52.900000000000006,53.300000000000004,49.6],\"type\":\"scatter\"},{\"customdata\":[-3.8449354286603494,-2.8449354286603494,-6.144935428660347,-1.6449354286603466,-11.044935428660345,3.1550645713396506,-5.144935428660347,0.055064571339656254,2.0550645713396563,-8.84493542866035,-6.944935428660344,3.0550645713396563,5.255064571339652],\"hovertemplate\":\"<b>%{text}</b><br><i>Points per 100 Possesions</i>: %{x:.2f}<br>True Shooting: %{y} <br>Relative True Shooting: %{customdata:.2f}<extra></extra></br>\",\"marker\":{\"cmax\":67.9,\"cmin\":40.2,\"color\":[49.3,50.3,47.0,51.5,42.1,56.3,48.0,53.2,55.2,44.3,46.2,56.2,58.4],\"colorbar\":{\"title\":{\"text\":\"True Shooting\"}},\"colorscale\":[[0.0,\"#0d0887\"],[0.1111111111111111,\"#46039f\"],[0.2222222222222222,\"#7201a8\"],[0.3333333333333333,\"#9c179e\"],[0.4444444444444444,\"#bd3786\"],[0.5555555555555556,\"#d8576b\"],[0.6666666666666666,\"#ed7953\"],[0.7777777777777778,\"#fb9f3a\"],[0.8888888888888888,\"#fdca26\"],[1.0,\"#f0f921\"]],\"size\":[15.63076923076923,43.30769230769231,28.323076923076922,24.323076923076922,6.3538461538461535,19.784615384615385,18.092307692307692,12.476923076923077,35.95384615384615,19.53846153846154,6.861538461538461,24.523076923076925,40.87692307692308]},\"mode\":\"markers\",\"name\":\"POR\",\"text\":[\"Jim Brewer - POR\",\"Ron Brewer - POR\",\"T.R. Dunn - POR\",\"Bob Gross - POR\",\"Lionel Hollins - POR\",\"Abdul Jeelani - POR\",\"Maurice Lucas - POR\",\"Calvin Natt - POR\",\"Tom Owens - POR\",\"Jim Paxson - POR\",\"Larry Steele - POR\",\"Dave Twardzik - POR\",\"Kermit Washington - POR\"],\"visible\":false,\"x\":[9.3,22.2,14.9,16.6,23.5,27.9,24.3,30.7,26.0,17.0,15.9,17.3,19.7],\"y\":[49.3,50.3,47.0,51.5,42.1,56.3,48.0,53.2,55.2,44.3,46.2,56.2,58.4],\"type\":\"scatter\"},{\"customdata\":[-4.644935428660347,1.255064571339659,5.755064571339652,4.055064571339649,-5.844935428660349,1.4550645713396548,-6.344935428660342,-8.444935428660344,-0.44493542866034375],\"hovertemplate\":\"<b>%{text}</b><br><i>Points per 100 Possesions</i>: %{x:.2f}<br>True Shooting: %{y} <br>Relative True Shooting: %{customdata:.2f}<extra></extra></br>\",\"marker\":{\"cmax\":67.9,\"cmin\":40.2,\"color\":[48.5,54.400000000000006,58.9,57.199999999999996,47.3,54.6,46.800000000000004,44.7,52.7],\"colorbar\":{\"title\":{\"text\":\"True Shooting\"}},\"colorscale\":[[0.0,\"#0d0887\"],[0.1111111111111111,\"#46039f\"],[0.2222222222222222,\"#7201a8\"],[0.3333333333333333,\"#9c179e\"],[0.4444444444444444,\"#bd3786\"],[0.5555555555555556,\"#d8576b\"],[0.6666666666666666,\"#ed7953\"],[0.7777777777777778,\"#fb9f3a\"],[0.8888888888888888,\"#fdca26\"],[1.0,\"#f0f921\"]],\"size\":[35.815384615384616,39.76923076923077,44.0,8.876923076923077,30.584615384615386,42.36923076923077,17.29230769230769,33.01538461538462,32.58461538461538]},\"mode\":\"markers\",\"name\":\"SDC\",\"text\":[\"Joe Bryant - SDC\",\"World B. Free - SDC\",\"Swen Nater - SDC\",\"Stan Pietkiewicz - SDC\",\"Bingo Smith - SDC\",\"Brian Taylor - SDC\",\"Nick Weatherspoon - SDC\",\"Sidney Wicks - SDC\",\"Freeman Williams - SDC\"],\"visible\":false,\"x\":[15.3,37.6,17.9,18.7,19.5,18.2,16.5,11.1,34.1],\"y\":[48.5,54.400000000000006,58.9,57.199999999999996,47.3,54.6,46.800000000000004,44.7,52.7],\"type\":\"scatter\"},{\"customdata\":[-3.4449354286603437,-0.44493542866034375,-3.744935428660348,-7.844935428660342,2.5550645713396563,4.655064571339651,-2.3449354286603494,-3.4449354286603437,-8.944935428660344,-0.44493542866034375,-0.9449354286603437],\"hovertemplate\":\"<b>%{text}</b><br><i>Points per 100 Possesions</i>: %{x:.2f}<br>True Shooting: %{y} <br>Relative True Shooting: %{customdata:.2f}<extra></extra></br>\",\"marker\":{\"cmax\":67.9,\"cmin\":40.2,\"color\":[49.7,52.7,49.4,45.300000000000004,55.7,57.8,50.8,49.7,44.2,52.7,52.2],\"colorbar\":{\"title\":{\"text\":\"True Shooting\"}},\"colorscale\":[[0.0,\"#0d0887\"],[0.1111111111111111,\"#46039f\"],[0.2222222222222222,\"#7201a8\"],[0.3333333333333333,\"#9c179e\"],[0.4444444444444444,\"#bd3786\"],[0.5555555555555556,\"#d8576b\"],[0.6666666666666666,\"#ed7953\"],[0.7777777777777778,\"#fb9f3a\"],[0.8888888888888888,\"#fdca26\"],[1.0,\"#f0f921\"]],\"size\":[24.53846153846154,27.4,6.446153846153846,20.369230769230768,43.10769230769231,41.07692307692308,20.476923076923075,41.184615384615384,16.16923076923077,37.261538461538464,22.26153846153846]},\"mode\":\"markers\",\"name\":\"CLE\",\"text\":[\"Austin Carr - CLE\",\"Kenny Carr - CLE\",\"Don Ford - CLE\",\"John Lambert - CLE\",\"Mike Mitchell - CLE\",\"Dave Robisch - CLE\",\"Campy Russell - CLE\",\"Randy Smith - CLE\",\"Willie Smith - CLE\",\"Foots Walker - CLE\",\"Bill Willoughby - CLE\"],\"visible\":false,\"x\":[25.9,23.3,16.6,13.8,29.5,21.4,25.5,24.5,12.9,13.4,16.8],\"y\":[49.7,52.7,49.4,45.300000000000004,55.7,57.8,50.8,49.7,44.2,52.7,52.2],\"type\":\"scatter\"},{\"customdata\":[7.655064571339651,-0.5449354286603452,-6.344935428660342,2.5550645713396563,-10.644935428660347,2.955064571339662,1.755064571339659,-3.4449354286603437,-1.4449354286603437,1.4550645713396548,-9.744935428660348],\"hovertemplate\":\"<b>%{text}</b><br><i>Points per 100 Possesions</i>: %{x:.2f}<br>True Shooting: %{y} <br>Relative True Shooting: %{customdata:.2f}<extra></extra></br>\",\"marker\":{\"cmax\":67.9,\"cmin\":40.2,\"color\":[60.8,52.6,46.800000000000004,55.7,42.5,56.10000000000001,54.900000000000006,49.7,51.7,54.6,43.4],\"colorbar\":{\"title\":{\"text\":\"True Shooting\"}},\"colorscale\":[[0.0,\"#0d0887\"],[0.1111111111111111,\"#46039f\"],[0.2222222222222222,\"#7201a8\"],[0.3333333333333333,\"#9c179e\"],[0.4444444444444444,\"#bd3786\"],[0.5555555555555556,\"#d8576b\"],[0.6666666666666666,\"#ed7953\"],[0.7777777777777778,\"#fb9f3a\"],[0.8888888888888888,\"#fdca26\"],[1.0,\"#f0f921\"]],\"size\":[48.46153846153846,17.56923076923077,28.8,12.307692307692308,14.2,45.30769230769231,24.076923076923077,9.738461538461538,47.07692307692308,39.723076923076924,8.553846153846154]},\"mode\":\"markers\",\"name\":\"NYK\",\"text\":[\"Bill Cartwright - NYK\",\"Hollis Copeland - NYK\",\"Larry Demic - NYK\",\"Mike Glenn - NYK\",\"Geoff Huston - NYK\",\"Toby Knight - NYK\",\"Joe Meriweather - NYK\",\"Earl Monroe* - NYK\",\"Micheal Ray Richardson - NYK\",\"Ray Williams - NYK\",\"Sly Williams - NYK\"],\"visible\":false,\"x\":[25.5,16.9,13.7,24.8,10.7,23.7,16.8,26.9,18.5,29.9,21.6],\"y\":[60.8,52.6,46.800000000000004,55.7,42.5,56.10000000000001,54.900000000000006,49.7,51.7,54.6,43.4],\"type\":\"scatter\"},{\"customdata\":[-3.1449354286603466,0.055064571339656254,-4.944935428660351,-8.744935428660348,2.3550645713396605,-4.744935428660348,0.6550645713396577,-9.144935428660347,0.8550645713396534,6.655064571339651,1.9550645713396548],\"hovertemplate\":\"<b>%{text}</b><br><i>Points per 100 Possesions</i>: %{x:.2f}<br>True Shooting: %{y} <br>Relative True Shooting: %{customdata:.2f}<extra></extra></br>\",\"marker\":{\"cmax\":67.9,\"cmin\":40.2,\"color\":[50.0,53.2,48.199999999999996,44.4,55.50000000000001,48.4,53.800000000000004,44.0,54.0,59.8,55.1],\"colorbar\":{\"title\":{\"text\":\"True Shooting\"}},\"colorscale\":[[0.0,\"#0d0887\"],[0.1111111111111111,\"#46039f\"],[0.2222222222222222,\"#7201a8\"],[0.3333333333333333,\"#9c179e\"],[0.4444444444444444,\"#bd3786\"],[0.5555555555555556,\"#d8576b\"],[0.6666666666666666,\"#ed7953\"],[0.7777777777777778,\"#fb9f3a\"],[0.8888888888888888,\"#fdca26\"],[1.0,\"#f0f921\"]],\"size\":[27.6,35.47692307692308,6.2153846153846155,19.29230769230769,28.50769230769231,32.184615384615384,40.33846153846154,7.938461538461539,16.476923076923075,32.66153846153846,39.815384615384616]},\"mode\":\"markers\",\"name\":\"ATL\",\"text\":[\"Charlie Criss - ATL\",\"John Drew - ATL\",\"Terry Furlow - ATL\",\"Jack Givens - ATL\",\"Steve Hawes - ATL\",\"Armond Hill - ATL\",\"Eddie Johnson - ATL\",\"Jim McElroy - ATL\",\"Tom McMillen - ATL\",\"Tree Rollins - ATL\",\"Dan Roundfield - ATL\"],\"visible\":false,\"x\":[18.2,32.8,21.3,18.2,19.9,11.1,27.1,16.1,21.0,16.7,25.0],\"y\":[50.0,53.2,48.199999999999996,44.4,55.50000000000001,48.4,53.800000000000004,44.0,54.0,59.8,55.1],\"type\":\"scatter\"},{\"customdata\":[-4.644935428660347,-1.8449354286603423,5.555064571339649,8.955064571339655,-0.44493542866034375,1.4550645713396548,-0.9449354286603437,-6.544935428660345,1.6550645713396577,6.555064571339649,5.355064571339653],\"hovertemplate\":\"<b>%{text}</b><br><i>Points per 100 Possesions</i>: %{x:.2f}<br>True Shooting: %{y} <br>Relative True Shooting: %{customdata:.2f}<extra></extra></br>\",\"marker\":{\"cmax\":67.9,\"cmin\":40.2,\"color\":[48.5,51.300000000000004,58.699999999999996,62.1,52.7,54.6,52.2,46.6,54.800000000000004,59.699999999999996,58.5],\"colorbar\":{\"title\":{\"text\":\"True Shooting\"}},\"colorscale\":[[0.0,\"#0d0887\"],[0.1111111111111111,\"#46039f\"],[0.2222222222222222,\"#7201a8\"],[0.3333333333333333,\"#9c179e\"],[0.4444444444444444,\"#bd3786\"],[0.5555555555555556,\"#d8576b\"],[0.6666666666666666,\"#ed7953\"],[0.7777777777777778,\"#fb9f3a\"],[0.8888888888888888,\"#fdca26\"],[1.0,\"#f0f921\"]],\"size\":[19.16923076923077,22.676923076923078,45.13846153846154,27.876923076923077,43.04615384615385,32.47692307692308,18.661538461538463,9.661538461538461,30.246153846153845,11.953846153846154,35.276923076923076]},\"mode\":\"markers\",\"name\":\"SAS\",\"text\":[\"Mike Evans - SAS\",\"Mike Gale - SAS\",\"George Gervin* - SAS\",\"Paul Griffin - SAS\",\"Larry Kenon - SAS\",\"Mark Olberding - SAS\",\"Billy Paultz - SAS\",\"Wiley Peck - SAS\",\"Kevin Restani - SAS\",\"John Shumate - SAS\",\"James Silas - SAS\"],\"visible\":false,\"x\":[17.1,13.1,38.6,12.6,24.5,16.5,16.0,12.6,19.5,22.1,26.1],\"y\":[48.5,51.300000000000004,58.699999999999996,62.1,52.7,54.6,52.2,46.6,54.800000000000004,59.699999999999996,58.5],\"type\":\"scatter\"}],                        {\"template\":{\"data\":{\"histogram2dcontour\":[{\"type\":\"histogram2dcontour\",\"colorbar\":{\"outlinewidth\":0,\"ticks\":\"\"},\"colorscale\":[[0.0,\"#0d0887\"],[0.1111111111111111,\"#46039f\"],[0.2222222222222222,\"#7201a8\"],[0.3333333333333333,\"#9c179e\"],[0.4444444444444444,\"#bd3786\"],[0.5555555555555556,\"#d8576b\"],[0.6666666666666666,\"#ed7953\"],[0.7777777777777778,\"#fb9f3a\"],[0.8888888888888888,\"#fdca26\"],[1.0,\"#f0f921\"]]}],\"choropleth\":[{\"type\":\"choropleth\",\"colorbar\":{\"outlinewidth\":0,\"ticks\":\"\"}}],\"histogram2d\":[{\"type\":\"histogram2d\",\"colorbar\":{\"outlinewidth\":0,\"ticks\":\"\"},\"colorscale\":[[0.0,\"#0d0887\"],[0.1111111111111111,\"#46039f\"],[0.2222222222222222,\"#7201a8\"],[0.3333333333333333,\"#9c179e\"],[0.4444444444444444,\"#bd3786\"],[0.5555555555555556,\"#d8576b\"],[0.6666666666666666,\"#ed7953\"],[0.7777777777777778,\"#fb9f3a\"],[0.8888888888888888,\"#fdca26\"],[1.0,\"#f0f921\"]]}],\"heatmap\":[{\"type\":\"heatmap\",\"colorbar\":{\"outlinewidth\":0,\"ticks\":\"\"},\"colorscale\":[[0.0,\"#0d0887\"],[0.1111111111111111,\"#46039f\"],[0.2222222222222222,\"#7201a8\"],[0.3333333333333333,\"#9c179e\"],[0.4444444444444444,\"#bd3786\"],[0.5555555555555556,\"#d8576b\"],[0.6666666666666666,\"#ed7953\"],[0.7777777777777778,\"#fb9f3a\"],[0.8888888888888888,\"#fdca26\"],[1.0,\"#f0f921\"]]}],\"heatmapgl\":[{\"type\":\"heatmapgl\",\"colorbar\":{\"outlinewidth\":0,\"ticks\":\"\"},\"colorscale\":[[0.0,\"#0d0887\"],[0.1111111111111111,\"#46039f\"],[0.2222222222222222,\"#7201a8\"],[0.3333333333333333,\"#9c179e\"],[0.4444444444444444,\"#bd3786\"],[0.5555555555555556,\"#d8576b\"],[0.6666666666666666,\"#ed7953\"],[0.7777777777777778,\"#fb9f3a\"],[0.8888888888888888,\"#fdca26\"],[1.0,\"#f0f921\"]]}],\"contourcarpet\":[{\"type\":\"contourcarpet\",\"colorbar\":{\"outlinewidth\":0,\"ticks\":\"\"}}],\"contour\":[{\"type\":\"contour\",\"colorbar\":{\"outlinewidth\":0,\"ticks\":\"\"},\"colorscale\":[[0.0,\"#0d0887\"],[0.1111111111111111,\"#46039f\"],[0.2222222222222222,\"#7201a8\"],[0.3333333333333333,\"#9c179e\"],[0.4444444444444444,\"#bd3786\"],[0.5555555555555556,\"#d8576b\"],[0.6666666666666666,\"#ed7953\"],[0.7777777777777778,\"#fb9f3a\"],[0.8888888888888888,\"#fdca26\"],[1.0,\"#f0f921\"]]}],\"surface\":[{\"type\":\"surface\",\"colorbar\":{\"outlinewidth\":0,\"ticks\":\"\"},\"colorscale\":[[0.0,\"#0d0887\"],[0.1111111111111111,\"#46039f\"],[0.2222222222222222,\"#7201a8\"],[0.3333333333333333,\"#9c179e\"],[0.4444444444444444,\"#bd3786\"],[0.5555555555555556,\"#d8576b\"],[0.6666666666666666,\"#ed7953\"],[0.7777777777777778,\"#fb9f3a\"],[0.8888888888888888,\"#fdca26\"],[1.0,\"#f0f921\"]]}],\"mesh3d\":[{\"type\":\"mesh3d\",\"colorbar\":{\"outlinewidth\":0,\"ticks\":\"\"}}],\"scatter\":[{\"fillpattern\":{\"fillmode\":\"overlay\",\"size\":10,\"solidity\":0.2},\"type\":\"scatter\"}],\"parcoords\":[{\"type\":\"parcoords\",\"line\":{\"colorbar\":{\"outlinewidth\":0,\"ticks\":\"\"}}}],\"scatterpolargl\":[{\"type\":\"scatterpolargl\",\"marker\":{\"colorbar\":{\"outlinewidth\":0,\"ticks\":\"\"}}}],\"bar\":[{\"error_x\":{\"color\":\"#2a3f5f\"},\"error_y\":{\"color\":\"#2a3f5f\"},\"marker\":{\"line\":{\"color\":\"#E5ECF6\",\"width\":0.5},\"pattern\":{\"fillmode\":\"overlay\",\"size\":10,\"solidity\":0.2}},\"type\":\"bar\"}],\"scattergeo\":[{\"type\":\"scattergeo\",\"marker\":{\"colorbar\":{\"outlinewidth\":0,\"ticks\":\"\"}}}],\"scatterpolar\":[{\"type\":\"scatterpolar\",\"marker\":{\"colorbar\":{\"outlinewidth\":0,\"ticks\":\"\"}}}],\"histogram\":[{\"marker\":{\"pattern\":{\"fillmode\":\"overlay\",\"size\":10,\"solidity\":0.2}},\"type\":\"histogram\"}],\"scattergl\":[{\"type\":\"scattergl\",\"marker\":{\"colorbar\":{\"outlinewidth\":0,\"ticks\":\"\"}}}],\"scatter3d\":[{\"type\":\"scatter3d\",\"line\":{\"colorbar\":{\"outlinewidth\":0,\"ticks\":\"\"}},\"marker\":{\"colorbar\":{\"outlinewidth\":0,\"ticks\":\"\"}}}],\"scattermapbox\":[{\"type\":\"scattermapbox\",\"marker\":{\"colorbar\":{\"outlinewidth\":0,\"ticks\":\"\"}}}],\"scatterternary\":[{\"type\":\"scatterternary\",\"marker\":{\"colorbar\":{\"outlinewidth\":0,\"ticks\":\"\"}}}],\"scattercarpet\":[{\"type\":\"scattercarpet\",\"marker\":{\"colorbar\":{\"outlinewidth\":0,\"ticks\":\"\"}}}],\"carpet\":[{\"aaxis\":{\"endlinecolor\":\"#2a3f5f\",\"gridcolor\":\"white\",\"linecolor\":\"white\",\"minorgridcolor\":\"white\",\"startlinecolor\":\"#2a3f5f\"},\"baxis\":{\"endlinecolor\":\"#2a3f5f\",\"gridcolor\":\"white\",\"linecolor\":\"white\",\"minorgridcolor\":\"white\",\"startlinecolor\":\"#2a3f5f\"},\"type\":\"carpet\"}],\"table\":[{\"cells\":{\"fill\":{\"color\":\"#EBF0F8\"},\"line\":{\"color\":\"white\"}},\"header\":{\"fill\":{\"color\":\"#C8D4E3\"},\"line\":{\"color\":\"white\"}},\"type\":\"table\"}],\"barpolar\":[{\"marker\":{\"line\":{\"color\":\"#E5ECF6\",\"width\":0.5},\"pattern\":{\"fillmode\":\"overlay\",\"size\":10,\"solidity\":0.2}},\"type\":\"barpolar\"}],\"pie\":[{\"automargin\":true,\"type\":\"pie\"}]},\"layout\":{\"autotypenumbers\":\"strict\",\"colorway\":[\"#636efa\",\"#EF553B\",\"#00cc96\",\"#ab63fa\",\"#FFA15A\",\"#19d3f3\",\"#FF6692\",\"#B6E880\",\"#FF97FF\",\"#FECB52\"],\"font\":{\"color\":\"#2a3f5f\"},\"hovermode\":\"closest\",\"hoverlabel\":{\"align\":\"left\"},\"paper_bgcolor\":\"white\",\"plot_bgcolor\":\"#E5ECF6\",\"polar\":{\"bgcolor\":\"#E5ECF6\",\"angularaxis\":{\"gridcolor\":\"white\",\"linecolor\":\"white\",\"ticks\":\"\"},\"radialaxis\":{\"gridcolor\":\"white\",\"linecolor\":\"white\",\"ticks\":\"\"}},\"ternary\":{\"bgcolor\":\"#E5ECF6\",\"aaxis\":{\"gridcolor\":\"white\",\"linecolor\":\"white\",\"ticks\":\"\"},\"baxis\":{\"gridcolor\":\"white\",\"linecolor\":\"white\",\"ticks\":\"\"},\"caxis\":{\"gridcolor\":\"white\",\"linecolor\":\"white\",\"ticks\":\"\"}},\"coloraxis\":{\"colorbar\":{\"outlinewidth\":0,\"ticks\":\"\"}},\"colorscale\":{\"sequential\":[[0.0,\"#0d0887\"],[0.1111111111111111,\"#46039f\"],[0.2222222222222222,\"#7201a8\"],[0.3333333333333333,\"#9c179e\"],[0.4444444444444444,\"#bd3786\"],[0.5555555555555556,\"#d8576b\"],[0.6666666666666666,\"#ed7953\"],[0.7777777777777778,\"#fb9f3a\"],[0.8888888888888888,\"#fdca26\"],[1.0,\"#f0f921\"]],\"sequentialminus\":[[0.0,\"#0d0887\"],[0.1111111111111111,\"#46039f\"],[0.2222222222222222,\"#7201a8\"],[0.3333333333333333,\"#9c179e\"],[0.4444444444444444,\"#bd3786\"],[0.5555555555555556,\"#d8576b\"],[0.6666666666666666,\"#ed7953\"],[0.7777777777777778,\"#fb9f3a\"],[0.8888888888888888,\"#fdca26\"],[1.0,\"#f0f921\"]],\"diverging\":[[0,\"#8e0152\"],[0.1,\"#c51b7d\"],[0.2,\"#de77ae\"],[0.3,\"#f1b6da\"],[0.4,\"#fde0ef\"],[0.5,\"#f7f7f7\"],[0.6,\"#e6f5d0\"],[0.7,\"#b8e186\"],[0.8,\"#7fbc41\"],[0.9,\"#4d9221\"],[1,\"#276419\"]]},\"xaxis\":{\"gridcolor\":\"white\",\"linecolor\":\"white\",\"ticks\":\"\",\"title\":{\"standoff\":15},\"zerolinecolor\":\"white\",\"automargin\":true,\"zerolinewidth\":2},\"yaxis\":{\"gridcolor\":\"white\",\"linecolor\":\"white\",\"ticks\":\"\",\"title\":{\"standoff\":15},\"zerolinecolor\":\"white\",\"automargin\":true,\"zerolinewidth\":2},\"scene\":{\"xaxis\":{\"backgroundcolor\":\"#E5ECF6\",\"gridcolor\":\"white\",\"linecolor\":\"white\",\"showbackground\":true,\"ticks\":\"\",\"zerolinecolor\":\"white\",\"gridwidth\":2},\"yaxis\":{\"backgroundcolor\":\"#E5ECF6\",\"gridcolor\":\"white\",\"linecolor\":\"white\",\"showbackground\":true,\"ticks\":\"\",\"zerolinecolor\":\"white\",\"gridwidth\":2},\"zaxis\":{\"backgroundcolor\":\"#E5ECF6\",\"gridcolor\":\"white\",\"linecolor\":\"white\",\"showbackground\":true,\"ticks\":\"\",\"zerolinecolor\":\"white\",\"gridwidth\":2}},\"shapedefaults\":{\"line\":{\"color\":\"#2a3f5f\"}},\"annotationdefaults\":{\"arrowcolor\":\"#2a3f5f\",\"arrowhead\":0,\"arrowwidth\":1},\"geo\":{\"bgcolor\":\"white\",\"landcolor\":\"#E5ECF6\",\"subunitcolor\":\"white\",\"showland\":true,\"showlakes\":true,\"lakecolor\":\"white\"},\"title\":{\"x\":0.05},\"mapbox\":{\"style\":\"light\"}}},\"title\":{\"text\":\"1980 Season\",\"y\":0.95,\"x\":0.5,\"xanchor\":\"center\",\"yanchor\":\"top\"},\"font\":{\"size\":15},\"updatemenus\":[{\"active\":0,\"buttons\":[{\"args\":[{\"visible\":[true,false,false,false,false,false,false,false,false,false,false,false,false,false,false,false,false,false,false,false,false,false,false,false]},{\"title\":\"All\",\"showlegend\":false}],\"label\":\"all_teams\",\"method\":\"update\"},{\"args\":[{\"visible\":[false,true,false,false,false,false,false,false,false,false,false,false,false,false,false,false,false,false,false,false,false,false,false,false]},{\"title\":\"1980 LAL\",\"showlegend\":false}],\"label\":\"LAL\",\"method\":\"update\"},{\"args\":[{\"visible\":[false,false,true,false,false,false,false,false,false,false,false,false,false,false,false,false,false,false,false,false,false,false,false,false]},{\"title\":\"1980 GSW\",\"showlegend\":false}],\"label\":\"GSW\",\"method\":\"update\"},{\"args\":[{\"visible\":[false,false,false,true,false,false,false,false,false,false,false,false,false,false,false,false,false,false,false,false,false,false,false,false]},{\"title\":\"1980 PHO\",\"showlegend\":false}],\"label\":\"PHO\",\"method\":\"update\"},{\"args\":[{\"visible\":[false,false,false,false,true,false,false,false,false,false,false,false,false,false,false,false,false,false,false,false,false,false,false,false]},{\"title\":\"1980 BOS\",\"showlegend\":false}],\"label\":\"BOS\",\"method\":\"update\"},{\"args\":[{\"visible\":[false,false,false,false,false,true,false,false,false,false,false,false,false,false,false,false,false,false,false,false,false,false,false,false]},{\"title\":\"1980 CHI\",\"showlegend\":false}],\"label\":\"CHI\",\"method\":\"update\"},{\"args\":[{\"visible\":[false,false,false,false,false,false,true,false,false,false,false,false,false,false,false,false,false,false,false,false,false,false,false,false]},{\"title\":\"1980 SEA\",\"showlegend\":false}],\"label\":\"SEA\",\"method\":\"update\"},{\"args\":[{\"visible\":[false,false,false,false,false,false,false,true,false,false,false,false,false,false,false,false,false,false,false,false,false,false,false,false]},{\"title\":\"1980 WSB\",\"showlegend\":false}],\"label\":\"WSB\",\"method\":\"update\"},{\"args\":[{\"visible\":[false,false,false,false,false,false,false,false,true,false,false,false,false,false,false,false,false,false,false,false,false,false,false,false]},{\"title\":\"1980 IND\",\"showlegend\":false}],\"label\":\"IND\",\"method\":\"update\"},{\"args\":[{\"visible\":[false,false,false,false,false,false,false,false,false,true,false,false,false,false,false,false,false,false,false,false,false,false,false,false]},{\"title\":\"1980 HOU\",\"showlegend\":false}],\"label\":\"HOU\",\"method\":\"update\"},{\"args\":[{\"visible\":[false,false,false,false,false,false,false,false,false,false,true,false,false,false,false,false,false,false,false,false,false,false,false,false]},{\"title\":\"1980 TOT\",\"showlegend\":false}],\"label\":\"TOT\",\"method\":\"update\"},{\"args\":[{\"visible\":[false,false,false,false,false,false,false,false,false,false,false,true,false,false,false,false,false,false,false,false,false,false,false,false]},{\"title\":\"1980 MIL\",\"showlegend\":false}],\"label\":\"MIL\",\"method\":\"update\"},{\"args\":[{\"visible\":[false,false,false,false,false,false,false,false,false,false,false,false,true,false,false,false,false,false,false,false,false,false,false,false]},{\"title\":\"1980 DET\",\"showlegend\":false}],\"label\":\"DET\",\"method\":\"update\"},{\"args\":[{\"visible\":[false,false,false,false,false,false,false,false,false,false,false,false,false,true,false,false,false,false,false,false,false,false,false,false]},{\"title\":\"1980 PHI\",\"showlegend\":false}],\"label\":\"PHI\",\"method\":\"update\"},{\"args\":[{\"visible\":[false,false,false,false,false,false,false,false,false,false,false,false,false,false,true,false,false,false,false,false,false,false,false,false]},{\"title\":\"1980 KCK\",\"showlegend\":false}],\"label\":\"KCK\",\"method\":\"update\"},{\"args\":[{\"visible\":[false,false,false,false,false,false,false,false,false,false,false,false,false,false,false,true,false,false,false,false,false,false,false,false]},{\"title\":\"1980 UTA\",\"showlegend\":false}],\"label\":\"UTA\",\"method\":\"update\"},{\"args\":[{\"visible\":[false,false,false,false,false,false,false,false,false,false,false,false,false,false,false,false,true,false,false,false,false,false,false,false]},{\"title\":\"1980 DEN\",\"showlegend\":false}],\"label\":\"DEN\",\"method\":\"update\"},{\"args\":[{\"visible\":[false,false,false,false,false,false,false,false,false,false,false,false,false,false,false,false,false,true,false,false,false,false,false,false]},{\"title\":\"1980 NJN\",\"showlegend\":false}],\"label\":\"NJN\",\"method\":\"update\"},{\"args\":[{\"visible\":[false,false,false,false,false,false,false,false,false,false,false,false,false,false,false,false,false,false,true,false,false,false,false,false]},{\"title\":\"1980 POR\",\"showlegend\":false}],\"label\":\"POR\",\"method\":\"update\"},{\"args\":[{\"visible\":[false,false,false,false,false,false,false,false,false,false,false,false,false,false,false,false,false,false,false,true,false,false,false,false]},{\"title\":\"1980 SDC\",\"showlegend\":false}],\"label\":\"SDC\",\"method\":\"update\"},{\"args\":[{\"visible\":[false,false,false,false,false,false,false,false,false,false,false,false,false,false,false,false,false,false,false,false,true,false,false,false]},{\"title\":\"1980 CLE\",\"showlegend\":false}],\"label\":\"CLE\",\"method\":\"update\"},{\"args\":[{\"visible\":[false,false,false,false,false,false,false,false,false,false,false,false,false,false,false,false,false,false,false,false,false,true,false,false]},{\"title\":\"1980 NYK\",\"showlegend\":false}],\"label\":\"NYK\",\"method\":\"update\"},{\"args\":[{\"visible\":[false,false,false,false,false,false,false,false,false,false,false,false,false,false,false,false,false,false,false,false,false,false,true,false]},{\"title\":\"1980 ATL\",\"showlegend\":false}],\"label\":\"ATL\",\"method\":\"update\"},{\"args\":[{\"visible\":[false,false,false,false,false,false,false,false,false,false,false,false,false,false,false,false,false,false,false,false,false,false,false,true]},{\"title\":\"1980 SAS\",\"showlegend\":false}],\"label\":\"SAS\",\"method\":\"update\"}],\"direction\":\"down\",\"pad\":{\"r\":10,\"t\":10},\"showactive\":true}],\"autosize\":false,\"width\":1000,\"height\":800,\"showlegend\":false,\"yaxis\":{\"range\":[37,69],\"tickvals\":[37,42,47,52,57,62,67]},\"xaxis\":{\"range\":[0,50],\"title\":{\"text\":\"Points per 100 Possesions\"},\"tickvals\":[5,10,15,20,25,30,35,40,45]},\"shapes\":[{\"type\":\"line\",\"x0\":0,\"x1\":1,\"xref\":\"x domain\",\"y0\":53.14493542866035,\"y1\":53.14493542866035,\"yref\":\"y\"}]},                        {\"responsive\": true}                    ).then(function(){\n",
       "                            \n",
       "var gd = document.getElementById('da1286a3-911d-4021-9b54-7b85dfc9f071');\n",
       "var x = new MutationObserver(function (mutations, observer) {{\n",
       "        var display = window.getComputedStyle(gd).display;\n",
       "        if (!display || display === 'none') {{\n",
       "            console.log([gd, 'removed!']);\n",
       "            Plotly.purge(gd);\n",
       "            observer.disconnect();\n",
       "        }}\n",
       "}});\n",
       "\n",
       "// Listen for the removal of the full notebook cells\n",
       "var notebookContainer = gd.closest('#notebook-container');\n",
       "if (notebookContainer) {{\n",
       "    x.observe(notebookContainer, {childList: true});\n",
       "}}\n",
       "\n",
       "// Listen for the clearing of the current output cell\n",
       "var outputEl = gd.closest('.output');\n",
       "if (outputEl) {{\n",
       "    x.observe(outputEl, {childList: true});\n",
       "}}\n",
       "\n",
       "                        })                };                });            </script>        </div>"
      ]
     },
     "metadata": {},
     "output_type": "display_data"
    }
   ],
   "source": [
    "fig = season_graph(df,1980,seasons[1980]*100)\n",
    "fig.show()"
   ]
  },
  {
   "cell_type": "code",
   "execution_count": 20,
   "id": "ac45fcbb-4e1b-41c2-b22b-a4a530a93042",
   "metadata": {},
   "outputs": [],
   "source": [
    "#fig.write_html(\"index.html\")"
   ]
  },
  {
   "cell_type": "code",
   "execution_count": null,
   "id": "a270029f-11b4-4063-9365-8b7ea57a9f18",
   "metadata": {},
   "outputs": [],
   "source": [
    "\n",
    "app = JupyterDash(__name__)\n",
    "app.layout = html.Div(children=[\n",
    "    html.H1(children='Scoring by Year', style={'text-align': 'center'}),\n",
    "    html.Div(children='Player Scoring vs Player Efficiency', style={'text-align': 'center'}),\n",
    "\n",
    "    html.Div([\n",
    "        html.Label(['Choose a season:'],style={'font-weight': 'bold'}),\n",
    "        dcc.Dropdown(\n",
    "            id='dropdown',\n",
    "            options=options,\n",
    "                \n",
    "            value=start_year,\n",
    "            style={\"width\": \"60%\"}),\n",
    "        \n",
    "    html.Div(dcc.Graph(id='graph')),        \n",
    "        ]),\n",
    "\n",
    "])\n",
    "\n",
    "@app.callback(\n",
    "    Output('graph', 'figure'),\n",
    "    [Input(component_id='dropdown', component_property='value')]\n",
    ")\n",
    "\n",
    "def update_output(value):\n",
    "\n",
    "    t_num = options.index(value)\n",
    "    fig = season_graph(tables[t_num],value,seasons[value]* 100)\n",
    "    return fig\n",
    "\n",
    "\n",
    "# Run app and display result inline in the notebook\n",
    "if __name__ == '__main__':\n",
    "    app.run_server(debug=True)"
   ]
  },
  {
   "cell_type": "code",
   "execution_count": null,
   "id": "32d88e51-b3dc-44f3-a13b-0a1e5eafe1c1",
   "metadata": {},
   "outputs": [],
   "source": []
  },
  {
   "cell_type": "code",
   "execution_count": null,
   "id": "ec4412e2-6786-43ef-9bdf-77ceb5cc45ca",
   "metadata": {},
   "outputs": [],
   "source": []
  }
 ],
 "metadata": {
  "kernelspec": {
   "display_name": "Python 3",
   "language": "python",
   "name": "python3"
  },
  "language_info": {
   "codemirror_mode": {
    "name": "ipython",
    "version": 3
   },
   "file_extension": ".py",
   "mimetype": "text/x-python",
   "name": "python",
   "nbconvert_exporter": "python",
   "pygments_lexer": "ipython3",
   "version": "3.8.8"
  }
 },
 "nbformat": 4,
 "nbformat_minor": 5
}
